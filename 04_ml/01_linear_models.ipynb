{
 "cells": [
  {
   "cell_type": "markdown",
   "id": "e23e1516-6e75-4e85-bf5b-0011204c6bf9",
   "metadata": {},
   "source": [
    "# Linear Models"
   ]
  },
  {
   "cell_type": "markdown",
   "id": "8ad67dba-80ad-46c5-ade5-7ce6464e9f6c",
   "metadata": {},
   "source": [
    "## Import libraries"
   ]
  },
  {
   "cell_type": "code",
   "execution_count": 1,
   "id": "3681443e-92b0-4ae8-86c1-bfea2e150d20",
   "metadata": {},
   "outputs": [],
   "source": [
    "#!pip install matplotlib seaborn scikit-learn"
   ]
  },
  {
   "cell_type": "code",
   "execution_count": 2,
   "id": "68a96dd2-7683-418d-bff2-7b13d50a9765",
   "metadata": {},
   "outputs": [],
   "source": [
    "import numpy as np\n",
    "import pandas as pd\n",
    "from matplotlib import pyplot as plt\n",
    "import seaborn as sns\n",
    "from sklearn.linear_model import LinearRegression\n",
    "from sklearn.metrics import mean_absolute_error, mean_squared_error\n",
    "\n",
    "import warnings\n",
    "warnings.filterwarnings('ignore')"
   ]
  },
  {
   "cell_type": "code",
   "execution_count": 3,
   "id": "c4490738-d320-4fd6-b131-75b67212e4b6",
   "metadata": {},
   "outputs": [
    {
     "name": "stdout",
     "output_type": "stream",
     "text": [
      "(datetime.date(2022, 2, 1), datetime.date(2022, 1, 31), 'android', 'f7411212fd0e2523e126cbfdd3f226c211212', '4beb10e1-aeeb-4c52-acd2-ce1ddbc1fc24b10e1', 22, 11, 3, 0, 0, 0, 2, 2, 0, 0, 0, 0, 0, 0)\n"
     ]
    }
   ],
   "source": [
    "from clickhouse_driver import Client\n",
    "\n",
    "\n",
    "user_name = 'user_name'\n",
    "pwd = 'password'\n",
    "\n",
    "# creating connection ClickHouse\n",
    "client = Client(host='clickhouse.lab.karpov.courses', port=9000,\n",
    "                user=user_name, password=pwd, database='hardda')\n",
    "\n",
    "# checking connection\n",
    "result = client.execute(\"SELECT * FROM hardda.user_dm_events LIMIT 1\")\n",
    "\n",
    "# showing the result\n",
    "for row in result[0:1]:\n",
    "    print(row)"
   ]
  },
  {
   "cell_type": "markdown",
   "id": "b6e6fc11-f7c5-4ada-a6de-eda65591c0aa",
   "metadata": {},
   "source": [
    "## Tasks"
   ]
  },
  {
   "cell_type": "markdown",
   "id": "7c334d62-e699-49c4-bb27-367395721dfd",
   "metadata": {},
   "source": [
    "### Task 1."
   ]
  },
  {
   "cell_type": "markdown",
   "id": "dcb63d57-d2f7-4948-9b43-92b2ac608650",
   "metadata": {},
   "source": [
    " **Write an SQL query to load the data for all available payment_date dates for transactions of types (`'basic sale'`, `'fast sale'`, `'quick sale'`). Group -sum(amount) by the payment_date field. Note that amount in the table is negative, since money is debited from the account, so we multiply by -1.**"
   ]
  },
  {
   "cell_type": "code",
   "execution_count": 4,
   "id": "ecfd8e77-0567-4eac-a56f-554f30e520b6",
   "metadata": {},
   "outputs": [],
   "source": [
    "query = '''\n",
    "SELECT \n",
    "  payment_date, \n",
    "  -SUM(amount)\n",
    "FROM \n",
    "  user_transactions\n",
    "WHERE \n",
    "  type IN ('basic sale', 'fast sale', 'quick sale')\n",
    "GROUP BY \n",
    "  payment_date\n",
    "'''"
   ]
  },
  {
   "cell_type": "code",
   "execution_count": 5,
   "id": "79f55eb9-3a10-4e28-8ad7-fc757a3dfc4c",
   "metadata": {},
   "outputs": [],
   "source": [
    "result = client.execute(query)"
   ]
  },
  {
   "cell_type": "code",
   "execution_count": 6,
   "id": "696ddd1c-e229-4578-9a7c-707005ed4af8",
   "metadata": {},
   "outputs": [
    {
     "data": {
      "text/plain": [
       "511"
      ]
     },
     "execution_count": 6,
     "metadata": {},
     "output_type": "execute_result"
    }
   ],
   "source": [
    "len(result)"
   ]
  },
  {
   "cell_type": "code",
   "execution_count": 7,
   "id": "bd243faf-3421-4046-9ab1-c788dc95035e",
   "metadata": {},
   "outputs": [
    {
     "data": {
      "text/html": [
       "<div>\n",
       "<style scoped>\n",
       "    .dataframe tbody tr th:only-of-type {\n",
       "        vertical-align: middle;\n",
       "    }\n",
       "\n",
       "    .dataframe tbody tr th {\n",
       "        vertical-align: top;\n",
       "    }\n",
       "\n",
       "    .dataframe thead th {\n",
       "        text-align: right;\n",
       "    }\n",
       "</style>\n",
       "<table border=\"1\" class=\"dataframe\">\n",
       "  <thead>\n",
       "    <tr style=\"text-align: right;\">\n",
       "      <th></th>\n",
       "      <th>payment_date</th>\n",
       "      <th>volume</th>\n",
       "    </tr>\n",
       "  </thead>\n",
       "  <tbody>\n",
       "    <tr>\n",
       "      <th>0</th>\n",
       "      <td>2021-02-02</td>\n",
       "      <td>3396867</td>\n",
       "    </tr>\n",
       "    <tr>\n",
       "      <th>1</th>\n",
       "      <td>2021-02-03</td>\n",
       "      <td>3504675</td>\n",
       "    </tr>\n",
       "    <tr>\n",
       "      <th>2</th>\n",
       "      <td>2021-02-04</td>\n",
       "      <td>3321098</td>\n",
       "    </tr>\n",
       "    <tr>\n",
       "      <th>3</th>\n",
       "      <td>2021-02-05</td>\n",
       "      <td>3317318</td>\n",
       "    </tr>\n",
       "    <tr>\n",
       "      <th>4</th>\n",
       "      <td>2021-02-06</td>\n",
       "      <td>2763316</td>\n",
       "    </tr>\n",
       "    <tr>\n",
       "      <th>...</th>\n",
       "      <td>...</td>\n",
       "      <td>...</td>\n",
       "    </tr>\n",
       "    <tr>\n",
       "      <th>506</th>\n",
       "      <td>2023-01-27</td>\n",
       "      <td>7606314</td>\n",
       "    </tr>\n",
       "    <tr>\n",
       "      <th>507</th>\n",
       "      <td>2023-01-28</td>\n",
       "      <td>6243591</td>\n",
       "    </tr>\n",
       "    <tr>\n",
       "      <th>508</th>\n",
       "      <td>2023-01-29</td>\n",
       "      <td>6866600</td>\n",
       "    </tr>\n",
       "    <tr>\n",
       "      <th>509</th>\n",
       "      <td>2023-01-30</td>\n",
       "      <td>8337223</td>\n",
       "    </tr>\n",
       "    <tr>\n",
       "      <th>510</th>\n",
       "      <td>2023-01-31</td>\n",
       "      <td>8643241</td>\n",
       "    </tr>\n",
       "  </tbody>\n",
       "</table>\n",
       "<p>511 rows × 2 columns</p>\n",
       "</div>"
      ],
      "text/plain": [
       "    payment_date   volume\n",
       "0     2021-02-02  3396867\n",
       "1     2021-02-03  3504675\n",
       "2     2021-02-04  3321098\n",
       "3     2021-02-05  3317318\n",
       "4     2021-02-06  2763316\n",
       "..           ...      ...\n",
       "506   2023-01-27  7606314\n",
       "507   2023-01-28  6243591\n",
       "508   2023-01-29  6866600\n",
       "509   2023-01-30  8337223\n",
       "510   2023-01-31  8643241\n",
       "\n",
       "[511 rows x 2 columns]"
      ]
     },
     "execution_count": 7,
     "metadata": {},
     "output_type": "execute_result"
    }
   ],
   "source": [
    "df = pd.DataFrame(result, columns=['payment_date', 'volume'])\n",
    "\n",
    "df"
   ]
  },
  {
   "cell_type": "code",
   "execution_count": 8,
   "id": "e95035ac-c272-43ad-80c9-104287bc87a0",
   "metadata": {},
   "outputs": [
    {
     "name": "stdout",
     "output_type": "stream",
     "text": [
      "<class 'pandas.core.frame.DataFrame'>\n",
      "RangeIndex: 511 entries, 0 to 510\n",
      "Data columns (total 2 columns):\n",
      " #   Column        Non-Null Count  Dtype \n",
      "---  ------        --------------  ----- \n",
      " 0   payment_date  511 non-null    object\n",
      " 1   volume        511 non-null    int64 \n",
      "dtypes: int64(1), object(1)\n",
      "memory usage: 8.1+ KB\n"
     ]
    }
   ],
   "source": [
    "df.info()"
   ]
  },
  {
   "cell_type": "code",
   "execution_count": 9,
   "id": "9090da25-50b3-4740-8381-0d2ad9d12c2e",
   "metadata": {},
   "outputs": [],
   "source": [
    "df['payment_date'] = pd.to_datetime(df['payment_date'], format='%Y-%m-%d')"
   ]
  },
  {
   "cell_type": "code",
   "execution_count": 10,
   "id": "5a4f5670-c34b-49cb-9a14-ea25a694a29e",
   "metadata": {},
   "outputs": [],
   "source": [
    "df = df.sort_values('payment_date').reset_index(drop=True)"
   ]
  },
  {
   "cell_type": "code",
   "execution_count": 11,
   "id": "6747a966-593f-4199-b60e-c7ce789beaed",
   "metadata": {},
   "outputs": [
    {
     "data": {
      "text/html": [
       "<div>\n",
       "<style scoped>\n",
       "    .dataframe tbody tr th:only-of-type {\n",
       "        vertical-align: middle;\n",
       "    }\n",
       "\n",
       "    .dataframe tbody tr th {\n",
       "        vertical-align: top;\n",
       "    }\n",
       "\n",
       "    .dataframe thead th {\n",
       "        text-align: right;\n",
       "    }\n",
       "</style>\n",
       "<table border=\"1\" class=\"dataframe\">\n",
       "  <thead>\n",
       "    <tr style=\"text-align: right;\">\n",
       "      <th></th>\n",
       "      <th>payment_date</th>\n",
       "      <th>volume</th>\n",
       "    </tr>\n",
       "  </thead>\n",
       "  <tbody>\n",
       "    <tr>\n",
       "      <th>0</th>\n",
       "      <td>2021-02-02</td>\n",
       "      <td>3396867</td>\n",
       "    </tr>\n",
       "    <tr>\n",
       "      <th>1</th>\n",
       "      <td>2021-02-03</td>\n",
       "      <td>3504675</td>\n",
       "    </tr>\n",
       "    <tr>\n",
       "      <th>2</th>\n",
       "      <td>2021-02-04</td>\n",
       "      <td>3321098</td>\n",
       "    </tr>\n",
       "    <tr>\n",
       "      <th>3</th>\n",
       "      <td>2021-02-05</td>\n",
       "      <td>3317318</td>\n",
       "    </tr>\n",
       "    <tr>\n",
       "      <th>4</th>\n",
       "      <td>2021-02-06</td>\n",
       "      <td>2763316</td>\n",
       "    </tr>\n",
       "    <tr>\n",
       "      <th>...</th>\n",
       "      <td>...</td>\n",
       "      <td>...</td>\n",
       "    </tr>\n",
       "    <tr>\n",
       "      <th>506</th>\n",
       "      <td>2023-01-27</td>\n",
       "      <td>7606314</td>\n",
       "    </tr>\n",
       "    <tr>\n",
       "      <th>507</th>\n",
       "      <td>2023-01-28</td>\n",
       "      <td>6243591</td>\n",
       "    </tr>\n",
       "    <tr>\n",
       "      <th>508</th>\n",
       "      <td>2023-01-29</td>\n",
       "      <td>6866600</td>\n",
       "    </tr>\n",
       "    <tr>\n",
       "      <th>509</th>\n",
       "      <td>2023-01-30</td>\n",
       "      <td>8337223</td>\n",
       "    </tr>\n",
       "    <tr>\n",
       "      <th>510</th>\n",
       "      <td>2023-01-31</td>\n",
       "      <td>8643241</td>\n",
       "    </tr>\n",
       "  </tbody>\n",
       "</table>\n",
       "<p>511 rows × 2 columns</p>\n",
       "</div>"
      ],
      "text/plain": [
       "    payment_date   volume\n",
       "0     2021-02-02  3396867\n",
       "1     2021-02-03  3504675\n",
       "2     2021-02-04  3321098\n",
       "3     2021-02-05  3317318\n",
       "4     2021-02-06  2763316\n",
       "..           ...      ...\n",
       "506   2023-01-27  7606314\n",
       "507   2023-01-28  6243591\n",
       "508   2023-01-29  6866600\n",
       "509   2023-01-30  8337223\n",
       "510   2023-01-31  8643241\n",
       "\n",
       "[511 rows x 2 columns]"
      ]
     },
     "execution_count": 11,
     "metadata": {},
     "output_type": "execute_result"
    }
   ],
   "source": [
    "df"
   ]
  },
  {
   "cell_type": "markdown",
   "id": "5b8d579b-aca2-43b5-b167-675ed3a0e1e6",
   "metadata": {},
   "source": [
    "Checking for missing dates. "
   ]
  },
  {
   "cell_type": "code",
   "execution_count": 12,
   "id": "fa83607d-8a3c-49d5-876e-7fd548fabbd4",
   "metadata": {},
   "outputs": [
    {
     "data": {
      "text/plain": [
       "Timedelta('1 days 10:15:31.764705882')"
      ]
     },
     "execution_count": 12,
     "metadata": {},
     "output_type": "execute_result"
    }
   ],
   "source": [
    "(df.payment_date - df.payment_date.shift(1)).mean()"
   ]
  },
  {
   "cell_type": "markdown",
   "id": "4b8f996f-e35f-4524-b5b2-0bf4ad0d2fd1",
   "metadata": {},
   "source": [
    "We can see that there are some missing dates in our dataset. And we have to fix it. "
   ]
  },
  {
   "cell_type": "code",
   "execution_count": 13,
   "id": "4e5a8f2f-d3f6-4152-915b-a3b62badb17f",
   "metadata": {},
   "outputs": [],
   "source": [
    "date_range = pd.date_range(start=df.payment_date.min(), \n",
    "                           end=df.payment_date.max(),\n",
    "                           freq='D')"
   ]
  },
  {
   "cell_type": "code",
   "execution_count": 14,
   "id": "35ce8cde-53dc-4161-b13d-d09e35fd898c",
   "metadata": {},
   "outputs": [
    {
     "data": {
      "text/plain": [
       "729"
      ]
     },
     "execution_count": 14,
     "metadata": {},
     "output_type": "execute_result"
    }
   ],
   "source": [
    "len(date_range)"
   ]
  },
  {
   "cell_type": "code",
   "execution_count": 15,
   "id": "70720c1e-9900-431d-8a9b-1a080616978b",
   "metadata": {},
   "outputs": [],
   "source": [
    "df_date_range = pd.DataFrame({'payment_date': date_range})"
   ]
  },
  {
   "cell_type": "code",
   "execution_count": 16,
   "id": "b01c226f-2442-4ac9-9389-b0e38c93744a",
   "metadata": {},
   "outputs": [
    {
     "data": {
      "text/html": [
       "<div>\n",
       "<style scoped>\n",
       "    .dataframe tbody tr th:only-of-type {\n",
       "        vertical-align: middle;\n",
       "    }\n",
       "\n",
       "    .dataframe tbody tr th {\n",
       "        vertical-align: top;\n",
       "    }\n",
       "\n",
       "    .dataframe thead th {\n",
       "        text-align: right;\n",
       "    }\n",
       "</style>\n",
       "<table border=\"1\" class=\"dataframe\">\n",
       "  <thead>\n",
       "    <tr style=\"text-align: right;\">\n",
       "      <th></th>\n",
       "      <th>payment_date</th>\n",
       "    </tr>\n",
       "  </thead>\n",
       "  <tbody>\n",
       "    <tr>\n",
       "      <th>0</th>\n",
       "      <td>2021-02-02</td>\n",
       "    </tr>\n",
       "    <tr>\n",
       "      <th>1</th>\n",
       "      <td>2021-02-03</td>\n",
       "    </tr>\n",
       "    <tr>\n",
       "      <th>2</th>\n",
       "      <td>2021-02-04</td>\n",
       "    </tr>\n",
       "    <tr>\n",
       "      <th>3</th>\n",
       "      <td>2021-02-05</td>\n",
       "    </tr>\n",
       "    <tr>\n",
       "      <th>4</th>\n",
       "      <td>2021-02-06</td>\n",
       "    </tr>\n",
       "    <tr>\n",
       "      <th>...</th>\n",
       "      <td>...</td>\n",
       "    </tr>\n",
       "    <tr>\n",
       "      <th>724</th>\n",
       "      <td>2023-01-27</td>\n",
       "    </tr>\n",
       "    <tr>\n",
       "      <th>725</th>\n",
       "      <td>2023-01-28</td>\n",
       "    </tr>\n",
       "    <tr>\n",
       "      <th>726</th>\n",
       "      <td>2023-01-29</td>\n",
       "    </tr>\n",
       "    <tr>\n",
       "      <th>727</th>\n",
       "      <td>2023-01-30</td>\n",
       "    </tr>\n",
       "    <tr>\n",
       "      <th>728</th>\n",
       "      <td>2023-01-31</td>\n",
       "    </tr>\n",
       "  </tbody>\n",
       "</table>\n",
       "<p>729 rows × 1 columns</p>\n",
       "</div>"
      ],
      "text/plain": [
       "    payment_date\n",
       "0     2021-02-02\n",
       "1     2021-02-03\n",
       "2     2021-02-04\n",
       "3     2021-02-05\n",
       "4     2021-02-06\n",
       "..           ...\n",
       "724   2023-01-27\n",
       "725   2023-01-28\n",
       "726   2023-01-29\n",
       "727   2023-01-30\n",
       "728   2023-01-31\n",
       "\n",
       "[729 rows x 1 columns]"
      ]
     },
     "execution_count": 16,
     "metadata": {},
     "output_type": "execute_result"
    }
   ],
   "source": [
    "df_date_range"
   ]
  },
  {
   "cell_type": "code",
   "execution_count": 17,
   "id": "51a6c8c8-a12f-4f88-99ea-f03926217940",
   "metadata": {},
   "outputs": [],
   "source": [
    "df_full = pd.merge(df_date_range, df, how='left', on='payment_date')"
   ]
  },
  {
   "cell_type": "code",
   "execution_count": 18,
   "id": "01d3596e-3253-4aa8-b807-9564f23f044d",
   "metadata": {},
   "outputs": [
    {
     "data": {
      "text/html": [
       "<div>\n",
       "<style scoped>\n",
       "    .dataframe tbody tr th:only-of-type {\n",
       "        vertical-align: middle;\n",
       "    }\n",
       "\n",
       "    .dataframe tbody tr th {\n",
       "        vertical-align: top;\n",
       "    }\n",
       "\n",
       "    .dataframe thead th {\n",
       "        text-align: right;\n",
       "    }\n",
       "</style>\n",
       "<table border=\"1\" class=\"dataframe\">\n",
       "  <thead>\n",
       "    <tr style=\"text-align: right;\">\n",
       "      <th></th>\n",
       "      <th>payment_date</th>\n",
       "      <th>volume</th>\n",
       "    </tr>\n",
       "  </thead>\n",
       "  <tbody>\n",
       "    <tr>\n",
       "      <th>0</th>\n",
       "      <td>2021-02-02</td>\n",
       "      <td>3396867.0</td>\n",
       "    </tr>\n",
       "    <tr>\n",
       "      <th>1</th>\n",
       "      <td>2021-02-03</td>\n",
       "      <td>3504675.0</td>\n",
       "    </tr>\n",
       "    <tr>\n",
       "      <th>2</th>\n",
       "      <td>2021-02-04</td>\n",
       "      <td>3321098.0</td>\n",
       "    </tr>\n",
       "    <tr>\n",
       "      <th>3</th>\n",
       "      <td>2021-02-05</td>\n",
       "      <td>3317318.0</td>\n",
       "    </tr>\n",
       "    <tr>\n",
       "      <th>4</th>\n",
       "      <td>2021-02-06</td>\n",
       "      <td>2763316.0</td>\n",
       "    </tr>\n",
       "    <tr>\n",
       "      <th>...</th>\n",
       "      <td>...</td>\n",
       "      <td>...</td>\n",
       "    </tr>\n",
       "    <tr>\n",
       "      <th>724</th>\n",
       "      <td>2023-01-27</td>\n",
       "      <td>7606314.0</td>\n",
       "    </tr>\n",
       "    <tr>\n",
       "      <th>725</th>\n",
       "      <td>2023-01-28</td>\n",
       "      <td>6243591.0</td>\n",
       "    </tr>\n",
       "    <tr>\n",
       "      <th>726</th>\n",
       "      <td>2023-01-29</td>\n",
       "      <td>6866600.0</td>\n",
       "    </tr>\n",
       "    <tr>\n",
       "      <th>727</th>\n",
       "      <td>2023-01-30</td>\n",
       "      <td>8337223.0</td>\n",
       "    </tr>\n",
       "    <tr>\n",
       "      <th>728</th>\n",
       "      <td>2023-01-31</td>\n",
       "      <td>8643241.0</td>\n",
       "    </tr>\n",
       "  </tbody>\n",
       "</table>\n",
       "<p>729 rows × 2 columns</p>\n",
       "</div>"
      ],
      "text/plain": [
       "    payment_date     volume\n",
       "0     2021-02-02  3396867.0\n",
       "1     2021-02-03  3504675.0\n",
       "2     2021-02-04  3321098.0\n",
       "3     2021-02-05  3317318.0\n",
       "4     2021-02-06  2763316.0\n",
       "..           ...        ...\n",
       "724   2023-01-27  7606314.0\n",
       "725   2023-01-28  6243591.0\n",
       "726   2023-01-29  6866600.0\n",
       "727   2023-01-30  8337223.0\n",
       "728   2023-01-31  8643241.0\n",
       "\n",
       "[729 rows x 2 columns]"
      ]
     },
     "execution_count": 18,
     "metadata": {},
     "output_type": "execute_result"
    }
   ],
   "source": [
    "df_full"
   ]
  },
  {
   "cell_type": "code",
   "execution_count": 19,
   "id": "008d14ec-075b-479e-8a8e-1750b837b4a2",
   "metadata": {},
   "outputs": [
    {
     "name": "stdout",
     "output_type": "stream",
     "text": [
      "<class 'pandas.core.frame.DataFrame'>\n",
      "Int64Index: 729 entries, 0 to 728\n",
      "Data columns (total 2 columns):\n",
      " #   Column        Non-Null Count  Dtype         \n",
      "---  ------        --------------  -----         \n",
      " 0   payment_date  729 non-null    datetime64[ns]\n",
      " 1   volume        511 non-null    float64       \n",
      "dtypes: datetime64[ns](1), float64(1)\n",
      "memory usage: 17.1 KB\n"
     ]
    }
   ],
   "source": [
    "df_full.info()"
   ]
  },
  {
   "cell_type": "markdown",
   "id": "55fe38d4-bfd2-47aa-a6ae-01270d945500",
   "metadata": {},
   "source": [
    "Let's impute missing values with zeroes. "
   ]
  },
  {
   "cell_type": "code",
   "execution_count": 20,
   "id": "c809cfb6-45e5-4e33-978f-68efe85575a6",
   "metadata": {},
   "outputs": [],
   "source": [
    "df_full.fillna(0, inplace=True)"
   ]
  },
  {
   "cell_type": "code",
   "execution_count": 21,
   "id": "e67b8e76-3de4-4f8a-9c02-894d95e14571",
   "metadata": {},
   "outputs": [
    {
     "name": "stdout",
     "output_type": "stream",
     "text": [
      "<class 'pandas.core.frame.DataFrame'>\n",
      "Int64Index: 729 entries, 0 to 728\n",
      "Data columns (total 2 columns):\n",
      " #   Column        Non-Null Count  Dtype         \n",
      "---  ------        --------------  -----         \n",
      " 0   payment_date  729 non-null    datetime64[ns]\n",
      " 1   volume        729 non-null    float64       \n",
      "dtypes: datetime64[ns](1), float64(1)\n",
      "memory usage: 17.1 KB\n"
     ]
    }
   ],
   "source": [
    "df_full.info()"
   ]
  },
  {
   "cell_type": "markdown",
   "id": "92137d74-b31f-4aba-a1b5-d9164be17f5b",
   "metadata": {
    "tags": []
   },
   "source": [
    "### Task 2.  "
   ]
  },
  {
   "cell_type": "markdown",
   "id": "830049b9-f37d-4c47-82b3-0e95d7db9ed3",
   "metadata": {},
   "source": [
    "**Generate additional features for our dataset, using 30, 61, 91 days lag and exponential weighted moving average with 7, 30, 91 days window size. Also create a binary feature was it a work day or a weekend.** "
   ]
  },
  {
   "cell_type": "code",
   "execution_count": 22,
   "id": "f34a72e5-d5c6-407b-9d5a-72a154e1f7fc",
   "metadata": {},
   "outputs": [],
   "source": [
    "def generate_features_for_series(\n",
    "    data: pd.DataFrame,\n",
    "    date_colname='payment_date',\n",
    "    value_colname= 'volume'\n",
    "):\n",
    "\n",
    "    data_ = data.copy()\n",
    "    data_.sort_values(date_colname, inplace=True)\n",
    "   \n",
    "    # is_holiday feature\n",
    "    data_['weekday'] = data_[date_colname].dt.weekday\n",
    "    data_.loc[data_['weekday'].isin([5, 6]), 'is_holiday'] = 1\n",
    "    data_['is_holiday'] = data_['is_holiday'].fillna(0)\n",
    "    data_.drop('weekday', axis=1, inplace=True)\n",
    "\n",
    "    # lagging days features\n",
    "    data_['lag_30d'] = data_[value_colname].shift(30)\n",
    "    data_['lag_61d'] = data_[value_colname].shift(61)\n",
    "    data_['lag_91d'] = data_[value_colname].shift(91)\n",
    "\n",
    "    # exponential weighted moving avereage features\n",
    "    data_['rolling_7d'] = data_['lag_30d'].ewm(span=7).mean()\n",
    "    data_['rolling_30d'] = data_['lag_30d'].ewm(span=30).mean()\n",
    "    data_['rolling_91d'] = data_['lag_30d'].ewm(span=91).mean()\n",
    "   \n",
    "    # removing NaN values\n",
    "    data_.dropna(inplace=True)\n",
    "   \n",
    "    return data_"
   ]
  },
  {
   "cell_type": "code",
   "execution_count": 23,
   "id": "ca362fe3-8a65-47ef-bb6d-6b0a28e6b593",
   "metadata": {},
   "outputs": [],
   "source": [
    "data = generate_features_for_series(df_full)"
   ]
  },
  {
   "cell_type": "code",
   "execution_count": 24,
   "id": "b85f2f04-36be-4912-99d3-95384ffd984c",
   "metadata": {},
   "outputs": [
    {
     "data": {
      "text/html": [
       "<div>\n",
       "<style scoped>\n",
       "    .dataframe tbody tr th:only-of-type {\n",
       "        vertical-align: middle;\n",
       "    }\n",
       "\n",
       "    .dataframe tbody tr th {\n",
       "        vertical-align: top;\n",
       "    }\n",
       "\n",
       "    .dataframe thead th {\n",
       "        text-align: right;\n",
       "    }\n",
       "</style>\n",
       "<table border=\"1\" class=\"dataframe\">\n",
       "  <thead>\n",
       "    <tr style=\"text-align: right;\">\n",
       "      <th></th>\n",
       "      <th>payment_date</th>\n",
       "      <th>volume</th>\n",
       "      <th>is_holiday</th>\n",
       "      <th>lag_30d</th>\n",
       "      <th>lag_61d</th>\n",
       "      <th>lag_91d</th>\n",
       "      <th>rolling_7d</th>\n",
       "      <th>rolling_30d</th>\n",
       "      <th>rolling_91d</th>\n",
       "    </tr>\n",
       "  </thead>\n",
       "  <tbody>\n",
       "    <tr>\n",
       "      <th>91</th>\n",
       "      <td>2021-05-04</td>\n",
       "      <td>4585501.0</td>\n",
       "      <td>0.0</td>\n",
       "      <td>0.0</td>\n",
       "      <td>3298677.0</td>\n",
       "      <td>3396867.0</td>\n",
       "      <td>1.052007e+06</td>\n",
       "      <td>1.837514e+06</td>\n",
       "      <td>2.137795e+06</td>\n",
       "    </tr>\n",
       "    <tr>\n",
       "      <th>92</th>\n",
       "      <td>2021-05-05</td>\n",
       "      <td>4842622.0</td>\n",
       "      <td>0.0</td>\n",
       "      <td>3707972.0</td>\n",
       "      <td>2632327.0</td>\n",
       "      <td>3504675.0</td>\n",
       "      <td>1.715998e+06</td>\n",
       "      <td>1.960023e+06</td>\n",
       "      <td>2.183332e+06</td>\n",
       "    </tr>\n",
       "    <tr>\n",
       "      <th>93</th>\n",
       "      <td>2021-05-06</td>\n",
       "      <td>4289897.0</td>\n",
       "      <td>0.0</td>\n",
       "      <td>3929579.0</td>\n",
       "      <td>2489894.0</td>\n",
       "      <td>3321098.0</td>\n",
       "      <td>2.269393e+06</td>\n",
       "      <td>2.088896e+06</td>\n",
       "      <td>2.233610e+06</td>\n",
       "    </tr>\n",
       "    <tr>\n",
       "      <th>94</th>\n",
       "      <td>2021-05-07</td>\n",
       "      <td>0.0</td>\n",
       "      <td>0.0</td>\n",
       "      <td>3719324.0</td>\n",
       "      <td>2604353.0</td>\n",
       "      <td>3317318.0</td>\n",
       "      <td>2.631876e+06</td>\n",
       "      <td>2.195482e+06</td>\n",
       "      <td>2.276087e+06</td>\n",
       "    </tr>\n",
       "    <tr>\n",
       "      <th>95</th>\n",
       "      <td>2021-05-08</td>\n",
       "      <td>0.0</td>\n",
       "      <td>1.0</td>\n",
       "      <td>0.0</td>\n",
       "      <td>2141489.0</td>\n",
       "      <td>2763316.0</td>\n",
       "      <td>1.973907e+06</td>\n",
       "      <td>2.052080e+06</td>\n",
       "      <td>2.211456e+06</td>\n",
       "    </tr>\n",
       "    <tr>\n",
       "      <th>...</th>\n",
       "      <td>...</td>\n",
       "      <td>...</td>\n",
       "      <td>...</td>\n",
       "      <td>...</td>\n",
       "      <td>...</td>\n",
       "      <td>...</td>\n",
       "      <td>...</td>\n",
       "      <td>...</td>\n",
       "      <td>...</td>\n",
       "    </tr>\n",
       "    <tr>\n",
       "      <th>724</th>\n",
       "      <td>2023-01-27</td>\n",
       "      <td>7606314.0</td>\n",
       "      <td>0.0</td>\n",
       "      <td>5576730.0</td>\n",
       "      <td>5560131.0</td>\n",
       "      <td>6605566.0</td>\n",
       "      <td>4.042208e+06</td>\n",
       "      <td>4.284195e+06</td>\n",
       "      <td>4.362926e+06</td>\n",
       "    </tr>\n",
       "    <tr>\n",
       "      <th>725</th>\n",
       "      <td>2023-01-28</td>\n",
       "      <td>6243591.0</td>\n",
       "      <td>1.0</td>\n",
       "      <td>4879158.0</td>\n",
       "      <td>6110948.0</td>\n",
       "      <td>5888153.0</td>\n",
       "      <td>4.251446e+06</td>\n",
       "      <td>4.322580e+06</td>\n",
       "      <td>4.374148e+06</td>\n",
       "    </tr>\n",
       "    <tr>\n",
       "      <th>726</th>\n",
       "      <td>2023-01-29</td>\n",
       "      <td>6866600.0</td>\n",
       "      <td>1.0</td>\n",
       "      <td>3997769.0</td>\n",
       "      <td>6505339.0</td>\n",
       "      <td>6081790.0</td>\n",
       "      <td>4.188027e+06</td>\n",
       "      <td>4.301624e+06</td>\n",
       "      <td>4.365966e+06</td>\n",
       "    </tr>\n",
       "    <tr>\n",
       "      <th>727</th>\n",
       "      <td>2023-01-30</td>\n",
       "      <td>8337223.0</td>\n",
       "      <td>0.0</td>\n",
       "      <td>2698006.0</td>\n",
       "      <td>0.0</td>\n",
       "      <td>0.0</td>\n",
       "      <td>3.815521e+06</td>\n",
       "      <td>4.198165e+06</td>\n",
       "      <td>4.329706e+06</td>\n",
       "    </tr>\n",
       "    <tr>\n",
       "      <th>728</th>\n",
       "      <td>2023-01-31</td>\n",
       "      <td>8643241.0</td>\n",
       "      <td>0.0</td>\n",
       "      <td>0.0</td>\n",
       "      <td>0.0</td>\n",
       "      <td>7244990.0</td>\n",
       "      <td>2.861641e+06</td>\n",
       "      <td>3.927316e+06</td>\n",
       "      <td>4.235582e+06</td>\n",
       "    </tr>\n",
       "  </tbody>\n",
       "</table>\n",
       "<p>638 rows × 9 columns</p>\n",
       "</div>"
      ],
      "text/plain": [
       "    payment_date     volume  is_holiday    lag_30d    lag_61d    lag_91d  \\\n",
       "91    2021-05-04  4585501.0         0.0        0.0  3298677.0  3396867.0   \n",
       "92    2021-05-05  4842622.0         0.0  3707972.0  2632327.0  3504675.0   \n",
       "93    2021-05-06  4289897.0         0.0  3929579.0  2489894.0  3321098.0   \n",
       "94    2021-05-07        0.0         0.0  3719324.0  2604353.0  3317318.0   \n",
       "95    2021-05-08        0.0         1.0        0.0  2141489.0  2763316.0   \n",
       "..           ...        ...         ...        ...        ...        ...   \n",
       "724   2023-01-27  7606314.0         0.0  5576730.0  5560131.0  6605566.0   \n",
       "725   2023-01-28  6243591.0         1.0  4879158.0  6110948.0  5888153.0   \n",
       "726   2023-01-29  6866600.0         1.0  3997769.0  6505339.0  6081790.0   \n",
       "727   2023-01-30  8337223.0         0.0  2698006.0        0.0        0.0   \n",
       "728   2023-01-31  8643241.0         0.0        0.0        0.0  7244990.0   \n",
       "\n",
       "       rolling_7d   rolling_30d   rolling_91d  \n",
       "91   1.052007e+06  1.837514e+06  2.137795e+06  \n",
       "92   1.715998e+06  1.960023e+06  2.183332e+06  \n",
       "93   2.269393e+06  2.088896e+06  2.233610e+06  \n",
       "94   2.631876e+06  2.195482e+06  2.276087e+06  \n",
       "95   1.973907e+06  2.052080e+06  2.211456e+06  \n",
       "..            ...           ...           ...  \n",
       "724  4.042208e+06  4.284195e+06  4.362926e+06  \n",
       "725  4.251446e+06  4.322580e+06  4.374148e+06  \n",
       "726  4.188027e+06  4.301624e+06  4.365966e+06  \n",
       "727  3.815521e+06  4.198165e+06  4.329706e+06  \n",
       "728  2.861641e+06  3.927316e+06  4.235582e+06  \n",
       "\n",
       "[638 rows x 9 columns]"
      ]
     },
     "execution_count": 24,
     "metadata": {},
     "output_type": "execute_result"
    }
   ],
   "source": [
    "data"
   ]
  },
  {
   "cell_type": "markdown",
   "id": "7b1831e5-9629-45ba-8320-429c58a760d9",
   "metadata": {},
   "source": [
    "### Task 3. "
   ]
  },
  {
   "cell_type": "markdown",
   "id": "41913718-3c9d-42cb-b61d-72ebdc7edad3",
   "metadata": {},
   "source": [
    "**Train a linear regression model and measure the quality of your model's performance.** "
   ]
  },
  {
   "cell_type": "code",
   "execution_count": 25,
   "id": "38e51fb8-8289-490b-953a-af829ff9e7a5",
   "metadata": {},
   "outputs": [
    {
     "data": {
      "text/html": [
       "<style>#sk-container-id-1 {color: black;}#sk-container-id-1 pre{padding: 0;}#sk-container-id-1 div.sk-toggleable {background-color: white;}#sk-container-id-1 label.sk-toggleable__label {cursor: pointer;display: block;width: 100%;margin-bottom: 0;padding: 0.3em;box-sizing: border-box;text-align: center;}#sk-container-id-1 label.sk-toggleable__label-arrow:before {content: \"▸\";float: left;margin-right: 0.25em;color: #696969;}#sk-container-id-1 label.sk-toggleable__label-arrow:hover:before {color: black;}#sk-container-id-1 div.sk-estimator:hover label.sk-toggleable__label-arrow:before {color: black;}#sk-container-id-1 div.sk-toggleable__content {max-height: 0;max-width: 0;overflow: hidden;text-align: left;background-color: #f0f8ff;}#sk-container-id-1 div.sk-toggleable__content pre {margin: 0.2em;color: black;border-radius: 0.25em;background-color: #f0f8ff;}#sk-container-id-1 input.sk-toggleable__control:checked~div.sk-toggleable__content {max-height: 200px;max-width: 100%;overflow: auto;}#sk-container-id-1 input.sk-toggleable__control:checked~label.sk-toggleable__label-arrow:before {content: \"▾\";}#sk-container-id-1 div.sk-estimator input.sk-toggleable__control:checked~label.sk-toggleable__label {background-color: #d4ebff;}#sk-container-id-1 div.sk-label input.sk-toggleable__control:checked~label.sk-toggleable__label {background-color: #d4ebff;}#sk-container-id-1 input.sk-hidden--visually {border: 0;clip: rect(1px 1px 1px 1px);clip: rect(1px, 1px, 1px, 1px);height: 1px;margin: -1px;overflow: hidden;padding: 0;position: absolute;width: 1px;}#sk-container-id-1 div.sk-estimator {font-family: monospace;background-color: #f0f8ff;border: 1px dotted black;border-radius: 0.25em;box-sizing: border-box;margin-bottom: 0.5em;}#sk-container-id-1 div.sk-estimator:hover {background-color: #d4ebff;}#sk-container-id-1 div.sk-parallel-item::after {content: \"\";width: 100%;border-bottom: 1px solid gray;flex-grow: 1;}#sk-container-id-1 div.sk-label:hover label.sk-toggleable__label {background-color: #d4ebff;}#sk-container-id-1 div.sk-serial::before {content: \"\";position: absolute;border-left: 1px solid gray;box-sizing: border-box;top: 0;bottom: 0;left: 50%;z-index: 0;}#sk-container-id-1 div.sk-serial {display: flex;flex-direction: column;align-items: center;background-color: white;padding-right: 0.2em;padding-left: 0.2em;position: relative;}#sk-container-id-1 div.sk-item {position: relative;z-index: 1;}#sk-container-id-1 div.sk-parallel {display: flex;align-items: stretch;justify-content: center;background-color: white;position: relative;}#sk-container-id-1 div.sk-item::before, #sk-container-id-1 div.sk-parallel-item::before {content: \"\";position: absolute;border-left: 1px solid gray;box-sizing: border-box;top: 0;bottom: 0;left: 50%;z-index: -1;}#sk-container-id-1 div.sk-parallel-item {display: flex;flex-direction: column;z-index: 1;position: relative;background-color: white;}#sk-container-id-1 div.sk-parallel-item:first-child::after {align-self: flex-end;width: 50%;}#sk-container-id-1 div.sk-parallel-item:last-child::after {align-self: flex-start;width: 50%;}#sk-container-id-1 div.sk-parallel-item:only-child::after {width: 0;}#sk-container-id-1 div.sk-dashed-wrapped {border: 1px dashed gray;margin: 0 0.4em 0.5em 0.4em;box-sizing: border-box;padding-bottom: 0.4em;background-color: white;}#sk-container-id-1 div.sk-label label {font-family: monospace;font-weight: bold;display: inline-block;line-height: 1.2em;}#sk-container-id-1 div.sk-label-container {text-align: center;}#sk-container-id-1 div.sk-container {/* jupyter's `normalize.less` sets `[hidden] { display: none; }` but bootstrap.min.css set `[hidden] { display: none !important; }` so we also need the `!important` here to be able to override the default hidden behavior on the sphinx rendered scikit-learn.org. See: https://github.com/scikit-learn/scikit-learn/issues/21755 */display: inline-block !important;position: relative;}#sk-container-id-1 div.sk-text-repr-fallback {display: none;}</style><div id=\"sk-container-id-1\" class=\"sk-top-container\"><div class=\"sk-text-repr-fallback\"><pre>LinearRegression()</pre><b>In a Jupyter environment, please rerun this cell to show the HTML representation or trust the notebook. <br />On GitHub, the HTML representation is unable to render, please try loading this page with nbviewer.org.</b></div><div class=\"sk-container\" hidden><div class=\"sk-item\"><div class=\"sk-estimator sk-toggleable\"><input class=\"sk-toggleable__control sk-hidden--visually\" id=\"sk-estimator-id-1\" type=\"checkbox\" checked><label for=\"sk-estimator-id-1\" class=\"sk-toggleable__label sk-toggleable__label-arrow\">LinearRegression</label><div class=\"sk-toggleable__content\"><pre>LinearRegression()</pre></div></div></div></div></div>"
      ],
      "text/plain": [
       "LinearRegression()"
      ]
     },
     "execution_count": 25,
     "metadata": {},
     "output_type": "execute_result"
    }
   ],
   "source": [
    "X_ = data.drop(['payment_date', 'volume'], axis=1)\n",
    "Y_ = data.volume\n",
    "\n",
    "model = LinearRegression()\n",
    "\n",
    "model.fit(X_, Y_)"
   ]
  },
  {
   "cell_type": "code",
   "execution_count": 26,
   "id": "69527877-2299-49c8-b2df-072cd96c879d",
   "metadata": {},
   "outputs": [],
   "source": [
    "data['preds'] = model.predict(X_)"
   ]
  },
  {
   "cell_type": "code",
   "execution_count": 27,
   "id": "7467b81a-dc94-4432-8e4f-1d8307ad6c0c",
   "metadata": {},
   "outputs": [
    {
     "name": "stdout",
     "output_type": "stream",
     "text": [
      "MSE: 7659274556248, MAE: 2454155\n"
     ]
    }
   ],
   "source": [
    "MSE = mean_squared_error(Y_, data.preds)\n",
    "MAE = mean_absolute_error(Y_, data.preds)\n",
    "\n",
    "print(f'MSE: {MSE:.0f}, MAE: {MAE:.0f}')"
   ]
  },
  {
   "cell_type": "markdown",
   "id": "6cf94e10-2a9b-4ab9-929d-858de8ce875b",
   "metadata": {},
   "source": [
    "### Task 4. "
   ]
  },
  {
   "cell_type": "markdown",
   "id": "a92b908a-9905-4287-b083-4b1954baf890",
   "metadata": {},
   "source": [
    "**In machine learning, it can be useful to use asymmetric metrics. Especially in cases where we want to give only a lower or upper bound on the prediction. For example, a great example of such a metric is the use of quadratic error for over-prediction, and absolute error for under-prediction on each object (or vice versa). And then - averaging the losses calculated for each object.**"
   ]
  },
  {
   "cell_type": "markdown",
   "id": "7abbfc28-3460-41af-a122-1e601a7e2cbd",
   "metadata": {},
   "source": [
    "Asymmetric = [Prediction > Target] (Prediction - Target)^2 + [Prediction < Target] |Prediction - Target|"
   ]
  },
  {
   "cell_type": "code",
   "execution_count": 28,
   "id": "1aba030e-3511-4d6c-bf4b-9a8bfe9381da",
   "metadata": {},
   "outputs": [
    {
     "name": "stdout",
     "output_type": "stream",
     "text": [
      "Assymetric error value: 4838181948427\n"
     ]
    }
   ],
   "source": [
    "preds_lst = data.preds.to_list()\n",
    "\n",
    "sum_ = 0\n",
    "for idx in range(len(preds_lst)):\n",
    "    if preds_lst[idx] > Y_.values[idx]:\n",
    "        sum_ += (preds_lst[idx] - Y_.values[idx])**2\n",
    "    else:\n",
    "        sum_ += np.abs(preds_lst[idx] - Y_.values[idx])\n",
    "        \n",
    "print(f'Assymetric error value: {sum_ / len(preds_lst):.0f}')"
   ]
  },
  {
   "cell_type": "markdown",
   "id": "0e654218-672d-41a9-807a-29295d77ad9b",
   "metadata": {},
   "source": [
    "### Task 5. "
   ]
  },
  {
   "cell_type": "markdown",
   "id": "f2cc0059-a131-418f-9def-e6aca607d1c1",
   "metadata": {},
   "source": [
    "**Calculate another asymmetric metric.**"
   ]
  },
  {
   "cell_type": "markdown",
   "id": "41aab68d-6fae-4f25-976b-8664183b5048",
   "metadata": {},
   "source": [
    "Asymmetric = [Prediction < Target] (Prediction - Target)^2 + [Prediction > Target] |Prediction - Target|"
   ]
  },
  {
   "cell_type": "code",
   "execution_count": 29,
   "id": "5246f807-09ab-4c5b-aeee-99cda6d82c92",
   "metadata": {},
   "outputs": [
    {
     "name": "stdout",
     "output_type": "stream",
     "text": [
      "Assymetric error value: 2821095061977\n"
     ]
    }
   ],
   "source": [
    "preds_lst = data.preds.to_list()\n",
    "\n",
    "sum_ = 0\n",
    "for idx in range(len(preds_lst)):\n",
    "    if preds_lst[idx] < Y_.values[idx]:\n",
    "        sum_ += (preds_lst[idx] - Y_.values[idx])**2\n",
    "    else:\n",
    "        sum_ += np.abs(preds_lst[idx] - Y_.values[idx])\n",
    "        \n",
    "print(f'Assymetric error value: {sum_ / len(preds_lst):.0f}')"
   ]
  },
  {
   "cell_type": "markdown",
   "id": "b1d08635-02e3-48de-8c7f-086bd84ebc85",
   "metadata": {},
   "source": [
    "### Task 6. "
   ]
  },
  {
   "cell_type": "markdown",
   "id": "8ca7c2df-46ed-4155-8f72-f9f72007f1c7",
   "metadata": {},
   "source": [
    "**Select top-3 features having the most significant negative impact on our predicted values.**"
   ]
  },
  {
   "cell_type": "code",
   "execution_count": 30,
   "id": "d98e6770-0a5c-4eb1-89ff-9c52aa63dea6",
   "metadata": {},
   "outputs": [
    {
     "name": "stdout",
     "output_type": "stream",
     "text": [
      "y =\n",
      "1741555.5688577197 +\n",
      "-255284.496 * is_holiday +\n",
      "-0.025 * lag_30d +\n",
      "-0.054 * lag_61d +\n",
      "-0.073 * lag_91d +\n",
      "0.321 * rolling_7d +\n",
      "-1.581 * rolling_30d +\n",
      "2.043 * rolling_91d +\n"
     ]
    }
   ],
   "source": [
    "betas, beta0 = [round(x,3) for x in model.coef_], model.intercept_\n",
    "\n",
    "print(f'y =')\n",
    "print(f'{beta0} +')\n",
    "for i in range(len(betas)):\n",
    "    print(f'{betas[i]} * {X_.columns[i]} +')"
   ]
  },
  {
   "cell_type": "markdown",
   "id": "acff5dde-cdda-431e-b5f5-d250e39c9653",
   "metadata": {},
   "source": [
    "- is_holiday\n",
    "- rolling_30d\n",
    "- lag_91d"
   ]
  },
  {
   "cell_type": "markdown",
   "id": "8f12cad3-0ca6-4913-8558-3dfbdaf8043f",
   "metadata": {},
   "source": [
    "### Task 7. "
   ]
  },
  {
   "cell_type": "markdown",
   "id": "303c769d-dc3d-44c6-a7fa-5946399ad624",
   "metadata": {},
   "source": [
    "**Calculate what the forecast of your model will be if all the features that we counted have a value of 1 for a certain day?**"
   ]
  },
  {
   "cell_type": "code",
   "execution_count": 31,
   "id": "24e4f5f5-8ea5-43eb-928f-eac19e66130d",
   "metadata": {},
   "outputs": [
    {
     "data": {
      "text/plain": [
       "1486271.702"
      ]
     },
     "execution_count": 31,
     "metadata": {},
     "output_type": "execute_result"
    }
   ],
   "source": [
    "ans = 0\n",
    "\n",
    "for i in range(len(model.coef_)):\n",
    "    ans += model.coef_[i]\n",
    "    \n",
    "round(model.intercept_ + ans, 3)"
   ]
  },
  {
   "cell_type": "markdown",
   "id": "e0d0b025-bcfe-44a4-9837-83a010655ef0",
   "metadata": {},
   "source": [
    "### Task 8. "
   ]
  },
  {
   "cell_type": "markdown",
   "id": "d4584cb6-6079-4ae6-91ff-25eb9528e005",
   "metadata": {},
   "source": [
    "**What will be the forecast of the model if the given day is a working day.**"
   ]
  },
  {
   "cell_type": "code",
   "execution_count": 32,
   "id": "9de49a12-e77f-4606-b3f0-bd233ac3b401",
   "metadata": {},
   "outputs": [
    {
     "data": {
      "text/plain": [
       "1741556.199"
      ]
     },
     "execution_count": 32,
     "metadata": {},
     "output_type": "execute_result"
    }
   ],
   "source": [
    "ans = 0\n",
    "\n",
    "for i in range(len(model.coef_)):\n",
    "    ans += model.coef_[i]\n",
    "    \n",
    "round(model.intercept_ + ans - model.coef_[0], 3)"
   ]
  },
  {
   "cell_type": "markdown",
   "id": "5e7bec59-e783-47e3-aad2-2b887afc9b39",
   "metadata": {},
   "source": [
    "### Task 9. "
   ]
  },
  {
   "cell_type": "markdown",
   "id": "640f6f68-d319-4a75-b932-cbced77f1a31",
   "metadata": {},
   "source": [
    "**Let's try to use segmentation approach to predict time series. Load data using SQL query aggregated by payment_date and type.**"
   ]
  },
  {
   "cell_type": "code",
   "execution_count": 33,
   "id": "063c4b7f-0215-4ccd-a602-0349c5e9b54a",
   "metadata": {},
   "outputs": [],
   "source": [
    "query = '''\n",
    "SELECT \n",
    "  payment_date,\n",
    "  type,\n",
    "  -SUM(amount)\n",
    "FROM \n",
    "  user_transactions\n",
    "WHERE \n",
    "  type IN ('basic sale', 'fast sale', 'quick sale')\n",
    "GROUP BY \n",
    "  payment_date,\n",
    "  type\n",
    "'''"
   ]
  },
  {
   "cell_type": "code",
   "execution_count": 34,
   "id": "33d7a437-5352-4bd1-b975-e12bf505ddb9",
   "metadata": {},
   "outputs": [],
   "source": [
    "result = client.execute(query)"
   ]
  },
  {
   "cell_type": "code",
   "execution_count": 35,
   "id": "2b5733f2-3289-4708-bdec-89dcdd3305bd",
   "metadata": {},
   "outputs": [
    {
     "data": {
      "text/plain": [
       "1531"
      ]
     },
     "execution_count": 35,
     "metadata": {},
     "output_type": "execute_result"
    }
   ],
   "source": [
    "len(result)"
   ]
  },
  {
   "cell_type": "code",
   "execution_count": 36,
   "id": "9d35d217-ad07-4f30-a1bb-67a0cfaac502",
   "metadata": {},
   "outputs": [
    {
     "data": {
      "text/html": [
       "<div>\n",
       "<style scoped>\n",
       "    .dataframe tbody tr th:only-of-type {\n",
       "        vertical-align: middle;\n",
       "    }\n",
       "\n",
       "    .dataframe tbody tr th {\n",
       "        vertical-align: top;\n",
       "    }\n",
       "\n",
       "    .dataframe thead th {\n",
       "        text-align: right;\n",
       "    }\n",
       "</style>\n",
       "<table border=\"1\" class=\"dataframe\">\n",
       "  <thead>\n",
       "    <tr style=\"text-align: right;\">\n",
       "      <th></th>\n",
       "      <th>payment_date</th>\n",
       "      <th>sale_type</th>\n",
       "      <th>volume</th>\n",
       "    </tr>\n",
       "  </thead>\n",
       "  <tbody>\n",
       "    <tr>\n",
       "      <th>0</th>\n",
       "      <td>2021-04-27</td>\n",
       "      <td>quick sale</td>\n",
       "      <td>1566030</td>\n",
       "    </tr>\n",
       "    <tr>\n",
       "      <th>1</th>\n",
       "      <td>2022-07-11</td>\n",
       "      <td>fast sale</td>\n",
       "      <td>2461446</td>\n",
       "    </tr>\n",
       "    <tr>\n",
       "      <th>2</th>\n",
       "      <td>2021-12-29</td>\n",
       "      <td>quick sale</td>\n",
       "      <td>1237786</td>\n",
       "    </tr>\n",
       "    <tr>\n",
       "      <th>3</th>\n",
       "      <td>2022-11-27</td>\n",
       "      <td>fast sale</td>\n",
       "      <td>1771166</td>\n",
       "    </tr>\n",
       "    <tr>\n",
       "      <th>4</th>\n",
       "      <td>2023-01-08</td>\n",
       "      <td>quick sale</td>\n",
       "      <td>1436429</td>\n",
       "    </tr>\n",
       "    <tr>\n",
       "      <th>...</th>\n",
       "      <td>...</td>\n",
       "      <td>...</td>\n",
       "      <td>...</td>\n",
       "    </tr>\n",
       "    <tr>\n",
       "      <th>1526</th>\n",
       "      <td>2022-11-20</td>\n",
       "      <td>fast sale</td>\n",
       "      <td>1534786</td>\n",
       "    </tr>\n",
       "    <tr>\n",
       "      <th>1527</th>\n",
       "      <td>2021-04-26</td>\n",
       "      <td>quick sale</td>\n",
       "      <td>1752833</td>\n",
       "    </tr>\n",
       "    <tr>\n",
       "      <th>1528</th>\n",
       "      <td>2021-10-21</td>\n",
       "      <td>fast sale</td>\n",
       "      <td>1880598</td>\n",
       "    </tr>\n",
       "    <tr>\n",
       "      <th>1529</th>\n",
       "      <td>2022-09-28</td>\n",
       "      <td>basic sale</td>\n",
       "      <td>2617040</td>\n",
       "    </tr>\n",
       "    <tr>\n",
       "      <th>1530</th>\n",
       "      <td>2022-05-12</td>\n",
       "      <td>basic sale</td>\n",
       "      <td>2779630</td>\n",
       "    </tr>\n",
       "  </tbody>\n",
       "</table>\n",
       "<p>1531 rows × 3 columns</p>\n",
       "</div>"
      ],
      "text/plain": [
       "     payment_date   sale_type   volume\n",
       "0      2021-04-27  quick sale  1566030\n",
       "1      2022-07-11   fast sale  2461446\n",
       "2      2021-12-29  quick sale  1237786\n",
       "3      2022-11-27   fast sale  1771166\n",
       "4      2023-01-08  quick sale  1436429\n",
       "...           ...         ...      ...\n",
       "1526   2022-11-20   fast sale  1534786\n",
       "1527   2021-04-26  quick sale  1752833\n",
       "1528   2021-10-21   fast sale  1880598\n",
       "1529   2022-09-28  basic sale  2617040\n",
       "1530   2022-05-12  basic sale  2779630\n",
       "\n",
       "[1531 rows x 3 columns]"
      ]
     },
     "execution_count": 36,
     "metadata": {},
     "output_type": "execute_result"
    }
   ],
   "source": [
    "df = pd.DataFrame(result, columns=['payment_date', 'sale_type', 'volume'])\n",
    "\n",
    "df"
   ]
  },
  {
   "cell_type": "code",
   "execution_count": 37,
   "id": "a7cd55e3-ab97-4108-9c58-29a80c5ce2a0",
   "metadata": {},
   "outputs": [
    {
     "name": "stdout",
     "output_type": "stream",
     "text": [
      "<class 'pandas.core.frame.DataFrame'>\n",
      "RangeIndex: 1531 entries, 0 to 1530\n",
      "Data columns (total 3 columns):\n",
      " #   Column        Non-Null Count  Dtype \n",
      "---  ------        --------------  ----- \n",
      " 0   payment_date  1531 non-null   object\n",
      " 1   sale_type     1531 non-null   object\n",
      " 2   volume        1531 non-null   int64 \n",
      "dtypes: int64(1), object(2)\n",
      "memory usage: 36.0+ KB\n"
     ]
    }
   ],
   "source": [
    "df.info()"
   ]
  },
  {
   "cell_type": "code",
   "execution_count": 38,
   "id": "745f94fb-940b-45cc-afa9-b24ec90152c5",
   "metadata": {},
   "outputs": [],
   "source": [
    "df['payment_date'] = pd.to_datetime(df['payment_date'], format='%Y-%m-%d')"
   ]
  },
  {
   "cell_type": "code",
   "execution_count": 39,
   "id": "55d67fbc-2fc0-42f3-a7fb-4f12201c7a89",
   "metadata": {},
   "outputs": [],
   "source": [
    "df = df.sort_values('payment_date').reset_index(drop=True)"
   ]
  },
  {
   "cell_type": "code",
   "execution_count": 40,
   "id": "a5c284c7-994d-417b-b779-17f1cfb359f6",
   "metadata": {},
   "outputs": [
    {
     "data": {
      "text/html": [
       "<div>\n",
       "<style scoped>\n",
       "    .dataframe tbody tr th:only-of-type {\n",
       "        vertical-align: middle;\n",
       "    }\n",
       "\n",
       "    .dataframe tbody tr th {\n",
       "        vertical-align: top;\n",
       "    }\n",
       "\n",
       "    .dataframe thead th {\n",
       "        text-align: right;\n",
       "    }\n",
       "</style>\n",
       "<table border=\"1\" class=\"dataframe\">\n",
       "  <thead>\n",
       "    <tr style=\"text-align: right;\">\n",
       "      <th></th>\n",
       "      <th>payment_date</th>\n",
       "      <th>sale_type</th>\n",
       "      <th>volume</th>\n",
       "    </tr>\n",
       "  </thead>\n",
       "  <tbody>\n",
       "    <tr>\n",
       "      <th>0</th>\n",
       "      <td>2021-02-02</td>\n",
       "      <td>quick sale</td>\n",
       "      <td>1214139</td>\n",
       "    </tr>\n",
       "    <tr>\n",
       "      <th>1</th>\n",
       "      <td>2021-02-02</td>\n",
       "      <td>basic sale</td>\n",
       "      <td>830390</td>\n",
       "    </tr>\n",
       "    <tr>\n",
       "      <th>2</th>\n",
       "      <td>2021-02-02</td>\n",
       "      <td>fast sale</td>\n",
       "      <td>1352338</td>\n",
       "    </tr>\n",
       "    <tr>\n",
       "      <th>3</th>\n",
       "      <td>2021-02-03</td>\n",
       "      <td>quick sale</td>\n",
       "      <td>1274827</td>\n",
       "    </tr>\n",
       "    <tr>\n",
       "      <th>4</th>\n",
       "      <td>2021-02-03</td>\n",
       "      <td>fast sale</td>\n",
       "      <td>1438638</td>\n",
       "    </tr>\n",
       "    <tr>\n",
       "      <th>...</th>\n",
       "      <td>...</td>\n",
       "      <td>...</td>\n",
       "      <td>...</td>\n",
       "    </tr>\n",
       "    <tr>\n",
       "      <th>1526</th>\n",
       "      <td>2023-01-30</td>\n",
       "      <td>fast sale</td>\n",
       "      <td>2896360</td>\n",
       "    </tr>\n",
       "    <tr>\n",
       "      <th>1527</th>\n",
       "      <td>2023-01-30</td>\n",
       "      <td>basic sale</td>\n",
       "      <td>3261225</td>\n",
       "    </tr>\n",
       "    <tr>\n",
       "      <th>1528</th>\n",
       "      <td>2023-01-31</td>\n",
       "      <td>basic sale</td>\n",
       "      <td>3314615</td>\n",
       "    </tr>\n",
       "    <tr>\n",
       "      <th>1529</th>\n",
       "      <td>2023-01-31</td>\n",
       "      <td>quick sale</td>\n",
       "      <td>2603906</td>\n",
       "    </tr>\n",
       "    <tr>\n",
       "      <th>1530</th>\n",
       "      <td>2023-01-31</td>\n",
       "      <td>fast sale</td>\n",
       "      <td>2724720</td>\n",
       "    </tr>\n",
       "  </tbody>\n",
       "</table>\n",
       "<p>1531 rows × 3 columns</p>\n",
       "</div>"
      ],
      "text/plain": [
       "     payment_date   sale_type   volume\n",
       "0      2021-02-02  quick sale  1214139\n",
       "1      2021-02-02  basic sale   830390\n",
       "2      2021-02-02   fast sale  1352338\n",
       "3      2021-02-03  quick sale  1274827\n",
       "4      2021-02-03   fast sale  1438638\n",
       "...           ...         ...      ...\n",
       "1526   2023-01-30   fast sale  2896360\n",
       "1527   2023-01-30  basic sale  3261225\n",
       "1528   2023-01-31  basic sale  3314615\n",
       "1529   2023-01-31  quick sale  2603906\n",
       "1530   2023-01-31   fast sale  2724720\n",
       "\n",
       "[1531 rows x 3 columns]"
      ]
     },
     "execution_count": 40,
     "metadata": {},
     "output_type": "execute_result"
    }
   ],
   "source": [
    "df"
   ]
  },
  {
   "cell_type": "code",
   "execution_count": 41,
   "id": "397c47d6-feb9-4fd0-b978-e18329292e34",
   "metadata": {},
   "outputs": [],
   "source": [
    "df_full.fillna(0, inplace=True)"
   ]
  },
  {
   "cell_type": "markdown",
   "id": "cb1632d9-b94d-4321-be8f-3c6c322298a6",
   "metadata": {},
   "source": [
    "### Task 10. "
   ]
  },
  {
   "cell_type": "markdown",
   "id": "58783e0b-1157-4201-8e56-47be8ca3f5f7",
   "metadata": {},
   "source": [
    "**Forecast volume for each sale type and then calculate the overall forecast by summing those forecasts.**"
   ]
  },
  {
   "cell_type": "markdown",
   "id": "77c3e6af-4108-43d2-8df7-97312ed2e6a9",
   "metadata": {},
   "source": [
    "Forecast for `quick sale`."
   ]
  },
  {
   "cell_type": "code",
   "execution_count": 42,
   "id": "9b9b44ee-a452-4057-ac77-e67ed48deb3c",
   "metadata": {},
   "outputs": [],
   "source": [
    "df_quick = df[df['sale_type'] == 'quick sale'].reset_index(drop=True)"
   ]
  },
  {
   "cell_type": "code",
   "execution_count": 43,
   "id": "cdcb5301-5186-4222-adf4-5bb466e86057",
   "metadata": {},
   "outputs": [
    {
     "data": {
      "text/html": [
       "<div>\n",
       "<style scoped>\n",
       "    .dataframe tbody tr th:only-of-type {\n",
       "        vertical-align: middle;\n",
       "    }\n",
       "\n",
       "    .dataframe tbody tr th {\n",
       "        vertical-align: top;\n",
       "    }\n",
       "\n",
       "    .dataframe thead th {\n",
       "        text-align: right;\n",
       "    }\n",
       "</style>\n",
       "<table border=\"1\" class=\"dataframe\">\n",
       "  <thead>\n",
       "    <tr style=\"text-align: right;\">\n",
       "      <th></th>\n",
       "      <th>payment_date</th>\n",
       "      <th>sale_type</th>\n",
       "      <th>volume</th>\n",
       "    </tr>\n",
       "  </thead>\n",
       "  <tbody>\n",
       "    <tr>\n",
       "      <th>0</th>\n",
       "      <td>2021-02-02</td>\n",
       "      <td>quick sale</td>\n",
       "      <td>1214139</td>\n",
       "    </tr>\n",
       "    <tr>\n",
       "      <th>1</th>\n",
       "      <td>2021-02-03</td>\n",
       "      <td>quick sale</td>\n",
       "      <td>1274827</td>\n",
       "    </tr>\n",
       "    <tr>\n",
       "      <th>2</th>\n",
       "      <td>2021-02-04</td>\n",
       "      <td>quick sale</td>\n",
       "      <td>1272215</td>\n",
       "    </tr>\n",
       "    <tr>\n",
       "      <th>3</th>\n",
       "      <td>2021-02-05</td>\n",
       "      <td>quick sale</td>\n",
       "      <td>1131727</td>\n",
       "    </tr>\n",
       "    <tr>\n",
       "      <th>4</th>\n",
       "      <td>2021-02-06</td>\n",
       "      <td>quick sale</td>\n",
       "      <td>961952</td>\n",
       "    </tr>\n",
       "    <tr>\n",
       "      <th>...</th>\n",
       "      <td>...</td>\n",
       "      <td>...</td>\n",
       "      <td>...</td>\n",
       "    </tr>\n",
       "    <tr>\n",
       "      <th>505</th>\n",
       "      <td>2023-01-27</td>\n",
       "      <td>quick sale</td>\n",
       "      <td>2184930</td>\n",
       "    </tr>\n",
       "    <tr>\n",
       "      <th>506</th>\n",
       "      <td>2023-01-28</td>\n",
       "      <td>quick sale</td>\n",
       "      <td>1550079</td>\n",
       "    </tr>\n",
       "    <tr>\n",
       "      <th>507</th>\n",
       "      <td>2023-01-29</td>\n",
       "      <td>quick sale</td>\n",
       "      <td>1898020</td>\n",
       "    </tr>\n",
       "    <tr>\n",
       "      <th>508</th>\n",
       "      <td>2023-01-30</td>\n",
       "      <td>quick sale</td>\n",
       "      <td>2179638</td>\n",
       "    </tr>\n",
       "    <tr>\n",
       "      <th>509</th>\n",
       "      <td>2023-01-31</td>\n",
       "      <td>quick sale</td>\n",
       "      <td>2603906</td>\n",
       "    </tr>\n",
       "  </tbody>\n",
       "</table>\n",
       "<p>510 rows × 3 columns</p>\n",
       "</div>"
      ],
      "text/plain": [
       "    payment_date   sale_type   volume\n",
       "0     2021-02-02  quick sale  1214139\n",
       "1     2021-02-03  quick sale  1274827\n",
       "2     2021-02-04  quick sale  1272215\n",
       "3     2021-02-05  quick sale  1131727\n",
       "4     2021-02-06  quick sale   961952\n",
       "..           ...         ...      ...\n",
       "505   2023-01-27  quick sale  2184930\n",
       "506   2023-01-28  quick sale  1550079\n",
       "507   2023-01-29  quick sale  1898020\n",
       "508   2023-01-30  quick sale  2179638\n",
       "509   2023-01-31  quick sale  2603906\n",
       "\n",
       "[510 rows x 3 columns]"
      ]
     },
     "execution_count": 43,
     "metadata": {},
     "output_type": "execute_result"
    }
   ],
   "source": [
    "df_quick"
   ]
  },
  {
   "cell_type": "code",
   "execution_count": 44,
   "id": "67e24fdc-8bc3-40b8-a3cd-4ad97918eabf",
   "metadata": {},
   "outputs": [],
   "source": [
    "df_quick_full = pd.merge(df_date_range, df_quick, how='left', on='payment_date')"
   ]
  },
  {
   "cell_type": "code",
   "execution_count": 45,
   "id": "4a8b2101-ba51-499f-9f8e-32ebf9e37677",
   "metadata": {},
   "outputs": [
    {
     "name": "stdout",
     "output_type": "stream",
     "text": [
      "<class 'pandas.core.frame.DataFrame'>\n",
      "Int64Index: 729 entries, 0 to 728\n",
      "Data columns (total 3 columns):\n",
      " #   Column        Non-Null Count  Dtype         \n",
      "---  ------        --------------  -----         \n",
      " 0   payment_date  729 non-null    datetime64[ns]\n",
      " 1   sale_type     510 non-null    object        \n",
      " 2   volume        510 non-null    float64       \n",
      "dtypes: datetime64[ns](1), float64(1), object(1)\n",
      "memory usage: 22.8+ KB\n"
     ]
    }
   ],
   "source": [
    "df_quick_full.info()"
   ]
  },
  {
   "cell_type": "code",
   "execution_count": 46,
   "id": "dcf1012a-a6e6-4e3f-bbd7-3908bf4cfff7",
   "metadata": {},
   "outputs": [],
   "source": [
    "df_quick_full.fillna(0, inplace=True)"
   ]
  },
  {
   "cell_type": "code",
   "execution_count": 47,
   "id": "dc28521b-b10a-4d2d-8161-91c1bf0d0b9b",
   "metadata": {},
   "outputs": [
    {
     "name": "stdout",
     "output_type": "stream",
     "text": [
      "<class 'pandas.core.frame.DataFrame'>\n",
      "Int64Index: 729 entries, 0 to 728\n",
      "Data columns (total 3 columns):\n",
      " #   Column        Non-Null Count  Dtype         \n",
      "---  ------        --------------  -----         \n",
      " 0   payment_date  729 non-null    datetime64[ns]\n",
      " 1   sale_type     729 non-null    object        \n",
      " 2   volume        729 non-null    float64       \n",
      "dtypes: datetime64[ns](1), float64(1), object(1)\n",
      "memory usage: 22.8+ KB\n"
     ]
    }
   ],
   "source": [
    "df_quick_full.info()"
   ]
  },
  {
   "cell_type": "code",
   "execution_count": 48,
   "id": "fe7dc72a-5478-4aac-bca5-93eaf956c850",
   "metadata": {},
   "outputs": [],
   "source": [
    "data_quick = generate_features_for_series(df_quick_full)"
   ]
  },
  {
   "cell_type": "code",
   "execution_count": 49,
   "id": "0fd269e6-65ee-41c6-8a54-d16fecedf975",
   "metadata": {},
   "outputs": [
    {
     "data": {
      "text/html": [
       "<div>\n",
       "<style scoped>\n",
       "    .dataframe tbody tr th:only-of-type {\n",
       "        vertical-align: middle;\n",
       "    }\n",
       "\n",
       "    .dataframe tbody tr th {\n",
       "        vertical-align: top;\n",
       "    }\n",
       "\n",
       "    .dataframe thead th {\n",
       "        text-align: right;\n",
       "    }\n",
       "</style>\n",
       "<table border=\"1\" class=\"dataframe\">\n",
       "  <thead>\n",
       "    <tr style=\"text-align: right;\">\n",
       "      <th></th>\n",
       "      <th>payment_date</th>\n",
       "      <th>sale_type</th>\n",
       "      <th>volume</th>\n",
       "      <th>is_holiday</th>\n",
       "      <th>lag_30d</th>\n",
       "      <th>lag_61d</th>\n",
       "      <th>lag_91d</th>\n",
       "      <th>rolling_7d</th>\n",
       "      <th>rolling_30d</th>\n",
       "      <th>rolling_91d</th>\n",
       "    </tr>\n",
       "  </thead>\n",
       "  <tbody>\n",
       "    <tr>\n",
       "      <th>91</th>\n",
       "      <td>2021-05-04</td>\n",
       "      <td>quick sale</td>\n",
       "      <td>1611785.0</td>\n",
       "      <td>0.0</td>\n",
       "      <td>0.0</td>\n",
       "      <td>1127938.0</td>\n",
       "      <td>1214139.0</td>\n",
       "      <td>3.539594e+05</td>\n",
       "      <td>6.331820e+05</td>\n",
       "      <td>7.440603e+05</td>\n",
       "    </tr>\n",
       "    <tr>\n",
       "      <th>92</th>\n",
       "      <td>2021-05-05</td>\n",
       "      <td>quick sale</td>\n",
       "      <td>1999040.0</td>\n",
       "      <td>0.0</td>\n",
       "      <td>1352975.0</td>\n",
       "      <td>883341.0</td>\n",
       "      <td>1274827.0</td>\n",
       "      <td>6.037133e+05</td>\n",
       "      <td>6.803261e+05</td>\n",
       "      <td>7.617196e+05</td>\n",
       "    </tr>\n",
       "    <tr>\n",
       "      <th>93</th>\n",
       "      <td>2021-05-06</td>\n",
       "      <td>quick sale</td>\n",
       "      <td>1499572.0</td>\n",
       "      <td>0.0</td>\n",
       "      <td>1419857.0</td>\n",
       "      <td>960981.0</td>\n",
       "      <td>1272215.0</td>\n",
       "      <td>8.077492e+05</td>\n",
       "      <td>7.287155e+05</td>\n",
       "      <td>7.806688e+05</td>\n",
       "    </tr>\n",
       "    <tr>\n",
       "      <th>94</th>\n",
       "      <td>2021-05-07</td>\n",
       "      <td>0</td>\n",
       "      <td>0.0</td>\n",
       "      <td>0.0</td>\n",
       "      <td>1293265.0</td>\n",
       "      <td>922074.0</td>\n",
       "      <td>1131727.0</td>\n",
       "      <td>9.291282e+05</td>\n",
       "      <td>7.656216e+05</td>\n",
       "      <td>7.953241e+05</td>\n",
       "    </tr>\n",
       "    <tr>\n",
       "      <th>95</th>\n",
       "      <td>2021-05-08</td>\n",
       "      <td>0</td>\n",
       "      <td>0.0</td>\n",
       "      <td>1.0</td>\n",
       "      <td>0.0</td>\n",
       "      <td>758255.0</td>\n",
       "      <td>961952.0</td>\n",
       "      <td>6.968461e+05</td>\n",
       "      <td>7.156137e+05</td>\n",
       "      <td>7.727402e+05</td>\n",
       "    </tr>\n",
       "    <tr>\n",
       "      <th>...</th>\n",
       "      <td>...</td>\n",
       "      <td>...</td>\n",
       "      <td>...</td>\n",
       "      <td>...</td>\n",
       "      <td>...</td>\n",
       "      <td>...</td>\n",
       "      <td>...</td>\n",
       "      <td>...</td>\n",
       "      <td>...</td>\n",
       "      <td>...</td>\n",
       "    </tr>\n",
       "    <tr>\n",
       "      <th>724</th>\n",
       "      <td>2023-01-27</td>\n",
       "      <td>quick sale</td>\n",
       "      <td>2184930.0</td>\n",
       "      <td>0.0</td>\n",
       "      <td>1461917.0</td>\n",
       "      <td>1376615.0</td>\n",
       "      <td>1474592.0</td>\n",
       "      <td>1.058102e+06</td>\n",
       "      <td>1.139190e+06</td>\n",
       "      <td>1.183268e+06</td>\n",
       "    </tr>\n",
       "    <tr>\n",
       "      <th>725</th>\n",
       "      <td>2023-01-28</td>\n",
       "      <td>quick sale</td>\n",
       "      <td>1550079.0</td>\n",
       "      <td>1.0</td>\n",
       "      <td>1160699.0</td>\n",
       "      <td>1729728.0</td>\n",
       "      <td>1357773.0</td>\n",
       "      <td>1.083752e+06</td>\n",
       "      <td>1.140578e+06</td>\n",
       "      <td>1.182778e+06</td>\n",
       "    </tr>\n",
       "    <tr>\n",
       "      <th>726</th>\n",
       "      <td>2023-01-29</td>\n",
       "      <td>quick sale</td>\n",
       "      <td>1898020.0</td>\n",
       "      <td>1.0</td>\n",
       "      <td>1075921.0</td>\n",
       "      <td>1799433.0</td>\n",
       "      <td>1454473.0</td>\n",
       "      <td>1.081794e+06</td>\n",
       "      <td>1.136406e+06</td>\n",
       "      <td>1.180455e+06</td>\n",
       "    </tr>\n",
       "    <tr>\n",
       "      <th>727</th>\n",
       "      <td>2023-01-30</td>\n",
       "      <td>quick sale</td>\n",
       "      <td>2179638.0</td>\n",
       "      <td>0.0</td>\n",
       "      <td>565812.0</td>\n",
       "      <td>0.0</td>\n",
       "      <td>0.0</td>\n",
       "      <td>9.527984e+05</td>\n",
       "      <td>1.099594e+06</td>\n",
       "      <td>1.167093e+06</td>\n",
       "    </tr>\n",
       "    <tr>\n",
       "      <th>728</th>\n",
       "      <td>2023-01-31</td>\n",
       "      <td>quick sale</td>\n",
       "      <td>2603906.0</td>\n",
       "      <td>0.0</td>\n",
       "      <td>0.0</td>\n",
       "      <td>0.0</td>\n",
       "      <td>1952982.0</td>\n",
       "      <td>7.145988e+05</td>\n",
       "      <td>1.028652e+06</td>\n",
       "      <td>1.141721e+06</td>\n",
       "    </tr>\n",
       "  </tbody>\n",
       "</table>\n",
       "<p>638 rows × 10 columns</p>\n",
       "</div>"
      ],
      "text/plain": [
       "    payment_date   sale_type     volume  is_holiday    lag_30d    lag_61d  \\\n",
       "91    2021-05-04  quick sale  1611785.0         0.0        0.0  1127938.0   \n",
       "92    2021-05-05  quick sale  1999040.0         0.0  1352975.0   883341.0   \n",
       "93    2021-05-06  quick sale  1499572.0         0.0  1419857.0   960981.0   \n",
       "94    2021-05-07           0        0.0         0.0  1293265.0   922074.0   \n",
       "95    2021-05-08           0        0.0         1.0        0.0   758255.0   \n",
       "..           ...         ...        ...         ...        ...        ...   \n",
       "724   2023-01-27  quick sale  2184930.0         0.0  1461917.0  1376615.0   \n",
       "725   2023-01-28  quick sale  1550079.0         1.0  1160699.0  1729728.0   \n",
       "726   2023-01-29  quick sale  1898020.0         1.0  1075921.0  1799433.0   \n",
       "727   2023-01-30  quick sale  2179638.0         0.0   565812.0        0.0   \n",
       "728   2023-01-31  quick sale  2603906.0         0.0        0.0        0.0   \n",
       "\n",
       "       lag_91d    rolling_7d   rolling_30d   rolling_91d  \n",
       "91   1214139.0  3.539594e+05  6.331820e+05  7.440603e+05  \n",
       "92   1274827.0  6.037133e+05  6.803261e+05  7.617196e+05  \n",
       "93   1272215.0  8.077492e+05  7.287155e+05  7.806688e+05  \n",
       "94   1131727.0  9.291282e+05  7.656216e+05  7.953241e+05  \n",
       "95    961952.0  6.968461e+05  7.156137e+05  7.727402e+05  \n",
       "..         ...           ...           ...           ...  \n",
       "724  1474592.0  1.058102e+06  1.139190e+06  1.183268e+06  \n",
       "725  1357773.0  1.083752e+06  1.140578e+06  1.182778e+06  \n",
       "726  1454473.0  1.081794e+06  1.136406e+06  1.180455e+06  \n",
       "727        0.0  9.527984e+05  1.099594e+06  1.167093e+06  \n",
       "728  1952982.0  7.145988e+05  1.028652e+06  1.141721e+06  \n",
       "\n",
       "[638 rows x 10 columns]"
      ]
     },
     "execution_count": 49,
     "metadata": {},
     "output_type": "execute_result"
    }
   ],
   "source": [
    "data_quick"
   ]
  },
  {
   "cell_type": "code",
   "execution_count": 50,
   "id": "e16af5a6-acea-4de4-8212-c8268e45e301",
   "metadata": {},
   "outputs": [
    {
     "data": {
      "text/html": [
       "<style>#sk-container-id-2 {color: black;}#sk-container-id-2 pre{padding: 0;}#sk-container-id-2 div.sk-toggleable {background-color: white;}#sk-container-id-2 label.sk-toggleable__label {cursor: pointer;display: block;width: 100%;margin-bottom: 0;padding: 0.3em;box-sizing: border-box;text-align: center;}#sk-container-id-2 label.sk-toggleable__label-arrow:before {content: \"▸\";float: left;margin-right: 0.25em;color: #696969;}#sk-container-id-2 label.sk-toggleable__label-arrow:hover:before {color: black;}#sk-container-id-2 div.sk-estimator:hover label.sk-toggleable__label-arrow:before {color: black;}#sk-container-id-2 div.sk-toggleable__content {max-height: 0;max-width: 0;overflow: hidden;text-align: left;background-color: #f0f8ff;}#sk-container-id-2 div.sk-toggleable__content pre {margin: 0.2em;color: black;border-radius: 0.25em;background-color: #f0f8ff;}#sk-container-id-2 input.sk-toggleable__control:checked~div.sk-toggleable__content {max-height: 200px;max-width: 100%;overflow: auto;}#sk-container-id-2 input.sk-toggleable__control:checked~label.sk-toggleable__label-arrow:before {content: \"▾\";}#sk-container-id-2 div.sk-estimator input.sk-toggleable__control:checked~label.sk-toggleable__label {background-color: #d4ebff;}#sk-container-id-2 div.sk-label input.sk-toggleable__control:checked~label.sk-toggleable__label {background-color: #d4ebff;}#sk-container-id-2 input.sk-hidden--visually {border: 0;clip: rect(1px 1px 1px 1px);clip: rect(1px, 1px, 1px, 1px);height: 1px;margin: -1px;overflow: hidden;padding: 0;position: absolute;width: 1px;}#sk-container-id-2 div.sk-estimator {font-family: monospace;background-color: #f0f8ff;border: 1px dotted black;border-radius: 0.25em;box-sizing: border-box;margin-bottom: 0.5em;}#sk-container-id-2 div.sk-estimator:hover {background-color: #d4ebff;}#sk-container-id-2 div.sk-parallel-item::after {content: \"\";width: 100%;border-bottom: 1px solid gray;flex-grow: 1;}#sk-container-id-2 div.sk-label:hover label.sk-toggleable__label {background-color: #d4ebff;}#sk-container-id-2 div.sk-serial::before {content: \"\";position: absolute;border-left: 1px solid gray;box-sizing: border-box;top: 0;bottom: 0;left: 50%;z-index: 0;}#sk-container-id-2 div.sk-serial {display: flex;flex-direction: column;align-items: center;background-color: white;padding-right: 0.2em;padding-left: 0.2em;position: relative;}#sk-container-id-2 div.sk-item {position: relative;z-index: 1;}#sk-container-id-2 div.sk-parallel {display: flex;align-items: stretch;justify-content: center;background-color: white;position: relative;}#sk-container-id-2 div.sk-item::before, #sk-container-id-2 div.sk-parallel-item::before {content: \"\";position: absolute;border-left: 1px solid gray;box-sizing: border-box;top: 0;bottom: 0;left: 50%;z-index: -1;}#sk-container-id-2 div.sk-parallel-item {display: flex;flex-direction: column;z-index: 1;position: relative;background-color: white;}#sk-container-id-2 div.sk-parallel-item:first-child::after {align-self: flex-end;width: 50%;}#sk-container-id-2 div.sk-parallel-item:last-child::after {align-self: flex-start;width: 50%;}#sk-container-id-2 div.sk-parallel-item:only-child::after {width: 0;}#sk-container-id-2 div.sk-dashed-wrapped {border: 1px dashed gray;margin: 0 0.4em 0.5em 0.4em;box-sizing: border-box;padding-bottom: 0.4em;background-color: white;}#sk-container-id-2 div.sk-label label {font-family: monospace;font-weight: bold;display: inline-block;line-height: 1.2em;}#sk-container-id-2 div.sk-label-container {text-align: center;}#sk-container-id-2 div.sk-container {/* jupyter's `normalize.less` sets `[hidden] { display: none; }` but bootstrap.min.css set `[hidden] { display: none !important; }` so we also need the `!important` here to be able to override the default hidden behavior on the sphinx rendered scikit-learn.org. See: https://github.com/scikit-learn/scikit-learn/issues/21755 */display: inline-block !important;position: relative;}#sk-container-id-2 div.sk-text-repr-fallback {display: none;}</style><div id=\"sk-container-id-2\" class=\"sk-top-container\"><div class=\"sk-text-repr-fallback\"><pre>LinearRegression()</pre><b>In a Jupyter environment, please rerun this cell to show the HTML representation or trust the notebook. <br />On GitHub, the HTML representation is unable to render, please try loading this page with nbviewer.org.</b></div><div class=\"sk-container\" hidden><div class=\"sk-item\"><div class=\"sk-estimator sk-toggleable\"><input class=\"sk-toggleable__control sk-hidden--visually\" id=\"sk-estimator-id-2\" type=\"checkbox\" checked><label for=\"sk-estimator-id-2\" class=\"sk-toggleable__label sk-toggleable__label-arrow\">LinearRegression</label><div class=\"sk-toggleable__content\"><pre>LinearRegression()</pre></div></div></div></div></div>"
      ],
      "text/plain": [
       "LinearRegression()"
      ]
     },
     "execution_count": 50,
     "metadata": {},
     "output_type": "execute_result"
    }
   ],
   "source": [
    "X_ = data_quick.drop(['payment_date', 'volume', 'sale_type'], axis=1)\n",
    "Y_ = data_quick.volume\n",
    "\n",
    "model = LinearRegression()\n",
    "\n",
    "model.fit(X_, Y_)"
   ]
  },
  {
   "cell_type": "code",
   "execution_count": 51,
   "id": "534977ad-06bf-4ffa-8ef7-595a279fdaae",
   "metadata": {},
   "outputs": [],
   "source": [
    "data_quick['quick_preds'] = model.predict(X_)\n",
    "data_quick['quick_Y'] = Y_"
   ]
  },
  {
   "cell_type": "markdown",
   "id": "015146e0-3ba4-4bf0-a8c4-35ec73dd5f2e",
   "metadata": {},
   "source": [
    "Forecast for `basic sale`."
   ]
  },
  {
   "cell_type": "code",
   "execution_count": 52,
   "id": "f6692017-f7ce-466a-a8fd-b6b55df7d3fe",
   "metadata": {},
   "outputs": [],
   "source": [
    "df_basic = df[df['sale_type'] == 'basic sale'].reset_index(drop=True)"
   ]
  },
  {
   "cell_type": "code",
   "execution_count": 53,
   "id": "38373aa9-de1d-4c39-adc2-21c4b659975d",
   "metadata": {},
   "outputs": [
    {
     "data": {
      "text/html": [
       "<div>\n",
       "<style scoped>\n",
       "    .dataframe tbody tr th:only-of-type {\n",
       "        vertical-align: middle;\n",
       "    }\n",
       "\n",
       "    .dataframe tbody tr th {\n",
       "        vertical-align: top;\n",
       "    }\n",
       "\n",
       "    .dataframe thead th {\n",
       "        text-align: right;\n",
       "    }\n",
       "</style>\n",
       "<table border=\"1\" class=\"dataframe\">\n",
       "  <thead>\n",
       "    <tr style=\"text-align: right;\">\n",
       "      <th></th>\n",
       "      <th>payment_date</th>\n",
       "      <th>sale_type</th>\n",
       "      <th>volume</th>\n",
       "    </tr>\n",
       "  </thead>\n",
       "  <tbody>\n",
       "    <tr>\n",
       "      <th>0</th>\n",
       "      <td>2021-02-02</td>\n",
       "      <td>basic sale</td>\n",
       "      <td>830390</td>\n",
       "    </tr>\n",
       "    <tr>\n",
       "      <th>1</th>\n",
       "      <td>2021-02-03</td>\n",
       "      <td>basic sale</td>\n",
       "      <td>791210</td>\n",
       "    </tr>\n",
       "    <tr>\n",
       "      <th>2</th>\n",
       "      <td>2021-02-04</td>\n",
       "      <td>basic sale</td>\n",
       "      <td>819105</td>\n",
       "    </tr>\n",
       "    <tr>\n",
       "      <th>3</th>\n",
       "      <td>2021-02-05</td>\n",
       "      <td>basic sale</td>\n",
       "      <td>749195</td>\n",
       "    </tr>\n",
       "    <tr>\n",
       "      <th>4</th>\n",
       "      <td>2021-02-06</td>\n",
       "      <td>basic sale</td>\n",
       "      <td>746440</td>\n",
       "    </tr>\n",
       "    <tr>\n",
       "      <th>...</th>\n",
       "      <td>...</td>\n",
       "      <td>...</td>\n",
       "      <td>...</td>\n",
       "    </tr>\n",
       "    <tr>\n",
       "      <th>506</th>\n",
       "      <td>2023-01-27</td>\n",
       "      <td>basic sale</td>\n",
       "      <td>3063495</td>\n",
       "    </tr>\n",
       "    <tr>\n",
       "      <th>507</th>\n",
       "      <td>2023-01-28</td>\n",
       "      <td>basic sale</td>\n",
       "      <td>2707335</td>\n",
       "    </tr>\n",
       "    <tr>\n",
       "      <th>508</th>\n",
       "      <td>2023-01-29</td>\n",
       "      <td>basic sale</td>\n",
       "      <td>2754180</td>\n",
       "    </tr>\n",
       "    <tr>\n",
       "      <th>509</th>\n",
       "      <td>2023-01-30</td>\n",
       "      <td>basic sale</td>\n",
       "      <td>3261225</td>\n",
       "    </tr>\n",
       "    <tr>\n",
       "      <th>510</th>\n",
       "      <td>2023-01-31</td>\n",
       "      <td>basic sale</td>\n",
       "      <td>3314615</td>\n",
       "    </tr>\n",
       "  </tbody>\n",
       "</table>\n",
       "<p>511 rows × 3 columns</p>\n",
       "</div>"
      ],
      "text/plain": [
       "    payment_date   sale_type   volume\n",
       "0     2021-02-02  basic sale   830390\n",
       "1     2021-02-03  basic sale   791210\n",
       "2     2021-02-04  basic sale   819105\n",
       "3     2021-02-05  basic sale   749195\n",
       "4     2021-02-06  basic sale   746440\n",
       "..           ...         ...      ...\n",
       "506   2023-01-27  basic sale  3063495\n",
       "507   2023-01-28  basic sale  2707335\n",
       "508   2023-01-29  basic sale  2754180\n",
       "509   2023-01-30  basic sale  3261225\n",
       "510   2023-01-31  basic sale  3314615\n",
       "\n",
       "[511 rows x 3 columns]"
      ]
     },
     "execution_count": 53,
     "metadata": {},
     "output_type": "execute_result"
    }
   ],
   "source": [
    "df_basic"
   ]
  },
  {
   "cell_type": "code",
   "execution_count": 54,
   "id": "89a56073-cc2a-40e0-b785-7cebcd1122fd",
   "metadata": {},
   "outputs": [],
   "source": [
    "df_basic_full = pd.merge(df_date_range, df_basic, how='left', on='payment_date')"
   ]
  },
  {
   "cell_type": "code",
   "execution_count": 55,
   "id": "6177ffe7-9eef-4a80-bebe-440632a34a6e",
   "metadata": {},
   "outputs": [
    {
     "name": "stdout",
     "output_type": "stream",
     "text": [
      "<class 'pandas.core.frame.DataFrame'>\n",
      "Int64Index: 729 entries, 0 to 728\n",
      "Data columns (total 3 columns):\n",
      " #   Column        Non-Null Count  Dtype         \n",
      "---  ------        --------------  -----         \n",
      " 0   payment_date  729 non-null    datetime64[ns]\n",
      " 1   sale_type     511 non-null    object        \n",
      " 2   volume        511 non-null    float64       \n",
      "dtypes: datetime64[ns](1), float64(1), object(1)\n",
      "memory usage: 22.8+ KB\n"
     ]
    }
   ],
   "source": [
    "df_basic_full.info()"
   ]
  },
  {
   "cell_type": "code",
   "execution_count": 56,
   "id": "0639d221-aeac-4c8a-91d6-a17d079e8d69",
   "metadata": {},
   "outputs": [],
   "source": [
    "df_basic_full.fillna(0, inplace=True)"
   ]
  },
  {
   "cell_type": "code",
   "execution_count": 57,
   "id": "be09970e-270f-49fc-afe6-753d6f259c44",
   "metadata": {},
   "outputs": [
    {
     "name": "stdout",
     "output_type": "stream",
     "text": [
      "<class 'pandas.core.frame.DataFrame'>\n",
      "Int64Index: 729 entries, 0 to 728\n",
      "Data columns (total 3 columns):\n",
      " #   Column        Non-Null Count  Dtype         \n",
      "---  ------        --------------  -----         \n",
      " 0   payment_date  729 non-null    datetime64[ns]\n",
      " 1   sale_type     729 non-null    object        \n",
      " 2   volume        729 non-null    float64       \n",
      "dtypes: datetime64[ns](1), float64(1), object(1)\n",
      "memory usage: 22.8+ KB\n"
     ]
    }
   ],
   "source": [
    "df_basic_full.info()"
   ]
  },
  {
   "cell_type": "code",
   "execution_count": 58,
   "id": "bdc06ca6-e719-4fd6-862d-bb6688a97578",
   "metadata": {},
   "outputs": [],
   "source": [
    "data_basic = generate_features_for_series(df_basic_full)"
   ]
  },
  {
   "cell_type": "code",
   "execution_count": 59,
   "id": "299037e1-c496-4bd9-b400-dec53e422888",
   "metadata": {},
   "outputs": [
    {
     "data": {
      "text/html": [
       "<div>\n",
       "<style scoped>\n",
       "    .dataframe tbody tr th:only-of-type {\n",
       "        vertical-align: middle;\n",
       "    }\n",
       "\n",
       "    .dataframe tbody tr th {\n",
       "        vertical-align: top;\n",
       "    }\n",
       "\n",
       "    .dataframe thead th {\n",
       "        text-align: right;\n",
       "    }\n",
       "</style>\n",
       "<table border=\"1\" class=\"dataframe\">\n",
       "  <thead>\n",
       "    <tr style=\"text-align: right;\">\n",
       "      <th></th>\n",
       "      <th>payment_date</th>\n",
       "      <th>sale_type</th>\n",
       "      <th>volume</th>\n",
       "      <th>is_holiday</th>\n",
       "      <th>lag_30d</th>\n",
       "      <th>lag_61d</th>\n",
       "      <th>lag_91d</th>\n",
       "      <th>rolling_7d</th>\n",
       "      <th>rolling_30d</th>\n",
       "      <th>rolling_91d</th>\n",
       "    </tr>\n",
       "  </thead>\n",
       "  <tbody>\n",
       "    <tr>\n",
       "      <th>91</th>\n",
       "      <td>2021-05-04</td>\n",
       "      <td>basic sale</td>\n",
       "      <td>1129570.0</td>\n",
       "      <td>0.0</td>\n",
       "      <td>0.0</td>\n",
       "      <td>948405.0</td>\n",
       "      <td>830390.0</td>\n",
       "      <td>2.689877e+05</td>\n",
       "      <td>4.809985e+05</td>\n",
       "      <td>5.573742e+05</td>\n",
       "    </tr>\n",
       "    <tr>\n",
       "      <th>92</th>\n",
       "      <td>2021-05-05</td>\n",
       "      <td>basic sale</td>\n",
       "      <td>1148880.0</td>\n",
       "      <td>0.0</td>\n",
       "      <td>1004845.0</td>\n",
       "      <td>758465.0</td>\n",
       "      <td>791210.0</td>\n",
       "      <td>4.529520e+05</td>\n",
       "      <td>5.153087e+05</td>\n",
       "      <td>5.703514e+05</td>\n",
       "    </tr>\n",
       "    <tr>\n",
       "      <th>93</th>\n",
       "      <td>2021-05-06</td>\n",
       "      <td>basic sale</td>\n",
       "      <td>1087360.0</td>\n",
       "      <td>0.0</td>\n",
       "      <td>1091265.0</td>\n",
       "      <td>730705.0</td>\n",
       "      <td>819105.0</td>\n",
       "      <td>6.125302e+05</td>\n",
       "      <td>5.529950e+05</td>\n",
       "      <td>5.853496e+05</td>\n",
       "    </tr>\n",
       "    <tr>\n",
       "      <th>94</th>\n",
       "      <td>2021-05-07</td>\n",
       "      <td>0</td>\n",
       "      <td>0.0</td>\n",
       "      <td>0.0</td>\n",
       "      <td>993930.0</td>\n",
       "      <td>761665.0</td>\n",
       "      <td>749195.0</td>\n",
       "      <td>7.078802e+05</td>\n",
       "      <td>5.818201e+05</td>\n",
       "      <td>5.970311e+05</td>\n",
       "    </tr>\n",
       "    <tr>\n",
       "      <th>95</th>\n",
       "      <td>2021-05-08</td>\n",
       "      <td>0</td>\n",
       "      <td>0.0</td>\n",
       "      <td>1.0</td>\n",
       "      <td>0.0</td>\n",
       "      <td>599720.0</td>\n",
       "      <td>746440.0</td>\n",
       "      <td>5.309101e+05</td>\n",
       "      <td>5.438176e+05</td>\n",
       "      <td>5.800778e+05</td>\n",
       "    </tr>\n",
       "    <tr>\n",
       "      <th>...</th>\n",
       "      <td>...</td>\n",
       "      <td>...</td>\n",
       "      <td>...</td>\n",
       "      <td>...</td>\n",
       "      <td>...</td>\n",
       "      <td>...</td>\n",
       "      <td>...</td>\n",
       "      <td>...</td>\n",
       "      <td>...</td>\n",
       "      <td>...</td>\n",
       "    </tr>\n",
       "    <tr>\n",
       "      <th>724</th>\n",
       "      <td>2023-01-27</td>\n",
       "      <td>basic sale</td>\n",
       "      <td>3063495.0</td>\n",
       "      <td>0.0</td>\n",
       "      <td>2510225.0</td>\n",
       "      <td>2412350.0</td>\n",
       "      <td>2648040.0</td>\n",
       "      <td>1.746218e+06</td>\n",
       "      <td>1.814747e+06</td>\n",
       "      <td>1.779634e+06</td>\n",
       "    </tr>\n",
       "    <tr>\n",
       "      <th>725</th>\n",
       "      <td>2023-01-28</td>\n",
       "      <td>basic sale</td>\n",
       "      <td>2707335.0</td>\n",
       "      <td>1.0</td>\n",
       "      <td>2182915.0</td>\n",
       "      <td>2383960.0</td>\n",
       "      <td>2456890.0</td>\n",
       "      <td>1.855392e+06</td>\n",
       "      <td>1.838500e+06</td>\n",
       "      <td>1.788401e+06</td>\n",
       "    </tr>\n",
       "    <tr>\n",
       "      <th>726</th>\n",
       "      <td>2023-01-29</td>\n",
       "      <td>basic sale</td>\n",
       "      <td>2754180.0</td>\n",
       "      <td>1.0</td>\n",
       "      <td>1696135.0</td>\n",
       "      <td>2677635.0</td>\n",
       "      <td>2501290.0</td>\n",
       "      <td>1.815578e+06</td>\n",
       "      <td>1.829315e+06</td>\n",
       "      <td>1.786395e+06</td>\n",
       "    </tr>\n",
       "    <tr>\n",
       "      <th>727</th>\n",
       "      <td>2023-01-30</td>\n",
       "      <td>basic sale</td>\n",
       "      <td>3261225.0</td>\n",
       "      <td>0.0</td>\n",
       "      <td>1132610.0</td>\n",
       "      <td>0.0</td>\n",
       "      <td>0.0</td>\n",
       "      <td>1.644836e+06</td>\n",
       "      <td>1.784366e+06</td>\n",
       "      <td>1.772183e+06</td>\n",
       "    </tr>\n",
       "    <tr>\n",
       "      <th>728</th>\n",
       "      <td>2023-01-31</td>\n",
       "      <td>basic sale</td>\n",
       "      <td>3314615.0</td>\n",
       "      <td>0.0</td>\n",
       "      <td>0.0</td>\n",
       "      <td>0.0</td>\n",
       "      <td>2793455.0</td>\n",
       "      <td>1.233627e+06</td>\n",
       "      <td>1.669246e+06</td>\n",
       "      <td>1.733657e+06</td>\n",
       "    </tr>\n",
       "  </tbody>\n",
       "</table>\n",
       "<p>638 rows × 10 columns</p>\n",
       "</div>"
      ],
      "text/plain": [
       "    payment_date   sale_type     volume  is_holiday    lag_30d    lag_61d  \\\n",
       "91    2021-05-04  basic sale  1129570.0         0.0        0.0   948405.0   \n",
       "92    2021-05-05  basic sale  1148880.0         0.0  1004845.0   758465.0   \n",
       "93    2021-05-06  basic sale  1087360.0         0.0  1091265.0   730705.0   \n",
       "94    2021-05-07           0        0.0         0.0   993930.0   761665.0   \n",
       "95    2021-05-08           0        0.0         1.0        0.0   599720.0   \n",
       "..           ...         ...        ...         ...        ...        ...   \n",
       "724   2023-01-27  basic sale  3063495.0         0.0  2510225.0  2412350.0   \n",
       "725   2023-01-28  basic sale  2707335.0         1.0  2182915.0  2383960.0   \n",
       "726   2023-01-29  basic sale  2754180.0         1.0  1696135.0  2677635.0   \n",
       "727   2023-01-30  basic sale  3261225.0         0.0  1132610.0        0.0   \n",
       "728   2023-01-31  basic sale  3314615.0         0.0        0.0        0.0   \n",
       "\n",
       "       lag_91d    rolling_7d   rolling_30d   rolling_91d  \n",
       "91    830390.0  2.689877e+05  4.809985e+05  5.573742e+05  \n",
       "92    791210.0  4.529520e+05  5.153087e+05  5.703514e+05  \n",
       "93    819105.0  6.125302e+05  5.529950e+05  5.853496e+05  \n",
       "94    749195.0  7.078802e+05  5.818201e+05  5.970311e+05  \n",
       "95    746440.0  5.309101e+05  5.438176e+05  5.800778e+05  \n",
       "..         ...           ...           ...           ...  \n",
       "724  2648040.0  1.746218e+06  1.814747e+06  1.779634e+06  \n",
       "725  2456890.0  1.855392e+06  1.838500e+06  1.788401e+06  \n",
       "726  2501290.0  1.815578e+06  1.829315e+06  1.786395e+06  \n",
       "727        0.0  1.644836e+06  1.784366e+06  1.772183e+06  \n",
       "728  2793455.0  1.233627e+06  1.669246e+06  1.733657e+06  \n",
       "\n",
       "[638 rows x 10 columns]"
      ]
     },
     "execution_count": 59,
     "metadata": {},
     "output_type": "execute_result"
    }
   ],
   "source": [
    "data_basic"
   ]
  },
  {
   "cell_type": "code",
   "execution_count": 60,
   "id": "85c8a798-dfca-4b0d-96f3-bf92b9dd3539",
   "metadata": {},
   "outputs": [
    {
     "data": {
      "text/html": [
       "<style>#sk-container-id-3 {color: black;}#sk-container-id-3 pre{padding: 0;}#sk-container-id-3 div.sk-toggleable {background-color: white;}#sk-container-id-3 label.sk-toggleable__label {cursor: pointer;display: block;width: 100%;margin-bottom: 0;padding: 0.3em;box-sizing: border-box;text-align: center;}#sk-container-id-3 label.sk-toggleable__label-arrow:before {content: \"▸\";float: left;margin-right: 0.25em;color: #696969;}#sk-container-id-3 label.sk-toggleable__label-arrow:hover:before {color: black;}#sk-container-id-3 div.sk-estimator:hover label.sk-toggleable__label-arrow:before {color: black;}#sk-container-id-3 div.sk-toggleable__content {max-height: 0;max-width: 0;overflow: hidden;text-align: left;background-color: #f0f8ff;}#sk-container-id-3 div.sk-toggleable__content pre {margin: 0.2em;color: black;border-radius: 0.25em;background-color: #f0f8ff;}#sk-container-id-3 input.sk-toggleable__control:checked~div.sk-toggleable__content {max-height: 200px;max-width: 100%;overflow: auto;}#sk-container-id-3 input.sk-toggleable__control:checked~label.sk-toggleable__label-arrow:before {content: \"▾\";}#sk-container-id-3 div.sk-estimator input.sk-toggleable__control:checked~label.sk-toggleable__label {background-color: #d4ebff;}#sk-container-id-3 div.sk-label input.sk-toggleable__control:checked~label.sk-toggleable__label {background-color: #d4ebff;}#sk-container-id-3 input.sk-hidden--visually {border: 0;clip: rect(1px 1px 1px 1px);clip: rect(1px, 1px, 1px, 1px);height: 1px;margin: -1px;overflow: hidden;padding: 0;position: absolute;width: 1px;}#sk-container-id-3 div.sk-estimator {font-family: monospace;background-color: #f0f8ff;border: 1px dotted black;border-radius: 0.25em;box-sizing: border-box;margin-bottom: 0.5em;}#sk-container-id-3 div.sk-estimator:hover {background-color: #d4ebff;}#sk-container-id-3 div.sk-parallel-item::after {content: \"\";width: 100%;border-bottom: 1px solid gray;flex-grow: 1;}#sk-container-id-3 div.sk-label:hover label.sk-toggleable__label {background-color: #d4ebff;}#sk-container-id-3 div.sk-serial::before {content: \"\";position: absolute;border-left: 1px solid gray;box-sizing: border-box;top: 0;bottom: 0;left: 50%;z-index: 0;}#sk-container-id-3 div.sk-serial {display: flex;flex-direction: column;align-items: center;background-color: white;padding-right: 0.2em;padding-left: 0.2em;position: relative;}#sk-container-id-3 div.sk-item {position: relative;z-index: 1;}#sk-container-id-3 div.sk-parallel {display: flex;align-items: stretch;justify-content: center;background-color: white;position: relative;}#sk-container-id-3 div.sk-item::before, #sk-container-id-3 div.sk-parallel-item::before {content: \"\";position: absolute;border-left: 1px solid gray;box-sizing: border-box;top: 0;bottom: 0;left: 50%;z-index: -1;}#sk-container-id-3 div.sk-parallel-item {display: flex;flex-direction: column;z-index: 1;position: relative;background-color: white;}#sk-container-id-3 div.sk-parallel-item:first-child::after {align-self: flex-end;width: 50%;}#sk-container-id-3 div.sk-parallel-item:last-child::after {align-self: flex-start;width: 50%;}#sk-container-id-3 div.sk-parallel-item:only-child::after {width: 0;}#sk-container-id-3 div.sk-dashed-wrapped {border: 1px dashed gray;margin: 0 0.4em 0.5em 0.4em;box-sizing: border-box;padding-bottom: 0.4em;background-color: white;}#sk-container-id-3 div.sk-label label {font-family: monospace;font-weight: bold;display: inline-block;line-height: 1.2em;}#sk-container-id-3 div.sk-label-container {text-align: center;}#sk-container-id-3 div.sk-container {/* jupyter's `normalize.less` sets `[hidden] { display: none; }` but bootstrap.min.css set `[hidden] { display: none !important; }` so we also need the `!important` here to be able to override the default hidden behavior on the sphinx rendered scikit-learn.org. See: https://github.com/scikit-learn/scikit-learn/issues/21755 */display: inline-block !important;position: relative;}#sk-container-id-3 div.sk-text-repr-fallback {display: none;}</style><div id=\"sk-container-id-3\" class=\"sk-top-container\"><div class=\"sk-text-repr-fallback\"><pre>LinearRegression()</pre><b>In a Jupyter environment, please rerun this cell to show the HTML representation or trust the notebook. <br />On GitHub, the HTML representation is unable to render, please try loading this page with nbviewer.org.</b></div><div class=\"sk-container\" hidden><div class=\"sk-item\"><div class=\"sk-estimator sk-toggleable\"><input class=\"sk-toggleable__control sk-hidden--visually\" id=\"sk-estimator-id-3\" type=\"checkbox\" checked><label for=\"sk-estimator-id-3\" class=\"sk-toggleable__label sk-toggleable__label-arrow\">LinearRegression</label><div class=\"sk-toggleable__content\"><pre>LinearRegression()</pre></div></div></div></div></div>"
      ],
      "text/plain": [
       "LinearRegression()"
      ]
     },
     "execution_count": 60,
     "metadata": {},
     "output_type": "execute_result"
    }
   ],
   "source": [
    "X_ = data_basic.drop(['payment_date', 'volume', 'sale_type'], axis=1)\n",
    "Y_ = data_basic.volume\n",
    "\n",
    "model = LinearRegression()\n",
    "\n",
    "model.fit(X_, Y_)"
   ]
  },
  {
   "cell_type": "code",
   "execution_count": 61,
   "id": "45fa1a51-8804-419c-a7d6-2f4c306401cf",
   "metadata": {},
   "outputs": [],
   "source": [
    "data_basic['basic_preds'] = model.predict(X_)\n",
    "data_basic['basic_Y'] = Y_"
   ]
  },
  {
   "cell_type": "markdown",
   "id": "4638d06d-4d3a-4f5c-b7c5-0257693aa8af",
   "metadata": {},
   "source": [
    "Forecast for `fast sale`."
   ]
  },
  {
   "cell_type": "code",
   "execution_count": 62,
   "id": "dabbedd3-e290-4871-aaa6-f3e770ab9117",
   "metadata": {},
   "outputs": [],
   "source": [
    "df_fast = df[df['sale_type'] == 'fast sale'].reset_index(drop=True)"
   ]
  },
  {
   "cell_type": "code",
   "execution_count": 63,
   "id": "17bf41f1-d722-4cd4-9fce-e70c8229752c",
   "metadata": {},
   "outputs": [
    {
     "data": {
      "text/html": [
       "<div>\n",
       "<style scoped>\n",
       "    .dataframe tbody tr th:only-of-type {\n",
       "        vertical-align: middle;\n",
       "    }\n",
       "\n",
       "    .dataframe tbody tr th {\n",
       "        vertical-align: top;\n",
       "    }\n",
       "\n",
       "    .dataframe thead th {\n",
       "        text-align: right;\n",
       "    }\n",
       "</style>\n",
       "<table border=\"1\" class=\"dataframe\">\n",
       "  <thead>\n",
       "    <tr style=\"text-align: right;\">\n",
       "      <th></th>\n",
       "      <th>payment_date</th>\n",
       "      <th>sale_type</th>\n",
       "      <th>volume</th>\n",
       "    </tr>\n",
       "  </thead>\n",
       "  <tbody>\n",
       "    <tr>\n",
       "      <th>0</th>\n",
       "      <td>2021-02-02</td>\n",
       "      <td>fast sale</td>\n",
       "      <td>1352338</td>\n",
       "    </tr>\n",
       "    <tr>\n",
       "      <th>1</th>\n",
       "      <td>2021-02-03</td>\n",
       "      <td>fast sale</td>\n",
       "      <td>1438638</td>\n",
       "    </tr>\n",
       "    <tr>\n",
       "      <th>2</th>\n",
       "      <td>2021-02-04</td>\n",
       "      <td>fast sale</td>\n",
       "      <td>1229778</td>\n",
       "    </tr>\n",
       "    <tr>\n",
       "      <th>3</th>\n",
       "      <td>2021-02-05</td>\n",
       "      <td>fast sale</td>\n",
       "      <td>1436396</td>\n",
       "    </tr>\n",
       "    <tr>\n",
       "      <th>4</th>\n",
       "      <td>2021-02-06</td>\n",
       "      <td>fast sale</td>\n",
       "      <td>1054924</td>\n",
       "    </tr>\n",
       "    <tr>\n",
       "      <th>...</th>\n",
       "      <td>...</td>\n",
       "      <td>...</td>\n",
       "      <td>...</td>\n",
       "    </tr>\n",
       "    <tr>\n",
       "      <th>505</th>\n",
       "      <td>2023-01-27</td>\n",
       "      <td>fast sale</td>\n",
       "      <td>2357889</td>\n",
       "    </tr>\n",
       "    <tr>\n",
       "      <th>506</th>\n",
       "      <td>2023-01-28</td>\n",
       "      <td>fast sale</td>\n",
       "      <td>1986177</td>\n",
       "    </tr>\n",
       "    <tr>\n",
       "      <th>507</th>\n",
       "      <td>2023-01-29</td>\n",
       "      <td>fast sale</td>\n",
       "      <td>2214400</td>\n",
       "    </tr>\n",
       "    <tr>\n",
       "      <th>508</th>\n",
       "      <td>2023-01-30</td>\n",
       "      <td>fast sale</td>\n",
       "      <td>2896360</td>\n",
       "    </tr>\n",
       "    <tr>\n",
       "      <th>509</th>\n",
       "      <td>2023-01-31</td>\n",
       "      <td>fast sale</td>\n",
       "      <td>2724720</td>\n",
       "    </tr>\n",
       "  </tbody>\n",
       "</table>\n",
       "<p>510 rows × 3 columns</p>\n",
       "</div>"
      ],
      "text/plain": [
       "    payment_date  sale_type   volume\n",
       "0     2021-02-02  fast sale  1352338\n",
       "1     2021-02-03  fast sale  1438638\n",
       "2     2021-02-04  fast sale  1229778\n",
       "3     2021-02-05  fast sale  1436396\n",
       "4     2021-02-06  fast sale  1054924\n",
       "..           ...        ...      ...\n",
       "505   2023-01-27  fast sale  2357889\n",
       "506   2023-01-28  fast sale  1986177\n",
       "507   2023-01-29  fast sale  2214400\n",
       "508   2023-01-30  fast sale  2896360\n",
       "509   2023-01-31  fast sale  2724720\n",
       "\n",
       "[510 rows x 3 columns]"
      ]
     },
     "execution_count": 63,
     "metadata": {},
     "output_type": "execute_result"
    }
   ],
   "source": [
    "df_fast"
   ]
  },
  {
   "cell_type": "code",
   "execution_count": 64,
   "id": "e220180d-7b45-4a1d-b289-0534802685c6",
   "metadata": {},
   "outputs": [],
   "source": [
    "df_fast_full = pd.merge(df_date_range, df_fast, how='left', on='payment_date')"
   ]
  },
  {
   "cell_type": "code",
   "execution_count": 65,
   "id": "5f8a45ef-0961-443b-9908-96f457e1adec",
   "metadata": {},
   "outputs": [
    {
     "name": "stdout",
     "output_type": "stream",
     "text": [
      "<class 'pandas.core.frame.DataFrame'>\n",
      "Int64Index: 729 entries, 0 to 728\n",
      "Data columns (total 3 columns):\n",
      " #   Column        Non-Null Count  Dtype         \n",
      "---  ------        --------------  -----         \n",
      " 0   payment_date  729 non-null    datetime64[ns]\n",
      " 1   sale_type     510 non-null    object        \n",
      " 2   volume        510 non-null    float64       \n",
      "dtypes: datetime64[ns](1), float64(1), object(1)\n",
      "memory usage: 22.8+ KB\n"
     ]
    }
   ],
   "source": [
    "df_fast_full.info()"
   ]
  },
  {
   "cell_type": "code",
   "execution_count": 66,
   "id": "91a725f8-68bf-483d-b182-106d2881680a",
   "metadata": {},
   "outputs": [],
   "source": [
    "df_fast_full.fillna(0, inplace=True)"
   ]
  },
  {
   "cell_type": "code",
   "execution_count": 67,
   "id": "f71acf58-47d8-4a1f-b76a-d4cd7bcfd699",
   "metadata": {},
   "outputs": [
    {
     "name": "stdout",
     "output_type": "stream",
     "text": [
      "<class 'pandas.core.frame.DataFrame'>\n",
      "Int64Index: 729 entries, 0 to 728\n",
      "Data columns (total 3 columns):\n",
      " #   Column        Non-Null Count  Dtype         \n",
      "---  ------        --------------  -----         \n",
      " 0   payment_date  729 non-null    datetime64[ns]\n",
      " 1   sale_type     729 non-null    object        \n",
      " 2   volume        729 non-null    float64       \n",
      "dtypes: datetime64[ns](1), float64(1), object(1)\n",
      "memory usage: 22.8+ KB\n"
     ]
    }
   ],
   "source": [
    "df_fast_full.info()"
   ]
  },
  {
   "cell_type": "code",
   "execution_count": 68,
   "id": "6c6011fe-7386-410b-819b-bd4b5133c805",
   "metadata": {},
   "outputs": [],
   "source": [
    "data_fast = generate_features_for_series(df_fast_full)"
   ]
  },
  {
   "cell_type": "code",
   "execution_count": 69,
   "id": "e414de0b-4979-4a2b-8bac-a25aa127327c",
   "metadata": {},
   "outputs": [
    {
     "data": {
      "text/html": [
       "<div>\n",
       "<style scoped>\n",
       "    .dataframe tbody tr th:only-of-type {\n",
       "        vertical-align: middle;\n",
       "    }\n",
       "\n",
       "    .dataframe tbody tr th {\n",
       "        vertical-align: top;\n",
       "    }\n",
       "\n",
       "    .dataframe thead th {\n",
       "        text-align: right;\n",
       "    }\n",
       "</style>\n",
       "<table border=\"1\" class=\"dataframe\">\n",
       "  <thead>\n",
       "    <tr style=\"text-align: right;\">\n",
       "      <th></th>\n",
       "      <th>payment_date</th>\n",
       "      <th>sale_type</th>\n",
       "      <th>volume</th>\n",
       "      <th>is_holiday</th>\n",
       "      <th>lag_30d</th>\n",
       "      <th>lag_61d</th>\n",
       "      <th>lag_91d</th>\n",
       "      <th>rolling_7d</th>\n",
       "      <th>rolling_30d</th>\n",
       "      <th>rolling_91d</th>\n",
       "    </tr>\n",
       "  </thead>\n",
       "  <tbody>\n",
       "    <tr>\n",
       "      <th>91</th>\n",
       "      <td>2021-05-04</td>\n",
       "      <td>fast sale</td>\n",
       "      <td>1844146.0</td>\n",
       "      <td>0.0</td>\n",
       "      <td>0.0</td>\n",
       "      <td>1222334.0</td>\n",
       "      <td>1352338.0</td>\n",
       "      <td>4.290599e+05</td>\n",
       "      <td>7.233335e+05</td>\n",
       "      <td>8.363605e+05</td>\n",
       "    </tr>\n",
       "    <tr>\n",
       "      <th>92</th>\n",
       "      <td>2021-05-05</td>\n",
       "      <td>fast sale</td>\n",
       "      <td>1694702.0</td>\n",
       "      <td>0.0</td>\n",
       "      <td>1350152.0</td>\n",
       "      <td>990521.0</td>\n",
       "      <td>1438638.0</td>\n",
       "      <td>6.593329e+05</td>\n",
       "      <td>7.643881e+05</td>\n",
       "      <td>8.512611e+05</td>\n",
       "    </tr>\n",
       "    <tr>\n",
       "      <th>93</th>\n",
       "      <td>2021-05-06</td>\n",
       "      <td>fast sale</td>\n",
       "      <td>1702965.0</td>\n",
       "      <td>0.0</td>\n",
       "      <td>1418457.0</td>\n",
       "      <td>798208.0</td>\n",
       "      <td>1229778.0</td>\n",
       "      <td>8.491139e+05</td>\n",
       "      <td>8.071855e+05</td>\n",
       "      <td>8.675919e+05</td>\n",
       "    </tr>\n",
       "    <tr>\n",
       "      <th>94</th>\n",
       "      <td>2021-05-07</td>\n",
       "      <td>0</td>\n",
       "      <td>0.0</td>\n",
       "      <td>0.0</td>\n",
       "      <td>1432129.0</td>\n",
       "      <td>920614.0</td>\n",
       "      <td>1436396.0</td>\n",
       "      <td>9.948677e+05</td>\n",
       "      <td>8.480397e+05</td>\n",
       "      <td>8.837323e+05</td>\n",
       "    </tr>\n",
       "    <tr>\n",
       "      <th>95</th>\n",
       "      <td>2021-05-08</td>\n",
       "      <td>0</td>\n",
       "      <td>0.0</td>\n",
       "      <td>1.0</td>\n",
       "      <td>0.0</td>\n",
       "      <td>783514.0</td>\n",
       "      <td>1054924.0</td>\n",
       "      <td>7.461508e+05</td>\n",
       "      <td>7.926485e+05</td>\n",
       "      <td>8.586379e+05</td>\n",
       "    </tr>\n",
       "    <tr>\n",
       "      <th>...</th>\n",
       "      <td>...</td>\n",
       "      <td>...</td>\n",
       "      <td>...</td>\n",
       "      <td>...</td>\n",
       "      <td>...</td>\n",
       "      <td>...</td>\n",
       "      <td>...</td>\n",
       "      <td>...</td>\n",
       "      <td>...</td>\n",
       "      <td>...</td>\n",
       "    </tr>\n",
       "    <tr>\n",
       "      <th>724</th>\n",
       "      <td>2023-01-27</td>\n",
       "      <td>fast sale</td>\n",
       "      <td>2357889.0</td>\n",
       "      <td>0.0</td>\n",
       "      <td>1604588.0</td>\n",
       "      <td>1771166.0</td>\n",
       "      <td>2482934.0</td>\n",
       "      <td>1.237888e+06</td>\n",
       "      <td>1.330258e+06</td>\n",
       "      <td>1.400023e+06</td>\n",
       "    </tr>\n",
       "    <tr>\n",
       "      <th>725</th>\n",
       "      <td>2023-01-28</td>\n",
       "      <td>fast sale</td>\n",
       "      <td>1986177.0</td>\n",
       "      <td>1.0</td>\n",
       "      <td>1535544.0</td>\n",
       "      <td>1997260.0</td>\n",
       "      <td>2073490.0</td>\n",
       "      <td>1.312302e+06</td>\n",
       "      <td>1.343502e+06</td>\n",
       "      <td>1.402969e+06</td>\n",
       "    </tr>\n",
       "    <tr>\n",
       "      <th>726</th>\n",
       "      <td>2023-01-29</td>\n",
       "      <td>fast sale</td>\n",
       "      <td>2214400.0</td>\n",
       "      <td>1.0</td>\n",
       "      <td>1225713.0</td>\n",
       "      <td>2028271.0</td>\n",
       "      <td>2126027.0</td>\n",
       "      <td>1.290655e+06</td>\n",
       "      <td>1.335903e+06</td>\n",
       "      <td>1.399116e+06</td>\n",
       "    </tr>\n",
       "    <tr>\n",
       "      <th>727</th>\n",
       "      <td>2023-01-30</td>\n",
       "      <td>fast sale</td>\n",
       "      <td>2896360.0</td>\n",
       "      <td>0.0</td>\n",
       "      <td>999584.0</td>\n",
       "      <td>0.0</td>\n",
       "      <td>0.0</td>\n",
       "      <td>1.217887e+06</td>\n",
       "      <td>1.314205e+06</td>\n",
       "      <td>1.390430e+06</td>\n",
       "    </tr>\n",
       "    <tr>\n",
       "      <th>728</th>\n",
       "      <td>2023-01-31</td>\n",
       "      <td>fast sale</td>\n",
       "      <td>2724720.0</td>\n",
       "      <td>0.0</td>\n",
       "      <td>0.0</td>\n",
       "      <td>0.0</td>\n",
       "      <td>2498553.0</td>\n",
       "      <td>9.134154e+05</td>\n",
       "      <td>1.229417e+06</td>\n",
       "      <td>1.360204e+06</td>\n",
       "    </tr>\n",
       "  </tbody>\n",
       "</table>\n",
       "<p>638 rows × 10 columns</p>\n",
       "</div>"
      ],
      "text/plain": [
       "    payment_date  sale_type     volume  is_holiday    lag_30d    lag_61d  \\\n",
       "91    2021-05-04  fast sale  1844146.0         0.0        0.0  1222334.0   \n",
       "92    2021-05-05  fast sale  1694702.0         0.0  1350152.0   990521.0   \n",
       "93    2021-05-06  fast sale  1702965.0         0.0  1418457.0   798208.0   \n",
       "94    2021-05-07          0        0.0         0.0  1432129.0   920614.0   \n",
       "95    2021-05-08          0        0.0         1.0        0.0   783514.0   \n",
       "..           ...        ...        ...         ...        ...        ...   \n",
       "724   2023-01-27  fast sale  2357889.0         0.0  1604588.0  1771166.0   \n",
       "725   2023-01-28  fast sale  1986177.0         1.0  1535544.0  1997260.0   \n",
       "726   2023-01-29  fast sale  2214400.0         1.0  1225713.0  2028271.0   \n",
       "727   2023-01-30  fast sale  2896360.0         0.0   999584.0        0.0   \n",
       "728   2023-01-31  fast sale  2724720.0         0.0        0.0        0.0   \n",
       "\n",
       "       lag_91d    rolling_7d   rolling_30d   rolling_91d  \n",
       "91   1352338.0  4.290599e+05  7.233335e+05  8.363605e+05  \n",
       "92   1438638.0  6.593329e+05  7.643881e+05  8.512611e+05  \n",
       "93   1229778.0  8.491139e+05  8.071855e+05  8.675919e+05  \n",
       "94   1436396.0  9.948677e+05  8.480397e+05  8.837323e+05  \n",
       "95   1054924.0  7.461508e+05  7.926485e+05  8.586379e+05  \n",
       "..         ...           ...           ...           ...  \n",
       "724  2482934.0  1.237888e+06  1.330258e+06  1.400023e+06  \n",
       "725  2073490.0  1.312302e+06  1.343502e+06  1.402969e+06  \n",
       "726  2126027.0  1.290655e+06  1.335903e+06  1.399116e+06  \n",
       "727        0.0  1.217887e+06  1.314205e+06  1.390430e+06  \n",
       "728  2498553.0  9.134154e+05  1.229417e+06  1.360204e+06  \n",
       "\n",
       "[638 rows x 10 columns]"
      ]
     },
     "execution_count": 69,
     "metadata": {},
     "output_type": "execute_result"
    }
   ],
   "source": [
    "data_fast"
   ]
  },
  {
   "cell_type": "code",
   "execution_count": 70,
   "id": "0f5fc954-28d7-48ab-a3d4-c67a93613b09",
   "metadata": {},
   "outputs": [
    {
     "data": {
      "text/html": [
       "<style>#sk-container-id-4 {color: black;}#sk-container-id-4 pre{padding: 0;}#sk-container-id-4 div.sk-toggleable {background-color: white;}#sk-container-id-4 label.sk-toggleable__label {cursor: pointer;display: block;width: 100%;margin-bottom: 0;padding: 0.3em;box-sizing: border-box;text-align: center;}#sk-container-id-4 label.sk-toggleable__label-arrow:before {content: \"▸\";float: left;margin-right: 0.25em;color: #696969;}#sk-container-id-4 label.sk-toggleable__label-arrow:hover:before {color: black;}#sk-container-id-4 div.sk-estimator:hover label.sk-toggleable__label-arrow:before {color: black;}#sk-container-id-4 div.sk-toggleable__content {max-height: 0;max-width: 0;overflow: hidden;text-align: left;background-color: #f0f8ff;}#sk-container-id-4 div.sk-toggleable__content pre {margin: 0.2em;color: black;border-radius: 0.25em;background-color: #f0f8ff;}#sk-container-id-4 input.sk-toggleable__control:checked~div.sk-toggleable__content {max-height: 200px;max-width: 100%;overflow: auto;}#sk-container-id-4 input.sk-toggleable__control:checked~label.sk-toggleable__label-arrow:before {content: \"▾\";}#sk-container-id-4 div.sk-estimator input.sk-toggleable__control:checked~label.sk-toggleable__label {background-color: #d4ebff;}#sk-container-id-4 div.sk-label input.sk-toggleable__control:checked~label.sk-toggleable__label {background-color: #d4ebff;}#sk-container-id-4 input.sk-hidden--visually {border: 0;clip: rect(1px 1px 1px 1px);clip: rect(1px, 1px, 1px, 1px);height: 1px;margin: -1px;overflow: hidden;padding: 0;position: absolute;width: 1px;}#sk-container-id-4 div.sk-estimator {font-family: monospace;background-color: #f0f8ff;border: 1px dotted black;border-radius: 0.25em;box-sizing: border-box;margin-bottom: 0.5em;}#sk-container-id-4 div.sk-estimator:hover {background-color: #d4ebff;}#sk-container-id-4 div.sk-parallel-item::after {content: \"\";width: 100%;border-bottom: 1px solid gray;flex-grow: 1;}#sk-container-id-4 div.sk-label:hover label.sk-toggleable__label {background-color: #d4ebff;}#sk-container-id-4 div.sk-serial::before {content: \"\";position: absolute;border-left: 1px solid gray;box-sizing: border-box;top: 0;bottom: 0;left: 50%;z-index: 0;}#sk-container-id-4 div.sk-serial {display: flex;flex-direction: column;align-items: center;background-color: white;padding-right: 0.2em;padding-left: 0.2em;position: relative;}#sk-container-id-4 div.sk-item {position: relative;z-index: 1;}#sk-container-id-4 div.sk-parallel {display: flex;align-items: stretch;justify-content: center;background-color: white;position: relative;}#sk-container-id-4 div.sk-item::before, #sk-container-id-4 div.sk-parallel-item::before {content: \"\";position: absolute;border-left: 1px solid gray;box-sizing: border-box;top: 0;bottom: 0;left: 50%;z-index: -1;}#sk-container-id-4 div.sk-parallel-item {display: flex;flex-direction: column;z-index: 1;position: relative;background-color: white;}#sk-container-id-4 div.sk-parallel-item:first-child::after {align-self: flex-end;width: 50%;}#sk-container-id-4 div.sk-parallel-item:last-child::after {align-self: flex-start;width: 50%;}#sk-container-id-4 div.sk-parallel-item:only-child::after {width: 0;}#sk-container-id-4 div.sk-dashed-wrapped {border: 1px dashed gray;margin: 0 0.4em 0.5em 0.4em;box-sizing: border-box;padding-bottom: 0.4em;background-color: white;}#sk-container-id-4 div.sk-label label {font-family: monospace;font-weight: bold;display: inline-block;line-height: 1.2em;}#sk-container-id-4 div.sk-label-container {text-align: center;}#sk-container-id-4 div.sk-container {/* jupyter's `normalize.less` sets `[hidden] { display: none; }` but bootstrap.min.css set `[hidden] { display: none !important; }` so we also need the `!important` here to be able to override the default hidden behavior on the sphinx rendered scikit-learn.org. See: https://github.com/scikit-learn/scikit-learn/issues/21755 */display: inline-block !important;position: relative;}#sk-container-id-4 div.sk-text-repr-fallback {display: none;}</style><div id=\"sk-container-id-4\" class=\"sk-top-container\"><div class=\"sk-text-repr-fallback\"><pre>LinearRegression()</pre><b>In a Jupyter environment, please rerun this cell to show the HTML representation or trust the notebook. <br />On GitHub, the HTML representation is unable to render, please try loading this page with nbviewer.org.</b></div><div class=\"sk-container\" hidden><div class=\"sk-item\"><div class=\"sk-estimator sk-toggleable\"><input class=\"sk-toggleable__control sk-hidden--visually\" id=\"sk-estimator-id-4\" type=\"checkbox\" checked><label for=\"sk-estimator-id-4\" class=\"sk-toggleable__label sk-toggleable__label-arrow\">LinearRegression</label><div class=\"sk-toggleable__content\"><pre>LinearRegression()</pre></div></div></div></div></div>"
      ],
      "text/plain": [
       "LinearRegression()"
      ]
     },
     "execution_count": 70,
     "metadata": {},
     "output_type": "execute_result"
    }
   ],
   "source": [
    "X_ = data_fast.drop(['payment_date', 'volume', 'sale_type'], axis=1)\n",
    "Y_ = data_fast.volume\n",
    "\n",
    "model = LinearRegression()\n",
    "\n",
    "model.fit(X_, Y_)"
   ]
  },
  {
   "cell_type": "code",
   "execution_count": 71,
   "id": "8b3084ee-87d8-4f03-8ff6-343dd85b97f3",
   "metadata": {},
   "outputs": [],
   "source": [
    "data_fast['fast_preds'] = model.predict(X_)\n",
    "data_fast['fast_Y'] = Y_"
   ]
  },
  {
   "cell_type": "markdown",
   "id": "372d327c-54c9-46b3-810f-a252196e4e76",
   "metadata": {},
   "source": [
    "Merging all predictions. "
   ]
  },
  {
   "cell_type": "code",
   "execution_count": 72,
   "id": "746ac336-be20-4a39-b43c-5d1063617d87",
   "metadata": {},
   "outputs": [
    {
     "data": {
      "text/html": [
       "<div>\n",
       "<style scoped>\n",
       "    .dataframe tbody tr th:only-of-type {\n",
       "        vertical-align: middle;\n",
       "    }\n",
       "\n",
       "    .dataframe tbody tr th {\n",
       "        vertical-align: top;\n",
       "    }\n",
       "\n",
       "    .dataframe thead th {\n",
       "        text-align: right;\n",
       "    }\n",
       "</style>\n",
       "<table border=\"1\" class=\"dataframe\">\n",
       "  <thead>\n",
       "    <tr style=\"text-align: right;\">\n",
       "      <th></th>\n",
       "      <th>payment_date</th>\n",
       "      <th>sale_type</th>\n",
       "      <th>volume</th>\n",
       "      <th>is_holiday</th>\n",
       "      <th>lag_30d</th>\n",
       "      <th>lag_61d</th>\n",
       "      <th>lag_91d</th>\n",
       "      <th>rolling_7d</th>\n",
       "      <th>rolling_30d</th>\n",
       "      <th>rolling_91d</th>\n",
       "      <th>quick_preds</th>\n",
       "      <th>quick_Y</th>\n",
       "    </tr>\n",
       "  </thead>\n",
       "  <tbody>\n",
       "    <tr>\n",
       "      <th>91</th>\n",
       "      <td>2021-05-04</td>\n",
       "      <td>quick sale</td>\n",
       "      <td>1611785.0</td>\n",
       "      <td>0.0</td>\n",
       "      <td>0.0</td>\n",
       "      <td>1127938.0</td>\n",
       "      <td>1214139.0</td>\n",
       "      <td>353959.397373</td>\n",
       "      <td>633181.975760</td>\n",
       "      <td>744060.335095</td>\n",
       "      <td>9.731989e+05</td>\n",
       "      <td>1611785.0</td>\n",
       "    </tr>\n",
       "    <tr>\n",
       "      <th>92</th>\n",
       "      <td>2021-05-05</td>\n",
       "      <td>quick sale</td>\n",
       "      <td>1999040.0</td>\n",
       "      <td>0.0</td>\n",
       "      <td>1352975.0</td>\n",
       "      <td>883341.0</td>\n",
       "      <td>1274827.0</td>\n",
       "      <td>603713.301390</td>\n",
       "      <td>680326.088977</td>\n",
       "      <td>761719.598347</td>\n",
       "      <td>9.953109e+05</td>\n",
       "      <td>1999040.0</td>\n",
       "    </tr>\n",
       "    <tr>\n",
       "      <th>93</th>\n",
       "      <td>2021-05-06</td>\n",
       "      <td>quick sale</td>\n",
       "      <td>1499572.0</td>\n",
       "      <td>0.0</td>\n",
       "      <td>1419857.0</td>\n",
       "      <td>960981.0</td>\n",
       "      <td>1272215.0</td>\n",
       "      <td>807749.228101</td>\n",
       "      <td>728715.517565</td>\n",
       "      <td>780668.770190</td>\n",
       "      <td>1.017302e+06</td>\n",
       "      <td>1499572.0</td>\n",
       "    </tr>\n",
       "    <tr>\n",
       "      <th>94</th>\n",
       "      <td>2021-05-07</td>\n",
       "      <td>0</td>\n",
       "      <td>0.0</td>\n",
       "      <td>0.0</td>\n",
       "      <td>1293265.0</td>\n",
       "      <td>922074.0</td>\n",
       "      <td>1131727.0</td>\n",
       "      <td>929128.171995</td>\n",
       "      <td>765621.633433</td>\n",
       "      <td>795324.138793</td>\n",
       "      <td>1.042241e+06</td>\n",
       "      <td>0.0</td>\n",
       "    </tr>\n",
       "    <tr>\n",
       "      <th>95</th>\n",
       "      <td>2021-05-08</td>\n",
       "      <td>0</td>\n",
       "      <td>0.0</td>\n",
       "      <td>1.0</td>\n",
       "      <td>0.0</td>\n",
       "      <td>758255.0</td>\n",
       "      <td>961952.0</td>\n",
       "      <td>696846.127678</td>\n",
       "      <td>715613.725645</td>\n",
       "      <td>772740.176041</td>\n",
       "      <td>9.484519e+05</td>\n",
       "      <td>0.0</td>\n",
       "    </tr>\n",
       "  </tbody>\n",
       "</table>\n",
       "</div>"
      ],
      "text/plain": [
       "   payment_date   sale_type     volume  is_holiday    lag_30d    lag_61d  \\\n",
       "91   2021-05-04  quick sale  1611785.0         0.0        0.0  1127938.0   \n",
       "92   2021-05-05  quick sale  1999040.0         0.0  1352975.0   883341.0   \n",
       "93   2021-05-06  quick sale  1499572.0         0.0  1419857.0   960981.0   \n",
       "94   2021-05-07           0        0.0         0.0  1293265.0   922074.0   \n",
       "95   2021-05-08           0        0.0         1.0        0.0   758255.0   \n",
       "\n",
       "      lag_91d     rolling_7d    rolling_30d    rolling_91d   quick_preds  \\\n",
       "91  1214139.0  353959.397373  633181.975760  744060.335095  9.731989e+05   \n",
       "92  1274827.0  603713.301390  680326.088977  761719.598347  9.953109e+05   \n",
       "93  1272215.0  807749.228101  728715.517565  780668.770190  1.017302e+06   \n",
       "94  1131727.0  929128.171995  765621.633433  795324.138793  1.042241e+06   \n",
       "95   961952.0  696846.127678  715613.725645  772740.176041  9.484519e+05   \n",
       "\n",
       "      quick_Y  \n",
       "91  1611785.0  \n",
       "92  1999040.0  \n",
       "93  1499572.0  \n",
       "94        0.0  \n",
       "95        0.0  "
      ]
     },
     "execution_count": 72,
     "metadata": {},
     "output_type": "execute_result"
    }
   ],
   "source": [
    "data_quick.head(5)"
   ]
  },
  {
   "cell_type": "code",
   "execution_count": 73,
   "id": "fc944aee-046c-4d10-aade-d7b83e376b26",
   "metadata": {},
   "outputs": [
    {
     "data": {
      "text/html": [
       "<div>\n",
       "<style scoped>\n",
       "    .dataframe tbody tr th:only-of-type {\n",
       "        vertical-align: middle;\n",
       "    }\n",
       "\n",
       "    .dataframe tbody tr th {\n",
       "        vertical-align: top;\n",
       "    }\n",
       "\n",
       "    .dataframe thead th {\n",
       "        text-align: right;\n",
       "    }\n",
       "</style>\n",
       "<table border=\"1\" class=\"dataframe\">\n",
       "  <thead>\n",
       "    <tr style=\"text-align: right;\">\n",
       "      <th></th>\n",
       "      <th>payment_date</th>\n",
       "      <th>sale_type</th>\n",
       "      <th>volume</th>\n",
       "      <th>is_holiday</th>\n",
       "      <th>lag_30d</th>\n",
       "      <th>lag_61d</th>\n",
       "      <th>lag_91d</th>\n",
       "      <th>rolling_7d</th>\n",
       "      <th>rolling_30d</th>\n",
       "      <th>rolling_91d</th>\n",
       "      <th>basic_preds</th>\n",
       "      <th>basic_Y</th>\n",
       "    </tr>\n",
       "  </thead>\n",
       "  <tbody>\n",
       "    <tr>\n",
       "      <th>91</th>\n",
       "      <td>2021-05-04</td>\n",
       "      <td>basic sale</td>\n",
       "      <td>1129570.0</td>\n",
       "      <td>0.0</td>\n",
       "      <td>0.0</td>\n",
       "      <td>948405.0</td>\n",
       "      <td>830390.0</td>\n",
       "      <td>268987.659335</td>\n",
       "      <td>480998.477641</td>\n",
       "      <td>557374.169111</td>\n",
       "      <td>9.724330e+05</td>\n",
       "      <td>1129570.0</td>\n",
       "    </tr>\n",
       "    <tr>\n",
       "      <th>92</th>\n",
       "      <td>2021-05-05</td>\n",
       "      <td>basic sale</td>\n",
       "      <td>1148880.0</td>\n",
       "      <td>0.0</td>\n",
       "      <td>1004845.0</td>\n",
       "      <td>758465.0</td>\n",
       "      <td>791210.0</td>\n",
       "      <td>452951.996976</td>\n",
       "      <td>515308.729237</td>\n",
       "      <td>570351.365516</td>\n",
       "      <td>9.853028e+05</td>\n",
       "      <td>1148880.0</td>\n",
       "    </tr>\n",
       "    <tr>\n",
       "      <th>93</th>\n",
       "      <td>2021-05-06</td>\n",
       "      <td>basic sale</td>\n",
       "      <td>1087360.0</td>\n",
       "      <td>0.0</td>\n",
       "      <td>1091265.0</td>\n",
       "      <td>730705.0</td>\n",
       "      <td>819105.0</td>\n",
       "      <td>612530.249342</td>\n",
       "      <td>552995.044195</td>\n",
       "      <td>585349.574022</td>\n",
       "      <td>1.002958e+06</td>\n",
       "      <td>1087360.0</td>\n",
       "    </tr>\n",
       "    <tr>\n",
       "      <th>94</th>\n",
       "      <td>2021-05-07</td>\n",
       "      <td>0</td>\n",
       "      <td>0.0</td>\n",
       "      <td>0.0</td>\n",
       "      <td>993930.0</td>\n",
       "      <td>761665.0</td>\n",
       "      <td>749195.0</td>\n",
       "      <td>707880.187728</td>\n",
       "      <td>581820.146468</td>\n",
       "      <td>597031.081606</td>\n",
       "      <td>1.017753e+06</td>\n",
       "      <td>0.0</td>\n",
       "    </tr>\n",
       "    <tr>\n",
       "      <th>95</th>\n",
       "      <td>2021-05-08</td>\n",
       "      <td>0</td>\n",
       "      <td>0.0</td>\n",
       "      <td>1.0</td>\n",
       "      <td>0.0</td>\n",
       "      <td>599720.0</td>\n",
       "      <td>746440.0</td>\n",
       "      <td>530910.139792</td>\n",
       "      <td>543817.552283</td>\n",
       "      <td>580077.833175</td>\n",
       "      <td>1.018234e+06</td>\n",
       "      <td>0.0</td>\n",
       "    </tr>\n",
       "  </tbody>\n",
       "</table>\n",
       "</div>"
      ],
      "text/plain": [
       "   payment_date   sale_type     volume  is_holiday    lag_30d   lag_61d  \\\n",
       "91   2021-05-04  basic sale  1129570.0         0.0        0.0  948405.0   \n",
       "92   2021-05-05  basic sale  1148880.0         0.0  1004845.0  758465.0   \n",
       "93   2021-05-06  basic sale  1087360.0         0.0  1091265.0  730705.0   \n",
       "94   2021-05-07           0        0.0         0.0   993930.0  761665.0   \n",
       "95   2021-05-08           0        0.0         1.0        0.0  599720.0   \n",
       "\n",
       "     lag_91d     rolling_7d    rolling_30d    rolling_91d   basic_preds  \\\n",
       "91  830390.0  268987.659335  480998.477641  557374.169111  9.724330e+05   \n",
       "92  791210.0  452951.996976  515308.729237  570351.365516  9.853028e+05   \n",
       "93  819105.0  612530.249342  552995.044195  585349.574022  1.002958e+06   \n",
       "94  749195.0  707880.187728  581820.146468  597031.081606  1.017753e+06   \n",
       "95  746440.0  530910.139792  543817.552283  580077.833175  1.018234e+06   \n",
       "\n",
       "      basic_Y  \n",
       "91  1129570.0  \n",
       "92  1148880.0  \n",
       "93  1087360.0  \n",
       "94        0.0  \n",
       "95        0.0  "
      ]
     },
     "execution_count": 73,
     "metadata": {},
     "output_type": "execute_result"
    }
   ],
   "source": [
    "data_basic.head(5)"
   ]
  },
  {
   "cell_type": "code",
   "execution_count": 74,
   "id": "038962f0-baab-41c5-9c53-d77205a39477",
   "metadata": {},
   "outputs": [
    {
     "data": {
      "text/html": [
       "<div>\n",
       "<style scoped>\n",
       "    .dataframe tbody tr th:only-of-type {\n",
       "        vertical-align: middle;\n",
       "    }\n",
       "\n",
       "    .dataframe tbody tr th {\n",
       "        vertical-align: top;\n",
       "    }\n",
       "\n",
       "    .dataframe thead th {\n",
       "        text-align: right;\n",
       "    }\n",
       "</style>\n",
       "<table border=\"1\" class=\"dataframe\">\n",
       "  <thead>\n",
       "    <tr style=\"text-align: right;\">\n",
       "      <th></th>\n",
       "      <th>payment_date</th>\n",
       "      <th>sale_type</th>\n",
       "      <th>volume</th>\n",
       "      <th>is_holiday</th>\n",
       "      <th>lag_30d</th>\n",
       "      <th>lag_61d</th>\n",
       "      <th>lag_91d</th>\n",
       "      <th>rolling_7d</th>\n",
       "      <th>rolling_30d</th>\n",
       "      <th>rolling_91d</th>\n",
       "      <th>fast_preds</th>\n",
       "      <th>fast_Y</th>\n",
       "    </tr>\n",
       "  </thead>\n",
       "  <tbody>\n",
       "    <tr>\n",
       "      <th>91</th>\n",
       "      <td>2021-05-04</td>\n",
       "      <td>fast sale</td>\n",
       "      <td>1844146.0</td>\n",
       "      <td>0.0</td>\n",
       "      <td>0.0</td>\n",
       "      <td>1222334.0</td>\n",
       "      <td>1352338.0</td>\n",
       "      <td>429059.884901</td>\n",
       "      <td>723333.484315</td>\n",
       "      <td>836360.530042</td>\n",
       "      <td>1.160097e+06</td>\n",
       "      <td>1844146.0</td>\n",
       "    </tr>\n",
       "    <tr>\n",
       "      <th>92</th>\n",
       "      <td>2021-05-05</td>\n",
       "      <td>fast sale</td>\n",
       "      <td>1694702.0</td>\n",
       "      <td>0.0</td>\n",
       "      <td>1350152.0</td>\n",
       "      <td>990521.0</td>\n",
       "      <td>1438638.0</td>\n",
       "      <td>659332.916774</td>\n",
       "      <td>764388.068168</td>\n",
       "      <td>851261.105357</td>\n",
       "      <td>1.181756e+06</td>\n",
       "      <td>1694702.0</td>\n",
       "    </tr>\n",
       "    <tr>\n",
       "      <th>93</th>\n",
       "      <td>2021-05-06</td>\n",
       "      <td>fast sale</td>\n",
       "      <td>1702965.0</td>\n",
       "      <td>0.0</td>\n",
       "      <td>1418457.0</td>\n",
       "      <td>798208.0</td>\n",
       "      <td>1229778.0</td>\n",
       "      <td>849113.939495</td>\n",
       "      <td>807185.497453</td>\n",
       "      <td>867591.878307</td>\n",
       "      <td>1.221565e+06</td>\n",
       "      <td>1702965.0</td>\n",
       "    </tr>\n",
       "    <tr>\n",
       "      <th>94</th>\n",
       "      <td>2021-05-07</td>\n",
       "      <td>0</td>\n",
       "      <td>0.0</td>\n",
       "      <td>0.0</td>\n",
       "      <td>1432129.0</td>\n",
       "      <td>920614.0</td>\n",
       "      <td>1436396.0</td>\n",
       "      <td>994867.705725</td>\n",
       "      <td>848039.732615</td>\n",
       "      <td>883732.261570</td>\n",
       "      <td>1.211104e+06</td>\n",
       "      <td>0.0</td>\n",
       "    </tr>\n",
       "    <tr>\n",
       "      <th>95</th>\n",
       "      <td>2021-05-08</td>\n",
       "      <td>0</td>\n",
       "      <td>0.0</td>\n",
       "      <td>1.0</td>\n",
       "      <td>0.0</td>\n",
       "      <td>783514.0</td>\n",
       "      <td>1054924.0</td>\n",
       "      <td>746150.777882</td>\n",
       "      <td>792648.543419</td>\n",
       "      <td>858637.868600</td>\n",
       "      <td>1.075536e+06</td>\n",
       "      <td>0.0</td>\n",
       "    </tr>\n",
       "  </tbody>\n",
       "</table>\n",
       "</div>"
      ],
      "text/plain": [
       "   payment_date  sale_type     volume  is_holiday    lag_30d    lag_61d  \\\n",
       "91   2021-05-04  fast sale  1844146.0         0.0        0.0  1222334.0   \n",
       "92   2021-05-05  fast sale  1694702.0         0.0  1350152.0   990521.0   \n",
       "93   2021-05-06  fast sale  1702965.0         0.0  1418457.0   798208.0   \n",
       "94   2021-05-07          0        0.0         0.0  1432129.0   920614.0   \n",
       "95   2021-05-08          0        0.0         1.0        0.0   783514.0   \n",
       "\n",
       "      lag_91d     rolling_7d    rolling_30d    rolling_91d    fast_preds  \\\n",
       "91  1352338.0  429059.884901  723333.484315  836360.530042  1.160097e+06   \n",
       "92  1438638.0  659332.916774  764388.068168  851261.105357  1.181756e+06   \n",
       "93  1229778.0  849113.939495  807185.497453  867591.878307  1.221565e+06   \n",
       "94  1436396.0  994867.705725  848039.732615  883732.261570  1.211104e+06   \n",
       "95  1054924.0  746150.777882  792648.543419  858637.868600  1.075536e+06   \n",
       "\n",
       "       fast_Y  \n",
       "91  1844146.0  \n",
       "92  1694702.0  \n",
       "93  1702965.0  \n",
       "94        0.0  \n",
       "95        0.0  "
      ]
     },
     "execution_count": 74,
     "metadata": {},
     "output_type": "execute_result"
    }
   ],
   "source": [
    "data_fast.head(5)"
   ]
  },
  {
   "cell_type": "code",
   "execution_count": 75,
   "id": "a23ed113-843e-4065-9dcf-a917f309fe77",
   "metadata": {},
   "outputs": [],
   "source": [
    "merged_df = pd.merge(data_quick[['payment_date', 'quick_preds', 'quick_Y']],\n",
    "                     data_basic[['payment_date', 'basic_preds', 'basic_Y']],\n",
    "                     how='inner',\n",
    "                     on='payment_date')"
   ]
  },
  {
   "cell_type": "code",
   "execution_count": 76,
   "id": "14adb2c6-5cbd-462b-aca6-48b946038fcd",
   "metadata": {},
   "outputs": [],
   "source": [
    "merged_df = pd.merge(merged_df,\n",
    "                     data_fast[['payment_date', 'fast_preds', 'fast_Y']],\n",
    "                     how='inner',\n",
    "                     on='payment_date')"
   ]
  },
  {
   "cell_type": "code",
   "execution_count": 77,
   "id": "c2960911-c2be-4065-ba39-89b0ae7a597e",
   "metadata": {},
   "outputs": [],
   "source": [
    "merged_df['sum_preds'] = merged_df.quick_preds + merged_df.basic_preds + merged_df.fast_preds\n",
    "merged_df['sum_Y'] = merged_df.quick_Y + merged_df.basic_Y + merged_df.fast_Y"
   ]
  },
  {
   "cell_type": "code",
   "execution_count": 78,
   "id": "4d6fe7da-d7c5-4444-b72e-c2dff7661e74",
   "metadata": {},
   "outputs": [
    {
     "data": {
      "text/html": [
       "<div>\n",
       "<style scoped>\n",
       "    .dataframe tbody tr th:only-of-type {\n",
       "        vertical-align: middle;\n",
       "    }\n",
       "\n",
       "    .dataframe tbody tr th {\n",
       "        vertical-align: top;\n",
       "    }\n",
       "\n",
       "    .dataframe thead th {\n",
       "        text-align: right;\n",
       "    }\n",
       "</style>\n",
       "<table border=\"1\" class=\"dataframe\">\n",
       "  <thead>\n",
       "    <tr style=\"text-align: right;\">\n",
       "      <th></th>\n",
       "      <th>payment_date</th>\n",
       "      <th>quick_preds</th>\n",
       "      <th>quick_Y</th>\n",
       "      <th>basic_preds</th>\n",
       "      <th>basic_Y</th>\n",
       "      <th>fast_preds</th>\n",
       "      <th>fast_Y</th>\n",
       "      <th>sum_preds</th>\n",
       "      <th>sum_Y</th>\n",
       "    </tr>\n",
       "  </thead>\n",
       "  <tbody>\n",
       "    <tr>\n",
       "      <th>0</th>\n",
       "      <td>2021-05-04</td>\n",
       "      <td>9.731989e+05</td>\n",
       "      <td>1611785.0</td>\n",
       "      <td>9.724330e+05</td>\n",
       "      <td>1129570.0</td>\n",
       "      <td>1.160097e+06</td>\n",
       "      <td>1844146.0</td>\n",
       "      <td>3.105729e+06</td>\n",
       "      <td>4585501.0</td>\n",
       "    </tr>\n",
       "    <tr>\n",
       "      <th>1</th>\n",
       "      <td>2021-05-05</td>\n",
       "      <td>9.953109e+05</td>\n",
       "      <td>1999040.0</td>\n",
       "      <td>9.853028e+05</td>\n",
       "      <td>1148880.0</td>\n",
       "      <td>1.181756e+06</td>\n",
       "      <td>1694702.0</td>\n",
       "      <td>3.162369e+06</td>\n",
       "      <td>4842622.0</td>\n",
       "    </tr>\n",
       "    <tr>\n",
       "      <th>2</th>\n",
       "      <td>2021-05-06</td>\n",
       "      <td>1.017302e+06</td>\n",
       "      <td>1499572.0</td>\n",
       "      <td>1.002958e+06</td>\n",
       "      <td>1087360.0</td>\n",
       "      <td>1.221565e+06</td>\n",
       "      <td>1702965.0</td>\n",
       "      <td>3.241824e+06</td>\n",
       "      <td>4289897.0</td>\n",
       "    </tr>\n",
       "    <tr>\n",
       "      <th>3</th>\n",
       "      <td>2021-05-07</td>\n",
       "      <td>1.042241e+06</td>\n",
       "      <td>0.0</td>\n",
       "      <td>1.017753e+06</td>\n",
       "      <td>0.0</td>\n",
       "      <td>1.211104e+06</td>\n",
       "      <td>0.0</td>\n",
       "      <td>3.271099e+06</td>\n",
       "      <td>0.0</td>\n",
       "    </tr>\n",
       "    <tr>\n",
       "      <th>4</th>\n",
       "      <td>2021-05-08</td>\n",
       "      <td>9.484519e+05</td>\n",
       "      <td>0.0</td>\n",
       "      <td>1.018234e+06</td>\n",
       "      <td>0.0</td>\n",
       "      <td>1.075536e+06</td>\n",
       "      <td>0.0</td>\n",
       "      <td>3.042222e+06</td>\n",
       "      <td>0.0</td>\n",
       "    </tr>\n",
       "    <tr>\n",
       "      <th>...</th>\n",
       "      <td>...</td>\n",
       "      <td>...</td>\n",
       "      <td>...</td>\n",
       "      <td>...</td>\n",
       "      <td>...</td>\n",
       "      <td>...</td>\n",
       "      <td>...</td>\n",
       "      <td>...</td>\n",
       "      <td>...</td>\n",
       "    </tr>\n",
       "    <tr>\n",
       "      <th>633</th>\n",
       "      <td>2023-01-27</td>\n",
       "      <td>1.169690e+06</td>\n",
       "      <td>2184930.0</td>\n",
       "      <td>1.637704e+06</td>\n",
       "      <td>3063495.0</td>\n",
       "      <td>1.398825e+06</td>\n",
       "      <td>2357889.0</td>\n",
       "      <td>4.206219e+06</td>\n",
       "      <td>7606314.0</td>\n",
       "    </tr>\n",
       "    <tr>\n",
       "      <th>634</th>\n",
       "      <td>2023-01-28</td>\n",
       "      <td>1.075667e+06</td>\n",
       "      <td>1550079.0</td>\n",
       "      <td>1.669148e+06</td>\n",
       "      <td>2707335.0</td>\n",
       "      <td>1.270688e+06</td>\n",
       "      <td>1986177.0</td>\n",
       "      <td>4.015502e+06</td>\n",
       "      <td>6243591.0</td>\n",
       "    </tr>\n",
       "    <tr>\n",
       "      <th>635</th>\n",
       "      <td>2023-01-29</td>\n",
       "      <td>1.068181e+06</td>\n",
       "      <td>1898020.0</td>\n",
       "      <td>1.661635e+06</td>\n",
       "      <td>2754180.0</td>\n",
       "      <td>1.265178e+06</td>\n",
       "      <td>2214400.0</td>\n",
       "      <td>3.994994e+06</td>\n",
       "      <td>6866600.0</td>\n",
       "    </tr>\n",
       "    <tr>\n",
       "      <th>636</th>\n",
       "      <td>2023-01-30</td>\n",
       "      <td>1.330423e+06</td>\n",
       "      <td>2179638.0</td>\n",
       "      <td>2.036925e+06</td>\n",
       "      <td>3261225.0</td>\n",
       "      <td>1.659732e+06</td>\n",
       "      <td>2896360.0</td>\n",
       "      <td>5.027081e+06</td>\n",
       "      <td>8337223.0</td>\n",
       "    </tr>\n",
       "    <tr>\n",
       "      <th>637</th>\n",
       "      <td>2023-01-31</td>\n",
       "      <td>1.189170e+06</td>\n",
       "      <td>2603906.0</td>\n",
       "      <td>1.826173e+06</td>\n",
       "      <td>3314615.0</td>\n",
       "      <td>1.479656e+06</td>\n",
       "      <td>2724720.0</td>\n",
       "      <td>4.494999e+06</td>\n",
       "      <td>8643241.0</td>\n",
       "    </tr>\n",
       "  </tbody>\n",
       "</table>\n",
       "<p>638 rows × 9 columns</p>\n",
       "</div>"
      ],
      "text/plain": [
       "    payment_date   quick_preds    quick_Y   basic_preds    basic_Y  \\\n",
       "0     2021-05-04  9.731989e+05  1611785.0  9.724330e+05  1129570.0   \n",
       "1     2021-05-05  9.953109e+05  1999040.0  9.853028e+05  1148880.0   \n",
       "2     2021-05-06  1.017302e+06  1499572.0  1.002958e+06  1087360.0   \n",
       "3     2021-05-07  1.042241e+06        0.0  1.017753e+06        0.0   \n",
       "4     2021-05-08  9.484519e+05        0.0  1.018234e+06        0.0   \n",
       "..           ...           ...        ...           ...        ...   \n",
       "633   2023-01-27  1.169690e+06  2184930.0  1.637704e+06  3063495.0   \n",
       "634   2023-01-28  1.075667e+06  1550079.0  1.669148e+06  2707335.0   \n",
       "635   2023-01-29  1.068181e+06  1898020.0  1.661635e+06  2754180.0   \n",
       "636   2023-01-30  1.330423e+06  2179638.0  2.036925e+06  3261225.0   \n",
       "637   2023-01-31  1.189170e+06  2603906.0  1.826173e+06  3314615.0   \n",
       "\n",
       "       fast_preds     fast_Y     sum_preds      sum_Y  \n",
       "0    1.160097e+06  1844146.0  3.105729e+06  4585501.0  \n",
       "1    1.181756e+06  1694702.0  3.162369e+06  4842622.0  \n",
       "2    1.221565e+06  1702965.0  3.241824e+06  4289897.0  \n",
       "3    1.211104e+06        0.0  3.271099e+06        0.0  \n",
       "4    1.075536e+06        0.0  3.042222e+06        0.0  \n",
       "..            ...        ...           ...        ...  \n",
       "633  1.398825e+06  2357889.0  4.206219e+06  7606314.0  \n",
       "634  1.270688e+06  1986177.0  4.015502e+06  6243591.0  \n",
       "635  1.265178e+06  2214400.0  3.994994e+06  6866600.0  \n",
       "636  1.659732e+06  2896360.0  5.027081e+06  8337223.0  \n",
       "637  1.479656e+06  2724720.0  4.494999e+06  8643241.0  \n",
       "\n",
       "[638 rows x 9 columns]"
      ]
     },
     "execution_count": 78,
     "metadata": {},
     "output_type": "execute_result"
    }
   ],
   "source": [
    "merged_df"
   ]
  },
  {
   "cell_type": "code",
   "execution_count": 79,
   "id": "9d6f67c8-24fb-4dd9-9627-48241c279479",
   "metadata": {},
   "outputs": [
    {
     "name": "stdout",
     "output_type": "stream",
     "text": [
      "MSE: 7648099477525, MAE: 2454731\n"
     ]
    }
   ],
   "source": [
    "MSE = mean_squared_error(merged_df.sum_Y, merged_df.sum_preds)\n",
    "MAE = mean_absolute_error(merged_df.sum_Y, merged_df.sum_preds)\n",
    "\n",
    "print(f'MSE: {MSE:.0f}, MAE: {MAE:.0f}')"
   ]
  }
 ],
 "metadata": {
  "kernelspec": {
   "display_name": "Python 3 (ipykernel)",
   "language": "python",
   "name": "python3"
  },
  "language_info": {
   "codemirror_mode": {
    "name": "ipython",
    "version": 3
   },
   "file_extension": ".py",
   "mimetype": "text/x-python",
   "name": "python",
   "nbconvert_exporter": "python",
   "pygments_lexer": "ipython3",
   "version": "3.8.10"
  }
 },
 "nbformat": 4,
 "nbformat_minor": 5
}
