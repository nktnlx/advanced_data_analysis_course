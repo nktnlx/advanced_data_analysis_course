{
 "cells": [
  {
   "cell_type": "markdown",
   "id": "e23e1516-6e75-4e85-bf5b-0011204c6bf9",
   "metadata": {},
   "source": [
    "# Linear Models"
   ]
  },
  {
   "cell_type": "markdown",
   "id": "8ad67dba-80ad-46c5-ade5-7ce6464e9f6c",
   "metadata": {},
   "source": [
    "## Import libraries"
   ]
  },
  {
   "cell_type": "code",
   "execution_count": 1,
   "id": "3681443e-92b0-4ae8-86c1-bfea2e150d20",
   "metadata": {},
   "outputs": [],
   "source": [
    "#!pip install matplotlib seaborn scikit-learn"
   ]
  },
  {
   "cell_type": "code",
   "execution_count": 2,
   "id": "68a96dd2-7683-418d-bff2-7b13d50a9765",
   "metadata": {},
   "outputs": [],
   "source": [
    "import numpy as np\n",
    "import pandas as pd\n",
    "from matplotlib import pyplot as plt\n",
    "import seaborn as sns\n",
    "from sklearn.linear_model import LinearRegression\n",
    "from sklearn.metrics import mean_absolute_error, mean_squared_error\n",
    "\n",
    "import warnings\n",
    "warnings.filterwarnings('ignore')"
   ]
  },
  {
   "cell_type": "code",
   "execution_count": 3,
   "id": "c4490738-d320-4fd6-b131-75b67212e4b6",
   "metadata": {},
   "outputs": [
    {
     "name": "stdout",
     "output_type": "stream",
     "text": [
      "(datetime.date(2022, 2, 1), datetime.date(2022, 1, 31), 'android', 'f7411212fd0e2523e126cbfdd3f226c211212', '4beb10e1-aeeb-4c52-acd2-ce1ddbc1fc24b10e1', 22, 11, 3, 0, 0, 0, 2, 2, 0, 0, 0, 0, 0, 0)\n"
     ]
    }
   ],
   "source": [
    "from clickhouse_driver import Client\n",
    "\n",
    "\n",
    "user_name = 'user_name'\n",
    "pwd = 'password'\n",
    "\n",
    "# creating connection ClickHouse\n",
    "client = Client(host='clickhouse.lab.karpov.courses', port=9000,\n",
    "                user=user_name, password=pwd, database='hardda')\n",
    "\n",
    "# checking connection\n",
    "result = client.execute(\"SELECT * FROM hardda.user_dm_events LIMIT 1\")\n",
    "\n",
    "# showing the result\n",
    "for row in result[0:1]:\n",
    "    print(row)"
   ]
  },
  {
   "cell_type": "markdown",
   "id": "b6e6fc11-f7c5-4ada-a6de-eda65591c0aa",
   "metadata": {},
   "source": [
    "## Tasks"
   ]
  },
  {
   "cell_type": "markdown",
   "id": "7c334d62-e699-49c4-bb27-367395721dfd",
   "metadata": {},
   "source": [
    "### Task 1."
   ]
  },
  {
   "cell_type": "markdown",
   "id": "dcb63d57-d2f7-4948-9b43-92b2ac608650",
   "metadata": {},
   "source": [
    " **Write an SQL query to load the data for all available payment_date dates for transactions of types (`'basic sale'`, `'fast sale'`, `'quick sale'`). Group -sum(amount) by the payment_date field. Note that amount in the table is negative, since money is debited from the account, so we multiply by -1.**"
   ]
  },
  {
   "cell_type": "code",
   "execution_count": 4,
   "id": "ecfd8e77-0567-4eac-a56f-554f30e520b6",
   "metadata": {},
   "outputs": [],
   "source": [
    "query = '''\n",
    "SELECT \n",
    "  payment_date, \n",
    "  -SUM(amount)\n",
    "FROM \n",
    "  user_transactions\n",
    "WHERE \n",
    "  type IN ('basic sale', 'fast sale', 'quick sale')\n",
    "GROUP BY \n",
    "  payment_date\n",
    "'''"
   ]
  },
  {
   "cell_type": "code",
   "execution_count": 5,
   "id": "79f55eb9-3a10-4e28-8ad7-fc757a3dfc4c",
   "metadata": {},
   "outputs": [],
   "source": [
    "result = client.execute(query)"
   ]
  },
  {
   "cell_type": "code",
   "execution_count": 6,
   "id": "696ddd1c-e229-4578-9a7c-707005ed4af8",
   "metadata": {},
   "outputs": [
    {
     "data": {
      "text/plain": [
       "511"
      ]
     },
     "execution_count": 6,
     "metadata": {},
     "output_type": "execute_result"
    }
   ],
   "source": [
    "len(result)"
   ]
  },
  {
   "cell_type": "code",
   "execution_count": 7,
   "id": "bd243faf-3421-4046-9ab1-c788dc95035e",
   "metadata": {},
   "outputs": [
    {
     "data": {
      "text/html": [
       "<div>\n",
       "<style scoped>\n",
       "    .dataframe tbody tr th:only-of-type {\n",
       "        vertical-align: middle;\n",
       "    }\n",
       "\n",
       "    .dataframe tbody tr th {\n",
       "        vertical-align: top;\n",
       "    }\n",
       "\n",
       "    .dataframe thead th {\n",
       "        text-align: right;\n",
       "    }\n",
       "</style>\n",
       "<table border=\"1\" class=\"dataframe\">\n",
       "  <thead>\n",
       "    <tr style=\"text-align: right;\">\n",
       "      <th></th>\n",
       "      <th>payment_date</th>\n",
       "      <th>volume</th>\n",
       "    </tr>\n",
       "  </thead>\n",
       "  <tbody>\n",
       "    <tr>\n",
       "      <th>0</th>\n",
       "      <td>2021-02-02</td>\n",
       "      <td>3396867</td>\n",
       "    </tr>\n",
       "    <tr>\n",
       "      <th>1</th>\n",
       "      <td>2021-02-03</td>\n",
       "      <td>3504675</td>\n",
       "    </tr>\n",
       "    <tr>\n",
       "      <th>2</th>\n",
       "      <td>2021-02-04</td>\n",
       "      <td>3321098</td>\n",
       "    </tr>\n",
       "    <tr>\n",
       "      <th>3</th>\n",
       "      <td>2021-02-05</td>\n",
       "      <td>3317318</td>\n",
       "    </tr>\n",
       "    <tr>\n",
       "      <th>4</th>\n",
       "      <td>2021-02-06</td>\n",
       "      <td>2763316</td>\n",
       "    </tr>\n",
       "    <tr>\n",
       "      <th>...</th>\n",
       "      <td>...</td>\n",
       "      <td>...</td>\n",
       "    </tr>\n",
       "    <tr>\n",
       "      <th>506</th>\n",
       "      <td>2023-01-27</td>\n",
       "      <td>7606314</td>\n",
       "    </tr>\n",
       "    <tr>\n",
       "      <th>507</th>\n",
       "      <td>2023-01-28</td>\n",
       "      <td>6243591</td>\n",
       "    </tr>\n",
       "    <tr>\n",
       "      <th>508</th>\n",
       "      <td>2023-01-29</td>\n",
       "      <td>6866600</td>\n",
       "    </tr>\n",
       "    <tr>\n",
       "      <th>509</th>\n",
       "      <td>2023-01-30</td>\n",
       "      <td>8337223</td>\n",
       "    </tr>\n",
       "    <tr>\n",
       "      <th>510</th>\n",
       "      <td>2023-01-31</td>\n",
       "      <td>8643241</td>\n",
       "    </tr>\n",
       "  </tbody>\n",
       "</table>\n",
       "<p>511 rows × 2 columns</p>\n",
       "</div>"
      ],
      "text/plain": [
       "    payment_date   volume\n",
       "0     2021-02-02  3396867\n",
       "1     2021-02-03  3504675\n",
       "2     2021-02-04  3321098\n",
       "3     2021-02-05  3317318\n",
       "4     2021-02-06  2763316\n",
       "..           ...      ...\n",
       "506   2023-01-27  7606314\n",
       "507   2023-01-28  6243591\n",
       "508   2023-01-29  6866600\n",
       "509   2023-01-30  8337223\n",
       "510   2023-01-31  8643241\n",
       "\n",
       "[511 rows x 2 columns]"
      ]
     },
     "execution_count": 7,
     "metadata": {},
     "output_type": "execute_result"
    }
   ],
   "source": [
    "df = pd.DataFrame(result, columns=['payment_date', 'volume'])\n",
    "\n",
    "df"
   ]
  },
  {
   "cell_type": "code",
   "execution_count": 8,
   "id": "e95035ac-c272-43ad-80c9-104287bc87a0",
   "metadata": {},
   "outputs": [
    {
     "name": "stdout",
     "output_type": "stream",
     "text": [
      "<class 'pandas.core.frame.DataFrame'>\n",
      "RangeIndex: 511 entries, 0 to 510\n",
      "Data columns (total 2 columns):\n",
      " #   Column        Non-Null Count  Dtype \n",
      "---  ------        --------------  ----- \n",
      " 0   payment_date  511 non-null    object\n",
      " 1   volume        511 non-null    int64 \n",
      "dtypes: int64(1), object(1)\n",
      "memory usage: 8.1+ KB\n"
     ]
    }
   ],
   "source": [
    "df.info()"
   ]
  },
  {
   "cell_type": "code",
   "execution_count": 9,
   "id": "9090da25-50b3-4740-8381-0d2ad9d12c2e",
   "metadata": {},
   "outputs": [],
   "source": [
    "df['payment_date'] = pd.to_datetime(df['payment_date'], format='%Y-%m-%d')"
   ]
  },
  {
   "cell_type": "code",
   "execution_count": 10,
   "id": "5a4f5670-c34b-49cb-9a14-ea25a694a29e",
   "metadata": {},
   "outputs": [],
   "source": [
    "df = df.sort_values('payment_date').reset_index(drop=True)"
   ]
  },
  {
   "cell_type": "code",
   "execution_count": 11,
   "id": "6747a966-593f-4199-b60e-c7ce789beaed",
   "metadata": {},
   "outputs": [
    {
     "data": {
      "text/html": [
       "<div>\n",
       "<style scoped>\n",
       "    .dataframe tbody tr th:only-of-type {\n",
       "        vertical-align: middle;\n",
       "    }\n",
       "\n",
       "    .dataframe tbody tr th {\n",
       "        vertical-align: top;\n",
       "    }\n",
       "\n",
       "    .dataframe thead th {\n",
       "        text-align: right;\n",
       "    }\n",
       "</style>\n",
       "<table border=\"1\" class=\"dataframe\">\n",
       "  <thead>\n",
       "    <tr style=\"text-align: right;\">\n",
       "      <th></th>\n",
       "      <th>payment_date</th>\n",
       "      <th>volume</th>\n",
       "    </tr>\n",
       "  </thead>\n",
       "  <tbody>\n",
       "    <tr>\n",
       "      <th>0</th>\n",
       "      <td>2021-02-02</td>\n",
       "      <td>3396867</td>\n",
       "    </tr>\n",
       "    <tr>\n",
       "      <th>1</th>\n",
       "      <td>2021-02-03</td>\n",
       "      <td>3504675</td>\n",
       "    </tr>\n",
       "    <tr>\n",
       "      <th>2</th>\n",
       "      <td>2021-02-04</td>\n",
       "      <td>3321098</td>\n",
       "    </tr>\n",
       "    <tr>\n",
       "      <th>3</th>\n",
       "      <td>2021-02-05</td>\n",
       "      <td>3317318</td>\n",
       "    </tr>\n",
       "    <tr>\n",
       "      <th>4</th>\n",
       "      <td>2021-02-06</td>\n",
       "      <td>2763316</td>\n",
       "    </tr>\n",
       "    <tr>\n",
       "      <th>...</th>\n",
       "      <td>...</td>\n",
       "      <td>...</td>\n",
       "    </tr>\n",
       "    <tr>\n",
       "      <th>506</th>\n",
       "      <td>2023-01-27</td>\n",
       "      <td>7606314</td>\n",
       "    </tr>\n",
       "    <tr>\n",
       "      <th>507</th>\n",
       "      <td>2023-01-28</td>\n",
       "      <td>6243591</td>\n",
       "    </tr>\n",
       "    <tr>\n",
       "      <th>508</th>\n",
       "      <td>2023-01-29</td>\n",
       "      <td>6866600</td>\n",
       "    </tr>\n",
       "    <tr>\n",
       "      <th>509</th>\n",
       "      <td>2023-01-30</td>\n",
       "      <td>8337223</td>\n",
       "    </tr>\n",
       "    <tr>\n",
       "      <th>510</th>\n",
       "      <td>2023-01-31</td>\n",
       "      <td>8643241</td>\n",
       "    </tr>\n",
       "  </tbody>\n",
       "</table>\n",
       "<p>511 rows × 2 columns</p>\n",
       "</div>"
      ],
      "text/plain": [
       "    payment_date   volume\n",
       "0     2021-02-02  3396867\n",
       "1     2021-02-03  3504675\n",
       "2     2021-02-04  3321098\n",
       "3     2021-02-05  3317318\n",
       "4     2021-02-06  2763316\n",
       "..           ...      ...\n",
       "506   2023-01-27  7606314\n",
       "507   2023-01-28  6243591\n",
       "508   2023-01-29  6866600\n",
       "509   2023-01-30  8337223\n",
       "510   2023-01-31  8643241\n",
       "\n",
       "[511 rows x 2 columns]"
      ]
     },
     "execution_count": 11,
     "metadata": {},
     "output_type": "execute_result"
    }
   ],
   "source": [
    "df"
   ]
  },
  {
   "cell_type": "markdown",
   "id": "5b8d579b-aca2-43b5-b167-675ed3a0e1e6",
   "metadata": {},
   "source": [
    "Checking for missing dates. "
   ]
  },
  {
   "cell_type": "code",
   "execution_count": 12,
   "id": "fa83607d-8a3c-49d5-876e-7fd548fabbd4",
   "metadata": {},
   "outputs": [
    {
     "data": {
      "text/plain": [
       "Timedelta('1 days 10:15:31.764705882')"
      ]
     },
     "execution_count": 12,
     "metadata": {},
     "output_type": "execute_result"
    }
   ],
   "source": [
    "(df.payment_date - df.payment_date.shift(1)).mean()"
   ]
  },
  {
   "cell_type": "markdown",
   "id": "4b8f996f-e35f-4524-b5b2-0bf4ad0d2fd1",
   "metadata": {},
   "source": [
    "We can see that there are some missing dates in our dataset. And we have to fix it. "
   ]
  },
  {
   "cell_type": "code",
   "execution_count": 13,
   "id": "4e5a8f2f-d3f6-4152-915b-a3b62badb17f",
   "metadata": {},
   "outputs": [],
   "source": [
    "date_range = pd.date_range(start=df.payment_date.min(), \n",
    "                           end=df.payment_date.max(),\n",
    "                           freq='D')"
   ]
  },
  {
   "cell_type": "code",
   "execution_count": 14,
   "id": "35ce8cde-53dc-4161-b13d-d09e35fd898c",
   "metadata": {},
   "outputs": [
    {
     "data": {
      "text/plain": [
       "729"
      ]
     },
     "execution_count": 14,
     "metadata": {},
     "output_type": "execute_result"
    }
   ],
   "source": [
    "len(date_range)"
   ]
  },
  {
   "cell_type": "code",
   "execution_count": 15,
   "id": "70720c1e-9900-431d-8a9b-1a080616978b",
   "metadata": {},
   "outputs": [],
   "source": [
    "df_date_range = pd.DataFrame({'payment_date': date_range})"
   ]
  },
  {
   "cell_type": "code",
   "execution_count": 16,
   "id": "b01c226f-2442-4ac9-9389-b0e38c93744a",
   "metadata": {},
   "outputs": [
    {
     "data": {
      "text/html": [
       "<div>\n",
       "<style scoped>\n",
       "    .dataframe tbody tr th:only-of-type {\n",
       "        vertical-align: middle;\n",
       "    }\n",
       "\n",
       "    .dataframe tbody tr th {\n",
       "        vertical-align: top;\n",
       "    }\n",
       "\n",
       "    .dataframe thead th {\n",
       "        text-align: right;\n",
       "    }\n",
       "</style>\n",
       "<table border=\"1\" class=\"dataframe\">\n",
       "  <thead>\n",
       "    <tr style=\"text-align: right;\">\n",
       "      <th></th>\n",
       "      <th>payment_date</th>\n",
       "    </tr>\n",
       "  </thead>\n",
       "  <tbody>\n",
       "    <tr>\n",
       "      <th>0</th>\n",
       "      <td>2021-02-02</td>\n",
       "    </tr>\n",
       "    <tr>\n",
       "      <th>1</th>\n",
       "      <td>2021-02-03</td>\n",
       "    </tr>\n",
       "    <tr>\n",
       "      <th>2</th>\n",
       "      <td>2021-02-04</td>\n",
       "    </tr>\n",
       "    <tr>\n",
       "      <th>3</th>\n",
       "      <td>2021-02-05</td>\n",
       "    </tr>\n",
       "    <tr>\n",
       "      <th>4</th>\n",
       "      <td>2021-02-06</td>\n",
       "    </tr>\n",
       "    <tr>\n",
       "      <th>...</th>\n",
       "      <td>...</td>\n",
       "    </tr>\n",
       "    <tr>\n",
       "      <th>724</th>\n",
       "      <td>2023-01-27</td>\n",
       "    </tr>\n",
       "    <tr>\n",
       "      <th>725</th>\n",
       "      <td>2023-01-28</td>\n",
       "    </tr>\n",
       "    <tr>\n",
       "      <th>726</th>\n",
       "      <td>2023-01-29</td>\n",
       "    </tr>\n",
       "    <tr>\n",
       "      <th>727</th>\n",
       "      <td>2023-01-30</td>\n",
       "    </tr>\n",
       "    <tr>\n",
       "      <th>728</th>\n",
       "      <td>2023-01-31</td>\n",
       "    </tr>\n",
       "  </tbody>\n",
       "</table>\n",
       "<p>729 rows × 1 columns</p>\n",
       "</div>"
      ],
      "text/plain": [
       "    payment_date\n",
       "0     2021-02-02\n",
       "1     2021-02-03\n",
       "2     2021-02-04\n",
       "3     2021-02-05\n",
       "4     2021-02-06\n",
       "..           ...\n",
       "724   2023-01-27\n",
       "725   2023-01-28\n",
       "726   2023-01-29\n",
       "727   2023-01-30\n",
       "728   2023-01-31\n",
       "\n",
       "[729 rows x 1 columns]"
      ]
     },
     "execution_count": 16,
     "metadata": {},
     "output_type": "execute_result"
    }
   ],
   "source": [
    "df_date_range"
   ]
  },
  {
   "cell_type": "code",
   "execution_count": 17,
   "id": "51a6c8c8-a12f-4f88-99ea-f03926217940",
   "metadata": {},
   "outputs": [],
   "source": [
    "df_full = pd.merge(df_date_range, df, how='left', on='payment_date')"
   ]
  },
  {
   "cell_type": "code",
   "execution_count": 18,
   "id": "01d3596e-3253-4aa8-b807-9564f23f044d",
   "metadata": {},
   "outputs": [
    {
     "data": {
      "text/html": [
       "<div>\n",
       "<style scoped>\n",
       "    .dataframe tbody tr th:only-of-type {\n",
       "        vertical-align: middle;\n",
       "    }\n",
       "\n",
       "    .dataframe tbody tr th {\n",
       "        vertical-align: top;\n",
       "    }\n",
       "\n",
       "    .dataframe thead th {\n",
       "        text-align: right;\n",
       "    }\n",
       "</style>\n",
       "<table border=\"1\" class=\"dataframe\">\n",
       "  <thead>\n",
       "    <tr style=\"text-align: right;\">\n",
       "      <th></th>\n",
       "      <th>payment_date</th>\n",
       "      <th>volume</th>\n",
       "    </tr>\n",
       "  </thead>\n",
       "  <tbody>\n",
       "    <tr>\n",
       "      <th>0</th>\n",
       "      <td>2021-02-02</td>\n",
       "      <td>3396867.0</td>\n",
       "    </tr>\n",
       "    <tr>\n",
       "      <th>1</th>\n",
       "      <td>2021-02-03</td>\n",
       "      <td>3504675.0</td>\n",
       "    </tr>\n",
       "    <tr>\n",
       "      <th>2</th>\n",
       "      <td>2021-02-04</td>\n",
       "      <td>3321098.0</td>\n",
       "    </tr>\n",
       "    <tr>\n",
       "      <th>3</th>\n",
       "      <td>2021-02-05</td>\n",
       "      <td>3317318.0</td>\n",
       "    </tr>\n",
       "    <tr>\n",
       "      <th>4</th>\n",
       "      <td>2021-02-06</td>\n",
       "      <td>2763316.0</td>\n",
       "    </tr>\n",
       "    <tr>\n",
       "      <th>...</th>\n",
       "      <td>...</td>\n",
       "      <td>...</td>\n",
       "    </tr>\n",
       "    <tr>\n",
       "      <th>724</th>\n",
       "      <td>2023-01-27</td>\n",
       "      <td>7606314.0</td>\n",
       "    </tr>\n",
       "    <tr>\n",
       "      <th>725</th>\n",
       "      <td>2023-01-28</td>\n",
       "      <td>6243591.0</td>\n",
       "    </tr>\n",
       "    <tr>\n",
       "      <th>726</th>\n",
       "      <td>2023-01-29</td>\n",
       "      <td>6866600.0</td>\n",
       "    </tr>\n",
       "    <tr>\n",
       "      <th>727</th>\n",
       "      <td>2023-01-30</td>\n",
       "      <td>8337223.0</td>\n",
       "    </tr>\n",
       "    <tr>\n",
       "      <th>728</th>\n",
       "      <td>2023-01-31</td>\n",
       "      <td>8643241.0</td>\n",
       "    </tr>\n",
       "  </tbody>\n",
       "</table>\n",
       "<p>729 rows × 2 columns</p>\n",
       "</div>"
      ],
      "text/plain": [
       "    payment_date     volume\n",
       "0     2021-02-02  3396867.0\n",
       "1     2021-02-03  3504675.0\n",
       "2     2021-02-04  3321098.0\n",
       "3     2021-02-05  3317318.0\n",
       "4     2021-02-06  2763316.0\n",
       "..           ...        ...\n",
       "724   2023-01-27  7606314.0\n",
       "725   2023-01-28  6243591.0\n",
       "726   2023-01-29  6866600.0\n",
       "727   2023-01-30  8337223.0\n",
       "728   2023-01-31  8643241.0\n",
       "\n",
       "[729 rows x 2 columns]"
      ]
     },
     "execution_count": 18,
     "metadata": {},
     "output_type": "execute_result"
    }
   ],
   "source": [
    "df_full"
   ]
  },
  {
   "cell_type": "code",
   "execution_count": 19,
   "id": "008d14ec-075b-479e-8a8e-1750b837b4a2",
   "metadata": {},
   "outputs": [
    {
     "name": "stdout",
     "output_type": "stream",
     "text": [
      "<class 'pandas.core.frame.DataFrame'>\n",
      "Int64Index: 729 entries, 0 to 728\n",
      "Data columns (total 2 columns):\n",
      " #   Column        Non-Null Count  Dtype         \n",
      "---  ------        --------------  -----         \n",
      " 0   payment_date  729 non-null    datetime64[ns]\n",
      " 1   volume        511 non-null    float64       \n",
      "dtypes: datetime64[ns](1), float64(1)\n",
      "memory usage: 17.1 KB\n"
     ]
    }
   ],
   "source": [
    "df_full.info()"
   ]
  },
  {
   "cell_type": "markdown",
   "id": "55fe38d4-bfd2-47aa-a6ae-01270d945500",
   "metadata": {},
   "source": [
    "Let's impute missing values with zeroes. "
   ]
  },
  {
   "cell_type": "code",
   "execution_count": 20,
   "id": "c809cfb6-45e5-4e33-978f-68efe85575a6",
   "metadata": {},
   "outputs": [],
   "source": [
    "df_full.fillna(0, inplace=True)"
   ]
  },
  {
   "cell_type": "code",
   "execution_count": 21,
   "id": "e67b8e76-3de4-4f8a-9c02-894d95e14571",
   "metadata": {},
   "outputs": [
    {
     "name": "stdout",
     "output_type": "stream",
     "text": [
      "<class 'pandas.core.frame.DataFrame'>\n",
      "Int64Index: 729 entries, 0 to 728\n",
      "Data columns (total 2 columns):\n",
      " #   Column        Non-Null Count  Dtype         \n",
      "---  ------        --------------  -----         \n",
      " 0   payment_date  729 non-null    datetime64[ns]\n",
      " 1   volume        729 non-null    float64       \n",
      "dtypes: datetime64[ns](1), float64(1)\n",
      "memory usage: 17.1 KB\n"
     ]
    }
   ],
   "source": [
    "df_full.info()"
   ]
  },
  {
   "cell_type": "markdown",
   "id": "92137d74-b31f-4aba-a1b5-d9164be17f5b",
   "metadata": {
    "tags": []
   },
   "source": [
    "### Task 2.  "
   ]
  },
  {
   "cell_type": "markdown",
   "id": "830049b9-f37d-4c47-82b3-0e95d7db9ed3",
   "metadata": {},
   "source": [
    "**Generate additional features for our dataset, using 30, 61, 91 days lag and exponential weighted moving average with 7, 30, 91 days window size. Also create a binary feature was it a work day or a weekend.** "
   ]
  },
  {
   "cell_type": "code",
   "execution_count": 22,
   "id": "f34a72e5-d5c6-407b-9d5a-72a154e1f7fc",
   "metadata": {},
   "outputs": [],
   "source": [
    "def generate_features_for_series(\n",
    "    data: pd.DataFrame,\n",
    "    date_colname='payment_date',\n",
    "    value_colname= 'volume'\n",
    "):\n",
    "\n",
    "    data_ = data.copy()\n",
    "    data_.sort_values(date_colname, inplace=True)\n",
    "   \n",
    "    # is_holiday feature\n",
    "    data_['weekday'] = data_[date_colname].dt.weekday\n",
    "    data_.loc[data_['weekday'].isin([5, 6]), 'is_holiday'] = 1\n",
    "    data_['is_holiday'] = data_['is_holiday'].fillna(0)\n",
    "    data_.drop('weekday', axis=1, inplace=True)\n",
    "\n",
    "    # lagging days features\n",
    "    data_['lag_30d'] = data_[value_colname].shift(30)\n",
    "    data_['lag_61d'] = data_[value_colname].shift(61)\n",
    "    data_['lag_91d'] = data_[value_colname].shift(91)\n",
    "\n",
    "    # exponential weighted moving avereage features\n",
    "    data_['rolling_7d'] = data_['lag_30d'].ewm(span=7).mean()\n",
    "    data_['rolling_30d'] = data_['lag_30d'].ewm(span=30).mean()\n",
    "    data_['rolling_91d'] = data_['lag_30d'].ewm(span=91).mean()\n",
    "   \n",
    "    # removing NaN values\n",
    "    data_.dropna(inplace=True)\n",
    "   \n",
    "    return data_"
   ]
  },
  {
   "cell_type": "code",
   "execution_count": 23,
   "id": "ca362fe3-8a65-47ef-bb6d-6b0a28e6b593",
   "metadata": {},
   "outputs": [],
   "source": [
    "data = generate_features_for_series(df_full)"
   ]
  },
  {
   "cell_type": "code",
   "execution_count": 24,
   "id": "b85f2f04-36be-4912-99d3-95384ffd984c",
   "metadata": {},
   "outputs": [
    {
     "data": {
      "text/html": [
       "<div>\n",
       "<style scoped>\n",
       "    .dataframe tbody tr th:only-of-type {\n",
       "        vertical-align: middle;\n",
       "    }\n",
       "\n",
       "    .dataframe tbody tr th {\n",
       "        vertical-align: top;\n",
       "    }\n",
       "\n",
       "    .dataframe thead th {\n",
       "        text-align: right;\n",
       "    }\n",
       "</style>\n",
       "<table border=\"1\" class=\"dataframe\">\n",
       "  <thead>\n",
       "    <tr style=\"text-align: right;\">\n",
       "      <th></th>\n",
       "      <th>payment_date</th>\n",
       "      <th>volume</th>\n",
       "      <th>is_holiday</th>\n",
       "      <th>lag_30d</th>\n",
       "      <th>lag_61d</th>\n",
       "      <th>lag_91d</th>\n",
       "      <th>rolling_7d</th>\n",
       "      <th>rolling_30d</th>\n",
       "      <th>rolling_91d</th>\n",
       "    </tr>\n",
       "  </thead>\n",
       "  <tbody>\n",
       "    <tr>\n",
       "      <th>91</th>\n",
       "      <td>2021-05-04</td>\n",
       "      <td>4585501.0</td>\n",
       "      <td>0.0</td>\n",
       "      <td>0.0</td>\n",
       "      <td>3298677.0</td>\n",
       "      <td>3396867.0</td>\n",
       "      <td>1.052007e+06</td>\n",
       "      <td>1.837514e+06</td>\n",
       "      <td>2.137795e+06</td>\n",
       "    </tr>\n",
       "    <tr>\n",
       "      <th>92</th>\n",
       "      <td>2021-05-05</td>\n",
       "      <td>4842622.0</td>\n",
       "      <td>0.0</td>\n",
       "      <td>3707972.0</td>\n",
       "      <td>2632327.0</td>\n",
       "      <td>3504675.0</td>\n",
       "      <td>1.715998e+06</td>\n",
       "      <td>1.960023e+06</td>\n",
       "      <td>2.183332e+06</td>\n",
       "    </tr>\n",
       "    <tr>\n",
       "      <th>93</th>\n",
       "      <td>2021-05-06</td>\n",
       "      <td>4289897.0</td>\n",
       "      <td>0.0</td>\n",
       "      <td>3929579.0</td>\n",
       "      <td>2489894.0</td>\n",
       "      <td>3321098.0</td>\n",
       "      <td>2.269393e+06</td>\n",
       "      <td>2.088896e+06</td>\n",
       "      <td>2.233610e+06</td>\n",
       "    </tr>\n",
       "    <tr>\n",
       "      <th>94</th>\n",
       "      <td>2021-05-07</td>\n",
       "      <td>0.0</td>\n",
       "      <td>0.0</td>\n",
       "      <td>3719324.0</td>\n",
       "      <td>2604353.0</td>\n",
       "      <td>3317318.0</td>\n",
       "      <td>2.631876e+06</td>\n",
       "      <td>2.195482e+06</td>\n",
       "      <td>2.276087e+06</td>\n",
       "    </tr>\n",
       "    <tr>\n",
       "      <th>95</th>\n",
       "      <td>2021-05-08</td>\n",
       "      <td>0.0</td>\n",
       "      <td>1.0</td>\n",
       "      <td>0.0</td>\n",
       "      <td>2141489.0</td>\n",
       "      <td>2763316.0</td>\n",
       "      <td>1.973907e+06</td>\n",
       "      <td>2.052080e+06</td>\n",
       "      <td>2.211456e+06</td>\n",
       "    </tr>\n",
       "    <tr>\n",
       "      <th>...</th>\n",
       "      <td>...</td>\n",
       "      <td>...</td>\n",
       "      <td>...</td>\n",
       "      <td>...</td>\n",
       "      <td>...</td>\n",
       "      <td>...</td>\n",
       "      <td>...</td>\n",
       "      <td>...</td>\n",
       "      <td>...</td>\n",
       "    </tr>\n",
       "    <tr>\n",
       "      <th>724</th>\n",
       "      <td>2023-01-27</td>\n",
       "      <td>7606314.0</td>\n",
       "      <td>0.0</td>\n",
       "      <td>5576730.0</td>\n",
       "      <td>5560131.0</td>\n",
       "      <td>6605566.0</td>\n",
       "      <td>4.042208e+06</td>\n",
       "      <td>4.284195e+06</td>\n",
       "      <td>4.362926e+06</td>\n",
       "    </tr>\n",
       "    <tr>\n",
       "      <th>725</th>\n",
       "      <td>2023-01-28</td>\n",
       "      <td>6243591.0</td>\n",
       "      <td>1.0</td>\n",
       "      <td>4879158.0</td>\n",
       "      <td>6110948.0</td>\n",
       "      <td>5888153.0</td>\n",
       "      <td>4.251446e+06</td>\n",
       "      <td>4.322580e+06</td>\n",
       "      <td>4.374148e+06</td>\n",
       "    </tr>\n",
       "    <tr>\n",
       "      <th>726</th>\n",
       "      <td>2023-01-29</td>\n",
       "      <td>6866600.0</td>\n",
       "      <td>1.0</td>\n",
       "      <td>3997769.0</td>\n",
       "      <td>6505339.0</td>\n",
       "      <td>6081790.0</td>\n",
       "      <td>4.188027e+06</td>\n",
       "      <td>4.301624e+06</td>\n",
       "      <td>4.365966e+06</td>\n",
       "    </tr>\n",
       "    <tr>\n",
       "      <th>727</th>\n",
       "      <td>2023-01-30</td>\n",
       "      <td>8337223.0</td>\n",
       "      <td>0.0</td>\n",
       "      <td>2698006.0</td>\n",
       "      <td>0.0</td>\n",
       "      <td>0.0</td>\n",
       "      <td>3.815521e+06</td>\n",
       "      <td>4.198165e+06</td>\n",
       "      <td>4.329706e+06</td>\n",
       "    </tr>\n",
       "    <tr>\n",
       "      <th>728</th>\n",
       "      <td>2023-01-31</td>\n",
       "      <td>8643241.0</td>\n",
       "      <td>0.0</td>\n",
       "      <td>0.0</td>\n",
       "      <td>0.0</td>\n",
       "      <td>7244990.0</td>\n",
       "      <td>2.861641e+06</td>\n",
       "      <td>3.927316e+06</td>\n",
       "      <td>4.235582e+06</td>\n",
       "    </tr>\n",
       "  </tbody>\n",
       "</table>\n",
       "<p>638 rows × 9 columns</p>\n",
       "</div>"
      ],
      "text/plain": [
       "    payment_date     volume  is_holiday    lag_30d    lag_61d    lag_91d  \\\n",
       "91    2021-05-04  4585501.0         0.0        0.0  3298677.0  3396867.0   \n",
       "92    2021-05-05  4842622.0         0.0  3707972.0  2632327.0  3504675.0   \n",
       "93    2021-05-06  4289897.0         0.0  3929579.0  2489894.0  3321098.0   \n",
       "94    2021-05-07        0.0         0.0  3719324.0  2604353.0  3317318.0   \n",
       "95    2021-05-08        0.0         1.0        0.0  2141489.0  2763316.0   \n",
       "..           ...        ...         ...        ...        ...        ...   \n",
       "724   2023-01-27  7606314.0         0.0  5576730.0  5560131.0  6605566.0   \n",
       "725   2023-01-28  6243591.0         1.0  4879158.0  6110948.0  5888153.0   \n",
       "726   2023-01-29  6866600.0         1.0  3997769.0  6505339.0  6081790.0   \n",
       "727   2023-01-30  8337223.0         0.0  2698006.0        0.0        0.0   \n",
       "728   2023-01-31  8643241.0         0.0        0.0        0.0  7244990.0   \n",
       "\n",
       "       rolling_7d   rolling_30d   rolling_91d  \n",
       "91   1.052007e+06  1.837514e+06  2.137795e+06  \n",
       "92   1.715998e+06  1.960023e+06  2.183332e+06  \n",
       "93   2.269393e+06  2.088896e+06  2.233610e+06  \n",
       "94   2.631876e+06  2.195482e+06  2.276087e+06  \n",
       "95   1.973907e+06  2.052080e+06  2.211456e+06  \n",
       "..            ...           ...           ...  \n",
       "724  4.042208e+06  4.284195e+06  4.362926e+06  \n",
       "725  4.251446e+06  4.322580e+06  4.374148e+06  \n",
       "726  4.188027e+06  4.301624e+06  4.365966e+06  \n",
       "727  3.815521e+06  4.198165e+06  4.329706e+06  \n",
       "728  2.861641e+06  3.927316e+06  4.235582e+06  \n",
       "\n",
       "[638 rows x 9 columns]"
      ]
     },
     "execution_count": 24,
     "metadata": {},
     "output_type": "execute_result"
    }
   ],
   "source": [
    "data"
   ]
  },
  {
   "cell_type": "markdown",
   "id": "7b1831e5-9629-45ba-8320-429c58a760d9",
   "metadata": {},
   "source": [
    "### Task 3. "
   ]
  },
  {
   "cell_type": "markdown",
   "id": "41913718-3c9d-42cb-b61d-72ebdc7edad3",
   "metadata": {},
   "source": [
    "**Train a linear regression model and measure the quality of your model's performance.** "
   ]
  },
  {
   "cell_type": "code",
   "execution_count": 25,
   "id": "38e51fb8-8289-490b-953a-af829ff9e7a5",
   "metadata": {},
   "outputs": [
    {
     "data": {
      "text/html": [
       "<style>#sk-container-id-1 {color: black;}#sk-container-id-1 pre{padding: 0;}#sk-container-id-1 div.sk-toggleable {background-color: white;}#sk-container-id-1 label.sk-toggleable__label {cursor: pointer;display: block;width: 100%;margin-bottom: 0;padding: 0.3em;box-sizing: border-box;text-align: center;}#sk-container-id-1 label.sk-toggleable__label-arrow:before {content: \"▸\";float: left;margin-right: 0.25em;color: #696969;}#sk-container-id-1 label.sk-toggleable__label-arrow:hover:before {color: black;}#sk-container-id-1 div.sk-estimator:hover label.sk-toggleable__label-arrow:before {color: black;}#sk-container-id-1 div.sk-toggleable__content {max-height: 0;max-width: 0;overflow: hidden;text-align: left;background-color: #f0f8ff;}#sk-container-id-1 div.sk-toggleable__content pre {margin: 0.2em;color: black;border-radius: 0.25em;background-color: #f0f8ff;}#sk-container-id-1 input.sk-toggleable__control:checked~div.sk-toggleable__content {max-height: 200px;max-width: 100%;overflow: auto;}#sk-container-id-1 input.sk-toggleable__control:checked~label.sk-toggleable__label-arrow:before {content: \"▾\";}#sk-container-id-1 div.sk-estimator input.sk-toggleable__control:checked~label.sk-toggleable__label {background-color: #d4ebff;}#sk-container-id-1 div.sk-label input.sk-toggleable__control:checked~label.sk-toggleable__label {background-color: #d4ebff;}#sk-container-id-1 input.sk-hidden--visually {border: 0;clip: rect(1px 1px 1px 1px);clip: rect(1px, 1px, 1px, 1px);height: 1px;margin: -1px;overflow: hidden;padding: 0;position: absolute;width: 1px;}#sk-container-id-1 div.sk-estimator {font-family: monospace;background-color: #f0f8ff;border: 1px dotted black;border-radius: 0.25em;box-sizing: border-box;margin-bottom: 0.5em;}#sk-container-id-1 div.sk-estimator:hover {background-color: #d4ebff;}#sk-container-id-1 div.sk-parallel-item::after {content: \"\";width: 100%;border-bottom: 1px solid gray;flex-grow: 1;}#sk-container-id-1 div.sk-label:hover label.sk-toggleable__label {background-color: #d4ebff;}#sk-container-id-1 div.sk-serial::before {content: \"\";position: absolute;border-left: 1px solid gray;box-sizing: border-box;top: 0;bottom: 0;left: 50%;z-index: 0;}#sk-container-id-1 div.sk-serial {display: flex;flex-direction: column;align-items: center;background-color: white;padding-right: 0.2em;padding-left: 0.2em;position: relative;}#sk-container-id-1 div.sk-item {position: relative;z-index: 1;}#sk-container-id-1 div.sk-parallel {display: flex;align-items: stretch;justify-content: center;background-color: white;position: relative;}#sk-container-id-1 div.sk-item::before, #sk-container-id-1 div.sk-parallel-item::before {content: \"\";position: absolute;border-left: 1px solid gray;box-sizing: border-box;top: 0;bottom: 0;left: 50%;z-index: -1;}#sk-container-id-1 div.sk-parallel-item {display: flex;flex-direction: column;z-index: 1;position: relative;background-color: white;}#sk-container-id-1 div.sk-parallel-item:first-child::after {align-self: flex-end;width: 50%;}#sk-container-id-1 div.sk-parallel-item:last-child::after {align-self: flex-start;width: 50%;}#sk-container-id-1 div.sk-parallel-item:only-child::after {width: 0;}#sk-container-id-1 div.sk-dashed-wrapped {border: 1px dashed gray;margin: 0 0.4em 0.5em 0.4em;box-sizing: border-box;padding-bottom: 0.4em;background-color: white;}#sk-container-id-1 div.sk-label label {font-family: monospace;font-weight: bold;display: inline-block;line-height: 1.2em;}#sk-container-id-1 div.sk-label-container {text-align: center;}#sk-container-id-1 div.sk-container {/* jupyter's `normalize.less` sets `[hidden] { display: none; }` but bootstrap.min.css set `[hidden] { display: none !important; }` so we also need the `!important` here to be able to override the default hidden behavior on the sphinx rendered scikit-learn.org. See: https://github.com/scikit-learn/scikit-learn/issues/21755 */display: inline-block !important;position: relative;}#sk-container-id-1 div.sk-text-repr-fallback {display: none;}</style><div id=\"sk-container-id-1\" class=\"sk-top-container\"><div class=\"sk-text-repr-fallback\"><pre>LinearRegression()</pre><b>In a Jupyter environment, please rerun this cell to show the HTML representation or trust the notebook. <br />On GitHub, the HTML representation is unable to render, please try loading this page with nbviewer.org.</b></div><div class=\"sk-container\" hidden><div class=\"sk-item\"><div class=\"sk-estimator sk-toggleable\"><input class=\"sk-toggleable__control sk-hidden--visually\" id=\"sk-estimator-id-1\" type=\"checkbox\" checked><label for=\"sk-estimator-id-1\" class=\"sk-toggleable__label sk-toggleable__label-arrow\">LinearRegression</label><div class=\"sk-toggleable__content\"><pre>LinearRegression()</pre></div></div></div></div></div>"
      ],
      "text/plain": [
       "LinearRegression()"
      ]
     },
     "execution_count": 25,
     "metadata": {},
     "output_type": "execute_result"
    }
   ],
   "source": [
    "X_ = data.drop(['payment_date', 'volume'], axis=1)\n",
    "Y_ = data.volume\n",
    "\n",
    "model = LinearRegression()\n",
    "\n",
    "model.fit(X_, Y_)"
   ]
  },
  {
   "cell_type": "code",
   "execution_count": 26,
   "id": "69527877-2299-49c8-b2df-072cd96c879d",
   "metadata": {},
   "outputs": [],
   "source": [
    "data['preds'] = model.predict(X_)"
   ]
  },
  {
   "cell_type": "code",
   "execution_count": 27,
   "id": "7467b81a-dc94-4432-8e4f-1d8307ad6c0c",
   "metadata": {},
   "outputs": [
    {
     "name": "stdout",
     "output_type": "stream",
     "text": [
      "MSE: 7659274556248, MAE: 2454155\n"
     ]
    }
   ],
   "source": [
    "MSE = mean_squared_error(Y_, data.preds)\n",
    "MAE = mean_absolute_error(Y_, data.preds)\n",
    "\n",
    "print(f'MSE: {MSE:.0f}, MAE: {MAE:.0f}')"
   ]
  },
  {
   "cell_type": "markdown",
   "id": "6cf94e10-2a9b-4ab9-929d-858de8ce875b",
   "metadata": {},
   "source": [
    "### Task 4. "
   ]
  },
  {
   "cell_type": "markdown",
   "id": "a92b908a-9905-4287-b083-4b1954baf890",
   "metadata": {},
   "source": [
    "**In machine learning, it can be useful to use asymmetric metrics. Especially in cases where we want to give only a lower or upper bound on the prediction. For example, a great example of such a metric is the use of quadratic error for over-prediction, and absolute error for under-prediction on each object (or vice versa). And then - averaging the losses calculated for each object.**"
   ]
  },
  {
   "cell_type": "markdown",
   "id": "7abbfc28-3460-41af-a122-1e601a7e2cbd",
   "metadata": {},
   "source": [
    "Asymmetric = [Prediction > Target] (Prediction - Target)^2 + [Prediction < Target] |Prediction - Target|"
   ]
  },
  {
   "cell_type": "code",
   "execution_count": 28,
   "id": "1aba030e-3511-4d6c-bf4b-9a8bfe9381da",
   "metadata": {},
   "outputs": [
    {
     "name": "stdout",
     "output_type": "stream",
     "text": [
      "Assymetric error value: 4838181948427\n"
     ]
    }
   ],
   "source": [
    "preds_lst = data.preds.to_list()\n",
    "\n",
    "sum_ = 0\n",
    "for idx in range(len(preds_lst)):\n",
    "    if preds_lst[idx] > Y_.values[idx]:\n",
    "        sum_ += (preds_lst[idx] - Y_.values[idx])**2\n",
    "    else:\n",
    "        sum_ += np.abs(preds_lst[idx] - Y_.values[idx])\n",
    "        \n",
    "print(f'Assymetric error value: {sum_ / len(preds_lst):.0f}')"
   ]
  },
  {
   "cell_type": "markdown",
   "id": "0e654218-672d-41a9-807a-29295d77ad9b",
   "metadata": {},
   "source": [
    "### Task 5. "
   ]
  },
  {
   "cell_type": "markdown",
   "id": "f2cc0059-a131-418f-9def-e6aca607d1c1",
   "metadata": {},
   "source": [
    "tbc.."
   ]
  },
  {
   "cell_type": "code",
   "execution_count": null,
   "id": "389bb23b-be59-4624-8a68-11373308e272",
   "metadata": {},
   "outputs": [],
   "source": []
  },
  {
   "cell_type": "code",
   "execution_count": null,
   "id": "5246f807-09ab-4c5b-aeee-99cda6d82c92",
   "metadata": {},
   "outputs": [],
   "source": []
  },
  {
   "cell_type": "code",
   "execution_count": null,
   "id": "67cc6733-0528-4a90-a476-30bd8bfbb614",
   "metadata": {},
   "outputs": [],
   "source": []
  },
  {
   "cell_type": "code",
   "execution_count": null,
   "id": "8764c89f-ce29-4cf5-bcdc-acf7998f6fa2",
   "metadata": {},
   "outputs": [],
   "source": []
  },
  {
   "cell_type": "code",
   "execution_count": null,
   "id": "d98e6770-0a5c-4eb1-89ff-9c52aa63dea6",
   "metadata": {},
   "outputs": [],
   "source": []
  },
  {
   "cell_type": "code",
   "execution_count": null,
   "id": "0e5af1a3-f053-4e74-b18f-8429b621bf27",
   "metadata": {},
   "outputs": [],
   "source": []
  },
  {
   "cell_type": "code",
   "execution_count": null,
   "id": "047f8f88-f851-4c1b-89af-e91783339f2b",
   "metadata": {},
   "outputs": [],
   "source": []
  },
  {
   "cell_type": "code",
   "execution_count": null,
   "id": "9d6f67c8-24fb-4dd9-9627-48241c279479",
   "metadata": {},
   "outputs": [],
   "source": []
  }
 ],
 "metadata": {
  "kernelspec": {
   "display_name": "Python 3 (ipykernel)",
   "language": "python",
   "name": "python3"
  },
  "language_info": {
   "codemirror_mode": {
    "name": "ipython",
    "version": 3
   },
   "file_extension": ".py",
   "mimetype": "text/x-python",
   "name": "python",
   "nbconvert_exporter": "python",
   "pygments_lexer": "ipython3",
   "version": "3.8.10"
  }
 },
 "nbformat": 4,
 "nbformat_minor": 5
}
