{
 "cells": [
  {
   "cell_type": "markdown",
   "id": "e23e1516-6e75-4e85-bf5b-0011204c6bf9",
   "metadata": {},
   "source": [
    "# kNN"
   ]
  },
  {
   "cell_type": "markdown",
   "id": "8ad67dba-80ad-46c5-ade5-7ce6464e9f6c",
   "metadata": {},
   "source": [
    "## Import libraries"
   ]
  },
  {
   "cell_type": "code",
   "execution_count": 1,
   "id": "68a96dd2-7683-418d-bff2-7b13d50a9765",
   "metadata": {},
   "outputs": [],
   "source": [
    "import pandas as pd\n",
    "import numpy as np\n",
    "import seaborn as sns\n",
    "import matplotlib.pyplot as plt\n",
    "\n",
    "from sklearn.model_selection import train_test_split\n",
    "from sklearn.compose import make_column_selector as selector\n",
    "from sklearn.compose import ColumnTransformer\n",
    "from sklearn.preprocessing import OneHotEncoder, StandardScaler\n",
    "from sklearn.pipeline import Pipeline\n",
    "from sklearn.neighbors import KNeighborsRegressor\n",
    "from sklearn.metrics import r2_score, mean_absolute_error\n",
    "from sklearn.model_selection import GridSearchCV\n",
    "\n",
    "import warnings\n",
    "warnings.filterwarnings('ignore')"
   ]
  },
  {
   "cell_type": "code",
   "execution_count": 2,
   "id": "c4490738-d320-4fd6-b131-75b67212e4b6",
   "metadata": {},
   "outputs": [
    {
     "name": "stdout",
     "output_type": "stream",
     "text": [
      "(datetime.date(2022, 2, 1), datetime.date(2022, 1, 31), 'android', 'f7411212fd0e2523e126cbfdd3f226c211212', '4beb10e1-aeeb-4c52-acd2-ce1ddbc1fc24b10e1', 22, 11, 3, 0, 0, 0, 2, 2, 0, 0, 0, 0, 0, 0)\n"
     ]
    }
   ],
   "source": [
    "from clickhouse_driver import Client\n",
    "\n",
    "\n",
    "user_name = 'user'\n",
    "pwd = 'password'\n",
    "\n",
    "# creating connection ClickHouse\n",
    "client = Client(host='clickhouse.lab.karpov.courses', port=9000,\n",
    "                user=user_name, password=pwd, database='hardda')\n",
    "\n",
    "# checking connection\n",
    "result = client.execute(\"SELECT * FROM hardda.user_dm_events LIMIT 1\")\n",
    "\n",
    "# showing the result\n",
    "for row in result[0:1]:\n",
    "    print(row)"
   ]
  },
  {
   "cell_type": "markdown",
   "id": "b6e6fc11-f7c5-4ada-a6de-eda65591c0aa",
   "metadata": {},
   "source": [
    "## Tasks"
   ]
  },
  {
   "cell_type": "markdown",
   "id": "7c334d62-e699-49c4-bb27-367395721dfd",
   "metadata": {},
   "source": [
    "### Task 1."
   ]
  },
  {
   "cell_type": "markdown",
   "id": "dcb63d57-d2f7-4948-9b43-92b2ac608650",
   "metadata": {},
   "source": [
    " **Write an SQL query to load the data.**"
   ]
  },
  {
   "cell_type": "code",
   "execution_count": 3,
   "id": "ecfd8e77-0567-4eac-a56f-554f30e520b6",
   "metadata": {},
   "outputs": [],
   "source": [
    "query = '''\n",
    "SELECT \n",
    "  la.*, \n",
    "  up.user_type_cars_name\n",
    "FROM \n",
    "  live_adverts as la\n",
    "LEFT JOIN \n",
    "  user_passports AS up ON la.user_id= up.global_id\n",
    "WHERE \n",
    "  la.created_at::Date = '2023-01-30'\n",
    "'''"
   ]
  },
  {
   "cell_type": "code",
   "execution_count": 4,
   "id": "79f55eb9-3a10-4e28-8ad7-fc757a3dfc4c",
   "metadata": {},
   "outputs": [],
   "source": [
    "result = client.execute(query)"
   ]
  },
  {
   "cell_type": "code",
   "execution_count": 5,
   "id": "696ddd1c-e229-4578-9a7c-707005ed4af8",
   "metadata": {},
   "outputs": [
    {
     "data": {
      "text/plain": [
       "36043"
      ]
     },
     "execution_count": 5,
     "metadata": {},
     "output_type": "execute_result"
    }
   ],
   "source": [
    "len(result)"
   ]
  },
  {
   "cell_type": "code",
   "execution_count": 6,
   "id": "bd243faf-3421-4046-9ab1-c788dc95035e",
   "metadata": {},
   "outputs": [
    {
     "data": {
      "text/html": [
       "<div>\n",
       "<style scoped>\n",
       "    .dataframe tbody tr th:only-of-type {\n",
       "        vertical-align: middle;\n",
       "    }\n",
       "\n",
       "    .dataframe tbody tr th {\n",
       "        vertical-align: top;\n",
       "    }\n",
       "\n",
       "    .dataframe thead th {\n",
       "        text-align: right;\n",
       "    }\n",
       "</style>\n",
       "<table border=\"1\" class=\"dataframe\">\n",
       "  <thead>\n",
       "    <tr style=\"text-align: right;\">\n",
       "      <th></th>\n",
       "      <th>execution_date</th>\n",
       "      <th>advert_id</th>\n",
       "      <th>created_at</th>\n",
       "      <th>price</th>\n",
       "      <th>region</th>\n",
       "      <th>user_id</th>\n",
       "      <th>platform</th>\n",
       "      <th>auto_brand</th>\n",
       "      <th>auto_model</th>\n",
       "      <th>passport_id</th>\n",
       "      <th>year</th>\n",
       "      <th>user_type</th>\n",
       "      <th>user_type_cars_name</th>\n",
       "    </tr>\n",
       "  </thead>\n",
       "  <tbody>\n",
       "    <tr>\n",
       "      <th>0</th>\n",
       "      <td>2023-01-30</td>\n",
       "      <td>271540910</td>\n",
       "      <td>2023-01-30 00:00:02</td>\n",
       "      <td>414000</td>\n",
       "      <td>Самара</td>\n",
       "      <td>134142241</td>\n",
       "      <td>ios</td>\n",
       "      <td>ЗАЗ</td>\n",
       "      <td>Chance</td>\n",
       "      <td>131631637</td>\n",
       "      <td>2014</td>\n",
       "      <td>0</td>\n",
       "      <td>cars_simple</td>\n",
       "    </tr>\n",
       "    <tr>\n",
       "      <th>1</th>\n",
       "      <td>2023-01-30</td>\n",
       "      <td>271540911</td>\n",
       "      <td>2023-01-30 00:00:17</td>\n",
       "      <td>620000</td>\n",
       "      <td>Сочи</td>\n",
       "      <td>151328585</td>\n",
       "      <td>ios</td>\n",
       "      <td>Chevrolet</td>\n",
       "      <td>Cruze</td>\n",
       "      <td>144703780</td>\n",
       "      <td>2010</td>\n",
       "      <td>0</td>\n",
       "      <td>cars_simple</td>\n",
       "    </tr>\n",
       "    <tr>\n",
       "      <th>2</th>\n",
       "      <td>2023-01-30</td>\n",
       "      <td>271540913</td>\n",
       "      <td>2023-01-30 00:01:21</td>\n",
       "      <td>4970000</td>\n",
       "      <td>Москва</td>\n",
       "      <td>123929189</td>\n",
       "      <td>android</td>\n",
       "      <td>Toyota</td>\n",
       "      <td>Land Cruiser</td>\n",
       "      <td>123950184</td>\n",
       "      <td>2013</td>\n",
       "      <td>6</td>\n",
       "      <td>cars_seller</td>\n",
       "    </tr>\n",
       "    <tr>\n",
       "      <th>3</th>\n",
       "      <td>2023-01-30</td>\n",
       "      <td>271540914</td>\n",
       "      <td>2023-01-30 00:04:42</td>\n",
       "      <td>800000</td>\n",
       "      <td>Москва</td>\n",
       "      <td>137723514</td>\n",
       "      <td>android</td>\n",
       "      <td>Subaru</td>\n",
       "      <td>Impreza</td>\n",
       "      <td>134075141</td>\n",
       "      <td>2006</td>\n",
       "      <td>0</td>\n",
       "      <td>cars_simple</td>\n",
       "    </tr>\n",
       "    <tr>\n",
       "      <th>4</th>\n",
       "      <td>2023-01-30</td>\n",
       "      <td>271540915</td>\n",
       "      <td>2023-01-30 00:04:57</td>\n",
       "      <td>280000</td>\n",
       "      <td>Пермь</td>\n",
       "      <td>142310446</td>\n",
       "      <td>android</td>\n",
       "      <td>Mitsubishi</td>\n",
       "      <td>RVR</td>\n",
       "      <td>137387157</td>\n",
       "      <td>1995</td>\n",
       "      <td>0</td>\n",
       "      <td>cars_simple</td>\n",
       "    </tr>\n",
       "  </tbody>\n",
       "</table>\n",
       "</div>"
      ],
      "text/plain": [
       "  execution_date  advert_id          created_at    price  region    user_id  \\\n",
       "0     2023-01-30  271540910 2023-01-30 00:00:02   414000  Самара  134142241   \n",
       "1     2023-01-30  271540911 2023-01-30 00:00:17   620000    Сочи  151328585   \n",
       "2     2023-01-30  271540913 2023-01-30 00:01:21  4970000  Москва  123929189   \n",
       "3     2023-01-30  271540914 2023-01-30 00:04:42   800000  Москва  137723514   \n",
       "4     2023-01-30  271540915 2023-01-30 00:04:57   280000   Пермь  142310446   \n",
       "\n",
       "  platform  auto_brand    auto_model  passport_id  year  user_type  \\\n",
       "0      ios         ЗАЗ        Chance    131631637  2014          0   \n",
       "1      ios   Chevrolet         Cruze    144703780  2010          0   \n",
       "2  android      Toyota  Land Cruiser    123950184  2013          6   \n",
       "3  android      Subaru       Impreza    134075141  2006          0   \n",
       "4  android  Mitsubishi           RVR    137387157  1995          0   \n",
       "\n",
       "  user_type_cars_name  \n",
       "0         cars_simple  \n",
       "1         cars_simple  \n",
       "2         cars_seller  \n",
       "3         cars_simple  \n",
       "4         cars_simple  "
      ]
     },
     "execution_count": 6,
     "metadata": {},
     "output_type": "execute_result"
    }
   ],
   "source": [
    "df = pd.DataFrame(result, \n",
    "                  columns=['execution_date', 'advert_id', 'created_at',\n",
    "                           'price', 'region', 'user_id', 'platform',\n",
    "                           'auto_brand', 'auto_model', 'passport_id',\n",
    "                           'year', 'user_type', 'user_type_cars_name'])\n",
    "\n",
    "df.head()"
   ]
  },
  {
   "cell_type": "code",
   "execution_count": 7,
   "id": "e95035ac-c272-43ad-80c9-104287bc87a0",
   "metadata": {},
   "outputs": [
    {
     "name": "stdout",
     "output_type": "stream",
     "text": [
      "<class 'pandas.core.frame.DataFrame'>\n",
      "RangeIndex: 36043 entries, 0 to 36042\n",
      "Data columns (total 13 columns):\n",
      " #   Column               Non-Null Count  Dtype         \n",
      "---  ------               --------------  -----         \n",
      " 0   execution_date       36043 non-null  object        \n",
      " 1   advert_id            36043 non-null  int64         \n",
      " 2   created_at           36043 non-null  datetime64[ns]\n",
      " 3   price                36043 non-null  int64         \n",
      " 4   region               36043 non-null  object        \n",
      " 5   user_id              36043 non-null  int64         \n",
      " 6   platform             36043 non-null  object        \n",
      " 7   auto_brand           36043 non-null  object        \n",
      " 8   auto_model           36043 non-null  object        \n",
      " 9   passport_id          36043 non-null  int64         \n",
      " 10  year                 36043 non-null  object        \n",
      " 11  user_type            36043 non-null  int64         \n",
      " 12  user_type_cars_name  36043 non-null  object        \n",
      "dtypes: datetime64[ns](1), int64(5), object(7)\n",
      "memory usage: 3.6+ MB\n"
     ]
    }
   ],
   "source": [
    "df.info()"
   ]
  },
  {
   "cell_type": "code",
   "execution_count": 8,
   "id": "9090da25-50b3-4740-8381-0d2ad9d12c2e",
   "metadata": {},
   "outputs": [],
   "source": [
    "df['execution_date'] = pd.to_datetime(df['execution_date'], format='%Y-%m-%d')"
   ]
  },
  {
   "cell_type": "code",
   "execution_count": 9,
   "id": "f4778786-336b-4197-bc65-0bf0a524e317",
   "metadata": {},
   "outputs": [
    {
     "name": "stdout",
     "output_type": "stream",
     "text": [
      "<class 'pandas.core.frame.DataFrame'>\n",
      "RangeIndex: 36043 entries, 0 to 36042\n",
      "Data columns (total 13 columns):\n",
      " #   Column               Non-Null Count  Dtype         \n",
      "---  ------               --------------  -----         \n",
      " 0   execution_date       36043 non-null  datetime64[ns]\n",
      " 1   advert_id            36043 non-null  int64         \n",
      " 2   created_at           36043 non-null  datetime64[ns]\n",
      " 3   price                36043 non-null  int64         \n",
      " 4   region               36043 non-null  object        \n",
      " 5   user_id              36043 non-null  int64         \n",
      " 6   platform             36043 non-null  object        \n",
      " 7   auto_brand           36043 non-null  object        \n",
      " 8   auto_model           36043 non-null  object        \n",
      " 9   passport_id          36043 non-null  int64         \n",
      " 10  year                 36043 non-null  object        \n",
      " 11  user_type            36043 non-null  int64         \n",
      " 12  user_type_cars_name  36043 non-null  object        \n",
      "dtypes: datetime64[ns](2), int64(5), object(6)\n",
      "memory usage: 3.6+ MB\n"
     ]
    }
   ],
   "source": [
    "df.info()"
   ]
  },
  {
   "cell_type": "code",
   "execution_count": 10,
   "id": "5a4f5670-c34b-49cb-9a14-ea25a694a29e",
   "metadata": {},
   "outputs": [],
   "source": [
    "df = df.sort_values(['execution_date', 'user_id', 'advert_id']).reset_index(drop=True)"
   ]
  },
  {
   "cell_type": "code",
   "execution_count": 11,
   "id": "6747a966-593f-4199-b60e-c7ce789beaed",
   "metadata": {},
   "outputs": [
    {
     "data": {
      "text/html": [
       "<div>\n",
       "<style scoped>\n",
       "    .dataframe tbody tr th:only-of-type {\n",
       "        vertical-align: middle;\n",
       "    }\n",
       "\n",
       "    .dataframe tbody tr th {\n",
       "        vertical-align: top;\n",
       "    }\n",
       "\n",
       "    .dataframe thead th {\n",
       "        text-align: right;\n",
       "    }\n",
       "</style>\n",
       "<table border=\"1\" class=\"dataframe\">\n",
       "  <thead>\n",
       "    <tr style=\"text-align: right;\">\n",
       "      <th></th>\n",
       "      <th>execution_date</th>\n",
       "      <th>advert_id</th>\n",
       "      <th>created_at</th>\n",
       "      <th>price</th>\n",
       "      <th>region</th>\n",
       "      <th>user_id</th>\n",
       "      <th>platform</th>\n",
       "      <th>auto_brand</th>\n",
       "      <th>auto_model</th>\n",
       "      <th>passport_id</th>\n",
       "      <th>year</th>\n",
       "      <th>user_type</th>\n",
       "      <th>user_type_cars_name</th>\n",
       "    </tr>\n",
       "  </thead>\n",
       "  <tbody>\n",
       "    <tr>\n",
       "      <th>0</th>\n",
       "      <td>2023-01-30</td>\n",
       "      <td>271543213</td>\n",
       "      <td>2023-01-30 03:23:57</td>\n",
       "      <td>0</td>\n",
       "      <td>Москва</td>\n",
       "      <td>123456856</td>\n",
       "      <td>desktop</td>\n",
       "      <td>Unknown</td>\n",
       "      <td>Unknown model</td>\n",
       "      <td>123463122</td>\n",
       "      <td>0</td>\n",
       "      <td>6</td>\n",
       "      <td>cars_seller</td>\n",
       "    </tr>\n",
       "    <tr>\n",
       "      <th>1</th>\n",
       "      <td>2023-01-30</td>\n",
       "      <td>271550853</td>\n",
       "      <td>2023-01-30 06:01:54</td>\n",
       "      <td>5000</td>\n",
       "      <td>Москва</td>\n",
       "      <td>123456939</td>\n",
       "      <td>android</td>\n",
       "      <td>Unknown</td>\n",
       "      <td>Unknown model</td>\n",
       "      <td>123463231</td>\n",
       "      <td>0</td>\n",
       "      <td>0</td>\n",
       "      <td>cars_simple</td>\n",
       "    </tr>\n",
       "    <tr>\n",
       "      <th>2</th>\n",
       "      <td>2023-01-30</td>\n",
       "      <td>271551604</td>\n",
       "      <td>2023-01-30 06:15:20</td>\n",
       "      <td>7600</td>\n",
       "      <td>Москва</td>\n",
       "      <td>123456939</td>\n",
       "      <td>android</td>\n",
       "      <td>Mitsubishi</td>\n",
       "      <td>Pajero</td>\n",
       "      <td>123463231</td>\n",
       "      <td>0</td>\n",
       "      <td>0</td>\n",
       "      <td>cars_simple</td>\n",
       "    </tr>\n",
       "    <tr>\n",
       "      <th>3</th>\n",
       "      <td>2023-01-30</td>\n",
       "      <td>271541982</td>\n",
       "      <td>2023-01-30 02:34:51</td>\n",
       "      <td>900000</td>\n",
       "      <td>Санкт-Петербург</td>\n",
       "      <td>123457280</td>\n",
       "      <td>android</td>\n",
       "      <td>Mitsubishi</td>\n",
       "      <td>Pajero</td>\n",
       "      <td>123463669</td>\n",
       "      <td>2001</td>\n",
       "      <td>0</td>\n",
       "      <td>cars_simple</td>\n",
       "    </tr>\n",
       "    <tr>\n",
       "      <th>4</th>\n",
       "      <td>2023-01-30</td>\n",
       "      <td>271550861</td>\n",
       "      <td>2023-01-30 06:02:01</td>\n",
       "      <td>20000</td>\n",
       "      <td>Санкт-Петербург</td>\n",
       "      <td>123457685</td>\n",
       "      <td>ios</td>\n",
       "      <td>BMW</td>\n",
       "      <td>320</td>\n",
       "      <td>123464208</td>\n",
       "      <td>0</td>\n",
       "      <td>0</td>\n",
       "      <td>cars_simple</td>\n",
       "    </tr>\n",
       "  </tbody>\n",
       "</table>\n",
       "</div>"
      ],
      "text/plain": [
       "  execution_date  advert_id          created_at   price           region  \\\n",
       "0     2023-01-30  271543213 2023-01-30 03:23:57       0           Москва   \n",
       "1     2023-01-30  271550853 2023-01-30 06:01:54    5000           Москва   \n",
       "2     2023-01-30  271551604 2023-01-30 06:15:20    7600           Москва   \n",
       "3     2023-01-30  271541982 2023-01-30 02:34:51  900000  Санкт-Петербург   \n",
       "4     2023-01-30  271550861 2023-01-30 06:02:01   20000  Санкт-Петербург   \n",
       "\n",
       "     user_id platform  auto_brand     auto_model  passport_id  year  \\\n",
       "0  123456856  desktop     Unknown  Unknown model    123463122     0   \n",
       "1  123456939  android     Unknown  Unknown model    123463231     0   \n",
       "2  123456939  android  Mitsubishi         Pajero    123463231     0   \n",
       "3  123457280  android  Mitsubishi         Pajero    123463669  2001   \n",
       "4  123457685      ios         BMW            320    123464208     0   \n",
       "\n",
       "   user_type user_type_cars_name  \n",
       "0          6         cars_seller  \n",
       "1          0         cars_simple  \n",
       "2          0         cars_simple  \n",
       "3          0         cars_simple  \n",
       "4          0         cars_simple  "
      ]
     },
     "execution_count": 11,
     "metadata": {},
     "output_type": "execute_result"
    }
   ],
   "source": [
    "df.head()"
   ]
  },
  {
   "cell_type": "markdown",
   "id": "12e5f45e-d3a9-46ef-a1d2-9d62341f7926",
   "metadata": {},
   "source": [
    "### Task 2. "
   ]
  },
  {
   "cell_type": "markdown",
   "id": "b151886e-0ffd-4ac9-8340-829d5b4175b5",
   "metadata": {},
   "source": [
    "**What is datatype for `year` column? Should we change it?**"
   ]
  },
  {
   "cell_type": "code",
   "execution_count": 12,
   "id": "010e0d7c-2c9c-4084-b0e1-3bc439b0584c",
   "metadata": {},
   "outputs": [
    {
     "data": {
      "text/plain": [
       "dtype('O')"
      ]
     },
     "execution_count": 12,
     "metadata": {},
     "output_type": "execute_result"
    }
   ],
   "source": [
    "df.year.dtype"
   ]
  },
  {
   "cell_type": "code",
   "execution_count": 13,
   "id": "6ad174e1-4d78-4a3f-8a7c-9a8741aa38bb",
   "metadata": {},
   "outputs": [],
   "source": [
    "df['year'] = df.year.astype('int')"
   ]
  },
  {
   "cell_type": "code",
   "execution_count": 14,
   "id": "9e41eea8-3418-44ef-b95f-173444fb7508",
   "metadata": {},
   "outputs": [
    {
     "data": {
      "text/plain": [
       "dtype('int64')"
      ]
     },
     "execution_count": 14,
     "metadata": {},
     "output_type": "execute_result"
    }
   ],
   "source": [
    "df.year.dtype"
   ]
  },
  {
   "cell_type": "markdown",
   "id": "92137d74-b31f-4aba-a1b5-d9164be17f5b",
   "metadata": {
    "tags": []
   },
   "source": [
    "### Task 3.  "
   ]
  },
  {
   "cell_type": "markdown",
   "id": "830049b9-f37d-4c47-82b3-0e95d7db9ed3",
   "metadata": {},
   "source": [
    "**What is the minimum year of manufacture for a car in our dataset? In your opinion, is this value adequate? Let's delete all rows with this year value.** "
   ]
  },
  {
   "cell_type": "code",
   "execution_count": 15,
   "id": "eaf24f65-ca22-4258-84b9-26ce29f7b385",
   "metadata": {},
   "outputs": [
    {
     "data": {
      "text/plain": [
       "0"
      ]
     },
     "execution_count": 15,
     "metadata": {},
     "output_type": "execute_result"
    }
   ],
   "source": [
    "df.year.min()"
   ]
  },
  {
   "cell_type": "code",
   "execution_count": 16,
   "id": "c99dca74-6a9b-4798-b3f6-9bfed33908b9",
   "metadata": {},
   "outputs": [
    {
     "data": {
      "text/plain": [
       "0       2763\n",
       "2007    1681\n",
       "2013    1649\n",
       "2014    1494\n",
       "2022    1431\n",
       "        ... \n",
       "1970       2\n",
       "1972       2\n",
       "1959       2\n",
       "1976       1\n",
       "1969       1\n",
       "Name: year, Length: 63, dtype: int64"
      ]
     },
     "execution_count": 16,
     "metadata": {},
     "output_type": "execute_result"
    }
   ],
   "source": [
    "df.year.value_counts()"
   ]
  },
  {
   "cell_type": "code",
   "execution_count": 17,
   "id": "43cd0abe-0d3d-47f2-8275-5923ea67cd53",
   "metadata": {},
   "outputs": [],
   "source": [
    "df = df[df['year'] != 0]"
   ]
  },
  {
   "cell_type": "code",
   "execution_count": 18,
   "id": "9e70217e-1c4e-4a2a-aaf3-9554f426781e",
   "metadata": {},
   "outputs": [],
   "source": [
    "df.reset_index(drop=True, inplace=True)"
   ]
  },
  {
   "cell_type": "code",
   "execution_count": 19,
   "id": "32ad13a3-a835-42cd-9e0a-2df38a0a7ccd",
   "metadata": {},
   "outputs": [
    {
     "data": {
      "text/html": [
       "<div>\n",
       "<style scoped>\n",
       "    .dataframe tbody tr th:only-of-type {\n",
       "        vertical-align: middle;\n",
       "    }\n",
       "\n",
       "    .dataframe tbody tr th {\n",
       "        vertical-align: top;\n",
       "    }\n",
       "\n",
       "    .dataframe thead th {\n",
       "        text-align: right;\n",
       "    }\n",
       "</style>\n",
       "<table border=\"1\" class=\"dataframe\">\n",
       "  <thead>\n",
       "    <tr style=\"text-align: right;\">\n",
       "      <th></th>\n",
       "      <th>execution_date</th>\n",
       "      <th>advert_id</th>\n",
       "      <th>created_at</th>\n",
       "      <th>price</th>\n",
       "      <th>region</th>\n",
       "      <th>user_id</th>\n",
       "      <th>platform</th>\n",
       "      <th>auto_brand</th>\n",
       "      <th>auto_model</th>\n",
       "      <th>passport_id</th>\n",
       "      <th>year</th>\n",
       "      <th>user_type</th>\n",
       "      <th>user_type_cars_name</th>\n",
       "    </tr>\n",
       "  </thead>\n",
       "  <tbody>\n",
       "    <tr>\n",
       "      <th>0</th>\n",
       "      <td>2023-01-30</td>\n",
       "      <td>271541982</td>\n",
       "      <td>2023-01-30 02:34:51</td>\n",
       "      <td>900000</td>\n",
       "      <td>Санкт-Петербург</td>\n",
       "      <td>123457280</td>\n",
       "      <td>android</td>\n",
       "      <td>Mitsubishi</td>\n",
       "      <td>Pajero</td>\n",
       "      <td>123463669</td>\n",
       "      <td>2001</td>\n",
       "      <td>0</td>\n",
       "      <td>cars_simple</td>\n",
       "    </tr>\n",
       "    <tr>\n",
       "      <th>1</th>\n",
       "      <td>2023-01-30</td>\n",
       "      <td>271543912</td>\n",
       "      <td>2023-01-30 03:44:51</td>\n",
       "      <td>1220000</td>\n",
       "      <td>Москва</td>\n",
       "      <td>123458053</td>\n",
       "      <td>ios</td>\n",
       "      <td>BMW</td>\n",
       "      <td>X5</td>\n",
       "      <td>123464695</td>\n",
       "      <td>2005</td>\n",
       "      <td>0</td>\n",
       "      <td>cars_simple</td>\n",
       "    </tr>\n",
       "    <tr>\n",
       "      <th>2</th>\n",
       "      <td>2023-01-30</td>\n",
       "      <td>271576473</td>\n",
       "      <td>2023-01-30 14:04:52</td>\n",
       "      <td>500000</td>\n",
       "      <td>Новосибирск</td>\n",
       "      <td>123458440</td>\n",
       "      <td>android</td>\n",
       "      <td>Toyota</td>\n",
       "      <td>Land Cruiser Prado</td>\n",
       "      <td>123465200</td>\n",
       "      <td>1998</td>\n",
       "      <td>0</td>\n",
       "      <td>cars_simple</td>\n",
       "    </tr>\n",
       "    <tr>\n",
       "      <th>3</th>\n",
       "      <td>2023-01-30</td>\n",
       "      <td>271554458</td>\n",
       "      <td>2023-01-30 07:06:09</td>\n",
       "      <td>2600000</td>\n",
       "      <td>Москва</td>\n",
       "      <td>123458579</td>\n",
       "      <td>ios</td>\n",
       "      <td>Hyundai</td>\n",
       "      <td>i30</td>\n",
       "      <td>123465390</td>\n",
       "      <td>2022</td>\n",
       "      <td>6</td>\n",
       "      <td>cars_seller</td>\n",
       "    </tr>\n",
       "    <tr>\n",
       "      <th>4</th>\n",
       "      <td>2023-01-30</td>\n",
       "      <td>271576237</td>\n",
       "      <td>2023-01-30 13:59:51</td>\n",
       "      <td>1060000</td>\n",
       "      <td>Москва</td>\n",
       "      <td>123458626</td>\n",
       "      <td>ios</td>\n",
       "      <td>Nissan</td>\n",
       "      <td>Patrol</td>\n",
       "      <td>123465453</td>\n",
       "      <td>1998</td>\n",
       "      <td>0</td>\n",
       "      <td>cars_simple</td>\n",
       "    </tr>\n",
       "  </tbody>\n",
       "</table>\n",
       "</div>"
      ],
      "text/plain": [
       "  execution_date  advert_id          created_at    price           region  \\\n",
       "0     2023-01-30  271541982 2023-01-30 02:34:51   900000  Санкт-Петербург   \n",
       "1     2023-01-30  271543912 2023-01-30 03:44:51  1220000           Москва   \n",
       "2     2023-01-30  271576473 2023-01-30 14:04:52   500000      Новосибирск   \n",
       "3     2023-01-30  271554458 2023-01-30 07:06:09  2600000           Москва   \n",
       "4     2023-01-30  271576237 2023-01-30 13:59:51  1060000           Москва   \n",
       "\n",
       "     user_id platform  auto_brand          auto_model  passport_id  year  \\\n",
       "0  123457280  android  Mitsubishi              Pajero    123463669  2001   \n",
       "1  123458053      ios         BMW                  X5    123464695  2005   \n",
       "2  123458440  android      Toyota  Land Cruiser Prado    123465200  1998   \n",
       "3  123458579      ios     Hyundai                 i30    123465390  2022   \n",
       "4  123458626      ios      Nissan              Patrol    123465453  1998   \n",
       "\n",
       "   user_type user_type_cars_name  \n",
       "0          0         cars_simple  \n",
       "1          0         cars_simple  \n",
       "2          0         cars_simple  \n",
       "3          6         cars_seller  \n",
       "4          0         cars_simple  "
      ]
     },
     "execution_count": 19,
     "metadata": {},
     "output_type": "execute_result"
    }
   ],
   "source": [
    "df.head()"
   ]
  },
  {
   "cell_type": "code",
   "execution_count": 20,
   "id": "aaf04986-bec2-4255-9f39-e79c6d8322eb",
   "metadata": {},
   "outputs": [
    {
     "data": {
      "text/plain": [
       "1950"
      ]
     },
     "execution_count": 20,
     "metadata": {},
     "output_type": "execute_result"
    }
   ],
   "source": [
    "df.year.min()"
   ]
  },
  {
   "cell_type": "markdown",
   "id": "7b1831e5-9629-45ba-8320-429c58a760d9",
   "metadata": {},
   "source": [
    "### Task 4. "
   ]
  },
  {
   "cell_type": "markdown",
   "id": "41913718-3c9d-42cb-b61d-72ebdc7edad3",
   "metadata": {},
   "source": [
    "**Which columns will we definitely not be able to use as features when building a model, due to the fact that the values are either unique or the same for all objects?**  \n",
    "\n",
    "To reproduce the results, before deleting these columns, sort the dataframe by [`'execution_date'`, `'advert_id'`]."
   ]
  },
  {
   "cell_type": "code",
   "execution_count": 21,
   "id": "fecfe666-849f-46af-8e1d-72829cf35494",
   "metadata": {},
   "outputs": [],
   "source": [
    "df.sort_values(['execution_date', 'advert_id'], inplace = True)"
   ]
  },
  {
   "cell_type": "code",
   "execution_count": 22,
   "id": "4839b07a-e505-411d-a4de-f63f4f024cb6",
   "metadata": {},
   "outputs": [],
   "source": [
    "data = df.drop(['execution_date', 'passport_id',\n",
    "                'advert_id', 'user_id', 'created_at'], axis=1)"
   ]
  },
  {
   "cell_type": "code",
   "execution_count": 23,
   "id": "744e3c4a-bda1-4bd2-9dba-ef8ac9b2e5b9",
   "metadata": {},
   "outputs": [
    {
     "data": {
      "text/html": [
       "<div>\n",
       "<style scoped>\n",
       "    .dataframe tbody tr th:only-of-type {\n",
       "        vertical-align: middle;\n",
       "    }\n",
       "\n",
       "    .dataframe tbody tr th {\n",
       "        vertical-align: top;\n",
       "    }\n",
       "\n",
       "    .dataframe thead th {\n",
       "        text-align: right;\n",
       "    }\n",
       "</style>\n",
       "<table border=\"1\" class=\"dataframe\">\n",
       "  <thead>\n",
       "    <tr style=\"text-align: right;\">\n",
       "      <th></th>\n",
       "      <th>price</th>\n",
       "      <th>region</th>\n",
       "      <th>platform</th>\n",
       "      <th>auto_brand</th>\n",
       "      <th>auto_model</th>\n",
       "      <th>year</th>\n",
       "      <th>user_type</th>\n",
       "      <th>user_type_cars_name</th>\n",
       "    </tr>\n",
       "  </thead>\n",
       "  <tbody>\n",
       "    <tr>\n",
       "      <th>3020</th>\n",
       "      <td>414000</td>\n",
       "      <td>Самара</td>\n",
       "      <td>ios</td>\n",
       "      <td>ЗАЗ</td>\n",
       "      <td>Chance</td>\n",
       "      <td>2014</td>\n",
       "      <td>0</td>\n",
       "      <td>cars_simple</td>\n",
       "    </tr>\n",
       "    <tr>\n",
       "      <th>15186</th>\n",
       "      <td>620000</td>\n",
       "      <td>Сочи</td>\n",
       "      <td>ios</td>\n",
       "      <td>Chevrolet</td>\n",
       "      <td>Cruze</td>\n",
       "      <td>2010</td>\n",
       "      <td>0</td>\n",
       "      <td>cars_simple</td>\n",
       "    </tr>\n",
       "    <tr>\n",
       "      <th>765</th>\n",
       "      <td>4970000</td>\n",
       "      <td>Москва</td>\n",
       "      <td>android</td>\n",
       "      <td>Toyota</td>\n",
       "      <td>Land Cruiser</td>\n",
       "      <td>2013</td>\n",
       "      <td>6</td>\n",
       "      <td>cars_seller</td>\n",
       "    </tr>\n",
       "    <tr>\n",
       "      <th>6037</th>\n",
       "      <td>800000</td>\n",
       "      <td>Москва</td>\n",
       "      <td>android</td>\n",
       "      <td>Subaru</td>\n",
       "      <td>Impreza</td>\n",
       "      <td>2006</td>\n",
       "      <td>0</td>\n",
       "      <td>cars_simple</td>\n",
       "    </tr>\n",
       "    <tr>\n",
       "      <th>8871</th>\n",
       "      <td>280000</td>\n",
       "      <td>Пермь</td>\n",
       "      <td>android</td>\n",
       "      <td>Mitsubishi</td>\n",
       "      <td>RVR</td>\n",
       "      <td>1995</td>\n",
       "      <td>0</td>\n",
       "      <td>cars_simple</td>\n",
       "    </tr>\n",
       "    <tr>\n",
       "      <th>...</th>\n",
       "      <td>...</td>\n",
       "      <td>...</td>\n",
       "      <td>...</td>\n",
       "      <td>...</td>\n",
       "      <td>...</td>\n",
       "      <td>...</td>\n",
       "      <td>...</td>\n",
       "      <td>...</td>\n",
       "    </tr>\n",
       "    <tr>\n",
       "      <th>23219</th>\n",
       "      <td>10000</td>\n",
       "      <td>Новосибирск</td>\n",
       "      <td>android</td>\n",
       "      <td>Unknown</td>\n",
       "      <td>Unknown model</td>\n",
       "      <td>2007</td>\n",
       "      <td>0</td>\n",
       "      <td>cars_simple</td>\n",
       "    </tr>\n",
       "    <tr>\n",
       "      <th>19978</th>\n",
       "      <td>480000</td>\n",
       "      <td>Новосибирск</td>\n",
       "      <td>ios</td>\n",
       "      <td>ВАЗ (Lada)</td>\n",
       "      <td>Priora 2170 (седан)</td>\n",
       "      <td>2012</td>\n",
       "      <td>0</td>\n",
       "      <td>cars_simple</td>\n",
       "    </tr>\n",
       "    <tr>\n",
       "      <th>24519</th>\n",
       "      <td>1320000</td>\n",
       "      <td>Новосибирск</td>\n",
       "      <td>android</td>\n",
       "      <td>Chevrolet</td>\n",
       "      <td>Cobalt</td>\n",
       "      <td>2021</td>\n",
       "      <td>0</td>\n",
       "      <td>cars_simple</td>\n",
       "    </tr>\n",
       "    <tr>\n",
       "      <th>30563</th>\n",
       "      <td>740000</td>\n",
       "      <td>Москва</td>\n",
       "      <td>desktop</td>\n",
       "      <td>Mercedes-Benz</td>\n",
       "      <td>C 320</td>\n",
       "      <td>2002</td>\n",
       "      <td>0</td>\n",
       "      <td>cars_simple</td>\n",
       "    </tr>\n",
       "    <tr>\n",
       "      <th>25872</th>\n",
       "      <td>1000000</td>\n",
       "      <td>Ростов-на-Дону</td>\n",
       "      <td>android</td>\n",
       "      <td>ГАЗ</td>\n",
       "      <td>ГАЗель</td>\n",
       "      <td>2011</td>\n",
       "      <td>0</td>\n",
       "      <td>cars_simple</td>\n",
       "    </tr>\n",
       "  </tbody>\n",
       "</table>\n",
       "<p>33280 rows × 8 columns</p>\n",
       "</div>"
      ],
      "text/plain": [
       "         price          region platform     auto_brand           auto_model  \\\n",
       "3020    414000          Самара      ios            ЗАЗ               Chance   \n",
       "15186   620000            Сочи      ios      Chevrolet                Cruze   \n",
       "765    4970000          Москва  android         Toyota         Land Cruiser   \n",
       "6037    800000          Москва  android         Subaru              Impreza   \n",
       "8871    280000           Пермь  android     Mitsubishi                  RVR   \n",
       "...        ...             ...      ...            ...                  ...   \n",
       "23219    10000     Новосибирск  android        Unknown        Unknown model   \n",
       "19978   480000     Новосибирск      ios     ВАЗ (Lada)  Priora 2170 (седан)   \n",
       "24519  1320000     Новосибирск  android      Chevrolet               Cobalt   \n",
       "30563   740000          Москва  desktop  Mercedes-Benz                C 320   \n",
       "25872  1000000  Ростов-на-Дону  android            ГАЗ               ГАЗель   \n",
       "\n",
       "       year  user_type user_type_cars_name  \n",
       "3020   2014          0         cars_simple  \n",
       "15186  2010          0         cars_simple  \n",
       "765    2013          6         cars_seller  \n",
       "6037   2006          0         cars_simple  \n",
       "8871   1995          0         cars_simple  \n",
       "...     ...        ...                 ...  \n",
       "23219  2007          0         cars_simple  \n",
       "19978  2012          0         cars_simple  \n",
       "24519  2021          0         cars_simple  \n",
       "30563  2002          0         cars_simple  \n",
       "25872  2011          0         cars_simple  \n",
       "\n",
       "[33280 rows x 8 columns]"
      ]
     },
     "execution_count": 23,
     "metadata": {},
     "output_type": "execute_result"
    }
   ],
   "source": [
    "data"
   ]
  },
  {
   "cell_type": "markdown",
   "id": "6cf94e10-2a9b-4ab9-929d-858de8ce875b",
   "metadata": {},
   "source": [
    "### Task 5. "
   ]
  },
  {
   "cell_type": "markdown",
   "id": "a92b908a-9905-4287-b083-4b1954baf890",
   "metadata": {},
   "source": [
    "**One of the remaining categorical features contains a large number of unique values, which will lead to a too sparse dataset when applying one-hot encoding and will only worsen the quality of the model. Therefore, it needs to be removed.**"
   ]
  },
  {
   "cell_type": "code",
   "execution_count": 24,
   "id": "018558e1-4169-4563-ac2c-84d4c624e9b8",
   "metadata": {},
   "outputs": [],
   "source": [
    "cols = data.select_dtypes(['object']).columns"
   ]
  },
  {
   "cell_type": "code",
   "execution_count": 25,
   "id": "d5e23239-af42-4446-9276-891598093278",
   "metadata": {},
   "outputs": [
    {
     "name": "stdout",
     "output_type": "stream",
     "text": [
      "Column name REGION --> unique values: 21\n",
      "Column name PLATFORM --> unique values: 4\n",
      "Column name AUTO_BRAND --> unique values: 85\n",
      "Column name AUTO_MODEL --> unique values: 829\n",
      "Column name USER_TYPE_CARS_NAME --> unique values: 4\n",
      "\n",
      "A column with maximum unique values: AUTO_MODEL\n"
     ]
    }
   ],
   "source": [
    "max_cnt = 0\n",
    "max_str = ''\n",
    "\n",
    "for col in cols:\n",
    "    uniq_cnt = data[col].nunique()\n",
    "    print(f'Column name {col.upper()} --> unique values: {uniq_cnt:.0f}')\n",
    "    \n",
    "    if uniq_cnt > max_cnt:\n",
    "        max_cnt = uniq_cnt\n",
    "        max_str = col\n",
    "\n",
    "print(f'\\nA column with maximum unique values: {max_str.upper()}')"
   ]
  },
  {
   "cell_type": "code",
   "execution_count": 26,
   "id": "ce2202b5-b703-4c59-b5a5-ffbde9a17c41",
   "metadata": {},
   "outputs": [],
   "source": [
    "data = data.drop(['auto_model'], axis=1)"
   ]
  },
  {
   "cell_type": "code",
   "execution_count": 27,
   "id": "0264f747-a415-4de5-8993-1ec18dac4d1f",
   "metadata": {},
   "outputs": [
    {
     "data": {
      "text/html": [
       "<div>\n",
       "<style scoped>\n",
       "    .dataframe tbody tr th:only-of-type {\n",
       "        vertical-align: middle;\n",
       "    }\n",
       "\n",
       "    .dataframe tbody tr th {\n",
       "        vertical-align: top;\n",
       "    }\n",
       "\n",
       "    .dataframe thead th {\n",
       "        text-align: right;\n",
       "    }\n",
       "</style>\n",
       "<table border=\"1\" class=\"dataframe\">\n",
       "  <thead>\n",
       "    <tr style=\"text-align: right;\">\n",
       "      <th></th>\n",
       "      <th>price</th>\n",
       "      <th>region</th>\n",
       "      <th>platform</th>\n",
       "      <th>auto_brand</th>\n",
       "      <th>year</th>\n",
       "      <th>user_type</th>\n",
       "      <th>user_type_cars_name</th>\n",
       "    </tr>\n",
       "  </thead>\n",
       "  <tbody>\n",
       "    <tr>\n",
       "      <th>3020</th>\n",
       "      <td>414000</td>\n",
       "      <td>Самара</td>\n",
       "      <td>ios</td>\n",
       "      <td>ЗАЗ</td>\n",
       "      <td>2014</td>\n",
       "      <td>0</td>\n",
       "      <td>cars_simple</td>\n",
       "    </tr>\n",
       "    <tr>\n",
       "      <th>15186</th>\n",
       "      <td>620000</td>\n",
       "      <td>Сочи</td>\n",
       "      <td>ios</td>\n",
       "      <td>Chevrolet</td>\n",
       "      <td>2010</td>\n",
       "      <td>0</td>\n",
       "      <td>cars_simple</td>\n",
       "    </tr>\n",
       "    <tr>\n",
       "      <th>765</th>\n",
       "      <td>4970000</td>\n",
       "      <td>Москва</td>\n",
       "      <td>android</td>\n",
       "      <td>Toyota</td>\n",
       "      <td>2013</td>\n",
       "      <td>6</td>\n",
       "      <td>cars_seller</td>\n",
       "    </tr>\n",
       "    <tr>\n",
       "      <th>6037</th>\n",
       "      <td>800000</td>\n",
       "      <td>Москва</td>\n",
       "      <td>android</td>\n",
       "      <td>Subaru</td>\n",
       "      <td>2006</td>\n",
       "      <td>0</td>\n",
       "      <td>cars_simple</td>\n",
       "    </tr>\n",
       "    <tr>\n",
       "      <th>8871</th>\n",
       "      <td>280000</td>\n",
       "      <td>Пермь</td>\n",
       "      <td>android</td>\n",
       "      <td>Mitsubishi</td>\n",
       "      <td>1995</td>\n",
       "      <td>0</td>\n",
       "      <td>cars_simple</td>\n",
       "    </tr>\n",
       "  </tbody>\n",
       "</table>\n",
       "</div>"
      ],
      "text/plain": [
       "         price  region platform  auto_brand  year  user_type  \\\n",
       "3020    414000  Самара      ios         ЗАЗ  2014          0   \n",
       "15186   620000    Сочи      ios   Chevrolet  2010          0   \n",
       "765    4970000  Москва  android      Toyota  2013          6   \n",
       "6037    800000  Москва  android      Subaru  2006          0   \n",
       "8871    280000   Пермь  android  Mitsubishi  1995          0   \n",
       "\n",
       "      user_type_cars_name  \n",
       "3020          cars_simple  \n",
       "15186         cars_simple  \n",
       "765           cars_seller  \n",
       "6037          cars_simple  \n",
       "8871          cars_simple  "
      ]
     },
     "execution_count": 27,
     "metadata": {},
     "output_type": "execute_result"
    }
   ],
   "source": [
    "data.head()"
   ]
  },
  {
   "cell_type": "markdown",
   "id": "0e654218-672d-41a9-807a-29295d77ad9b",
   "metadata": {},
   "source": [
    "### Task 6. "
   ]
  },
  {
   "cell_type": "markdown",
   "id": "f2cc0059-a131-418f-9def-e6aca607d1c1",
   "metadata": {},
   "source": [
    "**There is one more column that is excessive and won't bring any additional value to our model. Delete it as well.**"
   ]
  },
  {
   "cell_type": "code",
   "execution_count": 28,
   "id": "441dbe85-d79f-4ebd-a60d-cc2c81d05892",
   "metadata": {},
   "outputs": [],
   "source": [
    "data = data.drop(['user_type'], axis=1)"
   ]
  },
  {
   "cell_type": "code",
   "execution_count": 29,
   "id": "10e2a04b-1c88-4f92-833d-c0731cc4b5b6",
   "metadata": {},
   "outputs": [
    {
     "data": {
      "text/html": [
       "<div>\n",
       "<style scoped>\n",
       "    .dataframe tbody tr th:only-of-type {\n",
       "        vertical-align: middle;\n",
       "    }\n",
       "\n",
       "    .dataframe tbody tr th {\n",
       "        vertical-align: top;\n",
       "    }\n",
       "\n",
       "    .dataframe thead th {\n",
       "        text-align: right;\n",
       "    }\n",
       "</style>\n",
       "<table border=\"1\" class=\"dataframe\">\n",
       "  <thead>\n",
       "    <tr style=\"text-align: right;\">\n",
       "      <th></th>\n",
       "      <th>price</th>\n",
       "      <th>region</th>\n",
       "      <th>platform</th>\n",
       "      <th>auto_brand</th>\n",
       "      <th>year</th>\n",
       "      <th>user_type_cars_name</th>\n",
       "    </tr>\n",
       "  </thead>\n",
       "  <tbody>\n",
       "    <tr>\n",
       "      <th>3020</th>\n",
       "      <td>414000</td>\n",
       "      <td>Самара</td>\n",
       "      <td>ios</td>\n",
       "      <td>ЗАЗ</td>\n",
       "      <td>2014</td>\n",
       "      <td>cars_simple</td>\n",
       "    </tr>\n",
       "    <tr>\n",
       "      <th>15186</th>\n",
       "      <td>620000</td>\n",
       "      <td>Сочи</td>\n",
       "      <td>ios</td>\n",
       "      <td>Chevrolet</td>\n",
       "      <td>2010</td>\n",
       "      <td>cars_simple</td>\n",
       "    </tr>\n",
       "    <tr>\n",
       "      <th>765</th>\n",
       "      <td>4970000</td>\n",
       "      <td>Москва</td>\n",
       "      <td>android</td>\n",
       "      <td>Toyota</td>\n",
       "      <td>2013</td>\n",
       "      <td>cars_seller</td>\n",
       "    </tr>\n",
       "    <tr>\n",
       "      <th>6037</th>\n",
       "      <td>800000</td>\n",
       "      <td>Москва</td>\n",
       "      <td>android</td>\n",
       "      <td>Subaru</td>\n",
       "      <td>2006</td>\n",
       "      <td>cars_simple</td>\n",
       "    </tr>\n",
       "    <tr>\n",
       "      <th>8871</th>\n",
       "      <td>280000</td>\n",
       "      <td>Пермь</td>\n",
       "      <td>android</td>\n",
       "      <td>Mitsubishi</td>\n",
       "      <td>1995</td>\n",
       "      <td>cars_simple</td>\n",
       "    </tr>\n",
       "  </tbody>\n",
       "</table>\n",
       "</div>"
      ],
      "text/plain": [
       "         price  region platform  auto_brand  year user_type_cars_name\n",
       "3020    414000  Самара      ios         ЗАЗ  2014         cars_simple\n",
       "15186   620000    Сочи      ios   Chevrolet  2010         cars_simple\n",
       "765    4970000  Москва  android      Toyota  2013         cars_seller\n",
       "6037    800000  Москва  android      Subaru  2006         cars_simple\n",
       "8871    280000   Пермь  android  Mitsubishi  1995         cars_simple"
      ]
     },
     "execution_count": 29,
     "metadata": {},
     "output_type": "execute_result"
    }
   ],
   "source": [
    "data.head()"
   ]
  },
  {
   "cell_type": "markdown",
   "id": "b1d08635-02e3-48de-8c7f-086bd84ebc85",
   "metadata": {},
   "source": [
    "### Task 7. "
   ]
  },
  {
   "cell_type": "markdown",
   "id": "8ca7c2df-46ed-4155-8f72-f9f72007f1c7",
   "metadata": {},
   "source": [
    "**Let's try to make the distribution more symmetric by removing outliers. Let's assume that a car price less than 1000 is an abnormally low value.**"
   ]
  },
  {
   "cell_type": "code",
   "execution_count": 30,
   "id": "b380d7f4-a7b4-4699-a231-ff9ff78460cc",
   "metadata": {},
   "outputs": [
    {
     "data": {
      "text/plain": [
       "count    3.328000e+04\n",
       "mean     1.124018e+06\n",
       "std      2.088349e+06\n",
       "min      0.000000e+00\n",
       "25%      2.700000e+05\n",
       "50%      5.600000e+05\n",
       "75%      1.260000e+06\n",
       "max      1.333333e+08\n",
       "Name: price, dtype: float64"
      ]
     },
     "execution_count": 30,
     "metadata": {},
     "output_type": "execute_result"
    }
   ],
   "source": [
    "data.price.describe()"
   ]
  },
  {
   "cell_type": "code",
   "execution_count": 31,
   "id": "2c3b7aac-aee3-42f3-a91c-212b0b7d6986",
   "metadata": {},
   "outputs": [
    {
     "data": {
      "image/png": "[encoded data removed]",
      "text/plain": [
       "<Figure size 1152x648 with 1 Axes>"
      ]
     },
     "metadata": {
      "needs_background": "light"
     },
     "output_type": "display_data"
    }
   ],
   "source": [
    "plt.figure(figsize=(16, 9))\n",
    "sns.histplot(data.price);"
   ]
  },
  {
   "cell_type": "code",
   "execution_count": 32,
   "id": "9df1ffc0-3f63-4061-8dea-bc71b6bbe70f",
   "metadata": {},
   "outputs": [],
   "source": [
    "data = data[data['price'] > 1000]"
   ]
  },
  {
   "cell_type": "code",
   "execution_count": 33,
   "id": "8e6d8467-419a-4bd5-aa83-d406f6f2082d",
   "metadata": {},
   "outputs": [
    {
     "data": {
      "text/plain": [
       "count    3.307000e+04\n",
       "mean     1.131156e+06\n",
       "std      2.093042e+06\n",
       "min      1.300000e+03\n",
       "25%      2.800000e+05\n",
       "50%      5.700000e+05\n",
       "75%      1.260000e+06\n",
       "max      1.333333e+08\n",
       "Name: price, dtype: float64"
      ]
     },
     "execution_count": 33,
     "metadata": {},
     "output_type": "execute_result"
    }
   ],
   "source": [
    "data.price.describe()"
   ]
  },
  {
   "cell_type": "code",
   "execution_count": 34,
   "id": "4e103804-778a-4c06-940c-2d3d2a707603",
   "metadata": {},
   "outputs": [
    {
     "data": {
      "image/png": "[encoded data removed]",
      "text/plain": [
       "<Figure size 1152x648 with 1 Axes>"
      ]
     },
     "metadata": {
      "needs_background": "light"
     },
     "output_type": "display_data"
    }
   ],
   "source": [
    "plt.figure(figsize=(16, 9))\n",
    "sns.histplot(data.price);"
   ]
  },
  {
   "cell_type": "markdown",
   "id": "8f12cad3-0ca6-4913-8558-3dfbdaf8043f",
   "metadata": {},
   "source": [
    "### Task 8. "
   ]
  },
  {
   "cell_type": "markdown",
   "id": "303c769d-dc3d-44c6-a7fa-5946399ad624",
   "metadata": {},
   "source": [
    "**Let's log-transform `price` feature.**"
   ]
  },
  {
   "cell_type": "code",
   "execution_count": 35,
   "id": "93e56ed4-d79f-457f-979c-98fc11ec9ab9",
   "metadata": {},
   "outputs": [],
   "source": [
    "data['log_price']= np.log(data['price']) "
   ]
  },
  {
   "cell_type": "code",
   "execution_count": 36,
   "id": "71a5c6a1-fee2-47c0-a582-cea40b262128",
   "metadata": {},
   "outputs": [
    {
     "data": {
      "text/plain": [
       "count    33070.000000\n",
       "mean        13.302673\n",
       "std          1.108921\n",
       "min          7.170120\n",
       "25%         12.542545\n",
       "50%         13.253392\n",
       "75%         14.046622\n",
       "max         18.708363\n",
       "Name: log_price, dtype: float64"
      ]
     },
     "execution_count": 36,
     "metadata": {},
     "output_type": "execute_result"
    }
   ],
   "source": [
    "data.log_price.describe()"
   ]
  },
  {
   "cell_type": "code",
   "execution_count": 37,
   "id": "13a7a44b-02e8-4aed-af19-82d04065c915",
   "metadata": {},
   "outputs": [
    {
     "data": {
      "image/png": "[encoded data removed]",
      "text/plain": [
       "<Figure size 1152x648 with 1 Axes>"
      ]
     },
     "metadata": {
      "needs_background": "light"
     },
     "output_type": "display_data"
    }
   ],
   "source": [
    "plt.figure(figsize=(16, 9))\n",
    "sns.histplot(data.log_price);"
   ]
  },
  {
   "cell_type": "markdown",
   "id": "5d3f92c1-3588-429c-a622-6d12ce83b64a",
   "metadata": {},
   "source": [
    "By applying the logarithm function to the target, we can achieve a distribution that is close to normal. This is a valid action, since logarithmization is a monotonic transformation, i.e. we simply translate our target to another scale - logarithmic."
   ]
  },
  {
   "cell_type": "markdown",
   "id": "e0d0b025-bcfe-44a4-9837-83a010655ef0",
   "metadata": {},
   "source": [
    "### Task 9. "
   ]
  },
  {
   "cell_type": "markdown",
   "id": "d4584cb6-6079-4ae6-91ff-25eb9528e005",
   "metadata": {},
   "source": [
    "**We will divide the features into categorical and numerical, and define X and y. The target y will be the logarithm of the price. Then we have to split data to train and test samples.**"
   ]
  },
  {
   "cell_type": "code",
   "execution_count": 38,
   "id": "428133ef-30a9-4c85-b385-ba1a62a81658",
   "metadata": {},
   "outputs": [
    {
     "data": {
      "text/html": [
       "<div>\n",
       "<style scoped>\n",
       "    .dataframe tbody tr th:only-of-type {\n",
       "        vertical-align: middle;\n",
       "    }\n",
       "\n",
       "    .dataframe tbody tr th {\n",
       "        vertical-align: top;\n",
       "    }\n",
       "\n",
       "    .dataframe thead th {\n",
       "        text-align: right;\n",
       "    }\n",
       "</style>\n",
       "<table border=\"1\" class=\"dataframe\">\n",
       "  <thead>\n",
       "    <tr style=\"text-align: right;\">\n",
       "      <th></th>\n",
       "      <th>price</th>\n",
       "      <th>region</th>\n",
       "      <th>platform</th>\n",
       "      <th>auto_brand</th>\n",
       "      <th>year</th>\n",
       "      <th>user_type_cars_name</th>\n",
       "      <th>log_price</th>\n",
       "    </tr>\n",
       "  </thead>\n",
       "  <tbody>\n",
       "    <tr>\n",
       "      <th>3020</th>\n",
       "      <td>414000</td>\n",
       "      <td>Самара</td>\n",
       "      <td>ios</td>\n",
       "      <td>ЗАЗ</td>\n",
       "      <td>2014</td>\n",
       "      <td>cars_simple</td>\n",
       "      <td>12.933621</td>\n",
       "    </tr>\n",
       "    <tr>\n",
       "      <th>15186</th>\n",
       "      <td>620000</td>\n",
       "      <td>Сочи</td>\n",
       "      <td>ios</td>\n",
       "      <td>Chevrolet</td>\n",
       "      <td>2010</td>\n",
       "      <td>cars_simple</td>\n",
       "      <td>13.337475</td>\n",
       "    </tr>\n",
       "    <tr>\n",
       "      <th>765</th>\n",
       "      <td>4970000</td>\n",
       "      <td>Москва</td>\n",
       "      <td>android</td>\n",
       "      <td>Toyota</td>\n",
       "      <td>2013</td>\n",
       "      <td>cars_seller</td>\n",
       "      <td>15.418930</td>\n",
       "    </tr>\n",
       "    <tr>\n",
       "      <th>6037</th>\n",
       "      <td>800000</td>\n",
       "      <td>Москва</td>\n",
       "      <td>android</td>\n",
       "      <td>Subaru</td>\n",
       "      <td>2006</td>\n",
       "      <td>cars_simple</td>\n",
       "      <td>13.592367</td>\n",
       "    </tr>\n",
       "    <tr>\n",
       "      <th>8871</th>\n",
       "      <td>280000</td>\n",
       "      <td>Пермь</td>\n",
       "      <td>android</td>\n",
       "      <td>Mitsubishi</td>\n",
       "      <td>1995</td>\n",
       "      <td>cars_simple</td>\n",
       "      <td>12.542545</td>\n",
       "    </tr>\n",
       "    <tr>\n",
       "      <th>...</th>\n",
       "      <td>...</td>\n",
       "      <td>...</td>\n",
       "      <td>...</td>\n",
       "      <td>...</td>\n",
       "      <td>...</td>\n",
       "      <td>...</td>\n",
       "      <td>...</td>\n",
       "    </tr>\n",
       "    <tr>\n",
       "      <th>23219</th>\n",
       "      <td>10000</td>\n",
       "      <td>Новосибирск</td>\n",
       "      <td>android</td>\n",
       "      <td>Unknown</td>\n",
       "      <td>2007</td>\n",
       "      <td>cars_simple</td>\n",
       "      <td>9.210340</td>\n",
       "    </tr>\n",
       "    <tr>\n",
       "      <th>19978</th>\n",
       "      <td>480000</td>\n",
       "      <td>Новосибирск</td>\n",
       "      <td>ios</td>\n",
       "      <td>ВАЗ (Lada)</td>\n",
       "      <td>2012</td>\n",
       "      <td>cars_simple</td>\n",
       "      <td>13.081541</td>\n",
       "    </tr>\n",
       "    <tr>\n",
       "      <th>24519</th>\n",
       "      <td>1320000</td>\n",
       "      <td>Новосибирск</td>\n",
       "      <td>android</td>\n",
       "      <td>Chevrolet</td>\n",
       "      <td>2021</td>\n",
       "      <td>cars_simple</td>\n",
       "      <td>14.093142</td>\n",
       "    </tr>\n",
       "    <tr>\n",
       "      <th>30563</th>\n",
       "      <td>740000</td>\n",
       "      <td>Москва</td>\n",
       "      <td>desktop</td>\n",
       "      <td>Mercedes-Benz</td>\n",
       "      <td>2002</td>\n",
       "      <td>cars_simple</td>\n",
       "      <td>13.514405</td>\n",
       "    </tr>\n",
       "    <tr>\n",
       "      <th>25872</th>\n",
       "      <td>1000000</td>\n",
       "      <td>Ростов-на-Дону</td>\n",
       "      <td>android</td>\n",
       "      <td>ГАЗ</td>\n",
       "      <td>2011</td>\n",
       "      <td>cars_simple</td>\n",
       "      <td>13.815511</td>\n",
       "    </tr>\n",
       "  </tbody>\n",
       "</table>\n",
       "<p>33070 rows × 7 columns</p>\n",
       "</div>"
      ],
      "text/plain": [
       "         price          region platform     auto_brand  year  \\\n",
       "3020    414000          Самара      ios            ЗАЗ  2014   \n",
       "15186   620000            Сочи      ios      Chevrolet  2010   \n",
       "765    4970000          Москва  android         Toyota  2013   \n",
       "6037    800000          Москва  android         Subaru  2006   \n",
       "8871    280000           Пермь  android     Mitsubishi  1995   \n",
       "...        ...             ...      ...            ...   ...   \n",
       "23219    10000     Новосибирск  android        Unknown  2007   \n",
       "19978   480000     Новосибирск      ios     ВАЗ (Lada)  2012   \n",
       "24519  1320000     Новосибирск  android      Chevrolet  2021   \n",
       "30563   740000          Москва  desktop  Mercedes-Benz  2002   \n",
       "25872  1000000  Ростов-на-Дону  android            ГАЗ  2011   \n",
       "\n",
       "      user_type_cars_name  log_price  \n",
       "3020          cars_simple  12.933621  \n",
       "15186         cars_simple  13.337475  \n",
       "765           cars_seller  15.418930  \n",
       "6037          cars_simple  13.592367  \n",
       "8871          cars_simple  12.542545  \n",
       "...                   ...        ...  \n",
       "23219         cars_simple   9.210340  \n",
       "19978         cars_simple  13.081541  \n",
       "24519         cars_simple  14.093142  \n",
       "30563         cars_simple  13.514405  \n",
       "25872         cars_simple  13.815511  \n",
       "\n",
       "[33070 rows x 7 columns]"
      ]
     },
     "execution_count": 38,
     "metadata": {},
     "output_type": "execute_result"
    }
   ],
   "source": [
    "data"
   ]
  },
  {
   "cell_type": "code",
   "execution_count": 39,
   "id": "c8b0140e-06ac-4bbb-a6e9-25953bf30202",
   "metadata": {},
   "outputs": [
    {
     "data": {
      "text/plain": [
       "((26456, 5), (6614, 5))"
      ]
     },
     "execution_count": 39,
     "metadata": {},
     "output_type": "execute_result"
    }
   ],
   "source": [
    "X_ = data.drop(['price', 'log_price'], axis=1)\n",
    "y_ = data['log_price']\n",
    "\n",
    "\n",
    "X_train, X_test, y_train, y_test = train_test_split(\n",
    "    X_,\n",
    "    y_,\n",
    "    test_size=0.2,\n",
    "    random_state=42\n",
    ")\n",
    "\n",
    "X_train.shape, X_test.shape"
   ]
  },
  {
   "cell_type": "markdown",
   "id": "5e7bec59-e783-47e3-aad2-2b887afc9b39",
   "metadata": {},
   "source": [
    "### Task 10. "
   ]
  },
  {
   "cell_type": "markdown",
   "id": "640f6f68-d319-4a75-b932-cbced77f1a31",
   "metadata": {},
   "source": [
    "**Let's use OHE for categorical features and StandardScaler for numerical features. Create a custom ColumnTransformer that will perform all required data transformation.**"
   ]
  },
  {
   "cell_type": "code",
   "execution_count": 40,
   "id": "7285c381-2ba4-47e9-a8e8-7b58cc8d999c",
   "metadata": {},
   "outputs": [],
   "source": [
    "col_transformer_with_selector = ColumnTransformer(\n",
    "    transformers=[\n",
    "        ('OneHotEncoder', OneHotEncoder(sparse_output=False, drop='first', handle_unknown='ignore'), selector(dtype_exclude=\"number\")),             \n",
    "        ('StandardScaler', StandardScaler(), selector(dtype_include=\"number\"))\n",
    "    ],\n",
    "    remainder='passthrough',          \n",
    "    verbose_feature_names_out=False   \n",
    ").set_output(transform='pandas')      "
   ]
  },
  {
   "cell_type": "code",
   "execution_count": 41,
   "id": "0801fb66-6d09-430d-a9cf-6e7f90682157",
   "metadata": {},
   "outputs": [],
   "source": [
    "final_process_pipeline = Pipeline(\n",
    "    [\n",
    "        ('col_transformer', col_transformer_with_selector)\n",
    "    ]\n",
    ")"
   ]
  },
  {
   "cell_type": "code",
   "execution_count": 42,
   "id": "5beb18c5-ca8a-4a67-8678-cd95ff5b8ec1",
   "metadata": {},
   "outputs": [
    {
     "data": {
      "text/html": [
       "<div>\n",
       "<style scoped>\n",
       "    .dataframe tbody tr th:only-of-type {\n",
       "        vertical-align: middle;\n",
       "    }\n",
       "\n",
       "    .dataframe tbody tr th {\n",
       "        vertical-align: top;\n",
       "    }\n",
       "\n",
       "    .dataframe thead th {\n",
       "        text-align: right;\n",
       "    }\n",
       "</style>\n",
       "<table border=\"1\" class=\"dataframe\">\n",
       "  <thead>\n",
       "    <tr style=\"text-align: right;\">\n",
       "      <th></th>\n",
       "      <th>region_Воронеж</th>\n",
       "      <th>region_Екатеринбург</th>\n",
       "      <th>region_Ижевск</th>\n",
       "      <th>region_Казань</th>\n",
       "      <th>region_Калининград</th>\n",
       "      <th>region_Краснодар</th>\n",
       "      <th>region_Красноярск</th>\n",
       "      <th>region_Москва</th>\n",
       "      <th>region_Нижний Новгород</th>\n",
       "      <th>region_Новосибирск</th>\n",
       "      <th>...</th>\n",
       "      <th>auto_brand_ИЖ</th>\n",
       "      <th>auto_brand_ЛуАЗ</th>\n",
       "      <th>auto_brand_Москвич</th>\n",
       "      <th>auto_brand_Ретро-автомобили</th>\n",
       "      <th>auto_brand_ТагАЗ</th>\n",
       "      <th>auto_brand_УАЗ</th>\n",
       "      <th>user_type_cars_name_cars_dealer</th>\n",
       "      <th>user_type_cars_name_cars_seller</th>\n",
       "      <th>user_type_cars_name_cars_simple</th>\n",
       "      <th>year</th>\n",
       "    </tr>\n",
       "  </thead>\n",
       "  <tbody>\n",
       "    <tr>\n",
       "      <th>13887</th>\n",
       "      <td>0.0</td>\n",
       "      <td>0.0</td>\n",
       "      <td>0.0</td>\n",
       "      <td>0.0</td>\n",
       "      <td>0.0</td>\n",
       "      <td>0.0</td>\n",
       "      <td>0.0</td>\n",
       "      <td>1.0</td>\n",
       "      <td>0.0</td>\n",
       "      <td>0.0</td>\n",
       "      <td>...</td>\n",
       "      <td>0.0</td>\n",
       "      <td>0.0</td>\n",
       "      <td>0.0</td>\n",
       "      <td>0.0</td>\n",
       "      <td>0.0</td>\n",
       "      <td>0.0</td>\n",
       "      <td>0.0</td>\n",
       "      <td>0.0</td>\n",
       "      <td>1.0</td>\n",
       "      <td>-1.080897</td>\n",
       "    </tr>\n",
       "    <tr>\n",
       "      <th>14977</th>\n",
       "      <td>0.0</td>\n",
       "      <td>0.0</td>\n",
       "      <td>0.0</td>\n",
       "      <td>0.0</td>\n",
       "      <td>0.0</td>\n",
       "      <td>0.0</td>\n",
       "      <td>0.0</td>\n",
       "      <td>0.0</td>\n",
       "      <td>0.0</td>\n",
       "      <td>0.0</td>\n",
       "      <td>...</td>\n",
       "      <td>0.0</td>\n",
       "      <td>0.0</td>\n",
       "      <td>0.0</td>\n",
       "      <td>0.0</td>\n",
       "      <td>0.0</td>\n",
       "      <td>0.0</td>\n",
       "      <td>0.0</td>\n",
       "      <td>0.0</td>\n",
       "      <td>0.0</td>\n",
       "      <td>-1.180276</td>\n",
       "    </tr>\n",
       "    <tr>\n",
       "      <th>1866</th>\n",
       "      <td>0.0</td>\n",
       "      <td>0.0</td>\n",
       "      <td>0.0</td>\n",
       "      <td>0.0</td>\n",
       "      <td>0.0</td>\n",
       "      <td>0.0</td>\n",
       "      <td>0.0</td>\n",
       "      <td>1.0</td>\n",
       "      <td>0.0</td>\n",
       "      <td>0.0</td>\n",
       "      <td>...</td>\n",
       "      <td>0.0</td>\n",
       "      <td>0.0</td>\n",
       "      <td>0.0</td>\n",
       "      <td>0.0</td>\n",
       "      <td>0.0</td>\n",
       "      <td>0.0</td>\n",
       "      <td>0.0</td>\n",
       "      <td>1.0</td>\n",
       "      <td>0.0</td>\n",
       "      <td>-1.180276</td>\n",
       "    </tr>\n",
       "    <tr>\n",
       "      <th>12173</th>\n",
       "      <td>0.0</td>\n",
       "      <td>0.0</td>\n",
       "      <td>0.0</td>\n",
       "      <td>0.0</td>\n",
       "      <td>0.0</td>\n",
       "      <td>0.0</td>\n",
       "      <td>0.0</td>\n",
       "      <td>0.0</td>\n",
       "      <td>0.0</td>\n",
       "      <td>0.0</td>\n",
       "      <td>...</td>\n",
       "      <td>0.0</td>\n",
       "      <td>0.0</td>\n",
       "      <td>0.0</td>\n",
       "      <td>0.0</td>\n",
       "      <td>0.0</td>\n",
       "      <td>0.0</td>\n",
       "      <td>0.0</td>\n",
       "      <td>0.0</td>\n",
       "      <td>1.0</td>\n",
       "      <td>-1.080897</td>\n",
       "    </tr>\n",
       "    <tr>\n",
       "      <th>1454</th>\n",
       "      <td>0.0</td>\n",
       "      <td>0.0</td>\n",
       "      <td>0.0</td>\n",
       "      <td>0.0</td>\n",
       "      <td>0.0</td>\n",
       "      <td>0.0</td>\n",
       "      <td>0.0</td>\n",
       "      <td>0.0</td>\n",
       "      <td>0.0</td>\n",
       "      <td>1.0</td>\n",
       "      <td>...</td>\n",
       "      <td>0.0</td>\n",
       "      <td>0.0</td>\n",
       "      <td>0.0</td>\n",
       "      <td>0.0</td>\n",
       "      <td>0.0</td>\n",
       "      <td>0.0</td>\n",
       "      <td>0.0</td>\n",
       "      <td>0.0</td>\n",
       "      <td>1.0</td>\n",
       "      <td>0.211026</td>\n",
       "    </tr>\n",
       "  </tbody>\n",
       "</table>\n",
       "<p>5 rows × 110 columns</p>\n",
       "</div>"
      ],
      "text/plain": [
       "       region_Воронеж  region_Екатеринбург  region_Ижевск  region_Казань  \\\n",
       "13887             0.0                  0.0            0.0            0.0   \n",
       "14977             0.0                  0.0            0.0            0.0   \n",
       "1866              0.0                  0.0            0.0            0.0   \n",
       "12173             0.0                  0.0            0.0            0.0   \n",
       "1454              0.0                  0.0            0.0            0.0   \n",
       "\n",
       "       region_Калининград  region_Краснодар  region_Красноярск  region_Москва  \\\n",
       "13887                 0.0               0.0                0.0            1.0   \n",
       "14977                 0.0               0.0                0.0            0.0   \n",
       "1866                  0.0               0.0                0.0            1.0   \n",
       "12173                 0.0               0.0                0.0            0.0   \n",
       "1454                  0.0               0.0                0.0            0.0   \n",
       "\n",
       "       region_Нижний Новгород  region_Новосибирск  ...  auto_brand_ИЖ  \\\n",
       "13887                     0.0                 0.0  ...            0.0   \n",
       "14977                     0.0                 0.0  ...            0.0   \n",
       "1866                      0.0                 0.0  ...            0.0   \n",
       "12173                     0.0                 0.0  ...            0.0   \n",
       "1454                      0.0                 1.0  ...            0.0   \n",
       "\n",
       "       auto_brand_ЛуАЗ  auto_brand_Москвич  auto_brand_Ретро-автомобили  \\\n",
       "13887              0.0                 0.0                          0.0   \n",
       "14977              0.0                 0.0                          0.0   \n",
       "1866               0.0                 0.0                          0.0   \n",
       "12173              0.0                 0.0                          0.0   \n",
       "1454               0.0                 0.0                          0.0   \n",
       "\n",
       "       auto_brand_ТагАЗ  auto_brand_УАЗ  user_type_cars_name_cars_dealer  \\\n",
       "13887               0.0             0.0                              0.0   \n",
       "14977               0.0             0.0                              0.0   \n",
       "1866                0.0             0.0                              0.0   \n",
       "12173               0.0             0.0                              0.0   \n",
       "1454                0.0             0.0                              0.0   \n",
       "\n",
       "       user_type_cars_name_cars_seller  user_type_cars_name_cars_simple  \\\n",
       "13887                              0.0                              1.0   \n",
       "14977                              0.0                              0.0   \n",
       "1866                               1.0                              0.0   \n",
       "12173                              0.0                              1.0   \n",
       "1454                               0.0                              1.0   \n",
       "\n",
       "           year  \n",
       "13887 -1.080897  \n",
       "14977 -1.180276  \n",
       "1866  -1.180276  \n",
       "12173 -1.080897  \n",
       "1454   0.211026  \n",
       "\n",
       "[5 rows x 110 columns]"
      ]
     },
     "execution_count": 42,
     "metadata": {},
     "output_type": "execute_result"
    }
   ],
   "source": [
    "final_process_pipeline.fit_transform(X_train, y_train).head()"
   ]
  },
  {
   "cell_type": "markdown",
   "id": "cb1632d9-b94d-4321-be8f-3c6c322298a6",
   "metadata": {},
   "source": [
    "### Task 11. "
   ]
  },
  {
   "cell_type": "markdown",
   "id": "58783e0b-1157-4201-8e56-47be8ca3f5f7",
   "metadata": {},
   "source": [
    "**Create a pipeline with CoulumnTransformer and KNeighborsRegressor with default parameters. Set n_jobs=1. What will be r2_score?**"
   ]
  },
  {
   "cell_type": "code",
   "execution_count": 43,
   "id": "15cdef4d-658a-43b2-af17-764319c2020c",
   "metadata": {},
   "outputs": [],
   "source": [
    "knn_pipeline = Pipeline(\n",
    "    [\n",
    "        ('all_preprocess', final_process_pipeline),\n",
    "        ('simple_model', KNeighborsRegressor(n_jobs=1))\n",
    "    ]\n",
    ")"
   ]
  },
  {
   "cell_type": "code",
   "execution_count": 44,
   "id": "1bf2a22c-4184-49c2-9424-0f30a7d04463",
   "metadata": {},
   "outputs": [
    {
     "data": {
      "text/plain": [
       "array([10.98221306, 12.09496034, 14.41105413, 13.25705606, 13.76214062])"
      ]
     },
     "execution_count": 44,
     "metadata": {},
     "output_type": "execute_result"
    }
   ],
   "source": [
    "knn_pipeline.fit(X_train, y_train)\n",
    "knn_pipeline.predict(X_test.head())"
   ]
  },
  {
   "cell_type": "code",
   "execution_count": 45,
   "id": "49b41e07-0943-4e66-baa2-c601d0641c4c",
   "metadata": {},
   "outputs": [],
   "source": [
    "predictions = knn_pipeline.predict(X_test)"
   ]
  },
  {
   "cell_type": "code",
   "execution_count": 46,
   "id": "5fb5a299-be98-42a5-929f-f5f548a9d298",
   "metadata": {},
   "outputs": [
    {
     "name": "stdout",
     "output_type": "stream",
     "text": [
      "R-squared score: 0.72\n"
     ]
    }
   ],
   "source": [
    "r2 = r2_score(y_test, predictions)\n",
    "\n",
    "print(f'R-squared score: {r2:.2f}')"
   ]
  },
  {
   "cell_type": "markdown",
   "id": "22605302-e44a-4997-b2ab-1367c9672a74",
   "metadata": {},
   "source": [
    "### Task 12. "
   ]
  },
  {
   "cell_type": "markdown",
   "id": "50aae0d7-5202-494e-ac68-223b1936d31f",
   "metadata": {},
   "source": [
    "**What will be MAE?**"
   ]
  },
  {
   "cell_type": "code",
   "execution_count": 47,
   "id": "6a89f95b-57fb-4370-8af3-5a464190324d",
   "metadata": {},
   "outputs": [
    {
     "name": "stdout",
     "output_type": "stream",
     "text": [
      "MAE: 0.39\n"
     ]
    }
   ],
   "source": [
    "mae = mean_absolute_error(y_test, predictions)\n",
    "\n",
    "print(f'MAE: {mae:.2f}')"
   ]
  },
  {
   "cell_type": "markdown",
   "id": "0bb29247-d975-4853-851f-a6cdb8003aa8",
   "metadata": {},
   "source": [
    "### Task 13."
   ]
  },
  {
   "cell_type": "markdown",
   "id": "d8385c54-fca6-4f07-b55a-ddb1e13357ea",
   "metadata": {},
   "source": [
    "**Let's use r2_score metric and select hyperparameters for the model using the GridSearchCV.**"
   ]
  },
  {
   "cell_type": "code",
   "execution_count": 48,
   "id": "0816e6eb-07d8-48e2-a0d3-3d47f3cede59",
   "metadata": {},
   "outputs": [],
   "source": [
    "knn_grid = {\n",
    "    'simple_model__n_neighbors': np.linspace(1, 30, 5, dtype=int),\n",
    "    'simple_model__weights': ['uniform', 'distance'],\n",
    "    'simple_model__p': [1, 2]\n",
    "}"
   ]
  },
  {
   "cell_type": "code",
   "execution_count": 49,
   "id": "59b39966-2b7c-475d-b23e-0f15c704d9f3",
   "metadata": {},
   "outputs": [
    {
     "name": "stdout",
     "output_type": "stream",
     "text": [
      "Searching for the best KNN parameters:\n",
      "Best parameter (CV score=0.79443):\n",
      "{'simple_model__n_neighbors': 30, 'simple_model__p': 2, 'simple_model__weights': 'distance'}\n"
     ]
    }
   ],
   "source": [
    "print('Searching for the best KNN parameters:')\n",
    "search_knn = GridSearchCV(knn_pipeline, knn_grid, \n",
    "                         cv=None, scoring='r2', return_train_score=True)\n",
    "\n",
    "search_knn.fit(X_train, y_train)                                   \n",
    "print(f'Best parameter (CV score={search_knn.best_score_:.5f}):')\n",
    "print(search_knn.best_params_)"
   ]
  },
  {
   "cell_type": "markdown",
   "id": "08eec93a-7f15-4633-bd9e-f4ad72b59406",
   "metadata": {},
   "source": [
    "### Task 14. "
   ]
  },
  {
   "cell_type": "markdown",
   "id": "b2acd29f-ba26-4fef-b239-5d6d06b359e8",
   "metadata": {},
   "source": [
    "**Train the model with the found hyperparameters on the training set. Check the quality on the test set. Compare with what we got without specifying the hyperparameters.**"
   ]
  },
  {
   "cell_type": "markdown",
   "id": "5ab48540-fbed-44c3-b20e-3810a0ef4a4b",
   "metadata": {},
   "source": [
    "tbc.."
   ]
  },
  {
   "cell_type": "code",
   "execution_count": 50,
   "id": "d484c87b-408f-4b52-bffc-e22453c9672d",
   "metadata": {},
   "outputs": [],
   "source": [
    "knn_pipeline = Pipeline(\n",
    "    [\n",
    "        ('all_preprocess', final_process_pipeline),\n",
    "        ('simple_model', KNeighborsRegressor(n_jobs=1, n_neighbors=30, weights='distance', p=2))\n",
    "    ]\n",
    ")"
   ]
  },
  {
   "cell_type": "code",
   "execution_count": 51,
   "id": "8b54ef75-f3a0-4fa7-a834-6c3d573829be",
   "metadata": {},
   "outputs": [
    {
     "data": {
      "text/plain": [
       "array([10.98221306, 12.04769399, 14.53219049, 13.09297228, 13.57906681])"
      ]
     },
     "execution_count": 51,
     "metadata": {},
     "output_type": "execute_result"
    }
   ],
   "source": [
    "knn_pipeline.fit(X_train, y_train)\n",
    "knn_pipeline.predict(X_test.head())"
   ]
  },
  {
   "cell_type": "code",
   "execution_count": 52,
   "id": "ea6a95ba-755d-4f16-b968-f9832a5b214e",
   "metadata": {},
   "outputs": [],
   "source": [
    "predictions = knn_pipeline.predict(X_test)"
   ]
  },
  {
   "cell_type": "code",
   "execution_count": 53,
   "id": "14626018-7b2e-498d-a72d-926ab99edc8a",
   "metadata": {},
   "outputs": [
    {
     "name": "stdout",
     "output_type": "stream",
     "text": [
      "R-squared score: 0.81\n"
     ]
    }
   ],
   "source": [
    "r2_new = r2_score(y_test, predictions)\n",
    "\n",
    "print(f'R-squared score: {r2_new:.2f}')"
   ]
  },
  {
   "cell_type": "code",
   "execution_count": 54,
   "id": "c4c6bf2c-5565-4ddb-90ff-8142ecac5c5b",
   "metadata": {},
   "outputs": [
    {
     "name": "stdout",
     "output_type": "stream",
     "text": [
      "We have improved quality of our model by 13.15%\n"
     ]
    }
   ],
   "source": [
    "print(f'We have improved quality of our model by {r2_new/r2-1:.2%}')"
   ]
  }
 ],
 "metadata": {
  "kernelspec": {
   "display_name": "Python 3 (ipykernel)",
   "language": "python",
   "name": "python3"
  },
  "language_info": {
   "codemirror_mode": {
    "name": "ipython",
    "version": 3
   },
   "file_extension": ".py",
   "mimetype": "text/x-python",
   "name": "python",
   "nbconvert_exporter": "python",
   "pygments_lexer": "ipython3",
   "version": "3.8.10"
  }
 },
 "nbformat": 4,
 "nbformat_minor": 5
}
