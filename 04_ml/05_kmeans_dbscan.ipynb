{
 "cells": [
  {
   "cell_type": "markdown",
   "id": "e23e1516-6e75-4e85-bf5b-0011204c6bf9",
   "metadata": {},
   "source": [
    "# kMeans, DBSCAN"
   ]
  },
  {
   "cell_type": "markdown",
   "id": "8ad67dba-80ad-46c5-ade5-7ce6464e9f6c",
   "metadata": {},
   "source": [
    "## Import libraries"
   ]
  },
  {
   "cell_type": "code",
   "execution_count": 1,
   "id": "68a96dd2-7683-418d-bff2-7b13d50a9765",
   "metadata": {},
   "outputs": [],
   "source": [
    "import pandas as pd\n",
    "import numpy as np\n",
    "import seaborn as sns\n",
    "import matplotlib.pyplot as plt\n",
    "\n",
    "from sklearn.compose import make_column_selector as selector\n",
    "from sklearn.compose import ColumnTransformer\n",
    "from sklearn.preprocessing import OneHotEncoder, StandardScaler\n",
    "from sklearn.pipeline import Pipeline\n",
    "\n",
    "from sklearn.cluster import DBSCAN\n",
    "from sklearn.cluster import KMeans\n",
    "from sklearn.metrics import silhouette_score\n",
    "\n",
    "\n",
    "import warnings\n",
    "warnings.filterwarnings('ignore')"
   ]
  },
  {
   "cell_type": "code",
   "execution_count": 2,
   "id": "c4490738-d320-4fd6-b131-75b67212e4b6",
   "metadata": {},
   "outputs": [
    {
     "name": "stdout",
     "output_type": "stream",
     "text": [
      "(datetime.date(2022, 2, 1), datetime.date(2022, 1, 31), 'android', 'f7411212fd0e2523e126cbfdd3f226c211212', '4beb10e1-aeeb-4c52-acd2-ce1ddbc1fc24b10e1', 22, 11, 3, 0, 0, 0, 2, 2, 0, 0, 0, 0, 0, 0)\n"
     ]
    }
   ],
   "source": [
    "from clickhouse_driver import Client\n",
    "\n",
    "\n",
    "user_name = 'user'\n",
    "pwd = 'password'\n",
    "\n",
    "# creating connection ClickHouse\n",
    "client = Client(host='clickhouse.lab.karpov.courses', port=9000,\n",
    "                user=user_name, password=pwd, database='hardda')\n",
    "\n",
    "# checking connection\n",
    "result = client.execute(\"SELECT * FROM hardda.user_dm_events LIMIT 1\")\n",
    "\n",
    "# showing the result\n",
    "for row in result[0:1]:\n",
    "    print(row)"
   ]
  },
  {
   "cell_type": "markdown",
   "id": "b6e6fc11-f7c5-4ada-a6de-eda65591c0aa",
   "metadata": {},
   "source": [
    "## Tasks"
   ]
  },
  {
   "cell_type": "markdown",
   "id": "7c334d62-e699-49c4-bb27-367395721dfd",
   "metadata": {},
   "source": [
    "### Task 1."
   ]
  },
  {
   "cell_type": "markdown",
   "id": "dcb63d57-d2f7-4948-9b43-92b2ac608650",
   "metadata": {},
   "source": [
    " **Write an SQL query to load the data.**"
   ]
  },
  {
   "cell_type": "markdown",
   "id": "c506f5ed-fd16-49fa-900b-69d13b7cc400",
   "metadata": {},
   "source": [
    "`user_passports`"
   ]
  },
  {
   "cell_type": "code",
   "execution_count": 3,
   "id": "3769621b-c453-45b1-bcc2-aab75350f025",
   "metadata": {},
   "outputs": [
    {
     "data": {
      "text/plain": [
       "[('execution_date', 'Date', '', '', '', '', ''),\n",
       " ('passport_id', 'UInt32', '', '', '', '', ''),\n",
       " ('global_id', 'UInt32', '', '', '', '', ''),\n",
       " ('created_at', 'DateTime', '', '', '', '', ''),\n",
       " ('user_type_id', 'UInt32', '', '', '', '', ''),\n",
       " ('user_type_name', 'String', '', '', '', '', ''),\n",
       " ('user_type_changed_at', 'DateTime', '', '', '', '', ''),\n",
       " ('user_type_cars_id', 'UInt32', '', '', '', '', ''),\n",
       " ('user_type_cars_name', 'String', '', '', '', '', ''),\n",
       " ('user_type_cars_changed_at', 'DateTime', '', '', '', '', '')]"
      ]
     },
     "execution_count": 3,
     "metadata": {},
     "output_type": "execute_result"
    }
   ],
   "source": [
    "user_passports_desc = client.execute(\"\"\"\n",
    "DESCRIBE TABLE user_passports\n",
    "\"\"\")\n",
    "\n",
    "user_passports_desc"
   ]
  },
  {
   "cell_type": "code",
   "execution_count": 4,
   "id": "802e58df-ff45-436c-9e07-d7e1938c99f6",
   "metadata": {},
   "outputs": [],
   "source": [
    "query = '''\n",
    "SELECT \n",
    "  up.*\n",
    "FROM \n",
    "  user_passports up\n",
    "'''"
   ]
  },
  {
   "cell_type": "code",
   "execution_count": 5,
   "id": "79f55eb9-3a10-4e28-8ad7-fc757a3dfc4c",
   "metadata": {},
   "outputs": [],
   "source": [
    "result = client.execute(query)"
   ]
  },
  {
   "cell_type": "code",
   "execution_count": 6,
   "id": "696ddd1c-e229-4578-9a7c-707005ed4af8",
   "metadata": {},
   "outputs": [
    {
     "data": {
      "text/plain": [
       "2780181"
      ]
     },
     "execution_count": 6,
     "metadata": {},
     "output_type": "execute_result"
    }
   ],
   "source": [
    "len(result)"
   ]
  },
  {
   "cell_type": "code",
   "execution_count": 7,
   "id": "bd243faf-3421-4046-9ab1-c788dc95035e",
   "metadata": {},
   "outputs": [
    {
     "data": {
      "text/html": [
       "<div>\n",
       "<style scoped>\n",
       "    .dataframe tbody tr th:only-of-type {\n",
       "        vertical-align: middle;\n",
       "    }\n",
       "\n",
       "    .dataframe tbody tr th {\n",
       "        vertical-align: top;\n",
       "    }\n",
       "\n",
       "    .dataframe thead th {\n",
       "        text-align: right;\n",
       "    }\n",
       "</style>\n",
       "<table border=\"1\" class=\"dataframe\">\n",
       "  <thead>\n",
       "    <tr style=\"text-align: right;\">\n",
       "      <th></th>\n",
       "      <th>execution_date</th>\n",
       "      <th>passport_id</th>\n",
       "      <th>global_id</th>\n",
       "      <th>created_at</th>\n",
       "      <th>user_type_id</th>\n",
       "      <th>user_type_name</th>\n",
       "      <th>user_type_changed_at</th>\n",
       "      <th>user_type_cars_id</th>\n",
       "      <th>user_type_cars_name</th>\n",
       "      <th>user_type_cars_changed_at</th>\n",
       "    </tr>\n",
       "  </thead>\n",
       "  <tbody>\n",
       "    <tr>\n",
       "      <th>0</th>\n",
       "      <td>2023-01-31</td>\n",
       "      <td>143033682</td>\n",
       "      <td>135780497</td>\n",
       "      <td>2022-02-09 14:17:34</td>\n",
       "      <td>0</td>\n",
       "      <td>simple_user</td>\n",
       "      <td>2106-02-07 06:28:16</td>\n",
       "      <td>0</td>\n",
       "      <td>cars_simple</td>\n",
       "      <td>2106-02-07 06:28:16</td>\n",
       "    </tr>\n",
       "    <tr>\n",
       "      <th>1</th>\n",
       "      <td>2023-01-31</td>\n",
       "      <td>143084834</td>\n",
       "      <td>148144396</td>\n",
       "      <td>2022-02-17 21:13:52</td>\n",
       "      <td>0</td>\n",
       "      <td>simple_user</td>\n",
       "      <td>2106-02-07 06:28:16</td>\n",
       "      <td>0</td>\n",
       "      <td>cars_simple</td>\n",
       "      <td>2106-02-07 06:28:16</td>\n",
       "    </tr>\n",
       "    <tr>\n",
       "      <th>2</th>\n",
       "      <td>2023-01-31</td>\n",
       "      <td>143096954</td>\n",
       "      <td>148160048</td>\n",
       "      <td>2022-02-19 22:15:52</td>\n",
       "      <td>0</td>\n",
       "      <td>simple_user</td>\n",
       "      <td>2106-02-07 06:28:16</td>\n",
       "      <td>0</td>\n",
       "      <td>cars_simple</td>\n",
       "      <td>2106-02-07 06:28:16</td>\n",
       "    </tr>\n",
       "    <tr>\n",
       "      <th>3</th>\n",
       "      <td>2023-01-31</td>\n",
       "      <td>143101566</td>\n",
       "      <td>148166116</td>\n",
       "      <td>2022-02-20 18:23:57</td>\n",
       "      <td>0</td>\n",
       "      <td>simple_user</td>\n",
       "      <td>2106-02-07 06:28:16</td>\n",
       "      <td>0</td>\n",
       "      <td>cars_simple</td>\n",
       "      <td>2106-02-07 06:28:16</td>\n",
       "    </tr>\n",
       "    <tr>\n",
       "      <th>4</th>\n",
       "      <td>2023-01-31</td>\n",
       "      <td>143115348</td>\n",
       "      <td>148183837</td>\n",
       "      <td>2022-02-22 20:17:22</td>\n",
       "      <td>0</td>\n",
       "      <td>simple_user</td>\n",
       "      <td>2106-02-07 06:28:16</td>\n",
       "      <td>0</td>\n",
       "      <td>cars_simple</td>\n",
       "      <td>2106-02-07 06:28:16</td>\n",
       "    </tr>\n",
       "  </tbody>\n",
       "</table>\n",
       "</div>"
      ],
      "text/plain": [
       "  execution_date  passport_id  global_id          created_at  user_type_id  \\\n",
       "0     2023-01-31    143033682  135780497 2022-02-09 14:17:34             0   \n",
       "1     2023-01-31    143084834  148144396 2022-02-17 21:13:52             0   \n",
       "2     2023-01-31    143096954  148160048 2022-02-19 22:15:52             0   \n",
       "3     2023-01-31    143101566  148166116 2022-02-20 18:23:57             0   \n",
       "4     2023-01-31    143115348  148183837 2022-02-22 20:17:22             0   \n",
       "\n",
       "  user_type_name user_type_changed_at  user_type_cars_id user_type_cars_name  \\\n",
       "0    simple_user  2106-02-07 06:28:16                  0         cars_simple   \n",
       "1    simple_user  2106-02-07 06:28:16                  0         cars_simple   \n",
       "2    simple_user  2106-02-07 06:28:16                  0         cars_simple   \n",
       "3    simple_user  2106-02-07 06:28:16                  0         cars_simple   \n",
       "4    simple_user  2106-02-07 06:28:16                  0         cars_simple   \n",
       "\n",
       "  user_type_cars_changed_at  \n",
       "0       2106-02-07 06:28:16  \n",
       "1       2106-02-07 06:28:16  \n",
       "2       2106-02-07 06:28:16  \n",
       "3       2106-02-07 06:28:16  \n",
       "4       2106-02-07 06:28:16  "
      ]
     },
     "execution_count": 7,
     "metadata": {},
     "output_type": "execute_result"
    }
   ],
   "source": [
    "user_passports_df = pd.DataFrame(result, \n",
    "                  columns=['execution_date', 'passport_id',\n",
    "                           'global_id', 'created_at',\n",
    "                           'user_type_id', 'user_type_name',\n",
    "                           'user_type_changed_at', 'user_type_cars_id',\n",
    "                           'user_type_cars_name', 'user_type_cars_changed_at'\n",
    "                           ])\n",
    "\n",
    "user_passports_df.head()"
   ]
  },
  {
   "cell_type": "code",
   "execution_count": 8,
   "id": "e95035ac-c272-43ad-80c9-104287bc87a0",
   "metadata": {},
   "outputs": [
    {
     "name": "stdout",
     "output_type": "stream",
     "text": [
      "<class 'pandas.core.frame.DataFrame'>\n",
      "RangeIndex: 2780181 entries, 0 to 2780180\n",
      "Data columns (total 10 columns):\n",
      " #   Column                     Dtype         \n",
      "---  ------                     -----         \n",
      " 0   execution_date             object        \n",
      " 1   passport_id                int64         \n",
      " 2   global_id                  int64         \n",
      " 3   created_at                 datetime64[ns]\n",
      " 4   user_type_id               int64         \n",
      " 5   user_type_name             object        \n",
      " 6   user_type_changed_at       datetime64[ns]\n",
      " 7   user_type_cars_id          int64         \n",
      " 8   user_type_cars_name        object        \n",
      " 9   user_type_cars_changed_at  datetime64[ns]\n",
      "dtypes: datetime64[ns](3), int64(4), object(3)\n",
      "memory usage: 212.1+ MB\n"
     ]
    }
   ],
   "source": [
    "user_passports_df.info()"
   ]
  },
  {
   "cell_type": "code",
   "execution_count": 9,
   "id": "b46c1444-faa2-4574-87a4-b1cf025ad5f4",
   "metadata": {},
   "outputs": [],
   "source": [
    "user_passports_df['execution_date'] = pd.to_datetime(user_passports_df['execution_date'], format='%Y-%m-%d')"
   ]
  },
  {
   "cell_type": "code",
   "execution_count": 10,
   "id": "d2fc9d6a-f9b3-4a15-8a79-2664fe11664a",
   "metadata": {},
   "outputs": [
    {
     "name": "stdout",
     "output_type": "stream",
     "text": [
      "<class 'pandas.core.frame.DataFrame'>\n",
      "RangeIndex: 2780181 entries, 0 to 2780180\n",
      "Data columns (total 10 columns):\n",
      " #   Column                     Dtype         \n",
      "---  ------                     -----         \n",
      " 0   execution_date             datetime64[ns]\n",
      " 1   passport_id                int64         \n",
      " 2   global_id                  int64         \n",
      " 3   created_at                 datetime64[ns]\n",
      " 4   user_type_id               int64         \n",
      " 5   user_type_name             object        \n",
      " 6   user_type_changed_at       datetime64[ns]\n",
      " 7   user_type_cars_id          int64         \n",
      " 8   user_type_cars_name        object        \n",
      " 9   user_type_cars_changed_at  datetime64[ns]\n",
      "dtypes: datetime64[ns](4), int64(4), object(2)\n",
      "memory usage: 212.1+ MB\n"
     ]
    }
   ],
   "source": [
    "user_passports_df.info()"
   ]
  },
  {
   "cell_type": "markdown",
   "id": "aa9db64e-c9c5-4a7d-89a7-ab79b1c0450a",
   "metadata": {},
   "source": [
    "`live_adverts`"
   ]
  },
  {
   "cell_type": "code",
   "execution_count": 11,
   "id": "f5bec0ef-cd29-4cdb-a3bb-ef3dd9a9a419",
   "metadata": {},
   "outputs": [
    {
     "data": {
      "text/plain": [
       "[('execution_date', 'Date32', '', '', '', 'DoubleDelta', ''),\n",
       " ('advert_id', 'UInt64', '', '', '', 'T64', ''),\n",
       " ('created_at', 'DateTime', '', '', '', 'DoubleDelta', ''),\n",
       " ('price', 'UInt64', '', '', '', 'Gorilla', ''),\n",
       " ('region', 'LowCardinality(String)', '', '', '', '', ''),\n",
       " ('user_id', 'UInt32', '', '', '', 'T64', ''),\n",
       " ('platform', 'LowCardinality(String)', '', '', '', '', ''),\n",
       " ('auto_brand', 'LowCardinality(String)', '', '', '', '', ''),\n",
       " ('auto_model', 'LowCardinality(String)', '', '', '', '', ''),\n",
       " ('passport_id', 'UInt32', '', '', '', 'T64', ''),\n",
       " ('year', 'LowCardinality(String)', '', '', '', '', ''),\n",
       " ('userType', 'UInt8', '', '', '', 'T64', '')]"
      ]
     },
     "execution_count": 11,
     "metadata": {},
     "output_type": "execute_result"
    }
   ],
   "source": [
    "live_adverts_desc = client.execute(\"\"\"\n",
    "DESCRIBE TABLE live_adverts\n",
    "\"\"\")\n",
    "\n",
    "live_adverts_desc"
   ]
  },
  {
   "cell_type": "code",
   "execution_count": 12,
   "id": "76be4806-6b01-40c7-b186-f600c2133afc",
   "metadata": {},
   "outputs": [],
   "source": [
    "query = '''\n",
    "SELECT \n",
    "  la.passport_id,\n",
    "  COUNT(DISTINCT(la.advert_id)) AS n_ads,\n",
    "  MIN(la.created_at) AS first_ad,\n",
    "  AVG(la.price) AS mean_price,\n",
    "  AVG(CAST(la.year, 'Int64')) AS mean_year\n",
    "FROM \n",
    "  live_adverts la\n",
    "WHERE \n",
    "  la.region = 'Омск'\n",
    "    AND la.price > 1000\n",
    "      AND la.year != '0'\n",
    "GROUP BY\n",
    "  la.passport_id\n",
    "'''"
   ]
  },
  {
   "cell_type": "code",
   "execution_count": 13,
   "id": "aaeaa230-d73c-45d3-8b8a-35506ce25d03",
   "metadata": {},
   "outputs": [],
   "source": [
    "result = client.execute(query)"
   ]
  },
  {
   "cell_type": "code",
   "execution_count": 14,
   "id": "609deacb-d360-4657-b938-c5d8b0759954",
   "metadata": {},
   "outputs": [
    {
     "data": {
      "text/plain": [
       "35843"
      ]
     },
     "execution_count": 14,
     "metadata": {},
     "output_type": "execute_result"
    }
   ],
   "source": [
    "len(result)"
   ]
  },
  {
   "cell_type": "code",
   "execution_count": 15,
   "id": "83d523d8-b50a-4265-b7cc-64f7f4622e0b",
   "metadata": {},
   "outputs": [
    {
     "data": {
      "text/html": [
       "<div>\n",
       "<style scoped>\n",
       "    .dataframe tbody tr th:only-of-type {\n",
       "        vertical-align: middle;\n",
       "    }\n",
       "\n",
       "    .dataframe tbody tr th {\n",
       "        vertical-align: top;\n",
       "    }\n",
       "\n",
       "    .dataframe thead th {\n",
       "        text-align: right;\n",
       "    }\n",
       "</style>\n",
       "<table border=\"1\" class=\"dataframe\">\n",
       "  <thead>\n",
       "    <tr style=\"text-align: right;\">\n",
       "      <th></th>\n",
       "      <th>passport_id</th>\n",
       "      <th>n_ads</th>\n",
       "      <th>first_ad</th>\n",
       "      <th>mean_price</th>\n",
       "      <th>mean_year</th>\n",
       "    </tr>\n",
       "  </thead>\n",
       "  <tbody>\n",
       "    <tr>\n",
       "      <th>0</th>\n",
       "      <td>141450171</td>\n",
       "      <td>2</td>\n",
       "      <td>2022-05-09 14:12:54</td>\n",
       "      <td>1.761905e+05</td>\n",
       "      <td>2006.000000</td>\n",
       "    </tr>\n",
       "    <tr>\n",
       "      <th>1</th>\n",
       "      <td>123719602</td>\n",
       "      <td>1</td>\n",
       "      <td>2021-09-15 14:11:38</td>\n",
       "      <td>1.100000e+06</td>\n",
       "      <td>2008.000000</td>\n",
       "    </tr>\n",
       "    <tr>\n",
       "      <th>2</th>\n",
       "      <td>144667270</td>\n",
       "      <td>2</td>\n",
       "      <td>2022-12-06 14:41:13</td>\n",
       "      <td>5.000000e+05</td>\n",
       "      <td>2013.000000</td>\n",
       "    </tr>\n",
       "    <tr>\n",
       "      <th>3</th>\n",
       "      <td>134267823</td>\n",
       "      <td>16</td>\n",
       "      <td>2022-06-18 15:31:31</td>\n",
       "      <td>6.517922e+05</td>\n",
       "      <td>2004.701299</td>\n",
       "    </tr>\n",
       "    <tr>\n",
       "      <th>4</th>\n",
       "      <td>136204801</td>\n",
       "      <td>2</td>\n",
       "      <td>2022-06-14 02:52:06</td>\n",
       "      <td>2.768182e+05</td>\n",
       "      <td>2005.818182</td>\n",
       "    </tr>\n",
       "  </tbody>\n",
       "</table>\n",
       "</div>"
      ],
      "text/plain": [
       "   passport_id  n_ads            first_ad    mean_price    mean_year\n",
       "0    141450171      2 2022-05-09 14:12:54  1.761905e+05  2006.000000\n",
       "1    123719602      1 2021-09-15 14:11:38  1.100000e+06  2008.000000\n",
       "2    144667270      2 2022-12-06 14:41:13  5.000000e+05  2013.000000\n",
       "3    134267823     16 2022-06-18 15:31:31  6.517922e+05  2004.701299\n",
       "4    136204801      2 2022-06-14 02:52:06  2.768182e+05  2005.818182"
      ]
     },
     "execution_count": 15,
     "metadata": {},
     "output_type": "execute_result"
    }
   ],
   "source": [
    "live_adverts_df = pd.DataFrame(result, \n",
    "                  columns=['passport_id', 'n_ads', \n",
    "                           'first_ad', 'mean_price',\n",
    "                           'mean_year'\n",
    "                           ])\n",
    "\n",
    "live_adverts_df.head()"
   ]
  },
  {
   "cell_type": "code",
   "execution_count": 16,
   "id": "51351444-cd28-4ce1-a90b-7898c74d350e",
   "metadata": {},
   "outputs": [
    {
     "name": "stdout",
     "output_type": "stream",
     "text": [
      "<class 'pandas.core.frame.DataFrame'>\n",
      "RangeIndex: 35843 entries, 0 to 35842\n",
      "Data columns (total 5 columns):\n",
      " #   Column       Non-Null Count  Dtype         \n",
      "---  ------       --------------  -----         \n",
      " 0   passport_id  35843 non-null  int64         \n",
      " 1   n_ads        35843 non-null  int64         \n",
      " 2   first_ad     35843 non-null  datetime64[ns]\n",
      " 3   mean_price   35843 non-null  float64       \n",
      " 4   mean_year    35843 non-null  float64       \n",
      "dtypes: datetime64[ns](1), float64(2), int64(2)\n",
      "memory usage: 1.4 MB\n"
     ]
    }
   ],
   "source": [
    "live_adverts_df.info()"
   ]
  },
  {
   "cell_type": "markdown",
   "id": "b9ae8da0-e86e-4763-ad85-620bf3328c18",
   "metadata": {},
   "source": [
    "`user_transactions`"
   ]
  },
  {
   "cell_type": "code",
   "execution_count": 17,
   "id": "b59f931d-31e0-4c7d-bacb-36bad6f79269",
   "metadata": {},
   "outputs": [
    {
     "data": {
      "text/plain": [
       "[('payment_date', 'Date', '', '', '', '', ''),\n",
       " ('id', 'Int32', '', '', '', '', ''),\n",
       " ('type', 'String', '', '', '', '', ''),\n",
       " ('sign', 'Int32', '', '', '', '', ''),\n",
       " ('amount', 'Int32', '', '', '', '', ''),\n",
       " ('tstamp', 'DateTime', '', '', '', '', ''),\n",
       " ('advert_id', 'Int32', '', '', '', '', ''),\n",
       " ('passport_id', 'Int32', '', '', '', '', ''),\n",
       " ('balance_consumption', 'Int32', '', '', '', '', '')]"
      ]
     },
     "execution_count": 17,
     "metadata": {},
     "output_type": "execute_result"
    }
   ],
   "source": [
    "user_transactions_desc = client.execute(\"\"\"\n",
    "DESCRIBE TABLE user_transactions\n",
    "\"\"\")\n",
    "\n",
    "user_transactions_desc"
   ]
  },
  {
   "cell_type": "code",
   "execution_count": 18,
   "id": "7daf1320-cf9f-42fd-b214-66885597f7d0",
   "metadata": {},
   "outputs": [],
   "source": [
    "query = '''\n",
    "SELECT \n",
    "  ut.passport_id,\n",
    "  COUNT(DISTINCT(ut.type)) AS n_types,\n",
    "  SUM(ut.sign) AS top_type,\n",
    "  AVG(ut.balance_consumption) AS mean_transaction\n",
    "FROM \n",
    "  user_transactions ut\n",
    "GROUP BY\n",
    "  ut.passport_id\n",
    "'''"
   ]
  },
  {
   "cell_type": "code",
   "execution_count": 19,
   "id": "f84e4260-b509-4a20-8b37-a603d6f059d6",
   "metadata": {},
   "outputs": [],
   "source": [
    "result = client.execute(query)"
   ]
  },
  {
   "cell_type": "code",
   "execution_count": 20,
   "id": "c0a8f4b2-9731-4589-8c39-b6d7fe312365",
   "metadata": {},
   "outputs": [
    {
     "data": {
      "text/plain": [
       "1714980"
      ]
     },
     "execution_count": 20,
     "metadata": {},
     "output_type": "execute_result"
    }
   ],
   "source": [
    "len(result)"
   ]
  },
  {
   "cell_type": "code",
   "execution_count": 21,
   "id": "6024a9d2-4eaf-4178-b68a-f7c494a01ae0",
   "metadata": {},
   "outputs": [
    {
     "data": {
      "text/html": [
       "<div>\n",
       "<style scoped>\n",
       "    .dataframe tbody tr th:only-of-type {\n",
       "        vertical-align: middle;\n",
       "    }\n",
       "\n",
       "    .dataframe tbody tr th {\n",
       "        vertical-align: top;\n",
       "    }\n",
       "\n",
       "    .dataframe thead th {\n",
       "        text-align: right;\n",
       "    }\n",
       "</style>\n",
       "<table border=\"1\" class=\"dataframe\">\n",
       "  <thead>\n",
       "    <tr style=\"text-align: right;\">\n",
       "      <th></th>\n",
       "      <th>passport_id</th>\n",
       "      <th>n_types</th>\n",
       "      <th>top_type</th>\n",
       "      <th>mean_transaction</th>\n",
       "    </tr>\n",
       "  </thead>\n",
       "  <tbody>\n",
       "    <tr>\n",
       "      <th>0</th>\n",
       "      <td>133483447</td>\n",
       "      <td>2</td>\n",
       "      <td>28</td>\n",
       "      <td>6.833333</td>\n",
       "    </tr>\n",
       "    <tr>\n",
       "      <th>1</th>\n",
       "      <td>144659952</td>\n",
       "      <td>1</td>\n",
       "      <td>1</td>\n",
       "      <td>0.000000</td>\n",
       "    </tr>\n",
       "    <tr>\n",
       "      <th>2</th>\n",
       "      <td>136275535</td>\n",
       "      <td>1</td>\n",
       "      <td>6</td>\n",
       "      <td>0.000000</td>\n",
       "    </tr>\n",
       "    <tr>\n",
       "      <th>3</th>\n",
       "      <td>123683386</td>\n",
       "      <td>4</td>\n",
       "      <td>23</td>\n",
       "      <td>17.600000</td>\n",
       "    </tr>\n",
       "    <tr>\n",
       "      <th>4</th>\n",
       "      <td>136981601</td>\n",
       "      <td>2</td>\n",
       "      <td>9</td>\n",
       "      <td>17.272727</td>\n",
       "    </tr>\n",
       "  </tbody>\n",
       "</table>\n",
       "</div>"
      ],
      "text/plain": [
       "   passport_id  n_types  top_type  mean_transaction\n",
       "0    133483447        2        28          6.833333\n",
       "1    144659952        1         1          0.000000\n",
       "2    136275535        1         6          0.000000\n",
       "3    123683386        4        23         17.600000\n",
       "4    136981601        2         9         17.272727"
      ]
     },
     "execution_count": 21,
     "metadata": {},
     "output_type": "execute_result"
    }
   ],
   "source": [
    "user_transactions_df = pd.DataFrame(result, \n",
    "                  columns=['passport_id', 'n_types', \n",
    "                           'top_type', 'mean_transaction'\n",
    "                           ])\n",
    "\n",
    "user_transactions_df.head()"
   ]
  },
  {
   "cell_type": "markdown",
   "id": "796f377c-46a7-4abb-b6e4-f5022f20f6e4",
   "metadata": {},
   "source": [
    "Merging data. "
   ]
  },
  {
   "cell_type": "code",
   "execution_count": 22,
   "id": "7d437af1-6d75-4203-b5b4-c1e6ad4c6c0c",
   "metadata": {},
   "outputs": [],
   "source": [
    "df = pd.merge(user_passports_df, live_adverts_df, on='passport_id', how='inner')"
   ]
  },
  {
   "cell_type": "code",
   "execution_count": 23,
   "id": "09f939cd-c701-47b4-92ff-b7a2b41413ac",
   "metadata": {},
   "outputs": [],
   "source": [
    "df = pd.merge(df, user_transactions_df, on='passport_id', how='inner')"
   ]
  },
  {
   "cell_type": "code",
   "execution_count": 24,
   "id": "fa9f97b5-3e61-4e6c-9df4-e90be7c1b23a",
   "metadata": {},
   "outputs": [
    {
     "data": {
      "text/html": [
       "<div>\n",
       "<style scoped>\n",
       "    .dataframe tbody tr th:only-of-type {\n",
       "        vertical-align: middle;\n",
       "    }\n",
       "\n",
       "    .dataframe tbody tr th {\n",
       "        vertical-align: top;\n",
       "    }\n",
       "\n",
       "    .dataframe thead th {\n",
       "        text-align: right;\n",
       "    }\n",
       "</style>\n",
       "<table border=\"1\" class=\"dataframe\">\n",
       "  <thead>\n",
       "    <tr style=\"text-align: right;\">\n",
       "      <th></th>\n",
       "      <th>execution_date</th>\n",
       "      <th>passport_id</th>\n",
       "      <th>global_id</th>\n",
       "      <th>created_at</th>\n",
       "      <th>user_type_id</th>\n",
       "      <th>user_type_name</th>\n",
       "      <th>user_type_changed_at</th>\n",
       "      <th>user_type_cars_id</th>\n",
       "      <th>user_type_cars_name</th>\n",
       "      <th>user_type_cars_changed_at</th>\n",
       "      <th>n_ads</th>\n",
       "      <th>first_ad</th>\n",
       "      <th>mean_price</th>\n",
       "      <th>mean_year</th>\n",
       "      <th>n_types</th>\n",
       "      <th>top_type</th>\n",
       "      <th>mean_transaction</th>\n",
       "    </tr>\n",
       "  </thead>\n",
       "  <tbody>\n",
       "    <tr>\n",
       "      <th>0</th>\n",
       "      <td>2023-01-31</td>\n",
       "      <td>136749459</td>\n",
       "      <td>141545244</td>\n",
       "      <td>2020-01-02 22:39:54</td>\n",
       "      <td>0</td>\n",
       "      <td>simple_user</td>\n",
       "      <td>2106-02-07 06:28:16</td>\n",
       "      <td>0</td>\n",
       "      <td>cars_simple</td>\n",
       "      <td>2106-02-07 06:28:16</td>\n",
       "      <td>1</td>\n",
       "      <td>2022-02-02 13:08:49</td>\n",
       "      <td>5.600000e+05</td>\n",
       "      <td>2002.000000</td>\n",
       "      <td>1</td>\n",
       "      <td>4</td>\n",
       "      <td>0.000000</td>\n",
       "    </tr>\n",
       "    <tr>\n",
       "      <th>1</th>\n",
       "      <td>2023-01-31</td>\n",
       "      <td>134387629</td>\n",
       "      <td>137787302</td>\n",
       "      <td>2019-03-05 15:55:54</td>\n",
       "      <td>0</td>\n",
       "      <td>simple_user</td>\n",
       "      <td>2106-02-07 06:28:16</td>\n",
       "      <td>0</td>\n",
       "      <td>cars_simple</td>\n",
       "      <td>2106-02-07 06:28:16</td>\n",
       "      <td>1</td>\n",
       "      <td>2022-05-01 11:20:17</td>\n",
       "      <td>1.000000e+05</td>\n",
       "      <td>1993.000000</td>\n",
       "      <td>1</td>\n",
       "      <td>1</td>\n",
       "      <td>0.000000</td>\n",
       "    </tr>\n",
       "    <tr>\n",
       "      <th>2</th>\n",
       "      <td>2023-01-31</td>\n",
       "      <td>135129101</td>\n",
       "      <td>139293451</td>\n",
       "      <td>2019-06-04 23:17:10</td>\n",
       "      <td>0</td>\n",
       "      <td>simple_user</td>\n",
       "      <td>2106-02-07 06:28:16</td>\n",
       "      <td>0</td>\n",
       "      <td>cars_simple</td>\n",
       "      <td>2106-02-07 06:28:16</td>\n",
       "      <td>1</td>\n",
       "      <td>2022-08-03 19:10:09</td>\n",
       "      <td>7.200000e+05</td>\n",
       "      <td>2007.000000</td>\n",
       "      <td>5</td>\n",
       "      <td>149</td>\n",
       "      <td>53.995633</td>\n",
       "    </tr>\n",
       "    <tr>\n",
       "      <th>3</th>\n",
       "      <td>2023-01-31</td>\n",
       "      <td>141081287</td>\n",
       "      <td>145779441</td>\n",
       "      <td>2021-04-13 23:02:40</td>\n",
       "      <td>0</td>\n",
       "      <td>simple_user</td>\n",
       "      <td>2106-02-07 06:28:16</td>\n",
       "      <td>0</td>\n",
       "      <td>cars_simple</td>\n",
       "      <td>2106-02-07 06:28:16</td>\n",
       "      <td>5</td>\n",
       "      <td>2022-05-03 07:42:32</td>\n",
       "      <td>1.191667e+05</td>\n",
       "      <td>2000.666667</td>\n",
       "      <td>1</td>\n",
       "      <td>10</td>\n",
       "      <td>0.000000</td>\n",
       "    </tr>\n",
       "    <tr>\n",
       "      <th>4</th>\n",
       "      <td>2023-01-31</td>\n",
       "      <td>131931773</td>\n",
       "      <td>134644283</td>\n",
       "      <td>2018-06-19 17:19:34</td>\n",
       "      <td>0</td>\n",
       "      <td>simple_user</td>\n",
       "      <td>2106-02-07 06:28:16</td>\n",
       "      <td>0</td>\n",
       "      <td>cars_simple</td>\n",
       "      <td>2106-02-07 06:28:16</td>\n",
       "      <td>5</td>\n",
       "      <td>2022-01-28 04:39:53</td>\n",
       "      <td>1.578049e+05</td>\n",
       "      <td>1996.512195</td>\n",
       "      <td>4</td>\n",
       "      <td>7</td>\n",
       "      <td>68.571429</td>\n",
       "    </tr>\n",
       "    <tr>\n",
       "      <th>...</th>\n",
       "      <td>...</td>\n",
       "      <td>...</td>\n",
       "      <td>...</td>\n",
       "      <td>...</td>\n",
       "      <td>...</td>\n",
       "      <td>...</td>\n",
       "      <td>...</td>\n",
       "      <td>...</td>\n",
       "      <td>...</td>\n",
       "      <td>...</td>\n",
       "      <td>...</td>\n",
       "      <td>...</td>\n",
       "      <td>...</td>\n",
       "      <td>...</td>\n",
       "      <td>...</td>\n",
       "      <td>...</td>\n",
       "      <td>...</td>\n",
       "    </tr>\n",
       "    <tr>\n",
       "      <th>30698</th>\n",
       "      <td>2023-01-31</td>\n",
       "      <td>140140656</td>\n",
       "      <td>144655147</td>\n",
       "      <td>2020-11-30 00:13:39</td>\n",
       "      <td>777</td>\n",
       "      <td>profi</td>\n",
       "      <td>2022-11-07 14:14:03</td>\n",
       "      <td>6</td>\n",
       "      <td>cars_seller</td>\n",
       "      <td>2022-11-07 14:14:03</td>\n",
       "      <td>2</td>\n",
       "      <td>2022-11-05 11:07:04</td>\n",
       "      <td>8.611765e+05</td>\n",
       "      <td>2004.764706</td>\n",
       "      <td>12</td>\n",
       "      <td>125</td>\n",
       "      <td>288.696833</td>\n",
       "    </tr>\n",
       "    <tr>\n",
       "      <th>30699</th>\n",
       "      <td>2023-01-31</td>\n",
       "      <td>140805655</td>\n",
       "      <td>145457194</td>\n",
       "      <td>2021-03-03 22:37:12</td>\n",
       "      <td>777</td>\n",
       "      <td>profi</td>\n",
       "      <td>2022-07-29 01:31:07</td>\n",
       "      <td>6</td>\n",
       "      <td>cars_seller</td>\n",
       "      <td>2022-07-29 01:31:07</td>\n",
       "      <td>2</td>\n",
       "      <td>2021-12-12 18:44:15</td>\n",
       "      <td>2.203360e+06</td>\n",
       "      <td>2017.000000</td>\n",
       "      <td>9</td>\n",
       "      <td>106</td>\n",
       "      <td>188.234694</td>\n",
       "    </tr>\n",
       "    <tr>\n",
       "      <th>30700</th>\n",
       "      <td>2023-01-31</td>\n",
       "      <td>141933123</td>\n",
       "      <td>146738442</td>\n",
       "      <td>2021-08-09 01:22:10</td>\n",
       "      <td>777</td>\n",
       "      <td>profi</td>\n",
       "      <td>2023-01-31 12:44:40</td>\n",
       "      <td>6</td>\n",
       "      <td>cars_seller</td>\n",
       "      <td>2023-01-31 12:44:40</td>\n",
       "      <td>13</td>\n",
       "      <td>2022-07-17 12:34:09</td>\n",
       "      <td>2.402632e+05</td>\n",
       "      <td>2001.736842</td>\n",
       "      <td>1</td>\n",
       "      <td>14</td>\n",
       "      <td>0.000000</td>\n",
       "    </tr>\n",
       "    <tr>\n",
       "      <th>30701</th>\n",
       "      <td>2023-01-31</td>\n",
       "      <td>134858035</td>\n",
       "      <td>138873132</td>\n",
       "      <td>2019-04-29 18:51:44</td>\n",
       "      <td>777</td>\n",
       "      <td>profi</td>\n",
       "      <td>2022-11-20 12:46:23</td>\n",
       "      <td>6</td>\n",
       "      <td>cars_seller</td>\n",
       "      <td>2022-11-20 12:46:23</td>\n",
       "      <td>9</td>\n",
       "      <td>2021-07-07 17:42:33</td>\n",
       "      <td>6.618100e+05</td>\n",
       "      <td>2005.840000</td>\n",
       "      <td>10</td>\n",
       "      <td>57</td>\n",
       "      <td>205.609959</td>\n",
       "    </tr>\n",
       "    <tr>\n",
       "      <th>30702</th>\n",
       "      <td>2023-01-31</td>\n",
       "      <td>132961443</td>\n",
       "      <td>136032543</td>\n",
       "      <td>2018-09-18 10:40:05</td>\n",
       "      <td>777</td>\n",
       "      <td>profi</td>\n",
       "      <td>2022-05-11 17:49:27</td>\n",
       "      <td>6</td>\n",
       "      <td>cars_seller</td>\n",
       "      <td>2022-05-11 17:49:27</td>\n",
       "      <td>33</td>\n",
       "      <td>2022-01-26 07:57:46</td>\n",
       "      <td>8.512085e+05</td>\n",
       "      <td>2003.060071</td>\n",
       "      <td>13</td>\n",
       "      <td>73</td>\n",
       "      <td>191.228188</td>\n",
       "    </tr>\n",
       "  </tbody>\n",
       "</table>\n",
       "<p>30703 rows × 17 columns</p>\n",
       "</div>"
      ],
      "text/plain": [
       "      execution_date  passport_id  global_id          created_at  \\\n",
       "0         2023-01-31    136749459  141545244 2020-01-02 22:39:54   \n",
       "1         2023-01-31    134387629  137787302 2019-03-05 15:55:54   \n",
       "2         2023-01-31    135129101  139293451 2019-06-04 23:17:10   \n",
       "3         2023-01-31    141081287  145779441 2021-04-13 23:02:40   \n",
       "4         2023-01-31    131931773  134644283 2018-06-19 17:19:34   \n",
       "...              ...          ...        ...                 ...   \n",
       "30698     2023-01-31    140140656  144655147 2020-11-30 00:13:39   \n",
       "30699     2023-01-31    140805655  145457194 2021-03-03 22:37:12   \n",
       "30700     2023-01-31    141933123  146738442 2021-08-09 01:22:10   \n",
       "30701     2023-01-31    134858035  138873132 2019-04-29 18:51:44   \n",
       "30702     2023-01-31    132961443  136032543 2018-09-18 10:40:05   \n",
       "\n",
       "       user_type_id user_type_name user_type_changed_at  user_type_cars_id  \\\n",
       "0                 0    simple_user  2106-02-07 06:28:16                  0   \n",
       "1                 0    simple_user  2106-02-07 06:28:16                  0   \n",
       "2                 0    simple_user  2106-02-07 06:28:16                  0   \n",
       "3                 0    simple_user  2106-02-07 06:28:16                  0   \n",
       "4                 0    simple_user  2106-02-07 06:28:16                  0   \n",
       "...             ...            ...                  ...                ...   \n",
       "30698           777          profi  2022-11-07 14:14:03                  6   \n",
       "30699           777          profi  2022-07-29 01:31:07                  6   \n",
       "30700           777          profi  2023-01-31 12:44:40                  6   \n",
       "30701           777          profi  2022-11-20 12:46:23                  6   \n",
       "30702           777          profi  2022-05-11 17:49:27                  6   \n",
       "\n",
       "      user_type_cars_name user_type_cars_changed_at  n_ads  \\\n",
       "0             cars_simple       2106-02-07 06:28:16      1   \n",
       "1             cars_simple       2106-02-07 06:28:16      1   \n",
       "2             cars_simple       2106-02-07 06:28:16      1   \n",
       "3             cars_simple       2106-02-07 06:28:16      5   \n",
       "4             cars_simple       2106-02-07 06:28:16      5   \n",
       "...                   ...                       ...    ...   \n",
       "30698         cars_seller       2022-11-07 14:14:03      2   \n",
       "30699         cars_seller       2022-07-29 01:31:07      2   \n",
       "30700         cars_seller       2023-01-31 12:44:40     13   \n",
       "30701         cars_seller       2022-11-20 12:46:23      9   \n",
       "30702         cars_seller       2022-05-11 17:49:27     33   \n",
       "\n",
       "                 first_ad    mean_price    mean_year  n_types  top_type  \\\n",
       "0     2022-02-02 13:08:49  5.600000e+05  2002.000000        1         4   \n",
       "1     2022-05-01 11:20:17  1.000000e+05  1993.000000        1         1   \n",
       "2     2022-08-03 19:10:09  7.200000e+05  2007.000000        5       149   \n",
       "3     2022-05-03 07:42:32  1.191667e+05  2000.666667        1        10   \n",
       "4     2022-01-28 04:39:53  1.578049e+05  1996.512195        4         7   \n",
       "...                   ...           ...          ...      ...       ...   \n",
       "30698 2022-11-05 11:07:04  8.611765e+05  2004.764706       12       125   \n",
       "30699 2021-12-12 18:44:15  2.203360e+06  2017.000000        9       106   \n",
       "30700 2022-07-17 12:34:09  2.402632e+05  2001.736842        1        14   \n",
       "30701 2021-07-07 17:42:33  6.618100e+05  2005.840000       10        57   \n",
       "30702 2022-01-26 07:57:46  8.512085e+05  2003.060071       13        73   \n",
       "\n",
       "       mean_transaction  \n",
       "0              0.000000  \n",
       "1              0.000000  \n",
       "2             53.995633  \n",
       "3              0.000000  \n",
       "4             68.571429  \n",
       "...                 ...  \n",
       "30698        288.696833  \n",
       "30699        188.234694  \n",
       "30700          0.000000  \n",
       "30701        205.609959  \n",
       "30702        191.228188  \n",
       "\n",
       "[30703 rows x 17 columns]"
      ]
     },
     "execution_count": 24,
     "metadata": {},
     "output_type": "execute_result"
    }
   ],
   "source": [
    "df"
   ]
  },
  {
   "cell_type": "code",
   "execution_count": 25,
   "id": "d9856111-8357-432c-8a17-19d821475cfe",
   "metadata": {},
   "outputs": [
    {
     "name": "stdout",
     "output_type": "stream",
     "text": [
      "<class 'pandas.core.frame.DataFrame'>\n",
      "Int64Index: 30703 entries, 0 to 30702\n",
      "Data columns (total 17 columns):\n",
      " #   Column                     Non-Null Count  Dtype         \n",
      "---  ------                     --------------  -----         \n",
      " 0   execution_date             30703 non-null  datetime64[ns]\n",
      " 1   passport_id                30703 non-null  int64         \n",
      " 2   global_id                  30703 non-null  int64         \n",
      " 3   created_at                 30703 non-null  datetime64[ns]\n",
      " 4   user_type_id               30703 non-null  int64         \n",
      " 5   user_type_name             30703 non-null  object        \n",
      " 6   user_type_changed_at       30703 non-null  datetime64[ns]\n",
      " 7   user_type_cars_id          30703 non-null  int64         \n",
      " 8   user_type_cars_name        30703 non-null  object        \n",
      " 9   user_type_cars_changed_at  30703 non-null  datetime64[ns]\n",
      " 10  n_ads                      30703 non-null  int64         \n",
      " 11  first_ad                   30703 non-null  datetime64[ns]\n",
      " 12  mean_price                 30703 non-null  float64       \n",
      " 13  mean_year                  30703 non-null  float64       \n",
      " 14  n_types                    30703 non-null  int64         \n",
      " 15  top_type                   30703 non-null  int64         \n",
      " 16  mean_transaction           30703 non-null  float64       \n",
      "dtypes: datetime64[ns](5), float64(3), int64(7), object(2)\n",
      "memory usage: 4.2+ MB\n"
     ]
    }
   ],
   "source": [
    "df.info()"
   ]
  },
  {
   "cell_type": "code",
   "execution_count": 26,
   "id": "ab872ed8-79e3-44ac-9ea9-31f8cfd19b8a",
   "metadata": {},
   "outputs": [],
   "source": [
    "del user_passports_df\n",
    "del live_adverts_df\n",
    "del user_transactions_df"
   ]
  },
  {
   "cell_type": "markdown",
   "id": "12e5f45e-d3a9-46ef-a1d2-9d62341f7926",
   "metadata": {},
   "source": [
    "### Task 2. "
   ]
  },
  {
   "cell_type": "markdown",
   "id": "b151886e-0ffd-4ac9-8340-829d5b4175b5",
   "metadata": {},
   "source": [
    "**Find median value of days since ad creation?**"
   ]
  },
  {
   "cell_type": "code",
   "execution_count": 27,
   "id": "4f2ac547-4af3-4694-bf82-2ee28e52c66c",
   "metadata": {},
   "outputs": [
    {
     "data": {
      "text/html": [
       "<div>\n",
       "<style scoped>\n",
       "    .dataframe tbody tr th:only-of-type {\n",
       "        vertical-align: middle;\n",
       "    }\n",
       "\n",
       "    .dataframe tbody tr th {\n",
       "        vertical-align: top;\n",
       "    }\n",
       "\n",
       "    .dataframe thead th {\n",
       "        text-align: right;\n",
       "    }\n",
       "</style>\n",
       "<table border=\"1\" class=\"dataframe\">\n",
       "  <thead>\n",
       "    <tr style=\"text-align: right;\">\n",
       "      <th></th>\n",
       "      <th>execution_date</th>\n",
       "      <th>passport_id</th>\n",
       "      <th>global_id</th>\n",
       "      <th>created_at</th>\n",
       "      <th>user_type_id</th>\n",
       "      <th>user_type_name</th>\n",
       "      <th>user_type_changed_at</th>\n",
       "      <th>user_type_cars_id</th>\n",
       "      <th>user_type_cars_name</th>\n",
       "      <th>user_type_cars_changed_at</th>\n",
       "      <th>n_ads</th>\n",
       "      <th>first_ad</th>\n",
       "      <th>mean_price</th>\n",
       "      <th>mean_year</th>\n",
       "      <th>n_types</th>\n",
       "      <th>top_type</th>\n",
       "      <th>mean_transaction</th>\n",
       "    </tr>\n",
       "  </thead>\n",
       "  <tbody>\n",
       "    <tr>\n",
       "      <th>0</th>\n",
       "      <td>2023-01-31</td>\n",
       "      <td>136749459</td>\n",
       "      <td>141545244</td>\n",
       "      <td>2020-01-02 22:39:54</td>\n",
       "      <td>0</td>\n",
       "      <td>simple_user</td>\n",
       "      <td>2106-02-07 06:28:16</td>\n",
       "      <td>0</td>\n",
       "      <td>cars_simple</td>\n",
       "      <td>2106-02-07 06:28:16</td>\n",
       "      <td>1</td>\n",
       "      <td>2022-02-02 13:08:49</td>\n",
       "      <td>560000.000000</td>\n",
       "      <td>2002.000000</td>\n",
       "      <td>1</td>\n",
       "      <td>4</td>\n",
       "      <td>0.000000</td>\n",
       "    </tr>\n",
       "    <tr>\n",
       "      <th>1</th>\n",
       "      <td>2023-01-31</td>\n",
       "      <td>134387629</td>\n",
       "      <td>137787302</td>\n",
       "      <td>2019-03-05 15:55:54</td>\n",
       "      <td>0</td>\n",
       "      <td>simple_user</td>\n",
       "      <td>2106-02-07 06:28:16</td>\n",
       "      <td>0</td>\n",
       "      <td>cars_simple</td>\n",
       "      <td>2106-02-07 06:28:16</td>\n",
       "      <td>1</td>\n",
       "      <td>2022-05-01 11:20:17</td>\n",
       "      <td>100000.000000</td>\n",
       "      <td>1993.000000</td>\n",
       "      <td>1</td>\n",
       "      <td>1</td>\n",
       "      <td>0.000000</td>\n",
       "    </tr>\n",
       "    <tr>\n",
       "      <th>2</th>\n",
       "      <td>2023-01-31</td>\n",
       "      <td>135129101</td>\n",
       "      <td>139293451</td>\n",
       "      <td>2019-06-04 23:17:10</td>\n",
       "      <td>0</td>\n",
       "      <td>simple_user</td>\n",
       "      <td>2106-02-07 06:28:16</td>\n",
       "      <td>0</td>\n",
       "      <td>cars_simple</td>\n",
       "      <td>2106-02-07 06:28:16</td>\n",
       "      <td>1</td>\n",
       "      <td>2022-08-03 19:10:09</td>\n",
       "      <td>720000.000000</td>\n",
       "      <td>2007.000000</td>\n",
       "      <td>5</td>\n",
       "      <td>149</td>\n",
       "      <td>53.995633</td>\n",
       "    </tr>\n",
       "    <tr>\n",
       "      <th>3</th>\n",
       "      <td>2023-01-31</td>\n",
       "      <td>141081287</td>\n",
       "      <td>145779441</td>\n",
       "      <td>2021-04-13 23:02:40</td>\n",
       "      <td>0</td>\n",
       "      <td>simple_user</td>\n",
       "      <td>2106-02-07 06:28:16</td>\n",
       "      <td>0</td>\n",
       "      <td>cars_simple</td>\n",
       "      <td>2106-02-07 06:28:16</td>\n",
       "      <td>5</td>\n",
       "      <td>2022-05-03 07:42:32</td>\n",
       "      <td>119166.666667</td>\n",
       "      <td>2000.666667</td>\n",
       "      <td>1</td>\n",
       "      <td>10</td>\n",
       "      <td>0.000000</td>\n",
       "    </tr>\n",
       "    <tr>\n",
       "      <th>4</th>\n",
       "      <td>2023-01-31</td>\n",
       "      <td>131931773</td>\n",
       "      <td>134644283</td>\n",
       "      <td>2018-06-19 17:19:34</td>\n",
       "      <td>0</td>\n",
       "      <td>simple_user</td>\n",
       "      <td>2106-02-07 06:28:16</td>\n",
       "      <td>0</td>\n",
       "      <td>cars_simple</td>\n",
       "      <td>2106-02-07 06:28:16</td>\n",
       "      <td>5</td>\n",
       "      <td>2022-01-28 04:39:53</td>\n",
       "      <td>157804.878049</td>\n",
       "      <td>1996.512195</td>\n",
       "      <td>4</td>\n",
       "      <td>7</td>\n",
       "      <td>68.571429</td>\n",
       "    </tr>\n",
       "  </tbody>\n",
       "</table>\n",
       "</div>"
      ],
      "text/plain": [
       "  execution_date  passport_id  global_id          created_at  user_type_id  \\\n",
       "0     2023-01-31    136749459  141545244 2020-01-02 22:39:54             0   \n",
       "1     2023-01-31    134387629  137787302 2019-03-05 15:55:54             0   \n",
       "2     2023-01-31    135129101  139293451 2019-06-04 23:17:10             0   \n",
       "3     2023-01-31    141081287  145779441 2021-04-13 23:02:40             0   \n",
       "4     2023-01-31    131931773  134644283 2018-06-19 17:19:34             0   \n",
       "\n",
       "  user_type_name user_type_changed_at  user_type_cars_id user_type_cars_name  \\\n",
       "0    simple_user  2106-02-07 06:28:16                  0         cars_simple   \n",
       "1    simple_user  2106-02-07 06:28:16                  0         cars_simple   \n",
       "2    simple_user  2106-02-07 06:28:16                  0         cars_simple   \n",
       "3    simple_user  2106-02-07 06:28:16                  0         cars_simple   \n",
       "4    simple_user  2106-02-07 06:28:16                  0         cars_simple   \n",
       "\n",
       "  user_type_cars_changed_at  n_ads            first_ad     mean_price  \\\n",
       "0       2106-02-07 06:28:16      1 2022-02-02 13:08:49  560000.000000   \n",
       "1       2106-02-07 06:28:16      1 2022-05-01 11:20:17  100000.000000   \n",
       "2       2106-02-07 06:28:16      1 2022-08-03 19:10:09  720000.000000   \n",
       "3       2106-02-07 06:28:16      5 2022-05-03 07:42:32  119166.666667   \n",
       "4       2106-02-07 06:28:16      5 2022-01-28 04:39:53  157804.878049   \n",
       "\n",
       "     mean_year  n_types  top_type  mean_transaction  \n",
       "0  2002.000000        1         4          0.000000  \n",
       "1  1993.000000        1         1          0.000000  \n",
       "2  2007.000000        5       149         53.995633  \n",
       "3  2000.666667        1        10          0.000000  \n",
       "4  1996.512195        4         7         68.571429  "
      ]
     },
     "execution_count": 27,
     "metadata": {},
     "output_type": "execute_result"
    }
   ],
   "source": [
    "df.head()"
   ]
  },
  {
   "cell_type": "code",
   "execution_count": 28,
   "id": "7f58c148-f7a4-4608-b040-b2346595bdcb",
   "metadata": {},
   "outputs": [],
   "source": [
    "df['days_ago'] = (df.execution_date.dt.date - df.created_at.dt.date).dt.days"
   ]
  },
  {
   "cell_type": "code",
   "execution_count": 29,
   "id": "f93d685d-1d06-449c-b259-2bdfc0f0ada0",
   "metadata": {},
   "outputs": [],
   "source": [
    "#df['days_ago'] = df.execution_date - df.created_at\n",
    "#df['days_ago'] = df['days_ago'].dt.days"
   ]
  },
  {
   "cell_type": "code",
   "execution_count": 30,
   "id": "b018c25c-3025-48fc-b217-70c056a61448",
   "metadata": {},
   "outputs": [],
   "source": [
    "#df['days_ago'] = (df.execution_date.dt.date - df.created_at.dt.date) / np.timedelta64(1, 'D')"
   ]
  },
  {
   "cell_type": "code",
   "execution_count": 31,
   "id": "6f4cf31c-5a9a-4a6c-832e-2989af293bc5",
   "metadata": {},
   "outputs": [
    {
     "data": {
      "text/plain": [
       "1098.0"
      ]
     },
     "execution_count": 31,
     "metadata": {},
     "output_type": "execute_result"
    }
   ],
   "source": [
    "np.median(df.days_ago)"
   ]
  },
  {
   "cell_type": "markdown",
   "id": "92137d74-b31f-4aba-a1b5-d9164be17f5b",
   "metadata": {
    "tags": []
   },
   "source": [
    "### Task 3.  "
   ]
  },
  {
   "cell_type": "markdown",
   "id": "830049b9-f37d-4c47-82b3-0e95d7db9ed3",
   "metadata": {},
   "source": [
    "**What is the max cars age?** "
   ]
  },
  {
   "cell_type": "code",
   "execution_count": 32,
   "id": "b333dac0-d8af-4ec4-b0d9-e3d5d2b9c692",
   "metadata": {},
   "outputs": [],
   "source": [
    "df['mean_n_years'] = df.execution_date.dt.year - df.mean_year"
   ]
  },
  {
   "cell_type": "code",
   "execution_count": 33,
   "id": "b61526ab-fc3e-47f8-8456-d259190bd0d9",
   "metadata": {},
   "outputs": [
    {
     "data": {
      "text/plain": [
       "73.0"
      ]
     },
     "execution_count": 33,
     "metadata": {},
     "output_type": "execute_result"
    }
   ],
   "source": [
    "df.mean_n_years.max()"
   ]
  },
  {
   "cell_type": "markdown",
   "id": "7b1831e5-9629-45ba-8320-429c58a760d9",
   "metadata": {},
   "source": [
    "### Task 4. "
   ]
  },
  {
   "cell_type": "markdown",
   "id": "41913718-3c9d-42cb-b61d-72ebdc7edad3",
   "metadata": {},
   "source": [
    "**Create a `buyer` feature. Do we have more buyers or sellers in our dataset?**  "
   ]
  },
  {
   "cell_type": "code",
   "execution_count": 34,
   "id": "54393504-b981-4336-98ad-e1400b1e56ee",
   "metadata": {},
   "outputs": [],
   "source": [
    "df['buyer'] = df.top_type.apply(lambda x: 1 if x < 0 else 0)"
   ]
  },
  {
   "cell_type": "code",
   "execution_count": 35,
   "id": "8ec2bae8-1474-406f-bfbd-d8cc18803e71",
   "metadata": {},
   "outputs": [
    {
     "data": {
      "text/plain": [
       "0    22844\n",
       "1     7859\n",
       "Name: buyer, dtype: int64"
      ]
     },
     "execution_count": 35,
     "metadata": {},
     "output_type": "execute_result"
    }
   ],
   "source": [
    "df.buyer.value_counts()"
   ]
  },
  {
   "cell_type": "markdown",
   "id": "6cf94e10-2a9b-4ab9-929d-858de8ce875b",
   "metadata": {},
   "source": [
    "### Task 5. "
   ]
  },
  {
   "cell_type": "markdown",
   "id": "a92b908a-9905-4287-b083-4b1954baf890",
   "metadata": {},
   "source": [
    "**Log-transform `price`, choose 6 features, delete outliers and StandardScale them.**"
   ]
  },
  {
   "cell_type": "code",
   "execution_count": 36,
   "id": "cb555da6-0200-49a4-94ce-4e5d668e8ce9",
   "metadata": {},
   "outputs": [],
   "source": [
    "df.sort_values('passport_id', inplace=True)"
   ]
  },
  {
   "cell_type": "code",
   "execution_count": 37,
   "id": "aa7f9105-8987-41db-8bf9-9c1b2663f455",
   "metadata": {},
   "outputs": [],
   "source": [
    "df = df.reset_index(drop=True)"
   ]
  },
  {
   "cell_type": "code",
   "execution_count": 38,
   "id": "e32bed9b-02fa-4fb9-90fc-bf77f1fc8aa1",
   "metadata": {},
   "outputs": [
    {
     "data": {
      "image/png": "[encoded data removed]",
      "text/plain": [
       "<Figure size 1152x648 with 1 Axes>"
      ]
     },
     "metadata": {
      "needs_background": "light"
     },
     "output_type": "display_data"
    }
   ],
   "source": [
    "plt.figure(figsize=(16, 9))\n",
    "sns.histplot(df.mean_price);"
   ]
  },
  {
   "cell_type": "code",
   "execution_count": 39,
   "id": "8b9de97c-b4d1-4147-a9a8-556a1f201784",
   "metadata": {},
   "outputs": [],
   "source": [
    "df['log_price']= np.log(df['mean_price']) "
   ]
  },
  {
   "cell_type": "code",
   "execution_count": 40,
   "id": "d6bb42c7-a5e9-425d-b8d6-7938c6b2a518",
   "metadata": {},
   "outputs": [
    {
     "data": {
      "image/png": "[encoded data removed]",
      "text/plain": [
       "<Figure size 1152x648 with 1 Axes>"
      ]
     },
     "metadata": {
      "needs_background": "light"
     },
     "output_type": "display_data"
    }
   ],
   "source": [
    "plt.figure(figsize=(16, 9))\n",
    "sns.histplot(df.log_price);"
   ]
  },
  {
   "cell_type": "code",
   "execution_count": 41,
   "id": "aa256c7c-35c7-415c-95d2-ecf97a45fe1a",
   "metadata": {},
   "outputs": [
    {
     "data": {
      "text/html": [
       "<div>\n",
       "<style scoped>\n",
       "    .dataframe tbody tr th:only-of-type {\n",
       "        vertical-align: middle;\n",
       "    }\n",
       "\n",
       "    .dataframe tbody tr th {\n",
       "        vertical-align: top;\n",
       "    }\n",
       "\n",
       "    .dataframe thead th {\n",
       "        text-align: right;\n",
       "    }\n",
       "</style>\n",
       "<table border=\"1\" class=\"dataframe\">\n",
       "  <thead>\n",
       "    <tr style=\"text-align: right;\">\n",
       "      <th></th>\n",
       "      <th>0</th>\n",
       "      <th>1</th>\n",
       "      <th>2</th>\n",
       "    </tr>\n",
       "  </thead>\n",
       "  <tbody>\n",
       "    <tr>\n",
       "      <th>execution_date</th>\n",
       "      <td>2023-01-31 00:00:00</td>\n",
       "      <td>2023-01-31 00:00:00</td>\n",
       "      <td>2023-01-31 00:00:00</td>\n",
       "    </tr>\n",
       "    <tr>\n",
       "      <th>passport_id</th>\n",
       "      <td>123463130</td>\n",
       "      <td>123463864</td>\n",
       "      <td>123464158</td>\n",
       "    </tr>\n",
       "    <tr>\n",
       "      <th>global_id</th>\n",
       "      <td>123456861</td>\n",
       "      <td>123457429</td>\n",
       "      <td>123457652</td>\n",
       "    </tr>\n",
       "    <tr>\n",
       "      <th>created_at</th>\n",
       "      <td>2009-04-03 19:46:43</td>\n",
       "      <td>2009-04-05 17:11:29</td>\n",
       "      <td>2009-04-06 12:29:57</td>\n",
       "    </tr>\n",
       "    <tr>\n",
       "      <th>user_type_id</th>\n",
       "      <td>777</td>\n",
       "      <td>0</td>\n",
       "      <td>0</td>\n",
       "    </tr>\n",
       "    <tr>\n",
       "      <th>user_type_name</th>\n",
       "      <td>profi</td>\n",
       "      <td>simple_user</td>\n",
       "      <td>simple_user</td>\n",
       "    </tr>\n",
       "    <tr>\n",
       "      <th>user_type_changed_at</th>\n",
       "      <td>2023-01-31 12:44:40</td>\n",
       "      <td>2106-02-07 06:28:16</td>\n",
       "      <td>2106-02-07 06:28:16</td>\n",
       "    </tr>\n",
       "    <tr>\n",
       "      <th>user_type_cars_id</th>\n",
       "      <td>0</td>\n",
       "      <td>0</td>\n",
       "      <td>0</td>\n",
       "    </tr>\n",
       "    <tr>\n",
       "      <th>user_type_cars_name</th>\n",
       "      <td>cars_simple</td>\n",
       "      <td>cars_simple</td>\n",
       "      <td>cars_simple</td>\n",
       "    </tr>\n",
       "    <tr>\n",
       "      <th>user_type_cars_changed_at</th>\n",
       "      <td>2106-02-07 06:28:16</td>\n",
       "      <td>2106-02-07 06:28:16</td>\n",
       "      <td>2106-02-07 06:28:16</td>\n",
       "    </tr>\n",
       "    <tr>\n",
       "      <th>n_ads</th>\n",
       "      <td>43</td>\n",
       "      <td>3</td>\n",
       "      <td>1</td>\n",
       "    </tr>\n",
       "    <tr>\n",
       "      <th>first_ad</th>\n",
       "      <td>2022-01-10 09:56:00</td>\n",
       "      <td>2021-07-06 06:08:33</td>\n",
       "      <td>2022-10-22 10:05:10</td>\n",
       "    </tr>\n",
       "    <tr>\n",
       "      <th>mean_price</th>\n",
       "      <td>3626054.279749</td>\n",
       "      <td>2250214.285714</td>\n",
       "      <td>920000.0</td>\n",
       "    </tr>\n",
       "    <tr>\n",
       "      <th>mean_year</th>\n",
       "      <td>2015.204593</td>\n",
       "      <td>2011.25</td>\n",
       "      <td>2012.0</td>\n",
       "    </tr>\n",
       "    <tr>\n",
       "      <th>n_types</th>\n",
       "      <td>11</td>\n",
       "      <td>8</td>\n",
       "      <td>3</td>\n",
       "    </tr>\n",
       "    <tr>\n",
       "      <th>top_type</th>\n",
       "      <td>252</td>\n",
       "      <td>2</td>\n",
       "      <td>-4</td>\n",
       "    </tr>\n",
       "    <tr>\n",
       "      <th>mean_transaction</th>\n",
       "      <td>119.732143</td>\n",
       "      <td>349.833333</td>\n",
       "      <td>158.333333</td>\n",
       "    </tr>\n",
       "    <tr>\n",
       "      <th>days_ago</th>\n",
       "      <td>5051</td>\n",
       "      <td>5049</td>\n",
       "      <td>5048</td>\n",
       "    </tr>\n",
       "    <tr>\n",
       "      <th>mean_n_years</th>\n",
       "      <td>7.795407</td>\n",
       "      <td>11.75</td>\n",
       "      <td>11.0</td>\n",
       "    </tr>\n",
       "    <tr>\n",
       "      <th>buyer</th>\n",
       "      <td>0</td>\n",
       "      <td>0</td>\n",
       "      <td>1</td>\n",
       "    </tr>\n",
       "    <tr>\n",
       "      <th>log_price</th>\n",
       "      <td>15.103656</td>\n",
       "      <td>14.626536</td>\n",
       "      <td>13.732129</td>\n",
       "    </tr>\n",
       "  </tbody>\n",
       "</table>\n",
       "</div>"
      ],
      "text/plain": [
       "                                             0                    1  \\\n",
       "execution_date             2023-01-31 00:00:00  2023-01-31 00:00:00   \n",
       "passport_id                          123463130            123463864   \n",
       "global_id                            123456861            123457429   \n",
       "created_at                 2009-04-03 19:46:43  2009-04-05 17:11:29   \n",
       "user_type_id                               777                    0   \n",
       "user_type_name                           profi          simple_user   \n",
       "user_type_changed_at       2023-01-31 12:44:40  2106-02-07 06:28:16   \n",
       "user_type_cars_id                            0                    0   \n",
       "user_type_cars_name                cars_simple          cars_simple   \n",
       "user_type_cars_changed_at  2106-02-07 06:28:16  2106-02-07 06:28:16   \n",
       "n_ads                                       43                    3   \n",
       "first_ad                   2022-01-10 09:56:00  2021-07-06 06:08:33   \n",
       "mean_price                      3626054.279749       2250214.285714   \n",
       "mean_year                          2015.204593              2011.25   \n",
       "n_types                                     11                    8   \n",
       "top_type                                   252                    2   \n",
       "mean_transaction                    119.732143           349.833333   \n",
       "days_ago                                  5051                 5049   \n",
       "mean_n_years                          7.795407                11.75   \n",
       "buyer                                        0                    0   \n",
       "log_price                            15.103656            14.626536   \n",
       "\n",
       "                                             2  \n",
       "execution_date             2023-01-31 00:00:00  \n",
       "passport_id                          123464158  \n",
       "global_id                            123457652  \n",
       "created_at                 2009-04-06 12:29:57  \n",
       "user_type_id                                 0  \n",
       "user_type_name                     simple_user  \n",
       "user_type_changed_at       2106-02-07 06:28:16  \n",
       "user_type_cars_id                            0  \n",
       "user_type_cars_name                cars_simple  \n",
       "user_type_cars_changed_at  2106-02-07 06:28:16  \n",
       "n_ads                                        1  \n",
       "first_ad                   2022-10-22 10:05:10  \n",
       "mean_price                            920000.0  \n",
       "mean_year                               2012.0  \n",
       "n_types                                      3  \n",
       "top_type                                    -4  \n",
       "mean_transaction                    158.333333  \n",
       "days_ago                                  5048  \n",
       "mean_n_years                              11.0  \n",
       "buyer                                        1  \n",
       "log_price                            13.732129  "
      ]
     },
     "execution_count": 41,
     "metadata": {},
     "output_type": "execute_result"
    }
   ],
   "source": [
    "df.head(3).T"
   ]
  },
  {
   "cell_type": "code",
   "execution_count": 42,
   "id": "cddd86ff-808a-47ac-b186-3c8566d39024",
   "metadata": {},
   "outputs": [],
   "source": [
    "data = df[['passport_id', 'n_ads', 'n_types', 'days_ago', 'log_price', 'mean_n_years', 'buyer']]"
   ]
  },
  {
   "cell_type": "code",
   "execution_count": 43,
   "id": "a4660119-ac6b-46dc-bf3d-27cf27ce9c38",
   "metadata": {},
   "outputs": [
    {
     "data": {
      "text/plain": [
       "(30703, 7)"
      ]
     },
     "execution_count": 43,
     "metadata": {},
     "output_type": "execute_result"
    }
   ],
   "source": [
    "data.shape"
   ]
  },
  {
   "cell_type": "code",
   "execution_count": 44,
   "id": "8a8ec742-774f-4d01-ab51-c0c6312325eb",
   "metadata": {},
   "outputs": [],
   "source": [
    "data = data[data['n_ads'] < np.quantile(df.n_ads, .99)]"
   ]
  },
  {
   "cell_type": "code",
   "execution_count": 45,
   "id": "06428be5-544e-41c8-aac5-87d58b688086",
   "metadata": {},
   "outputs": [
    {
     "data": {
      "text/plain": [
       "(30391, 7)"
      ]
     },
     "execution_count": 45,
     "metadata": {},
     "output_type": "execute_result"
    }
   ],
   "source": [
    "data.shape"
   ]
  },
  {
   "cell_type": "code",
   "execution_count": 46,
   "id": "10f33459-66fb-43cc-9b2e-18c4c9895fec",
   "metadata": {},
   "outputs": [],
   "source": [
    "data = data[data['mean_n_years'] < np.quantile(df.mean_n_years, .99)]"
   ]
  },
  {
   "cell_type": "code",
   "execution_count": 47,
   "id": "bb2c9f0d-5c4b-41fb-9c88-cdb174e00529",
   "metadata": {},
   "outputs": [
    {
     "data": {
      "text/plain": [
       "(30053, 7)"
      ]
     },
     "execution_count": 47,
     "metadata": {},
     "output_type": "execute_result"
    }
   ],
   "source": [
    "data.shape"
   ]
  },
  {
   "cell_type": "code",
   "execution_count": 48,
   "id": "93a67a03-cc53-4a70-9f4a-7a7aa9548e14",
   "metadata": {},
   "outputs": [],
   "source": [
    "data = data[data['days_ago'] < np.quantile(df.days_ago, .99)]"
   ]
  },
  {
   "cell_type": "code",
   "execution_count": 49,
   "id": "cba887e9-164a-4094-a8d1-e7773d402b29",
   "metadata": {},
   "outputs": [
    {
     "data": {
      "text/plain": [
       "(29753, 7)"
      ]
     },
     "execution_count": 49,
     "metadata": {},
     "output_type": "execute_result"
    }
   ],
   "source": [
    "data.shape"
   ]
  },
  {
   "cell_type": "code",
   "execution_count": 50,
   "id": "ce12748a-9533-411b-9ed6-fea3d63d4235",
   "metadata": {},
   "outputs": [
    {
     "name": "stdout",
     "output_type": "stream",
     "text": [
      "<class 'pandas.core.frame.DataFrame'>\n",
      "Int64Index: 29753 entries, 308 to 30702\n",
      "Data columns (total 7 columns):\n",
      " #   Column        Non-Null Count  Dtype  \n",
      "---  ------        --------------  -----  \n",
      " 0   passport_id   29753 non-null  int64  \n",
      " 1   n_ads         29753 non-null  int64  \n",
      " 2   n_types       29753 non-null  int64  \n",
      " 3   days_ago      29753 non-null  int64  \n",
      " 4   log_price     29753 non-null  float64\n",
      " 5   mean_n_years  29753 non-null  float64\n",
      " 6   buyer         29753 non-null  int64  \n",
      "dtypes: float64(2), int64(5)\n",
      "memory usage: 1.8 MB\n"
     ]
    }
   ],
   "source": [
    "data.info()"
   ]
  },
  {
   "cell_type": "code",
   "execution_count": 51,
   "id": "ef6fa91a-dc30-42c0-9c53-1ecc180976be",
   "metadata": {},
   "outputs": [],
   "source": [
    "data = data.astype({'passport_id': 'str'})"
   ]
  },
  {
   "cell_type": "code",
   "execution_count": 52,
   "id": "17bc9da0-a377-4cf0-b0ac-5bc0a74c96c9",
   "metadata": {},
   "outputs": [],
   "source": [
    "col_transformer_with_selector = ColumnTransformer(\n",
    "    transformers=[             \n",
    "        ('StandardScaler', StandardScaler(), selector(dtype_include='number'))\n",
    "    ],\n",
    "    remainder='passthrough',          \n",
    "    verbose_feature_names_out=False   \n",
    ").set_output(transform='pandas')  "
   ]
  },
  {
   "cell_type": "code",
   "execution_count": 53,
   "id": "21ce264e-3859-4341-8504-fd4c543efb09",
   "metadata": {},
   "outputs": [],
   "source": [
    "data_scaled = Pipeline(\n",
    "    [\n",
    "        ('col_transformer', col_transformer_with_selector)\n",
    "    ]\n",
    ")"
   ]
  },
  {
   "cell_type": "code",
   "execution_count": 54,
   "id": "46c317bd-020c-4cb3-858d-b16ccc8fa462",
   "metadata": {},
   "outputs": [
    {
     "data": {
      "text/html": [
       "<div>\n",
       "<style scoped>\n",
       "    .dataframe tbody tr th:only-of-type {\n",
       "        vertical-align: middle;\n",
       "    }\n",
       "\n",
       "    .dataframe tbody tr th {\n",
       "        vertical-align: top;\n",
       "    }\n",
       "\n",
       "    .dataframe thead th {\n",
       "        text-align: right;\n",
       "    }\n",
       "</style>\n",
       "<table border=\"1\" class=\"dataframe\">\n",
       "  <thead>\n",
       "    <tr style=\"text-align: right;\">\n",
       "      <th></th>\n",
       "      <th>n_ads</th>\n",
       "      <th>n_types</th>\n",
       "      <th>days_ago</th>\n",
       "      <th>log_price</th>\n",
       "      <th>mean_n_years</th>\n",
       "      <th>buyer</th>\n",
       "      <th>passport_id</th>\n",
       "    </tr>\n",
       "  </thead>\n",
       "  <tbody>\n",
       "    <tr>\n",
       "      <th>308</th>\n",
       "      <td>-0.544056</td>\n",
       "      <td>-0.585612</td>\n",
       "      <td>3.333317</td>\n",
       "      <td>0.619651</td>\n",
       "      <td>-0.960085</td>\n",
       "      <td>-0.585876</td>\n",
       "      <td>123560859</td>\n",
       "    </tr>\n",
       "    <tr>\n",
       "      <th>309</th>\n",
       "      <td>-0.544056</td>\n",
       "      <td>-0.585612</td>\n",
       "      <td>3.333317</td>\n",
       "      <td>1.113132</td>\n",
       "      <td>-0.373263</td>\n",
       "      <td>1.706846</td>\n",
       "      <td>123560865</td>\n",
       "    </tr>\n",
       "    <tr>\n",
       "      <th>310</th>\n",
       "      <td>-0.204097</td>\n",
       "      <td>1.622578</td>\n",
       "      <td>3.329262</td>\n",
       "      <td>1.120604</td>\n",
       "      <td>0.382332</td>\n",
       "      <td>1.706846</td>\n",
       "      <td>123561915</td>\n",
       "    </tr>\n",
       "    <tr>\n",
       "      <th>311</th>\n",
       "      <td>-0.374077</td>\n",
       "      <td>-0.217581</td>\n",
       "      <td>3.329262</td>\n",
       "      <td>1.835067</td>\n",
       "      <td>-0.850545</td>\n",
       "      <td>-0.585876</td>\n",
       "      <td>123561952</td>\n",
       "    </tr>\n",
       "    <tr>\n",
       "      <th>313</th>\n",
       "      <td>-0.544056</td>\n",
       "      <td>1.990609</td>\n",
       "      <td>3.327234</td>\n",
       "      <td>1.171393</td>\n",
       "      <td>-1.077450</td>\n",
       "      <td>-0.585876</td>\n",
       "      <td>123562696</td>\n",
       "    </tr>\n",
       "    <tr>\n",
       "      <th>...</th>\n",
       "      <td>...</td>\n",
       "      <td>...</td>\n",
       "      <td>...</td>\n",
       "      <td>...</td>\n",
       "      <td>...</td>\n",
       "      <td>...</td>\n",
       "      <td>...</td>\n",
       "    </tr>\n",
       "    <tr>\n",
       "      <th>30698</th>\n",
       "      <td>-0.544056</td>\n",
       "      <td>-0.953644</td>\n",
       "      <td>-1.254043</td>\n",
       "      <td>-0.519317</td>\n",
       "      <td>-0.725356</td>\n",
       "      <td>-0.585876</td>\n",
       "      <td>144977962</td>\n",
       "    </tr>\n",
       "    <tr>\n",
       "      <th>30699</th>\n",
       "      <td>-0.544056</td>\n",
       "      <td>-0.585612</td>\n",
       "      <td>-1.255057</td>\n",
       "      <td>-0.337495</td>\n",
       "      <td>1.856663</td>\n",
       "      <td>1.706846</td>\n",
       "      <td>144979974</td>\n",
       "    </tr>\n",
       "    <tr>\n",
       "      <th>30700</th>\n",
       "      <td>-0.544056</td>\n",
       "      <td>0.518483</td>\n",
       "      <td>-1.255057</td>\n",
       "      <td>0.776405</td>\n",
       "      <td>-0.255898</td>\n",
       "      <td>-0.585876</td>\n",
       "      <td>144983244</td>\n",
       "    </tr>\n",
       "    <tr>\n",
       "      <th>30701</th>\n",
       "      <td>-0.544056</td>\n",
       "      <td>-0.217581</td>\n",
       "      <td>-1.255057</td>\n",
       "      <td>-0.337495</td>\n",
       "      <td>-0.490627</td>\n",
       "      <td>-0.585876</td>\n",
       "      <td>144983322</td>\n",
       "    </tr>\n",
       "    <tr>\n",
       "      <th>30702</th>\n",
       "      <td>-0.544056</td>\n",
       "      <td>0.150451</td>\n",
       "      <td>-1.256071</td>\n",
       "      <td>0.958227</td>\n",
       "      <td>-0.842721</td>\n",
       "      <td>-0.585876</td>\n",
       "      <td>144986778</td>\n",
       "    </tr>\n",
       "  </tbody>\n",
       "</table>\n",
       "<p>29753 rows × 7 columns</p>\n",
       "</div>"
      ],
      "text/plain": [
       "          n_ads   n_types  days_ago  log_price  mean_n_years     buyer  \\\n",
       "308   -0.544056 -0.585612  3.333317   0.619651     -0.960085 -0.585876   \n",
       "309   -0.544056 -0.585612  3.333317   1.113132     -0.373263  1.706846   \n",
       "310   -0.204097  1.622578  3.329262   1.120604      0.382332  1.706846   \n",
       "311   -0.374077 -0.217581  3.329262   1.835067     -0.850545 -0.585876   \n",
       "313   -0.544056  1.990609  3.327234   1.171393     -1.077450 -0.585876   \n",
       "...         ...       ...       ...        ...           ...       ...   \n",
       "30698 -0.544056 -0.953644 -1.254043  -0.519317     -0.725356 -0.585876   \n",
       "30699 -0.544056 -0.585612 -1.255057  -0.337495      1.856663  1.706846   \n",
       "30700 -0.544056  0.518483 -1.255057   0.776405     -0.255898 -0.585876   \n",
       "30701 -0.544056 -0.217581 -1.255057  -0.337495     -0.490627 -0.585876   \n",
       "30702 -0.544056  0.150451 -1.256071   0.958227     -0.842721 -0.585876   \n",
       "\n",
       "      passport_id  \n",
       "308     123560859  \n",
       "309     123560865  \n",
       "310     123561915  \n",
       "311     123561952  \n",
       "313     123562696  \n",
       "...           ...  \n",
       "30698   144977962  \n",
       "30699   144979974  \n",
       "30700   144983244  \n",
       "30701   144983322  \n",
       "30702   144986778  \n",
       "\n",
       "[29753 rows x 7 columns]"
      ]
     },
     "execution_count": 54,
     "metadata": {},
     "output_type": "execute_result"
    }
   ],
   "source": [
    "data_scaled.fit_transform(data)"
   ]
  },
  {
   "cell_type": "markdown",
   "id": "0e654218-672d-41a9-807a-29295d77ad9b",
   "metadata": {},
   "source": [
    "### Task 6. "
   ]
  },
  {
   "cell_type": "markdown",
   "id": "f2cc0059-a131-418f-9def-e6aca607d1c1",
   "metadata": {},
   "source": [
    "**Find the best `eps` parameter for DBSCAN algorithm.**"
   ]
  },
  {
   "cell_type": "code",
   "execution_count": 55,
   "id": "3fe6fe35-dad5-4ffe-bad0-4a9c222594d3",
   "metadata": {},
   "outputs": [],
   "source": [
    "data_scaled_df = pd.DataFrame(data_scaled.fit_transform(data),\n",
    "                              columns=['n_ads', 'n_types', 'days_ago',\n",
    "                                       'log_price', 'mean_n_years', 'buyer', 'passport_id'])"
   ]
  },
  {
   "cell_type": "code",
   "execution_count": 56,
   "id": "82447e1b-0a94-4630-9bdd-de7e3480f709",
   "metadata": {},
   "outputs": [
    {
     "data": {
      "text/html": [
       "<div>\n",
       "<style scoped>\n",
       "    .dataframe tbody tr th:only-of-type {\n",
       "        vertical-align: middle;\n",
       "    }\n",
       "\n",
       "    .dataframe tbody tr th {\n",
       "        vertical-align: top;\n",
       "    }\n",
       "\n",
       "    .dataframe thead th {\n",
       "        text-align: right;\n",
       "    }\n",
       "</style>\n",
       "<table border=\"1\" class=\"dataframe\">\n",
       "  <thead>\n",
       "    <tr style=\"text-align: right;\">\n",
       "      <th></th>\n",
       "      <th>n_ads</th>\n",
       "      <th>n_types</th>\n",
       "      <th>days_ago</th>\n",
       "      <th>log_price</th>\n",
       "      <th>mean_n_years</th>\n",
       "      <th>buyer</th>\n",
       "      <th>passport_id</th>\n",
       "    </tr>\n",
       "  </thead>\n",
       "  <tbody>\n",
       "    <tr>\n",
       "      <th>308</th>\n",
       "      <td>-0.544056</td>\n",
       "      <td>-0.585612</td>\n",
       "      <td>3.333317</td>\n",
       "      <td>0.619651</td>\n",
       "      <td>-0.960085</td>\n",
       "      <td>-0.585876</td>\n",
       "      <td>123560859</td>\n",
       "    </tr>\n",
       "    <tr>\n",
       "      <th>309</th>\n",
       "      <td>-0.544056</td>\n",
       "      <td>-0.585612</td>\n",
       "      <td>3.333317</td>\n",
       "      <td>1.113132</td>\n",
       "      <td>-0.373263</td>\n",
       "      <td>1.706846</td>\n",
       "      <td>123560865</td>\n",
       "    </tr>\n",
       "    <tr>\n",
       "      <th>310</th>\n",
       "      <td>-0.204097</td>\n",
       "      <td>1.622578</td>\n",
       "      <td>3.329262</td>\n",
       "      <td>1.120604</td>\n",
       "      <td>0.382332</td>\n",
       "      <td>1.706846</td>\n",
       "      <td>123561915</td>\n",
       "    </tr>\n",
       "    <tr>\n",
       "      <th>311</th>\n",
       "      <td>-0.374077</td>\n",
       "      <td>-0.217581</td>\n",
       "      <td>3.329262</td>\n",
       "      <td>1.835067</td>\n",
       "      <td>-0.850545</td>\n",
       "      <td>-0.585876</td>\n",
       "      <td>123561952</td>\n",
       "    </tr>\n",
       "    <tr>\n",
       "      <th>313</th>\n",
       "      <td>-0.544056</td>\n",
       "      <td>1.990609</td>\n",
       "      <td>3.327234</td>\n",
       "      <td>1.171393</td>\n",
       "      <td>-1.077450</td>\n",
       "      <td>-0.585876</td>\n",
       "      <td>123562696</td>\n",
       "    </tr>\n",
       "    <tr>\n",
       "      <th>...</th>\n",
       "      <td>...</td>\n",
       "      <td>...</td>\n",
       "      <td>...</td>\n",
       "      <td>...</td>\n",
       "      <td>...</td>\n",
       "      <td>...</td>\n",
       "      <td>...</td>\n",
       "    </tr>\n",
       "    <tr>\n",
       "      <th>30698</th>\n",
       "      <td>-0.544056</td>\n",
       "      <td>-0.953644</td>\n",
       "      <td>-1.254043</td>\n",
       "      <td>-0.519317</td>\n",
       "      <td>-0.725356</td>\n",
       "      <td>-0.585876</td>\n",
       "      <td>144977962</td>\n",
       "    </tr>\n",
       "    <tr>\n",
       "      <th>30699</th>\n",
       "      <td>-0.544056</td>\n",
       "      <td>-0.585612</td>\n",
       "      <td>-1.255057</td>\n",
       "      <td>-0.337495</td>\n",
       "      <td>1.856663</td>\n",
       "      <td>1.706846</td>\n",
       "      <td>144979974</td>\n",
       "    </tr>\n",
       "    <tr>\n",
       "      <th>30700</th>\n",
       "      <td>-0.544056</td>\n",
       "      <td>0.518483</td>\n",
       "      <td>-1.255057</td>\n",
       "      <td>0.776405</td>\n",
       "      <td>-0.255898</td>\n",
       "      <td>-0.585876</td>\n",
       "      <td>144983244</td>\n",
       "    </tr>\n",
       "    <tr>\n",
       "      <th>30701</th>\n",
       "      <td>-0.544056</td>\n",
       "      <td>-0.217581</td>\n",
       "      <td>-1.255057</td>\n",
       "      <td>-0.337495</td>\n",
       "      <td>-0.490627</td>\n",
       "      <td>-0.585876</td>\n",
       "      <td>144983322</td>\n",
       "    </tr>\n",
       "    <tr>\n",
       "      <th>30702</th>\n",
       "      <td>-0.544056</td>\n",
       "      <td>0.150451</td>\n",
       "      <td>-1.256071</td>\n",
       "      <td>0.958227</td>\n",
       "      <td>-0.842721</td>\n",
       "      <td>-0.585876</td>\n",
       "      <td>144986778</td>\n",
       "    </tr>\n",
       "  </tbody>\n",
       "</table>\n",
       "<p>29753 rows × 7 columns</p>\n",
       "</div>"
      ],
      "text/plain": [
       "          n_ads   n_types  days_ago  log_price  mean_n_years     buyer  \\\n",
       "308   -0.544056 -0.585612  3.333317   0.619651     -0.960085 -0.585876   \n",
       "309   -0.544056 -0.585612  3.333317   1.113132     -0.373263  1.706846   \n",
       "310   -0.204097  1.622578  3.329262   1.120604      0.382332  1.706846   \n",
       "311   -0.374077 -0.217581  3.329262   1.835067     -0.850545 -0.585876   \n",
       "313   -0.544056  1.990609  3.327234   1.171393     -1.077450 -0.585876   \n",
       "...         ...       ...       ...        ...           ...       ...   \n",
       "30698 -0.544056 -0.953644 -1.254043  -0.519317     -0.725356 -0.585876   \n",
       "30699 -0.544056 -0.585612 -1.255057  -0.337495      1.856663  1.706846   \n",
       "30700 -0.544056  0.518483 -1.255057   0.776405     -0.255898 -0.585876   \n",
       "30701 -0.544056 -0.217581 -1.255057  -0.337495     -0.490627 -0.585876   \n",
       "30702 -0.544056  0.150451 -1.256071   0.958227     -0.842721 -0.585876   \n",
       "\n",
       "      passport_id  \n",
       "308     123560859  \n",
       "309     123560865  \n",
       "310     123561915  \n",
       "311     123561952  \n",
       "313     123562696  \n",
       "...           ...  \n",
       "30698   144977962  \n",
       "30699   144979974  \n",
       "30700   144983244  \n",
       "30701   144983322  \n",
       "30702   144986778  \n",
       "\n",
       "[29753 rows x 7 columns]"
      ]
     },
     "execution_count": 56,
     "metadata": {},
     "output_type": "execute_result"
    }
   ],
   "source": [
    "data_scaled_df"
   ]
  },
  {
   "cell_type": "code",
   "execution_count": 57,
   "id": "6da13e0d-c298-46a0-8626-a655c2390d2f",
   "metadata": {},
   "outputs": [],
   "source": [
    "data_scaled_df = data_scaled_df.drop('passport_id', axis=1)"
   ]
  },
  {
   "cell_type": "code",
   "execution_count": 58,
   "id": "c1469498-e4db-4b00-8cfb-f4f13fa9ffaa",
   "metadata": {},
   "outputs": [],
   "source": [
    "eps_lst = [0.1, 0.3, 0.5, 0.7, 1, 1.5, 2, 2.5, 3, 4, 5]\n",
    "ans_dct = dict()\n",
    "\n",
    "for e in eps_lst[:7]:\n",
    "    dbscan = DBSCAN(eps=e, n_jobs=1)\n",
    "    dbscan.fit(data_scaled_df)\n",
    "    result = dbscan.labels_\n",
    "    \n",
    "    if len(set(result)) >= 3:\n",
    "        silhouette_ = silhouette_score(data_scaled_df, result)\n",
    "        ans_dct[e] = silhouette_"
   ]
  },
  {
   "cell_type": "code",
   "execution_count": 59,
   "id": "b76c7516-5d79-4f5a-92fb-1cd5726ffded",
   "metadata": {},
   "outputs": [
    {
     "data": {
      "text/plain": [
       "{0.1: -0.4452655456650513,\n",
       " 0.3: -0.5235852178766666,\n",
       " 0.5: -0.2772561952814787,\n",
       " 0.7: 0.08888415249661195,\n",
       " 1: 0.21783758336565262,\n",
       " 1.5: 0.23774671652733215,\n",
       " 2: 0.23946201521263877}"
      ]
     },
     "execution_count": 59,
     "metadata": {},
     "output_type": "execute_result"
    }
   ],
   "source": [
    "ans_dct"
   ]
  },
  {
   "cell_type": "markdown",
   "id": "b1d08635-02e3-48de-8c7f-086bd84ebc85",
   "metadata": {},
   "source": [
    "### Task 7. "
   ]
  },
  {
   "cell_type": "markdown",
   "id": "8ca7c2df-46ed-4155-8f72-f9f72007f1c7",
   "metadata": {},
   "source": [
    "**Find amount of clusters and number of items in them for the best `eps` parameter obtained on the previous step.**"
   ]
  },
  {
   "cell_type": "code",
   "execution_count": 60,
   "id": "df2b4856-b433-46e9-8b33-64fe835e309a",
   "metadata": {},
   "outputs": [],
   "source": [
    "max_v = -1\n",
    "max_k = 0\n",
    "\n",
    "for k, v in ans_dct.items():\n",
    "    if v > max_v:\n",
    "        max_v = v\n",
    "        max_k = k"
   ]
  },
  {
   "cell_type": "code",
   "execution_count": 61,
   "id": "1933f41f-0940-4b35-b88c-bc3c111d9f1b",
   "metadata": {},
   "outputs": [
    {
     "name": "stdout",
     "output_type": "stream",
     "text": [
      "[[   -1     8]\n",
      " [    0 22147]\n",
      " [    1  7598]]\n"
     ]
    }
   ],
   "source": [
    "dbscan = DBSCAN(eps=max_k, n_jobs=1)\n",
    "dbscan.fit(data_scaled_df)\n",
    "result = dbscan.labels_\n",
    "\n",
    "unique, counts = np.unique(result, return_counts=True)\n",
    "print(np.asarray((unique, counts)).T)"
   ]
  },
  {
   "cell_type": "markdown",
   "id": "8f12cad3-0ca6-4913-8558-3dfbdaf8043f",
   "metadata": {},
   "source": [
    "### Task 8. "
   ]
  },
  {
   "cell_type": "markdown",
   "id": "303c769d-dc3d-44c6-a7fa-5946399ad624",
   "metadata": {},
   "source": [
    "**Find optimal number of clusters using kMeans algorithm.**"
   ]
  },
  {
   "cell_type": "code",
   "execution_count": 62,
   "id": "41fcb33f-e791-4893-aca4-fa3bff241f50",
   "metadata": {},
   "outputs": [
    {
     "data": {
      "text/html": [
       "<div>\n",
       "<style scoped>\n",
       "    .dataframe tbody tr th:only-of-type {\n",
       "        vertical-align: middle;\n",
       "    }\n",
       "\n",
       "    .dataframe tbody tr th {\n",
       "        vertical-align: top;\n",
       "    }\n",
       "\n",
       "    .dataframe thead th {\n",
       "        text-align: right;\n",
       "    }\n",
       "</style>\n",
       "<table border=\"1\" class=\"dataframe\">\n",
       "  <thead>\n",
       "    <tr style=\"text-align: right;\">\n",
       "      <th></th>\n",
       "      <th>n_ads</th>\n",
       "      <th>n_types</th>\n",
       "      <th>days_ago</th>\n",
       "      <th>log_price</th>\n",
       "      <th>mean_n_years</th>\n",
       "      <th>buyer</th>\n",
       "    </tr>\n",
       "  </thead>\n",
       "  <tbody>\n",
       "    <tr>\n",
       "      <th>308</th>\n",
       "      <td>-0.544056</td>\n",
       "      <td>-0.585612</td>\n",
       "      <td>3.333317</td>\n",
       "      <td>0.619651</td>\n",
       "      <td>-0.960085</td>\n",
       "      <td>-0.585876</td>\n",
       "    </tr>\n",
       "    <tr>\n",
       "      <th>309</th>\n",
       "      <td>-0.544056</td>\n",
       "      <td>-0.585612</td>\n",
       "      <td>3.333317</td>\n",
       "      <td>1.113132</td>\n",
       "      <td>-0.373263</td>\n",
       "      <td>1.706846</td>\n",
       "    </tr>\n",
       "    <tr>\n",
       "      <th>310</th>\n",
       "      <td>-0.204097</td>\n",
       "      <td>1.622578</td>\n",
       "      <td>3.329262</td>\n",
       "      <td>1.120604</td>\n",
       "      <td>0.382332</td>\n",
       "      <td>1.706846</td>\n",
       "    </tr>\n",
       "    <tr>\n",
       "      <th>311</th>\n",
       "      <td>-0.374077</td>\n",
       "      <td>-0.217581</td>\n",
       "      <td>3.329262</td>\n",
       "      <td>1.835067</td>\n",
       "      <td>-0.850545</td>\n",
       "      <td>-0.585876</td>\n",
       "    </tr>\n",
       "    <tr>\n",
       "      <th>313</th>\n",
       "      <td>-0.544056</td>\n",
       "      <td>1.990609</td>\n",
       "      <td>3.327234</td>\n",
       "      <td>1.171393</td>\n",
       "      <td>-1.077450</td>\n",
       "      <td>-0.585876</td>\n",
       "    </tr>\n",
       "    <tr>\n",
       "      <th>...</th>\n",
       "      <td>...</td>\n",
       "      <td>...</td>\n",
       "      <td>...</td>\n",
       "      <td>...</td>\n",
       "      <td>...</td>\n",
       "      <td>...</td>\n",
       "    </tr>\n",
       "    <tr>\n",
       "      <th>30698</th>\n",
       "      <td>-0.544056</td>\n",
       "      <td>-0.953644</td>\n",
       "      <td>-1.254043</td>\n",
       "      <td>-0.519317</td>\n",
       "      <td>-0.725356</td>\n",
       "      <td>-0.585876</td>\n",
       "    </tr>\n",
       "    <tr>\n",
       "      <th>30699</th>\n",
       "      <td>-0.544056</td>\n",
       "      <td>-0.585612</td>\n",
       "      <td>-1.255057</td>\n",
       "      <td>-0.337495</td>\n",
       "      <td>1.856663</td>\n",
       "      <td>1.706846</td>\n",
       "    </tr>\n",
       "    <tr>\n",
       "      <th>30700</th>\n",
       "      <td>-0.544056</td>\n",
       "      <td>0.518483</td>\n",
       "      <td>-1.255057</td>\n",
       "      <td>0.776405</td>\n",
       "      <td>-0.255898</td>\n",
       "      <td>-0.585876</td>\n",
       "    </tr>\n",
       "    <tr>\n",
       "      <th>30701</th>\n",
       "      <td>-0.544056</td>\n",
       "      <td>-0.217581</td>\n",
       "      <td>-1.255057</td>\n",
       "      <td>-0.337495</td>\n",
       "      <td>-0.490627</td>\n",
       "      <td>-0.585876</td>\n",
       "    </tr>\n",
       "    <tr>\n",
       "      <th>30702</th>\n",
       "      <td>-0.544056</td>\n",
       "      <td>0.150451</td>\n",
       "      <td>-1.256071</td>\n",
       "      <td>0.958227</td>\n",
       "      <td>-0.842721</td>\n",
       "      <td>-0.585876</td>\n",
       "    </tr>\n",
       "  </tbody>\n",
       "</table>\n",
       "<p>29753 rows × 6 columns</p>\n",
       "</div>"
      ],
      "text/plain": [
       "          n_ads   n_types  days_ago  log_price  mean_n_years     buyer\n",
       "308   -0.544056 -0.585612  3.333317   0.619651     -0.960085 -0.585876\n",
       "309   -0.544056 -0.585612  3.333317   1.113132     -0.373263  1.706846\n",
       "310   -0.204097  1.622578  3.329262   1.120604      0.382332  1.706846\n",
       "311   -0.374077 -0.217581  3.329262   1.835067     -0.850545 -0.585876\n",
       "313   -0.544056  1.990609  3.327234   1.171393     -1.077450 -0.585876\n",
       "...         ...       ...       ...        ...           ...       ...\n",
       "30698 -0.544056 -0.953644 -1.254043  -0.519317     -0.725356 -0.585876\n",
       "30699 -0.544056 -0.585612 -1.255057  -0.337495      1.856663  1.706846\n",
       "30700 -0.544056  0.518483 -1.255057   0.776405     -0.255898 -0.585876\n",
       "30701 -0.544056 -0.217581 -1.255057  -0.337495     -0.490627 -0.585876\n",
       "30702 -0.544056  0.150451 -1.256071   0.958227     -0.842721 -0.585876\n",
       "\n",
       "[29753 rows x 6 columns]"
      ]
     },
     "execution_count": 62,
     "metadata": {},
     "output_type": "execute_result"
    }
   ],
   "source": [
    "data_scaled_df"
   ]
  },
  {
   "cell_type": "code",
   "execution_count": 63,
   "id": "6df17bd3-fbe7-4929-b1f0-8c168f332ab9",
   "metadata": {},
   "outputs": [],
   "source": [
    "clusters_lst = list(range(3, 11))\n",
    "ans_dct = dict()\n",
    "\n",
    "for cluster in clusters_lst:\n",
    "    kmeans = KMeans(n_clusters=cluster, random_state=42, n_init=1)\n",
    "    kmeans.fit(data_scaled_df)\n",
    "    \n",
    "    silhouette_ = silhouette_score(data_scaled_df, kmeans.labels_)\n",
    "    ans_dct[cluster] = silhouette_"
   ]
  },
  {
   "cell_type": "code",
   "execution_count": 64,
   "id": "c9925157-6819-453b-9c0a-747f4b5ed4c4",
   "metadata": {},
   "outputs": [
    {
     "data": {
      "text/plain": [
       "{3: 0.2533982974016961,\n",
       " 4: 0.2659711205644356,\n",
       " 5: 0.272211382600396,\n",
       " 6: 0.26189671122808983,\n",
       " 7: 0.22113167852769033,\n",
       " 8: 0.23016407137655182,\n",
       " 9: 0.23873260402521662,\n",
       " 10: 0.23906636388802543}"
      ]
     },
     "execution_count": 64,
     "metadata": {},
     "output_type": "execute_result"
    }
   ],
   "source": [
    "ans_dct"
   ]
  },
  {
   "cell_type": "markdown",
   "id": "35a0c2b5-0efb-4744-a3c3-4b97813c8597",
   "metadata": {},
   "source": [
    "### Task 9. "
   ]
  },
  {
   "cell_type": "markdown",
   "id": "b006f7c1-48e0-4b90-a8bd-b19ac1de6210",
   "metadata": {},
   "source": [
    "**Use the best `silhoutte_score` parameter for your model. Find the number of users in the smallest cluster.**"
   ]
  },
  {
   "cell_type": "code",
   "execution_count": 65,
   "id": "8790174e-e8e9-4844-a9d7-823c7e6a47f6",
   "metadata": {},
   "outputs": [
    {
     "name": "stdout",
     "output_type": "stream",
     "text": [
      "5 clusters have the best silhoutte_score: 0.272211382600396\n"
     ]
    }
   ],
   "source": [
    "max_v = -1\n",
    "max_k = 0\n",
    "\n",
    "for k, v in ans_dct.items():\n",
    "    if v > max_v:\n",
    "        max_v = v\n",
    "        max_k = k\n",
    "        \n",
    "print(f'{max_k} clusters have the best silhoutte_score: {max_v}')"
   ]
  },
  {
   "cell_type": "code",
   "execution_count": 66,
   "id": "d7b460cf-c135-4787-ba72-c493753e6002",
   "metadata": {},
   "outputs": [
    {
     "name": "stdout",
     "output_type": "stream",
     "text": [
      "Silhoutte_score: 0.272211382600396\n",
      "[[    0  6377]\n",
      " [    1 11223]\n",
      " [    2  2928]\n",
      " [    3  1681]\n",
      " [    4  7544]]\n"
     ]
    }
   ],
   "source": [
    "kmeans = KMeans(n_clusters=max_k, random_state=42, n_init=1)\n",
    "kmeans.fit(data_scaled_df)\n",
    "\n",
    "print(f'Silhoutte_score: {silhouette_score(data_scaled_df, kmeans.labels_)}')\n",
    "\n",
    "unique, counts = np.unique(kmeans.labels_, return_counts=True)\n",
    "print(np.asarray((unique, counts)).T)"
   ]
  },
  {
   "cell_type": "code",
   "execution_count": 67,
   "id": "bec669e2-396e-48ce-9c59-0cffb899980b",
   "metadata": {},
   "outputs": [
    {
     "data": {
      "text/html": [
       "<div>\n",
       "<style scoped>\n",
       "    .dataframe tbody tr th:only-of-type {\n",
       "        vertical-align: middle;\n",
       "    }\n",
       "\n",
       "    .dataframe tbody tr th {\n",
       "        vertical-align: top;\n",
       "    }\n",
       "\n",
       "    .dataframe thead th {\n",
       "        text-align: right;\n",
       "    }\n",
       "</style>\n",
       "<table border=\"1\" class=\"dataframe\">\n",
       "  <thead>\n",
       "    <tr style=\"text-align: right;\">\n",
       "      <th></th>\n",
       "      <th>passport_id</th>\n",
       "      <th>n_ads</th>\n",
       "      <th>n_types</th>\n",
       "      <th>days_ago</th>\n",
       "      <th>log_price</th>\n",
       "      <th>mean_n_years</th>\n",
       "      <th>buyer</th>\n",
       "      <th>cluster</th>\n",
       "    </tr>\n",
       "  </thead>\n",
       "  <tbody>\n",
       "    <tr>\n",
       "      <th>308</th>\n",
       "      <td>123560859</td>\n",
       "      <td>1</td>\n",
       "      <td>2</td>\n",
       "      <td>4527</td>\n",
       "      <td>13.753635</td>\n",
       "      <td>9.000000</td>\n",
       "      <td>0</td>\n",
       "      <td>2</td>\n",
       "    </tr>\n",
       "    <tr>\n",
       "      <th>309</th>\n",
       "      <td>123560865</td>\n",
       "      <td>1</td>\n",
       "      <td>2</td>\n",
       "      <td>4527</td>\n",
       "      <td>14.248473</td>\n",
       "      <td>14.000000</td>\n",
       "      <td>1</td>\n",
       "      <td>2</td>\n",
       "    </tr>\n",
       "    <tr>\n",
       "      <th>310</th>\n",
       "      <td>123561915</td>\n",
       "      <td>3</td>\n",
       "      <td>8</td>\n",
       "      <td>4523</td>\n",
       "      <td>14.255965</td>\n",
       "      <td>20.438017</td>\n",
       "      <td>1</td>\n",
       "      <td>2</td>\n",
       "    </tr>\n",
       "    <tr>\n",
       "      <th>311</th>\n",
       "      <td>123561952</td>\n",
       "      <td>2</td>\n",
       "      <td>3</td>\n",
       "      <td>4523</td>\n",
       "      <td>14.972392</td>\n",
       "      <td>9.933333</td>\n",
       "      <td>0</td>\n",
       "      <td>2</td>\n",
       "    </tr>\n",
       "    <tr>\n",
       "      <th>313</th>\n",
       "      <td>123562696</td>\n",
       "      <td>1</td>\n",
       "      <td>9</td>\n",
       "      <td>4521</td>\n",
       "      <td>14.306894</td>\n",
       "      <td>8.000000</td>\n",
       "      <td>0</td>\n",
       "      <td>2</td>\n",
       "    </tr>\n",
       "  </tbody>\n",
       "</table>\n",
       "</div>"
      ],
      "text/plain": [
       "    passport_id  n_ads  n_types  days_ago  log_price  mean_n_years  buyer  \\\n",
       "308   123560859      1        2      4527  13.753635      9.000000      0   \n",
       "309   123560865      1        2      4527  14.248473     14.000000      1   \n",
       "310   123561915      3        8      4523  14.255965     20.438017      1   \n",
       "311   123561952      2        3      4523  14.972392      9.933333      0   \n",
       "313   123562696      1        9      4521  14.306894      8.000000      0   \n",
       "\n",
       "     cluster  \n",
       "308        2  \n",
       "309        2  \n",
       "310        2  \n",
       "311        2  \n",
       "313        2  "
      ]
     },
     "execution_count": 67,
     "metadata": {},
     "output_type": "execute_result"
    }
   ],
   "source": [
    "data['cluster'] = kmeans.labels_\n",
    "data.head()"
   ]
  },
  {
   "cell_type": "code",
   "execution_count": 68,
   "id": "fc3c94ba-18a6-4c39-abe7-762a6ac04dda",
   "metadata": {},
   "outputs": [
    {
     "data": {
      "text/plain": [
       "1    11223\n",
       "4     7544\n",
       "0     6377\n",
       "2     2928\n",
       "3     1681\n",
       "Name: cluster, dtype: int64"
      ]
     },
     "execution_count": 68,
     "metadata": {},
     "output_type": "execute_result"
    }
   ],
   "source": [
    "data.cluster.value_counts()"
   ]
  },
  {
   "cell_type": "code",
   "execution_count": 69,
   "id": "982fec4a-1715-4c00-8956-2fd41879a0da",
   "metadata": {},
   "outputs": [
    {
     "data": {
      "image/png": "[encoded data removed]",
      "text/plain": [
       "<Figure size 1152x648 with 1 Axes>"
      ]
     },
     "metadata": {
      "needs_background": "light"
     },
     "output_type": "display_data"
    }
   ],
   "source": [
    "plt.figure(figsize=(16, 9))\n",
    "sns.barplot(x=data.cluster.value_counts().index, y=data.cluster.value_counts().to_list());"
   ]
  },
  {
   "cell_type": "markdown",
   "id": "e0d0b025-bcfe-44a4-9837-83a010655ef0",
   "metadata": {},
   "source": [
    "### Task 10. "
   ]
  },
  {
   "cell_type": "markdown",
   "id": "d4584cb6-6079-4ae6-91ff-25eb9528e005",
   "metadata": {},
   "source": [
    "**tbc..**"
   ]
  },
  {
   "cell_type": "code",
   "execution_count": null,
   "id": "a5fc42d8-aa08-4a28-b74e-6034d808d417",
   "metadata": {},
   "outputs": [],
   "source": []
  },
  {
   "cell_type": "code",
   "execution_count": null,
   "id": "97709686-0ce4-4a17-96bb-f0b94190341f",
   "metadata": {},
   "outputs": [],
   "source": []
  },
  {
   "cell_type": "code",
   "execution_count": null,
   "id": "b5f67b13-0a9c-4141-8b97-88a251da3b6d",
   "metadata": {},
   "outputs": [],
   "source": []
  },
  {
   "cell_type": "code",
   "execution_count": null,
   "id": "a46c236e-c76e-43cc-8a4e-ca9d5e2661c6",
   "metadata": {},
   "outputs": [],
   "source": []
  },
  {
   "cell_type": "code",
   "execution_count": null,
   "id": "63d4f03f-4613-4f9e-bfed-b6e5ee199efb",
   "metadata": {},
   "outputs": [],
   "source": []
  },
  {
   "cell_type": "code",
   "execution_count": null,
   "id": "b8a2fce0-b90d-4d6c-81b5-7e3bee3d174c",
   "metadata": {},
   "outputs": [],
   "source": []
  },
  {
   "cell_type": "code",
   "execution_count": null,
   "id": "527268d0-5b71-439e-a2f0-ff9469e236bb",
   "metadata": {},
   "outputs": [],
   "source": []
  },
  {
   "cell_type": "code",
   "execution_count": null,
   "id": "cc7c8580-2c89-4f27-82ac-52e9c65d0565",
   "metadata": {},
   "outputs": [],
   "source": []
  }
 ],
 "metadata": {
  "kernelspec": {
   "display_name": "Python 3 (ipykernel)",
   "language": "python",
   "name": "python3"
  },
  "language_info": {
   "codemirror_mode": {
    "name": "ipython",
    "version": 3
   },
   "file_extension": ".py",
   "mimetype": "text/x-python",
   "name": "python",
   "nbconvert_exporter": "python",
   "pygments_lexer": "ipython3",
   "version": "3.8.10"
  }
 },
 "nbformat": 4,
 "nbformat_minor": 5
}
