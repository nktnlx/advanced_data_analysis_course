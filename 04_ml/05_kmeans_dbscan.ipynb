{
 "cells": [
  {
   "cell_type": "markdown",
   "id": "e23e1516-6e75-4e85-bf5b-0011204c6bf9",
   "metadata": {},
   "source": [
    "# kMeans, DBSCAN"
   ]
  },
  {
   "cell_type": "markdown",
   "id": "8ad67dba-80ad-46c5-ade5-7ce6464e9f6c",
   "metadata": {},
   "source": [
    "## Import libraries"
   ]
  },
  {
   "cell_type": "code",
   "execution_count": 1,
   "id": "68a96dd2-7683-418d-bff2-7b13d50a9765",
   "metadata": {},
   "outputs": [],
   "source": [
    "import pandas as pd\n",
    "import numpy as np\n",
    "import seaborn as sns\n",
    "import matplotlib.pyplot as plt\n",
    "\n",
    "from sklearn.compose import make_column_selector as selector\n",
    "from sklearn.compose import ColumnTransformer\n",
    "from sklearn.preprocessing import OneHotEncoder, StandardScaler\n",
    "from sklearn.pipeline import Pipeline\n",
    "from sklearn.cluster import DBSCAN\n",
    "from sklearn.cluster import KMeans\n",
    "from sklearn.metrics import silhouette_score\n",
    "from sklearn.decomposition import PCA\n",
    "\n",
    "\n",
    "import warnings\n",
    "warnings.filterwarnings('ignore')"
   ]
  },
  {
   "cell_type": "code",
   "execution_count": 2,
   "id": "c4490738-d320-4fd6-b131-75b67212e4b6",
   "metadata": {},
   "outputs": [
    {
     "name": "stdout",
     "output_type": "stream",
     "text": [
      "(datetime.date(2022, 2, 1), datetime.date(2022, 1, 31), 'android', 'f7411212fd0e2523e126cbfdd3f226c211212', '4beb10e1-aeeb-4c52-acd2-ce1ddbc1fc24b10e1', 22, 11, 3, 0, 0, 0, 2, 2, 0, 0, 0, 0, 0, 0)\n"
     ]
    }
   ],
   "source": [
    "from clickhouse_driver import Client\n",
    "\n",
    "\n",
    "user_name = 'user'\n",
    "pwd = 'password'\n",
    "\n",
    "# creating connection ClickHouse\n",
    "client = Client(host='clickhouse.lab.karpov.courses', port=9000,\n",
    "                user=user_name, password=pwd, database='hardda')\n",
    "\n",
    "# checking connection\n",
    "result = client.execute(\"SELECT * FROM hardda.user_dm_events LIMIT 1\")\n",
    "\n",
    "# showing the result\n",
    "for row in result[0:1]:\n",
    "    print(row)"
   ]
  },
  {
   "cell_type": "markdown",
   "id": "b6e6fc11-f7c5-4ada-a6de-eda65591c0aa",
   "metadata": {},
   "source": [
    "## Tasks"
   ]
  },
  {
   "cell_type": "markdown",
   "id": "7c334d62-e699-49c4-bb27-367395721dfd",
   "metadata": {},
   "source": [
    "### Task 1."
   ]
  },
  {
   "cell_type": "markdown",
   "id": "dcb63d57-d2f7-4948-9b43-92b2ac608650",
   "metadata": {},
   "source": [
    " **Write an SQL query to load the data.**"
   ]
  },
  {
   "cell_type": "markdown",
   "id": "c506f5ed-fd16-49fa-900b-69d13b7cc400",
   "metadata": {},
   "source": [
    "`user_passports`"
   ]
  },
  {
   "cell_type": "code",
   "execution_count": 3,
   "id": "3769621b-c453-45b1-bcc2-aab75350f025",
   "metadata": {},
   "outputs": [
    {
     "data": {
      "text/plain": [
       "[('execution_date', 'Date', '', '', '', '', ''),\n",
       " ('passport_id', 'UInt32', '', '', '', '', ''),\n",
       " ('global_id', 'UInt32', '', '', '', '', ''),\n",
       " ('created_at', 'DateTime', '', '', '', '', ''),\n",
       " ('user_type_id', 'UInt32', '', '', '', '', ''),\n",
       " ('user_type_name', 'String', '', '', '', '', ''),\n",
       " ('user_type_changed_at', 'DateTime', '', '', '', '', ''),\n",
       " ('user_type_cars_id', 'UInt32', '', '', '', '', ''),\n",
       " ('user_type_cars_name', 'String', '', '', '', '', ''),\n",
       " ('user_type_cars_changed_at', 'DateTime', '', '', '', '', '')]"
      ]
     },
     "execution_count": 3,
     "metadata": {},
     "output_type": "execute_result"
    }
   ],
   "source": [
    "user_passports_desc = client.execute(\"\"\"\n",
    "DESCRIBE TABLE user_passports\n",
    "\"\"\")\n",
    "\n",
    "user_passports_desc"
   ]
  },
  {
   "cell_type": "code",
   "execution_count": 4,
   "id": "802e58df-ff45-436c-9e07-d7e1938c99f6",
   "metadata": {},
   "outputs": [],
   "source": [
    "query = '''\n",
    "SELECT \n",
    "  up.*\n",
    "FROM \n",
    "  user_passports up\n",
    "'''"
   ]
  },
  {
   "cell_type": "code",
   "execution_count": 5,
   "id": "79f55eb9-3a10-4e28-8ad7-fc757a3dfc4c",
   "metadata": {},
   "outputs": [],
   "source": [
    "result = client.execute(query)"
   ]
  },
  {
   "cell_type": "code",
   "execution_count": 6,
   "id": "696ddd1c-e229-4578-9a7c-707005ed4af8",
   "metadata": {},
   "outputs": [
    {
     "data": {
      "text/plain": [
       "2780181"
      ]
     },
     "execution_count": 6,
     "metadata": {},
     "output_type": "execute_result"
    }
   ],
   "source": [
    "len(result)"
   ]
  },
  {
   "cell_type": "code",
   "execution_count": 7,
   "id": "bd243faf-3421-4046-9ab1-c788dc95035e",
   "metadata": {},
   "outputs": [
    {
     "data": {
      "text/html": [
       "<div>\n",
       "<style scoped>\n",
       "    .dataframe tbody tr th:only-of-type {\n",
       "        vertical-align: middle;\n",
       "    }\n",
       "\n",
       "    .dataframe tbody tr th {\n",
       "        vertical-align: top;\n",
       "    }\n",
       "\n",
       "    .dataframe thead th {\n",
       "        text-align: right;\n",
       "    }\n",
       "</style>\n",
       "<table border=\"1\" class=\"dataframe\">\n",
       "  <thead>\n",
       "    <tr style=\"text-align: right;\">\n",
       "      <th></th>\n",
       "      <th>execution_date</th>\n",
       "      <th>passport_id</th>\n",
       "      <th>global_id</th>\n",
       "      <th>created_at</th>\n",
       "      <th>user_type_id</th>\n",
       "      <th>user_type_name</th>\n",
       "      <th>user_type_changed_at</th>\n",
       "      <th>user_type_cars_id</th>\n",
       "      <th>user_type_cars_name</th>\n",
       "      <th>user_type_cars_changed_at</th>\n",
       "    </tr>\n",
       "  </thead>\n",
       "  <tbody>\n",
       "    <tr>\n",
       "      <th>0</th>\n",
       "      <td>2023-01-31</td>\n",
       "      <td>142628770</td>\n",
       "      <td>147573771</td>\n",
       "      <td>2021-11-29 20:19:13</td>\n",
       "      <td>0</td>\n",
       "      <td>simple_user</td>\n",
       "      <td>2106-02-07 06:28:16</td>\n",
       "      <td>0</td>\n",
       "      <td>cars_simple</td>\n",
       "      <td>2106-02-07 06:28:16</td>\n",
       "    </tr>\n",
       "    <tr>\n",
       "      <th>1</th>\n",
       "      <td>2023-01-31</td>\n",
       "      <td>134554897</td>\n",
       "      <td>138434457</td>\n",
       "      <td>2019-03-25 22:38:32</td>\n",
       "      <td>0</td>\n",
       "      <td>simple_user</td>\n",
       "      <td>2106-02-07 06:28:16</td>\n",
       "      <td>0</td>\n",
       "      <td>cars_simple</td>\n",
       "      <td>2106-02-07 06:28:16</td>\n",
       "    </tr>\n",
       "    <tr>\n",
       "      <th>2</th>\n",
       "      <td>2023-01-31</td>\n",
       "      <td>134604257</td>\n",
       "      <td>138479404</td>\n",
       "      <td>2019-03-29 12:07:31</td>\n",
       "      <td>0</td>\n",
       "      <td>simple_user</td>\n",
       "      <td>2106-02-07 06:28:16</td>\n",
       "      <td>0</td>\n",
       "      <td>cars_simple</td>\n",
       "      <td>2106-02-07 06:28:16</td>\n",
       "    </tr>\n",
       "    <tr>\n",
       "      <th>3</th>\n",
       "      <td>2023-01-31</td>\n",
       "      <td>134611349</td>\n",
       "      <td>138489998</td>\n",
       "      <td>2019-03-30 09:16:51</td>\n",
       "      <td>0</td>\n",
       "      <td>simple_user</td>\n",
       "      <td>2106-02-07 06:28:16</td>\n",
       "      <td>0</td>\n",
       "      <td>cars_simple</td>\n",
       "      <td>2106-02-07 06:28:16</td>\n",
       "    </tr>\n",
       "    <tr>\n",
       "      <th>4</th>\n",
       "      <td>2023-01-31</td>\n",
       "      <td>134698167</td>\n",
       "      <td>138621384</td>\n",
       "      <td>2019-04-09 16:14:42</td>\n",
       "      <td>0</td>\n",
       "      <td>simple_user</td>\n",
       "      <td>2106-02-07 06:28:16</td>\n",
       "      <td>0</td>\n",
       "      <td>cars_simple</td>\n",
       "      <td>2106-02-07 06:28:16</td>\n",
       "    </tr>\n",
       "  </tbody>\n",
       "</table>\n",
       "</div>"
      ],
      "text/plain": [
       "  execution_date  passport_id  global_id          created_at  user_type_id  \\\n",
       "0     2023-01-31    142628770  147573771 2021-11-29 20:19:13             0   \n",
       "1     2023-01-31    134554897  138434457 2019-03-25 22:38:32             0   \n",
       "2     2023-01-31    134604257  138479404 2019-03-29 12:07:31             0   \n",
       "3     2023-01-31    134611349  138489998 2019-03-30 09:16:51             0   \n",
       "4     2023-01-31    134698167  138621384 2019-04-09 16:14:42             0   \n",
       "\n",
       "  user_type_name user_type_changed_at  user_type_cars_id user_type_cars_name  \\\n",
       "0    simple_user  2106-02-07 06:28:16                  0         cars_simple   \n",
       "1    simple_user  2106-02-07 06:28:16                  0         cars_simple   \n",
       "2    simple_user  2106-02-07 06:28:16                  0         cars_simple   \n",
       "3    simple_user  2106-02-07 06:28:16                  0         cars_simple   \n",
       "4    simple_user  2106-02-07 06:28:16                  0         cars_simple   \n",
       "\n",
       "  user_type_cars_changed_at  \n",
       "0       2106-02-07 06:28:16  \n",
       "1       2106-02-07 06:28:16  \n",
       "2       2106-02-07 06:28:16  \n",
       "3       2106-02-07 06:28:16  \n",
       "4       2106-02-07 06:28:16  "
      ]
     },
     "execution_count": 7,
     "metadata": {},
     "output_type": "execute_result"
    }
   ],
   "source": [
    "user_passports_df = pd.DataFrame(result, \n",
    "                  columns=['execution_date', 'passport_id',\n",
    "                           'global_id', 'created_at',\n",
    "                           'user_type_id', 'user_type_name',\n",
    "                           'user_type_changed_at', 'user_type_cars_id',\n",
    "                           'user_type_cars_name', 'user_type_cars_changed_at'\n",
    "                           ])\n",
    "\n",
    "user_passports_df.head()"
   ]
  },
  {
   "cell_type": "code",
   "execution_count": 8,
   "id": "e95035ac-c272-43ad-80c9-104287bc87a0",
   "metadata": {},
   "outputs": [
    {
     "name": "stdout",
     "output_type": "stream",
     "text": [
      "<class 'pandas.core.frame.DataFrame'>\n",
      "RangeIndex: 2780181 entries, 0 to 2780180\n",
      "Data columns (total 10 columns):\n",
      " #   Column                     Dtype         \n",
      "---  ------                     -----         \n",
      " 0   execution_date             object        \n",
      " 1   passport_id                int64         \n",
      " 2   global_id                  int64         \n",
      " 3   created_at                 datetime64[ns]\n",
      " 4   user_type_id               int64         \n",
      " 5   user_type_name             object        \n",
      " 6   user_type_changed_at       datetime64[ns]\n",
      " 7   user_type_cars_id          int64         \n",
      " 8   user_type_cars_name        object        \n",
      " 9   user_type_cars_changed_at  datetime64[ns]\n",
      "dtypes: datetime64[ns](3), int64(4), object(3)\n",
      "memory usage: 212.1+ MB\n"
     ]
    }
   ],
   "source": [
    "user_passports_df.info()"
   ]
  },
  {
   "cell_type": "code",
   "execution_count": 9,
   "id": "b46c1444-faa2-4574-87a4-b1cf025ad5f4",
   "metadata": {},
   "outputs": [],
   "source": [
    "user_passports_df['execution_date'] = pd.to_datetime(user_passports_df['execution_date'], format='%Y-%m-%d')"
   ]
  },
  {
   "cell_type": "code",
   "execution_count": 10,
   "id": "d2fc9d6a-f9b3-4a15-8a79-2664fe11664a",
   "metadata": {},
   "outputs": [
    {
     "name": "stdout",
     "output_type": "stream",
     "text": [
      "<class 'pandas.core.frame.DataFrame'>\n",
      "RangeIndex: 2780181 entries, 0 to 2780180\n",
      "Data columns (total 10 columns):\n",
      " #   Column                     Dtype         \n",
      "---  ------                     -----         \n",
      " 0   execution_date             datetime64[ns]\n",
      " 1   passport_id                int64         \n",
      " 2   global_id                  int64         \n",
      " 3   created_at                 datetime64[ns]\n",
      " 4   user_type_id               int64         \n",
      " 5   user_type_name             object        \n",
      " 6   user_type_changed_at       datetime64[ns]\n",
      " 7   user_type_cars_id          int64         \n",
      " 8   user_type_cars_name        object        \n",
      " 9   user_type_cars_changed_at  datetime64[ns]\n",
      "dtypes: datetime64[ns](4), int64(4), object(2)\n",
      "memory usage: 212.1+ MB\n"
     ]
    }
   ],
   "source": [
    "user_passports_df.info()"
   ]
  },
  {
   "cell_type": "markdown",
   "id": "aa9db64e-c9c5-4a7d-89a7-ab79b1c0450a",
   "metadata": {},
   "source": [
    "`live_adverts`"
   ]
  },
  {
   "cell_type": "code",
   "execution_count": 11,
   "id": "f5bec0ef-cd29-4cdb-a3bb-ef3dd9a9a419",
   "metadata": {},
   "outputs": [
    {
     "data": {
      "text/plain": [
       "[('execution_date', 'Date32', '', '', '', 'DoubleDelta', ''),\n",
       " ('advert_id', 'UInt64', '', '', '', 'T64', ''),\n",
       " ('created_at', 'DateTime', '', '', '', 'DoubleDelta', ''),\n",
       " ('price', 'UInt64', '', '', '', 'Gorilla', ''),\n",
       " ('region', 'LowCardinality(String)', '', '', '', '', ''),\n",
       " ('user_id', 'UInt32', '', '', '', 'T64', ''),\n",
       " ('platform', 'LowCardinality(String)', '', '', '', '', ''),\n",
       " ('auto_brand', 'LowCardinality(String)', '', '', '', '', ''),\n",
       " ('auto_model', 'LowCardinality(String)', '', '', '', '', ''),\n",
       " ('passport_id', 'UInt32', '', '', '', 'T64', ''),\n",
       " ('year', 'LowCardinality(String)', '', '', '', '', ''),\n",
       " ('userType', 'UInt8', '', '', '', 'T64', '')]"
      ]
     },
     "execution_count": 11,
     "metadata": {},
     "output_type": "execute_result"
    }
   ],
   "source": [
    "live_adverts_desc = client.execute(\"\"\"\n",
    "DESCRIBE TABLE live_adverts\n",
    "\"\"\")\n",
    "\n",
    "live_adverts_desc"
   ]
  },
  {
   "cell_type": "code",
   "execution_count": 12,
   "id": "76be4806-6b01-40c7-b186-f600c2133afc",
   "metadata": {},
   "outputs": [],
   "source": [
    "query = '''\n",
    "SELECT \n",
    "  la.passport_id,\n",
    "  COUNT(DISTINCT(la.advert_id)) AS n_ads,\n",
    "  MIN(la.created_at) AS first_ad,\n",
    "  AVG(la.price) AS mean_price,\n",
    "  AVG(CAST(la.year, 'Int64')) AS mean_year\n",
    "FROM \n",
    "  live_adverts la\n",
    "WHERE \n",
    "  la.region = 'Омск'\n",
    "    AND la.price > 1000\n",
    "      AND la.year != '0'\n",
    "GROUP BY\n",
    "  la.passport_id\n",
    "'''"
   ]
  },
  {
   "cell_type": "code",
   "execution_count": 13,
   "id": "aaeaa230-d73c-45d3-8b8a-35506ce25d03",
   "metadata": {},
   "outputs": [],
   "source": [
    "result = client.execute(query)"
   ]
  },
  {
   "cell_type": "code",
   "execution_count": 14,
   "id": "609deacb-d360-4657-b938-c5d8b0759954",
   "metadata": {},
   "outputs": [
    {
     "data": {
      "text/plain": [
       "35843"
      ]
     },
     "execution_count": 14,
     "metadata": {},
     "output_type": "execute_result"
    }
   ],
   "source": [
    "len(result)"
   ]
  },
  {
   "cell_type": "code",
   "execution_count": 15,
   "id": "83d523d8-b50a-4265-b7cc-64f7f4622e0b",
   "metadata": {},
   "outputs": [
    {
     "data": {
      "text/html": [
       "<div>\n",
       "<style scoped>\n",
       "    .dataframe tbody tr th:only-of-type {\n",
       "        vertical-align: middle;\n",
       "    }\n",
       "\n",
       "    .dataframe tbody tr th {\n",
       "        vertical-align: top;\n",
       "    }\n",
       "\n",
       "    .dataframe thead th {\n",
       "        text-align: right;\n",
       "    }\n",
       "</style>\n",
       "<table border=\"1\" class=\"dataframe\">\n",
       "  <thead>\n",
       "    <tr style=\"text-align: right;\">\n",
       "      <th></th>\n",
       "      <th>passport_id</th>\n",
       "      <th>n_ads</th>\n",
       "      <th>first_ad</th>\n",
       "      <th>mean_price</th>\n",
       "      <th>mean_year</th>\n",
       "    </tr>\n",
       "  </thead>\n",
       "  <tbody>\n",
       "    <tr>\n",
       "      <th>0</th>\n",
       "      <td>141450171</td>\n",
       "      <td>2</td>\n",
       "      <td>2022-05-09 14:12:54</td>\n",
       "      <td>1.761905e+05</td>\n",
       "      <td>2006.000000</td>\n",
       "    </tr>\n",
       "    <tr>\n",
       "      <th>1</th>\n",
       "      <td>123719602</td>\n",
       "      <td>1</td>\n",
       "      <td>2021-09-15 14:11:38</td>\n",
       "      <td>1.100000e+06</td>\n",
       "      <td>2008.000000</td>\n",
       "    </tr>\n",
       "    <tr>\n",
       "      <th>2</th>\n",
       "      <td>144667270</td>\n",
       "      <td>2</td>\n",
       "      <td>2022-12-06 14:41:13</td>\n",
       "      <td>5.000000e+05</td>\n",
       "      <td>2013.000000</td>\n",
       "    </tr>\n",
       "    <tr>\n",
       "      <th>3</th>\n",
       "      <td>134267823</td>\n",
       "      <td>16</td>\n",
       "      <td>2022-06-18 15:31:31</td>\n",
       "      <td>6.517922e+05</td>\n",
       "      <td>2004.701299</td>\n",
       "    </tr>\n",
       "    <tr>\n",
       "      <th>4</th>\n",
       "      <td>136204801</td>\n",
       "      <td>2</td>\n",
       "      <td>2022-06-14 02:52:06</td>\n",
       "      <td>2.768182e+05</td>\n",
       "      <td>2005.818182</td>\n",
       "    </tr>\n",
       "  </tbody>\n",
       "</table>\n",
       "</div>"
      ],
      "text/plain": [
       "   passport_id  n_ads            first_ad    mean_price    mean_year\n",
       "0    141450171      2 2022-05-09 14:12:54  1.761905e+05  2006.000000\n",
       "1    123719602      1 2021-09-15 14:11:38  1.100000e+06  2008.000000\n",
       "2    144667270      2 2022-12-06 14:41:13  5.000000e+05  2013.000000\n",
       "3    134267823     16 2022-06-18 15:31:31  6.517922e+05  2004.701299\n",
       "4    136204801      2 2022-06-14 02:52:06  2.768182e+05  2005.818182"
      ]
     },
     "execution_count": 15,
     "metadata": {},
     "output_type": "execute_result"
    }
   ],
   "source": [
    "live_adverts_df = pd.DataFrame(result, \n",
    "                  columns=['passport_id', 'n_ads', \n",
    "                           'first_ad', 'mean_price',\n",
    "                           'mean_year'\n",
    "                           ])\n",
    "\n",
    "live_adverts_df.head()"
   ]
  },
  {
   "cell_type": "code",
   "execution_count": 16,
   "id": "51351444-cd28-4ce1-a90b-7898c74d350e",
   "metadata": {},
   "outputs": [
    {
     "name": "stdout",
     "output_type": "stream",
     "text": [
      "<class 'pandas.core.frame.DataFrame'>\n",
      "RangeIndex: 35843 entries, 0 to 35842\n",
      "Data columns (total 5 columns):\n",
      " #   Column       Non-Null Count  Dtype         \n",
      "---  ------       --------------  -----         \n",
      " 0   passport_id  35843 non-null  int64         \n",
      " 1   n_ads        35843 non-null  int64         \n",
      " 2   first_ad     35843 non-null  datetime64[ns]\n",
      " 3   mean_price   35843 non-null  float64       \n",
      " 4   mean_year    35843 non-null  float64       \n",
      "dtypes: datetime64[ns](1), float64(2), int64(2)\n",
      "memory usage: 1.4 MB\n"
     ]
    }
   ],
   "source": [
    "live_adverts_df.info()"
   ]
  },
  {
   "cell_type": "markdown",
   "id": "b9ae8da0-e86e-4763-ad85-620bf3328c18",
   "metadata": {},
   "source": [
    "`user_transactions`"
   ]
  },
  {
   "cell_type": "code",
   "execution_count": 17,
   "id": "b59f931d-31e0-4c7d-bacb-36bad6f79269",
   "metadata": {},
   "outputs": [
    {
     "data": {
      "text/plain": [
       "[('payment_date', 'Date', '', '', '', '', ''),\n",
       " ('id', 'Int32', '', '', '', '', ''),\n",
       " ('type', 'String', '', '', '', '', ''),\n",
       " ('sign', 'Int32', '', '', '', '', ''),\n",
       " ('amount', 'Int32', '', '', '', '', ''),\n",
       " ('tstamp', 'DateTime', '', '', '', '', ''),\n",
       " ('advert_id', 'Int32', '', '', '', '', ''),\n",
       " ('passport_id', 'Int32', '', '', '', '', ''),\n",
       " ('balance_consumption', 'Int32', '', '', '', '', '')]"
      ]
     },
     "execution_count": 17,
     "metadata": {},
     "output_type": "execute_result"
    }
   ],
   "source": [
    "user_transactions_desc = client.execute(\"\"\"\n",
    "DESCRIBE TABLE user_transactions\n",
    "\"\"\")\n",
    "\n",
    "user_transactions_desc"
   ]
  },
  {
   "cell_type": "code",
   "execution_count": 18,
   "id": "7daf1320-cf9f-42fd-b214-66885597f7d0",
   "metadata": {},
   "outputs": [],
   "source": [
    "query = '''\n",
    "SELECT \n",
    "  ut.passport_id,\n",
    "  COUNT(DISTINCT(ut.type)) AS n_types,\n",
    "  SUM(ut.sign) AS top_type,\n",
    "  AVG(ut.balance_consumption) AS mean_transaction\n",
    "FROM \n",
    "  user_transactions ut\n",
    "GROUP BY\n",
    "  ut.passport_id\n",
    "'''"
   ]
  },
  {
   "cell_type": "code",
   "execution_count": 19,
   "id": "f84e4260-b509-4a20-8b37-a603d6f059d6",
   "metadata": {},
   "outputs": [],
   "source": [
    "result = client.execute(query)"
   ]
  },
  {
   "cell_type": "code",
   "execution_count": 20,
   "id": "c0a8f4b2-9731-4589-8c39-b6d7fe312365",
   "metadata": {},
   "outputs": [
    {
     "data": {
      "text/plain": [
       "1714980"
      ]
     },
     "execution_count": 20,
     "metadata": {},
     "output_type": "execute_result"
    }
   ],
   "source": [
    "len(result)"
   ]
  },
  {
   "cell_type": "code",
   "execution_count": 21,
   "id": "6024a9d2-4eaf-4178-b68a-f7c494a01ae0",
   "metadata": {},
   "outputs": [
    {
     "data": {
      "text/html": [
       "<div>\n",
       "<style scoped>\n",
       "    .dataframe tbody tr th:only-of-type {\n",
       "        vertical-align: middle;\n",
       "    }\n",
       "\n",
       "    .dataframe tbody tr th {\n",
       "        vertical-align: top;\n",
       "    }\n",
       "\n",
       "    .dataframe thead th {\n",
       "        text-align: right;\n",
       "    }\n",
       "</style>\n",
       "<table border=\"1\" class=\"dataframe\">\n",
       "  <thead>\n",
       "    <tr style=\"text-align: right;\">\n",
       "      <th></th>\n",
       "      <th>passport_id</th>\n",
       "      <th>n_types</th>\n",
       "      <th>top_type</th>\n",
       "      <th>mean_transaction</th>\n",
       "    </tr>\n",
       "  </thead>\n",
       "  <tbody>\n",
       "    <tr>\n",
       "      <th>0</th>\n",
       "      <td>133483447</td>\n",
       "      <td>2</td>\n",
       "      <td>28</td>\n",
       "      <td>6.833333</td>\n",
       "    </tr>\n",
       "    <tr>\n",
       "      <th>1</th>\n",
       "      <td>144659952</td>\n",
       "      <td>1</td>\n",
       "      <td>1</td>\n",
       "      <td>0.000000</td>\n",
       "    </tr>\n",
       "    <tr>\n",
       "      <th>2</th>\n",
       "      <td>136275535</td>\n",
       "      <td>1</td>\n",
       "      <td>6</td>\n",
       "      <td>0.000000</td>\n",
       "    </tr>\n",
       "    <tr>\n",
       "      <th>3</th>\n",
       "      <td>123683386</td>\n",
       "      <td>4</td>\n",
       "      <td>23</td>\n",
       "      <td>17.600000</td>\n",
       "    </tr>\n",
       "    <tr>\n",
       "      <th>4</th>\n",
       "      <td>136981601</td>\n",
       "      <td>2</td>\n",
       "      <td>9</td>\n",
       "      <td>17.272727</td>\n",
       "    </tr>\n",
       "  </tbody>\n",
       "</table>\n",
       "</div>"
      ],
      "text/plain": [
       "   passport_id  n_types  top_type  mean_transaction\n",
       "0    133483447        2        28          6.833333\n",
       "1    144659952        1         1          0.000000\n",
       "2    136275535        1         6          0.000000\n",
       "3    123683386        4        23         17.600000\n",
       "4    136981601        2         9         17.272727"
      ]
     },
     "execution_count": 21,
     "metadata": {},
     "output_type": "execute_result"
    }
   ],
   "source": [
    "user_transactions_df = pd.DataFrame(result, \n",
    "                  columns=['passport_id', 'n_types', \n",
    "                           'top_type', 'mean_transaction'\n",
    "                           ])\n",
    "\n",
    "user_transactions_df.head()"
   ]
  },
  {
   "cell_type": "markdown",
   "id": "796f377c-46a7-4abb-b6e4-f5022f20f6e4",
   "metadata": {},
   "source": [
    "Merging data. "
   ]
  },
  {
   "cell_type": "code",
   "execution_count": 22,
   "id": "7d437af1-6d75-4203-b5b4-c1e6ad4c6c0c",
   "metadata": {},
   "outputs": [],
   "source": [
    "df = pd.merge(user_passports_df, live_adverts_df, on='passport_id', how='inner')"
   ]
  },
  {
   "cell_type": "code",
   "execution_count": 23,
   "id": "09f939cd-c701-47b4-92ff-b7a2b41413ac",
   "metadata": {},
   "outputs": [],
   "source": [
    "df = pd.merge(df, user_transactions_df, on='passport_id', how='inner')"
   ]
  },
  {
   "cell_type": "code",
   "execution_count": 24,
   "id": "fa9f97b5-3e61-4e6c-9df4-e90be7c1b23a",
   "metadata": {},
   "outputs": [
    {
     "data": {
      "text/html": [
       "<div>\n",
       "<style scoped>\n",
       "    .dataframe tbody tr th:only-of-type {\n",
       "        vertical-align: middle;\n",
       "    }\n",
       "\n",
       "    .dataframe tbody tr th {\n",
       "        vertical-align: top;\n",
       "    }\n",
       "\n",
       "    .dataframe thead th {\n",
       "        text-align: right;\n",
       "    }\n",
       "</style>\n",
       "<table border=\"1\" class=\"dataframe\">\n",
       "  <thead>\n",
       "    <tr style=\"text-align: right;\">\n",
       "      <th></th>\n",
       "      <th>execution_date</th>\n",
       "      <th>passport_id</th>\n",
       "      <th>global_id</th>\n",
       "      <th>created_at</th>\n",
       "      <th>user_type_id</th>\n",
       "      <th>user_type_name</th>\n",
       "      <th>user_type_changed_at</th>\n",
       "      <th>user_type_cars_id</th>\n",
       "      <th>user_type_cars_name</th>\n",
       "      <th>user_type_cars_changed_at</th>\n",
       "      <th>n_ads</th>\n",
       "      <th>first_ad</th>\n",
       "      <th>mean_price</th>\n",
       "      <th>mean_year</th>\n",
       "      <th>n_types</th>\n",
       "      <th>top_type</th>\n",
       "      <th>mean_transaction</th>\n",
       "    </tr>\n",
       "  </thead>\n",
       "  <tbody>\n",
       "    <tr>\n",
       "      <th>0</th>\n",
       "      <td>2023-01-31</td>\n",
       "      <td>134698167</td>\n",
       "      <td>138621384</td>\n",
       "      <td>2019-04-09 16:14:42</td>\n",
       "      <td>0</td>\n",
       "      <td>simple_user</td>\n",
       "      <td>2106-02-07 06:28:16</td>\n",
       "      <td>0</td>\n",
       "      <td>cars_simple</td>\n",
       "      <td>2106-02-07 06:28:16</td>\n",
       "      <td>1</td>\n",
       "      <td>2022-09-20 11:54:19</td>\n",
       "      <td>8.521212e+05</td>\n",
       "      <td>2020.000000</td>\n",
       "      <td>4</td>\n",
       "      <td>-10</td>\n",
       "      <td>297.500000</td>\n",
       "    </tr>\n",
       "    <tr>\n",
       "      <th>1</th>\n",
       "      <td>2023-01-31</td>\n",
       "      <td>123776196</td>\n",
       "      <td>123755241</td>\n",
       "      <td>2012-02-28 14:48:12</td>\n",
       "      <td>0</td>\n",
       "      <td>simple_user</td>\n",
       "      <td>2106-02-07 06:28:16</td>\n",
       "      <td>0</td>\n",
       "      <td>cars_simple</td>\n",
       "      <td>2106-02-07 06:28:16</td>\n",
       "      <td>3</td>\n",
       "      <td>2022-02-04 14:31:29</td>\n",
       "      <td>1.088286e+06</td>\n",
       "      <td>2019.000000</td>\n",
       "      <td>5</td>\n",
       "      <td>-9</td>\n",
       "      <td>145.217391</td>\n",
       "    </tr>\n",
       "    <tr>\n",
       "      <th>2</th>\n",
       "      <td>2023-01-31</td>\n",
       "      <td>123801906</td>\n",
       "      <td>123780948</td>\n",
       "      <td>2012-04-12 09:00:26</td>\n",
       "      <td>0</td>\n",
       "      <td>simple_user</td>\n",
       "      <td>2106-02-07 06:28:16</td>\n",
       "      <td>0</td>\n",
       "      <td>cars_simple</td>\n",
       "      <td>2106-02-07 06:28:16</td>\n",
       "      <td>8</td>\n",
       "      <td>2022-02-09 12:30:44</td>\n",
       "      <td>2.083562e+06</td>\n",
       "      <td>2011.452055</td>\n",
       "      <td>3</td>\n",
       "      <td>11</td>\n",
       "      <td>40.882353</td>\n",
       "    </tr>\n",
       "    <tr>\n",
       "      <th>3</th>\n",
       "      <td>2023-01-31</td>\n",
       "      <td>136625705</td>\n",
       "      <td>141382448</td>\n",
       "      <td>2019-12-12 14:25:16</td>\n",
       "      <td>0</td>\n",
       "      <td>simple_user</td>\n",
       "      <td>2106-02-07 06:28:16</td>\n",
       "      <td>0</td>\n",
       "      <td>cars_simple</td>\n",
       "      <td>2106-02-07 06:28:16</td>\n",
       "      <td>5</td>\n",
       "      <td>2022-02-01 03:18:49</td>\n",
       "      <td>4.602500e+05</td>\n",
       "      <td>2005.500000</td>\n",
       "      <td>5</td>\n",
       "      <td>5</td>\n",
       "      <td>87.000000</td>\n",
       "    </tr>\n",
       "    <tr>\n",
       "      <th>4</th>\n",
       "      <td>2023-01-31</td>\n",
       "      <td>141924129</td>\n",
       "      <td>146727434</td>\n",
       "      <td>2021-08-07 17:13:05</td>\n",
       "      <td>0</td>\n",
       "      <td>simple_user</td>\n",
       "      <td>2106-02-07 06:28:16</td>\n",
       "      <td>0</td>\n",
       "      <td>cars_simple</td>\n",
       "      <td>2106-02-07 06:28:16</td>\n",
       "      <td>5</td>\n",
       "      <td>2022-08-14 06:49:01</td>\n",
       "      <td>9.153333e+04</td>\n",
       "      <td>2001.000000</td>\n",
       "      <td>1</td>\n",
       "      <td>4</td>\n",
       "      <td>0.000000</td>\n",
       "    </tr>\n",
       "    <tr>\n",
       "      <th>...</th>\n",
       "      <td>...</td>\n",
       "      <td>...</td>\n",
       "      <td>...</td>\n",
       "      <td>...</td>\n",
       "      <td>...</td>\n",
       "      <td>...</td>\n",
       "      <td>...</td>\n",
       "      <td>...</td>\n",
       "      <td>...</td>\n",
       "      <td>...</td>\n",
       "      <td>...</td>\n",
       "      <td>...</td>\n",
       "      <td>...</td>\n",
       "      <td>...</td>\n",
       "      <td>...</td>\n",
       "      <td>...</td>\n",
       "      <td>...</td>\n",
       "    </tr>\n",
       "    <tr>\n",
       "      <th>30698</th>\n",
       "      <td>2023-01-31</td>\n",
       "      <td>140140656</td>\n",
       "      <td>144655147</td>\n",
       "      <td>2020-11-30 00:13:39</td>\n",
       "      <td>777</td>\n",
       "      <td>profi</td>\n",
       "      <td>2022-11-07 14:14:03</td>\n",
       "      <td>6</td>\n",
       "      <td>cars_seller</td>\n",
       "      <td>2022-11-07 14:14:03</td>\n",
       "      <td>2</td>\n",
       "      <td>2022-11-05 11:07:04</td>\n",
       "      <td>8.611765e+05</td>\n",
       "      <td>2004.764706</td>\n",
       "      <td>12</td>\n",
       "      <td>125</td>\n",
       "      <td>288.696833</td>\n",
       "    </tr>\n",
       "    <tr>\n",
       "      <th>30699</th>\n",
       "      <td>2023-01-31</td>\n",
       "      <td>140805655</td>\n",
       "      <td>145457194</td>\n",
       "      <td>2021-03-03 22:37:12</td>\n",
       "      <td>777</td>\n",
       "      <td>profi</td>\n",
       "      <td>2022-07-29 01:31:07</td>\n",
       "      <td>6</td>\n",
       "      <td>cars_seller</td>\n",
       "      <td>2022-07-29 01:31:07</td>\n",
       "      <td>2</td>\n",
       "      <td>2021-12-12 18:44:15</td>\n",
       "      <td>2.203360e+06</td>\n",
       "      <td>2017.000000</td>\n",
       "      <td>9</td>\n",
       "      <td>106</td>\n",
       "      <td>188.234694</td>\n",
       "    </tr>\n",
       "    <tr>\n",
       "      <th>30700</th>\n",
       "      <td>2023-01-31</td>\n",
       "      <td>141933123</td>\n",
       "      <td>146738442</td>\n",
       "      <td>2021-08-09 01:22:10</td>\n",
       "      <td>777</td>\n",
       "      <td>profi</td>\n",
       "      <td>2023-01-31 12:44:40</td>\n",
       "      <td>6</td>\n",
       "      <td>cars_seller</td>\n",
       "      <td>2023-01-31 12:44:40</td>\n",
       "      <td>13</td>\n",
       "      <td>2022-07-17 12:34:09</td>\n",
       "      <td>2.402632e+05</td>\n",
       "      <td>2001.736842</td>\n",
       "      <td>1</td>\n",
       "      <td>14</td>\n",
       "      <td>0.000000</td>\n",
       "    </tr>\n",
       "    <tr>\n",
       "      <th>30701</th>\n",
       "      <td>2023-01-31</td>\n",
       "      <td>134858035</td>\n",
       "      <td>138873132</td>\n",
       "      <td>2019-04-29 18:51:44</td>\n",
       "      <td>777</td>\n",
       "      <td>profi</td>\n",
       "      <td>2022-11-20 12:46:23</td>\n",
       "      <td>6</td>\n",
       "      <td>cars_seller</td>\n",
       "      <td>2022-11-20 12:46:23</td>\n",
       "      <td>9</td>\n",
       "      <td>2021-07-07 17:42:33</td>\n",
       "      <td>6.618100e+05</td>\n",
       "      <td>2005.840000</td>\n",
       "      <td>10</td>\n",
       "      <td>57</td>\n",
       "      <td>205.609959</td>\n",
       "    </tr>\n",
       "    <tr>\n",
       "      <th>30702</th>\n",
       "      <td>2023-01-31</td>\n",
       "      <td>132961443</td>\n",
       "      <td>136032543</td>\n",
       "      <td>2018-09-18 10:40:05</td>\n",
       "      <td>777</td>\n",
       "      <td>profi</td>\n",
       "      <td>2022-05-11 17:49:27</td>\n",
       "      <td>6</td>\n",
       "      <td>cars_seller</td>\n",
       "      <td>2022-05-11 17:49:27</td>\n",
       "      <td>33</td>\n",
       "      <td>2022-01-26 07:57:46</td>\n",
       "      <td>8.512085e+05</td>\n",
       "      <td>2003.060071</td>\n",
       "      <td>13</td>\n",
       "      <td>73</td>\n",
       "      <td>191.228188</td>\n",
       "    </tr>\n",
       "  </tbody>\n",
       "</table>\n",
       "<p>30703 rows × 17 columns</p>\n",
       "</div>"
      ],
      "text/plain": [
       "      execution_date  passport_id  global_id          created_at  \\\n",
       "0         2023-01-31    134698167  138621384 2019-04-09 16:14:42   \n",
       "1         2023-01-31    123776196  123755241 2012-02-28 14:48:12   \n",
       "2         2023-01-31    123801906  123780948 2012-04-12 09:00:26   \n",
       "3         2023-01-31    136625705  141382448 2019-12-12 14:25:16   \n",
       "4         2023-01-31    141924129  146727434 2021-08-07 17:13:05   \n",
       "...              ...          ...        ...                 ...   \n",
       "30698     2023-01-31    140140656  144655147 2020-11-30 00:13:39   \n",
       "30699     2023-01-31    140805655  145457194 2021-03-03 22:37:12   \n",
       "30700     2023-01-31    141933123  146738442 2021-08-09 01:22:10   \n",
       "30701     2023-01-31    134858035  138873132 2019-04-29 18:51:44   \n",
       "30702     2023-01-31    132961443  136032543 2018-09-18 10:40:05   \n",
       "\n",
       "       user_type_id user_type_name user_type_changed_at  user_type_cars_id  \\\n",
       "0                 0    simple_user  2106-02-07 06:28:16                  0   \n",
       "1                 0    simple_user  2106-02-07 06:28:16                  0   \n",
       "2                 0    simple_user  2106-02-07 06:28:16                  0   \n",
       "3                 0    simple_user  2106-02-07 06:28:16                  0   \n",
       "4                 0    simple_user  2106-02-07 06:28:16                  0   \n",
       "...             ...            ...                  ...                ...   \n",
       "30698           777          profi  2022-11-07 14:14:03                  6   \n",
       "30699           777          profi  2022-07-29 01:31:07                  6   \n",
       "30700           777          profi  2023-01-31 12:44:40                  6   \n",
       "30701           777          profi  2022-11-20 12:46:23                  6   \n",
       "30702           777          profi  2022-05-11 17:49:27                  6   \n",
       "\n",
       "      user_type_cars_name user_type_cars_changed_at  n_ads  \\\n",
       "0             cars_simple       2106-02-07 06:28:16      1   \n",
       "1             cars_simple       2106-02-07 06:28:16      3   \n",
       "2             cars_simple       2106-02-07 06:28:16      8   \n",
       "3             cars_simple       2106-02-07 06:28:16      5   \n",
       "4             cars_simple       2106-02-07 06:28:16      5   \n",
       "...                   ...                       ...    ...   \n",
       "30698         cars_seller       2022-11-07 14:14:03      2   \n",
       "30699         cars_seller       2022-07-29 01:31:07      2   \n",
       "30700         cars_seller       2023-01-31 12:44:40     13   \n",
       "30701         cars_seller       2022-11-20 12:46:23      9   \n",
       "30702         cars_seller       2022-05-11 17:49:27     33   \n",
       "\n",
       "                 first_ad    mean_price    mean_year  n_types  top_type  \\\n",
       "0     2022-09-20 11:54:19  8.521212e+05  2020.000000        4       -10   \n",
       "1     2022-02-04 14:31:29  1.088286e+06  2019.000000        5        -9   \n",
       "2     2022-02-09 12:30:44  2.083562e+06  2011.452055        3        11   \n",
       "3     2022-02-01 03:18:49  4.602500e+05  2005.500000        5         5   \n",
       "4     2022-08-14 06:49:01  9.153333e+04  2001.000000        1         4   \n",
       "...                   ...           ...          ...      ...       ...   \n",
       "30698 2022-11-05 11:07:04  8.611765e+05  2004.764706       12       125   \n",
       "30699 2021-12-12 18:44:15  2.203360e+06  2017.000000        9       106   \n",
       "30700 2022-07-17 12:34:09  2.402632e+05  2001.736842        1        14   \n",
       "30701 2021-07-07 17:42:33  6.618100e+05  2005.840000       10        57   \n",
       "30702 2022-01-26 07:57:46  8.512085e+05  2003.060071       13        73   \n",
       "\n",
       "       mean_transaction  \n",
       "0            297.500000  \n",
       "1            145.217391  \n",
       "2             40.882353  \n",
       "3             87.000000  \n",
       "4              0.000000  \n",
       "...                 ...  \n",
       "30698        288.696833  \n",
       "30699        188.234694  \n",
       "30700          0.000000  \n",
       "30701        205.609959  \n",
       "30702        191.228188  \n",
       "\n",
       "[30703 rows x 17 columns]"
      ]
     },
     "execution_count": 24,
     "metadata": {},
     "output_type": "execute_result"
    }
   ],
   "source": [
    "df"
   ]
  },
  {
   "cell_type": "code",
   "execution_count": 25,
   "id": "d9856111-8357-432c-8a17-19d821475cfe",
   "metadata": {},
   "outputs": [
    {
     "name": "stdout",
     "output_type": "stream",
     "text": [
      "<class 'pandas.core.frame.DataFrame'>\n",
      "Int64Index: 30703 entries, 0 to 30702\n",
      "Data columns (total 17 columns):\n",
      " #   Column                     Non-Null Count  Dtype         \n",
      "---  ------                     --------------  -----         \n",
      " 0   execution_date             30703 non-null  datetime64[ns]\n",
      " 1   passport_id                30703 non-null  int64         \n",
      " 2   global_id                  30703 non-null  int64         \n",
      " 3   created_at                 30703 non-null  datetime64[ns]\n",
      " 4   user_type_id               30703 non-null  int64         \n",
      " 5   user_type_name             30703 non-null  object        \n",
      " 6   user_type_changed_at       30703 non-null  datetime64[ns]\n",
      " 7   user_type_cars_id          30703 non-null  int64         \n",
      " 8   user_type_cars_name        30703 non-null  object        \n",
      " 9   user_type_cars_changed_at  30703 non-null  datetime64[ns]\n",
      " 10  n_ads                      30703 non-null  int64         \n",
      " 11  first_ad                   30703 non-null  datetime64[ns]\n",
      " 12  mean_price                 30703 non-null  float64       \n",
      " 13  mean_year                  30703 non-null  float64       \n",
      " 14  n_types                    30703 non-null  int64         \n",
      " 15  top_type                   30703 non-null  int64         \n",
      " 16  mean_transaction           30703 non-null  float64       \n",
      "dtypes: datetime64[ns](5), float64(3), int64(7), object(2)\n",
      "memory usage: 4.2+ MB\n"
     ]
    }
   ],
   "source": [
    "df.info()"
   ]
  },
  {
   "cell_type": "code",
   "execution_count": 26,
   "id": "ab872ed8-79e3-44ac-9ea9-31f8cfd19b8a",
   "metadata": {},
   "outputs": [],
   "source": [
    "del user_passports_df\n",
    "del live_adverts_df\n",
    "del user_transactions_df"
   ]
  },
  {
   "cell_type": "markdown",
   "id": "12e5f45e-d3a9-46ef-a1d2-9d62341f7926",
   "metadata": {},
   "source": [
    "### Task 2. "
   ]
  },
  {
   "cell_type": "markdown",
   "id": "b151886e-0ffd-4ac9-8340-829d5b4175b5",
   "metadata": {},
   "source": [
    "**Find median value of days since ad creation?**"
   ]
  },
  {
   "cell_type": "code",
   "execution_count": 27,
   "id": "4f2ac547-4af3-4694-bf82-2ee28e52c66c",
   "metadata": {},
   "outputs": [
    {
     "data": {
      "text/html": [
       "<div>\n",
       "<style scoped>\n",
       "    .dataframe tbody tr th:only-of-type {\n",
       "        vertical-align: middle;\n",
       "    }\n",
       "\n",
       "    .dataframe tbody tr th {\n",
       "        vertical-align: top;\n",
       "    }\n",
       "\n",
       "    .dataframe thead th {\n",
       "        text-align: right;\n",
       "    }\n",
       "</style>\n",
       "<table border=\"1\" class=\"dataframe\">\n",
       "  <thead>\n",
       "    <tr style=\"text-align: right;\">\n",
       "      <th></th>\n",
       "      <th>execution_date</th>\n",
       "      <th>passport_id</th>\n",
       "      <th>global_id</th>\n",
       "      <th>created_at</th>\n",
       "      <th>user_type_id</th>\n",
       "      <th>user_type_name</th>\n",
       "      <th>user_type_changed_at</th>\n",
       "      <th>user_type_cars_id</th>\n",
       "      <th>user_type_cars_name</th>\n",
       "      <th>user_type_cars_changed_at</th>\n",
       "      <th>n_ads</th>\n",
       "      <th>first_ad</th>\n",
       "      <th>mean_price</th>\n",
       "      <th>mean_year</th>\n",
       "      <th>n_types</th>\n",
       "      <th>top_type</th>\n",
       "      <th>mean_transaction</th>\n",
       "    </tr>\n",
       "  </thead>\n",
       "  <tbody>\n",
       "    <tr>\n",
       "      <th>0</th>\n",
       "      <td>2023-01-31</td>\n",
       "      <td>134698167</td>\n",
       "      <td>138621384</td>\n",
       "      <td>2019-04-09 16:14:42</td>\n",
       "      <td>0</td>\n",
       "      <td>simple_user</td>\n",
       "      <td>2106-02-07 06:28:16</td>\n",
       "      <td>0</td>\n",
       "      <td>cars_simple</td>\n",
       "      <td>2106-02-07 06:28:16</td>\n",
       "      <td>1</td>\n",
       "      <td>2022-09-20 11:54:19</td>\n",
       "      <td>8.521212e+05</td>\n",
       "      <td>2020.000000</td>\n",
       "      <td>4</td>\n",
       "      <td>-10</td>\n",
       "      <td>297.500000</td>\n",
       "    </tr>\n",
       "    <tr>\n",
       "      <th>1</th>\n",
       "      <td>2023-01-31</td>\n",
       "      <td>123776196</td>\n",
       "      <td>123755241</td>\n",
       "      <td>2012-02-28 14:48:12</td>\n",
       "      <td>0</td>\n",
       "      <td>simple_user</td>\n",
       "      <td>2106-02-07 06:28:16</td>\n",
       "      <td>0</td>\n",
       "      <td>cars_simple</td>\n",
       "      <td>2106-02-07 06:28:16</td>\n",
       "      <td>3</td>\n",
       "      <td>2022-02-04 14:31:29</td>\n",
       "      <td>1.088286e+06</td>\n",
       "      <td>2019.000000</td>\n",
       "      <td>5</td>\n",
       "      <td>-9</td>\n",
       "      <td>145.217391</td>\n",
       "    </tr>\n",
       "    <tr>\n",
       "      <th>2</th>\n",
       "      <td>2023-01-31</td>\n",
       "      <td>123801906</td>\n",
       "      <td>123780948</td>\n",
       "      <td>2012-04-12 09:00:26</td>\n",
       "      <td>0</td>\n",
       "      <td>simple_user</td>\n",
       "      <td>2106-02-07 06:28:16</td>\n",
       "      <td>0</td>\n",
       "      <td>cars_simple</td>\n",
       "      <td>2106-02-07 06:28:16</td>\n",
       "      <td>8</td>\n",
       "      <td>2022-02-09 12:30:44</td>\n",
       "      <td>2.083562e+06</td>\n",
       "      <td>2011.452055</td>\n",
       "      <td>3</td>\n",
       "      <td>11</td>\n",
       "      <td>40.882353</td>\n",
       "    </tr>\n",
       "    <tr>\n",
       "      <th>3</th>\n",
       "      <td>2023-01-31</td>\n",
       "      <td>136625705</td>\n",
       "      <td>141382448</td>\n",
       "      <td>2019-12-12 14:25:16</td>\n",
       "      <td>0</td>\n",
       "      <td>simple_user</td>\n",
       "      <td>2106-02-07 06:28:16</td>\n",
       "      <td>0</td>\n",
       "      <td>cars_simple</td>\n",
       "      <td>2106-02-07 06:28:16</td>\n",
       "      <td>5</td>\n",
       "      <td>2022-02-01 03:18:49</td>\n",
       "      <td>4.602500e+05</td>\n",
       "      <td>2005.500000</td>\n",
       "      <td>5</td>\n",
       "      <td>5</td>\n",
       "      <td>87.000000</td>\n",
       "    </tr>\n",
       "    <tr>\n",
       "      <th>4</th>\n",
       "      <td>2023-01-31</td>\n",
       "      <td>141924129</td>\n",
       "      <td>146727434</td>\n",
       "      <td>2021-08-07 17:13:05</td>\n",
       "      <td>0</td>\n",
       "      <td>simple_user</td>\n",
       "      <td>2106-02-07 06:28:16</td>\n",
       "      <td>0</td>\n",
       "      <td>cars_simple</td>\n",
       "      <td>2106-02-07 06:28:16</td>\n",
       "      <td>5</td>\n",
       "      <td>2022-08-14 06:49:01</td>\n",
       "      <td>9.153333e+04</td>\n",
       "      <td>2001.000000</td>\n",
       "      <td>1</td>\n",
       "      <td>4</td>\n",
       "      <td>0.000000</td>\n",
       "    </tr>\n",
       "  </tbody>\n",
       "</table>\n",
       "</div>"
      ],
      "text/plain": [
       "  execution_date  passport_id  global_id          created_at  user_type_id  \\\n",
       "0     2023-01-31    134698167  138621384 2019-04-09 16:14:42             0   \n",
       "1     2023-01-31    123776196  123755241 2012-02-28 14:48:12             0   \n",
       "2     2023-01-31    123801906  123780948 2012-04-12 09:00:26             0   \n",
       "3     2023-01-31    136625705  141382448 2019-12-12 14:25:16             0   \n",
       "4     2023-01-31    141924129  146727434 2021-08-07 17:13:05             0   \n",
       "\n",
       "  user_type_name user_type_changed_at  user_type_cars_id user_type_cars_name  \\\n",
       "0    simple_user  2106-02-07 06:28:16                  0         cars_simple   \n",
       "1    simple_user  2106-02-07 06:28:16                  0         cars_simple   \n",
       "2    simple_user  2106-02-07 06:28:16                  0         cars_simple   \n",
       "3    simple_user  2106-02-07 06:28:16                  0         cars_simple   \n",
       "4    simple_user  2106-02-07 06:28:16                  0         cars_simple   \n",
       "\n",
       "  user_type_cars_changed_at  n_ads            first_ad    mean_price  \\\n",
       "0       2106-02-07 06:28:16      1 2022-09-20 11:54:19  8.521212e+05   \n",
       "1       2106-02-07 06:28:16      3 2022-02-04 14:31:29  1.088286e+06   \n",
       "2       2106-02-07 06:28:16      8 2022-02-09 12:30:44  2.083562e+06   \n",
       "3       2106-02-07 06:28:16      5 2022-02-01 03:18:49  4.602500e+05   \n",
       "4       2106-02-07 06:28:16      5 2022-08-14 06:49:01  9.153333e+04   \n",
       "\n",
       "     mean_year  n_types  top_type  mean_transaction  \n",
       "0  2020.000000        4       -10        297.500000  \n",
       "1  2019.000000        5        -9        145.217391  \n",
       "2  2011.452055        3        11         40.882353  \n",
       "3  2005.500000        5         5         87.000000  \n",
       "4  2001.000000        1         4          0.000000  "
      ]
     },
     "execution_count": 27,
     "metadata": {},
     "output_type": "execute_result"
    }
   ],
   "source": [
    "df.head()"
   ]
  },
  {
   "cell_type": "code",
   "execution_count": 28,
   "id": "7f58c148-f7a4-4608-b040-b2346595bdcb",
   "metadata": {},
   "outputs": [],
   "source": [
    "df['days_ago'] = (df.execution_date.dt.date - df.first_ad.dt.date).dt.days"
   ]
  },
  {
   "cell_type": "code",
   "execution_count": 29,
   "id": "6f4cf31c-5a9a-4a6c-832e-2989af293bc5",
   "metadata": {},
   "outputs": [
    {
     "data": {
      "text/plain": [
       "269.0"
      ]
     },
     "execution_count": 29,
     "metadata": {},
     "output_type": "execute_result"
    }
   ],
   "source": [
    "np.median(df.days_ago)"
   ]
  },
  {
   "cell_type": "markdown",
   "id": "92137d74-b31f-4aba-a1b5-d9164be17f5b",
   "metadata": {
    "tags": []
   },
   "source": [
    "### Task 3.  "
   ]
  },
  {
   "cell_type": "markdown",
   "id": "830049b9-f37d-4c47-82b3-0e95d7db9ed3",
   "metadata": {},
   "source": [
    "**What is the max cars age?** "
   ]
  },
  {
   "cell_type": "code",
   "execution_count": 30,
   "id": "b333dac0-d8af-4ec4-b0d9-e3d5d2b9c692",
   "metadata": {},
   "outputs": [],
   "source": [
    "df['mean_n_years'] = df.execution_date.dt.year - df.mean_year"
   ]
  },
  {
   "cell_type": "code",
   "execution_count": 31,
   "id": "b61526ab-fc3e-47f8-8456-d259190bd0d9",
   "metadata": {},
   "outputs": [
    {
     "data": {
      "text/plain": [
       "73.0"
      ]
     },
     "execution_count": 31,
     "metadata": {},
     "output_type": "execute_result"
    }
   ],
   "source": [
    "df.mean_n_years.max()"
   ]
  },
  {
   "cell_type": "markdown",
   "id": "7b1831e5-9629-45ba-8320-429c58a760d9",
   "metadata": {},
   "source": [
    "### Task 4. "
   ]
  },
  {
   "cell_type": "markdown",
   "id": "41913718-3c9d-42cb-b61d-72ebdc7edad3",
   "metadata": {},
   "source": [
    "**Create a `buyer` feature. Do we have more buyers or sellers in our dataset?**  "
   ]
  },
  {
   "cell_type": "code",
   "execution_count": 32,
   "id": "54393504-b981-4336-98ad-e1400b1e56ee",
   "metadata": {},
   "outputs": [],
   "source": [
    "df['buyer'] = df.top_type.apply(lambda x: 1 if x < 0 else 0)"
   ]
  },
  {
   "cell_type": "code",
   "execution_count": 33,
   "id": "8ec2bae8-1474-406f-bfbd-d8cc18803e71",
   "metadata": {},
   "outputs": [
    {
     "data": {
      "text/plain": [
       "0    22844\n",
       "1     7859\n",
       "Name: buyer, dtype: int64"
      ]
     },
     "execution_count": 33,
     "metadata": {},
     "output_type": "execute_result"
    }
   ],
   "source": [
    "df.buyer.value_counts()"
   ]
  },
  {
   "cell_type": "markdown",
   "id": "6cf94e10-2a9b-4ab9-929d-858de8ce875b",
   "metadata": {},
   "source": [
    "### Task 5. "
   ]
  },
  {
   "cell_type": "markdown",
   "id": "a92b908a-9905-4287-b083-4b1954baf890",
   "metadata": {},
   "source": [
    "**Log-transform `price`, choose 6 features, delete outliers and StandardScale them.**"
   ]
  },
  {
   "cell_type": "code",
   "execution_count": 34,
   "id": "cb555da6-0200-49a4-94ce-4e5d668e8ce9",
   "metadata": {},
   "outputs": [],
   "source": [
    "df.sort_values('passport_id', inplace=True)"
   ]
  },
  {
   "cell_type": "code",
   "execution_count": 35,
   "id": "aa7f9105-8987-41db-8bf9-9c1b2663f455",
   "metadata": {},
   "outputs": [],
   "source": [
    "df = df.reset_index(drop=True)"
   ]
  },
  {
   "cell_type": "code",
   "execution_count": 36,
   "id": "e32bed9b-02fa-4fb9-90fc-bf77f1fc8aa1",
   "metadata": {},
   "outputs": [
    {
     "data": {
      "image/png": "[encoded data removed]",
      "text/plain": [
       "<Figure size 1152x648 with 1 Axes>"
      ]
     },
     "metadata": {
      "needs_background": "light"
     },
     "output_type": "display_data"
    }
   ],
   "source": [
    "plt.figure(figsize=(16, 9))\n",
    "sns.histplot(df.mean_price);"
   ]
  },
  {
   "cell_type": "code",
   "execution_count": 37,
   "id": "8b9de97c-b4d1-4147-a9a8-556a1f201784",
   "metadata": {},
   "outputs": [],
   "source": [
    "df['log_price']= np.log(df['mean_price']) "
   ]
  },
  {
   "cell_type": "code",
   "execution_count": 38,
   "id": "d6bb42c7-a5e9-425d-b8d6-7938c6b2a518",
   "metadata": {},
   "outputs": [
    {
     "data": {
      "image/png": "[encoded data removed]",
      "text/plain": [
       "<Figure size 1152x648 with 1 Axes>"
      ]
     },
     "metadata": {
      "needs_background": "light"
     },
     "output_type": "display_data"
    }
   ],
   "source": [
    "plt.figure(figsize=(16, 9))\n",
    "sns.histplot(df.log_price);"
   ]
  },
  {
   "cell_type": "code",
   "execution_count": 39,
   "id": "aa256c7c-35c7-415c-95d2-ecf97a45fe1a",
   "metadata": {},
   "outputs": [
    {
     "data": {
      "text/html": [
       "<div>\n",
       "<style scoped>\n",
       "    .dataframe tbody tr th:only-of-type {\n",
       "        vertical-align: middle;\n",
       "    }\n",
       "\n",
       "    .dataframe tbody tr th {\n",
       "        vertical-align: top;\n",
       "    }\n",
       "\n",
       "    .dataframe thead th {\n",
       "        text-align: right;\n",
       "    }\n",
       "</style>\n",
       "<table border=\"1\" class=\"dataframe\">\n",
       "  <thead>\n",
       "    <tr style=\"text-align: right;\">\n",
       "      <th></th>\n",
       "      <th>0</th>\n",
       "      <th>1</th>\n",
       "      <th>2</th>\n",
       "    </tr>\n",
       "  </thead>\n",
       "  <tbody>\n",
       "    <tr>\n",
       "      <th>execution_date</th>\n",
       "      <td>2023-01-31 00:00:00</td>\n",
       "      <td>2023-01-31 00:00:00</td>\n",
       "      <td>2023-01-31 00:00:00</td>\n",
       "    </tr>\n",
       "    <tr>\n",
       "      <th>passport_id</th>\n",
       "      <td>123463130</td>\n",
       "      <td>123463864</td>\n",
       "      <td>123464158</td>\n",
       "    </tr>\n",
       "    <tr>\n",
       "      <th>global_id</th>\n",
       "      <td>123456861</td>\n",
       "      <td>123457429</td>\n",
       "      <td>123457652</td>\n",
       "    </tr>\n",
       "    <tr>\n",
       "      <th>created_at</th>\n",
       "      <td>2009-04-03 19:46:43</td>\n",
       "      <td>2009-04-05 17:11:29</td>\n",
       "      <td>2009-04-06 12:29:57</td>\n",
       "    </tr>\n",
       "    <tr>\n",
       "      <th>user_type_id</th>\n",
       "      <td>777</td>\n",
       "      <td>0</td>\n",
       "      <td>0</td>\n",
       "    </tr>\n",
       "    <tr>\n",
       "      <th>user_type_name</th>\n",
       "      <td>profi</td>\n",
       "      <td>simple_user</td>\n",
       "      <td>simple_user</td>\n",
       "    </tr>\n",
       "    <tr>\n",
       "      <th>user_type_changed_at</th>\n",
       "      <td>2023-01-31 12:44:40</td>\n",
       "      <td>2106-02-07 06:28:16</td>\n",
       "      <td>2106-02-07 06:28:16</td>\n",
       "    </tr>\n",
       "    <tr>\n",
       "      <th>user_type_cars_id</th>\n",
       "      <td>0</td>\n",
       "      <td>0</td>\n",
       "      <td>0</td>\n",
       "    </tr>\n",
       "    <tr>\n",
       "      <th>user_type_cars_name</th>\n",
       "      <td>cars_simple</td>\n",
       "      <td>cars_simple</td>\n",
       "      <td>cars_simple</td>\n",
       "    </tr>\n",
       "    <tr>\n",
       "      <th>user_type_cars_changed_at</th>\n",
       "      <td>2106-02-07 06:28:16</td>\n",
       "      <td>2106-02-07 06:28:16</td>\n",
       "      <td>2106-02-07 06:28:16</td>\n",
       "    </tr>\n",
       "    <tr>\n",
       "      <th>n_ads</th>\n",
       "      <td>43</td>\n",
       "      <td>3</td>\n",
       "      <td>1</td>\n",
       "    </tr>\n",
       "    <tr>\n",
       "      <th>first_ad</th>\n",
       "      <td>2022-01-10 09:56:00</td>\n",
       "      <td>2021-07-06 06:08:33</td>\n",
       "      <td>2022-10-22 10:05:10</td>\n",
       "    </tr>\n",
       "    <tr>\n",
       "      <th>mean_price</th>\n",
       "      <td>3626054.279749</td>\n",
       "      <td>2250214.285714</td>\n",
       "      <td>920000.0</td>\n",
       "    </tr>\n",
       "    <tr>\n",
       "      <th>mean_year</th>\n",
       "      <td>2015.204593</td>\n",
       "      <td>2011.25</td>\n",
       "      <td>2012.0</td>\n",
       "    </tr>\n",
       "    <tr>\n",
       "      <th>n_types</th>\n",
       "      <td>11</td>\n",
       "      <td>8</td>\n",
       "      <td>3</td>\n",
       "    </tr>\n",
       "    <tr>\n",
       "      <th>top_type</th>\n",
       "      <td>252</td>\n",
       "      <td>2</td>\n",
       "      <td>-4</td>\n",
       "    </tr>\n",
       "    <tr>\n",
       "      <th>mean_transaction</th>\n",
       "      <td>119.732143</td>\n",
       "      <td>349.833333</td>\n",
       "      <td>158.333333</td>\n",
       "    </tr>\n",
       "    <tr>\n",
       "      <th>days_ago</th>\n",
       "      <td>386</td>\n",
       "      <td>574</td>\n",
       "      <td>101</td>\n",
       "    </tr>\n",
       "    <tr>\n",
       "      <th>mean_n_years</th>\n",
       "      <td>7.795407</td>\n",
       "      <td>11.75</td>\n",
       "      <td>11.0</td>\n",
       "    </tr>\n",
       "    <tr>\n",
       "      <th>buyer</th>\n",
       "      <td>0</td>\n",
       "      <td>0</td>\n",
       "      <td>1</td>\n",
       "    </tr>\n",
       "    <tr>\n",
       "      <th>log_price</th>\n",
       "      <td>15.103656</td>\n",
       "      <td>14.626536</td>\n",
       "      <td>13.732129</td>\n",
       "    </tr>\n",
       "  </tbody>\n",
       "</table>\n",
       "</div>"
      ],
      "text/plain": [
       "                                             0                    1  \\\n",
       "execution_date             2023-01-31 00:00:00  2023-01-31 00:00:00   \n",
       "passport_id                          123463130            123463864   \n",
       "global_id                            123456861            123457429   \n",
       "created_at                 2009-04-03 19:46:43  2009-04-05 17:11:29   \n",
       "user_type_id                               777                    0   \n",
       "user_type_name                           profi          simple_user   \n",
       "user_type_changed_at       2023-01-31 12:44:40  2106-02-07 06:28:16   \n",
       "user_type_cars_id                            0                    0   \n",
       "user_type_cars_name                cars_simple          cars_simple   \n",
       "user_type_cars_changed_at  2106-02-07 06:28:16  2106-02-07 06:28:16   \n",
       "n_ads                                       43                    3   \n",
       "first_ad                   2022-01-10 09:56:00  2021-07-06 06:08:33   \n",
       "mean_price                      3626054.279749       2250214.285714   \n",
       "mean_year                          2015.204593              2011.25   \n",
       "n_types                                     11                    8   \n",
       "top_type                                   252                    2   \n",
       "mean_transaction                    119.732143           349.833333   \n",
       "days_ago                                   386                  574   \n",
       "mean_n_years                          7.795407                11.75   \n",
       "buyer                                        0                    0   \n",
       "log_price                            15.103656            14.626536   \n",
       "\n",
       "                                             2  \n",
       "execution_date             2023-01-31 00:00:00  \n",
       "passport_id                          123464158  \n",
       "global_id                            123457652  \n",
       "created_at                 2009-04-06 12:29:57  \n",
       "user_type_id                                 0  \n",
       "user_type_name                     simple_user  \n",
       "user_type_changed_at       2106-02-07 06:28:16  \n",
       "user_type_cars_id                            0  \n",
       "user_type_cars_name                cars_simple  \n",
       "user_type_cars_changed_at  2106-02-07 06:28:16  \n",
       "n_ads                                        1  \n",
       "first_ad                   2022-10-22 10:05:10  \n",
       "mean_price                            920000.0  \n",
       "mean_year                               2012.0  \n",
       "n_types                                      3  \n",
       "top_type                                    -4  \n",
       "mean_transaction                    158.333333  \n",
       "days_ago                                   101  \n",
       "mean_n_years                              11.0  \n",
       "buyer                                        1  \n",
       "log_price                            13.732129  "
      ]
     },
     "execution_count": 39,
     "metadata": {},
     "output_type": "execute_result"
    }
   ],
   "source": [
    "df.head(3).T"
   ]
  },
  {
   "cell_type": "code",
   "execution_count": 40,
   "id": "cddd86ff-808a-47ac-b186-3c8566d39024",
   "metadata": {},
   "outputs": [],
   "source": [
    "data = df[['passport_id', 'n_ads', 'n_types', 'days_ago', 'log_price', 'mean_n_years', 'buyer']]"
   ]
  },
  {
   "cell_type": "code",
   "execution_count": 41,
   "id": "a4660119-ac6b-46dc-bf3d-27cf27ce9c38",
   "metadata": {},
   "outputs": [
    {
     "data": {
      "text/plain": [
       "(30703, 7)"
      ]
     },
     "execution_count": 41,
     "metadata": {},
     "output_type": "execute_result"
    }
   ],
   "source": [
    "data.shape"
   ]
  },
  {
   "cell_type": "code",
   "execution_count": 42,
   "id": "8a8ec742-774f-4d01-ab51-c0c6312325eb",
   "metadata": {},
   "outputs": [],
   "source": [
    "data = data[data['n_ads'] < np.quantile(df.n_ads, .99)]"
   ]
  },
  {
   "cell_type": "code",
   "execution_count": 43,
   "id": "06428be5-544e-41c8-aac5-87d58b688086",
   "metadata": {},
   "outputs": [
    {
     "data": {
      "text/plain": [
       "(30391, 7)"
      ]
     },
     "execution_count": 43,
     "metadata": {},
     "output_type": "execute_result"
    }
   ],
   "source": [
    "data.shape"
   ]
  },
  {
   "cell_type": "code",
   "execution_count": 44,
   "id": "10f33459-66fb-43cc-9b2e-18c4c9895fec",
   "metadata": {},
   "outputs": [],
   "source": [
    "data = data[data['mean_n_years'] < np.quantile(df.mean_n_years, .99)]"
   ]
  },
  {
   "cell_type": "code",
   "execution_count": 45,
   "id": "bb2c9f0d-5c4b-41fb-9c88-cdb174e00529",
   "metadata": {},
   "outputs": [
    {
     "data": {
      "text/plain": [
       "(30053, 7)"
      ]
     },
     "execution_count": 45,
     "metadata": {},
     "output_type": "execute_result"
    }
   ],
   "source": [
    "data.shape"
   ]
  },
  {
   "cell_type": "code",
   "execution_count": 46,
   "id": "93a67a03-cc53-4a70-9f4a-7a7aa9548e14",
   "metadata": {},
   "outputs": [],
   "source": [
    "data = data[data['days_ago'] < np.quantile(df.days_ago, .99)]"
   ]
  },
  {
   "cell_type": "code",
   "execution_count": 47,
   "id": "cba887e9-164a-4094-a8d1-e7773d402b29",
   "metadata": {},
   "outputs": [
    {
     "data": {
      "text/plain": [
       "(29763, 7)"
      ]
     },
     "execution_count": 47,
     "metadata": {},
     "output_type": "execute_result"
    }
   ],
   "source": [
    "data.shape"
   ]
  },
  {
   "cell_type": "code",
   "execution_count": 48,
   "id": "ce12748a-9533-411b-9ed6-fea3d63d4235",
   "metadata": {},
   "outputs": [
    {
     "name": "stdout",
     "output_type": "stream",
     "text": [
      "<class 'pandas.core.frame.DataFrame'>\n",
      "Int64Index: 29763 entries, 0 to 30702\n",
      "Data columns (total 7 columns):\n",
      " #   Column        Non-Null Count  Dtype  \n",
      "---  ------        --------------  -----  \n",
      " 0   passport_id   29763 non-null  int64  \n",
      " 1   n_ads         29763 non-null  int64  \n",
      " 2   n_types       29763 non-null  int64  \n",
      " 3   days_ago      29763 non-null  int64  \n",
      " 4   log_price     29763 non-null  float64\n",
      " 5   mean_n_years  29763 non-null  float64\n",
      " 6   buyer         29763 non-null  int64  \n",
      "dtypes: float64(2), int64(5)\n",
      "memory usage: 1.8 MB\n"
     ]
    }
   ],
   "source": [
    "data.info()"
   ]
  },
  {
   "cell_type": "code",
   "execution_count": 49,
   "id": "ef6fa91a-dc30-42c0-9c53-1ecc180976be",
   "metadata": {},
   "outputs": [],
   "source": [
    "data = data.astype({'passport_id': 'str'})"
   ]
  },
  {
   "cell_type": "code",
   "execution_count": 50,
   "id": "17bc9da0-a377-4cf0-b0ac-5bc0a74c96c9",
   "metadata": {},
   "outputs": [],
   "source": [
    "col_transformer_with_selector = ColumnTransformer(\n",
    "    transformers=[             \n",
    "        ('StandardScaler', StandardScaler(), selector(dtype_include='number'))\n",
    "    ],\n",
    "    remainder='passthrough',          \n",
    "    verbose_feature_names_out=False   \n",
    ").set_output(transform='pandas')  "
   ]
  },
  {
   "cell_type": "code",
   "execution_count": 51,
   "id": "21ce264e-3859-4341-8504-fd4c543efb09",
   "metadata": {},
   "outputs": [],
   "source": [
    "data_scaled = Pipeline(\n",
    "    [\n",
    "        ('col_transformer', col_transformer_with_selector)\n",
    "    ]\n",
    ")"
   ]
  },
  {
   "cell_type": "code",
   "execution_count": 52,
   "id": "46c317bd-020c-4cb3-858d-b16ccc8fa462",
   "metadata": {},
   "outputs": [
    {
     "data": {
      "text/html": [
       "<div>\n",
       "<style scoped>\n",
       "    .dataframe tbody tr th:only-of-type {\n",
       "        vertical-align: middle;\n",
       "    }\n",
       "\n",
       "    .dataframe tbody tr th {\n",
       "        vertical-align: top;\n",
       "    }\n",
       "\n",
       "    .dataframe thead th {\n",
       "        text-align: right;\n",
       "    }\n",
       "</style>\n",
       "<table border=\"1\" class=\"dataframe\">\n",
       "  <thead>\n",
       "    <tr style=\"text-align: right;\">\n",
       "      <th></th>\n",
       "      <th>n_ads</th>\n",
       "      <th>n_types</th>\n",
       "      <th>days_ago</th>\n",
       "      <th>log_price</th>\n",
       "      <th>mean_n_years</th>\n",
       "      <th>buyer</th>\n",
       "      <th>passport_id</th>\n",
       "    </tr>\n",
       "  </thead>\n",
       "  <tbody>\n",
       "    <tr>\n",
       "      <th>0</th>\n",
       "      <td>6.558351</td>\n",
       "      <td>2.719888</td>\n",
       "      <td>1.000688</td>\n",
       "      <td>1.962220</td>\n",
       "      <td>-1.094520</td>\n",
       "      <td>-0.581036</td>\n",
       "      <td>123463130</td>\n",
       "    </tr>\n",
       "    <tr>\n",
       "      <th>1</th>\n",
       "      <td>-0.204847</td>\n",
       "      <td>1.618180</td>\n",
       "      <td>2.455233</td>\n",
       "      <td>1.486273</td>\n",
       "      <td>-0.630965</td>\n",
       "      <td>-0.581036</td>\n",
       "      <td>123463864</td>\n",
       "    </tr>\n",
       "    <tr>\n",
       "      <th>2</th>\n",
       "      <td>-0.543007</td>\n",
       "      <td>-0.218000</td>\n",
       "      <td>-1.204340</td>\n",
       "      <td>0.594066</td>\n",
       "      <td>-0.718880</td>\n",
       "      <td>1.721064</td>\n",
       "      <td>123464158</td>\n",
       "    </tr>\n",
       "    <tr>\n",
       "      <th>3</th>\n",
       "      <td>-0.543007</td>\n",
       "      <td>-0.952472</td>\n",
       "      <td>-0.662754</td>\n",
       "      <td>0.938961</td>\n",
       "      <td>-1.539416</td>\n",
       "      <td>-0.581036</td>\n",
       "      <td>123464314</td>\n",
       "    </tr>\n",
       "    <tr>\n",
       "      <th>4</th>\n",
       "      <td>-0.373927</td>\n",
       "      <td>-0.952472</td>\n",
       "      <td>0.381733</td>\n",
       "      <td>2.109985</td>\n",
       "      <td>-1.598025</td>\n",
       "      <td>-0.581036</td>\n",
       "      <td>123465872</td>\n",
       "    </tr>\n",
       "    <tr>\n",
       "      <th>...</th>\n",
       "      <td>...</td>\n",
       "      <td>...</td>\n",
       "      <td>...</td>\n",
       "      <td>...</td>\n",
       "      <td>...</td>\n",
       "      <td>...</td>\n",
       "      <td>...</td>\n",
       "    </tr>\n",
       "    <tr>\n",
       "      <th>30698</th>\n",
       "      <td>-0.543007</td>\n",
       "      <td>-0.952472</td>\n",
       "      <td>-1.970297</td>\n",
       "      <td>-0.523770</td>\n",
       "      <td>-0.718880</td>\n",
       "      <td>-0.581036</td>\n",
       "      <td>144977962</td>\n",
       "    </tr>\n",
       "    <tr>\n",
       "      <th>30699</th>\n",
       "      <td>-0.543007</td>\n",
       "      <td>-0.585236</td>\n",
       "      <td>-1.978034</td>\n",
       "      <td>-0.341897</td>\n",
       "      <td>1.859949</td>\n",
       "      <td>1.721064</td>\n",
       "      <td>144979974</td>\n",
       "    </tr>\n",
       "    <tr>\n",
       "      <th>30700</th>\n",
       "      <td>-0.543007</td>\n",
       "      <td>0.516472</td>\n",
       "      <td>-1.978034</td>\n",
       "      <td>0.772318</td>\n",
       "      <td>-0.250002</td>\n",
       "      <td>-0.581036</td>\n",
       "      <td>144983244</td>\n",
       "    </tr>\n",
       "    <tr>\n",
       "      <th>30701</th>\n",
       "      <td>-0.543007</td>\n",
       "      <td>-0.218000</td>\n",
       "      <td>-1.978034</td>\n",
       "      <td>-0.341897</td>\n",
       "      <td>-0.484441</td>\n",
       "      <td>-0.581036</td>\n",
       "      <td>144983322</td>\n",
       "    </tr>\n",
       "    <tr>\n",
       "      <th>30702</th>\n",
       "      <td>-0.543007</td>\n",
       "      <td>0.149236</td>\n",
       "      <td>-1.985771</td>\n",
       "      <td>0.954191</td>\n",
       "      <td>-0.836099</td>\n",
       "      <td>-0.581036</td>\n",
       "      <td>144986778</td>\n",
       "    </tr>\n",
       "  </tbody>\n",
       "</table>\n",
       "<p>29763 rows × 7 columns</p>\n",
       "</div>"
      ],
      "text/plain": [
       "          n_ads   n_types  days_ago  log_price  mean_n_years     buyer  \\\n",
       "0      6.558351  2.719888  1.000688   1.962220     -1.094520 -0.581036   \n",
       "1     -0.204847  1.618180  2.455233   1.486273     -0.630965 -0.581036   \n",
       "2     -0.543007 -0.218000 -1.204340   0.594066     -0.718880  1.721064   \n",
       "3     -0.543007 -0.952472 -0.662754   0.938961     -1.539416 -0.581036   \n",
       "4     -0.373927 -0.952472  0.381733   2.109985     -1.598025 -0.581036   \n",
       "...         ...       ...       ...        ...           ...       ...   \n",
       "30698 -0.543007 -0.952472 -1.970297  -0.523770     -0.718880 -0.581036   \n",
       "30699 -0.543007 -0.585236 -1.978034  -0.341897      1.859949  1.721064   \n",
       "30700 -0.543007  0.516472 -1.978034   0.772318     -0.250002 -0.581036   \n",
       "30701 -0.543007 -0.218000 -1.978034  -0.341897     -0.484441 -0.581036   \n",
       "30702 -0.543007  0.149236 -1.985771   0.954191     -0.836099 -0.581036   \n",
       "\n",
       "      passport_id  \n",
       "0       123463130  \n",
       "1       123463864  \n",
       "2       123464158  \n",
       "3       123464314  \n",
       "4       123465872  \n",
       "...           ...  \n",
       "30698   144977962  \n",
       "30699   144979974  \n",
       "30700   144983244  \n",
       "30701   144983322  \n",
       "30702   144986778  \n",
       "\n",
       "[29763 rows x 7 columns]"
      ]
     },
     "execution_count": 52,
     "metadata": {},
     "output_type": "execute_result"
    }
   ],
   "source": [
    "data_scaled.fit_transform(data)"
   ]
  },
  {
   "cell_type": "markdown",
   "id": "0e654218-672d-41a9-807a-29295d77ad9b",
   "metadata": {},
   "source": [
    "### Task 6. "
   ]
  },
  {
   "cell_type": "markdown",
   "id": "f2cc0059-a131-418f-9def-e6aca607d1c1",
   "metadata": {},
   "source": [
    "**Find the best `eps` parameter for DBSCAN algorithm.**"
   ]
  },
  {
   "cell_type": "code",
   "execution_count": 53,
   "id": "3fe6fe35-dad5-4ffe-bad0-4a9c222594d3",
   "metadata": {},
   "outputs": [],
   "source": [
    "data_scaled_df = pd.DataFrame(data_scaled.fit_transform(data),\n",
    "                              columns=['n_ads', 'n_types', 'days_ago',\n",
    "                                       'log_price', 'mean_n_years', 'buyer', 'passport_id'])"
   ]
  },
  {
   "cell_type": "code",
   "execution_count": 54,
   "id": "82447e1b-0a94-4630-9bdd-de7e3480f709",
   "metadata": {},
   "outputs": [
    {
     "data": {
      "text/html": [
       "<div>\n",
       "<style scoped>\n",
       "    .dataframe tbody tr th:only-of-type {\n",
       "        vertical-align: middle;\n",
       "    }\n",
       "\n",
       "    .dataframe tbody tr th {\n",
       "        vertical-align: top;\n",
       "    }\n",
       "\n",
       "    .dataframe thead th {\n",
       "        text-align: right;\n",
       "    }\n",
       "</style>\n",
       "<table border=\"1\" class=\"dataframe\">\n",
       "  <thead>\n",
       "    <tr style=\"text-align: right;\">\n",
       "      <th></th>\n",
       "      <th>n_ads</th>\n",
       "      <th>n_types</th>\n",
       "      <th>days_ago</th>\n",
       "      <th>log_price</th>\n",
       "      <th>mean_n_years</th>\n",
       "      <th>buyer</th>\n",
       "      <th>passport_id</th>\n",
       "    </tr>\n",
       "  </thead>\n",
       "  <tbody>\n",
       "    <tr>\n",
       "      <th>0</th>\n",
       "      <td>6.558351</td>\n",
       "      <td>2.719888</td>\n",
       "      <td>1.000688</td>\n",
       "      <td>1.962220</td>\n",
       "      <td>-1.094520</td>\n",
       "      <td>-0.581036</td>\n",
       "      <td>123463130</td>\n",
       "    </tr>\n",
       "    <tr>\n",
       "      <th>1</th>\n",
       "      <td>-0.204847</td>\n",
       "      <td>1.618180</td>\n",
       "      <td>2.455233</td>\n",
       "      <td>1.486273</td>\n",
       "      <td>-0.630965</td>\n",
       "      <td>-0.581036</td>\n",
       "      <td>123463864</td>\n",
       "    </tr>\n",
       "    <tr>\n",
       "      <th>2</th>\n",
       "      <td>-0.543007</td>\n",
       "      <td>-0.218000</td>\n",
       "      <td>-1.204340</td>\n",
       "      <td>0.594066</td>\n",
       "      <td>-0.718880</td>\n",
       "      <td>1.721064</td>\n",
       "      <td>123464158</td>\n",
       "    </tr>\n",
       "    <tr>\n",
       "      <th>3</th>\n",
       "      <td>-0.543007</td>\n",
       "      <td>-0.952472</td>\n",
       "      <td>-0.662754</td>\n",
       "      <td>0.938961</td>\n",
       "      <td>-1.539416</td>\n",
       "      <td>-0.581036</td>\n",
       "      <td>123464314</td>\n",
       "    </tr>\n",
       "    <tr>\n",
       "      <th>4</th>\n",
       "      <td>-0.373927</td>\n",
       "      <td>-0.952472</td>\n",
       "      <td>0.381733</td>\n",
       "      <td>2.109985</td>\n",
       "      <td>-1.598025</td>\n",
       "      <td>-0.581036</td>\n",
       "      <td>123465872</td>\n",
       "    </tr>\n",
       "    <tr>\n",
       "      <th>...</th>\n",
       "      <td>...</td>\n",
       "      <td>...</td>\n",
       "      <td>...</td>\n",
       "      <td>...</td>\n",
       "      <td>...</td>\n",
       "      <td>...</td>\n",
       "      <td>...</td>\n",
       "    </tr>\n",
       "    <tr>\n",
       "      <th>30698</th>\n",
       "      <td>-0.543007</td>\n",
       "      <td>-0.952472</td>\n",
       "      <td>-1.970297</td>\n",
       "      <td>-0.523770</td>\n",
       "      <td>-0.718880</td>\n",
       "      <td>-0.581036</td>\n",
       "      <td>144977962</td>\n",
       "    </tr>\n",
       "    <tr>\n",
       "      <th>30699</th>\n",
       "      <td>-0.543007</td>\n",
       "      <td>-0.585236</td>\n",
       "      <td>-1.978034</td>\n",
       "      <td>-0.341897</td>\n",
       "      <td>1.859949</td>\n",
       "      <td>1.721064</td>\n",
       "      <td>144979974</td>\n",
       "    </tr>\n",
       "    <tr>\n",
       "      <th>30700</th>\n",
       "      <td>-0.543007</td>\n",
       "      <td>0.516472</td>\n",
       "      <td>-1.978034</td>\n",
       "      <td>0.772318</td>\n",
       "      <td>-0.250002</td>\n",
       "      <td>-0.581036</td>\n",
       "      <td>144983244</td>\n",
       "    </tr>\n",
       "    <tr>\n",
       "      <th>30701</th>\n",
       "      <td>-0.543007</td>\n",
       "      <td>-0.218000</td>\n",
       "      <td>-1.978034</td>\n",
       "      <td>-0.341897</td>\n",
       "      <td>-0.484441</td>\n",
       "      <td>-0.581036</td>\n",
       "      <td>144983322</td>\n",
       "    </tr>\n",
       "    <tr>\n",
       "      <th>30702</th>\n",
       "      <td>-0.543007</td>\n",
       "      <td>0.149236</td>\n",
       "      <td>-1.985771</td>\n",
       "      <td>0.954191</td>\n",
       "      <td>-0.836099</td>\n",
       "      <td>-0.581036</td>\n",
       "      <td>144986778</td>\n",
       "    </tr>\n",
       "  </tbody>\n",
       "</table>\n",
       "<p>29763 rows × 7 columns</p>\n",
       "</div>"
      ],
      "text/plain": [
       "          n_ads   n_types  days_ago  log_price  mean_n_years     buyer  \\\n",
       "0      6.558351  2.719888  1.000688   1.962220     -1.094520 -0.581036   \n",
       "1     -0.204847  1.618180  2.455233   1.486273     -0.630965 -0.581036   \n",
       "2     -0.543007 -0.218000 -1.204340   0.594066     -0.718880  1.721064   \n",
       "3     -0.543007 -0.952472 -0.662754   0.938961     -1.539416 -0.581036   \n",
       "4     -0.373927 -0.952472  0.381733   2.109985     -1.598025 -0.581036   \n",
       "...         ...       ...       ...        ...           ...       ...   \n",
       "30698 -0.543007 -0.952472 -1.970297  -0.523770     -0.718880 -0.581036   \n",
       "30699 -0.543007 -0.585236 -1.978034  -0.341897      1.859949  1.721064   \n",
       "30700 -0.543007  0.516472 -1.978034   0.772318     -0.250002 -0.581036   \n",
       "30701 -0.543007 -0.218000 -1.978034  -0.341897     -0.484441 -0.581036   \n",
       "30702 -0.543007  0.149236 -1.985771   0.954191     -0.836099 -0.581036   \n",
       "\n",
       "      passport_id  \n",
       "0       123463130  \n",
       "1       123463864  \n",
       "2       123464158  \n",
       "3       123464314  \n",
       "4       123465872  \n",
       "...           ...  \n",
       "30698   144977962  \n",
       "30699   144979974  \n",
       "30700   144983244  \n",
       "30701   144983322  \n",
       "30702   144986778  \n",
       "\n",
       "[29763 rows x 7 columns]"
      ]
     },
     "execution_count": 54,
     "metadata": {},
     "output_type": "execute_result"
    }
   ],
   "source": [
    "data_scaled_df"
   ]
  },
  {
   "cell_type": "code",
   "execution_count": 55,
   "id": "6da13e0d-c298-46a0-8626-a655c2390d2f",
   "metadata": {},
   "outputs": [],
   "source": [
    "data_scaled_df = data_scaled_df.drop('passport_id', axis=1)"
   ]
  },
  {
   "cell_type": "code",
   "execution_count": 56,
   "id": "c1469498-e4db-4b00-8cfb-f4f13fa9ffaa",
   "metadata": {},
   "outputs": [],
   "source": [
    "eps_lst = [0.1, 0.3, 0.5, 0.7, 1, 1.5, 2, 2.5, 3, 4, 5]\n",
    "ans_dct = dict()\n",
    "\n",
    "for eps in eps_lst[:7]:\n",
    "    dbscan = DBSCAN(eps=eps, n_jobs=1)\n",
    "    dbscan.fit(data_scaled_df)\n",
    "    result = dbscan.labels_\n",
    "    \n",
    "    if len(set(result)) >= 3:\n",
    "        silhouette_ = silhouette_score(data_scaled_df, result)\n",
    "        ans_dct[eps] = silhouette_"
   ]
  },
  {
   "cell_type": "code",
   "execution_count": 57,
   "id": "b76c7516-5d79-4f5a-92fb-1cd5726ffded",
   "metadata": {},
   "outputs": [
    {
     "data": {
      "text/plain": [
       "{0.1: -0.403258713760892,\n",
       " 0.3: -0.5417368065803986,\n",
       " 0.5: -0.2836837665880331,\n",
       " 0.7: 0.16073287792476046,\n",
       " 1: 0.2304060337826599,\n",
       " 1.5: 0.23877790704382354,\n",
       " 2: 0.2384598292332369}"
      ]
     },
     "execution_count": 57,
     "metadata": {},
     "output_type": "execute_result"
    }
   ],
   "source": [
    "ans_dct"
   ]
  },
  {
   "cell_type": "markdown",
   "id": "b1d08635-02e3-48de-8c7f-086bd84ebc85",
   "metadata": {},
   "source": [
    "### Task 7. "
   ]
  },
  {
   "cell_type": "markdown",
   "id": "8ca7c2df-46ed-4155-8f72-f9f72007f1c7",
   "metadata": {},
   "source": [
    "**Find amount of clusters and number of items in them for the best `eps` parameter obtained on the previous step.**"
   ]
  },
  {
   "cell_type": "code",
   "execution_count": 58,
   "id": "df2b4856-b433-46e9-8b33-64fe835e309a",
   "metadata": {},
   "outputs": [],
   "source": [
    "max_v = -1\n",
    "max_k = 0\n",
    "\n",
    "for k, v in ans_dct.items():\n",
    "    if v > max_v:\n",
    "        max_v = v\n",
    "        max_k = k"
   ]
  },
  {
   "cell_type": "code",
   "execution_count": 59,
   "id": "f60c00a1-6252-4077-bf36-cd0b5c0b1066",
   "metadata": {},
   "outputs": [
    {
     "name": "stdout",
     "output_type": "stream",
     "text": [
      "1.5\n"
     ]
    }
   ],
   "source": [
    "print(max_k)"
   ]
  },
  {
   "cell_type": "code",
   "execution_count": 60,
   "id": "1933f41f-0940-4b35-b88c-bc3c111d9f1b",
   "metadata": {},
   "outputs": [
    {
     "name": "stdout",
     "output_type": "stream",
     "text": [
      "[[   -1    31]\n",
      " [    0 22230]\n",
      " [    1  7502]]\n"
     ]
    }
   ],
   "source": [
    "dbscan = DBSCAN(eps=max_k, n_jobs=1)\n",
    "dbscan.fit(data_scaled_df)\n",
    "result = dbscan.labels_\n",
    "\n",
    "unique, counts = np.unique(result, return_counts=True)\n",
    "print(np.asarray((unique, counts)).T)"
   ]
  },
  {
   "cell_type": "markdown",
   "id": "8f12cad3-0ca6-4913-8558-3dfbdaf8043f",
   "metadata": {},
   "source": [
    "### Task 8. "
   ]
  },
  {
   "cell_type": "markdown",
   "id": "303c769d-dc3d-44c6-a7fa-5946399ad624",
   "metadata": {},
   "source": [
    "**Find optimal number of clusters using kMeans algorithm.**"
   ]
  },
  {
   "cell_type": "code",
   "execution_count": 61,
   "id": "41fcb33f-e791-4893-aca4-fa3bff241f50",
   "metadata": {},
   "outputs": [
    {
     "data": {
      "text/html": [
       "<div>\n",
       "<style scoped>\n",
       "    .dataframe tbody tr th:only-of-type {\n",
       "        vertical-align: middle;\n",
       "    }\n",
       "\n",
       "    .dataframe tbody tr th {\n",
       "        vertical-align: top;\n",
       "    }\n",
       "\n",
       "    .dataframe thead th {\n",
       "        text-align: right;\n",
       "    }\n",
       "</style>\n",
       "<table border=\"1\" class=\"dataframe\">\n",
       "  <thead>\n",
       "    <tr style=\"text-align: right;\">\n",
       "      <th></th>\n",
       "      <th>n_ads</th>\n",
       "      <th>n_types</th>\n",
       "      <th>days_ago</th>\n",
       "      <th>log_price</th>\n",
       "      <th>mean_n_years</th>\n",
       "      <th>buyer</th>\n",
       "    </tr>\n",
       "  </thead>\n",
       "  <tbody>\n",
       "    <tr>\n",
       "      <th>0</th>\n",
       "      <td>6.558351</td>\n",
       "      <td>2.719888</td>\n",
       "      <td>1.000688</td>\n",
       "      <td>1.962220</td>\n",
       "      <td>-1.094520</td>\n",
       "      <td>-0.581036</td>\n",
       "    </tr>\n",
       "    <tr>\n",
       "      <th>1</th>\n",
       "      <td>-0.204847</td>\n",
       "      <td>1.618180</td>\n",
       "      <td>2.455233</td>\n",
       "      <td>1.486273</td>\n",
       "      <td>-0.630965</td>\n",
       "      <td>-0.581036</td>\n",
       "    </tr>\n",
       "    <tr>\n",
       "      <th>2</th>\n",
       "      <td>-0.543007</td>\n",
       "      <td>-0.218000</td>\n",
       "      <td>-1.204340</td>\n",
       "      <td>0.594066</td>\n",
       "      <td>-0.718880</td>\n",
       "      <td>1.721064</td>\n",
       "    </tr>\n",
       "    <tr>\n",
       "      <th>3</th>\n",
       "      <td>-0.543007</td>\n",
       "      <td>-0.952472</td>\n",
       "      <td>-0.662754</td>\n",
       "      <td>0.938961</td>\n",
       "      <td>-1.539416</td>\n",
       "      <td>-0.581036</td>\n",
       "    </tr>\n",
       "    <tr>\n",
       "      <th>4</th>\n",
       "      <td>-0.373927</td>\n",
       "      <td>-0.952472</td>\n",
       "      <td>0.381733</td>\n",
       "      <td>2.109985</td>\n",
       "      <td>-1.598025</td>\n",
       "      <td>-0.581036</td>\n",
       "    </tr>\n",
       "    <tr>\n",
       "      <th>...</th>\n",
       "      <td>...</td>\n",
       "      <td>...</td>\n",
       "      <td>...</td>\n",
       "      <td>...</td>\n",
       "      <td>...</td>\n",
       "      <td>...</td>\n",
       "    </tr>\n",
       "    <tr>\n",
       "      <th>30698</th>\n",
       "      <td>-0.543007</td>\n",
       "      <td>-0.952472</td>\n",
       "      <td>-1.970297</td>\n",
       "      <td>-0.523770</td>\n",
       "      <td>-0.718880</td>\n",
       "      <td>-0.581036</td>\n",
       "    </tr>\n",
       "    <tr>\n",
       "      <th>30699</th>\n",
       "      <td>-0.543007</td>\n",
       "      <td>-0.585236</td>\n",
       "      <td>-1.978034</td>\n",
       "      <td>-0.341897</td>\n",
       "      <td>1.859949</td>\n",
       "      <td>1.721064</td>\n",
       "    </tr>\n",
       "    <tr>\n",
       "      <th>30700</th>\n",
       "      <td>-0.543007</td>\n",
       "      <td>0.516472</td>\n",
       "      <td>-1.978034</td>\n",
       "      <td>0.772318</td>\n",
       "      <td>-0.250002</td>\n",
       "      <td>-0.581036</td>\n",
       "    </tr>\n",
       "    <tr>\n",
       "      <th>30701</th>\n",
       "      <td>-0.543007</td>\n",
       "      <td>-0.218000</td>\n",
       "      <td>-1.978034</td>\n",
       "      <td>-0.341897</td>\n",
       "      <td>-0.484441</td>\n",
       "      <td>-0.581036</td>\n",
       "    </tr>\n",
       "    <tr>\n",
       "      <th>30702</th>\n",
       "      <td>-0.543007</td>\n",
       "      <td>0.149236</td>\n",
       "      <td>-1.985771</td>\n",
       "      <td>0.954191</td>\n",
       "      <td>-0.836099</td>\n",
       "      <td>-0.581036</td>\n",
       "    </tr>\n",
       "  </tbody>\n",
       "</table>\n",
       "<p>29763 rows × 6 columns</p>\n",
       "</div>"
      ],
      "text/plain": [
       "          n_ads   n_types  days_ago  log_price  mean_n_years     buyer\n",
       "0      6.558351  2.719888  1.000688   1.962220     -1.094520 -0.581036\n",
       "1     -0.204847  1.618180  2.455233   1.486273     -0.630965 -0.581036\n",
       "2     -0.543007 -0.218000 -1.204340   0.594066     -0.718880  1.721064\n",
       "3     -0.543007 -0.952472 -0.662754   0.938961     -1.539416 -0.581036\n",
       "4     -0.373927 -0.952472  0.381733   2.109985     -1.598025 -0.581036\n",
       "...         ...       ...       ...        ...           ...       ...\n",
       "30698 -0.543007 -0.952472 -1.970297  -0.523770     -0.718880 -0.581036\n",
       "30699 -0.543007 -0.585236 -1.978034  -0.341897      1.859949  1.721064\n",
       "30700 -0.543007  0.516472 -1.978034   0.772318     -0.250002 -0.581036\n",
       "30701 -0.543007 -0.218000 -1.978034  -0.341897     -0.484441 -0.581036\n",
       "30702 -0.543007  0.149236 -1.985771   0.954191     -0.836099 -0.581036\n",
       "\n",
       "[29763 rows x 6 columns]"
      ]
     },
     "execution_count": 61,
     "metadata": {},
     "output_type": "execute_result"
    }
   ],
   "source": [
    "data_scaled_df"
   ]
  },
  {
   "cell_type": "code",
   "execution_count": 62,
   "id": "6df17bd3-fbe7-4929-b1f0-8c168f332ab9",
   "metadata": {},
   "outputs": [],
   "source": [
    "clusters_lst = list(range(3, 11))\n",
    "ans_dct = dict()\n",
    "\n",
    "for cluster in clusters_lst:\n",
    "    kmeans = KMeans(n_clusters=cluster, random_state=42, n_init=1)\n",
    "    kmeans.fit(data_scaled_df)\n",
    "    \n",
    "    silhouette_ = silhouette_score(data_scaled_df, kmeans.labels_)\n",
    "    ans_dct[cluster] = silhouette_"
   ]
  },
  {
   "cell_type": "code",
   "execution_count": 63,
   "id": "c9925157-6819-453b-9c0a-747f4b5ed4c4",
   "metadata": {},
   "outputs": [
    {
     "data": {
      "text/plain": [
       "{3: 0.2078370891959297,\n",
       " 4: 0.25820646534206115,\n",
       " 5: 0.24758902167248617,\n",
       " 6: 0.25357512575681407,\n",
       " 7: 0.2194918439316475,\n",
       " 8: 0.20554205991860822,\n",
       " 9: 0.20657240877578392,\n",
       " 10: 0.2016509872357886}"
      ]
     },
     "execution_count": 63,
     "metadata": {},
     "output_type": "execute_result"
    }
   ],
   "source": [
    "ans_dct"
   ]
  },
  {
   "cell_type": "markdown",
   "id": "35a0c2b5-0efb-4744-a3c3-4b97813c8597",
   "metadata": {},
   "source": [
    "### Task 9. "
   ]
  },
  {
   "cell_type": "markdown",
   "id": "b006f7c1-48e0-4b90-a8bd-b19ac1de6210",
   "metadata": {},
   "source": [
    "**Use the best `silhoutte_score` parameter for your model. Find the number of users in the smallest cluster.**"
   ]
  },
  {
   "cell_type": "code",
   "execution_count": 64,
   "id": "8790174e-e8e9-4844-a9d7-823c7e6a47f6",
   "metadata": {},
   "outputs": [
    {
     "name": "stdout",
     "output_type": "stream",
     "text": [
      "4 clusters have the best silhoutte_score: 0.25820646534206115\n"
     ]
    }
   ],
   "source": [
    "max_v = -1\n",
    "max_k = 0\n",
    "\n",
    "for k, v in ans_dct.items():\n",
    "    if v > max_v:\n",
    "        max_v = v\n",
    "        max_k = k\n",
    "        \n",
    "print(f'{max_k} clusters have the best silhoutte_score: {max_v}')"
   ]
  },
  {
   "cell_type": "code",
   "execution_count": 65,
   "id": "d7b460cf-c135-4787-ba72-c493753e6002",
   "metadata": {},
   "outputs": [
    {
     "name": "stdout",
     "output_type": "stream",
     "text": [
      "Silhoutte_score: 0.25820646534206115\n",
      "[[    0 11927]\n",
      " [    1  7252]\n",
      " [    2  2015]\n",
      " [    3  8569]]\n"
     ]
    }
   ],
   "source": [
    "kmeans = KMeans(n_clusters=max_k, random_state=42, n_init=1)\n",
    "kmeans.fit(data_scaled_df)\n",
    "\n",
    "print(f'Silhoutte_score: {silhouette_score(data_scaled_df, kmeans.labels_)}')\n",
    "\n",
    "unique, counts = np.unique(kmeans.labels_, return_counts=True)\n",
    "print(np.asarray((unique, counts)).T)"
   ]
  },
  {
   "cell_type": "code",
   "execution_count": 66,
   "id": "bec669e2-396e-48ce-9c59-0cffb899980b",
   "metadata": {},
   "outputs": [
    {
     "data": {
      "text/html": [
       "<div>\n",
       "<style scoped>\n",
       "    .dataframe tbody tr th:only-of-type {\n",
       "        vertical-align: middle;\n",
       "    }\n",
       "\n",
       "    .dataframe tbody tr th {\n",
       "        vertical-align: top;\n",
       "    }\n",
       "\n",
       "    .dataframe thead th {\n",
       "        text-align: right;\n",
       "    }\n",
       "</style>\n",
       "<table border=\"1\" class=\"dataframe\">\n",
       "  <thead>\n",
       "    <tr style=\"text-align: right;\">\n",
       "      <th></th>\n",
       "      <th>passport_id</th>\n",
       "      <th>n_ads</th>\n",
       "      <th>n_types</th>\n",
       "      <th>days_ago</th>\n",
       "      <th>log_price</th>\n",
       "      <th>mean_n_years</th>\n",
       "      <th>buyer</th>\n",
       "      <th>cluster</th>\n",
       "    </tr>\n",
       "  </thead>\n",
       "  <tbody>\n",
       "    <tr>\n",
       "      <th>0</th>\n",
       "      <td>123463130</td>\n",
       "      <td>43</td>\n",
       "      <td>11</td>\n",
       "      <td>386</td>\n",
       "      <td>15.103656</td>\n",
       "      <td>7.795407</td>\n",
       "      <td>0</td>\n",
       "      <td>2</td>\n",
       "    </tr>\n",
       "    <tr>\n",
       "      <th>1</th>\n",
       "      <td>123463864</td>\n",
       "      <td>3</td>\n",
       "      <td>8</td>\n",
       "      <td>574</td>\n",
       "      <td>14.626536</td>\n",
       "      <td>11.750000</td>\n",
       "      <td>0</td>\n",
       "      <td>3</td>\n",
       "    </tr>\n",
       "    <tr>\n",
       "      <th>2</th>\n",
       "      <td>123464158</td>\n",
       "      <td>1</td>\n",
       "      <td>3</td>\n",
       "      <td>101</td>\n",
       "      <td>13.732129</td>\n",
       "      <td>11.000000</td>\n",
       "      <td>1</td>\n",
       "      <td>1</td>\n",
       "    </tr>\n",
       "    <tr>\n",
       "      <th>3</th>\n",
       "      <td>123464314</td>\n",
       "      <td>1</td>\n",
       "      <td>1</td>\n",
       "      <td>171</td>\n",
       "      <td>14.077875</td>\n",
       "      <td>4.000000</td>\n",
       "      <td>0</td>\n",
       "      <td>3</td>\n",
       "    </tr>\n",
       "    <tr>\n",
       "      <th>4</th>\n",
       "      <td>123465872</td>\n",
       "      <td>2</td>\n",
       "      <td>1</td>\n",
       "      <td>306</td>\n",
       "      <td>15.251785</td>\n",
       "      <td>3.500000</td>\n",
       "      <td>0</td>\n",
       "      <td>3</td>\n",
       "    </tr>\n",
       "  </tbody>\n",
       "</table>\n",
       "</div>"
      ],
      "text/plain": [
       "  passport_id  n_ads  n_types  days_ago  log_price  mean_n_years  buyer  \\\n",
       "0   123463130     43       11       386  15.103656      7.795407      0   \n",
       "1   123463864      3        8       574  14.626536     11.750000      0   \n",
       "2   123464158      1        3       101  13.732129     11.000000      1   \n",
       "3   123464314      1        1       171  14.077875      4.000000      0   \n",
       "4   123465872      2        1       306  15.251785      3.500000      0   \n",
       "\n",
       "   cluster  \n",
       "0        2  \n",
       "1        3  \n",
       "2        1  \n",
       "3        3  \n",
       "4        3  "
      ]
     },
     "execution_count": 66,
     "metadata": {},
     "output_type": "execute_result"
    }
   ],
   "source": [
    "data['cluster'] = kmeans.labels_\n",
    "data.head()"
   ]
  },
  {
   "cell_type": "code",
   "execution_count": 67,
   "id": "fc3c94ba-18a6-4c39-abe7-762a6ac04dda",
   "metadata": {},
   "outputs": [
    {
     "data": {
      "text/plain": [
       "0    11927\n",
       "3     8569\n",
       "1     7252\n",
       "2     2015\n",
       "Name: cluster, dtype: int64"
      ]
     },
     "execution_count": 67,
     "metadata": {},
     "output_type": "execute_result"
    }
   ],
   "source": [
    "data.cluster.value_counts()"
   ]
  },
  {
   "cell_type": "code",
   "execution_count": 68,
   "id": "982fec4a-1715-4c00-8956-2fd41879a0da",
   "metadata": {},
   "outputs": [
    {
     "data": {
      "image/png": "[encoded data removed]",
      "text/plain": [
       "<Figure size 1152x648 with 1 Axes>"
      ]
     },
     "metadata": {
      "needs_background": "light"
     },
     "output_type": "display_data"
    }
   ],
   "source": [
    "plt.figure(figsize=(16, 9))\n",
    "sns.barplot(x=data.cluster.value_counts().index, y=data.cluster.value_counts().to_list());"
   ]
  },
  {
   "cell_type": "markdown",
   "id": "e0d0b025-bcfe-44a4-9837-83a010655ef0",
   "metadata": {},
   "source": [
    "### Task 10. "
   ]
  },
  {
   "cell_type": "markdown",
   "id": "d4584cb6-6079-4ae6-91ff-25eb9528e005",
   "metadata": {},
   "source": [
    "**Calculate mean values for each clusters features.**"
   ]
  },
  {
   "cell_type": "code",
   "execution_count": 69,
   "id": "b5f67b13-0a9c-4141-8b97-88a251da3b6d",
   "metadata": {},
   "outputs": [],
   "source": [
    "data = pd.merge(data, df[['passport_id', 'mean_price']].astype({'passport_id': 'str'}), how='inner', on='passport_id')"
   ]
  },
  {
   "cell_type": "code",
   "execution_count": 70,
   "id": "a46c236e-c76e-43cc-8a4e-ca9d5e2661c6",
   "metadata": {},
   "outputs": [
    {
     "data": {
      "text/html": [
       "<div>\n",
       "<style scoped>\n",
       "    .dataframe tbody tr th:only-of-type {\n",
       "        vertical-align: middle;\n",
       "    }\n",
       "\n",
       "    .dataframe tbody tr th {\n",
       "        vertical-align: top;\n",
       "    }\n",
       "\n",
       "    .dataframe thead th {\n",
       "        text-align: right;\n",
       "    }\n",
       "</style>\n",
       "<table border=\"1\" class=\"dataframe\">\n",
       "  <thead>\n",
       "    <tr style=\"text-align: right;\">\n",
       "      <th></th>\n",
       "      <th>passport_id</th>\n",
       "      <th>n_ads</th>\n",
       "      <th>n_types</th>\n",
       "      <th>days_ago</th>\n",
       "      <th>log_price</th>\n",
       "      <th>mean_n_years</th>\n",
       "      <th>buyer</th>\n",
       "      <th>cluster</th>\n",
       "      <th>mean_price</th>\n",
       "    </tr>\n",
       "  </thead>\n",
       "  <tbody>\n",
       "    <tr>\n",
       "      <th>0</th>\n",
       "      <td>123463130</td>\n",
       "      <td>43</td>\n",
       "      <td>11</td>\n",
       "      <td>386</td>\n",
       "      <td>15.103656</td>\n",
       "      <td>7.795407</td>\n",
       "      <td>0</td>\n",
       "      <td>2</td>\n",
       "      <td>3.626054e+06</td>\n",
       "    </tr>\n",
       "    <tr>\n",
       "      <th>1</th>\n",
       "      <td>123463864</td>\n",
       "      <td>3</td>\n",
       "      <td>8</td>\n",
       "      <td>574</td>\n",
       "      <td>14.626536</td>\n",
       "      <td>11.750000</td>\n",
       "      <td>0</td>\n",
       "      <td>3</td>\n",
       "      <td>2.250214e+06</td>\n",
       "    </tr>\n",
       "    <tr>\n",
       "      <th>2</th>\n",
       "      <td>123464158</td>\n",
       "      <td>1</td>\n",
       "      <td>3</td>\n",
       "      <td>101</td>\n",
       "      <td>13.732129</td>\n",
       "      <td>11.000000</td>\n",
       "      <td>1</td>\n",
       "      <td>1</td>\n",
       "      <td>9.200000e+05</td>\n",
       "    </tr>\n",
       "    <tr>\n",
       "      <th>3</th>\n",
       "      <td>123464314</td>\n",
       "      <td>1</td>\n",
       "      <td>1</td>\n",
       "      <td>171</td>\n",
       "      <td>14.077875</td>\n",
       "      <td>4.000000</td>\n",
       "      <td>0</td>\n",
       "      <td>3</td>\n",
       "      <td>1.300000e+06</td>\n",
       "    </tr>\n",
       "    <tr>\n",
       "      <th>4</th>\n",
       "      <td>123465872</td>\n",
       "      <td>2</td>\n",
       "      <td>1</td>\n",
       "      <td>306</td>\n",
       "      <td>15.251785</td>\n",
       "      <td>3.500000</td>\n",
       "      <td>0</td>\n",
       "      <td>3</td>\n",
       "      <td>4.205000e+06</td>\n",
       "    </tr>\n",
       "    <tr>\n",
       "      <th>...</th>\n",
       "      <td>...</td>\n",
       "      <td>...</td>\n",
       "      <td>...</td>\n",
       "      <td>...</td>\n",
       "      <td>...</td>\n",
       "      <td>...</td>\n",
       "      <td>...</td>\n",
       "      <td>...</td>\n",
       "      <td>...</td>\n",
       "    </tr>\n",
       "    <tr>\n",
       "      <th>29758</th>\n",
       "      <td>144977962</td>\n",
       "      <td>1</td>\n",
       "      <td>1</td>\n",
       "      <td>2</td>\n",
       "      <td>12.611538</td>\n",
       "      <td>11.000000</td>\n",
       "      <td>0</td>\n",
       "      <td>0</td>\n",
       "      <td>3.000000e+05</td>\n",
       "    </tr>\n",
       "    <tr>\n",
       "      <th>29759</th>\n",
       "      <td>144979974</td>\n",
       "      <td>1</td>\n",
       "      <td>2</td>\n",
       "      <td>1</td>\n",
       "      <td>12.793859</td>\n",
       "      <td>33.000000</td>\n",
       "      <td>1</td>\n",
       "      <td>1</td>\n",
       "      <td>3.600000e+05</td>\n",
       "    </tr>\n",
       "    <tr>\n",
       "      <th>29760</th>\n",
       "      <td>144983244</td>\n",
       "      <td>1</td>\n",
       "      <td>5</td>\n",
       "      <td>1</td>\n",
       "      <td>13.910821</td>\n",
       "      <td>15.000000</td>\n",
       "      <td>0</td>\n",
       "      <td>3</td>\n",
       "      <td>1.100000e+06</td>\n",
       "    </tr>\n",
       "    <tr>\n",
       "      <th>29761</th>\n",
       "      <td>144983322</td>\n",
       "      <td>1</td>\n",
       "      <td>3</td>\n",
       "      <td>1</td>\n",
       "      <td>12.793859</td>\n",
       "      <td>13.000000</td>\n",
       "      <td>0</td>\n",
       "      <td>0</td>\n",
       "      <td>3.600000e+05</td>\n",
       "    </tr>\n",
       "    <tr>\n",
       "      <th>29762</th>\n",
       "      <td>144986778</td>\n",
       "      <td>1</td>\n",
       "      <td>4</td>\n",
       "      <td>0</td>\n",
       "      <td>14.093142</td>\n",
       "      <td>10.000000</td>\n",
       "      <td>0</td>\n",
       "      <td>3</td>\n",
       "      <td>1.320000e+06</td>\n",
       "    </tr>\n",
       "  </tbody>\n",
       "</table>\n",
       "<p>29763 rows × 9 columns</p>\n",
       "</div>"
      ],
      "text/plain": [
       "      passport_id  n_ads  n_types  days_ago  log_price  mean_n_years  buyer  \\\n",
       "0       123463130     43       11       386  15.103656      7.795407      0   \n",
       "1       123463864      3        8       574  14.626536     11.750000      0   \n",
       "2       123464158      1        3       101  13.732129     11.000000      1   \n",
       "3       123464314      1        1       171  14.077875      4.000000      0   \n",
       "4       123465872      2        1       306  15.251785      3.500000      0   \n",
       "...           ...    ...      ...       ...        ...           ...    ...   \n",
       "29758   144977962      1        1         2  12.611538     11.000000      0   \n",
       "29759   144979974      1        2         1  12.793859     33.000000      1   \n",
       "29760   144983244      1        5         1  13.910821     15.000000      0   \n",
       "29761   144983322      1        3         1  12.793859     13.000000      0   \n",
       "29762   144986778      1        4         0  14.093142     10.000000      0   \n",
       "\n",
       "       cluster    mean_price  \n",
       "0            2  3.626054e+06  \n",
       "1            3  2.250214e+06  \n",
       "2            1  9.200000e+05  \n",
       "3            3  1.300000e+06  \n",
       "4            3  4.205000e+06  \n",
       "...        ...           ...  \n",
       "29758        0  3.000000e+05  \n",
       "29759        1  3.600000e+05  \n",
       "29760        3  1.100000e+06  \n",
       "29761        0  3.600000e+05  \n",
       "29762        3  1.320000e+06  \n",
       "\n",
       "[29763 rows x 9 columns]"
      ]
     },
     "execution_count": 70,
     "metadata": {},
     "output_type": "execute_result"
    }
   ],
   "source": [
    "data"
   ]
  },
  {
   "cell_type": "code",
   "execution_count": 71,
   "id": "63d4f03f-4613-4f9e-bfed-b6e5ee199efb",
   "metadata": {},
   "outputs": [],
   "source": [
    "cluster_stats = data.groupby('cluster', as_index=False).agg({'n_ads': 'mean',\n",
    "                                             'mean_price': 'mean',\n",
    "                                             'n_types': 'mean',\n",
    "                                             'days_ago': 'mean',\n",
    "                                             'mean_n_years': 'mean',\n",
    "                                             'buyer': 'mean',})"
   ]
  },
  {
   "cell_type": "code",
   "execution_count": 72,
   "id": "b8a2fce0-b90d-4d6c-81b5-7e3bee3d174c",
   "metadata": {},
   "outputs": [
    {
     "data": {
      "text/html": [
       "<div>\n",
       "<style scoped>\n",
       "    .dataframe tbody tr th:only-of-type {\n",
       "        vertical-align: middle;\n",
       "    }\n",
       "\n",
       "    .dataframe tbody tr th {\n",
       "        vertical-align: top;\n",
       "    }\n",
       "\n",
       "    .dataframe thead th {\n",
       "        text-align: right;\n",
       "    }\n",
       "</style>\n",
       "<table border=\"1\" class=\"dataframe\">\n",
       "  <thead>\n",
       "    <tr style=\"text-align: right;\">\n",
       "      <th></th>\n",
       "      <th>cluster</th>\n",
       "      <th>n_ads</th>\n",
       "      <th>mean_price</th>\n",
       "      <th>n_types</th>\n",
       "      <th>days_ago</th>\n",
       "      <th>mean_n_years</th>\n",
       "      <th>buyer</th>\n",
       "    </tr>\n",
       "  </thead>\n",
       "  <tbody>\n",
       "    <tr>\n",
       "      <th>0</th>\n",
       "      <td>0</td>\n",
       "      <td>3.058355</td>\n",
       "      <td>3.034001e+05</td>\n",
       "      <td>2.282217</td>\n",
       "      <td>228.992370</td>\n",
       "      <td>22.576476</td>\n",
       "      <td>0.003521</td>\n",
       "    </tr>\n",
       "    <tr>\n",
       "      <th>1</th>\n",
       "      <td>1</td>\n",
       "      <td>2.538058</td>\n",
       "      <td>9.578379e+05</td>\n",
       "      <td>4.271925</td>\n",
       "      <td>287.532819</td>\n",
       "      <td>16.361027</td>\n",
       "      <td>1.000000</td>\n",
       "    </tr>\n",
       "    <tr>\n",
       "      <th>2</th>\n",
       "      <td>2</td>\n",
       "      <td>22.249628</td>\n",
       "      <td>7.480136e+05</td>\n",
       "      <td>4.583623</td>\n",
       "      <td>345.472953</td>\n",
       "      <td>17.406206</td>\n",
       "      <td>0.098759</td>\n",
       "    </tr>\n",
       "    <tr>\n",
       "      <th>3</th>\n",
       "      <td>3</td>\n",
       "      <td>2.991248</td>\n",
       "      <td>1.571562e+06</td>\n",
       "      <td>4.612090</td>\n",
       "      <td>248.161279</td>\n",
       "      <td>10.144616</td>\n",
       "      <td>0.002217</td>\n",
       "    </tr>\n",
       "  </tbody>\n",
       "</table>\n",
       "</div>"
      ],
      "text/plain": [
       "   cluster      n_ads    mean_price   n_types    days_ago  mean_n_years  \\\n",
       "0        0   3.058355  3.034001e+05  2.282217  228.992370     22.576476   \n",
       "1        1   2.538058  9.578379e+05  4.271925  287.532819     16.361027   \n",
       "2        2  22.249628  7.480136e+05  4.583623  345.472953     17.406206   \n",
       "3        3   2.991248  1.571562e+06  4.612090  248.161279     10.144616   \n",
       "\n",
       "      buyer  \n",
       "0  0.003521  \n",
       "1  1.000000  \n",
       "2  0.098759  \n",
       "3  0.002217  "
      ]
     },
     "execution_count": 72,
     "metadata": {},
     "output_type": "execute_result"
    }
   ],
   "source": [
    "cluster_stats"
   ]
  },
  {
   "cell_type": "markdown",
   "id": "badfc899-3ec8-46e6-ab3d-c2818a94420b",
   "metadata": {},
   "source": [
    "### Task 11. "
   ]
  },
  {
   "cell_type": "markdown",
   "id": "65e52382-4d40-4e5e-893b-a8c9d479c329",
   "metadata": {},
   "source": [
    "**Which cluster did users who registered significantly before the rest fall into?**"
   ]
  },
  {
   "cell_type": "code",
   "execution_count": 73,
   "id": "5364229d-7a9d-4262-82a7-9f63280f23c9",
   "metadata": {},
   "outputs": [
    {
     "data": {
      "text/plain": [
       "2"
      ]
     },
     "execution_count": 73,
     "metadata": {},
     "output_type": "execute_result"
    }
   ],
   "source": [
    "cluster_stats[cluster_stats.days_ago == cluster_stats.days_ago.max()].cluster.values[0]"
   ]
  },
  {
   "cell_type": "markdown",
   "id": "c9b3c2c2-25e9-47e5-bae7-9e5f1d2b0696",
   "metadata": {},
   "source": [
    "### Task 12. "
   ]
  },
  {
   "cell_type": "markdown",
   "id": "07b460ec-2514-46ec-a3af-3af0637670eb",
   "metadata": {},
   "source": [
    "**Which cluster only contains users who bought cars more often than they sold them?**"
   ]
  },
  {
   "cell_type": "code",
   "execution_count": 74,
   "id": "3b289dd2-4b3b-4b3b-a872-7fa89b0ef122",
   "metadata": {},
   "outputs": [
    {
     "data": {
      "text/plain": [
       "1"
      ]
     },
     "execution_count": 74,
     "metadata": {},
     "output_type": "execute_result"
    }
   ],
   "source": [
    "cluster_stats[cluster_stats.buyer == cluster_stats.buyer.max()].cluster.values[0]"
   ]
  },
  {
   "cell_type": "markdown",
   "id": "7bc50944-e0c4-497a-8c39-ba66d8120f7c",
   "metadata": {},
   "source": [
    "### Task 13. "
   ]
  },
  {
   "cell_type": "markdown",
   "id": "3af9dab9-efec-4dbc-801b-bd72c17bfdf4",
   "metadata": {},
   "source": [
    "**Which cluster contains sellers / buyers of the cheapest cars?**"
   ]
  },
  {
   "cell_type": "code",
   "execution_count": 75,
   "id": "f396753c-d10f-40e8-9302-339c1d786dae",
   "metadata": {},
   "outputs": [
    {
     "data": {
      "text/plain": [
       "0"
      ]
     },
     "execution_count": 75,
     "metadata": {},
     "output_type": "execute_result"
    }
   ],
   "source": [
    "cluster_stats[cluster_stats.mean_price == cluster_stats.mean_price.min()].cluster.values[0]"
   ]
  },
  {
   "cell_type": "markdown",
   "id": "796a7cee-0372-4c3b-bf78-09334298f820",
   "metadata": {},
   "source": [
    "### Task 14. "
   ]
  },
  {
   "cell_type": "markdown",
   "id": "d57f4e07-1edc-4383-9ffe-a5df59ba0882",
   "metadata": {},
   "source": [
    "**Which cluster contains users who placed an average of more ads?**"
   ]
  },
  {
   "cell_type": "code",
   "execution_count": 76,
   "id": "0cec23a5-3529-47e1-9e86-5ab876c74807",
   "metadata": {},
   "outputs": [
    {
     "data": {
      "text/plain": [
       "2"
      ]
     },
     "execution_count": 76,
     "metadata": {},
     "output_type": "execute_result"
    }
   ],
   "source": [
    "cluster_stats[cluster_stats.n_ads == cluster_stats.n_ads.max()].cluster.values[0]"
   ]
  },
  {
   "cell_type": "markdown",
   "id": "380400a0-57e1-482e-bd2e-983cab60b41e",
   "metadata": {},
   "source": [
    "### Task 15. "
   ]
  },
  {
   "cell_type": "markdown",
   "id": "6b8665e2-a103-4144-b667-4b83222cf606",
   "metadata": {},
   "source": [
    "**Reduce the feature space dimension to 3 using PCA. Create a correlation matrix between components and features.**"
   ]
  },
  {
   "cell_type": "code",
   "execution_count": 77,
   "id": "b9a62436-cbfd-47d0-8599-10300a9d169c",
   "metadata": {},
   "outputs": [],
   "source": [
    "data_cp = data[['n_ads', 'n_types', 'days_ago', 'log_price', 'mean_n_years', 'buyer']]"
   ]
  },
  {
   "cell_type": "code",
   "execution_count": 78,
   "id": "45181623-60c4-4f8c-a2e8-15693807451b",
   "metadata": {},
   "outputs": [],
   "source": [
    "data_scaled_cp = pd.DataFrame(data_scaled.fit_transform(data_cp),\n",
    "                              columns=['n_ads', 'n_types', 'days_ago',\n",
    "                                       'log_price', 'mean_n_years', 'buyer'])"
   ]
  },
  {
   "cell_type": "code",
   "execution_count": 79,
   "id": "599bc5e8-79c6-4833-b53c-01f932480dff",
   "metadata": {},
   "outputs": [
    {
     "data": {
      "text/html": [
       "<div>\n",
       "<style scoped>\n",
       "    .dataframe tbody tr th:only-of-type {\n",
       "        vertical-align: middle;\n",
       "    }\n",
       "\n",
       "    .dataframe tbody tr th {\n",
       "        vertical-align: top;\n",
       "    }\n",
       "\n",
       "    .dataframe thead th {\n",
       "        text-align: right;\n",
       "    }\n",
       "</style>\n",
       "<table border=\"1\" class=\"dataframe\">\n",
       "  <thead>\n",
       "    <tr style=\"text-align: right;\">\n",
       "      <th></th>\n",
       "      <th>n_ads</th>\n",
       "      <th>n_types</th>\n",
       "      <th>days_ago</th>\n",
       "      <th>log_price</th>\n",
       "      <th>mean_n_years</th>\n",
       "      <th>buyer</th>\n",
       "    </tr>\n",
       "  </thead>\n",
       "  <tbody>\n",
       "    <tr>\n",
       "      <th>0</th>\n",
       "      <td>6.558351</td>\n",
       "      <td>2.719888</td>\n",
       "      <td>1.000688</td>\n",
       "      <td>1.962220</td>\n",
       "      <td>-1.094520</td>\n",
       "      <td>-0.581036</td>\n",
       "    </tr>\n",
       "    <tr>\n",
       "      <th>1</th>\n",
       "      <td>-0.204847</td>\n",
       "      <td>1.618180</td>\n",
       "      <td>2.455233</td>\n",
       "      <td>1.486273</td>\n",
       "      <td>-0.630965</td>\n",
       "      <td>-0.581036</td>\n",
       "    </tr>\n",
       "    <tr>\n",
       "      <th>2</th>\n",
       "      <td>-0.543007</td>\n",
       "      <td>-0.218000</td>\n",
       "      <td>-1.204340</td>\n",
       "      <td>0.594066</td>\n",
       "      <td>-0.718880</td>\n",
       "      <td>1.721064</td>\n",
       "    </tr>\n",
       "    <tr>\n",
       "      <th>3</th>\n",
       "      <td>-0.543007</td>\n",
       "      <td>-0.952472</td>\n",
       "      <td>-0.662754</td>\n",
       "      <td>0.938961</td>\n",
       "      <td>-1.539416</td>\n",
       "      <td>-0.581036</td>\n",
       "    </tr>\n",
       "    <tr>\n",
       "      <th>4</th>\n",
       "      <td>-0.373927</td>\n",
       "      <td>-0.952472</td>\n",
       "      <td>0.381733</td>\n",
       "      <td>2.109985</td>\n",
       "      <td>-1.598025</td>\n",
       "      <td>-0.581036</td>\n",
       "    </tr>\n",
       "    <tr>\n",
       "      <th>...</th>\n",
       "      <td>...</td>\n",
       "      <td>...</td>\n",
       "      <td>...</td>\n",
       "      <td>...</td>\n",
       "      <td>...</td>\n",
       "      <td>...</td>\n",
       "    </tr>\n",
       "    <tr>\n",
       "      <th>29758</th>\n",
       "      <td>-0.543007</td>\n",
       "      <td>-0.952472</td>\n",
       "      <td>-1.970297</td>\n",
       "      <td>-0.523770</td>\n",
       "      <td>-0.718880</td>\n",
       "      <td>-0.581036</td>\n",
       "    </tr>\n",
       "    <tr>\n",
       "      <th>29759</th>\n",
       "      <td>-0.543007</td>\n",
       "      <td>-0.585236</td>\n",
       "      <td>-1.978034</td>\n",
       "      <td>-0.341897</td>\n",
       "      <td>1.859949</td>\n",
       "      <td>1.721064</td>\n",
       "    </tr>\n",
       "    <tr>\n",
       "      <th>29760</th>\n",
       "      <td>-0.543007</td>\n",
       "      <td>0.516472</td>\n",
       "      <td>-1.978034</td>\n",
       "      <td>0.772318</td>\n",
       "      <td>-0.250002</td>\n",
       "      <td>-0.581036</td>\n",
       "    </tr>\n",
       "    <tr>\n",
       "      <th>29761</th>\n",
       "      <td>-0.543007</td>\n",
       "      <td>-0.218000</td>\n",
       "      <td>-1.978034</td>\n",
       "      <td>-0.341897</td>\n",
       "      <td>-0.484441</td>\n",
       "      <td>-0.581036</td>\n",
       "    </tr>\n",
       "    <tr>\n",
       "      <th>29762</th>\n",
       "      <td>-0.543007</td>\n",
       "      <td>0.149236</td>\n",
       "      <td>-1.985771</td>\n",
       "      <td>0.954191</td>\n",
       "      <td>-0.836099</td>\n",
       "      <td>-0.581036</td>\n",
       "    </tr>\n",
       "  </tbody>\n",
       "</table>\n",
       "<p>29763 rows × 6 columns</p>\n",
       "</div>"
      ],
      "text/plain": [
       "          n_ads   n_types  days_ago  log_price  mean_n_years     buyer\n",
       "0      6.558351  2.719888  1.000688   1.962220     -1.094520 -0.581036\n",
       "1     -0.204847  1.618180  2.455233   1.486273     -0.630965 -0.581036\n",
       "2     -0.543007 -0.218000 -1.204340   0.594066     -0.718880  1.721064\n",
       "3     -0.543007 -0.952472 -0.662754   0.938961     -1.539416 -0.581036\n",
       "4     -0.373927 -0.952472  0.381733   2.109985     -1.598025 -0.581036\n",
       "...         ...       ...       ...        ...           ...       ...\n",
       "29758 -0.543007 -0.952472 -1.970297  -0.523770     -0.718880 -0.581036\n",
       "29759 -0.543007 -0.585236 -1.978034  -0.341897      1.859949  1.721064\n",
       "29760 -0.543007  0.516472 -1.978034   0.772318     -0.250002 -0.581036\n",
       "29761 -0.543007 -0.218000 -1.978034  -0.341897     -0.484441 -0.581036\n",
       "29762 -0.543007  0.149236 -1.985771   0.954191     -0.836099 -0.581036\n",
       "\n",
       "[29763 rows x 6 columns]"
      ]
     },
     "execution_count": 79,
     "metadata": {},
     "output_type": "execute_result"
    }
   ],
   "source": [
    "data_scaled_cp"
   ]
  },
  {
   "cell_type": "code",
   "execution_count": 80,
   "id": "9594007e-2c33-4aa4-843a-ecd0d6c2ef1a",
   "metadata": {},
   "outputs": [],
   "source": [
    "pca = PCA(n_components=3, random_state=42)\n",
    "pca.fit(data_scaled_cp)\n",
    "data_pca = pd.DataFrame(pca.transform(data_scaled_cp), columns=[f\"PCA_{i+1}\" for i in range(3)])"
   ]
  },
  {
   "cell_type": "code",
   "execution_count": 81,
   "id": "00dba58d-8eed-420f-ad35-508eee3e5b19",
   "metadata": {},
   "outputs": [
    {
     "data": {
      "text/html": [
       "<div>\n",
       "<style scoped>\n",
       "    .dataframe tbody tr th:only-of-type {\n",
       "        vertical-align: middle;\n",
       "    }\n",
       "\n",
       "    .dataframe tbody tr th {\n",
       "        vertical-align: top;\n",
       "    }\n",
       "\n",
       "    .dataframe thead th {\n",
       "        text-align: right;\n",
       "    }\n",
       "</style>\n",
       "<table border=\"1\" class=\"dataframe\">\n",
       "  <thead>\n",
       "    <tr style=\"text-align: right;\">\n",
       "      <th></th>\n",
       "      <th>PCA_1</th>\n",
       "      <th>PCA_2</th>\n",
       "      <th>PCA_3</th>\n",
       "    </tr>\n",
       "  </thead>\n",
       "  <tbody>\n",
       "    <tr>\n",
       "      <th>0</th>\n",
       "      <td>3.700069</td>\n",
       "      <td>4.181833</td>\n",
       "      <td>3.966882</td>\n",
       "    </tr>\n",
       "    <tr>\n",
       "      <th>1</th>\n",
       "      <td>2.391656</td>\n",
       "      <td>1.259064</td>\n",
       "      <td>0.255868</td>\n",
       "    </tr>\n",
       "    <tr>\n",
       "      <th>2</th>\n",
       "      <td>0.752460</td>\n",
       "      <td>-1.387330</td>\n",
       "      <td>-1.209656</td>\n",
       "    </tr>\n",
       "    <tr>\n",
       "      <th>3</th>\n",
       "      <td>0.655049</td>\n",
       "      <td>-1.818352</td>\n",
       "      <td>0.898968</td>\n",
       "    </tr>\n",
       "    <tr>\n",
       "      <th>4</th>\n",
       "      <td>1.661555</td>\n",
       "      <td>-1.373332</td>\n",
       "      <td>1.080243</td>\n",
       "    </tr>\n",
       "    <tr>\n",
       "      <th>...</th>\n",
       "      <td>...</td>\n",
       "      <td>...</td>\n",
       "      <td>...</td>\n",
       "    </tr>\n",
       "    <tr>\n",
       "      <th>29758</th>\n",
       "      <td>-0.997677</td>\n",
       "      <td>-1.999364</td>\n",
       "      <td>0.598127</td>\n",
       "    </tr>\n",
       "    <tr>\n",
       "      <th>29759</th>\n",
       "      <td>-1.591474</td>\n",
       "      <td>-0.858474</td>\n",
       "      <td>-1.863920</td>\n",
       "    </tr>\n",
       "    <tr>\n",
       "      <th>29760</th>\n",
       "      <td>0.186328</td>\n",
       "      <td>-1.765295</td>\n",
       "      <td>0.467390</td>\n",
       "    </tr>\n",
       "    <tr>\n",
       "      <th>29761</th>\n",
       "      <td>-0.690984</td>\n",
       "      <td>-1.765551</td>\n",
       "      <td>0.461491</td>\n",
       "    </tr>\n",
       "    <tr>\n",
       "      <th>29762</th>\n",
       "      <td>0.456379</td>\n",
       "      <td>-2.120756</td>\n",
       "      <td>0.695023</td>\n",
       "    </tr>\n",
       "  </tbody>\n",
       "</table>\n",
       "<p>29763 rows × 3 columns</p>\n",
       "</div>"
      ],
      "text/plain": [
       "          PCA_1     PCA_2     PCA_3\n",
       "0      3.700069  4.181833  3.966882\n",
       "1      2.391656  1.259064  0.255868\n",
       "2      0.752460 -1.387330 -1.209656\n",
       "3      0.655049 -1.818352  0.898968\n",
       "4      1.661555 -1.373332  1.080243\n",
       "...         ...       ...       ...\n",
       "29758 -0.997677 -1.999364  0.598127\n",
       "29759 -1.591474 -0.858474 -1.863920\n",
       "29760  0.186328 -1.765295  0.467390\n",
       "29761 -0.690984 -1.765551  0.461491\n",
       "29762  0.456379 -2.120756  0.695023\n",
       "\n",
       "[29763 rows x 3 columns]"
      ]
     },
     "execution_count": 81,
     "metadata": {},
     "output_type": "execute_result"
    }
   ],
   "source": [
    "data_pca"
   ]
  },
  {
   "cell_type": "code",
   "execution_count": 82,
   "id": "4c1d7686-d67c-49af-a6fd-fea4a58311ff",
   "metadata": {},
   "outputs": [
    {
     "data": {
      "text/plain": [
       "array([0.29865068, 0.22025376, 0.18006018])"
      ]
     },
     "execution_count": 82,
     "metadata": {},
     "output_type": "execute_result"
    }
   ],
   "source": [
    "pca.explained_variance_ratio_"
   ]
  },
  {
   "cell_type": "code",
   "execution_count": 83,
   "id": "6ef8c000-c20a-4568-bf14-e231b8f44e93",
   "metadata": {},
   "outputs": [
    {
     "data": {
      "image/png": "[encoded data removed]",
      "text/plain": [
       "<Figure size 1152x720 with 2 Axes>"
      ]
     },
     "metadata": {
      "needs_background": "light"
     },
     "output_type": "display_data"
    }
   ],
   "source": [
    "fst_component_corr = data_scaled_cp.corrwith(data_pca.PCA_1)\n",
    "scnd_component_corr = data_scaled_cp.corrwith(data_pca.PCA_2)\n",
    "thrd_component_corr = data_scaled_cp.corrwith(data_pca.PCA_3)\n",
    "\n",
    "corrs = pd.concat(\n",
    "    (\n",
    "        fst_component_corr,\n",
    "        scnd_component_corr,\n",
    "        thrd_component_corr\n",
    "    ),\n",
    "    axis=1\n",
    ")\n",
    "\n",
    "corrs.columns = [f\"PCA_{i+1}\" for i in range(3)]\n",
    "\n",
    "fig = plt.figure()\n",
    "fig.set_size_inches(16, 10)\n",
    "\n",
    "sns.heatmap(corrs, \n",
    "            xticklabels=corrs.columns,\n",
    "            yticklabels=corrs.index,\n",
    "            cmap='BrBG',\n",
    "            vmin=-1,\n",
    "            vmax=1)\n",
    "\n",
    "plt.show()"
   ]
  },
  {
   "cell_type": "markdown",
   "id": "11e22041-bf9d-4929-97b2-8b694d315304",
   "metadata": {},
   "source": [
    "### Task 16. "
   ]
  },
  {
   "cell_type": "markdown",
   "id": "bd795e9c-1fad-4c37-9d12-4f64627a609a",
   "metadata": {},
   "source": [
    "**Label the KMeans clustering results in the principal component coordinates. Is it visible on the graph how the clusters are divided?**"
   ]
  },
  {
   "cell_type": "code",
   "execution_count": 84,
   "id": "ccc5034e-6af0-43e8-8178-5a3cae9cf5c3",
   "metadata": {},
   "outputs": [],
   "source": [
    "data_pca_cluster = pd.merge(data_pca.reset_index(), \n",
    "                            data.reset_index()[['index', 'cluster']],\n",
    "                            how='inner', on='index').drop('index', axis=1)"
   ]
  },
  {
   "cell_type": "code",
   "execution_count": 85,
   "id": "65d61d35-030b-433e-99aa-69ceb08aac77",
   "metadata": {},
   "outputs": [
    {
     "data": {
      "text/html": [
       "<div>\n",
       "<style scoped>\n",
       "    .dataframe tbody tr th:only-of-type {\n",
       "        vertical-align: middle;\n",
       "    }\n",
       "\n",
       "    .dataframe tbody tr th {\n",
       "        vertical-align: top;\n",
       "    }\n",
       "\n",
       "    .dataframe thead th {\n",
       "        text-align: right;\n",
       "    }\n",
       "</style>\n",
       "<table border=\"1\" class=\"dataframe\">\n",
       "  <thead>\n",
       "    <tr style=\"text-align: right;\">\n",
       "      <th></th>\n",
       "      <th>PCA_1</th>\n",
       "      <th>PCA_2</th>\n",
       "      <th>PCA_3</th>\n",
       "      <th>cluster</th>\n",
       "    </tr>\n",
       "  </thead>\n",
       "  <tbody>\n",
       "    <tr>\n",
       "      <th>0</th>\n",
       "      <td>3.700069</td>\n",
       "      <td>4.181833</td>\n",
       "      <td>3.966882</td>\n",
       "      <td>2</td>\n",
       "    </tr>\n",
       "    <tr>\n",
       "      <th>1</th>\n",
       "      <td>2.391656</td>\n",
       "      <td>1.259064</td>\n",
       "      <td>0.255868</td>\n",
       "      <td>3</td>\n",
       "    </tr>\n",
       "    <tr>\n",
       "      <th>2</th>\n",
       "      <td>0.752460</td>\n",
       "      <td>-1.387330</td>\n",
       "      <td>-1.209656</td>\n",
       "      <td>1</td>\n",
       "    </tr>\n",
       "    <tr>\n",
       "      <th>3</th>\n",
       "      <td>0.655049</td>\n",
       "      <td>-1.818352</td>\n",
       "      <td>0.898968</td>\n",
       "      <td>3</td>\n",
       "    </tr>\n",
       "    <tr>\n",
       "      <th>4</th>\n",
       "      <td>1.661555</td>\n",
       "      <td>-1.373332</td>\n",
       "      <td>1.080243</td>\n",
       "      <td>3</td>\n",
       "    </tr>\n",
       "    <tr>\n",
       "      <th>...</th>\n",
       "      <td>...</td>\n",
       "      <td>...</td>\n",
       "      <td>...</td>\n",
       "      <td>...</td>\n",
       "    </tr>\n",
       "    <tr>\n",
       "      <th>29758</th>\n",
       "      <td>-0.997677</td>\n",
       "      <td>-1.999364</td>\n",
       "      <td>0.598127</td>\n",
       "      <td>0</td>\n",
       "    </tr>\n",
       "    <tr>\n",
       "      <th>29759</th>\n",
       "      <td>-1.591474</td>\n",
       "      <td>-0.858474</td>\n",
       "      <td>-1.863920</td>\n",
       "      <td>1</td>\n",
       "    </tr>\n",
       "    <tr>\n",
       "      <th>29760</th>\n",
       "      <td>0.186328</td>\n",
       "      <td>-1.765295</td>\n",
       "      <td>0.467390</td>\n",
       "      <td>3</td>\n",
       "    </tr>\n",
       "    <tr>\n",
       "      <th>29761</th>\n",
       "      <td>-0.690984</td>\n",
       "      <td>-1.765551</td>\n",
       "      <td>0.461491</td>\n",
       "      <td>0</td>\n",
       "    </tr>\n",
       "    <tr>\n",
       "      <th>29762</th>\n",
       "      <td>0.456379</td>\n",
       "      <td>-2.120756</td>\n",
       "      <td>0.695023</td>\n",
       "      <td>3</td>\n",
       "    </tr>\n",
       "  </tbody>\n",
       "</table>\n",
       "<p>29763 rows × 4 columns</p>\n",
       "</div>"
      ],
      "text/plain": [
       "          PCA_1     PCA_2     PCA_3  cluster\n",
       "0      3.700069  4.181833  3.966882        2\n",
       "1      2.391656  1.259064  0.255868        3\n",
       "2      0.752460 -1.387330 -1.209656        1\n",
       "3      0.655049 -1.818352  0.898968        3\n",
       "4      1.661555 -1.373332  1.080243        3\n",
       "...         ...       ...       ...      ...\n",
       "29758 -0.997677 -1.999364  0.598127        0\n",
       "29759 -1.591474 -0.858474 -1.863920        1\n",
       "29760  0.186328 -1.765295  0.467390        3\n",
       "29761 -0.690984 -1.765551  0.461491        0\n",
       "29762  0.456379 -2.120756  0.695023        3\n",
       "\n",
       "[29763 rows x 4 columns]"
      ]
     },
     "execution_count": 85,
     "metadata": {},
     "output_type": "execute_result"
    }
   ],
   "source": [
    "data_pca_cluster"
   ]
  },
  {
   "cell_type": "code",
   "execution_count": 86,
   "id": "049ee1c0-961b-405a-9460-9809955e3f44",
   "metadata": {},
   "outputs": [
    {
     "data": {
      "image/png": "[encoded data removed]",
      "text/plain": [
       "<Figure size 1152x720 with 1 Axes>"
      ]
     },
     "metadata": {
      "needs_background": "light"
     },
     "output_type": "display_data"
    }
   ],
   "source": [
    "fig = plt.figure()\n",
    "fig.set_size_inches(16, 10)\n",
    "\n",
    "ax = plt.axes(projection='3d')\n",
    "ax.scatter3D(\n",
    "    data_pca_cluster['PCA_1'], \n",
    "    data_pca_cluster['PCA_2'],\n",
    "    data_pca_cluster['PCA_3'], \n",
    "    c = data_pca_cluster['cluster']\n",
    ");"
   ]
  }
 ],
 "metadata": {
  "kernelspec": {
   "display_name": "Python 3 (ipykernel)",
   "language": "python",
   "name": "python3"
  },
  "language_info": {
   "codemirror_mode": {
    "name": "ipython",
    "version": 3
   },
   "file_extension": ".py",
   "mimetype": "text/x-python",
   "name": "python",
   "nbconvert_exporter": "python",
   "pygments_lexer": "ipython3",
   "version": "3.8.10"
  }
 },
 "nbformat": 4,
 "nbformat_minor": 5
}
