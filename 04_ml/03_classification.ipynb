{
 "cells": [
  {
   "cell_type": "markdown",
   "id": "e23e1516-6e75-4e85-bf5b-0011204c6bf9",
   "metadata": {},
   "source": [
    "# Classification"
   ]
  },
  {
   "cell_type": "markdown",
   "id": "8ad67dba-80ad-46c5-ade5-7ce6464e9f6c",
   "metadata": {},
   "source": [
    "## Import libraries"
   ]
  },
  {
   "cell_type": "code",
   "execution_count": 1,
   "id": "3681443e-92b0-4ae8-86c1-bfea2e150d20",
   "metadata": {},
   "outputs": [],
   "source": [
    "#!pip install matplotlib seaborn scikit-learn"
   ]
  },
  {
   "cell_type": "code",
   "execution_count": 2,
   "id": "68a96dd2-7683-418d-bff2-7b13d50a9765",
   "metadata": {},
   "outputs": [],
   "source": [
    "import pandas as pd\n",
    "import numpy as np\n",
    "from datetime import datetime, timedelta\n",
    "\n",
    "from sklearn.compose import make_column_selector as selector\n",
    "from sklearn.model_selection import KFold\n",
    "from sklearn.compose import ColumnTransformer\n",
    "from sklearn.impute import SimpleImputer\n",
    "from sklearn.preprocessing import OneHotEncoder, MinMaxScaler\n",
    "from sklearn.pipeline import Pipeline \n",
    "\n",
    "import warnings\n",
    "warnings.filterwarnings('ignore')"
   ]
  },
  {
   "cell_type": "code",
   "execution_count": 3,
   "id": "c4490738-d320-4fd6-b131-75b67212e4b6",
   "metadata": {},
   "outputs": [
    {
     "name": "stdout",
     "output_type": "stream",
     "text": [
      "(datetime.date(2022, 2, 1), datetime.date(2022, 1, 31), 'android', 'f7411212fd0e2523e126cbfdd3f226c211212', '4beb10e1-aeeb-4c52-acd2-ce1ddbc1fc24b10e1', 22, 11, 3, 0, 0, 0, 2, 2, 0, 0, 0, 0, 0, 0)\n"
     ]
    }
   ],
   "source": [
    "from clickhouse_driver import Client\n",
    "\n",
    "\n",
    "user_name = 'user'\n",
    "pwd = 'password'\n",
    "\n",
    "# creating connection ClickHouse\n",
    "client = Client(host='clickhouse.lab.karpov.courses', port=9000,\n",
    "                user=user_name, password=pwd, database='hardda')\n",
    "\n",
    "# checking connection\n",
    "result = client.execute(\"SELECT * FROM hardda.user_dm_events LIMIT 1\")\n",
    "\n",
    "# showing the result\n",
    "for row in result[0:1]:\n",
    "    print(row)"
   ]
  },
  {
   "cell_type": "markdown",
   "id": "b6e6fc11-f7c5-4ada-a6de-eda65591c0aa",
   "metadata": {},
   "source": [
    "## Tasks"
   ]
  },
  {
   "cell_type": "markdown",
   "id": "7c334d62-e699-49c4-bb27-367395721dfd",
   "metadata": {},
   "source": [
    "### Task 1."
   ]
  },
  {
   "cell_type": "markdown",
   "id": "dcb63d57-d2f7-4948-9b43-92b2ac608650",
   "metadata": {},
   "source": [
    " **Write an SQL query to load the data.**"
   ]
  },
  {
   "cell_type": "code",
   "execution_count": 4,
   "id": "ecfd8e77-0567-4eac-a56f-554f30e520b6",
   "metadata": {},
   "outputs": [],
   "source": [
    "query = '''\n",
    "SELECT \n",
    "  la.*,\n",
    "  up.user_type_cars_name\n",
    "FROM \n",
    "  live_adverts la\n",
    "LEFT JOIN \n",
    "  user_passports up ON la.passport_id = up.passport_id\n",
    "WHERE \n",
    "  execution_date BETWEEN '2022-10-01' AND '2022-11-01'\n",
    "    AND region = 'Красноярск'\n",
    "      AND year <> '0'\n",
    "        AND created_at < '2022-10-02'\n",
    "'''"
   ]
  },
  {
   "cell_type": "code",
   "execution_count": 5,
   "id": "79f55eb9-3a10-4e28-8ad7-fc757a3dfc4c",
   "metadata": {},
   "outputs": [],
   "source": [
    "result = client.execute(query)"
   ]
  },
  {
   "cell_type": "code",
   "execution_count": 6,
   "id": "696ddd1c-e229-4578-9a7c-707005ed4af8",
   "metadata": {},
   "outputs": [
    {
     "data": {
      "text/plain": [
       "87286"
      ]
     },
     "execution_count": 6,
     "metadata": {},
     "output_type": "execute_result"
    }
   ],
   "source": [
    "len(result)"
   ]
  },
  {
   "cell_type": "code",
   "execution_count": 7,
   "id": "bd243faf-3421-4046-9ab1-c788dc95035e",
   "metadata": {},
   "outputs": [
    {
     "data": {
      "text/html": [
       "<div>\n",
       "<style scoped>\n",
       "    .dataframe tbody tr th:only-of-type {\n",
       "        vertical-align: middle;\n",
       "    }\n",
       "\n",
       "    .dataframe tbody tr th {\n",
       "        vertical-align: top;\n",
       "    }\n",
       "\n",
       "    .dataframe thead th {\n",
       "        text-align: right;\n",
       "    }\n",
       "</style>\n",
       "<table border=\"1\" class=\"dataframe\">\n",
       "  <thead>\n",
       "    <tr style=\"text-align: right;\">\n",
       "      <th></th>\n",
       "      <th>execution_date</th>\n",
       "      <th>advert_id</th>\n",
       "      <th>created_at</th>\n",
       "      <th>price</th>\n",
       "      <th>region</th>\n",
       "      <th>user_id</th>\n",
       "      <th>platform</th>\n",
       "      <th>auto_brand</th>\n",
       "      <th>auto_model</th>\n",
       "      <th>passport_id</th>\n",
       "      <th>year</th>\n",
       "      <th>user_type</th>\n",
       "      <th>user_type_cars_name</th>\n",
       "    </tr>\n",
       "  </thead>\n",
       "  <tbody>\n",
       "    <tr>\n",
       "      <th>0</th>\n",
       "      <td>2022-10-27</td>\n",
       "      <td>139107001</td>\n",
       "      <td>2014-04-18 06:30:07</td>\n",
       "      <td>1440000</td>\n",
       "      <td>Красноярск</td>\n",
       "      <td>123550057</td>\n",
       "      <td>desktop</td>\n",
       "      <td>Nissan</td>\n",
       "      <td>Patrol</td>\n",
       "      <td>123570989</td>\n",
       "      <td>2005</td>\n",
       "      <td>0</td>\n",
       "      <td>cars_simple</td>\n",
       "    </tr>\n",
       "    <tr>\n",
       "      <th>1</th>\n",
       "      <td>2022-10-27</td>\n",
       "      <td>140854575</td>\n",
       "      <td>2014-07-28 05:03:11</td>\n",
       "      <td>0</td>\n",
       "      <td>Красноярск</td>\n",
       "      <td>123927406</td>\n",
       "      <td>desktop</td>\n",
       "      <td>Unknown</td>\n",
       "      <td>Unknown model</td>\n",
       "      <td>123948401</td>\n",
       "      <td>2022</td>\n",
       "      <td>7</td>\n",
       "      <td>cars_dealer</td>\n",
       "    </tr>\n",
       "    <tr>\n",
       "      <th>2</th>\n",
       "      <td>2022-10-27</td>\n",
       "      <td>142255830</td>\n",
       "      <td>2014-10-21 17:43:15</td>\n",
       "      <td>12000000</td>\n",
       "      <td>Красноярск</td>\n",
       "      <td>123510982</td>\n",
       "      <td>unknown</td>\n",
       "      <td>Unknown</td>\n",
       "      <td>Unknown model</td>\n",
       "      <td>123531907</td>\n",
       "      <td>2012</td>\n",
       "      <td>0</td>\n",
       "      <td>cars_simple</td>\n",
       "    </tr>\n",
       "    <tr>\n",
       "      <th>3</th>\n",
       "      <td>2022-10-27</td>\n",
       "      <td>142758756</td>\n",
       "      <td>2014-11-19 07:55:28</td>\n",
       "      <td>10544000</td>\n",
       "      <td>Красноярск</td>\n",
       "      <td>124005693</td>\n",
       "      <td>desktop</td>\n",
       "      <td>Unknown</td>\n",
       "      <td>Unknown model</td>\n",
       "      <td>124026697</td>\n",
       "      <td>2022</td>\n",
       "      <td>7</td>\n",
       "      <td>cars_dealer</td>\n",
       "    </tr>\n",
       "    <tr>\n",
       "      <th>4</th>\n",
       "      <td>2022-10-27</td>\n",
       "      <td>143662578</td>\n",
       "      <td>2015-01-09 16:47:38</td>\n",
       "      <td>12000000</td>\n",
       "      <td>Красноярск</td>\n",
       "      <td>123510982</td>\n",
       "      <td>unknown</td>\n",
       "      <td>Unknown</td>\n",
       "      <td>Unknown model</td>\n",
       "      <td>123531907</td>\n",
       "      <td>2014</td>\n",
       "      <td>0</td>\n",
       "      <td>cars_simple</td>\n",
       "    </tr>\n",
       "  </tbody>\n",
       "</table>\n",
       "</div>"
      ],
      "text/plain": [
       "  execution_date  advert_id          created_at     price      region  \\\n",
       "0     2022-10-27  139107001 2014-04-18 06:30:07   1440000  Красноярск   \n",
       "1     2022-10-27  140854575 2014-07-28 05:03:11         0  Красноярск   \n",
       "2     2022-10-27  142255830 2014-10-21 17:43:15  12000000  Красноярск   \n",
       "3     2022-10-27  142758756 2014-11-19 07:55:28  10544000  Красноярск   \n",
       "4     2022-10-27  143662578 2015-01-09 16:47:38  12000000  Красноярск   \n",
       "\n",
       "     user_id platform auto_brand     auto_model  passport_id  year  user_type  \\\n",
       "0  123550057  desktop     Nissan         Patrol    123570989  2005          0   \n",
       "1  123927406  desktop    Unknown  Unknown model    123948401  2022          7   \n",
       "2  123510982  unknown    Unknown  Unknown model    123531907  2012          0   \n",
       "3  124005693  desktop    Unknown  Unknown model    124026697  2022          7   \n",
       "4  123510982  unknown    Unknown  Unknown model    123531907  2014          0   \n",
       "\n",
       "  user_type_cars_name  \n",
       "0         cars_simple  \n",
       "1         cars_dealer  \n",
       "2         cars_simple  \n",
       "3         cars_dealer  \n",
       "4         cars_simple  "
      ]
     },
     "execution_count": 7,
     "metadata": {},
     "output_type": "execute_result"
    }
   ],
   "source": [
    "df = pd.DataFrame(result, \n",
    "                  columns=['execution_date', 'advert_id', 'created_at',\n",
    "                           'price', 'region', 'user_id', 'platform',\n",
    "                           'auto_brand', 'auto_model', 'passport_id',\n",
    "                           'year', 'user_type', 'user_type_cars_name'])\n",
    "\n",
    "df.head()"
   ]
  },
  {
   "cell_type": "code",
   "execution_count": 8,
   "id": "e95035ac-c272-43ad-80c9-104287bc87a0",
   "metadata": {},
   "outputs": [
    {
     "name": "stdout",
     "output_type": "stream",
     "text": [
      "<class 'pandas.core.frame.DataFrame'>\n",
      "RangeIndex: 87286 entries, 0 to 87285\n",
      "Data columns (total 13 columns):\n",
      " #   Column               Non-Null Count  Dtype         \n",
      "---  ------               --------------  -----         \n",
      " 0   execution_date       87286 non-null  object        \n",
      " 1   advert_id            87286 non-null  int64         \n",
      " 2   created_at           87286 non-null  datetime64[ns]\n",
      " 3   price                87286 non-null  int64         \n",
      " 4   region               87286 non-null  object        \n",
      " 5   user_id              87286 non-null  int64         \n",
      " 6   platform             87286 non-null  object        \n",
      " 7   auto_brand           87286 non-null  object        \n",
      " 8   auto_model           87286 non-null  object        \n",
      " 9   passport_id          87286 non-null  int64         \n",
      " 10  year                 87286 non-null  object        \n",
      " 11  user_type            87286 non-null  int64         \n",
      " 12  user_type_cars_name  87286 non-null  object        \n",
      "dtypes: datetime64[ns](1), int64(5), object(7)\n",
      "memory usage: 8.7+ MB\n"
     ]
    }
   ],
   "source": [
    "df.info()"
   ]
  },
  {
   "cell_type": "code",
   "execution_count": 9,
   "id": "9090da25-50b3-4740-8381-0d2ad9d12c2e",
   "metadata": {},
   "outputs": [],
   "source": [
    "df['execution_date'] = pd.to_datetime(df['execution_date'], format='%Y-%m-%d')\n",
    "df['created_at'] = pd.to_datetime(df['created_at'], format='%Y-%m-%d')"
   ]
  },
  {
   "cell_type": "code",
   "execution_count": 10,
   "id": "f4778786-336b-4197-bc65-0bf0a524e317",
   "metadata": {},
   "outputs": [
    {
     "name": "stdout",
     "output_type": "stream",
     "text": [
      "<class 'pandas.core.frame.DataFrame'>\n",
      "RangeIndex: 87286 entries, 0 to 87285\n",
      "Data columns (total 13 columns):\n",
      " #   Column               Non-Null Count  Dtype         \n",
      "---  ------               --------------  -----         \n",
      " 0   execution_date       87286 non-null  datetime64[ns]\n",
      " 1   advert_id            87286 non-null  int64         \n",
      " 2   created_at           87286 non-null  datetime64[ns]\n",
      " 3   price                87286 non-null  int64         \n",
      " 4   region               87286 non-null  object        \n",
      " 5   user_id              87286 non-null  int64         \n",
      " 6   platform             87286 non-null  object        \n",
      " 7   auto_brand           87286 non-null  object        \n",
      " 8   auto_model           87286 non-null  object        \n",
      " 9   passport_id          87286 non-null  int64         \n",
      " 10  year                 87286 non-null  object        \n",
      " 11  user_type            87286 non-null  int64         \n",
      " 12  user_type_cars_name  87286 non-null  object        \n",
      "dtypes: datetime64[ns](2), int64(5), object(6)\n",
      "memory usage: 8.7+ MB\n"
     ]
    }
   ],
   "source": [
    "df.info()"
   ]
  },
  {
   "cell_type": "code",
   "execution_count": 11,
   "id": "5a4f5670-c34b-49cb-9a14-ea25a694a29e",
   "metadata": {},
   "outputs": [],
   "source": [
    "df = df.sort_values(['execution_date', 'user_id', 'advert_id']).reset_index(drop=True)"
   ]
  },
  {
   "cell_type": "code",
   "execution_count": 12,
   "id": "6747a966-593f-4199-b60e-c7ce789beaed",
   "metadata": {},
   "outputs": [
    {
     "data": {
      "text/html": [
       "<div>\n",
       "<style scoped>\n",
       "    .dataframe tbody tr th:only-of-type {\n",
       "        vertical-align: middle;\n",
       "    }\n",
       "\n",
       "    .dataframe tbody tr th {\n",
       "        vertical-align: top;\n",
       "    }\n",
       "\n",
       "    .dataframe thead th {\n",
       "        text-align: right;\n",
       "    }\n",
       "</style>\n",
       "<table border=\"1\" class=\"dataframe\">\n",
       "  <thead>\n",
       "    <tr style=\"text-align: right;\">\n",
       "      <th></th>\n",
       "      <th>execution_date</th>\n",
       "      <th>advert_id</th>\n",
       "      <th>created_at</th>\n",
       "      <th>price</th>\n",
       "      <th>region</th>\n",
       "      <th>user_id</th>\n",
       "      <th>platform</th>\n",
       "      <th>auto_brand</th>\n",
       "      <th>auto_model</th>\n",
       "      <th>passport_id</th>\n",
       "      <th>year</th>\n",
       "      <th>user_type</th>\n",
       "      <th>user_type_cars_name</th>\n",
       "    </tr>\n",
       "  </thead>\n",
       "  <tbody>\n",
       "    <tr>\n",
       "      <th>0</th>\n",
       "      <td>2022-10-01</td>\n",
       "      <td>265755191</td>\n",
       "      <td>2022-09-16 15:14:35</td>\n",
       "      <td>9560000</td>\n",
       "      <td>Красноярск</td>\n",
       "      <td>123457700</td>\n",
       "      <td>ios</td>\n",
       "      <td>Kia</td>\n",
       "      <td>Carnival</td>\n",
       "      <td>123464228</td>\n",
       "      <td>2022</td>\n",
       "      <td>0</td>\n",
       "      <td>cars_simple</td>\n",
       "    </tr>\n",
       "    <tr>\n",
       "      <th>1</th>\n",
       "      <td>2022-10-01</td>\n",
       "      <td>265927691</td>\n",
       "      <td>2022-09-20 12:20:26</td>\n",
       "      <td>1900000</td>\n",
       "      <td>Красноярск</td>\n",
       "      <td>123460471</td>\n",
       "      <td>android</td>\n",
       "      <td>Unknown</td>\n",
       "      <td>Unknown model</td>\n",
       "      <td>123467852</td>\n",
       "      <td>2003</td>\n",
       "      <td>0</td>\n",
       "      <td>cars_simple</td>\n",
       "    </tr>\n",
       "    <tr>\n",
       "      <th>2</th>\n",
       "      <td>2022-10-01</td>\n",
       "      <td>226358865</td>\n",
       "      <td>2020-02-22 10:30:11</td>\n",
       "      <td>2000000</td>\n",
       "      <td>Красноярск</td>\n",
       "      <td>123462064</td>\n",
       "      <td>desktop</td>\n",
       "      <td>Unknown</td>\n",
       "      <td>Unknown model</td>\n",
       "      <td>123469843</td>\n",
       "      <td>2007</td>\n",
       "      <td>0</td>\n",
       "      <td>cars_simple</td>\n",
       "    </tr>\n",
       "    <tr>\n",
       "      <th>3</th>\n",
       "      <td>2022-10-01</td>\n",
       "      <td>231423394</td>\n",
       "      <td>2020-07-29 09:25:16</td>\n",
       "      <td>2630000</td>\n",
       "      <td>Красноярск</td>\n",
       "      <td>123462064</td>\n",
       "      <td>desktop</td>\n",
       "      <td>Unknown</td>\n",
       "      <td>Unknown model</td>\n",
       "      <td>123469843</td>\n",
       "      <td>2007</td>\n",
       "      <td>0</td>\n",
       "      <td>cars_simple</td>\n",
       "    </tr>\n",
       "    <tr>\n",
       "      <th>4</th>\n",
       "      <td>2022-10-01</td>\n",
       "      <td>242062459</td>\n",
       "      <td>2021-04-14 07:17:07</td>\n",
       "      <td>1530000</td>\n",
       "      <td>Красноярск</td>\n",
       "      <td>123462064</td>\n",
       "      <td>desktop</td>\n",
       "      <td>Unknown</td>\n",
       "      <td>Unknown model</td>\n",
       "      <td>123469843</td>\n",
       "      <td>2002</td>\n",
       "      <td>0</td>\n",
       "      <td>cars_simple</td>\n",
       "    </tr>\n",
       "  </tbody>\n",
       "</table>\n",
       "</div>"
      ],
      "text/plain": [
       "  execution_date  advert_id          created_at    price      region  \\\n",
       "0     2022-10-01  265755191 2022-09-16 15:14:35  9560000  Красноярск   \n",
       "1     2022-10-01  265927691 2022-09-20 12:20:26  1900000  Красноярск   \n",
       "2     2022-10-01  226358865 2020-02-22 10:30:11  2000000  Красноярск   \n",
       "3     2022-10-01  231423394 2020-07-29 09:25:16  2630000  Красноярск   \n",
       "4     2022-10-01  242062459 2021-04-14 07:17:07  1530000  Красноярск   \n",
       "\n",
       "     user_id platform auto_brand     auto_model  passport_id  year  user_type  \\\n",
       "0  123457700      ios        Kia       Carnival    123464228  2022          0   \n",
       "1  123460471  android    Unknown  Unknown model    123467852  2003          0   \n",
       "2  123462064  desktop    Unknown  Unknown model    123469843  2007          0   \n",
       "3  123462064  desktop    Unknown  Unknown model    123469843  2007          0   \n",
       "4  123462064  desktop    Unknown  Unknown model    123469843  2002          0   \n",
       "\n",
       "  user_type_cars_name  \n",
       "0         cars_simple  \n",
       "1         cars_simple  \n",
       "2         cars_simple  \n",
       "3         cars_simple  \n",
       "4         cars_simple  "
      ]
     },
     "execution_count": 12,
     "metadata": {},
     "output_type": "execute_result"
    }
   ],
   "source": [
    "df.head()"
   ]
  },
  {
   "cell_type": "markdown",
   "id": "d8ac9516-0e80-49e0-81ae-62e8de2bf3d4",
   "metadata": {},
   "source": [
    "Creating CHURN flags. "
   ]
  },
  {
   "cell_type": "code",
   "execution_count": 13,
   "id": "922a1240-cc59-47f3-a8e9-e7b698d165a5",
   "metadata": {},
   "outputs": [],
   "source": [
    "churn_dct = {} \n",
    "ids_lst = df['passport_id'].unique().tolist()\n",
    "\n",
    "for id_ in ids_lst:\n",
    "    max_date = df[df['passport_id']== id_]['execution_date'].max()\n",
    "    min_date = df[df['passport_id']== id_]['execution_date'].min()\n",
    "    if (datetime(2022, 11, 1) - max_date > timedelta(days=14)) and (min_date == datetime(2022, 10, 1)):\n",
    "        churn_dct[id_] = 1\n",
    "    elif (max_date == datetime(2022, 11, 1)) and (min_date == datetime(2022, 10, 1)):\n",
    "        churn_dct[id_] = 0\n",
    "    else:\n",
    "        churn_dct[id_] = 2"
   ]
  },
  {
   "cell_type": "code",
   "execution_count": 14,
   "id": "c1bd9e56-15c1-4118-b817-d665d10b9a6f",
   "metadata": {},
   "outputs": [],
   "source": [
    "df['churn'] = df['passport_id'].map(churn_dct)"
   ]
  },
  {
   "cell_type": "code",
   "execution_count": 15,
   "id": "412575b5-b15f-4f10-98cb-0a25895c2b97",
   "metadata": {},
   "outputs": [],
   "source": [
    "main_df = pd.DataFrame(list(churn_dct.items()), columns=['passport_id', 'churn'])"
   ]
  },
  {
   "cell_type": "code",
   "execution_count": 16,
   "id": "16951303-f058-4bc3-b126-5d6e902e3798",
   "metadata": {},
   "outputs": [],
   "source": [
    "df = df[df['churn'] !=2]\n",
    "main_df = main_df[main_df['churn'] !=2]"
   ]
  },
  {
   "cell_type": "code",
   "execution_count": 17,
   "id": "8fe20cd3-7fb2-4370-affe-9b055521ff63",
   "metadata": {},
   "outputs": [],
   "source": [
    "data = df[df['execution_date']== datetime(2022, 10, 1)].reset_index(drop=True)"
   ]
  },
  {
   "cell_type": "code",
   "execution_count": 18,
   "id": "1581d0fe-42e5-47ec-8dd8-46db0808b581",
   "metadata": {},
   "outputs": [
    {
     "data": {
      "text/html": [
       "<div>\n",
       "<style scoped>\n",
       "    .dataframe tbody tr th:only-of-type {\n",
       "        vertical-align: middle;\n",
       "    }\n",
       "\n",
       "    .dataframe tbody tr th {\n",
       "        vertical-align: top;\n",
       "    }\n",
       "\n",
       "    .dataframe thead th {\n",
       "        text-align: right;\n",
       "    }\n",
       "</style>\n",
       "<table border=\"1\" class=\"dataframe\">\n",
       "  <thead>\n",
       "    <tr style=\"text-align: right;\">\n",
       "      <th></th>\n",
       "      <th>execution_date</th>\n",
       "      <th>advert_id</th>\n",
       "      <th>created_at</th>\n",
       "      <th>price</th>\n",
       "      <th>region</th>\n",
       "      <th>user_id</th>\n",
       "      <th>platform</th>\n",
       "      <th>auto_brand</th>\n",
       "      <th>auto_model</th>\n",
       "      <th>passport_id</th>\n",
       "      <th>year</th>\n",
       "      <th>user_type</th>\n",
       "      <th>user_type_cars_name</th>\n",
       "      <th>churn</th>\n",
       "    </tr>\n",
       "  </thead>\n",
       "  <tbody>\n",
       "    <tr>\n",
       "      <th>0</th>\n",
       "      <td>2022-10-01</td>\n",
       "      <td>265927691</td>\n",
       "      <td>2022-09-20 12:20:26</td>\n",
       "      <td>1900000</td>\n",
       "      <td>Красноярск</td>\n",
       "      <td>123460471</td>\n",
       "      <td>android</td>\n",
       "      <td>Unknown</td>\n",
       "      <td>Unknown model</td>\n",
       "      <td>123467852</td>\n",
       "      <td>2003</td>\n",
       "      <td>0</td>\n",
       "      <td>cars_simple</td>\n",
       "      <td>0</td>\n",
       "    </tr>\n",
       "    <tr>\n",
       "      <th>1</th>\n",
       "      <td>2022-10-01</td>\n",
       "      <td>226358865</td>\n",
       "      <td>2020-02-22 10:30:11</td>\n",
       "      <td>2000000</td>\n",
       "      <td>Красноярск</td>\n",
       "      <td>123462064</td>\n",
       "      <td>desktop</td>\n",
       "      <td>Unknown</td>\n",
       "      <td>Unknown model</td>\n",
       "      <td>123469843</td>\n",
       "      <td>2007</td>\n",
       "      <td>0</td>\n",
       "      <td>cars_simple</td>\n",
       "      <td>0</td>\n",
       "    </tr>\n",
       "    <tr>\n",
       "      <th>2</th>\n",
       "      <td>2022-10-01</td>\n",
       "      <td>231423394</td>\n",
       "      <td>2020-07-29 09:25:16</td>\n",
       "      <td>2630000</td>\n",
       "      <td>Красноярск</td>\n",
       "      <td>123462064</td>\n",
       "      <td>desktop</td>\n",
       "      <td>Unknown</td>\n",
       "      <td>Unknown model</td>\n",
       "      <td>123469843</td>\n",
       "      <td>2007</td>\n",
       "      <td>0</td>\n",
       "      <td>cars_simple</td>\n",
       "      <td>0</td>\n",
       "    </tr>\n",
       "    <tr>\n",
       "      <th>3</th>\n",
       "      <td>2022-10-01</td>\n",
       "      <td>242062459</td>\n",
       "      <td>2021-04-14 07:17:07</td>\n",
       "      <td>1530000</td>\n",
       "      <td>Красноярск</td>\n",
       "      <td>123462064</td>\n",
       "      <td>desktop</td>\n",
       "      <td>Unknown</td>\n",
       "      <td>Unknown model</td>\n",
       "      <td>123469843</td>\n",
       "      <td>2002</td>\n",
       "      <td>0</td>\n",
       "      <td>cars_simple</td>\n",
       "      <td>0</td>\n",
       "    </tr>\n",
       "    <tr>\n",
       "      <th>4</th>\n",
       "      <td>2022-10-01</td>\n",
       "      <td>249980206</td>\n",
       "      <td>2021-10-06 06:19:18</td>\n",
       "      <td>720000</td>\n",
       "      <td>Красноярск</td>\n",
       "      <td>123462064</td>\n",
       "      <td>desktop</td>\n",
       "      <td>Unknown</td>\n",
       "      <td>Unknown model</td>\n",
       "      <td>123469843</td>\n",
       "      <td>2008</td>\n",
       "      <td>0</td>\n",
       "      <td>cars_simple</td>\n",
       "      <td>0</td>\n",
       "    </tr>\n",
       "  </tbody>\n",
       "</table>\n",
       "</div>"
      ],
      "text/plain": [
       "  execution_date  advert_id          created_at    price      region  \\\n",
       "0     2022-10-01  265927691 2022-09-20 12:20:26  1900000  Красноярск   \n",
       "1     2022-10-01  226358865 2020-02-22 10:30:11  2000000  Красноярск   \n",
       "2     2022-10-01  231423394 2020-07-29 09:25:16  2630000  Красноярск   \n",
       "3     2022-10-01  242062459 2021-04-14 07:17:07  1530000  Красноярск   \n",
       "4     2022-10-01  249980206 2021-10-06 06:19:18   720000  Красноярск   \n",
       "\n",
       "     user_id platform auto_brand     auto_model  passport_id  year  user_type  \\\n",
       "0  123460471  android    Unknown  Unknown model    123467852  2003          0   \n",
       "1  123462064  desktop    Unknown  Unknown model    123469843  2007          0   \n",
       "2  123462064  desktop    Unknown  Unknown model    123469843  2007          0   \n",
       "3  123462064  desktop    Unknown  Unknown model    123469843  2002          0   \n",
       "4  123462064  desktop    Unknown  Unknown model    123469843  2008          0   \n",
       "\n",
       "  user_type_cars_name  churn  \n",
       "0         cars_simple      0  \n",
       "1         cars_simple      0  \n",
       "2         cars_simple      0  \n",
       "3         cars_simple      0  \n",
       "4         cars_simple      0  "
      ]
     },
     "execution_count": 18,
     "metadata": {},
     "output_type": "execute_result"
    }
   ],
   "source": [
    "data.head()"
   ]
  },
  {
   "cell_type": "markdown",
   "id": "12e5f45e-d3a9-46ef-a1d2-9d62341f7926",
   "metadata": {},
   "source": [
    "### Task 2. "
   ]
  },
  {
   "cell_type": "markdown",
   "id": "b151886e-0ffd-4ac9-8340-829d5b4175b5",
   "metadata": {},
   "source": [
    "**Count the number of live ads for each user on the date execution_date=='2022-10-01'. How many live ads were there in total?**"
   ]
  },
  {
   "cell_type": "code",
   "execution_count": 19,
   "id": "1e88b1b9-acd7-4ca7-8e32-b2abbd045b00",
   "metadata": {},
   "outputs": [],
   "source": [
    "opening_adverts_amount_dct = {} \n",
    "ids_lst = df['passport_id'].unique().tolist()\n",
    "\n",
    "for id_ in ids_lst:\n",
    "    adv_cnt = data[data['passport_id']== id_]['advert_id'].count()\n",
    "    opening_adverts_amount_dct[id_] = adv_cnt\n",
    "\n",
    "main_df['opening_adverts_amount'] = main_df['passport_id'].map(opening_adverts_amount_dct)"
   ]
  },
  {
   "cell_type": "code",
   "execution_count": 20,
   "id": "f7496321-c840-4f7c-a72b-8a9a9420ecf6",
   "metadata": {},
   "outputs": [
    {
     "data": {
      "text/html": [
       "<div>\n",
       "<style scoped>\n",
       "    .dataframe tbody tr th:only-of-type {\n",
       "        vertical-align: middle;\n",
       "    }\n",
       "\n",
       "    .dataframe tbody tr th {\n",
       "        vertical-align: top;\n",
       "    }\n",
       "\n",
       "    .dataframe thead th {\n",
       "        text-align: right;\n",
       "    }\n",
       "</style>\n",
       "<table border=\"1\" class=\"dataframe\">\n",
       "  <thead>\n",
       "    <tr style=\"text-align: right;\">\n",
       "      <th></th>\n",
       "      <th>passport_id</th>\n",
       "      <th>churn</th>\n",
       "      <th>opening_adverts_amount</th>\n",
       "    </tr>\n",
       "  </thead>\n",
       "  <tbody>\n",
       "    <tr>\n",
       "      <th>1</th>\n",
       "      <td>123467852</td>\n",
       "      <td>0</td>\n",
       "      <td>1</td>\n",
       "    </tr>\n",
       "    <tr>\n",
       "      <th>2</th>\n",
       "      <td>123469843</td>\n",
       "      <td>0</td>\n",
       "      <td>4</td>\n",
       "    </tr>\n",
       "    <tr>\n",
       "      <th>3</th>\n",
       "      <td>123475067</td>\n",
       "      <td>0</td>\n",
       "      <td>2</td>\n",
       "    </tr>\n",
       "    <tr>\n",
       "      <th>4</th>\n",
       "      <td>123476026</td>\n",
       "      <td>0</td>\n",
       "      <td>1</td>\n",
       "    </tr>\n",
       "    <tr>\n",
       "      <th>5</th>\n",
       "      <td>123478402</td>\n",
       "      <td>1</td>\n",
       "      <td>2</td>\n",
       "    </tr>\n",
       "    <tr>\n",
       "      <th>...</th>\n",
       "      <td>...</td>\n",
       "      <td>...</td>\n",
       "      <td>...</td>\n",
       "    </tr>\n",
       "    <tr>\n",
       "      <th>4463</th>\n",
       "      <td>144333254</td>\n",
       "      <td>1</td>\n",
       "      <td>1</td>\n",
       "    </tr>\n",
       "    <tr>\n",
       "      <th>4464</th>\n",
       "      <td>144333596</td>\n",
       "      <td>0</td>\n",
       "      <td>1</td>\n",
       "    </tr>\n",
       "    <tr>\n",
       "      <th>4466</th>\n",
       "      <td>144333976</td>\n",
       "      <td>1</td>\n",
       "      <td>1</td>\n",
       "    </tr>\n",
       "    <tr>\n",
       "      <th>4467</th>\n",
       "      <td>144334504</td>\n",
       "      <td>1</td>\n",
       "      <td>1</td>\n",
       "    </tr>\n",
       "    <tr>\n",
       "      <th>4468</th>\n",
       "      <td>144334622</td>\n",
       "      <td>1</td>\n",
       "      <td>1</td>\n",
       "    </tr>\n",
       "  </tbody>\n",
       "</table>\n",
       "<p>3741 rows × 3 columns</p>\n",
       "</div>"
      ],
      "text/plain": [
       "      passport_id  churn  opening_adverts_amount\n",
       "1       123467852      0                       1\n",
       "2       123469843      0                       4\n",
       "3       123475067      0                       2\n",
       "4       123476026      0                       1\n",
       "5       123478402      1                       2\n",
       "...           ...    ...                     ...\n",
       "4463    144333254      1                       1\n",
       "4464    144333596      0                       1\n",
       "4466    144333976      1                       1\n",
       "4467    144334504      1                       1\n",
       "4468    144334622      1                       1\n",
       "\n",
       "[3741 rows x 3 columns]"
      ]
     },
     "execution_count": 20,
     "metadata": {},
     "output_type": "execute_result"
    }
   ],
   "source": [
    "main_df"
   ]
  },
  {
   "cell_type": "code",
   "execution_count": 21,
   "id": "b4a0e88d-436d-4a03-8319-872ae0e3d586",
   "metadata": {},
   "outputs": [
    {
     "data": {
      "text/plain": [
       "4503"
      ]
     },
     "execution_count": 21,
     "metadata": {},
     "output_type": "execute_result"
    }
   ],
   "source": [
    "main_df['opening_adverts_amount'].sum()"
   ]
  },
  {
   "cell_type": "markdown",
   "id": "92137d74-b31f-4aba-a1b5-d9164be17f5b",
   "metadata": {
    "tags": []
   },
   "source": [
    "### Task 3.  "
   ]
  },
  {
   "cell_type": "markdown",
   "id": "830049b9-f37d-4c47-82b3-0e95d7db9ed3",
   "metadata": {},
   "source": [
    "**Calculate their average check (average ad price per user) with prices on execution_date=='2022-10-01'. What is the largest average check found in the resulting dataset?** "
   ]
  },
  {
   "cell_type": "code",
   "execution_count": 22,
   "id": "fb5be5f6-2671-4983-959e-44d39ddf0f3b",
   "metadata": {},
   "outputs": [],
   "source": [
    "price_dct = {} \n",
    "ids_lst = df['passport_id'].unique().tolist()\n",
    "\n",
    "for id_ in ids_lst:\n",
    "    avg_price = data[data['passport_id']== id_]['price'].mean()\n",
    "    price_dct[id_] = avg_price\n",
    "\n",
    "main_df['price'] = main_df['passport_id'].map(price_dct)"
   ]
  },
  {
   "cell_type": "code",
   "execution_count": 23,
   "id": "e1eba886-6c20-41e5-9005-52cadd711bb9",
   "metadata": {},
   "outputs": [
    {
     "data": {
      "text/plain": [
       "24000000.0"
      ]
     },
     "execution_count": 23,
     "metadata": {},
     "output_type": "execute_result"
    }
   ],
   "source": [
    "main_df.price.max()"
   ]
  },
  {
   "cell_type": "markdown",
   "id": "7b1831e5-9629-45ba-8320-429c58a760d9",
   "metadata": {},
   "source": [
    "### Task 4. "
   ]
  },
  {
   "cell_type": "markdown",
   "id": "41913718-3c9d-42cb-b61d-72ebdc7edad3",
   "metadata": {},
   "source": [
    "**Calculate the average age of cars in years. What is the median of the average car age by passport_id?** "
   ]
  },
  {
   "cell_type": "code",
   "execution_count": 24,
   "id": "5a952633-7020-44c9-94f3-9b85e12f6180",
   "metadata": {},
   "outputs": [],
   "source": [
    "age_dct = {} \n",
    "ids_lst = df['passport_id'].unique().tolist()\n",
    "\n",
    "data['year'] = data['year'].astype(int)\n",
    "data['auto_age'] = 2022 - data['year'] \n",
    "\n",
    "for id_ in ids_lst:\n",
    "    age = data[data['passport_id']== id_]['auto_age'].mean()\n",
    "    age_dct[id_] = age\n",
    "\n",
    "main_df['auto_age'] = main_df['passport_id'].map(age_dct)"
   ]
  },
  {
   "cell_type": "code",
   "execution_count": 25,
   "id": "f1f5ae51-66fb-4bee-97ec-890c704cb085",
   "metadata": {},
   "outputs": [
    {
     "data": {
      "text/plain": [
       "14.0"
      ]
     },
     "execution_count": 25,
     "metadata": {},
     "output_type": "execute_result"
    }
   ],
   "source": [
    "main_df.auto_age.median()"
   ]
  },
  {
   "cell_type": "markdown",
   "id": "6cf94e10-2a9b-4ab9-929d-858de8ce875b",
   "metadata": {},
   "source": [
    "### Task 5. "
   ]
  },
  {
   "cell_type": "markdown",
   "id": "a92b908a-9905-4287-b083-4b1954baf890",
   "metadata": {},
   "source": [
    "**Calculate the average age of ads for a user on the date execution_date=='2022-10-01' in days. What is the largest average age of an ad found in the resulting dataset?**"
   ]
  },
  {
   "cell_type": "code",
   "execution_count": 26,
   "id": "1a7fa109-332d-40cc-b7ab-1e890fb0f8bd",
   "metadata": {},
   "outputs": [],
   "source": [
    "days_dict = {} \n",
    "ids_lst = df['passport_id'].unique().tolist()\n",
    "\n",
    "data['days_dif'] = (data['execution_date'] - data['created_at']).dt.days + 1\n",
    "\n",
    "for id_ in ids_lst:\n",
    "    days = data[data['passport_id']== id_]['days_dif'].mean()\n",
    "    days_dict[id_] = days\n",
    "\n",
    "main_df['advert_age'] = main_df['passport_id'].map(days_dict)"
   ]
  },
  {
   "cell_type": "code",
   "execution_count": 27,
   "id": "3747f707-cb7b-4ab5-8003-46209915289d",
   "metadata": {},
   "outputs": [
    {
     "data": {
      "text/plain": [
       "2881.0"
      ]
     },
     "execution_count": 27,
     "metadata": {},
     "output_type": "execute_result"
    }
   ],
   "source": [
    "main_df['advert_age'].max()"
   ]
  },
  {
   "cell_type": "markdown",
   "id": "0e654218-672d-41a9-807a-29295d77ad9b",
   "metadata": {},
   "source": [
    "### Task 6. "
   ]
  },
  {
   "cell_type": "markdown",
   "id": "f2cc0059-a131-418f-9def-e6aca607d1c1",
   "metadata": {},
   "source": [
    "**Create a feature with the \"most popular platform\" for a user.**"
   ]
  },
  {
   "cell_type": "code",
   "execution_count": 28,
   "id": "7a45d43a-20e3-4ff9-8749-664e3fdd9614",
   "metadata": {},
   "outputs": [],
   "source": [
    "platform_dct = {} \n",
    "ids_lst = df['passport_id'].unique().tolist()\n",
    "\n",
    "for id_ in ids_lst:\n",
    "    if len(data[data['passport_id']== id_]['platform'].value_counts()) > 1:\n",
    "        if data[data['passport_id']== id_]['platform'].value_counts()[0] > data[data['passport_id']== id_]['platform'].value_counts()[1]:\n",
    "            platform_dct[id_] = data[data['passport_id']== id_]['platform'].value_counts().idxmax()\n",
    "        else:\n",
    "            if 'android' in data[data['passport_id']== id_]['platform'].\\\n",
    "            value_counts()[data[data['passport_id']== id_]['platform'].value_counts()== \\\n",
    "                               data[data['passport_id']== id_]['platform'].value_counts()[0]].index:\n",
    "                platform_dct[id_] = 'android'\n",
    "            elif 'ios' in data[data['passport_id']== id_]['platform'].\\\n",
    "            value_counts()[data[data['passport_id']== id_]['platform'].value_counts()== \\\n",
    "                               data[data['passport_id']== id_]['platform'].value_counts()[0]].index:\n",
    "                platform_dct[id_] = 'ios'\n",
    "            elif 'desktop' in data[data['passport_id']== id_]['platform'].\\\n",
    "            value_counts()[data[data['passport_id']== id_]['platform'].value_counts()== \\\n",
    "                               data[data['passport_id']== id_]['platform'].value_counts()[0]].index:\n",
    "                platform_dct[id_] = 'desktop'\n",
    "            elif 'unknown' in data[data['passport_id']== id_]['platform'].\\\n",
    "            value_counts()[data[data['passport_id']== id_]['platform'].value_counts()== \\\n",
    "                               data[data['passport_id']== id_]['platform'].value_counts()[0]].index:\n",
    "                platform_dct[id_] = 'unknown'\n",
    "            else:\n",
    "                platform_dct[id_] = 'mobile'\n",
    "    else:\n",
    "        platform_dct[id_] = data[data['passport_id']== id_]['platform'].value_counts().index.item()\n",
    "    \n",
    "\n",
    "main_df['platform'] = main_df['passport_id'].map(platform_dct)"
   ]
  },
  {
   "cell_type": "code",
   "execution_count": 29,
   "id": "5fa09d3a-5dc4-40a3-ae4b-9b07f56f3923",
   "metadata": {},
   "outputs": [
    {
     "data": {
      "text/plain": [
       "android    2470\n",
       "ios        1144\n",
       "desktop     126\n",
       "unknown       1\n",
       "Name: platform, dtype: int64"
      ]
     },
     "execution_count": 29,
     "metadata": {},
     "output_type": "execute_result"
    }
   ],
   "source": [
    "main_df['platform'].value_counts()"
   ]
  },
  {
   "cell_type": "markdown",
   "id": "b1d08635-02e3-48de-8c7f-086bd84ebc85",
   "metadata": {},
   "source": [
    "### Task 7. "
   ]
  },
  {
   "cell_type": "markdown",
   "id": "8ca7c2df-46ed-4155-8f72-f9f72007f1c7",
   "metadata": {},
   "source": [
    "**Create a feature that indicates whether a user has any ads for cars that are the most popular in terms of placement on the platform on the date execution_date=='2022-10-01'. A popular ad is considered to be the fact that the car model is included in the top 10 placed ads on the current date. How many passport_id have ads that are popular on the specified date?**"
   ]
  },
  {
   "cell_type": "code",
   "execution_count": 30,
   "id": "56492744-08b1-4836-ab8e-4081515a5505",
   "metadata": {},
   "outputs": [],
   "source": [
    "top_10 = data[data['auto_model'] != 'Unknown model']['auto_model'].value_counts().head(10).index"
   ]
  },
  {
   "cell_type": "code",
   "execution_count": 31,
   "id": "60e3a77a-e565-459b-b228-d11db43b2aed",
   "metadata": {},
   "outputs": [
    {
     "data": {
      "text/plain": [
       "Index(['Camry', '2110 (седан)', '2114 (хэтчбек)', 'Passat', 'ГАЗель',\n",
       "       'Granta 2190 (седан)', 'Priora 2170 (седан)', '2112 (хэтчбек)',\n",
       "       '2121 Нива', 'Priora 2172 (хэтчбек)'],\n",
       "      dtype='object')"
      ]
     },
     "execution_count": 31,
     "metadata": {},
     "output_type": "execute_result"
    }
   ],
   "source": [
    "top_10"
   ]
  },
  {
   "cell_type": "code",
   "execution_count": 32,
   "id": "c7e46e2f-965d-4fe6-881a-5ad4f7287dbc",
   "metadata": {},
   "outputs": [],
   "source": [
    "top_10_dct = {} \n",
    "ids_lst = df['passport_id'].unique().tolist()\n",
    "\n",
    "for id_ in ids_lst:\n",
    "    models_for_id = data[data['passport_id'] == id_]['auto_model'].tolist()\n",
    "    if any(model in top_10 for model in models_for_id):\n",
    "        top_10_dct[id_] = 1\n",
    "    else:\n",
    "        top_10_dct[id_] = 0\n",
    "\n",
    "main_df['is_top_model'] = main_df['passport_id'].map(top_10_dct)"
   ]
  },
  {
   "cell_type": "code",
   "execution_count": 33,
   "id": "bd8c27c6-1812-4444-b9c2-ed47c1952756",
   "metadata": {},
   "outputs": [
    {
     "data": {
      "text/plain": [
       "1109"
      ]
     },
     "execution_count": 33,
     "metadata": {},
     "output_type": "execute_result"
    }
   ],
   "source": [
    "main_df.is_top_model.sum()"
   ]
  },
  {
   "cell_type": "markdown",
   "id": "8f12cad3-0ca6-4913-8558-3dfbdaf8043f",
   "metadata": {},
   "source": [
    "### Task 8. "
   ]
  },
  {
   "cell_type": "markdown",
   "id": "303c769d-dc3d-44c6-a7fa-5946399ad624",
   "metadata": {},
   "source": [
    "**What is the least popular user type? How many users are there?**"
   ]
  },
  {
   "cell_type": "code",
   "execution_count": 34,
   "id": "862b18b7-3d0e-42a1-99cb-b3e60389fa18",
   "metadata": {},
   "outputs": [
    {
     "data": {
      "text/plain": [
       "0    3992\n",
       "6     286\n",
       "7     117\n",
       "4     108\n",
       "Name: user_type, dtype: int64"
      ]
     },
     "execution_count": 34,
     "metadata": {},
     "output_type": "execute_result"
    }
   ],
   "source": [
    "data.user_type.value_counts()"
   ]
  },
  {
   "cell_type": "code",
   "execution_count": 35,
   "id": "2b0e160c-8eb2-47c8-acc9-f9fa8f8af44f",
   "metadata": {},
   "outputs": [
    {
     "data": {
      "text/plain": [
       "cars_simple    3627\n",
       "cars_seller     518\n",
       "                244\n",
       "cars_dealer     114\n",
       "Name: user_type_cars_name, dtype: int64"
      ]
     },
     "execution_count": 35,
     "metadata": {},
     "output_type": "execute_result"
    }
   ],
   "source": [
    "data.user_type_cars_name.value_counts()"
   ]
  },
  {
   "cell_type": "code",
   "execution_count": 36,
   "id": "eec0901a-cc95-4049-b513-7d4f002edf67",
   "metadata": {},
   "outputs": [],
   "source": [
    "user_type_name_dct = {} \n",
    "ids_lst = df['passport_id'].unique().tolist()\n",
    "\n",
    "for id_ in ids_lst:\n",
    "    user_type_name_dct[id_] = data[data['passport_id'] == id_]['user_type_cars_name'].mode()[0]\n",
    "\n",
    "main_df['user_type_cars_name'] = main_df['passport_id'].map(user_type_name_dct)"
   ]
  },
  {
   "cell_type": "code",
   "execution_count": 37,
   "id": "a5d1e74f-7866-4d89-9a0b-c31ce6fa53cc",
   "metadata": {},
   "outputs": [
    {
     "data": {
      "text/plain": [
       "cars_simple    3260\n",
       "cars_seller     334\n",
       "                109\n",
       "cars_dealer      38\n",
       "Name: user_type_cars_name, dtype: int64"
      ]
     },
     "execution_count": 37,
     "metadata": {},
     "output_type": "execute_result"
    }
   ],
   "source": [
    "main_df.user_type_cars_name.value_counts()"
   ]
  },
  {
   "cell_type": "markdown",
   "id": "e0d0b025-bcfe-44a4-9837-83a010655ef0",
   "metadata": {},
   "source": [
    "### Task 9. "
   ]
  },
  {
   "cell_type": "markdown",
   "id": "d4584cb6-6079-4ae6-91ff-25eb9528e005",
   "metadata": {},
   "source": [
    "**What column has missing values?**"
   ]
  },
  {
   "cell_type": "code",
   "execution_count": 38,
   "id": "13dfefc1-ad27-4b62-82de-bfad4c63a30d",
   "metadata": {},
   "outputs": [],
   "source": [
    "main_df['user_type_cars_name'] = main_df['user_type_cars_name'].replace('', np.nan)"
   ]
  },
  {
   "cell_type": "code",
   "execution_count": 39,
   "id": "731ed3b1-7dd3-432c-8ae2-7441c2256426",
   "metadata": {},
   "outputs": [
    {
     "data": {
      "text/plain": [
       "109"
      ]
     },
     "execution_count": 39,
     "metadata": {},
     "output_type": "execute_result"
    }
   ],
   "source": [
    "main_df['user_type_cars_name'].isna().sum()"
   ]
  },
  {
   "cell_type": "markdown",
   "id": "5e7bec59-e783-47e3-aad2-2b887afc9b39",
   "metadata": {},
   "source": [
    "### Task 10. "
   ]
  },
  {
   "cell_type": "markdown",
   "id": "640f6f68-d319-4a75-b932-cbced77f1a31",
   "metadata": {},
   "source": [
    "**How balanced are the classes to be predicted? What minimum accuracy would we like to expect from the final model (round to hundredths)?**"
   ]
  },
  {
   "cell_type": "code",
   "execution_count": 40,
   "id": "617054e9-b980-4a92-9cab-494ef73e03d7",
   "metadata": {},
   "outputs": [],
   "source": [
    "main_df = main_df.sort_values('passport_id').reset_index(drop=True)"
   ]
  },
  {
   "cell_type": "code",
   "execution_count": 41,
   "id": "b979b94a-9a15-4a62-a820-f668f44464b3",
   "metadata": {},
   "outputs": [
    {
     "data": {
      "text/html": [
       "<div>\n",
       "<style scoped>\n",
       "    .dataframe tbody tr th:only-of-type {\n",
       "        vertical-align: middle;\n",
       "    }\n",
       "\n",
       "    .dataframe tbody tr th {\n",
       "        vertical-align: top;\n",
       "    }\n",
       "\n",
       "    .dataframe thead th {\n",
       "        text-align: right;\n",
       "    }\n",
       "</style>\n",
       "<table border=\"1\" class=\"dataframe\">\n",
       "  <thead>\n",
       "    <tr style=\"text-align: right;\">\n",
       "      <th></th>\n",
       "      <th>passport_id</th>\n",
       "      <th>churn</th>\n",
       "      <th>opening_adverts_amount</th>\n",
       "      <th>price</th>\n",
       "      <th>auto_age</th>\n",
       "      <th>advert_age</th>\n",
       "      <th>platform</th>\n",
       "      <th>is_top_model</th>\n",
       "      <th>user_type_cars_name</th>\n",
       "    </tr>\n",
       "  </thead>\n",
       "  <tbody>\n",
       "    <tr>\n",
       "      <th>0</th>\n",
       "      <td>123467852</td>\n",
       "      <td>0</td>\n",
       "      <td>1</td>\n",
       "      <td>1900000.0</td>\n",
       "      <td>19.0</td>\n",
       "      <td>11.00</td>\n",
       "      <td>android</td>\n",
       "      <td>0</td>\n",
       "      <td>cars_simple</td>\n",
       "    </tr>\n",
       "    <tr>\n",
       "      <th>1</th>\n",
       "      <td>123469843</td>\n",
       "      <td>0</td>\n",
       "      <td>4</td>\n",
       "      <td>1720000.0</td>\n",
       "      <td>16.0</td>\n",
       "      <td>660.25</td>\n",
       "      <td>desktop</td>\n",
       "      <td>0</td>\n",
       "      <td>cars_simple</td>\n",
       "    </tr>\n",
       "    <tr>\n",
       "      <th>2</th>\n",
       "      <td>123475067</td>\n",
       "      <td>0</td>\n",
       "      <td>2</td>\n",
       "      <td>10250000.0</td>\n",
       "      <td>7.5</td>\n",
       "      <td>632.00</td>\n",
       "      <td>android</td>\n",
       "      <td>0</td>\n",
       "      <td>cars_simple</td>\n",
       "    </tr>\n",
       "    <tr>\n",
       "      <th>3</th>\n",
       "      <td>123476026</td>\n",
       "      <td>0</td>\n",
       "      <td>1</td>\n",
       "      <td>2400000.0</td>\n",
       "      <td>14.0</td>\n",
       "      <td>2772.00</td>\n",
       "      <td>desktop</td>\n",
       "      <td>0</td>\n",
       "      <td>cars_simple</td>\n",
       "    </tr>\n",
       "    <tr>\n",
       "      <th>4</th>\n",
       "      <td>123478402</td>\n",
       "      <td>1</td>\n",
       "      <td>2</td>\n",
       "      <td>2600000.0</td>\n",
       "      <td>8.0</td>\n",
       "      <td>4.00</td>\n",
       "      <td>ios</td>\n",
       "      <td>1</td>\n",
       "      <td>cars_simple</td>\n",
       "    </tr>\n",
       "    <tr>\n",
       "      <th>...</th>\n",
       "      <td>...</td>\n",
       "      <td>...</td>\n",
       "      <td>...</td>\n",
       "      <td>...</td>\n",
       "      <td>...</td>\n",
       "      <td>...</td>\n",
       "      <td>...</td>\n",
       "      <td>...</td>\n",
       "      <td>...</td>\n",
       "    </tr>\n",
       "    <tr>\n",
       "      <th>3736</th>\n",
       "      <td>144333596</td>\n",
       "      <td>0</td>\n",
       "      <td>1</td>\n",
       "      <td>400000.0</td>\n",
       "      <td>7.0</td>\n",
       "      <td>0.00</td>\n",
       "      <td>android</td>\n",
       "      <td>0</td>\n",
       "      <td>cars_simple</td>\n",
       "    </tr>\n",
       "    <tr>\n",
       "      <th>3737</th>\n",
       "      <td>144333976</td>\n",
       "      <td>1</td>\n",
       "      <td>1</td>\n",
       "      <td>40000.0</td>\n",
       "      <td>19.0</td>\n",
       "      <td>0.00</td>\n",
       "      <td>ios</td>\n",
       "      <td>1</td>\n",
       "      <td>cars_simple</td>\n",
       "    </tr>\n",
       "    <tr>\n",
       "      <th>3738</th>\n",
       "      <td>144334504</td>\n",
       "      <td>1</td>\n",
       "      <td>1</td>\n",
       "      <td>84000.0</td>\n",
       "      <td>16.0</td>\n",
       "      <td>0.00</td>\n",
       "      <td>ios</td>\n",
       "      <td>1</td>\n",
       "      <td>cars_simple</td>\n",
       "    </tr>\n",
       "    <tr>\n",
       "      <th>3739</th>\n",
       "      <td>144334622</td>\n",
       "      <td>1</td>\n",
       "      <td>1</td>\n",
       "      <td>500000.0</td>\n",
       "      <td>23.0</td>\n",
       "      <td>0.00</td>\n",
       "      <td>android</td>\n",
       "      <td>0</td>\n",
       "      <td>cars_simple</td>\n",
       "    </tr>\n",
       "    <tr>\n",
       "      <th>3740</th>\n",
       "      <td>144334774</td>\n",
       "      <td>1</td>\n",
       "      <td>1</td>\n",
       "      <td>310000.0</td>\n",
       "      <td>19.0</td>\n",
       "      <td>0.00</td>\n",
       "      <td>android</td>\n",
       "      <td>0</td>\n",
       "      <td>NaN</td>\n",
       "    </tr>\n",
       "  </tbody>\n",
       "</table>\n",
       "<p>3741 rows × 9 columns</p>\n",
       "</div>"
      ],
      "text/plain": [
       "      passport_id  churn  opening_adverts_amount       price  auto_age  \\\n",
       "0       123467852      0                       1   1900000.0      19.0   \n",
       "1       123469843      0                       4   1720000.0      16.0   \n",
       "2       123475067      0                       2  10250000.0       7.5   \n",
       "3       123476026      0                       1   2400000.0      14.0   \n",
       "4       123478402      1                       2   2600000.0       8.0   \n",
       "...           ...    ...                     ...         ...       ...   \n",
       "3736    144333596      0                       1    400000.0       7.0   \n",
       "3737    144333976      1                       1     40000.0      19.0   \n",
       "3738    144334504      1                       1     84000.0      16.0   \n",
       "3739    144334622      1                       1    500000.0      23.0   \n",
       "3740    144334774      1                       1    310000.0      19.0   \n",
       "\n",
       "      advert_age platform  is_top_model user_type_cars_name  \n",
       "0          11.00  android             0         cars_simple  \n",
       "1         660.25  desktop             0         cars_simple  \n",
       "2         632.00  android             0         cars_simple  \n",
       "3        2772.00  desktop             0         cars_simple  \n",
       "4           4.00      ios             1         cars_simple  \n",
       "...          ...      ...           ...                 ...  \n",
       "3736        0.00  android             0         cars_simple  \n",
       "3737        0.00      ios             1         cars_simple  \n",
       "3738        0.00      ios             1         cars_simple  \n",
       "3739        0.00  android             0         cars_simple  \n",
       "3740        0.00  android             0                 NaN  \n",
       "\n",
       "[3741 rows x 9 columns]"
      ]
     },
     "execution_count": 41,
     "metadata": {},
     "output_type": "execute_result"
    }
   ],
   "source": [
    "main_df"
   ]
  },
  {
   "cell_type": "code",
   "execution_count": 42,
   "id": "8d8b50eb-a246-4841-a95b-29f30ce1cd0b",
   "metadata": {},
   "outputs": [],
   "source": [
    "X_ = main_df.drop(['churn', 'passport_id'], axis=1)\n",
    "y_ = main_df['churn']"
   ]
  },
  {
   "cell_type": "code",
   "execution_count": 43,
   "id": "f670c742-e713-4d82-8723-a5de60a06a1c",
   "metadata": {},
   "outputs": [
    {
     "name": "stdout",
     "output_type": "stream",
     "text": [
      "Minimal accuracy to expext: 0.78\n"
     ]
    }
   ],
   "source": [
    "min_accuracy = sum(y_) / len(y_)\n",
    "print(f'Minimal accuracy to expext: {round(min_accuracy, 2)}')"
   ]
  },
  {
   "cell_type": "markdown",
   "id": "cb1632d9-b94d-4321-be8f-3c6c322298a6",
   "metadata": {},
   "source": [
    "### Task 11. "
   ]
  },
  {
   "cell_type": "markdown",
   "id": "58783e0b-1157-4201-8e56-47be8ca3f5f7",
   "metadata": {},
   "source": [
    "**Prepare a validation strategy (take an ordinary KFold with parameters shuffle=True, random_state=42 and 3 folds). And then implement a basic transformer name, which:**\n",
    "\n",
    "- Fills in the missing value with the most popular value.\n",
    "- Applies OHE-encoding to categorical features.\n",
    "- Does MinMax scaling."
   ]
  },
  {
   "cell_type": "code",
   "execution_count": 44,
   "id": "f2a4c97d-359e-4b3d-8293-de859dababf7",
   "metadata": {},
   "outputs": [],
   "source": [
    "splitter = KFold(\n",
    "    n_splits=3,        \n",
    "    shuffle=True,      \n",
    "    random_state=42   \n",
    ")"
   ]
  },
  {
   "cell_type": "code",
   "execution_count": 45,
   "id": "e5ac6476-8d98-48c7-9e5f-03ab5e928bdd",
   "metadata": {},
   "outputs": [],
   "source": [
    "imputer_most_popular = ColumnTransformer(\n",
    "    transformers=[\n",
    "        ('SimpleImputer', SimpleImputer(strategy='most_frequent'), selector(dtype_exclude='number'))\n",
    "    ],\n",
    "    remainder='passthrough',          \n",
    "    verbose_feature_names_out=False\n",
    ").set_output(transform='pandas')  "
   ]
  },
  {
   "cell_type": "code",
   "execution_count": 46,
   "id": "cc7b86d3-18f3-4407-b9ca-8f3c951890fa",
   "metadata": {},
   "outputs": [],
   "source": [
    "ohe = ColumnTransformer(\n",
    "    transformers=[\n",
    "        ('OneHotEncoder', OneHotEncoder(sparse_output=False, drop='first', handle_unknown='ignore'), selector(dtype_exclude='number'))\n",
    "    ],\n",
    "    remainder='passthrough',          \n",
    "    verbose_feature_names_out=False\n",
    ").set_output(transform='pandas')   "
   ]
  },
  {
   "cell_type": "code",
   "execution_count": 47,
   "id": "ad0a1085-4e49-4fcc-a6ff-83885976a166",
   "metadata": {},
   "outputs": [],
   "source": [
    "minmax_scaler = ColumnTransformer(\n",
    "    transformers=[\n",
    "        ('MinMaxScaler', MinMaxScaler(),selector(dtype_include='number'))\n",
    "    ],\n",
    "    remainder='passthrough',          \n",
    "    verbose_feature_names_out=False\n",
    ").set_output(transform='pandas')   "
   ]
  },
  {
   "cell_type": "code",
   "execution_count": 48,
   "id": "ab0e24ed-8de9-439f-a86a-2eff8853508d",
   "metadata": {},
   "outputs": [],
   "source": [
    "final_process_pipeline = Pipeline([\n",
    "        ('imputer_most_popular', imputer_most_popular),\n",
    "        ('ohe', ohe),\n",
    "        ('minmax_scaler', minmax_scaler)\n",
    "    ])"
   ]
  },
  {
   "cell_type": "code",
   "execution_count": 49,
   "id": "d448ead6-562a-45fc-88ef-98450922562a",
   "metadata": {},
   "outputs": [],
   "source": [
    "X_transformed = final_process_pipeline.fit_transform(X_)"
   ]
  },
  {
   "cell_type": "code",
   "execution_count": 50,
   "id": "7b1ff385-b0a0-47c3-92fd-35ce9cd9f38a",
   "metadata": {},
   "outputs": [
    {
     "data": {
      "text/html": [
       "<div>\n",
       "<style scoped>\n",
       "    .dataframe tbody tr th:only-of-type {\n",
       "        vertical-align: middle;\n",
       "    }\n",
       "\n",
       "    .dataframe tbody tr th {\n",
       "        vertical-align: top;\n",
       "    }\n",
       "\n",
       "    .dataframe thead th {\n",
       "        text-align: right;\n",
       "    }\n",
       "</style>\n",
       "<table border=\"1\" class=\"dataframe\">\n",
       "  <thead>\n",
       "    <tr style=\"text-align: right;\">\n",
       "      <th></th>\n",
       "      <th>platform_desktop</th>\n",
       "      <th>platform_ios</th>\n",
       "      <th>platform_unknown</th>\n",
       "      <th>user_type_cars_name_cars_seller</th>\n",
       "      <th>user_type_cars_name_cars_simple</th>\n",
       "      <th>opening_adverts_amount</th>\n",
       "      <th>price</th>\n",
       "      <th>auto_age</th>\n",
       "      <th>advert_age</th>\n",
       "      <th>is_top_model</th>\n",
       "    </tr>\n",
       "  </thead>\n",
       "  <tbody>\n",
       "    <tr>\n",
       "      <th>0</th>\n",
       "      <td>0.0</td>\n",
       "      <td>0.0</td>\n",
       "      <td>0.0</td>\n",
       "      <td>0.0</td>\n",
       "      <td>1.0</td>\n",
       "      <td>0.000000</td>\n",
       "      <td>0.079167</td>\n",
       "      <td>0.316667</td>\n",
       "      <td>0.003818</td>\n",
       "      <td>0.0</td>\n",
       "    </tr>\n",
       "    <tr>\n",
       "      <th>1</th>\n",
       "      <td>1.0</td>\n",
       "      <td>0.0</td>\n",
       "      <td>0.0</td>\n",
       "      <td>0.0</td>\n",
       "      <td>1.0</td>\n",
       "      <td>0.125000</td>\n",
       "      <td>0.071667</td>\n",
       "      <td>0.266667</td>\n",
       "      <td>0.229174</td>\n",
       "      <td>0.0</td>\n",
       "    </tr>\n",
       "    <tr>\n",
       "      <th>2</th>\n",
       "      <td>0.0</td>\n",
       "      <td>0.0</td>\n",
       "      <td>0.0</td>\n",
       "      <td>0.0</td>\n",
       "      <td>1.0</td>\n",
       "      <td>0.041667</td>\n",
       "      <td>0.427083</td>\n",
       "      <td>0.125000</td>\n",
       "      <td>0.219368</td>\n",
       "      <td>0.0</td>\n",
       "    </tr>\n",
       "    <tr>\n",
       "      <th>3</th>\n",
       "      <td>1.0</td>\n",
       "      <td>0.0</td>\n",
       "      <td>0.0</td>\n",
       "      <td>0.0</td>\n",
       "      <td>1.0</td>\n",
       "      <td>0.000000</td>\n",
       "      <td>0.100000</td>\n",
       "      <td>0.233333</td>\n",
       "      <td>0.962166</td>\n",
       "      <td>0.0</td>\n",
       "    </tr>\n",
       "    <tr>\n",
       "      <th>4</th>\n",
       "      <td>0.0</td>\n",
       "      <td>1.0</td>\n",
       "      <td>0.0</td>\n",
       "      <td>0.0</td>\n",
       "      <td>1.0</td>\n",
       "      <td>0.041667</td>\n",
       "      <td>0.108333</td>\n",
       "      <td>0.133333</td>\n",
       "      <td>0.001388</td>\n",
       "      <td>1.0</td>\n",
       "    </tr>\n",
       "    <tr>\n",
       "      <th>...</th>\n",
       "      <td>...</td>\n",
       "      <td>...</td>\n",
       "      <td>...</td>\n",
       "      <td>...</td>\n",
       "      <td>...</td>\n",
       "      <td>...</td>\n",
       "      <td>...</td>\n",
       "      <td>...</td>\n",
       "      <td>...</td>\n",
       "      <td>...</td>\n",
       "    </tr>\n",
       "    <tr>\n",
       "      <th>3736</th>\n",
       "      <td>0.0</td>\n",
       "      <td>0.0</td>\n",
       "      <td>0.0</td>\n",
       "      <td>0.0</td>\n",
       "      <td>1.0</td>\n",
       "      <td>0.000000</td>\n",
       "      <td>0.016667</td>\n",
       "      <td>0.116667</td>\n",
       "      <td>0.000000</td>\n",
       "      <td>0.0</td>\n",
       "    </tr>\n",
       "    <tr>\n",
       "      <th>3737</th>\n",
       "      <td>0.0</td>\n",
       "      <td>1.0</td>\n",
       "      <td>0.0</td>\n",
       "      <td>0.0</td>\n",
       "      <td>1.0</td>\n",
       "      <td>0.000000</td>\n",
       "      <td>0.001667</td>\n",
       "      <td>0.316667</td>\n",
       "      <td>0.000000</td>\n",
       "      <td>1.0</td>\n",
       "    </tr>\n",
       "    <tr>\n",
       "      <th>3738</th>\n",
       "      <td>0.0</td>\n",
       "      <td>1.0</td>\n",
       "      <td>0.0</td>\n",
       "      <td>0.0</td>\n",
       "      <td>1.0</td>\n",
       "      <td>0.000000</td>\n",
       "      <td>0.003500</td>\n",
       "      <td>0.266667</td>\n",
       "      <td>0.000000</td>\n",
       "      <td>1.0</td>\n",
       "    </tr>\n",
       "    <tr>\n",
       "      <th>3739</th>\n",
       "      <td>0.0</td>\n",
       "      <td>0.0</td>\n",
       "      <td>0.0</td>\n",
       "      <td>0.0</td>\n",
       "      <td>1.0</td>\n",
       "      <td>0.000000</td>\n",
       "      <td>0.020833</td>\n",
       "      <td>0.383333</td>\n",
       "      <td>0.000000</td>\n",
       "      <td>0.0</td>\n",
       "    </tr>\n",
       "    <tr>\n",
       "      <th>3740</th>\n",
       "      <td>0.0</td>\n",
       "      <td>0.0</td>\n",
       "      <td>0.0</td>\n",
       "      <td>0.0</td>\n",
       "      <td>1.0</td>\n",
       "      <td>0.000000</td>\n",
       "      <td>0.012917</td>\n",
       "      <td>0.316667</td>\n",
       "      <td>0.000000</td>\n",
       "      <td>0.0</td>\n",
       "    </tr>\n",
       "  </tbody>\n",
       "</table>\n",
       "<p>3741 rows × 10 columns</p>\n",
       "</div>"
      ],
      "text/plain": [
       "      platform_desktop  platform_ios  platform_unknown  \\\n",
       "0                  0.0           0.0               0.0   \n",
       "1                  1.0           0.0               0.0   \n",
       "2                  0.0           0.0               0.0   \n",
       "3                  1.0           0.0               0.0   \n",
       "4                  0.0           1.0               0.0   \n",
       "...                ...           ...               ...   \n",
       "3736               0.0           0.0               0.0   \n",
       "3737               0.0           1.0               0.0   \n",
       "3738               0.0           1.0               0.0   \n",
       "3739               0.0           0.0               0.0   \n",
       "3740               0.0           0.0               0.0   \n",
       "\n",
       "      user_type_cars_name_cars_seller  user_type_cars_name_cars_simple  \\\n",
       "0                                 0.0                              1.0   \n",
       "1                                 0.0                              1.0   \n",
       "2                                 0.0                              1.0   \n",
       "3                                 0.0                              1.0   \n",
       "4                                 0.0                              1.0   \n",
       "...                               ...                              ...   \n",
       "3736                              0.0                              1.0   \n",
       "3737                              0.0                              1.0   \n",
       "3738                              0.0                              1.0   \n",
       "3739                              0.0                              1.0   \n",
       "3740                              0.0                              1.0   \n",
       "\n",
       "      opening_adverts_amount     price  auto_age  advert_age  is_top_model  \n",
       "0                   0.000000  0.079167  0.316667    0.003818           0.0  \n",
       "1                   0.125000  0.071667  0.266667    0.229174           0.0  \n",
       "2                   0.041667  0.427083  0.125000    0.219368           0.0  \n",
       "3                   0.000000  0.100000  0.233333    0.962166           0.0  \n",
       "4                   0.041667  0.108333  0.133333    0.001388           1.0  \n",
       "...                      ...       ...       ...         ...           ...  \n",
       "3736                0.000000  0.016667  0.116667    0.000000           0.0  \n",
       "3737                0.000000  0.001667  0.316667    0.000000           1.0  \n",
       "3738                0.000000  0.003500  0.266667    0.000000           1.0  \n",
       "3739                0.000000  0.020833  0.383333    0.000000           0.0  \n",
       "3740                0.000000  0.012917  0.316667    0.000000           0.0  \n",
       "\n",
       "[3741 rows x 10 columns]"
      ]
     },
     "execution_count": 50,
     "metadata": {},
     "output_type": "execute_result"
    }
   ],
   "source": [
    "X_transformed"
   ]
  },
  {
   "cell_type": "code",
   "execution_count": 51,
   "id": "3184070c-2a14-47ae-9b16-170fc190ecf7",
   "metadata": {},
   "outputs": [],
   "source": [
    "X_transformed.to_csv('X_transformed.csv', index=False)"
   ]
  },
  {
   "cell_type": "markdown",
   "id": "22605302-e44a-4997-b2ab-1367c9672a74",
   "metadata": {},
   "source": [
    "### Task 12. "
   ]
  },
  {
   "cell_type": "markdown",
   "id": "50aae0d7-5202-494e-ac68-223b1936d31f",
   "metadata": {},
   "source": [
    "tbc.."
   ]
  },
  {
   "cell_type": "code",
   "execution_count": null,
   "id": "6a89f95b-57fb-4370-8af3-5a464190324d",
   "metadata": {},
   "outputs": [],
   "source": []
  },
  {
   "cell_type": "code",
   "execution_count": null,
   "id": "32a6277a-0cc2-4267-94ea-5feb626d4c8f",
   "metadata": {},
   "outputs": [],
   "source": []
  },
  {
   "cell_type": "code",
   "execution_count": null,
   "id": "b4630d94-d9e1-4239-8eba-46c906c512e5",
   "metadata": {},
   "outputs": [],
   "source": []
  },
  {
   "cell_type": "code",
   "execution_count": null,
   "id": "0816e6eb-07d8-48e2-a0d3-3d47f3cede59",
   "metadata": {},
   "outputs": [],
   "source": []
  },
  {
   "cell_type": "code",
   "execution_count": null,
   "id": "59b39966-2b7c-475d-b23e-0f15c704d9f3",
   "metadata": {},
   "outputs": [],
   "source": []
  },
  {
   "cell_type": "code",
   "execution_count": null,
   "id": "3b6c1a53-b3f9-4b4c-a7b5-249af9413264",
   "metadata": {},
   "outputs": [],
   "source": []
  },
  {
   "cell_type": "code",
   "execution_count": null,
   "id": "1e6ee56b-cd16-4921-ba24-cb5903cad479",
   "metadata": {},
   "outputs": [],
   "source": []
  },
  {
   "cell_type": "code",
   "execution_count": null,
   "id": "f01d7afe-0e8c-4533-b3fe-0749822e90b9",
   "metadata": {},
   "outputs": [],
   "source": []
  },
  {
   "cell_type": "code",
   "execution_count": null,
   "id": "7021829f-b234-49c0-a25a-41d10c7edde1",
   "metadata": {},
   "outputs": [],
   "source": []
  },
  {
   "cell_type": "code",
   "execution_count": null,
   "id": "a88a3090-575d-400b-8c82-317b090f4734",
   "metadata": {},
   "outputs": [],
   "source": []
  },
  {
   "cell_type": "code",
   "execution_count": null,
   "id": "d484c87b-408f-4b52-bffc-e22453c9672d",
   "metadata": {},
   "outputs": [],
   "source": []
  },
  {
   "cell_type": "code",
   "execution_count": null,
   "id": "8b54ef75-f3a0-4fa7-a834-6c3d573829be",
   "metadata": {},
   "outputs": [],
   "source": []
  },
  {
   "cell_type": "code",
   "execution_count": null,
   "id": "ea6a95ba-755d-4f16-b968-f9832a5b214e",
   "metadata": {},
   "outputs": [],
   "source": []
  },
  {
   "cell_type": "code",
   "execution_count": null,
   "id": "14626018-7b2e-498d-a72d-926ab99edc8a",
   "metadata": {},
   "outputs": [],
   "source": []
  },
  {
   "cell_type": "code",
   "execution_count": null,
   "id": "c4c6bf2c-5565-4ddb-90ff-8142ecac5c5b",
   "metadata": {},
   "outputs": [],
   "source": []
  },
  {
   "cell_type": "code",
   "execution_count": null,
   "id": "44723f54-a0b1-4e72-a835-beaa78417740",
   "metadata": {},
   "outputs": [],
   "source": []
  },
  {
   "cell_type": "code",
   "execution_count": null,
   "id": "defdac3d-5549-4856-b77c-c46cb868826f",
   "metadata": {},
   "outputs": [],
   "source": []
  },
  {
   "cell_type": "code",
   "execution_count": null,
   "id": "e9f9aa6c-909f-429a-80dd-80cb4ac0b61b",
   "metadata": {},
   "outputs": [],
   "source": []
  },
  {
   "cell_type": "code",
   "execution_count": null,
   "id": "5078e897-b51d-45c0-b002-592e54aabc6e",
   "metadata": {},
   "outputs": [],
   "source": []
  },
  {
   "cell_type": "code",
   "execution_count": null,
   "id": "044e4d61-d35d-4596-8719-a62e15963c07",
   "metadata": {},
   "outputs": [],
   "source": []
  },
  {
   "cell_type": "code",
   "execution_count": null,
   "id": "3be90861-2d34-48f3-afc6-7924bfa82aae",
   "metadata": {},
   "outputs": [],
   "source": []
  },
  {
   "cell_type": "code",
   "execution_count": null,
   "id": "b3166b86-6492-4e34-af86-2a391521e0ee",
   "metadata": {},
   "outputs": [],
   "source": []
  },
  {
   "cell_type": "code",
   "execution_count": null,
   "id": "7809498f-bc12-41c8-a272-3301eca3cb09",
   "metadata": {},
   "outputs": [],
   "source": []
  },
  {
   "cell_type": "code",
   "execution_count": null,
   "id": "812e0f96-78a2-4b14-b1f6-3b91e82f48a0",
   "metadata": {},
   "outputs": [],
   "source": []
  },
  {
   "cell_type": "code",
   "execution_count": null,
   "id": "c57799fb-f9c7-4158-b740-435f2afd1b9f",
   "metadata": {},
   "outputs": [],
   "source": []
  },
  {
   "cell_type": "code",
   "execution_count": null,
   "id": "963bee11-6f45-4828-ba65-8cab5b72b63a",
   "metadata": {},
   "outputs": [],
   "source": []
  },
  {
   "cell_type": "code",
   "execution_count": null,
   "id": "f05a29ad-4d9b-4ba8-a84b-84be706129b4",
   "metadata": {},
   "outputs": [],
   "source": []
  },
  {
   "cell_type": "code",
   "execution_count": null,
   "id": "14e0567e-a3e0-492b-a5c1-a81b1f21d4e1",
   "metadata": {},
   "outputs": [],
   "source": []
  },
  {
   "cell_type": "code",
   "execution_count": null,
   "id": "24cba295-c242-42e2-97d9-8bcbeeeed7dc",
   "metadata": {},
   "outputs": [],
   "source": []
  }
 ],
 "metadata": {
  "kernelspec": {
   "display_name": "Python 3 (ipykernel)",
   "language": "python",
   "name": "python3"
  },
  "language_info": {
   "codemirror_mode": {
    "name": "ipython",
    "version": 3
   },
   "file_extension": ".py",
   "mimetype": "text/x-python",
   "name": "python",
   "nbconvert_exporter": "python",
   "pygments_lexer": "ipython3",
   "version": "3.8.10"
  }
 },
 "nbformat": 4,
 "nbformat_minor": 5
}
