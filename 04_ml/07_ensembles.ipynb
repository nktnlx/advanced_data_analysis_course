{
 "cells": [
  {
   "cell_type": "markdown",
   "id": "e23e1516-6e75-4e85-bf5b-0011204c6bf9",
   "metadata": {},
   "source": [
    "# Time Series Forecasting"
   ]
  },
  {
   "cell_type": "markdown",
   "id": "8ad67dba-80ad-46c5-ade5-7ce6464e9f6c",
   "metadata": {},
   "source": [
    "## Import libraries"
   ]
  },
  {
   "cell_type": "code",
   "execution_count": 1,
   "id": "68a96dd2-7683-418d-bff2-7b13d50a9765",
   "metadata": {},
   "outputs": [],
   "source": [
    "import pandas as pd\n",
    "import numpy as np\n",
    "import seaborn as sns\n",
    "import matplotlib.pyplot as plt\n",
    "\n",
    "from sklearn.model_selection import train_test_split\n",
    "from sklearn.pipeline import Pipeline\n",
    "from sklearn.preprocessing import OneHotEncoder, StandardScaler\n",
    "from sklearn.compose import ColumnTransformer\n",
    "from sklearn.compose import make_column_selector as selector\n",
    "from sklearn.tree import DecisionTreeRegressor\n",
    "from sklearn.model_selection import GridSearchCV\n",
    "from sklearn.model_selection import TimeSeriesSplit\n",
    "from sklearn.metrics import r2_score\n",
    "\n",
    "\n",
    "import warnings\n",
    "warnings.filterwarnings('ignore')"
   ]
  },
  {
   "cell_type": "code",
   "execution_count": 2,
   "id": "c4490738-d320-4fd6-b131-75b67212e4b6",
   "metadata": {},
   "outputs": [
    {
     "name": "stdout",
     "output_type": "stream",
     "text": [
      "(datetime.date(2022, 2, 1), datetime.date(2022, 1, 31), 'android', 'f7411212fd0e2523e126cbfdd3f226c211212', '4beb10e1-aeeb-4c52-acd2-ce1ddbc1fc24b10e1', 22, 11, 3, 0, 0, 0, 2, 2, 0, 0, 0, 0, 0, 0)\n"
     ]
    }
   ],
   "source": [
    "from clickhouse_driver import Client\n",
    "\n",
    "\n",
    "user_name = 'user_name'\n",
    "pwd = 'password'\n",
    "\n",
    "# creating connection ClickHouse\n",
    "client = Client(host='clickhouse.lab.karpov.courses', port=9000,\n",
    "                user=user_name, password=pwd, database='hardda')\n",
    "\n",
    "# checking connection\n",
    "result = client.execute(\"SELECT * FROM hardda.user_dm_events LIMIT 1\")\n",
    "\n",
    "# showing the result\n",
    "for row in result[0:1]:\n",
    "    print(row)"
   ]
  },
  {
   "cell_type": "markdown",
   "id": "b6e6fc11-f7c5-4ada-a6de-eda65591c0aa",
   "metadata": {},
   "source": [
    "## Tasks"
   ]
  },
  {
   "cell_type": "markdown",
   "id": "7c334d62-e699-49c4-bb27-367395721dfd",
   "metadata": {},
   "source": [
    "### Task 1."
   ]
  },
  {
   "cell_type": "markdown",
   "id": "dcb63d57-d2f7-4948-9b43-92b2ac608650",
   "metadata": {},
   "source": [
    " **Write an SQL query to load the data.**"
   ]
  },
  {
   "cell_type": "markdown",
   "id": "c506f5ed-fd16-49fa-900b-69d13b7cc400",
   "metadata": {},
   "source": [
    "`live_adverts`"
   ]
  },
  {
   "cell_type": "code",
   "execution_count": 3,
   "id": "3769621b-c453-45b1-bcc2-aab75350f025",
   "metadata": {},
   "outputs": [
    {
     "data": {
      "text/plain": [
       "[('execution_date', 'Date32', '', '', '', 'DoubleDelta', ''),\n",
       " ('advert_id', 'UInt64', '', '', '', 'T64', ''),\n",
       " ('created_at', 'DateTime', '', '', '', 'DoubleDelta', ''),\n",
       " ('price', 'UInt64', '', '', '', 'Gorilla', ''),\n",
       " ('region', 'LowCardinality(String)', '', '', '', '', ''),\n",
       " ('user_id', 'UInt32', '', '', '', 'T64', ''),\n",
       " ('platform', 'LowCardinality(String)', '', '', '', '', ''),\n",
       " ('auto_brand', 'LowCardinality(String)', '', '', '', '', ''),\n",
       " ('auto_model', 'LowCardinality(String)', '', '', '', '', ''),\n",
       " ('passport_id', 'UInt32', '', '', '', 'T64', ''),\n",
       " ('year', 'LowCardinality(String)', '', '', '', '', ''),\n",
       " ('userType', 'UInt8', '', '', '', 'T64', '')]"
      ]
     },
     "execution_count": 3,
     "metadata": {},
     "output_type": "execute_result"
    }
   ],
   "source": [
    "user_passports_desc = client.execute(\"\"\"\n",
    "DESCRIBE TABLE live_adverts\n",
    "\"\"\")\n",
    "\n",
    "user_passports_desc"
   ]
  },
  {
   "cell_type": "code",
   "execution_count": 4,
   "id": "802e58df-ff45-436c-9e07-d7e1938c99f6",
   "metadata": {},
   "outputs": [],
   "source": [
    "query = '''\n",
    "SELECT \n",
    "  la.*, \n",
    "  up.user_type_cars_name\n",
    "FROM \n",
    "  live_adverts as la\n",
    "LEFT JOIN \n",
    "  user_passports AS up on la.user_id= up.global_id\n",
    "WHERE \n",
    "  la.created_at::Date = '2023-01-30' \n",
    "    AND la.price > 1000 \n",
    "      AND la.year != '0'\n",
    "'''"
   ]
  },
  {
   "cell_type": "code",
   "execution_count": 5,
   "id": "79f55eb9-3a10-4e28-8ad7-fc757a3dfc4c",
   "metadata": {},
   "outputs": [],
   "source": [
    "result = client.execute(query)"
   ]
  },
  {
   "cell_type": "code",
   "execution_count": 6,
   "id": "696ddd1c-e229-4578-9a7c-707005ed4af8",
   "metadata": {},
   "outputs": [
    {
     "data": {
      "text/plain": [
       "33070"
      ]
     },
     "execution_count": 6,
     "metadata": {},
     "output_type": "execute_result"
    }
   ],
   "source": [
    "len(result)"
   ]
  },
  {
   "cell_type": "code",
   "execution_count": 7,
   "id": "bd243faf-3421-4046-9ab1-c788dc95035e",
   "metadata": {},
   "outputs": [
    {
     "data": {
      "text/html": [
       "<div>\n",
       "<style scoped>\n",
       "    .dataframe tbody tr th:only-of-type {\n",
       "        vertical-align: middle;\n",
       "    }\n",
       "\n",
       "    .dataframe tbody tr th {\n",
       "        vertical-align: top;\n",
       "    }\n",
       "\n",
       "    .dataframe thead th {\n",
       "        text-align: right;\n",
       "    }\n",
       "</style>\n",
       "<table border=\"1\" class=\"dataframe\">\n",
       "  <thead>\n",
       "    <tr style=\"text-align: right;\">\n",
       "      <th></th>\n",
       "      <th>execution_date</th>\n",
       "      <th>advert_id</th>\n",
       "      <th>created_at</th>\n",
       "      <th>price</th>\n",
       "      <th>region</th>\n",
       "      <th>user_id</th>\n",
       "      <th>platform</th>\n",
       "      <th>auto_brand</th>\n",
       "      <th>auto_model</th>\n",
       "      <th>passport_id</th>\n",
       "      <th>year</th>\n",
       "      <th>userType</th>\n",
       "      <th>user_type_cars_name</th>\n",
       "    </tr>\n",
       "  </thead>\n",
       "  <tbody>\n",
       "    <tr>\n",
       "      <th>0</th>\n",
       "      <td>2023-01-31</td>\n",
       "      <td>271540911</td>\n",
       "      <td>2023-01-30 00:00:17</td>\n",
       "      <td>620000</td>\n",
       "      <td>Сочи</td>\n",
       "      <td>151328585</td>\n",
       "      <td>ios</td>\n",
       "      <td>Chevrolet</td>\n",
       "      <td>Cruze</td>\n",
       "      <td>144703780</td>\n",
       "      <td>2010</td>\n",
       "      <td>0</td>\n",
       "      <td>cars_simple</td>\n",
       "    </tr>\n",
       "    <tr>\n",
       "      <th>1</th>\n",
       "      <td>2023-01-31</td>\n",
       "      <td>271540913</td>\n",
       "      <td>2023-01-30 00:01:21</td>\n",
       "      <td>4970000</td>\n",
       "      <td>Москва</td>\n",
       "      <td>123929189</td>\n",
       "      <td>android</td>\n",
       "      <td>Toyota</td>\n",
       "      <td>Land Cruiser</td>\n",
       "      <td>123950184</td>\n",
       "      <td>2013</td>\n",
       "      <td>6</td>\n",
       "      <td>cars_seller</td>\n",
       "    </tr>\n",
       "    <tr>\n",
       "      <th>2</th>\n",
       "      <td>2023-01-31</td>\n",
       "      <td>271540914</td>\n",
       "      <td>2023-01-30 00:04:42</td>\n",
       "      <td>800000</td>\n",
       "      <td>Москва</td>\n",
       "      <td>137723514</td>\n",
       "      <td>android</td>\n",
       "      <td>Subaru</td>\n",
       "      <td>Impreza</td>\n",
       "      <td>134075141</td>\n",
       "      <td>2006</td>\n",
       "      <td>0</td>\n",
       "      <td>cars_simple</td>\n",
       "    </tr>\n",
       "    <tr>\n",
       "      <th>3</th>\n",
       "      <td>2023-01-31</td>\n",
       "      <td>271540915</td>\n",
       "      <td>2023-01-30 00:04:57</td>\n",
       "      <td>280000</td>\n",
       "      <td>Пермь</td>\n",
       "      <td>142310446</td>\n",
       "      <td>android</td>\n",
       "      <td>Mitsubishi</td>\n",
       "      <td>RVR</td>\n",
       "      <td>137387157</td>\n",
       "      <td>1995</td>\n",
       "      <td>0</td>\n",
       "      <td>cars_simple</td>\n",
       "    </tr>\n",
       "    <tr>\n",
       "      <th>4</th>\n",
       "      <td>2023-01-31</td>\n",
       "      <td>271540920</td>\n",
       "      <td>2023-01-30 00:06:14</td>\n",
       "      <td>540000</td>\n",
       "      <td>Воронеж</td>\n",
       "      <td>152083420</td>\n",
       "      <td>android</td>\n",
       "      <td>Toyota</td>\n",
       "      <td>Previa</td>\n",
       "      <td>144920294</td>\n",
       "      <td>1994</td>\n",
       "      <td>0</td>\n",
       "      <td></td>\n",
       "    </tr>\n",
       "    <tr>\n",
       "      <th>...</th>\n",
       "      <td>...</td>\n",
       "      <td>...</td>\n",
       "      <td>...</td>\n",
       "      <td>...</td>\n",
       "      <td>...</td>\n",
       "      <td>...</td>\n",
       "      <td>...</td>\n",
       "      <td>...</td>\n",
       "      <td>...</td>\n",
       "      <td>...</td>\n",
       "      <td>...</td>\n",
       "      <td>...</td>\n",
       "      <td>...</td>\n",
       "    </tr>\n",
       "    <tr>\n",
       "      <th>33065</th>\n",
       "      <td>2023-01-30</td>\n",
       "      <td>271586342</td>\n",
       "      <td>2023-01-30 17:53:08</td>\n",
       "      <td>194000</td>\n",
       "      <td>Казань</td>\n",
       "      <td>136396233</td>\n",
       "      <td>android</td>\n",
       "      <td>Unknown</td>\n",
       "      <td>Unknown model</td>\n",
       "      <td>133196873</td>\n",
       "      <td>2021</td>\n",
       "      <td>0</td>\n",
       "      <td>cars_simple</td>\n",
       "    </tr>\n",
       "    <tr>\n",
       "      <th>33066</th>\n",
       "      <td>2023-01-30</td>\n",
       "      <td>271586346</td>\n",
       "      <td>2023-01-30 17:53:21</td>\n",
       "      <td>1400000</td>\n",
       "      <td>Москва</td>\n",
       "      <td>123663563</td>\n",
       "      <td>android</td>\n",
       "      <td>Toyota</td>\n",
       "      <td>Camry</td>\n",
       "      <td>123684510</td>\n",
       "      <td>2007</td>\n",
       "      <td>0</td>\n",
       "      <td>cars_simple</td>\n",
       "    </tr>\n",
       "    <tr>\n",
       "      <th>33067</th>\n",
       "      <td>2023-01-30</td>\n",
       "      <td>271586370</td>\n",
       "      <td>2023-01-30 17:54:03</td>\n",
       "      <td>960000</td>\n",
       "      <td>Ростов-на-Дону</td>\n",
       "      <td>128075266</td>\n",
       "      <td>ios</td>\n",
       "      <td>Toyota</td>\n",
       "      <td>Camry</td>\n",
       "      <td>127561951</td>\n",
       "      <td>2007</td>\n",
       "      <td>0</td>\n",
       "      <td>cars_simple</td>\n",
       "    </tr>\n",
       "    <tr>\n",
       "      <th>33068</th>\n",
       "      <td>2023-01-30</td>\n",
       "      <td>271586391</td>\n",
       "      <td>2023-01-30 17:54:42</td>\n",
       "      <td>110000</td>\n",
       "      <td>Сочи</td>\n",
       "      <td>139693414</td>\n",
       "      <td>ios</td>\n",
       "      <td>ВАЗ (Lada)</td>\n",
       "      <td>2115 (седан)</td>\n",
       "      <td>135378755</td>\n",
       "      <td>2005</td>\n",
       "      <td>0</td>\n",
       "      <td>cars_simple</td>\n",
       "    </tr>\n",
       "    <tr>\n",
       "      <th>33069</th>\n",
       "      <td>2023-01-30</td>\n",
       "      <td>271586432</td>\n",
       "      <td>2023-01-30 17:55:48</td>\n",
       "      <td>120000</td>\n",
       "      <td>Воронеж</td>\n",
       "      <td>133828593</td>\n",
       "      <td>android</td>\n",
       "      <td>ВАЗ (Lada)</td>\n",
       "      <td>2115 (седан)</td>\n",
       "      <td>131450373</td>\n",
       "      <td>2006</td>\n",
       "      <td>0</td>\n",
       "      <td>cars_simple</td>\n",
       "    </tr>\n",
       "  </tbody>\n",
       "</table>\n",
       "<p>33070 rows × 13 columns</p>\n",
       "</div>"
      ],
      "text/plain": [
       "      execution_date  advert_id          created_at    price          region  \\\n",
       "0         2023-01-31  271540911 2023-01-30 00:00:17   620000            Сочи   \n",
       "1         2023-01-31  271540913 2023-01-30 00:01:21  4970000          Москва   \n",
       "2         2023-01-31  271540914 2023-01-30 00:04:42   800000          Москва   \n",
       "3         2023-01-31  271540915 2023-01-30 00:04:57   280000           Пермь   \n",
       "4         2023-01-31  271540920 2023-01-30 00:06:14   540000         Воронеж   \n",
       "...              ...        ...                 ...      ...             ...   \n",
       "33065     2023-01-30  271586342 2023-01-30 17:53:08   194000          Казань   \n",
       "33066     2023-01-30  271586346 2023-01-30 17:53:21  1400000          Москва   \n",
       "33067     2023-01-30  271586370 2023-01-30 17:54:03   960000  Ростов-на-Дону   \n",
       "33068     2023-01-30  271586391 2023-01-30 17:54:42   110000            Сочи   \n",
       "33069     2023-01-30  271586432 2023-01-30 17:55:48   120000         Воронеж   \n",
       "\n",
       "         user_id platform  auto_brand     auto_model  passport_id  year  \\\n",
       "0      151328585      ios   Chevrolet          Cruze    144703780  2010   \n",
       "1      123929189  android      Toyota   Land Cruiser    123950184  2013   \n",
       "2      137723514  android      Subaru        Impreza    134075141  2006   \n",
       "3      142310446  android  Mitsubishi            RVR    137387157  1995   \n",
       "4      152083420  android      Toyota         Previa    144920294  1994   \n",
       "...          ...      ...         ...            ...          ...   ...   \n",
       "33065  136396233  android     Unknown  Unknown model    133196873  2021   \n",
       "33066  123663563  android      Toyota          Camry    123684510  2007   \n",
       "33067  128075266      ios      Toyota          Camry    127561951  2007   \n",
       "33068  139693414      ios  ВАЗ (Lada)   2115 (седан)    135378755  2005   \n",
       "33069  133828593  android  ВАЗ (Lada)   2115 (седан)    131450373  2006   \n",
       "\n",
       "       userType user_type_cars_name  \n",
       "0             0         cars_simple  \n",
       "1             6         cars_seller  \n",
       "2             0         cars_simple  \n",
       "3             0         cars_simple  \n",
       "4             0                      \n",
       "...         ...                 ...  \n",
       "33065         0         cars_simple  \n",
       "33066         0         cars_simple  \n",
       "33067         0         cars_simple  \n",
       "33068         0         cars_simple  \n",
       "33069         0         cars_simple  \n",
       "\n",
       "[33070 rows x 13 columns]"
      ]
     },
     "execution_count": 7,
     "metadata": {},
     "output_type": "execute_result"
    }
   ],
   "source": [
    "df = pd.DataFrame(result, \n",
    "                  columns=['execution_date', 'advert_id', 'created_at',\n",
    "                           'price', 'region', 'user_id', \n",
    "                           'platform', 'auto_brand', 'auto_model',\n",
    "                           'passport_id', 'year', 'userType',\n",
    "                           'user_type_cars_name'])\n",
    "\n",
    "df"
   ]
  },
  {
   "cell_type": "code",
   "execution_count": 8,
   "id": "e95035ac-c272-43ad-80c9-104287bc87a0",
   "metadata": {},
   "outputs": [
    {
     "name": "stdout",
     "output_type": "stream",
     "text": [
      "<class 'pandas.core.frame.DataFrame'>\n",
      "RangeIndex: 33070 entries, 0 to 33069\n",
      "Data columns (total 13 columns):\n",
      " #   Column               Non-Null Count  Dtype         \n",
      "---  ------               --------------  -----         \n",
      " 0   execution_date       33070 non-null  object        \n",
      " 1   advert_id            33070 non-null  int64         \n",
      " 2   created_at           33070 non-null  datetime64[ns]\n",
      " 3   price                33070 non-null  int64         \n",
      " 4   region               33070 non-null  object        \n",
      " 5   user_id              33070 non-null  int64         \n",
      " 6   platform             33070 non-null  object        \n",
      " 7   auto_brand           33070 non-null  object        \n",
      " 8   auto_model           33070 non-null  object        \n",
      " 9   passport_id          33070 non-null  int64         \n",
      " 10  year                 33070 non-null  object        \n",
      " 11  userType             33070 non-null  int64         \n",
      " 12  user_type_cars_name  33070 non-null  object        \n",
      "dtypes: datetime64[ns](1), int64(5), object(7)\n",
      "memory usage: 3.3+ MB\n"
     ]
    }
   ],
   "source": [
    "df.info()"
   ]
  },
  {
   "cell_type": "code",
   "execution_count": 9,
   "id": "4e1166bc-3ab6-4cea-8552-5f4805d464d0",
   "metadata": {},
   "outputs": [],
   "source": [
    "df['execution_date'] = pd.to_datetime(df['execution_date'])"
   ]
  },
  {
   "cell_type": "markdown",
   "id": "12e5f45e-d3a9-46ef-a1d2-9d62341f7926",
   "metadata": {},
   "source": [
    "### Task 2. "
   ]
  },
  {
   "cell_type": "markdown",
   "id": "b151886e-0ffd-4ac9-8340-829d5b4175b5",
   "metadata": {},
   "source": [
    "**Logarithmize the target variable. What was the mean value after the transformation?**"
   ]
  },
  {
   "cell_type": "code",
   "execution_count": 10,
   "id": "7fc9b2c6-b046-442b-af54-ee9061923adb",
   "metadata": {},
   "outputs": [],
   "source": [
    "df['log_price'] = np.log(df['price'])"
   ]
  },
  {
   "cell_type": "code",
   "execution_count": 11,
   "id": "71031263-8a5c-469e-b57a-bc4b9b39065b",
   "metadata": {},
   "outputs": [
    {
     "data": {
      "text/plain": [
       "13.302673141892646"
      ]
     },
     "execution_count": 11,
     "metadata": {},
     "output_type": "execute_result"
    }
   ],
   "source": [
    "df['log_price'].mean()"
   ]
  },
  {
   "cell_type": "markdown",
   "id": "92137d74-b31f-4aba-a1b5-d9164be17f5b",
   "metadata": {
    "tags": []
   },
   "source": [
    "### Task 3.  "
   ]
  },
  {
   "cell_type": "markdown",
   "id": "830049b9-f37d-4c47-82b3-0e95d7db9ed3",
   "metadata": {},
   "source": [
    "**Sort the dataframe by `'execution_date', 'advert_id'`. Take the following features: `'region', 'platform', 'auto_brand', 'user_type_cars_name', 'year'`. Divide the features into categorical and numerical. How many categorical features were there?** "
   ]
  },
  {
   "cell_type": "code",
   "execution_count": 12,
   "id": "df931b1c-4e36-45b0-a5e8-d40873b25c39",
   "metadata": {},
   "outputs": [],
   "source": [
    "df = df.sort_values(['execution_date', 'advert_id']).reset_index(drop=True)"
   ]
  },
  {
   "cell_type": "code",
   "execution_count": 13,
   "id": "4cf3d96e-6f58-4926-b9a8-f38f7b6b42a9",
   "metadata": {},
   "outputs": [],
   "source": [
    "data = df[['region', 'platform', 'auto_brand', 'user_type_cars_name', 'year']]"
   ]
  },
  {
   "cell_type": "code",
   "execution_count": 14,
   "id": "ce28b053-26ab-44f2-8f7c-6e1e5ee85441",
   "metadata": {},
   "outputs": [
    {
     "data": {
      "text/html": [
       "<div>\n",
       "<style scoped>\n",
       "    .dataframe tbody tr th:only-of-type {\n",
       "        vertical-align: middle;\n",
       "    }\n",
       "\n",
       "    .dataframe tbody tr th {\n",
       "        vertical-align: top;\n",
       "    }\n",
       "\n",
       "    .dataframe thead th {\n",
       "        text-align: right;\n",
       "    }\n",
       "</style>\n",
       "<table border=\"1\" class=\"dataframe\">\n",
       "  <thead>\n",
       "    <tr style=\"text-align: right;\">\n",
       "      <th></th>\n",
       "      <th>region</th>\n",
       "      <th>platform</th>\n",
       "      <th>auto_brand</th>\n",
       "      <th>user_type_cars_name</th>\n",
       "      <th>year</th>\n",
       "    </tr>\n",
       "  </thead>\n",
       "  <tbody>\n",
       "    <tr>\n",
       "      <th>0</th>\n",
       "      <td>Самара</td>\n",
       "      <td>ios</td>\n",
       "      <td>ЗАЗ</td>\n",
       "      <td>cars_simple</td>\n",
       "      <td>2014</td>\n",
       "    </tr>\n",
       "    <tr>\n",
       "      <th>1</th>\n",
       "      <td>Сочи</td>\n",
       "      <td>ios</td>\n",
       "      <td>Chevrolet</td>\n",
       "      <td>cars_simple</td>\n",
       "      <td>2010</td>\n",
       "    </tr>\n",
       "    <tr>\n",
       "      <th>2</th>\n",
       "      <td>Москва</td>\n",
       "      <td>android</td>\n",
       "      <td>Toyota</td>\n",
       "      <td>cars_seller</td>\n",
       "      <td>2013</td>\n",
       "    </tr>\n",
       "    <tr>\n",
       "      <th>3</th>\n",
       "      <td>Москва</td>\n",
       "      <td>android</td>\n",
       "      <td>Subaru</td>\n",
       "      <td>cars_simple</td>\n",
       "      <td>2006</td>\n",
       "    </tr>\n",
       "    <tr>\n",
       "      <th>4</th>\n",
       "      <td>Пермь</td>\n",
       "      <td>android</td>\n",
       "      <td>Mitsubishi</td>\n",
       "      <td>cars_simple</td>\n",
       "      <td>1995</td>\n",
       "    </tr>\n",
       "  </tbody>\n",
       "</table>\n",
       "</div>"
      ],
      "text/plain": [
       "   region platform  auto_brand user_type_cars_name  year\n",
       "0  Самара      ios         ЗАЗ         cars_simple  2014\n",
       "1    Сочи      ios   Chevrolet         cars_simple  2010\n",
       "2  Москва  android      Toyota         cars_seller  2013\n",
       "3  Москва  android      Subaru         cars_simple  2006\n",
       "4   Пермь  android  Mitsubishi         cars_simple  1995"
      ]
     },
     "execution_count": 14,
     "metadata": {},
     "output_type": "execute_result"
    }
   ],
   "source": [
    "data.head()"
   ]
  },
  {
   "cell_type": "code",
   "execution_count": 15,
   "id": "72f3451a-619c-4a84-bd6f-015564353e14",
   "metadata": {},
   "outputs": [
    {
     "name": "stdout",
     "output_type": "stream",
     "text": [
      "<class 'pandas.core.frame.DataFrame'>\n",
      "RangeIndex: 33070 entries, 0 to 33069\n",
      "Data columns (total 5 columns):\n",
      " #   Column               Non-Null Count  Dtype \n",
      "---  ------               --------------  ----- \n",
      " 0   region               33070 non-null  object\n",
      " 1   platform             33070 non-null  object\n",
      " 2   auto_brand           33070 non-null  object\n",
      " 3   user_type_cars_name  33070 non-null  object\n",
      " 4   year                 33070 non-null  object\n",
      "dtypes: object(5)\n",
      "memory usage: 1.3+ MB\n"
     ]
    }
   ],
   "source": [
    "data.info()"
   ]
  },
  {
   "cell_type": "code",
   "execution_count": 16,
   "id": "8bd8fb59-cf19-41de-b19b-6dfc09fe6db2",
   "metadata": {},
   "outputs": [],
   "source": [
    "data = data.astype({'year': 'int'})"
   ]
  },
  {
   "cell_type": "markdown",
   "id": "cd276b20-3a3f-4902-bd70-901bd75a072e",
   "metadata": {},
   "source": [
    "A number of categorical features in the dataset:"
   ]
  },
  {
   "cell_type": "code",
   "execution_count": 17,
   "id": "f219cf46-dca2-456a-b08f-196254cb921b",
   "metadata": {},
   "outputs": [
    {
     "data": {
      "text/plain": [
       "4"
      ]
     },
     "execution_count": 17,
     "metadata": {},
     "output_type": "execute_result"
    }
   ],
   "source": [
    "data.select_dtypes(include='object').shape[1]"
   ]
  },
  {
   "cell_type": "markdown",
   "id": "7b1831e5-9629-45ba-8320-429c58a760d9",
   "metadata": {},
   "source": [
    "### Task 4. "
   ]
  },
  {
   "cell_type": "markdown",
   "id": "41913718-3c9d-42cb-b61d-72ebdc7edad3",
   "metadata": {},
   "source": [
    "**Split the data to test and train. Process the data using StandardScaler for numeric data and OneHotEncoding for categorical data.**  "
   ]
  },
  {
   "cell_type": "code",
   "execution_count": 18,
   "id": "13276d88-c4d0-447f-aab0-e62b2e6b3dd5",
   "metadata": {},
   "outputs": [],
   "source": [
    "X_ = data\n",
    "y_ = df['log_price']"
   ]
  },
  {
   "cell_type": "code",
   "execution_count": 19,
   "id": "31a81520-52b4-42ee-aa5f-94d0376ae3b4",
   "metadata": {},
   "outputs": [],
   "source": [
    "X_train, X_test, y_train, y_test = train_test_split(X_, y_, test_size=0.2, random_state=42)"
   ]
  },
  {
   "cell_type": "code",
   "execution_count": 20,
   "id": "8971f664-3486-494a-a9d3-8f221de58da0",
   "metadata": {},
   "outputs": [],
   "source": [
    "processor = ColumnTransformer(\n",
    "    transformers=[\n",
    "        ('numerical', StandardScaler().set_output(transform='pandas'), selector(dtype_include='number')),\n",
    "        ('categorial', OneHotEncoder(handle_unknown='ignore', sparse_output=False).set_output(transform='pandas'), selector(dtype_exclude='number'))\n",
    "    ],\n",
    "    verbose_feature_names_out=False \n",
    ").set_output(transform='pandas') "
   ]
  },
  {
   "cell_type": "code",
   "execution_count": 21,
   "id": "2fcbf9ab-d96f-4845-90af-38fcd32661b7",
   "metadata": {},
   "outputs": [
    {
     "data": {
      "text/html": [
       "<div>\n",
       "<style scoped>\n",
       "    .dataframe tbody tr th:only-of-type {\n",
       "        vertical-align: middle;\n",
       "    }\n",
       "\n",
       "    .dataframe tbody tr th {\n",
       "        vertical-align: top;\n",
       "    }\n",
       "\n",
       "    .dataframe thead th {\n",
       "        text-align: right;\n",
       "    }\n",
       "</style>\n",
       "<table border=\"1\" class=\"dataframe\">\n",
       "  <thead>\n",
       "    <tr style=\"text-align: right;\">\n",
       "      <th></th>\n",
       "      <th>year</th>\n",
       "      <th>region_Волгоград</th>\n",
       "      <th>region_Воронеж</th>\n",
       "      <th>region_Екатеринбург</th>\n",
       "      <th>region_Ижевск</th>\n",
       "      <th>region_Казань</th>\n",
       "      <th>region_Калининград</th>\n",
       "      <th>region_Краснодар</th>\n",
       "      <th>region_Красноярск</th>\n",
       "      <th>region_Москва</th>\n",
       "      <th>...</th>\n",
       "      <th>auto_brand_ИЖ</th>\n",
       "      <th>auto_brand_ЛуАЗ</th>\n",
       "      <th>auto_brand_Москвич</th>\n",
       "      <th>auto_brand_Ретро-автомобили</th>\n",
       "      <th>auto_brand_ТагАЗ</th>\n",
       "      <th>auto_brand_УАЗ</th>\n",
       "      <th>user_type_cars_name_</th>\n",
       "      <th>user_type_cars_name_cars_dealer</th>\n",
       "      <th>user_type_cars_name_cars_seller</th>\n",
       "      <th>user_type_cars_name_cars_simple</th>\n",
       "    </tr>\n",
       "  </thead>\n",
       "  <tbody>\n",
       "    <tr>\n",
       "      <th>12368</th>\n",
       "      <td>-1.080897</td>\n",
       "      <td>0.0</td>\n",
       "      <td>0.0</td>\n",
       "      <td>0.0</td>\n",
       "      <td>0.0</td>\n",
       "      <td>0.0</td>\n",
       "      <td>0.0</td>\n",
       "      <td>0.0</td>\n",
       "      <td>0.0</td>\n",
       "      <td>1.0</td>\n",
       "      <td>...</td>\n",
       "      <td>0.0</td>\n",
       "      <td>0.0</td>\n",
       "      <td>0.0</td>\n",
       "      <td>0.0</td>\n",
       "      <td>0.0</td>\n",
       "      <td>0.0</td>\n",
       "      <td>0.0</td>\n",
       "      <td>0.0</td>\n",
       "      <td>0.0</td>\n",
       "      <td>1.0</td>\n",
       "    </tr>\n",
       "    <tr>\n",
       "      <th>15555</th>\n",
       "      <td>-1.180276</td>\n",
       "      <td>0.0</td>\n",
       "      <td>0.0</td>\n",
       "      <td>0.0</td>\n",
       "      <td>0.0</td>\n",
       "      <td>0.0</td>\n",
       "      <td>0.0</td>\n",
       "      <td>0.0</td>\n",
       "      <td>0.0</td>\n",
       "      <td>0.0</td>\n",
       "      <td>...</td>\n",
       "      <td>0.0</td>\n",
       "      <td>0.0</td>\n",
       "      <td>0.0</td>\n",
       "      <td>0.0</td>\n",
       "      <td>0.0</td>\n",
       "      <td>0.0</td>\n",
       "      <td>1.0</td>\n",
       "      <td>0.0</td>\n",
       "      <td>0.0</td>\n",
       "      <td>0.0</td>\n",
       "    </tr>\n",
       "    <tr>\n",
       "      <th>1183</th>\n",
       "      <td>-1.180276</td>\n",
       "      <td>0.0</td>\n",
       "      <td>0.0</td>\n",
       "      <td>0.0</td>\n",
       "      <td>0.0</td>\n",
       "      <td>0.0</td>\n",
       "      <td>0.0</td>\n",
       "      <td>0.0</td>\n",
       "      <td>0.0</td>\n",
       "      <td>1.0</td>\n",
       "      <td>...</td>\n",
       "      <td>0.0</td>\n",
       "      <td>0.0</td>\n",
       "      <td>0.0</td>\n",
       "      <td>0.0</td>\n",
       "      <td>0.0</td>\n",
       "      <td>0.0</td>\n",
       "      <td>0.0</td>\n",
       "      <td>0.0</td>\n",
       "      <td>1.0</td>\n",
       "      <td>0.0</td>\n",
       "    </tr>\n",
       "    <tr>\n",
       "      <th>907</th>\n",
       "      <td>-1.080897</td>\n",
       "      <td>0.0</td>\n",
       "      <td>0.0</td>\n",
       "      <td>0.0</td>\n",
       "      <td>0.0</td>\n",
       "      <td>0.0</td>\n",
       "      <td>0.0</td>\n",
       "      <td>0.0</td>\n",
       "      <td>0.0</td>\n",
       "      <td>0.0</td>\n",
       "      <td>...</td>\n",
       "      <td>0.0</td>\n",
       "      <td>0.0</td>\n",
       "      <td>0.0</td>\n",
       "      <td>0.0</td>\n",
       "      <td>0.0</td>\n",
       "      <td>0.0</td>\n",
       "      <td>0.0</td>\n",
       "      <td>0.0</td>\n",
       "      <td>0.0</td>\n",
       "      <td>1.0</td>\n",
       "    </tr>\n",
       "    <tr>\n",
       "      <th>12964</th>\n",
       "      <td>0.211026</td>\n",
       "      <td>0.0</td>\n",
       "      <td>0.0</td>\n",
       "      <td>0.0</td>\n",
       "      <td>0.0</td>\n",
       "      <td>0.0</td>\n",
       "      <td>0.0</td>\n",
       "      <td>0.0</td>\n",
       "      <td>0.0</td>\n",
       "      <td>0.0</td>\n",
       "      <td>...</td>\n",
       "      <td>0.0</td>\n",
       "      <td>0.0</td>\n",
       "      <td>0.0</td>\n",
       "      <td>0.0</td>\n",
       "      <td>0.0</td>\n",
       "      <td>0.0</td>\n",
       "      <td>0.0</td>\n",
       "      <td>0.0</td>\n",
       "      <td>0.0</td>\n",
       "      <td>1.0</td>\n",
       "    </tr>\n",
       "    <tr>\n",
       "      <th>...</th>\n",
       "      <td>...</td>\n",
       "      <td>...</td>\n",
       "      <td>...</td>\n",
       "      <td>...</td>\n",
       "      <td>...</td>\n",
       "      <td>...</td>\n",
       "      <td>...</td>\n",
       "      <td>...</td>\n",
       "      <td>...</td>\n",
       "      <td>...</td>\n",
       "      <td>...</td>\n",
       "      <td>...</td>\n",
       "      <td>...</td>\n",
       "      <td>...</td>\n",
       "      <td>...</td>\n",
       "      <td>...</td>\n",
       "      <td>...</td>\n",
       "      <td>...</td>\n",
       "      <td>...</td>\n",
       "      <td>...</td>\n",
       "      <td>...</td>\n",
       "    </tr>\n",
       "    <tr>\n",
       "      <th>16850</th>\n",
       "      <td>0.310404</td>\n",
       "      <td>0.0</td>\n",
       "      <td>0.0</td>\n",
       "      <td>0.0</td>\n",
       "      <td>0.0</td>\n",
       "      <td>0.0</td>\n",
       "      <td>0.0</td>\n",
       "      <td>0.0</td>\n",
       "      <td>1.0</td>\n",
       "      <td>0.0</td>\n",
       "      <td>...</td>\n",
       "      <td>0.0</td>\n",
       "      <td>0.0</td>\n",
       "      <td>0.0</td>\n",
       "      <td>0.0</td>\n",
       "      <td>0.0</td>\n",
       "      <td>0.0</td>\n",
       "      <td>0.0</td>\n",
       "      <td>0.0</td>\n",
       "      <td>0.0</td>\n",
       "      <td>1.0</td>\n",
       "    </tr>\n",
       "    <tr>\n",
       "      <th>6265</th>\n",
       "      <td>0.707919</td>\n",
       "      <td>0.0</td>\n",
       "      <td>0.0</td>\n",
       "      <td>0.0</td>\n",
       "      <td>0.0</td>\n",
       "      <td>0.0</td>\n",
       "      <td>0.0</td>\n",
       "      <td>0.0</td>\n",
       "      <td>0.0</td>\n",
       "      <td>0.0</td>\n",
       "      <td>...</td>\n",
       "      <td>0.0</td>\n",
       "      <td>0.0</td>\n",
       "      <td>0.0</td>\n",
       "      <td>0.0</td>\n",
       "      <td>0.0</td>\n",
       "      <td>0.0</td>\n",
       "      <td>0.0</td>\n",
       "      <td>0.0</td>\n",
       "      <td>0.0</td>\n",
       "      <td>1.0</td>\n",
       "    </tr>\n",
       "    <tr>\n",
       "      <th>11284</th>\n",
       "      <td>-1.080897</td>\n",
       "      <td>0.0</td>\n",
       "      <td>0.0</td>\n",
       "      <td>0.0</td>\n",
       "      <td>0.0</td>\n",
       "      <td>0.0</td>\n",
       "      <td>0.0</td>\n",
       "      <td>0.0</td>\n",
       "      <td>0.0</td>\n",
       "      <td>0.0</td>\n",
       "      <td>...</td>\n",
       "      <td>0.0</td>\n",
       "      <td>0.0</td>\n",
       "      <td>0.0</td>\n",
       "      <td>0.0</td>\n",
       "      <td>0.0</td>\n",
       "      <td>0.0</td>\n",
       "      <td>1.0</td>\n",
       "      <td>0.0</td>\n",
       "      <td>0.0</td>\n",
       "      <td>0.0</td>\n",
       "    </tr>\n",
       "    <tr>\n",
       "      <th>860</th>\n",
       "      <td>0.211026</td>\n",
       "      <td>0.0</td>\n",
       "      <td>0.0</td>\n",
       "      <td>0.0</td>\n",
       "      <td>0.0</td>\n",
       "      <td>0.0</td>\n",
       "      <td>1.0</td>\n",
       "      <td>0.0</td>\n",
       "      <td>0.0</td>\n",
       "      <td>0.0</td>\n",
       "      <td>...</td>\n",
       "      <td>0.0</td>\n",
       "      <td>0.0</td>\n",
       "      <td>0.0</td>\n",
       "      <td>0.0</td>\n",
       "      <td>0.0</td>\n",
       "      <td>0.0</td>\n",
       "      <td>0.0</td>\n",
       "      <td>0.0</td>\n",
       "      <td>0.0</td>\n",
       "      <td>1.0</td>\n",
       "    </tr>\n",
       "    <tr>\n",
       "      <th>15795</th>\n",
       "      <td>-1.180276</td>\n",
       "      <td>0.0</td>\n",
       "      <td>0.0</td>\n",
       "      <td>0.0</td>\n",
       "      <td>0.0</td>\n",
       "      <td>0.0</td>\n",
       "      <td>0.0</td>\n",
       "      <td>0.0</td>\n",
       "      <td>0.0</td>\n",
       "      <td>0.0</td>\n",
       "      <td>...</td>\n",
       "      <td>0.0</td>\n",
       "      <td>0.0</td>\n",
       "      <td>0.0</td>\n",
       "      <td>0.0</td>\n",
       "      <td>0.0</td>\n",
       "      <td>0.0</td>\n",
       "      <td>0.0</td>\n",
       "      <td>0.0</td>\n",
       "      <td>0.0</td>\n",
       "      <td>1.0</td>\n",
       "    </tr>\n",
       "  </tbody>\n",
       "</table>\n",
       "<p>26456 rows × 114 columns</p>\n",
       "</div>"
      ],
      "text/plain": [
       "           year  region_Волгоград  region_Воронеж  region_Екатеринбург  \\\n",
       "12368 -1.080897               0.0             0.0                  0.0   \n",
       "15555 -1.180276               0.0             0.0                  0.0   \n",
       "1183  -1.180276               0.0             0.0                  0.0   \n",
       "907   -1.080897               0.0             0.0                  0.0   \n",
       "12964  0.211026               0.0             0.0                  0.0   \n",
       "...         ...               ...             ...                  ...   \n",
       "16850  0.310404               0.0             0.0                  0.0   \n",
       "6265   0.707919               0.0             0.0                  0.0   \n",
       "11284 -1.080897               0.0             0.0                  0.0   \n",
       "860    0.211026               0.0             0.0                  0.0   \n",
       "15795 -1.180276               0.0             0.0                  0.0   \n",
       "\n",
       "       region_Ижевск  region_Казань  region_Калининград  region_Краснодар  \\\n",
       "12368            0.0            0.0                 0.0               0.0   \n",
       "15555            0.0            0.0                 0.0               0.0   \n",
       "1183             0.0            0.0                 0.0               0.0   \n",
       "907              0.0            0.0                 0.0               0.0   \n",
       "12964            0.0            0.0                 0.0               0.0   \n",
       "...              ...            ...                 ...               ...   \n",
       "16850            0.0            0.0                 0.0               0.0   \n",
       "6265             0.0            0.0                 0.0               0.0   \n",
       "11284            0.0            0.0                 0.0               0.0   \n",
       "860              0.0            0.0                 1.0               0.0   \n",
       "15795            0.0            0.0                 0.0               0.0   \n",
       "\n",
       "       region_Красноярск  region_Москва  ...  auto_brand_ИЖ  auto_brand_ЛуАЗ  \\\n",
       "12368                0.0            1.0  ...            0.0              0.0   \n",
       "15555                0.0            0.0  ...            0.0              0.0   \n",
       "1183                 0.0            1.0  ...            0.0              0.0   \n",
       "907                  0.0            0.0  ...            0.0              0.0   \n",
       "12964                0.0            0.0  ...            0.0              0.0   \n",
       "...                  ...            ...  ...            ...              ...   \n",
       "16850                1.0            0.0  ...            0.0              0.0   \n",
       "6265                 0.0            0.0  ...            0.0              0.0   \n",
       "11284                0.0            0.0  ...            0.0              0.0   \n",
       "860                  0.0            0.0  ...            0.0              0.0   \n",
       "15795                0.0            0.0  ...            0.0              0.0   \n",
       "\n",
       "       auto_brand_Москвич  auto_brand_Ретро-автомобили  auto_brand_ТагАЗ  \\\n",
       "12368                 0.0                          0.0               0.0   \n",
       "15555                 0.0                          0.0               0.0   \n",
       "1183                  0.0                          0.0               0.0   \n",
       "907                   0.0                          0.0               0.0   \n",
       "12964                 0.0                          0.0               0.0   \n",
       "...                   ...                          ...               ...   \n",
       "16850                 0.0                          0.0               0.0   \n",
       "6265                  0.0                          0.0               0.0   \n",
       "11284                 0.0                          0.0               0.0   \n",
       "860                   0.0                          0.0               0.0   \n",
       "15795                 0.0                          0.0               0.0   \n",
       "\n",
       "       auto_brand_УАЗ  user_type_cars_name_  user_type_cars_name_cars_dealer  \\\n",
       "12368             0.0                   0.0                              0.0   \n",
       "15555             0.0                   1.0                              0.0   \n",
       "1183              0.0                   0.0                              0.0   \n",
       "907               0.0                   0.0                              0.0   \n",
       "12964             0.0                   0.0                              0.0   \n",
       "...               ...                   ...                              ...   \n",
       "16850             0.0                   0.0                              0.0   \n",
       "6265              0.0                   0.0                              0.0   \n",
       "11284             0.0                   1.0                              0.0   \n",
       "860               0.0                   0.0                              0.0   \n",
       "15795             0.0                   0.0                              0.0   \n",
       "\n",
       "       user_type_cars_name_cars_seller  user_type_cars_name_cars_simple  \n",
       "12368                              0.0                              1.0  \n",
       "15555                              0.0                              0.0  \n",
       "1183                               1.0                              0.0  \n",
       "907                                0.0                              1.0  \n",
       "12964                              0.0                              1.0  \n",
       "...                                ...                              ...  \n",
       "16850                              0.0                              1.0  \n",
       "6265                               0.0                              1.0  \n",
       "11284                              0.0                              0.0  \n",
       "860                                0.0                              1.0  \n",
       "15795                              0.0                              1.0  \n",
       "\n",
       "[26456 rows x 114 columns]"
      ]
     },
     "execution_count": 21,
     "metadata": {},
     "output_type": "execute_result"
    }
   ],
   "source": [
    "processor_test = processor.fit_transform(X_train)\n",
    "\n",
    "processor_test"
   ]
  },
  {
   "cell_type": "code",
   "execution_count": 22,
   "id": "7b7998e0-5621-4e2a-82e6-914597ab7b60",
   "metadata": {},
   "outputs": [
    {
     "data": {
      "text/plain": [
       "26456"
      ]
     },
     "execution_count": 22,
     "metadata": {},
     "output_type": "execute_result"
    }
   ],
   "source": [
    "len(X_train)"
   ]
  },
  {
   "cell_type": "markdown",
   "id": "6cf94e10-2a9b-4ab9-929d-858de8ce875b",
   "metadata": {},
   "source": [
    "### Task 5. "
   ]
  },
  {
   "cell_type": "markdown",
   "id": "a92b908a-9905-4287-b083-4b1954baf890",
   "metadata": {},
   "source": [
    "**Use grid search to find the best parameters for Decision Tree Regressior model.**"
   ]
  },
  {
   "cell_type": "code",
   "execution_count": 23,
   "id": "988d44a0-205d-4e06-949a-1aa5f83d94a2",
   "metadata": {},
   "outputs": [
    {
     "name": "stdout",
     "output_type": "stream",
     "text": [
      "Best Parameters:  {'model__max_depth': 20, 'model__min_samples_split': 10}\n"
     ]
    }
   ],
   "source": [
    "splitter = TimeSeriesSplit(n_splits=4)\n",
    "\n",
    "pipeline = Pipeline([\n",
    "    ('processor', processor),\n",
    "    ('model', DecisionTreeRegressor(random_state=42))\n",
    "])\n",
    "\n",
    "param_grid = {\n",
    "    'model__max_depth': [2, 10, 15, 20],\n",
    "    'model__min_samples_split': [10, 200, 5000]\n",
    "}\n",
    "\n",
    "grid_search = GridSearchCV(pipeline, param_grid, scoring='neg_mean_absolute_error')\n",
    "grid_search.fit(X_train, y_train)\n",
    "\n",
    "\n",
    "print(\"Best Parameters: \", grid_search.best_params_)"
   ]
  },
  {
   "cell_type": "markdown",
   "id": "0e654218-672d-41a9-807a-29295d77ad9b",
   "metadata": {},
   "source": [
    "### Task 6. "
   ]
  },
  {
   "cell_type": "markdown",
   "id": "f2cc0059-a131-418f-9def-e6aca607d1c1",
   "metadata": {},
   "source": [
    "**Run the best model on the test set and measure the quality using the R-squared metric (we have already used it before). What value did you get?**"
   ]
  },
  {
   "cell_type": "code",
   "execution_count": 24,
   "id": "ea54239b-c8e2-44a4-995b-3fd5022c84a6",
   "metadata": {},
   "outputs": [
    {
     "data": {
      "text/plain": [
       "0.7518516532615556"
      ]
     },
     "execution_count": 24,
     "metadata": {},
     "output_type": "execute_result"
    }
   ],
   "source": [
    "best_model = grid_search.best_estimator_\n",
    "\n",
    "y_pred = best_model.predict(X_test)\n",
    "\n",
    "r2_score(y_test, y_pred)"
   ]
  },
  {
   "cell_type": "markdown",
   "id": "b1d08635-02e3-48de-8c7f-086bd84ebc85",
   "metadata": {},
   "source": [
    "### Task 7. "
   ]
  },
  {
   "cell_type": "markdown",
   "id": "8ca7c2df-46ed-4155-8f72-f9f72007f1c7",
   "metadata": {},
   "source": [
    "**What feature is the most important for our model?**"
   ]
  },
  {
   "cell_type": "code",
   "execution_count": 25,
   "id": "afe98110-4de1-4928-ab73-04f6ab2461ac",
   "metadata": {},
   "outputs": [
    {
     "data": {
      "image/png": "[encoded data removed]",
      "text/plain": [
       "<Figure size 1152x432 with 1 Axes>"
      ]
     },
     "metadata": {
      "needs_background": "light"
     },
     "output_type": "display_data"
    }
   ],
   "source": [
    "feature_importances = grid_search.best_estimator_['model'].feature_importances_\n",
    "importance_df = pd.DataFrame({'Feature': processor_test.columns, 'Importance': feature_importances})\n",
    "\n",
    "importance_df = importance_df.sort_values(by='Importance', ascending=False).head(10)\n",
    "\n",
    "fig = plt.figure()\n",
    "fig.set_size_inches(16, 6)\n",
    "sns.barplot(x='Importance', y='Feature', data=importance_df, palette='Blues_r')\n",
    "\n",
    "plt.show()"
   ]
  },
  {
   "cell_type": "markdown",
   "id": "8f12cad3-0ca6-4913-8558-3dfbdaf8043f",
   "metadata": {},
   "source": [
    "### Task 8. "
   ]
  },
  {
   "cell_type": "markdown",
   "id": "303c769d-dc3d-44c6-a7fa-5946399ad624",
   "metadata": {},
   "source": [
    "**tbc..**"
   ]
  },
  {
   "cell_type": "code",
   "execution_count": null,
   "id": "c926027f-c50b-4b6e-82ba-92b93fc188c4",
   "metadata": {},
   "outputs": [],
   "source": []
  },
  {
   "cell_type": "code",
   "execution_count": null,
   "id": "0213cb65-3eb9-4f9f-9b5f-f004427a30e9",
   "metadata": {},
   "outputs": [],
   "source": []
  },
  {
   "cell_type": "code",
   "execution_count": null,
   "id": "d40cfa7e-ca97-42a7-b2c3-789530bef223",
   "metadata": {},
   "outputs": [],
   "source": []
  },
  {
   "cell_type": "code",
   "execution_count": null,
   "id": "090d6f2d-7556-4f92-8c78-359c2e206f72",
   "metadata": {},
   "outputs": [],
   "source": []
  },
  {
   "cell_type": "code",
   "execution_count": null,
   "id": "350ae0fd-da55-40b1-87a4-e968c1f1581a",
   "metadata": {},
   "outputs": [],
   "source": []
  },
  {
   "cell_type": "code",
   "execution_count": null,
   "id": "e165cc59-eeb0-411c-a90f-55327b633663",
   "metadata": {},
   "outputs": [],
   "source": []
  },
  {
   "cell_type": "code",
   "execution_count": null,
   "id": "20bd72e9-9feb-4f16-8d7a-2cfc6e37f3a0",
   "metadata": {},
   "outputs": [],
   "source": []
  },
  {
   "cell_type": "code",
   "execution_count": null,
   "id": "7abf1b87-9de9-4dad-b39e-8862aa9b2cb9",
   "metadata": {},
   "outputs": [],
   "source": []
  },
  {
   "cell_type": "code",
   "execution_count": null,
   "id": "aa9c6f57-dd5b-4bf5-be02-0d58853167bb",
   "metadata": {},
   "outputs": [],
   "source": []
  },
  {
   "cell_type": "code",
   "execution_count": null,
   "id": "667a1060-af7a-4c50-a0b6-663725f79798",
   "metadata": {},
   "outputs": [],
   "source": []
  },
  {
   "cell_type": "code",
   "execution_count": null,
   "id": "ae48d067-9b18-4d03-a2cf-235347253449",
   "metadata": {},
   "outputs": [],
   "source": []
  },
  {
   "cell_type": "code",
   "execution_count": null,
   "id": "412e9d3d-7de7-4b8b-a55f-38b26de1cada",
   "metadata": {},
   "outputs": [],
   "source": []
  },
  {
   "cell_type": "code",
   "execution_count": null,
   "id": "3c6a0feb-7c3f-4e7c-b1f9-86ba1fd08dc1",
   "metadata": {},
   "outputs": [],
   "source": []
  },
  {
   "cell_type": "code",
   "execution_count": null,
   "id": "1e095262-9e7d-44c3-bc18-54927f40f906",
   "metadata": {},
   "outputs": [],
   "source": []
  }
 ],
 "metadata": {
  "kernelspec": {
   "display_name": "Python 3 (ipykernel)",
   "language": "python",
   "name": "python3"
  },
  "language_info": {
   "codemirror_mode": {
    "name": "ipython",
    "version": 3
   },
   "file_extension": ".py",
   "mimetype": "text/x-python",
   "name": "python",
   "nbconvert_exporter": "python",
   "pygments_lexer": "ipython3",
   "version": "3.8.10"
  }
 },
 "nbformat": 4,
 "nbformat_minor": 5
}
