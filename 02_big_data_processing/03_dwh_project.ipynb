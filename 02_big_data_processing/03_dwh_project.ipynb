{
 "cells": [
  {
   "cell_type": "markdown",
   "id": "04a7e17e-d8a9-4461-acc9-e87ce4c2b432",
   "metadata": {},
   "source": [
    "# DWH Project"
   ]
  },
  {
   "cell_type": "markdown",
   "id": "d2cd69b7-ce4c-4aca-a0b2-7778bfdbfe92",
   "metadata": {},
   "source": [
    "## Importing Libraries and Connections"
   ]
  },
  {
   "cell_type": "markdown",
   "id": "a73f3519-5746-4cda-8726-c49364cab0b6",
   "metadata": {},
   "source": [
    "Creating connection to S3, initializing Spark session and reading data. "
   ]
  },
  {
   "cell_type": "code",
   "execution_count": 2,
   "id": "91f2e40b-9b6f-437b-8f5f-3dfc48607337",
   "metadata": {},
   "outputs": [
    {
     "name": "stderr",
     "output_type": "stream",
     "text": [
      "Warning: Ignoring non-Spark config property: fs.s3a.endpoint\n"
     ]
    },
    {
     "name": "stdout",
     "output_type": "stream",
     "text": [
      "23/09/26 15:09:41 WARN NativeCodeLoader: Unable to load native-hadoop library for your platform... using builtin-java classes where applicable\n"
     ]
    },
    {
     "name": "stderr",
     "output_type": "stream",
     "text": [
      "Setting default log level to \"WARN\".\n",
      "To adjust logging level use sc.setLogLevel(newLevel). For SparkR, use setLogLevel(newLevel).\n"
     ]
    }
   ],
   "source": [
    "#Spark connection with S3 options\n",
    "import os\n",
    "import socket\n",
    "from pyspark.sql import SparkSession\n",
    "\n",
    "\n",
    "# credentials to work with S3\n",
    "aws_access_key = \"access_key\"\n",
    "aws_secret_key = \"secret_ley\"\n",
    "s3_bucket = \"kc-hardda-projects\"\n",
    "s3_endpoint_url = \"https://storage.yandexcloud.net\"\n",
    "\n",
    "# spark session\n",
    "APACHE_MASTER_IP = socket.gethostbyname(\"apache-spark-master-0.apache-spark-headless.apache-spark.svc.cluster.local\")\n",
    "APACHE_MASTER_URL = f\"spark://{APACHE_MASTER_IP}:7077\"\n",
    "POD_IP = os.environ[\"MY_POD_IP\"]\n",
    "SPARK_APP_NAME = f\"spark-{os.environ['HOSTNAME']}\"\n",
    "JARS = \"\"\"/nfs/env/lib/python3.8/site-packages/pyspark/jars/clickhouse-native-jdbc-shaded-2.6.5.jar, \n",
    "/nfs/env/lib/python3.8/site-packages/pyspark/jars/hadoop-aws-3.3.4.jar,\n",
    "/nfs/env/lib/python3.8/site-packages/pyspark/jars/aws-java-sdk-bundle-1.12.433.jar\n",
    "\"\"\"\n",
    "\n",
    "MEM = \"2048m\"\n",
    "CORES = 1\n",
    " \n",
    "spark = SparkSession.\\\n",
    "        builder.\\\n",
    "        appName(SPARK_APP_NAME).\\\n",
    "        master(APACHE_MASTER_URL).\\\n",
    "        config(\"spark.executor.memory\", MEM).\\\n",
    "        config(\"spark.jars\", JARS).\\\n",
    "        config(\"spark.executor.cores\", CORES).\\\n",
    "        config(\"spark.driver.host\", POD_IP).\\\n",
    "        config(\"spark.hadoop.fs.s3a.access.key\", aws_access_key). \\\n",
    "        config(\"spark.hadoop.fs.s3a.secret.key\", aws_secret_key). \\\n",
    "        config(\"fs.s3a.endpoint\", \"https://storage.yandexcloud.net\").  \\\n",
    "        config(\"spark.hadoop.fs.s3a.impl\", \"org.apache.hadoop.fs.s3a.S3AFileSystem\"). \\\n",
    "        config(\"spark.hadoop.fs.s3a.path.style.access\", True). \\\n",
    "        config(\"spark.hadoop.fs.s3a.committer.name\", \"directory\"). \\\n",
    "        config(\"spark.hadoop.fs.s3a.aws.credentials.provider\", \"org.apache.hadoop.fs.s3a.SimpleAWSCredentialsProvider\"). \\\n",
    "        getOrCreate()\n",
    "\n",
    "\n"
   ]
  },
  {
   "cell_type": "markdown",
   "id": "3cdf0bee-c6e9-4b56-9edf-44f4cca5de20",
   "metadata": {},
   "source": [
    "## Spark"
   ]
  },
  {
   "cell_type": "code",
   "execution_count": 3,
   "id": "adcd5f9f-4084-444e-bf5a-ac9639c7783c",
   "metadata": {},
   "outputs": [
    {
     "name": "stdout",
     "output_type": "stream",
     "text": [
      "23/09/26 15:09:47 WARN MetricsConfig: Cannot locate configuration: tried hadoop-metrics2-s3a-file-system.properties,hadoop-metrics2.properties\n"
     ]
    },
    {
     "name": "stderr",
     "output_type": "stream",
     "text": [
      "                                                                                \r"
     ]
    }
   ],
   "source": [
    "# reading data\n",
    "df_adverts_all = spark.read.parquet('s3a://kc-hardda-projects/shared/adverts_data.parquet')\n",
    "df_live_adverts = spark.read.parquet('s3a://kc-hardda-projects/shared/live_adverts.parquet')\n",
    "df_user_passports = spark.read.parquet('s3a://kc-hardda-projects/shared/user_passports.parquet')\n",
    "\n",
    "# creating dataframe from our data\n",
    "df_flat = df_live_adverts.join(df_adverts_all, on=['execution_date', 'advert_id'], how='left') \\\n",
    "                   .join(df_user_passports, df_live_adverts['user_id'] == df_user_passports['global_id'], how='left')"
   ]
  },
  {
   "cell_type": "markdown",
   "id": "2c185f3d-7892-41e9-bb97-600d8c1f84cd",
   "metadata": {},
   "source": [
    "Checking data."
   ]
  },
  {
   "cell_type": "code",
   "execution_count": 4,
   "id": "168f5e5a-5a3f-4073-987a-ff62a7744ef0",
   "metadata": {},
   "outputs": [
    {
     "name": "stderr",
     "output_type": "stream",
     "text": [
      "[Stage 13:=============================>                            (1 + 1) / 2]\r"
     ]
    },
    {
     "name": "stdout",
     "output_type": "stream",
     "text": [
      "+-------------------+---------+------+---------+--------+----+-----+--------+------+----+-----+------------+----+-------+---------+--------------+\n",
      "|     execution_date|advert_id|region|  user_id|platform|mark|model|   price|  year|fuel|color|transmission|body|country|global_id|user_type_name|\n",
      "+-------------------+---------+------+---------+--------+----+-----+--------+------+----+-----+------------+----+-------+---------+--------------+\n",
      "|2021-06-26 00:00:00|137514150|  Омск|124207514| unknown|null| null|114000.0|2014.0|null| null|        null|null|   null|124207514|         profi|\n",
      "|2021-09-20 00:00:00|137514150|  Омск|124207514| unknown|null| null|114000.0|2014.0|null| null|        null|null|   null|124207514|         profi|\n",
      "|2021-04-03 00:00:00|145314141|   Уфа|124243239| unknown|null| null|    null|  null|null| null|        null|null|   null|124243239|   simple_user|\n",
      "|2021-06-26 00:00:00|145314141|   Уфа|124243239| unknown|null| null|    null|  null|null| null|        null|null|   null|124243239|   simple_user|\n",
      "|2021-02-17 00:00:00|129804737|  Омск|123559152| unknown|null| null|    null|  null|null| null|        null|null|   null|123559152|   simple_user|\n",
      "+-------------------+---------+------+---------+--------+----+-----+--------+------+----+-----+------------+----+-------+---------+--------------+\n",
      "\n"
     ]
    },
    {
     "name": "stderr",
     "output_type": "stream",
     "text": [
      "                                                                                \r"
     ]
    }
   ],
   "source": [
    "df_flat.limit(5).show()"
   ]
  },
  {
   "cell_type": "markdown",
   "id": "7b095e8a-ec6b-4003-a221-c4021a3a4172",
   "metadata": {},
   "source": [
    "Checking number of rows. "
   ]
  },
  {
   "cell_type": "code",
   "execution_count": 5,
   "id": "21e78185-d734-4251-9b86-11bb0301eb32",
   "metadata": {},
   "outputs": [
    {
     "name": "stderr",
     "output_type": "stream",
     "text": [
      "[Stage 21:=============================>                            (1 + 1) / 2]\r"
     ]
    },
    {
     "name": "stdout",
     "output_type": "stream",
     "text": [
      "23/09/26 15:11:08 WARN MemoryStore: Not enough space to cache broadcast_16 in memory! (computed 304.0 MiB so far)\n",
      "23/09/26 15:11:08 WARN BlockManager: Persisting block broadcast_16 to disk instead.\n"
     ]
    },
    {
     "name": "stderr",
     "output_type": "stream",
     "text": [
      "                                                                                \r"
     ]
    },
    {
     "name": "stdout",
     "output_type": "stream",
     "text": [
      "23/09/26 15:11:14 WARN MemoryStore: Not enough space to cache broadcast_16 in memory! (computed 304.0 MiB so far)\n"
     ]
    },
    {
     "name": "stderr",
     "output_type": "stream",
     "text": [
      "                                                                                \r"
     ]
    },
    {
     "data": {
      "text/plain": [
       "2771661"
      ]
     },
     "execution_count": 5,
     "metadata": {},
     "output_type": "execute_result"
    }
   ],
   "source": [
    "df_flat.count()"
   ]
  },
  {
   "cell_type": "markdown",
   "id": "0f41a2e4-801f-47f0-a592-8816a63399c5",
   "metadata": {},
   "source": [
    "Dropping duplicated data, if exists.  "
   ]
  },
  {
   "cell_type": "code",
   "execution_count": 6,
   "id": "4940705f-ffe5-4070-9ec6-62131f08ee45",
   "metadata": {},
   "outputs": [],
   "source": [
    "df_flat = df_flat.dropDuplicates(['execution_date', 'advert_id'])"
   ]
  },
  {
   "cell_type": "code",
   "execution_count": 7,
   "id": "332ddb35-710c-4595-844f-4da3a43bf06e",
   "metadata": {},
   "outputs": [
    {
     "name": "stderr",
     "output_type": "stream",
     "text": [
      "                                                                                \r"
     ]
    },
    {
     "data": {
      "text/plain": [
       "2771661"
      ]
     },
     "execution_count": 7,
     "metadata": {},
     "output_type": "execute_result"
    }
   ],
   "source": [
    "df_flat.count()"
   ]
  },
  {
   "cell_type": "markdown",
   "id": "c28ee4d0-9935-4e06-a95c-cad18d31a900",
   "metadata": {},
   "source": [
    "Checking data types of the columns. "
   ]
  },
  {
   "cell_type": "code",
   "execution_count": 8,
   "id": "202021d2-8ef9-4fd9-bd25-731c470dc740",
   "metadata": {},
   "outputs": [
    {
     "name": "stdout",
     "output_type": "stream",
     "text": [
      "('execution_date', 'timestamp')\n",
      "('advert_id', 'bigint')\n",
      "('region', 'string')\n",
      "('user_id', 'bigint')\n",
      "('platform', 'string')\n",
      "('mark', 'string')\n",
      "('model', 'string')\n",
      "('price', 'double')\n",
      "('year', 'double')\n",
      "('fuel', 'string')\n",
      "('color', 'string')\n",
      "('transmission', 'string')\n",
      "('body', 'string')\n",
      "('country', 'string')\n",
      "('global_id', 'bigint')\n",
      "('user_type_name', 'string')\n"
     ]
    }
   ],
   "source": [
    "for i in df_flat.dtypes:\n",
    "    print(i)"
   ]
  },
  {
   "cell_type": "markdown",
   "id": "43dd52ab-b88f-42e7-9505-b35cb901d82d",
   "metadata": {},
   "source": [
    "Writing results to S3."
   ]
  },
  {
   "cell_type": "code",
   "execution_count": 9,
   "id": "3152e057-78b8-43c4-b8ef-48e9025ec382",
   "metadata": {},
   "outputs": [
    {
     "name": "stdout",
     "output_type": "stream",
     "text": [
      "23/09/26 15:11:37 WARN package: Truncated the string representation of a plan since it was too large. This behavior can be adjusted by setting 'spark.sql.debug.maxToStringFields'.\n"
     ]
    },
    {
     "name": "stderr",
     "output_type": "stream",
     "text": [
      "                                                                                \r"
     ]
    }
   ],
   "source": [
    "student_directory = 'anikitin8'\n",
    "\n",
    "df_flat.coalesce(1).write.parquet(f\"s3a://kc-hardda-projects/{student_directory}/flat_table/\", mode='overwrite')"
   ]
  },
  {
   "cell_type": "markdown",
   "id": "9c7c8432-ba14-467e-b8fd-d225cac2ed52",
   "metadata": {},
   "source": [
    "Checking that we have saved data to S3 successfully. "
   ]
  },
  {
   "cell_type": "code",
   "execution_count": 10,
   "id": "7edb7363-b1e7-4331-a983-5325a24cb8cd",
   "metadata": {},
   "outputs": [
    {
     "name": "stderr",
     "output_type": "stream",
     "text": [
      "                                                                                \r"
     ]
    },
    {
     "name": "stdout",
     "output_type": "stream",
     "text": [
      "+-------------------+---------+------+---------+--------+----+-----+-----+----+----+-----+------------+----+-------+---------+--------------+\n",
      "|     execution_date|advert_id|region|  user_id|platform|mark|model|price|year|fuel|color|transmission|body|country|global_id|user_type_name|\n",
      "+-------------------+---------+------+---------+--------+----+-----+-----+----+----+-----+------------+----+-------+---------+--------------+\n",
      "|2020-11-12 00:00:00|134709471|  Омск|123482031| desktop|null| null| null|null|null| null|        null|null|   null|123482031|   simple_user|\n",
      "|2020-11-12 00:00:00|146077599|  Сочи|125256070| desktop|null| null| null|null|null| null|        null|null|   null|125256070|   simple_user|\n",
      "|2020-11-12 00:00:00|146294791|  Омск|126668838| desktop|null| null| null|null|null| null|        null|null|   null|126668838|         profi|\n",
      "+-------------------+---------+------+---------+--------+----+-----+-----+----+----+-----+------------+----+-------+---------+--------------+\n",
      "only showing top 3 rows\n",
      "\n"
     ]
    },
    {
     "name": "stderr",
     "output_type": "stream",
     "text": [
      "                                                                                \r"
     ]
    },
    {
     "data": {
      "text/plain": [
       "2771661"
      ]
     },
     "execution_count": 10,
     "metadata": {},
     "output_type": "execute_result"
    }
   ],
   "source": [
    "df_flat_test = spark.read.parquet(f\"s3a://kc-hardda-projects/{student_directory}/flat_table/\")\n",
    "df_flat_test.show(3)\n",
    "df_flat_test.count()"
   ]
  },
  {
   "cell_type": "markdown",
   "id": "502645c8-4183-4542-ba8f-442c4084c223",
   "metadata": {},
   "source": [
    "## S3"
   ]
  },
  {
   "cell_type": "markdown",
   "id": "caa782c1-6923-4a09-a131-cf54d8f218f8",
   "metadata": {},
   "source": [
    "Let's check the name of the parquet file. "
   ]
  },
  {
   "cell_type": "code",
   "execution_count": 11,
   "id": "654262a3-faee-465d-a156-3c7e559923f2",
   "metadata": {},
   "outputs": [
    {
     "name": "stdout",
     "output_type": "stream",
     "text": [
      "Objects in bucket 'kc-hardda-projects':\n",
      "- anikitin8/flat_table/_SUCCESS\n",
      "- anikitin8/flat_table/part-00000-1933d199-bb86-422c-a4e9-dcc7f538ec4c-c000.snappy.parquet\n"
     ]
    }
   ],
   "source": [
    "import boto3\n",
    "from botocore.exceptions import NoCredentialsError\n",
    "\n",
    "\n",
    "s3 = boto3.client('s3',\n",
    "                  aws_access_key_id=aws_access_key,\n",
    "                  aws_secret_access_key=aws_secret_key,\n",
    "                  endpoint_url=s3_endpoint_url)\n",
    "\n",
    "response = s3.list_objects_v2(Bucket=s3_bucket, Prefix = student_directory)\n",
    "\n",
    "if 'Contents' in response:\n",
    "    print(f\"Objects in bucket '{s3_bucket}':\")\n",
    "    for obj in response['Contents']:\n",
    "        print(f\"- {obj['Key']}\")\n",
    "        path = obj['Key']\n",
    "else:\n",
    "    print(f\"No objects found in bucket {s3_bucket}\")"
   ]
  },
  {
   "cell_type": "code",
   "execution_count": 12,
   "id": "8b4a9ed0-a807-4333-a4a2-7220a9cba74a",
   "metadata": {},
   "outputs": [
    {
     "name": "stdout",
     "output_type": "stream",
     "text": [
      "File size: 31.91 Mb\n"
     ]
    }
   ],
   "source": [
    "response = s3.head_object(Bucket=s3_bucket, Key=f'{path}')\n",
    "\n",
    "print(f'File size: {round(response[\"ContentLength\"] / 1024 / 1024, 2)} Mb')"
   ]
  },
  {
   "cell_type": "markdown",
   "id": "22e5997d-7ad6-4b9a-a531-eaaa3bf44894",
   "metadata": {},
   "source": [
    "## ClickHouse"
   ]
  },
  {
   "cell_type": "markdown",
   "id": "8515335c-fcc7-442d-94ad-7624e2075b1f",
   "metadata": {},
   "source": [
    "### From S3 to Main Table"
   ]
  },
  {
   "cell_type": "markdown",
   "id": "3458feba-e3cc-45b4-9669-56fcd5e521f0",
   "metadata": {},
   "source": [
    "Creating connection to ClickHouse database."
   ]
  },
  {
   "cell_type": "code",
   "execution_count": 13,
   "id": "7a99a618-460f-46a0-b232-33f5d0109ac3",
   "metadata": {},
   "outputs": [
    {
     "name": "stdout",
     "output_type": "stream",
     "text": [
      "Collecting clickhouse_driver\n",
      "  Using cached clickhouse_driver-0.2.6-cp38-cp38-manylinux_2_17_x86_64.manylinux2014_x86_64.whl (755 kB)\n",
      "Requirement already satisfied: pytz in /opt/conda/lib/python3.8/site-packages (from clickhouse_driver) (2021.3)\n",
      "Collecting tzlocal\n",
      "  Using cached tzlocal-5.0.1-py3-none-any.whl (20 kB)\n",
      "Collecting backports.zoneinfo\n",
      "  Using cached backports.zoneinfo-0.2.1-cp38-cp38-manylinux1_x86_64.whl (74 kB)\n",
      "Installing collected packages: backports.zoneinfo, tzlocal, clickhouse_driver\n",
      "Successfully installed backports.zoneinfo-0.2.1 clickhouse_driver-0.2.6 tzlocal-5.0.1\n"
     ]
    }
   ],
   "source": [
    "!pip install clickhouse_driver"
   ]
  },
  {
   "cell_type": "code",
   "execution_count": 14,
   "id": "47be718f-eb2b-4066-a9b9-b186bd21fcb5",
   "metadata": {},
   "outputs": [
    {
     "name": "stdout",
     "output_type": "stream",
     "text": [
      "(datetime.date(2022, 2, 1), datetime.date(2022, 1, 31), 'android', 'f7411212fd0e2523e126cbfdd3f226c211212', '4beb10e1-aeeb-4c52-acd2-ce1ddbc1fc24b10e1', 22, 11, 3, 0, 0, 0, 2, 2, 0, 0, 0, 0, 0, 0)\n"
     ]
    }
   ],
   "source": [
    "from clickhouse_driver import Client\n",
    "\n",
    "\n",
    "user_name = 'user_name'\n",
    "pwd = 'password'\n",
    "\n",
    "# creating connection ClickHouse\n",
    "client = Client(host='clickhouse.lab.karpov.courses', port=9000,\n",
    "                user=user_name, password=pwd, database='hardda_student_data')\n",
    "\n",
    "# checking connection\n",
    "result = client.execute(\"SELECT * FROM hardda.user_dm_events LIMIT 10\")\n",
    "\n",
    "# showing the result\n",
    "for row in result[0:1]:\n",
    "    print(row)"
   ]
  },
  {
   "cell_type": "markdown",
   "id": "af14effe-ef08-4414-8bce-0954dca4aaa6",
   "metadata": {},
   "source": [
    "Creating ClickHouse table using S3 engine. "
   ]
  },
  {
   "cell_type": "code",
   "execution_count": 35,
   "id": "cbae87f6-c73b-430d-9026-0e0c34c5798f",
   "metadata": {},
   "outputs": [],
   "source": [
    "query = '''\n",
    "DROP TABLE IF EXISTS hardda_student_data.prj_s3_ext_nav2103\n",
    "'''"
   ]
  },
  {
   "cell_type": "code",
   "execution_count": 36,
   "id": "1de74088-bcb3-4ae2-91b2-936740bf7f21",
   "metadata": {},
   "outputs": [
    {
     "data": {
      "text/plain": [
       "[]"
      ]
     },
     "execution_count": 36,
     "metadata": {},
     "output_type": "execute_result"
    }
   ],
   "source": [
    "client.execute(query)"
   ]
  },
  {
   "cell_type": "code",
   "execution_count": 37,
   "id": "7fdc8bba-288b-47a9-92a4-919821e41f88",
   "metadata": {},
   "outputs": [],
   "source": [
    "query = '''\n",
    "CREATE TABLE hardda_student_data.prj_s3_ext_nav2103 (\n",
    "    `execution_date` Date,\n",
    "    `advert_id` UInt64,\n",
    "    `region` LowCardinality(String),\n",
    "    `user_id` UInt64,\n",
    "    `platform` LowCardinality(String),\n",
    "    `mark` Nullable(String),\n",
    "    `model` Nullable(String),\n",
    "    `price` Nullable(UInt64),\n",
    "    `year` Nullable(UInt16),\n",
    "    `fuel` LowCardinality(Nullable(String)),\n",
    "    `color` LowCardinality(Nullable(String)),\n",
    "    `transmission` LowCardinality(Nullable(String)), \n",
    "    `body` LowCardinality(Nullable(String)), \n",
    "    `country` LowCardinality(Nullable(String)),\n",
    "    `global_id` Nullable(UInt64),\n",
    "    `user_type_name` LowCardinality(Nullable(String))\n",
    ")\n",
    "ENGINE = S3 (\n",
    "    'https://storage.yandexcloud.net/kc-hardda-projects/{}',\n",
    "    'access_key', \n",
    "    'secrete_key',\n",
    "    'Parquet'\n",
    "    )\n",
    "PARTITION BY toStartOfMonth(execution_date) \n",
    "ORDER BY (execution_date, advert_id)\n",
    "PRIMARY KEY (execution_date, advert_id)\n",
    "'''.format(path)"
   ]
  },
  {
   "cell_type": "code",
   "execution_count": 38,
   "id": "8e5fd236-3442-4cee-a50d-fee8b739f330",
   "metadata": {},
   "outputs": [],
   "source": [
    "result = client.execute(query)"
   ]
  },
  {
   "cell_type": "markdown",
   "id": "7452fe9a-1704-4512-bcc6-080a14c6456a",
   "metadata": {},
   "source": [
    "Creating ClickHouse table using MergeTree engine."
   ]
  },
  {
   "cell_type": "code",
   "execution_count": 39,
   "id": "5f77fdf3-0f31-4657-a3aa-4310806818a9",
   "metadata": {},
   "outputs": [],
   "source": [
    "query = '''\n",
    "DROP TABLE IF EXISTS hardda_student_data.prj_main_nav2103\n",
    "'''"
   ]
  },
  {
   "cell_type": "code",
   "execution_count": 40,
   "id": "8cc0f1bc-f517-4ec5-8e41-5290b0648a59",
   "metadata": {},
   "outputs": [
    {
     "data": {
      "text/plain": [
       "[]"
      ]
     },
     "execution_count": 40,
     "metadata": {},
     "output_type": "execute_result"
    }
   ],
   "source": [
    "client.execute(query)"
   ]
  },
  {
   "cell_type": "code",
   "execution_count": 41,
   "id": "cffdc952-d77b-45df-b097-5aa086027050",
   "metadata": {},
   "outputs": [],
   "source": [
    "query = '''\n",
    "CREATE TABLE hardda_student_data.prj_main_nav2103 (\n",
    "    `execution_date` Date,\n",
    "    `advert_id` UInt64,\n",
    "    `region` LowCardinality(String),\n",
    "    `user_id` UInt64,\n",
    "    `platform` LowCardinality(String),\n",
    "    `mark` Nullable(String),\n",
    "    `model` Nullable(String),\n",
    "    `price` Nullable(UInt64),\n",
    "    `year` Nullable(UInt16),\n",
    "    `fuel` LowCardinality(Nullable(String)),\n",
    "    `color` LowCardinality(Nullable(String)),\n",
    "    `transmission` LowCardinality(Nullable(String)), \n",
    "    `body` LowCardinality(Nullable(String)), \n",
    "    `country` LowCardinality(Nullable(String)),\n",
    "    `global_id` Nullable(UInt64),\n",
    "    `user_type_name` LowCardinality(Nullable(String))\n",
    ")\n",
    "ENGINE = MergeTree()\n",
    "PARTITION BY toStartOfMonth(execution_date) \n",
    "ORDER BY (execution_date, advert_id)\n",
    "PRIMARY KEY (execution_date, advert_id)\n",
    "SETTINGS index_granularity = 8192\n",
    "'''"
   ]
  },
  {
   "cell_type": "code",
   "execution_count": 42,
   "id": "daedfa6e-e124-4c15-832d-be5378656a93",
   "metadata": {},
   "outputs": [],
   "source": [
    "result = client.execute(query)"
   ]
  },
  {
   "cell_type": "code",
   "execution_count": 43,
   "id": "b6c91760-8470-4a27-917e-c32ec84a2868",
   "metadata": {},
   "outputs": [],
   "source": [
    "query = '''\n",
    "INSERT INTO hardda_student_data.prj_main_nav2103\n",
    "SELECT\n",
    "  *\n",
    "FROM \n",
    "  hardda_student_data.prj_s3_ext_nav2103 \n",
    "'''"
   ]
  },
  {
   "cell_type": "code",
   "execution_count": 44,
   "id": "864d0fe9-b2c7-49b8-9886-4dd4e33c9c84",
   "metadata": {},
   "outputs": [],
   "source": [
    "result = client.execute(query)"
   ]
  },
  {
   "cell_type": "markdown",
   "id": "332c9460-ab02-4731-b779-638e1e694c73",
   "metadata": {},
   "source": [
    "Checking the result."
   ]
  },
  {
   "cell_type": "code",
   "execution_count": 45,
   "id": "ae742c68-dbd7-4286-aa88-1c996234fd55",
   "metadata": {},
   "outputs": [
    {
     "name": "stdout",
     "output_type": "stream",
     "text": [
      "(datetime.date(2020, 11, 12), 134709471, 'Омск', 123482031, 'desktop', None, None, None, None, None, None, None, None, None, 123482031, 'simple_user')\n",
      "(datetime.date(2020, 11, 12), 136066077, 'Омск', 124162590, 'desktop', None, None, None, None, None, None, None, None, None, 124162590, 'simple_user')\n"
     ]
    }
   ],
   "source": [
    "query = '''\n",
    "select * from prj_main_nav2103 limit(2)\n",
    "'''\n",
    "\n",
    "result = client.execute(query)\n",
    "\n",
    "print(*result, sep='\\n')"
   ]
  },
  {
   "cell_type": "markdown",
   "id": "36c41d77-d4fe-4620-82f9-97cddcecc2c3",
   "metadata": {},
   "source": [
    "Creating materialized view _agg1. "
   ]
  },
  {
   "cell_type": "markdown",
   "id": "98e1e456-0e7c-493e-b911-0f76c1fb529f",
   "metadata": {},
   "source": [
    "### Aggregating Materialize View 1"
   ]
  },
  {
   "cell_type": "code",
   "execution_count": 71,
   "id": "9da02fb1-b4af-490b-ae58-39acaf577222",
   "metadata": {},
   "outputs": [
    {
     "data": {
      "text/plain": [
       "[]"
      ]
     },
     "execution_count": 71,
     "metadata": {},
     "output_type": "execute_result"
    }
   ],
   "source": [
    "query = '''\n",
    "DROP TABLE IF EXISTS hardda_student_data.nav2103_agg_1\n",
    "'''\n",
    "\n",
    "client.execute(query)"
   ]
  },
  {
   "cell_type": "markdown",
   "id": "de71b296-9239-4c0f-80dc-11828dd96e0b",
   "metadata": {},
   "source": [
    "Creating table with AggregatingMergeTree engine. "
   ]
  },
  {
   "cell_type": "code",
   "execution_count": 72,
   "id": "c56255a2-2226-485e-921c-0d8a3f207d6f",
   "metadata": {},
   "outputs": [
    {
     "data": {
      "text/plain": [
       "[]"
      ]
     },
     "execution_count": 72,
     "metadata": {},
     "output_type": "execute_result"
    }
   ],
   "source": [
    "query = '''\n",
    "CREATE TABLE hardda_student_data.nav2103_agg_1 (\n",
    "    `execution_date` Date,\n",
    "    `platform` LowCardinality(String),\n",
    "    `user_type_name` LowCardinality(Nullable(String)),\n",
    "    `min_price` AggregateFunction(min, Nullable(UInt64)),\n",
    "    `quantile_0_25` AggregateFunction(quantile(0.25), Nullable(UInt64)),\n",
    "    `median_price` AggregateFunction(quantile(0.5), Nullable(UInt64)),\n",
    "    `avg_price` AggregateFunction(avg, Nullable(UInt64)),\n",
    "    `quantile_0_75` AggregateFunction(quantile(0.75), Nullable(UInt64)),\n",
    "    `max_price` AggregateFunction(max, Nullable(UInt64))\n",
    ")\n",
    "ENGINE = AggregatingMergeTree\n",
    "ORDER BY (execution_date, platform)\n",
    "'''\n",
    "\n",
    "client.execute(query)"
   ]
  },
  {
   "cell_type": "code",
   "execution_count": 73,
   "id": "785b0c5c-c777-41de-85cc-1792f7a37252",
   "metadata": {},
   "outputs": [
    {
     "data": {
      "text/plain": [
       "[]"
      ]
     },
     "execution_count": 73,
     "metadata": {},
     "output_type": "execute_result"
    }
   ],
   "source": [
    "query = '''\n",
    "DROP TABLE IF EXISTS hardda_student_data.prj_main_nav2103_agg_view_1\n",
    "'''\n",
    "\n",
    "client.execute(query)"
   ]
  },
  {
   "cell_type": "markdown",
   "id": "b3008a7f-b368-49b2-a88a-f6a5924bf868",
   "metadata": {},
   "source": [
    "Creating Materialized View based on the table with AggregatingMergeTree engine. "
   ]
  },
  {
   "cell_type": "code",
   "execution_count": 74,
   "id": "9c2f9926-04c1-432f-bf84-0deff4b803ce",
   "metadata": {},
   "outputs": [
    {
     "data": {
      "text/plain": [
       "[]"
      ]
     },
     "execution_count": 74,
     "metadata": {},
     "output_type": "execute_result"
    }
   ],
   "source": [
    "query = '''\n",
    "CREATE MATERIALIZED VIEW hardda_student_data.prj_main_nav2103_agg_view_1\n",
    "TO hardda_student_data.nav2103_agg_1 AS\n",
    "SELECT\n",
    "    execution_date,\n",
    "    platform,\n",
    "    user_type_name,\n",
    "    minState(price) AS min_price,\n",
    "    quantileState(0.25)(price) AS quantile_0_25,\n",
    "    quantileState(0.5)(price) AS median_price,\n",
    "    avgState(price) AS avg_price,\n",
    "    quantileState(0.75)(price) AS quantile_0_75,\n",
    "    maxState(price) AS max_price\n",
    "FROM\n",
    "    hardda_student_data.prj_main_nav2103\n",
    "GROUP BY \n",
    "    execution_date,\n",
    "    platform,\n",
    "    user_type_name\n",
    "'''\n",
    "\n",
    "client.execute(query)"
   ]
  },
  {
   "cell_type": "markdown",
   "id": "1321c26d-6e18-4d7a-9f00-549f56bd4887",
   "metadata": {},
   "source": [
    "Inserting data to our AggregatingMergeTree engine table. "
   ]
  },
  {
   "cell_type": "code",
   "execution_count": 75,
   "id": "5c43d21c-56d4-484e-b081-1edc399d8092",
   "metadata": {},
   "outputs": [
    {
     "data": {
      "text/plain": [
       "[]"
      ]
     },
     "execution_count": 75,
     "metadata": {},
     "output_type": "execute_result"
    }
   ],
   "source": [
    "query = '''\n",
    "INSERT INTO hardda_student_data.nav2103_agg_1\n",
    "SELECT\n",
    "    execution_date,\n",
    "    platform,\n",
    "    user_type_name,\n",
    "    minState(price) AS min_price,\n",
    "    quantileState(0.25)(price) AS quantile_0_25,\n",
    "    quantileState(0.5)(price) AS median_price,\n",
    "    avgState(price) AS avg_price,\n",
    "    quantileState(0.75)(price) AS quantile_0_75,\n",
    "    maxState(price) AS max_price\n",
    "FROM\n",
    "    hardda_student_data.prj_main_nav2103\n",
    "GROUP BY \n",
    "    execution_date,\n",
    "    platform,\n",
    "    user_type_name\n",
    "'''\n",
    "\n",
    "client.execute(query)"
   ]
  },
  {
   "cell_type": "markdown",
   "id": "98df0265-13c4-4969-970f-49f5ed18f742",
   "metadata": {},
   "source": [
    "Checking the result. "
   ]
  },
  {
   "cell_type": "code",
   "execution_count": 26,
   "id": "4cacd9cb-632d-4caa-bd0c-f7f80fc53e16",
   "metadata": {},
   "outputs": [],
   "source": [
    "query = '''\n",
    "SELECT\n",
    "    execution_date,\n",
    "    platform,\n",
    "    user_type_name,\n",
    "    minMerge(min_price) AS min_price,\n",
    "    maxMerge(max_price) AS max_price,\n",
    "    avgMerge(avg_price) AS avg_price\n",
    "FROM \n",
    "    hardda_student_data.prj_main_nav2103_agg_view_1\n",
    "GROUP BY \n",
    "    execution_date,\n",
    "    platform,\n",
    "    user_type_name\n",
    "ORDER BY execution_date\n",
    "LIMIT(5)\n",
    "'''"
   ]
  },
  {
   "cell_type": "code",
   "execution_count": 27,
   "id": "af7bdafd-51b6-4339-88f3-337d37220d13",
   "metadata": {},
   "outputs": [
    {
     "name": "stdout",
     "output_type": "stream",
     "text": [
      "(datetime.date(2020, 11, 12), 'unknown', 'profi', 2000, 2000, 2000.0)\n",
      "(datetime.date(2020, 11, 12), 'mobile', 'profi', 0, 60000, 7508.484375)\n",
      "(datetime.date(2020, 11, 12), 'ios', None, 0, 8100000, 50516.337630143775)\n",
      "(datetime.date(2020, 11, 12), 'android', 'simple_user', 0, 5180000, 89786.885625966)\n",
      "(datetime.date(2020, 11, 12), 'desktop', None, 0, 8900000, 555575.692926045)\n"
     ]
    }
   ],
   "source": [
    "result = client.execute(query)\n",
    "\n",
    "for i in result:\n",
    "    print(i)"
   ]
  },
  {
   "cell_type": "markdown",
   "id": "eb3af639-b5b5-4ebe-b250-419ee480917f",
   "metadata": {},
   "source": [
    "Is it true that `profi` users average price is bigger than `simple_user` average price?"
   ]
  },
  {
   "cell_type": "code",
   "execution_count": 15,
   "id": "2e46f8b8-3ae4-4e70-8f95-df5c1680b601",
   "metadata": {},
   "outputs": [],
   "source": [
    "query = '''\n",
    "SELECT\n",
    "    user_type_name,\n",
    "    avgMerge(avg_price) avg_hits_per_hour\n",
    "FROM \n",
    "    hardda_student_data.prj_main_nav2103_agg_view_1\n",
    "GROUP BY \n",
    "    user_type_name\n",
    "ORDER BY \n",
    "    user_type_name\n",
    "'''"
   ]
  },
  {
   "cell_type": "code",
   "execution_count": 16,
   "id": "470389f8-e94b-4de4-ba89-377095e11f05",
   "metadata": {},
   "outputs": [
    {
     "name": "stdout",
     "output_type": "stream",
     "text": [
      "('avtosalon', 533367.1845347529)\n",
      "('profi', 261974.95002196028)\n",
      "('simple_user', 251042.5140967816)\n",
      "(None, 232742.0624330976)\n"
     ]
    }
   ],
   "source": [
    "result = client.execute(query)\n",
    "\n",
    "for i in result:\n",
    "    print(i)"
   ]
  },
  {
   "cell_type": "markdown",
   "id": "21ed7cc4-a654-4011-9731-bded59b4e1d4",
   "metadata": {},
   "source": [
    "### Aggregating Materialize View 2"
   ]
  },
  {
   "cell_type": "code",
   "execution_count": 21,
   "id": "075a6e8e-1e69-486f-8798-1ec5ee8208e1",
   "metadata": {},
   "outputs": [
    {
     "data": {
      "text/plain": [
       "[]"
      ]
     },
     "execution_count": 21,
     "metadata": {},
     "output_type": "execute_result"
    }
   ],
   "source": [
    "query = '''\n",
    "DROP TABLE IF EXISTS hardda_student_data.nav2103_agg_2\n",
    "'''\n",
    "\n",
    "client.execute(query)"
   ]
  },
  {
   "cell_type": "markdown",
   "id": "f3f22ac5-db81-44e2-b7ea-78354e794945",
   "metadata": {},
   "source": [
    "Creating table with AggregatingMergeTree engine. "
   ]
  },
  {
   "cell_type": "code",
   "execution_count": 22,
   "id": "abe6748f-faf9-4ead-a74b-0f79d721e40a",
   "metadata": {},
   "outputs": [
    {
     "data": {
      "text/plain": [
       "[]"
      ]
     },
     "execution_count": 22,
     "metadata": {},
     "output_type": "execute_result"
    }
   ],
   "source": [
    "query = '''\n",
    "CREATE TABLE hardda_student_data.nav2103_agg_2 (\n",
    "    `advert_id` UInt64,\n",
    "    `user_id` UInt64,\n",
    "    `mark` LowCardinality(Nullable(String)),\n",
    "    `model` LowCardinality(Nullable(String)),\n",
    "    `min_date` AggregateFunction(min, Date),\n",
    "    `max_date` AggregateFunction(max, Date),\n",
    "    `min_price` AggregateFunction(min, Nullable(UInt64)),\n",
    "    `median_price` AggregateFunction(quantile(0.5), Nullable(UInt64)),\n",
    "    `max_price` AggregateFunction(max, Nullable(UInt64))\n",
    ")\n",
    "ENGINE = AggregatingMergeTree\n",
    "ORDER BY (advert_id, user_id, mark, model)\n",
    "'''\n",
    "\n",
    "client.execute(query)"
   ]
  },
  {
   "cell_type": "code",
   "execution_count": 23,
   "id": "1dd378dc-6347-4f5d-8807-bdc7c0738b09",
   "metadata": {},
   "outputs": [
    {
     "data": {
      "text/plain": [
       "[]"
      ]
     },
     "execution_count": 23,
     "metadata": {},
     "output_type": "execute_result"
    }
   ],
   "source": [
    "query = '''\n",
    "DROP TABLE IF EXISTS hardda_student_data.prj_main_nav2103_agg_view_2\n",
    "'''\n",
    "\n",
    "client.execute(query)"
   ]
  },
  {
   "cell_type": "markdown",
   "id": "1221628d-288d-4475-9ea3-7dc78254dc0d",
   "metadata": {},
   "source": [
    "Creating Materialized View based on the table with AggregatingMergeTree engine. "
   ]
  },
  {
   "cell_type": "code",
   "execution_count": 24,
   "id": "7e448bee-295c-4d6c-a9c3-0d0af4b23c8e",
   "metadata": {},
   "outputs": [
    {
     "data": {
      "text/plain": [
       "[]"
      ]
     },
     "execution_count": 24,
     "metadata": {},
     "output_type": "execute_result"
    }
   ],
   "source": [
    "query = '''\n",
    "CREATE MATERIALIZED VIEW hardda_student_data.prj_main_nav2103_agg_view_2\n",
    "TO hardda_student_data.nav2103_agg_2 AS\n",
    "SELECT\n",
    "    advert_id, \n",
    "    user_id,\n",
    "    mark,\n",
    "    model,\n",
    "    minState(execution_date) AS min_date,\n",
    "    maxState(execution_date) AS max_date,\n",
    "    minState(price) AS min_price,\n",
    "    quantileState(0.5)(price) AS median_price,\n",
    "    maxState(price) AS max_price\n",
    "FROM\n",
    "    hardda_student_data.prj_main_nav2103\n",
    "GROUP BY \n",
    "    advert_id, \n",
    "    user_id,\n",
    "    mark,\n",
    "    model\n",
    "'''\n",
    "\n",
    "client.execute(query)"
   ]
  },
  {
   "cell_type": "markdown",
   "id": "c8eb7194-b21d-4c1c-870f-ebdf551d6e48",
   "metadata": {},
   "source": [
    "Inserting data to our AggregatingMergeTree engine table. "
   ]
  },
  {
   "cell_type": "code",
   "execution_count": 25,
   "id": "2247229e-df45-476b-bba2-5d25e30773a1",
   "metadata": {},
   "outputs": [
    {
     "data": {
      "text/plain": [
       "[]"
      ]
     },
     "execution_count": 25,
     "metadata": {},
     "output_type": "execute_result"
    }
   ],
   "source": [
    "query = '''\n",
    "INSERT INTO hardda_student_data.nav2103_agg_2\n",
    "SELECT\n",
    "    advert_id, \n",
    "    user_id,\n",
    "    mark,\n",
    "    model,\n",
    "    minState(execution_date) AS min_date,\n",
    "    maxState(execution_date) AS max_date,\n",
    "    minState(price) AS min_price,\n",
    "    quantileState(0.5)(price) AS median_price,\n",
    "    maxState(price) AS max_price\n",
    "FROM\n",
    "    hardda_student_data.prj_main_nav2103\n",
    "GROUP BY \n",
    "    advert_id, \n",
    "    user_id,\n",
    "    mark,\n",
    "    model\n",
    "'''\n",
    "\n",
    "client.execute(query)"
   ]
  },
  {
   "cell_type": "markdown",
   "id": "87aaa168-238b-4e75-a513-5eb10dc1be1d",
   "metadata": {},
   "source": [
    "Checking the result. "
   ]
  },
  {
   "cell_type": "code",
   "execution_count": 30,
   "id": "86480f80-29f8-431a-8a08-0fef0da8b336",
   "metadata": {},
   "outputs": [],
   "source": [
    "query = '''\n",
    "SELECT\n",
    "    advert_id, \n",
    "    user_id,\n",
    "    mark,\n",
    "    model,\n",
    "    minMerge(min_price) AS min_price,\n",
    "    maxMerge(max_price) AS max_price,\n",
    "    minMerge(min_date) AS min_date\n",
    "FROM \n",
    "    hardda_student_data.prj_main_nav2103_agg_view_2\n",
    "GROUP BY \n",
    "    advert_id, \n",
    "    user_id,\n",
    "    mark,\n",
    "    model\n",
    "ORDER BY mark\n",
    "LIMIT(5)\n",
    "'''"
   ]
  },
  {
   "cell_type": "code",
   "execution_count": 31,
   "id": "fc786bb3-894c-4f53-aeea-a7de3e2ba5b1",
   "metadata": {},
   "outputs": [
    {
     "name": "stdout",
     "output_type": "stream",
     "text": [
      "(269622970, 125442172, 'Alfa Romeo', '159', 1260000, 1318000, datetime.date(2021, 10, 23))\n",
      "(270284241, 135472405, 'Aro', '24', 160000, 160000, datetime.date(2021, 11, 9))\n",
      "(270343387, 124090146, 'Audi', 'A6', 840000, 840000, datetime.date(2021, 11, 11))\n",
      "(264975487, 131539512, 'Audi', '100', 420000, 520000, datetime.date(2021, 7, 11))\n",
      "(259842140, 134708515, 'Audi', 'A6', 540000, 590000, datetime.date(2021, 3, 21))\n"
     ]
    }
   ],
   "source": [
    "result = client.execute(query)\n",
    "\n",
    "for i in result:\n",
    "    print(i)"
   ]
  },
  {
   "cell_type": "markdown",
   "id": "ec4533fd-8acc-4195-abbd-ef9c70615817",
   "metadata": {},
   "source": [
    "Define top-5 the fastest selling marks?"
   ]
  },
  {
   "cell_type": "code",
   "execution_count": 78,
   "id": "8b1bd744-3822-4071-955d-5790e405b541",
   "metadata": {},
   "outputs": [],
   "source": [
    "query = '''\n",
    "WITH delta_days AS (\n",
    "SELECT\n",
    "    mark,\n",
    "    advert_id,\n",
    "    maxMerge(max_date) - minMerge(min_date) AS days_delta\n",
    "FROM \n",
    "    hardda_student_data.prj_main_nav2103_agg_view_2\n",
    "WHERE\n",
    "    mark is not null\n",
    "GROUP BY \n",
    "    mark,\n",
    "    advert_id\n",
    ")\n",
    "\n",
    "SELECT\n",
    "    mark,\n",
    "    round(avg(days_delta), 0) AS avg_delta\n",
    "FROM \n",
    "    delta_days\n",
    "GROUP BY \n",
    "    mark\n",
    "ORDER BY \n",
    "    avg_delta \n",
    "LIMIT(5)\n",
    "'''"
   ]
  },
  {
   "cell_type": "code",
   "execution_count": 79,
   "id": "241cfe6c-fa5c-43e9-8210-9a5e104f6801",
   "metadata": {},
   "outputs": [
    {
     "name": "stdout",
     "output_type": "stream",
     "text": [
      "('Aro', 1.0)\n",
      "('SEAT', 4.0)\n",
      "('Datsun', 7.0)\n",
      "('DongFeng', 10.0)\n",
      "('Alfa Romeo', 14.0)\n"
     ]
    }
   ],
   "source": [
    "result = client.execute(query)\n",
    "\n",
    "for i in result:\n",
    "    print(i)"
   ]
  },
  {
   "cell_type": "markdown",
   "id": "b8dfd487-934f-4024-b4a2-b7fe48f56631",
   "metadata": {},
   "source": [
    "Define top-5 the slowest selling marks?"
   ]
  },
  {
   "cell_type": "code",
   "execution_count": 76,
   "id": "1255f02e-7afb-4cd7-8ba8-6d7476a61f32",
   "metadata": {},
   "outputs": [],
   "source": [
    "query = '''\n",
    "WITH delta_days AS (\n",
    "SELECT\n",
    "    mark,\n",
    "    advert_id,\n",
    "    maxMerge(max_date) - minMerge(min_date) AS days_delta\n",
    "FROM \n",
    "    hardda_student_data.prj_main_nav2103_agg_view_2\n",
    "WHERE\n",
    "    mark is not naull\n",
    "GROUP BY \n",
    "    mark,\n",
    "    advert_id\n",
    ")\n",
    "\n",
    "SELECT\n",
    "    mark,a\n",
    "    round(avg(days_delta), 0) AS avg_delta\n",
    "FROM \n",
    "    delta_days\n",
    "GROUP BY \n",
    "    mark\n",
    "ORDER BY \n",
    "    avg_delta DESC\n",
    "LIMIT(5)\n",
    "'''"
   ]
  },
  {
   "cell_type": "code",
   "execution_count": 77,
   "id": "0f14aef4-b253-4dfd-8c8e-e8f0288190f9",
   "metadata": {},
   "outputs": [
    {
     "name": "stdout",
     "output_type": "stream",
     "text": [
      "('Ретро-автомобили', 215.0)\n",
      "('Scion', 213.0)\n",
      "('Rover', 195.0)\n",
      "('Great Wall', 184.0)\n",
      "('MG', 177.0)\n"
     ]
    }
   ],
   "source": [
    "result = client.execute(query)\n",
    "\n",
    "for i in result:\n",
    "    print(i)"
   ]
  },
  {
   "cell_type": "markdown",
   "id": "0f1a56b8-df01-4e8e-8256-bd1805915b66",
   "metadata": {},
   "source": [
    "Determine what share of the total base these groups make up (combined TOP-5 models with the fastest sales and TOP-5 brands with the slowest sales)?"
   ]
  },
  {
   "cell_type": "code",
   "execution_count": 166,
   "id": "da2d7f15-f259-4937-bc75-73b18816c96a",
   "metadata": {},
   "outputs": [],
   "source": [
    "query = '''\n",
    "WITH ten_marks_cnt AS (\n",
    "SELECT\n",
    "    mark,\n",
    "    count(distinct(advert_id)) AS cnt_ads\n",
    "FROM \n",
    "    hardda_student_data.prj_main_nav2103_agg_view_2\n",
    "WHERE 1=1\n",
    "    AND mark in ('Ретро-автомобили', 'Scion', 'Rover', 'Great Wall', 'MG',\n",
    "                 'Aro', 'SEAT', 'Datsun', 'DongFeng', 'Alfa Romeo')\n",
    "GROUP BY \n",
    "    mark\n",
    ")\n",
    "\n",
    "SELECT \n",
    "  round(sum(cnt_ads) / (SELECT count(distinct(advert_id)) FROM hardda_student_data.prj_main_nav2103_agg_view_2) * 100, 2)\n",
    "FROM \n",
    "  ten_marks_cnt\n",
    "'''"
   ]
  },
  {
   "cell_type": "code",
   "execution_count": 167,
   "id": "601204fb-ff16-40d4-b9a9-7b19a6be682f",
   "metadata": {},
   "outputs": [
    {
     "name": "stdout",
     "output_type": "stream",
     "text": [
      "(0.03,)\n"
     ]
    }
   ],
   "source": [
    "result = client.execute(query)\n",
    "\n",
    "for i in result:\n",
    "    print(i)"
   ]
  },
  {
   "cell_type": "markdown",
   "id": "fbc2816e-5eb2-4272-a1cb-18f0f9b94a7d",
   "metadata": {},
   "source": [
    "Determine what share of the total number of listers these groups make up (combined TOP-5 models with the fastest sales and TOP-5 brands with the slowest sales)?"
   ]
  },
  {
   "cell_type": "code",
   "execution_count": 168,
   "id": "a5b024ec-afba-49b3-a429-ecbf8afb871b",
   "metadata": {},
   "outputs": [],
   "source": [
    "query = '''\n",
    "WITH ten_marks_cnt AS (\n",
    "SELECT\n",
    "    mark,\n",
    "    count(distinct(user_id)) AS cnt_ads\n",
    "FROM \n",
    "    hardda_student_data.prj_main_nav2103_agg_view_2\n",
    "WHERE 1=1\n",
    "    AND mark in ('Ретро-автомобили', 'Scion', 'Rover', 'Great Wall', 'MG',\n",
    "                 'Aro', 'SEAT', 'Datsun', 'DongFeng', 'Alfa Romeo')\n",
    "GROUP BY \n",
    "    mark\n",
    ")\n",
    "\n",
    "SELECT \n",
    "  round(sum(cnt_ads) / (SELECT count(distinct(user_id)) FROM hardda_student_data.prj_main_nav2103_agg_view_2) * 100, 2)\n",
    "FROM \n",
    "  ten_marks_cnt\n",
    "'''"
   ]
  },
  {
   "cell_type": "code",
   "execution_count": 169,
   "id": "91148229-b58a-4ce7-8696-b1d57182224b",
   "metadata": {},
   "outputs": [
    {
     "name": "stdout",
     "output_type": "stream",
     "text": [
      "(0.18,)\n"
     ]
    }
   ],
   "source": [
    "result = client.execute(query)\n",
    "\n",
    "for i in result:\n",
    "    print(i)"
   ]
  },
  {
   "cell_type": "markdown",
   "id": "2897e338-f162-4dbf-9714-28c920153ff4",
   "metadata": {},
   "source": [
    "### Aggregating Materialize View 3"
   ]
  },
  {
   "cell_type": "markdown",
   "id": "422433a3-b638-4818-a4b6-03ddcf436e4e",
   "metadata": {},
   "source": [
    "tbc.."
   ]
  },
  {
   "cell_type": "code",
   "execution_count": null,
   "id": "40b9a2cf-2a4d-43f3-9159-68405da50266",
   "metadata": {},
   "outputs": [],
   "source": []
  },
  {
   "cell_type": "code",
   "execution_count": null,
   "id": "7aabbc00-99f3-4918-b4c1-e8c35dcdfc18",
   "metadata": {},
   "outputs": [],
   "source": []
  },
  {
   "cell_type": "code",
   "execution_count": null,
   "id": "9a61ba67-d0e8-4098-a2c7-210b0325e55a",
   "metadata": {},
   "outputs": [],
   "source": []
  },
  {
   "cell_type": "code",
   "execution_count": null,
   "id": "550ff8d2-6fbd-4537-bd1c-2af3eb464cfe",
   "metadata": {},
   "outputs": [],
   "source": []
  },
  {
   "cell_type": "code",
   "execution_count": null,
   "id": "2abcf776-2d36-42b7-ab0f-c99228ca4c44",
   "metadata": {},
   "outputs": [],
   "source": []
  },
  {
   "cell_type": "code",
   "execution_count": null,
   "id": "14a449c0-742a-480b-b20d-0ce043f9d615",
   "metadata": {},
   "outputs": [],
   "source": []
  },
  {
   "cell_type": "code",
   "execution_count": null,
   "id": "68865831-0177-4772-9e5f-3ad74e0d2572",
   "metadata": {},
   "outputs": [],
   "source": []
  }
 ],
 "metadata": {
  "kernelspec": {
   "display_name": "Python 3 (ipykernel)",
   "language": "python",
   "name": "python3"
  },
  "language_info": {
   "codemirror_mode": {
    "name": "ipython",
    "version": 3
   },
   "file_extension": ".py",
   "mimetype": "text/x-python",
   "name": "python",
   "nbconvert_exporter": "python",
   "pygments_lexer": "ipython3",
   "version": "3.8.10"
  }
 },
 "nbformat": 4,
 "nbformat_minor": 5
}
