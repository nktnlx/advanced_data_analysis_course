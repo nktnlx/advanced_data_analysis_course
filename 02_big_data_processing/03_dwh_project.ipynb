{
 "cells": [
  {
   "cell_type": "markdown",
   "id": "04a7e17e-d8a9-4461-acc9-e87ce4c2b432",
   "metadata": {},
   "source": [
    "# DWH Project"
   ]
  },
  {
   "cell_type": "markdown",
   "id": "a73f3519-5746-4cda-8726-c49364cab0b6",
   "metadata": {},
   "source": [
    "Creating connection to S3, initializing Spark session and reading data. "
   ]
  },
  {
   "cell_type": "code",
   "execution_count": 1,
   "id": "91f2e40b-9b6f-437b-8f5f-3dfc48607337",
   "metadata": {},
   "outputs": [
    {
     "name": "stderr",
     "output_type": "stream",
     "text": [
      "Warning: Ignoring non-Spark config property: fs.s3a.endpoint\n"
     ]
    },
    {
     "name": "stdout",
     "output_type": "stream",
     "text": [
      "23/09/25 13:12:48 WARN NativeCodeLoader: Unable to load native-hadoop library for your platform... using builtin-java classes where applicable\n"
     ]
    },
    {
     "name": "stderr",
     "output_type": "stream",
     "text": [
      "Setting default log level to \"WARN\".\n",
      "To adjust logging level use sc.setLogLevel(newLevel). For SparkR, use setLogLevel(newLevel).\n"
     ]
    },
    {
     "name": "stdout",
     "output_type": "stream",
     "text": [
      "23/09/25 13:12:54 WARN MetricsConfig: Cannot locate configuration: tried hadoop-metrics2-s3a-file-system.properties,hadoop-metrics2.properties\n"
     ]
    },
    {
     "name": "stderr",
     "output_type": "stream",
     "text": [
      "                                                                                \r"
     ]
    }
   ],
   "source": [
    "#Spark connection with S3 options\n",
    "import os\n",
    "import socket\n",
    "from pyspark.sql import SparkSession\n",
    "\n",
    "\n",
    "# credentials to work with S3\n",
    "aws_access_key = \"key\"\n",
    "aws_secret_key = \"secrete_key\"\n",
    "s3_bucket = \"kc-hardda-projects\"\n",
    "s3_endpoint_url = \"https://storage.yandexcloud.net\"\n",
    "\n",
    "# spark session\n",
    "APACHE_MASTER_IP = socket.gethostbyname(\"apache-spark-master-0.apache-spark-headless.apache-spark.svc.cluster.local\")\n",
    "APACHE_MASTER_URL = f\"spark://{APACHE_MASTER_IP}:7077\"\n",
    "POD_IP = os.environ[\"MY_POD_IP\"]\n",
    "SPARK_APP_NAME = f\"spark-{os.environ['HOSTNAME']}\"\n",
    "JARS = \"\"\"/nfs/env/lib/python3.8/site-packages/pyspark/jars/clickhouse-native-jdbc-shaded-2.6.5.jar, \n",
    "/nfs/env/lib/python3.8/site-packages/pyspark/jars/hadoop-aws-3.3.4.jar,\n",
    "/nfs/env/lib/python3.8/site-packages/pyspark/jars/aws-java-sdk-bundle-1.12.433.jar\n",
    "\"\"\"\n",
    "\n",
    "MEM = \"2048m\"\n",
    "CORES = 1\n",
    " \n",
    "spark = SparkSession.\\\n",
    "        builder.\\\n",
    "        appName(SPARK_APP_NAME).\\\n",
    "        master(APACHE_MASTER_URL).\\\n",
    "        config(\"spark.executor.memory\", MEM).\\\n",
    "        config(\"spark.jars\", JARS).\\\n",
    "        config(\"spark.executor.cores\", CORES).\\\n",
    "        config(\"spark.driver.host\", POD_IP).\\\n",
    "        config(\"spark.hadoop.fs.s3a.access.key\", aws_access_key). \\\n",
    "        config(\"spark.hadoop.fs.s3a.secret.key\", aws_secret_key). \\\n",
    "        config(\"fs.s3a.endpoint\", \"https://storage.yandexcloud.net\").  \\\n",
    "        config(\"spark.hadoop.fs.s3a.impl\", \"org.apache.hadoop.fs.s3a.S3AFileSystem\"). \\\n",
    "        config(\"spark.hadoop.fs.s3a.path.style.access\", True). \\\n",
    "        config(\"spark.hadoop.fs.s3a.committer.name\", \"directory\"). \\\n",
    "        config(\"spark.hadoop.fs.s3a.aws.credentials.provider\", \"org.apache.hadoop.fs.s3a.SimpleAWSCredentialsProvider\"). \\\n",
    "        getOrCreate()\n",
    "\n",
    "\n",
    "# reading data\n",
    "df_adverts_all = spark.read.parquet('s3a://kc-hardda-projects/shared/adverts_data.parquet')\n",
    "df_live_adverts = spark.read.parquet('s3a://kc-hardda-projects/shared/live_adverts.parquet')\n",
    "df_user_passports = spark.read.parquet('s3a://kc-hardda-projects/shared/user_passports.parquet')\n",
    "\n",
    "# creating dataframe from our data\n",
    "df_flat = df_live_adverts.join(df_adverts_all, on=['execution_date', 'advert_id'], how='left') \\\n",
    "                   .join(df_user_passports, df_live_adverts['user_id'] == df_user_passports['global_id'], how='left')"
   ]
  },
  {
   "cell_type": "markdown",
   "id": "2c185f3d-7892-41e9-bb97-600d8c1f84cd",
   "metadata": {},
   "source": [
    "Checking data."
   ]
  },
  {
   "cell_type": "code",
   "execution_count": 2,
   "id": "168f5e5a-5a3f-4073-987a-ff62a7744ef0",
   "metadata": {},
   "outputs": [
    {
     "name": "stderr",
     "output_type": "stream",
     "text": [
      "[Stage 13:=============================>                            (1 + 1) / 2]\r"
     ]
    },
    {
     "name": "stdout",
     "output_type": "stream",
     "text": [
      "+-------------------+---------+------+---------+--------+----+-----+--------+------+----+-----+------------+----+-------+---------+--------------+\n",
      "|     execution_date|advert_id|region|  user_id|platform|mark|model|   price|  year|fuel|color|transmission|body|country|global_id|user_type_name|\n",
      "+-------------------+---------+------+---------+--------+----+-----+--------+------+----+-----+------------+----+-------+---------+--------------+\n",
      "|2021-06-26 00:00:00|137514150|  Омск|124207514| unknown|null| null|114000.0|2014.0|null| null|        null|null|   null|124207514|         profi|\n",
      "|2021-09-20 00:00:00|137514150|  Омск|124207514| unknown|null| null|114000.0|2014.0|null| null|        null|null|   null|124207514|         profi|\n",
      "|2021-04-03 00:00:00|145314141|   Уфа|124243239| unknown|null| null|    null|  null|null| null|        null|null|   null|124243239|   simple_user|\n",
      "|2021-06-26 00:00:00|145314141|   Уфа|124243239| unknown|null| null|    null|  null|null| null|        null|null|   null|124243239|   simple_user|\n",
      "|2021-02-17 00:00:00|129804737|  Омск|123559152| unknown|null| null|    null|  null|null| null|        null|null|   null|123559152|   simple_user|\n",
      "+-------------------+---------+------+---------+--------+----+-----+--------+------+----+-----+------------+----+-------+---------+--------------+\n",
      "\n"
     ]
    },
    {
     "name": "stderr",
     "output_type": "stream",
     "text": [
      "                                                                                \r"
     ]
    }
   ],
   "source": [
    "df_flat.limit(5).show()"
   ]
  },
  {
   "cell_type": "markdown",
   "id": "7b095e8a-ec6b-4003-a221-c4021a3a4172",
   "metadata": {},
   "source": [
    "Checking number of rows. "
   ]
  },
  {
   "cell_type": "code",
   "execution_count": 3,
   "id": "21e78185-d734-4251-9b86-11bb0301eb32",
   "metadata": {},
   "outputs": [
    {
     "name": "stderr",
     "output_type": "stream",
     "text": [
      "                                                                                \r"
     ]
    },
    {
     "name": "stdout",
     "output_type": "stream",
     "text": [
      "23/09/25 13:14:17 WARN MemoryStore: Not enough space to cache broadcast_17 in memory! (computed 304.0 MiB so far)\n",
      "23/09/25 13:14:17 WARN BlockManager: Persisting block broadcast_17 to disk instead.\n",
      "23/09/25 13:14:21 WARN MemoryStore: Not enough space to cache broadcast_17 in memory! (computed 304.0 MiB so far)\n"
     ]
    },
    {
     "name": "stderr",
     "output_type": "stream",
     "text": [
      "                                                                                \r"
     ]
    },
    {
     "data": {
      "text/plain": [
       "2771661"
      ]
     },
     "execution_count": 3,
     "metadata": {},
     "output_type": "execute_result"
    }
   ],
   "source": [
    "df_flat.count()"
   ]
  },
  {
   "cell_type": "markdown",
   "id": "0f41a2e4-801f-47f0-a592-8816a63399c5",
   "metadata": {},
   "source": [
    "Dropping duplicated data, if exists.  "
   ]
  },
  {
   "cell_type": "code",
   "execution_count": 4,
   "id": "4940705f-ffe5-4070-9ec6-62131f08ee45",
   "metadata": {},
   "outputs": [],
   "source": [
    "df_flat = df_flat.dropDuplicates(['execution_date', 'advert_id'])"
   ]
  },
  {
   "cell_type": "code",
   "execution_count": 5,
   "id": "332ddb35-710c-4595-844f-4da3a43bf06e",
   "metadata": {},
   "outputs": [
    {
     "name": "stderr",
     "output_type": "stream",
     "text": [
      "                                                                                \r"
     ]
    },
    {
     "data": {
      "text/plain": [
       "2771661"
      ]
     },
     "execution_count": 5,
     "metadata": {},
     "output_type": "execute_result"
    }
   ],
   "source": [
    "df_flat.count()"
   ]
  },
  {
   "cell_type": "markdown",
   "id": "c28ee4d0-9935-4e06-a95c-cad18d31a900",
   "metadata": {},
   "source": [
    "Checking data types of the columns. "
   ]
  },
  {
   "cell_type": "code",
   "execution_count": 6,
   "id": "202021d2-8ef9-4fd9-bd25-731c470dc740",
   "metadata": {},
   "outputs": [
    {
     "name": "stdout",
     "output_type": "stream",
     "text": [
      "('execution_date', 'timestamp')\n",
      "('advert_id', 'bigint')\n",
      "('region', 'string')\n",
      "('user_id', 'bigint')\n",
      "('platform', 'string')\n",
      "('mark', 'string')\n",
      "('model', 'string')\n",
      "('price', 'double')\n",
      "('year', 'double')\n",
      "('fuel', 'string')\n",
      "('color', 'string')\n",
      "('transmission', 'string')\n",
      "('body', 'string')\n",
      "('country', 'string')\n",
      "('global_id', 'bigint')\n",
      "('user_type_name', 'string')\n"
     ]
    }
   ],
   "source": [
    "for i in df_flat.dtypes:\n",
    "    print(i)"
   ]
  },
  {
   "cell_type": "markdown",
   "id": "43dd52ab-b88f-42e7-9505-b35cb901d82d",
   "metadata": {},
   "source": [
    "Writing results to S3."
   ]
  },
  {
   "cell_type": "code",
   "execution_count": 7,
   "id": "3152e057-78b8-43c4-b8ef-48e9025ec382",
   "metadata": {},
   "outputs": [
    {
     "name": "stdout",
     "output_type": "stream",
     "text": [
      "23/09/25 13:14:46 WARN package: Truncated the string representation of a plan since it was too large. This behavior can be adjusted by setting 'spark.sql.debug.maxToStringFields'.\n"
     ]
    },
    {
     "name": "stderr",
     "output_type": "stream",
     "text": [
      "                                                                                \r"
     ]
    }
   ],
   "source": [
    "student_directory = 'anikitin8'\n",
    "\n",
    "df_flat.coalesce(1).write.parquet(f\"s3a://kc-hardda-projects/{student_directory}/flat_table/\", mode='overwrite')"
   ]
  },
  {
   "cell_type": "markdown",
   "id": "9c7c8432-ba14-467e-b8fd-d225cac2ed52",
   "metadata": {},
   "source": [
    "Checking that we have saved data to S3 successfully. "
   ]
  },
  {
   "cell_type": "code",
   "execution_count": 8,
   "id": "7edb7363-b1e7-4331-a983-5325a24cb8cd",
   "metadata": {},
   "outputs": [
    {
     "name": "stderr",
     "output_type": "stream",
     "text": [
      "                                                                                \r"
     ]
    },
    {
     "name": "stdout",
     "output_type": "stream",
     "text": [
      "+-------------------+---------+------+---------+--------+----+-----+-----+----+----+-----+------------+----+-------+---------+--------------+\n",
      "|     execution_date|advert_id|region|  user_id|platform|mark|model|price|year|fuel|color|transmission|body|country|global_id|user_type_name|\n",
      "+-------------------+---------+------+---------+--------+----+-----+-----+----+----+-----+------------+----+-------+---------+--------------+\n",
      "|2020-11-12 00:00:00|134709471|  Омск|123482031| desktop|null| null| null|null|null| null|        null|null|   null|123482031|   simple_user|\n",
      "|2020-11-12 00:00:00|146077599|  Сочи|125256070| desktop|null| null| null|null|null| null|        null|null|   null|125256070|   simple_user|\n",
      "|2020-11-12 00:00:00|146294791|  Омск|126668838| desktop|null| null| null|null|null| null|        null|null|   null|126668838|         profi|\n",
      "+-------------------+---------+------+---------+--------+----+-----+-----+----+----+-----+------------+----+-------+---------+--------------+\n",
      "only showing top 3 rows\n",
      "\n"
     ]
    },
    {
     "name": "stderr",
     "output_type": "stream",
     "text": [
      "                                                                                \r"
     ]
    },
    {
     "data": {
      "text/plain": [
       "2771661"
      ]
     },
     "execution_count": 8,
     "metadata": {},
     "output_type": "execute_result"
    }
   ],
   "source": [
    "df_flat_test = spark.read.parquet(f\"s3a://kc-hardda-projects/{student_directory}/flat_table/\")\n",
    "df_flat_test.show(3)\n",
    "df_flat_test.count()"
   ]
  },
  {
   "cell_type": "markdown",
   "id": "caa782c1-6923-4a09-a131-cf54d8f218f8",
   "metadata": {},
   "source": [
    "Let's check the name of the parquet file. "
   ]
  },
  {
   "cell_type": "code",
   "execution_count": 9,
   "id": "654262a3-faee-465d-a156-3c7e559923f2",
   "metadata": {},
   "outputs": [
    {
     "name": "stdout",
     "output_type": "stream",
     "text": [
      "Objects in bucket 'kc-hardda-projects':\n",
      "- anikitin8/flat_table/_SUCCESS\n",
      "- anikitin8/flat_table/part-00000-2afea7e5-9c7e-4b3d-a11d-c4416a4b8c76-c000.snappy.parquet\n"
     ]
    }
   ],
   "source": [
    "import boto3\n",
    "from botocore.exceptions import NoCredentialsError\n",
    "\n",
    "\n",
    "s3 = boto3.client('s3',\n",
    "                  aws_access_key_id=aws_access_key,\n",
    "                  aws_secret_access_key=aws_secret_key,\n",
    "                  endpoint_url=s3_endpoint_url)\n",
    "\n",
    "response = s3.list_objects_v2(Bucket=s3_bucket, Prefix = student_directory)\n",
    "\n",
    "if 'Contents' in response:\n",
    "    print(f\"Objects in bucket '{s3_bucket}':\")\n",
    "    for obj in response['Contents']:\n",
    "        print(f\"- {obj['Key']}\")\n",
    "        path = obj['Key']\n",
    "else:\n",
    "    print(f\"No objects found in bucket {s3_bucket}\")"
   ]
  },
  {
   "cell_type": "code",
   "execution_count": 10,
   "id": "476f4104-3fc8-43ef-9c93-60d2fb808d25",
   "metadata": {},
   "outputs": [
    {
     "name": "stdout",
     "output_type": "stream",
     "text": [
      "File size: 31.91 Mb\n"
     ]
    }
   ],
   "source": [
    "response = s3.head_object(Bucket=s3_bucket, Key=f'{path}')\n",
    "\n",
    "print(f'File size: {round(response[\"ContentLength\"] / 1024 / 1024, 2)} Mb')"
   ]
  },
  {
   "cell_type": "markdown",
   "id": "3458feba-e3cc-45b4-9669-56fcd5e521f0",
   "metadata": {},
   "source": [
    "Creating connection to ClickHouse database."
   ]
  },
  {
   "cell_type": "code",
   "execution_count": 11,
   "id": "7a99a618-460f-46a0-b232-33f5d0109ac3",
   "metadata": {},
   "outputs": [
    {
     "name": "stdout",
     "output_type": "stream",
     "text": [
      "Requirement already satisfied: clickhouse_driver in /opt/conda/lib/python3.8/site-packages (0.2.6)\n",
      "Requirement already satisfied: tzlocal in /opt/conda/lib/python3.8/site-packages (from clickhouse_driver) (5.0.1)\n",
      "Requirement already satisfied: pytz in /opt/conda/lib/python3.8/site-packages (from clickhouse_driver) (2021.3)\n",
      "Requirement already satisfied: backports.zoneinfo in /opt/conda/lib/python3.8/site-packages (from tzlocal->clickhouse_driver) (0.2.1)\n"
     ]
    }
   ],
   "source": [
    "!pip install clickhouse_driver"
   ]
  },
  {
   "cell_type": "code",
   "execution_count": 12,
   "id": "47be718f-eb2b-4066-a9b9-b186bd21fcb5",
   "metadata": {},
   "outputs": [
    {
     "name": "stdout",
     "output_type": "stream",
     "text": [
      "(datetime.date(2022, 2, 1), datetime.date(2022, 1, 31), 'android', 'f7411212fd0e2523e126cbfdd3f226c211212', '4beb10e1-aeeb-4c52-acd2-ce1ddbc1fc24b10e1', 22, 11, 3, 0, 0, 0, 2, 2, 0, 0, 0, 0, 0, 0)\n"
     ]
    }
   ],
   "source": [
    "from clickhouse_driver import Client\n",
    "\n",
    "\n",
    "user_name = 'user_name'\n",
    "pwd = 'password'\n",
    "\n",
    "# creating connection ClickHouse\n",
    "client = Client(host='clickhouse.lab.karpov.courses', port=9000,\n",
    "                user=user_name, password=pwd, database='hardda_student_data')\n",
    "\n",
    "# checking connection\n",
    "result = client.execute(\"SELECT * FROM hardda.user_dm_events LIMIT 10\")\n",
    "\n",
    "# showing the result\n",
    "for row in result[0:1]:\n",
    "    print(row)"
   ]
  },
  {
   "cell_type": "markdown",
   "id": "af14effe-ef08-4414-8bce-0954dca4aaa6",
   "metadata": {},
   "source": [
    "Creating ClickHouse table using S3 engine. "
   ]
  },
  {
   "cell_type": "code",
   "execution_count": 13,
   "id": "cbae87f6-c73b-430d-9026-0e0c34c5798f",
   "metadata": {},
   "outputs": [],
   "source": [
    "query = '''\n",
    "DROP TABLE IF EXISTS hardda_student_data.prj_s3_ext_nav2103\n",
    "'''"
   ]
  },
  {
   "cell_type": "code",
   "execution_count": 14,
   "id": "1de74088-bcb3-4ae2-91b2-936740bf7f21",
   "metadata": {},
   "outputs": [
    {
     "data": {
      "text/plain": [
       "[]"
      ]
     },
     "execution_count": 14,
     "metadata": {},
     "output_type": "execute_result"
    }
   ],
   "source": [
    "client.execute(query)"
   ]
  },
  {
   "cell_type": "code",
   "execution_count": 15,
   "id": "7fdc8bba-288b-47a9-92a4-919821e41f88",
   "metadata": {},
   "outputs": [],
   "source": [
    "query = '''\n",
    "CREATE TABLE hardda_student_data.prj_s3_ext_nav2103 (\n",
    "    `execution_date` Date,\n",
    "    `advert_id` UInt64,\n",
    "    `region` LowCardinality(String),\n",
    "    `user_id` UInt64,\n",
    "    `platform` LowCardinality(String),\n",
    "    `mark` Nullable(String),\n",
    "    `model` Nullable(String),\n",
    "    `price` Nullable(Float64),\n",
    "    `year` Nullable(UInt16),\n",
    "    `fuel` LowCardinality(Nullable(String)),\n",
    "    `color` LowCardinality(Nullable(String)),\n",
    "    `transmission` LowCardinality(Nullable(String)), \n",
    "    `body` LowCardinality(Nullable(String)), \n",
    "    `country` LowCardinality(Nullable(String)),\n",
    "    `global_id` Nullable(UInt64),\n",
    "    `user_type_name` LowCardinality(Nullable(String))\n",
    ")\n",
    "ENGINE = S3 (\n",
    "    'https://storage.yandexcloud.net/kc-hardda-projects/{}',\n",
    "    'key', \n",
    "    'secrete_key',\n",
    "    'Parquet'\n",
    "    )\n",
    "PARTITION BY toStartOfMonth(execution_date) \n",
    "ORDER BY (execution_date, advert_id)\n",
    "PRIMARY KEY (execution_date, advert_id)\n",
    "'''.format(path)"
   ]
  },
  {
   "cell_type": "code",
   "execution_count": 16,
   "id": "8e5fd236-3442-4cee-a50d-fee8b739f330",
   "metadata": {},
   "outputs": [],
   "source": [
    "result = client.execute(query)"
   ]
  },
  {
   "cell_type": "markdown",
   "id": "7452fe9a-1704-4512-bcc6-080a14c6456a",
   "metadata": {},
   "source": [
    "Creating ClickHouse table using MergeTree engine."
   ]
  },
  {
   "cell_type": "code",
   "execution_count": 17,
   "id": "5f77fdf3-0f31-4657-a3aa-4310806818a9",
   "metadata": {},
   "outputs": [],
   "source": [
    "query = '''\n",
    "DROP TABLE IF EXISTS hardda_student_data.prj_main_nav2103\n",
    "'''"
   ]
  },
  {
   "cell_type": "code",
   "execution_count": 18,
   "id": "8cc0f1bc-f517-4ec5-8e41-5290b0648a59",
   "metadata": {},
   "outputs": [
    {
     "data": {
      "text/plain": [
       "[]"
      ]
     },
     "execution_count": 18,
     "metadata": {},
     "output_type": "execute_result"
    }
   ],
   "source": [
    "client.execute(query)"
   ]
  },
  {
   "cell_type": "code",
   "execution_count": 19,
   "id": "cffdc952-d77b-45df-b097-5aa086027050",
   "metadata": {},
   "outputs": [],
   "source": [
    "query = '''\n",
    "CREATE TABLE hardda_student_data.prj_main_nav2103 (\n",
    "    `execution_date` Date,\n",
    "    `advert_id` UInt64,\n",
    "    `region` LowCardinality(String),\n",
    "    `user_id` UInt64,\n",
    "    `platform` LowCardinality(String),\n",
    "    `mark` Nullable(String),\n",
    "    `model` Nullable(String),\n",
    "    `price` Nullable(Float64),\n",
    "    `year` Nullable(UInt16),\n",
    "    `fuel` LowCardinality(Nullable(String)),\n",
    "    `color` LowCardinality(Nullable(String)),\n",
    "    `transmission` LowCardinality(Nullable(String)), \n",
    "    `body` LowCardinality(Nullable(String)), \n",
    "    `country` LowCardinality(Nullable(String)),\n",
    "    `global_id` Nullable(UInt64),\n",
    "    `user_type_name` LowCardinality(Nullable(String))\n",
    ")\n",
    "ENGINE = MergeTree()\n",
    "PARTITION BY toStartOfMonth(execution_date) \n",
    "ORDER BY (execution_date, advert_id)\n",
    "PRIMARY KEY (execution_date, advert_id)\n",
    "SETTINGS index_granularity = 8192\n",
    "'''"
   ]
  },
  {
   "cell_type": "code",
   "execution_count": 20,
   "id": "daedfa6e-e124-4c15-832d-be5378656a93",
   "metadata": {},
   "outputs": [],
   "source": [
    "result = client.execute(query)"
   ]
  },
  {
   "cell_type": "code",
   "execution_count": 21,
   "id": "b6c91760-8470-4a27-917e-c32ec84a2868",
   "metadata": {},
   "outputs": [],
   "source": [
    "query = '''\n",
    "INSERT INTO hardda_student_data.prj_main_nav2103\n",
    "SELECT\n",
    "  *\n",
    "FROM \n",
    "  hardda_student_data.prj_s3_ext_nav2103 \n",
    "'''"
   ]
  },
  {
   "cell_type": "code",
   "execution_count": 22,
   "id": "864d0fe9-b2c7-49b8-9886-4dd4e33c9c84",
   "metadata": {},
   "outputs": [],
   "source": [
    "result = client.execute(query)"
   ]
  },
  {
   "cell_type": "markdown",
   "id": "332c9460-ab02-4731-b779-638e1e694c73",
   "metadata": {},
   "source": [
    "Checking the result."
   ]
  },
  {
   "cell_type": "code",
   "execution_count": 23,
   "id": "ae742c68-dbd7-4286-aa88-1c996234fd55",
   "metadata": {},
   "outputs": [
    {
     "name": "stdout",
     "output_type": "stream",
     "text": [
      "(datetime.date(2020, 11, 12), 134709471, 'Омск', 123482031, 'desktop', None, None, None, None, None, None, None, None, None, 123482031, 'simple_user')\n",
      "(datetime.date(2020, 11, 12), 136066077, 'Омск', 124162590, 'desktop', None, None, None, None, None, None, None, None, None, 124162590, 'simple_user')\n"
     ]
    }
   ],
   "source": [
    "query = '''\n",
    "select * from prj_main_nav2103 limit(2)\n",
    "'''\n",
    "\n",
    "result = client.execute(query)\n",
    "\n",
    "print(*result, sep='\\n')"
   ]
  },
  {
   "cell_type": "markdown",
   "id": "36c41d77-d4fe-4620-82f9-97cddcecc2c3",
   "metadata": {},
   "source": [
    "Creating materialized view _agg1. "
   ]
  },
  {
   "cell_type": "code",
   "execution_count": null,
   "id": "74c5f74b-b08d-48fb-ab2f-8723f4262f77",
   "metadata": {},
   "outputs": [],
   "source": [
    "tbc.."
   ]
  },
  {
   "cell_type": "code",
   "execution_count": null,
   "id": "9afd91ec-2d32-4342-a9b7-27548bb93bef",
   "metadata": {},
   "outputs": [],
   "source": []
  },
  {
   "cell_type": "code",
   "execution_count": null,
   "id": "1d28cfdb-f1fd-43c0-81c1-c1f90d27cbb0",
   "metadata": {},
   "outputs": [],
   "source": []
  },
  {
   "cell_type": "code",
   "execution_count": null,
   "id": "70dfd7e2-576f-4e65-8966-d9de14c26fd0",
   "metadata": {},
   "outputs": [],
   "source": []
  },
  {
   "cell_type": "code",
   "execution_count": null,
   "id": "cae58085-315e-4c89-af7d-1dfcbf9a7b7f",
   "metadata": {},
   "outputs": [],
   "source": []
  },
  {
   "cell_type": "code",
   "execution_count": null,
   "id": "9c8004ab-cd76-4b7f-8f65-9a2ad21584cd",
   "metadata": {},
   "outputs": [],
   "source": []
  },
  {
   "cell_type": "code",
   "execution_count": null,
   "id": "e0027593-7a35-417e-8357-2656f8f0d521",
   "metadata": {},
   "outputs": [],
   "source": []
  },
  {
   "cell_type": "code",
   "execution_count": null,
   "id": "8ba59d63-08bb-404e-96e4-ec2a3d9aba73",
   "metadata": {},
   "outputs": [],
   "source": []
  },
  {
   "cell_type": "code",
   "execution_count": null,
   "id": "3b7f674d-b08f-4785-8050-b0dac68b68ce",
   "metadata": {},
   "outputs": [],
   "source": []
  },
  {
   "cell_type": "code",
   "execution_count": null,
   "id": "33bc5688-af5d-4371-9c90-02b6f9f303ce",
   "metadata": {},
   "outputs": [],
   "source": []
  },
  {
   "cell_type": "code",
   "execution_count": null,
   "id": "fd73b6e0-524d-430b-b840-e7aab65180b9",
   "metadata": {},
   "outputs": [],
   "source": []
  },
  {
   "cell_type": "code",
   "execution_count": null,
   "id": "8ecbaa40-cb34-4ba0-814b-a1c0df332ae6",
   "metadata": {},
   "outputs": [],
   "source": []
  },
  {
   "cell_type": "code",
   "execution_count": null,
   "id": "54cfa083-fd05-49ed-9768-4257ef1297d8",
   "metadata": {},
   "outputs": [],
   "source": []
  },
  {
   "cell_type": "code",
   "execution_count": null,
   "id": "56a5e48b-1d89-4db7-a99d-0e1e69a6bfa2",
   "metadata": {},
   "outputs": [],
   "source": []
  },
  {
   "cell_type": "code",
   "execution_count": null,
   "id": "8d204134-f846-435c-86c1-1cad3e64437d",
   "metadata": {},
   "outputs": [],
   "source": []
  },
  {
   "cell_type": "code",
   "execution_count": null,
   "id": "b1f238ef-c5ad-418d-a4cb-498f36672720",
   "metadata": {},
   "outputs": [],
   "source": []
  },
  {
   "cell_type": "code",
   "execution_count": null,
   "id": "8595c7fe-f0a9-42eb-975c-32d914fddcd9",
   "metadata": {},
   "outputs": [],
   "source": []
  },
  {
   "cell_type": "code",
   "execution_count": null,
   "id": "1a753a15-10f1-4440-a4ef-168376083a93",
   "metadata": {},
   "outputs": [],
   "source": []
  },
  {
   "cell_type": "code",
   "execution_count": null,
   "id": "9348bd21-cbbe-4708-b997-37bb7b2c8428",
   "metadata": {},
   "outputs": [],
   "source": []
  },
  {
   "cell_type": "code",
   "execution_count": null,
   "id": "1cf6b92c-a621-4de0-8637-8458d38ad48d",
   "metadata": {},
   "outputs": [],
   "source": []
  },
  {
   "cell_type": "code",
   "execution_count": null,
   "id": "ae70cb34-64f7-43d9-a8ac-4e89e801f6cb",
   "metadata": {},
   "outputs": [],
   "source": []
  },
  {
   "cell_type": "code",
   "execution_count": null,
   "id": "9caae521-f113-4530-a395-c9d70cbcd5a1",
   "metadata": {},
   "outputs": [],
   "source": []
  },
  {
   "cell_type": "code",
   "execution_count": null,
   "id": "874b9b4d-f259-42c9-97ee-110a7e69f35e",
   "metadata": {},
   "outputs": [],
   "source": []
  },
  {
   "cell_type": "code",
   "execution_count": null,
   "id": "f7b1a87b-65fa-4c78-b09f-965c8121c3fe",
   "metadata": {},
   "outputs": [],
   "source": []
  },
  {
   "cell_type": "code",
   "execution_count": null,
   "id": "8f42a17f-a17e-45b3-a006-2cf72ca527cd",
   "metadata": {},
   "outputs": [],
   "source": []
  },
  {
   "cell_type": "code",
   "execution_count": null,
   "id": "1c845608-4408-4d04-9613-072bd7476dd7",
   "metadata": {},
   "outputs": [],
   "source": []
  },
  {
   "cell_type": "code",
   "execution_count": null,
   "id": "b90e908a-e91e-4487-9170-48a9e9775523",
   "metadata": {},
   "outputs": [],
   "source": []
  },
  {
   "cell_type": "code",
   "execution_count": null,
   "id": "c84f8c41-2174-41b3-8ebb-c5425e38c3fc",
   "metadata": {},
   "outputs": [],
   "source": []
  },
  {
   "cell_type": "code",
   "execution_count": null,
   "id": "561f2c97-4f74-45ff-b322-7329f0615e1e",
   "metadata": {},
   "outputs": [],
   "source": []
  },
  {
   "cell_type": "code",
   "execution_count": null,
   "id": "fadc75ae-dabe-4549-9471-ca84dd516ac3",
   "metadata": {},
   "outputs": [],
   "source": []
  },
  {
   "cell_type": "code",
   "execution_count": null,
   "id": "62274ba3-8663-49c1-afbc-3894d5cf8f7d",
   "metadata": {},
   "outputs": [],
   "source": []
  },
  {
   "cell_type": "code",
   "execution_count": null,
   "id": "8b958526-f2c5-49a1-9b11-8a9df7b08108",
   "metadata": {},
   "outputs": [],
   "source": []
  },
  {
   "cell_type": "code",
   "execution_count": null,
   "id": "4f62a00d-bd28-451a-93df-35ddcc974246",
   "metadata": {},
   "outputs": [],
   "source": []
  },
  {
   "cell_type": "code",
   "execution_count": null,
   "id": "92b9044e-f369-4fc4-afd8-b182500eeae7",
   "metadata": {},
   "outputs": [],
   "source": []
  },
  {
   "cell_type": "code",
   "execution_count": null,
   "id": "68865831-0177-4772-9e5f-3ad74e0d2572",
   "metadata": {},
   "outputs": [],
   "source": []
  }
 ],
 "metadata": {
  "kernelspec": {
   "display_name": "Python 3 (ipykernel)",
   "language": "python",
   "name": "python3"
  },
  "language_info": {
   "codemirror_mode": {
    "name": "ipython",
    "version": 3
   },
   "file_extension": ".py",
   "mimetype": "text/x-python",
   "name": "python",
   "nbconvert_exporter": "python",
   "pygments_lexer": "ipython3",
   "version": "3.8.10"
  }
 },
 "nbformat": 4,
 "nbformat_minor": 5
}
