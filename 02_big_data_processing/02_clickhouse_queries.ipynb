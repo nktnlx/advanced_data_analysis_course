{
 "cells": [
  {
   "cell_type": "markdown",
   "id": "51baf299-2770-4c74-8db6-f64d230e5dfc",
   "metadata": {},
   "source": [
    "# ClickHouse"
   ]
  },
  {
   "cell_type": "markdown",
   "id": "08dfd1aa-36a8-4b72-860a-c7f0b8776a16",
   "metadata": {},
   "source": [
    "## Import libraries and creating connection"
   ]
  },
  {
   "cell_type": "code",
   "execution_count": 4,
   "id": "42d5fca8-7a83-4642-8e29-bb8d8dd3fbdc",
   "metadata": {},
   "outputs": [
    {
     "name": "stdout",
     "output_type": "stream",
     "text": [
      "Collecting clickhouse_driver\n",
      "  Using cached clickhouse_driver-0.2.6-cp38-cp38-manylinux_2_17_x86_64.manylinux2014_x86_64.whl (755 kB)\n",
      "Collecting tzlocal\n",
      "  Using cached tzlocal-5.0.1-py3-none-any.whl (20 kB)\n",
      "Requirement already satisfied: pytz in /opt/conda/lib/python3.8/site-packages (from clickhouse_driver) (2021.3)\n",
      "Collecting backports.zoneinfo\n",
      "  Using cached backports.zoneinfo-0.2.1-cp38-cp38-manylinux1_x86_64.whl (74 kB)\n",
      "Installing collected packages: backports.zoneinfo, tzlocal, clickhouse_driver\n",
      "Successfully installed backports.zoneinfo-0.2.1 clickhouse_driver-0.2.6 tzlocal-5.0.1\n"
     ]
    }
   ],
   "source": [
    "#!pip install clickhouse_driver"
   ]
  },
  {
   "cell_type": "code",
   "execution_count": 3,
   "id": "d8b08580-8218-4c23-a49c-824d902470eb",
   "metadata": {},
   "outputs": [
    {
     "name": "stdout",
     "output_type": "stream",
     "text": [
      "(datetime.date(2022, 2, 1), datetime.date(2022, 1, 31), 'android', 'f7411212fd0e2523e126cbfdd3f226c211212', '4beb10e1-aeeb-4c52-acd2-ce1ddbc1fc24b10e1', 22, 11, 3, 0, 0, 0, 2, 2, 0, 0, 0, 0, 0, 0)\n"
     ]
    }
   ],
   "source": [
    "from clickhouse_driver import Client\n",
    "\n",
    "\n",
    "user_name = 'user_name'\n",
    "pwd = 'password'\n",
    "\n",
    "# creating connection ClickHouse\n",
    "client = Client(host='clickhouse.lab.karpov.courses', port=9000,\n",
    "                user=user_name, password=pwd, database='hardda')\n",
    "\n",
    "# checking connection\n",
    "result = client.execute(\"SELECT * FROM user_dm_events LIMIT 10\")\n",
    "\n",
    "# showing the result\n",
    "for row in result[0:1]:\n",
    "    print(row)"
   ]
  },
  {
   "cell_type": "markdown",
   "id": "e8c17a8f-d5a5-486f-88b9-c760cf121aea",
   "metadata": {},
   "source": [
    "## Tasks"
   ]
  },
  {
   "cell_type": "markdown",
   "id": "d70a3ff0-b074-4670-a152-198bdd4833e6",
   "metadata": {},
   "source": [
    "### Task 1. "
   ]
  },
  {
   "cell_type": "markdown",
   "id": "ad17aa2f-6dd1-4df9-b06e-08fd0361d6d9",
   "metadata": {},
   "source": [
    "What is the size of the table `user_dm_events`?"
   ]
  },
  {
   "cell_type": "code",
   "execution_count": 6,
   "id": "2d0defb3-ade1-41ff-8a35-54d55f616834",
   "metadata": {},
   "outputs": [],
   "source": [
    "query = '''\n",
    "SELECT\n",
    "  database,\n",
    "  table,\n",
    "  formatReadableSize(SUM(bytes)) AS size\n",
    "FROM \n",
    "  system.parts\n",
    "WHERE\n",
    "  database = 'hardda'\n",
    "    AND table = 'user_dm_events'\n",
    "GROUP BY\n",
    "  database, table\n",
    "'''"
   ]
  },
  {
   "cell_type": "code",
   "execution_count": 7,
   "id": "2336818b-649e-4de5-b27f-4a934d70398b",
   "metadata": {},
   "outputs": [],
   "source": [
    "result = client.execute(query)"
   ]
  },
  {
   "cell_type": "code",
   "execution_count": 8,
   "id": "74cb3447-7591-4f70-98fd-1aadfba48f0f",
   "metadata": {},
   "outputs": [
    {
     "name": "stdout",
     "output_type": "stream",
     "text": [
      "('hardda', 'user_dm_events', '4.72 GiB')\n"
     ]
    }
   ],
   "source": [
    "for row in result:\n",
    "    print(row)"
   ]
  },
  {
   "cell_type": "markdown",
   "id": "94295d87-31f8-4f43-b05e-b4e488714159",
   "metadata": {},
   "source": [
    "### Task 2. "
   ]
  },
  {
   "cell_type": "markdown",
   "id": "b6d638f6-8455-479b-9a41-887a67e45aec",
   "metadata": {},
   "source": [
    "How many rows does the table have?"
   ]
  },
  {
   "cell_type": "code",
   "execution_count": 9,
   "id": "b765a3fd-b282-4ae3-ba26-625ee89d2019",
   "metadata": {},
   "outputs": [],
   "source": [
    "query = '''\n",
    "SELECT\n",
    "  COUNT(*)\n",
    "FROM \n",
    "  user_dm_events\n",
    "'''"
   ]
  },
  {
   "cell_type": "code",
   "execution_count": 10,
   "id": "86221b93-ef42-490a-995e-c32954dae26c",
   "metadata": {},
   "outputs": [],
   "source": [
    "result = client.execute(query)"
   ]
  },
  {
   "cell_type": "code",
   "execution_count": 11,
   "id": "a421cbd1-2753-4bce-b267-4b91b14c01de",
   "metadata": {},
   "outputs": [
    {
     "name": "stdout",
     "output_type": "stream",
     "text": [
      "[(55916675,)]\n"
     ]
    }
   ],
   "source": [
    "print(result)"
   ]
  },
  {
   "cell_type": "markdown",
   "id": "e71cd982-5188-4553-b9b2-c63711ffdae3",
   "metadata": {},
   "source": [
    "### Task 3. "
   ]
  },
  {
   "cell_type": "markdown",
   "id": "06e6186f-5f86-4fc3-a7db-1797c048911b",
   "metadata": {},
   "source": [
    "On which set of fields is the table partitioned by?"
   ]
  },
  {
   "cell_type": "code",
   "execution_count": 12,
   "id": "cd610cc6-b162-4194-ab89-209c7516b081",
   "metadata": {},
   "outputs": [],
   "source": [
    "query = '''\n",
    "SELECT\n",
    "  table,\n",
    "  partition_key\n",
    "FROM \n",
    "  system.tables\n",
    "WHERE\n",
    "  database = 'hardda'\n",
    "    AND table = 'user_dm_events'\n",
    "'''"
   ]
  },
  {
   "cell_type": "code",
   "execution_count": 13,
   "id": "0de7bcc5-9449-4077-b96b-ebbbcf325398",
   "metadata": {},
   "outputs": [],
   "source": [
    "result = client.execute(query)"
   ]
  },
  {
   "cell_type": "code",
   "execution_count": 14,
   "id": "5648bd0b-2ec4-48a1-8464-06f1906e6707",
   "metadata": {},
   "outputs": [
    {
     "name": "stdout",
     "output_type": "stream",
     "text": [
      "[('user_dm_events', 'event_date')]\n"
     ]
    }
   ],
   "source": [
    "print(result)"
   ]
  },
  {
   "cell_type": "markdown",
   "id": "cecab535-4d07-4d4a-bbbc-a43f9d8eb1d6",
   "metadata": {},
   "source": [
    "### Task 4. "
   ]
  },
  {
   "cell_type": "markdown",
   "id": "8a90c6fe-c732-47f1-b768-9625677c3a34",
   "metadata": {},
   "source": [
    "What set of fields is the primary key (in ClickHouse terms and definitions)?"
   ]
  },
  {
   "cell_type": "code",
   "execution_count": 24,
   "id": "fd77e71c-69a3-4550-9489-dd4f6bc92de6",
   "metadata": {},
   "outputs": [],
   "source": [
    "query = '''\n",
    "SELECT\n",
    "  table,\n",
    "  primary_key\n",
    "FROM \n",
    "  system.tables\n",
    "WHERE\n",
    "  database = 'hardda'\n",
    "    AND table = 'user_dm_events'\n",
    "'''"
   ]
  },
  {
   "cell_type": "code",
   "execution_count": 25,
   "id": "48361a12-8661-4bd1-9651-8be050868960",
   "metadata": {},
   "outputs": [],
   "source": [
    "result = client.execute(query)"
   ]
  },
  {
   "cell_type": "code",
   "execution_count": 26,
   "id": "bb3bd73a-0827-4e59-ae47-7036c206e538",
   "metadata": {},
   "outputs": [
    {
     "name": "stdout",
     "output_type": "stream",
     "text": [
      "[('user_dm_events', 'event_date')]\n"
     ]
    }
   ],
   "source": [
    "print(result)"
   ]
  },
  {
   "cell_type": "markdown",
   "id": "a50e079e-9420-4fa9-a56c-430c25043143",
   "metadata": {},
   "source": [
    "### Task 5. "
   ]
  },
  {
   "cell_type": "markdown",
   "id": "d7868814-d548-4eec-903f-4d81717af0d8",
   "metadata": {},
   "source": [
    "What set of fields is the order by key (in ClickHouse terms and definitions)?"
   ]
  },
  {
   "cell_type": "code",
   "execution_count": 31,
   "id": "59880d65-182c-41a0-bace-a95e5d309d67",
   "metadata": {},
   "outputs": [],
   "source": [
    "query = '''\n",
    "SELECT\n",
    "  table,\n",
    "  sorting_key\n",
    "FROM \n",
    "  system.tables\n",
    "WHERE\n",
    "  database = 'hardda'\n",
    "    AND table = 'user_dm_events'\n",
    "'''"
   ]
  },
  {
   "cell_type": "code",
   "execution_count": 32,
   "id": "93429ee2-0a69-4883-bef0-2b01d9ec5ee9",
   "metadata": {},
   "outputs": [],
   "source": [
    "result = client.execute(query)"
   ]
  },
  {
   "cell_type": "code",
   "execution_count": 33,
   "id": "e7f43d29-54fe-4b1f-928e-d2328445b900",
   "metadata": {},
   "outputs": [
    {
     "name": "stdout",
     "output_type": "stream",
     "text": [
      "[('user_dm_events', 'event_date')]\n"
     ]
    }
   ],
   "source": [
    "print(result)"
   ]
  },
  {
   "cell_type": "markdown",
   "id": "b124699a-6e5d-48f5-af8f-44c214c5812b",
   "metadata": {},
   "source": [
    "### Task 6."
   ]
  },
  {
   "cell_type": "markdown",
   "id": "ff01d8e0-8b3e-4ad7-911d-8d6325931896",
   "metadata": {},
   "source": [
    "What set of fields is the primary key (in terms of relational theory)?"
   ]
  },
  {
   "cell_type": "code",
   "execution_count": 46,
   "id": "805e9b67-180a-498f-8440-eecce1fcf2a1",
   "metadata": {},
   "outputs": [],
   "source": [
    "query = '''\n",
    "SELECT\n",
    "  COUNT(*),\n",
    "  COUNT(DISTINCT(user_pseudo_id || user_x_phone_id || toString(event_date)))\n",
    "FROM \n",
    "  user_dm_events\n",
    "'''"
   ]
  },
  {
   "cell_type": "code",
   "execution_count": 47,
   "id": "7689c2be-c9d5-4232-aee6-5d0695513e45",
   "metadata": {},
   "outputs": [],
   "source": [
    "result = client.execute(query)"
   ]
  },
  {
   "cell_type": "code",
   "execution_count": 48,
   "id": "7ed1c9d4-19da-42f9-ad47-0fe82f62d154",
   "metadata": {},
   "outputs": [
    {
     "name": "stdout",
     "output_type": "stream",
     "text": [
      "[(55916675, 55916675)]\n"
     ]
    }
   ],
   "source": [
    "print(result)"
   ]
  },
  {
   "cell_type": "markdown",
   "id": "61606ee9-5221-42c9-8241-c8478eacc5b4",
   "metadata": {},
   "source": [
    "Answer: `user_pseudo_id` + `user_x_phone_id` + `event_date`"
   ]
  },
  {
   "cell_type": "markdown",
   "id": "17c1d758-39f2-47a8-8d9c-3aee1ea2cb46",
   "metadata": {},
   "source": [
    "### Task 7. "
   ]
  },
  {
   "cell_type": "markdown",
   "id": "4a021865-bb46-443f-bbcb-1789dfc01042",
   "metadata": {},
   "source": [
    "Which columns having a string data type can be transformed into LowCardinality data type to improve columns typization."
   ]
  },
  {
   "cell_type": "markdown",
   "id": "530d7d86-db8e-48e6-87e9-ea06293eb3f9",
   "metadata": {},
   "source": [
    "From official documentation: `use LowCardinality when you have up to 10,000 unique values of a column`."
   ]
  },
  {
   "cell_type": "code",
   "execution_count": 51,
   "id": "402aaafa-c96a-4562-8861-b25c8b50e2c8",
   "metadata": {},
   "outputs": [],
   "source": [
    "query = '''\n",
    "SELECT\n",
    "  COUNT(DISTINCT(platform)),\n",
    "  COUNT(DISTINCT(user_pseudo_id)),\n",
    "  COUNT(DISTINCT(user_x_phone_id))\n",
    "FROM \n",
    "  user_dm_events\n",
    "'''"
   ]
  },
  {
   "cell_type": "code",
   "execution_count": 52,
   "id": "2e815f18-fece-4538-8107-95c5e819618b",
   "metadata": {},
   "outputs": [],
   "source": [
    "result = client.execute(query)"
   ]
  },
  {
   "cell_type": "code",
   "execution_count": 53,
   "id": "9f611331-8581-4cfd-bb06-b893071b61da",
   "metadata": {},
   "outputs": [
    {
     "name": "stdout",
     "output_type": "stream",
     "text": [
      "[(2, 6663048, 6446931)]\n"
     ]
    }
   ],
   "source": [
    "print(result)"
   ]
  },
  {
   "cell_type": "markdown",
   "id": "6519c92f-a6b4-4c98-8c5d-7a5916bc2080",
   "metadata": {},
   "source": [
    "Answer: `platform`"
   ]
  },
  {
   "cell_type": "markdown",
   "id": "19ae5cd2-6420-48f4-a0ce-fa7695b91978",
   "metadata": {},
   "source": [
    "### Task 8. "
   ]
  },
  {
   "cell_type": "markdown",
   "id": "255cfd6a-0ded-4f46-a908-9e1cdaac9ebc",
   "metadata": {},
   "source": [
    "Choose numeric fields for which the data type can be changed to a more compact one."
   ]
  },
  {
   "cell_type": "markdown",
   "id": "4402151b-c19e-48d4-9280-27e368e6093d",
   "metadata": {},
   "source": [
    "**Int Ranges**  \n",
    "\n",
    "**`Int8`** — [-128 : 127]  \n",
    "**`Int16`** — [-32768 : 32767]  \n",
    "**`Int32`** — [-2147483648 : 2147483647]  \n",
    "**`Int64`** — [-9223372036854775808 : 9223372036854775807]  \n",
    "**`Int128`** — [-170141183460469231731687303715884105728 : 170141183460469231731687303715884105727]  \n",
    "**`Int256`** — [-57896044618658097711785492504343953926634992332820282019728792003956564819968 : 57896044618658097711785492504343953926634992332820282019728792003956564819967]"
   ]
  },
  {
   "cell_type": "markdown",
   "id": "39ab5c7a-a632-4e29-82d6-4243ddf91dbc",
   "metadata": {},
   "source": [
    "**UInt Ranges**\n",
    "\n",
    "**`UInt8`** — [0 : 255]  \n",
    "**`UInt16`** — [0 : 65535]  \n",
    "**`UInt32`** — [0 : 4294967295]  \n",
    "**`UInt64`** — [0 : 18446744073709551615]  \n",
    "**`UInt128`** — [0 : 340282366920938463463374607431768211455]  \n",
    "**`UInt256`** — [0 : 115792089237316195423570985008687907853269984665640564039457584007913129639935]"
   ]
  },
  {
   "cell_type": "markdown",
   "id": "17ed7dde-6548-48b8-91a5-05625385fe1f",
   "metadata": {},
   "source": [
    "First let's check what data types do we have. "
   ]
  },
  {
   "cell_type": "code",
   "execution_count": 15,
   "id": "26d0d614-08d2-45eb-b8e8-1f4f5c43d6a9",
   "metadata": {},
   "outputs": [],
   "source": [
    "query = '''\n",
    "SELECT\n",
    "  name,\n",
    "  type\n",
    "FROM \n",
    "  system.columns\n",
    "WHERE\n",
    "  database = 'hardda'\n",
    "    AND table = 'user_dm_events'\n",
    "'''"
   ]
  },
  {
   "cell_type": "code",
   "execution_count": 16,
   "id": "ff55a42c-d86e-4d4a-8441-4d01c062ab39",
   "metadata": {},
   "outputs": [],
   "source": [
    "result = client.execute(query)"
   ]
  },
  {
   "cell_type": "code",
   "execution_count": 18,
   "id": "5ea632ae-76d8-4ed2-9352-1f03af6ec249",
   "metadata": {},
   "outputs": [
    {
     "name": "stdout",
     "output_type": "stream",
     "text": [
      "('event_date', 'Date')\n",
      "('week_start_date', 'Date')\n",
      "('platform', 'String')\n",
      "('user_pseudo_id', 'String')\n",
      "('user_x_phone_id', 'String')\n",
      "('cnt_events', 'UInt32')\n",
      "('cnt_view_advertisement', 'UInt32')\n",
      "('cnt_view_listing', 'UInt32')\n",
      "('cnt_new_advertisement_open', 'UInt32')\n",
      "('cnt_new_advertisement_view_screen', 'UInt32')\n",
      "('cnt_successful_new_advertisement_creation', 'UInt32')\n",
      "('cnt_session_initiation', 'UInt32')\n",
      "('cnt_display_phone', 'UInt32')\n",
      "('cnt_send_message', 'UInt32')\n",
      "('cnt_order_via_phone', 'UInt32')\n",
      "('cnt_add_to_favorites', 'UInt32')\n",
      "('cnt_view_ads_in_cabinet', 'UInt32')\n",
      "('cnt_edit_advert_view_screen_package', 'UInt32')\n",
      "('cnt_new_advert_view_screen_package', 'UInt32')\n"
     ]
    }
   ],
   "source": [
    "for i in result:\n",
    "    print(i)"
   ]
  },
  {
   "cell_type": "markdown",
   "id": "581b7e37-f96c-4fd9-8e18-3c24fbb7b893",
   "metadata": {},
   "source": [
    "Now let's find out columns without an optimal data type. "
   ]
  },
  {
   "cell_type": "code",
   "execution_count": 28,
   "id": "da2e391a-4176-43f4-a7d6-47675d813e4c",
   "metadata": {},
   "outputs": [],
   "source": [
    "query = '''\n",
    "SELECT\n",
    "  max(cnt_events),\n",
    "  max(cnt_view_advertisement),\n",
    "  max(cnt_view_listing),\n",
    "  max(cnt_new_advertisement_open),\n",
    "  max(cnt_new_advertisement_view_screen),\n",
    "  max(cnt_successful_new_advertisement_creation),\n",
    "  max(cnt_session_initiation),\n",
    "  max(cnt_display_phone),\n",
    "  max(cnt_send_message),\n",
    "  max(cnt_order_via_phone),\n",
    "  max(cnt_add_to_favorites),\n",
    "  max(cnt_view_ads_in_cabinet),\n",
    "  max(cnt_edit_advert_view_screen_package),\n",
    "  max(cnt_new_advert_view_screen_package)\n",
    "FROM \n",
    "  user_dm_events\n",
    "'''"
   ]
  },
  {
   "cell_type": "code",
   "execution_count": 29,
   "id": "f78e3e3f-ab90-492b-8d1f-93ff25913687",
   "metadata": {},
   "outputs": [],
   "source": [
    "result = client.execute(query)"
   ]
  },
  {
   "cell_type": "code",
   "execution_count": 31,
   "id": "51402669-80b5-4107-8adf-cbd3e5e773b1",
   "metadata": {},
   "outputs": [
    {
     "name": "stdout",
     "output_type": "stream",
     "text": [
      "[(11070, 2902, 525, 346, 1713, 344, 49, 1588, 2683, 12, 1433, 960, 340, 688)]\n"
     ]
    }
   ],
   "source": [
    "print(result)"
   ]
  },
  {
   "cell_type": "markdown",
   "id": "474c2345-477d-46eb-8b6b-15930b9e5d51",
   "metadata": {},
   "source": [
    "Answer: all of the columns could be stored using a more compact `UInt16` data type. "
   ]
  },
  {
   "cell_type": "markdown",
   "id": "f782c965-7968-4d97-8c7a-24de0334bcca",
   "metadata": {},
   "source": [
    "### Task 9. "
   ]
  },
  {
   "cell_type": "markdown",
   "id": "bffab500-0872-42a5-b4cd-a5d9e4358c87",
   "metadata": {},
   "source": [
    "Choose fields with a date or date and time, for which the type can be changed to a more compact one."
   ]
  },
  {
   "cell_type": "markdown",
   "id": "d25f5e37-1497-41e0-b79a-66c1288d662e",
   "metadata": {},
   "source": [
    "ClickHouse supports the following date and time types:\n",
    "- `Date` - A date without time. Stored as a 2-byte integer representing the number of days since 1970-01-01.\n",
    "- `DateTime` - A date and time. Stored as a 8-byte integer representing the number of seconds since 1970-01-01 00:00:00 UTC.\n",
    "- `DateTime64` - A high-precision date and time. Stored as a 16-byte integer representing the number of nanoseconds since 1970-01-01 00:00:00 UTC.\n",
    "- `Date32` - A date without time. Stored as a 4-byte integer representing the number of days since 1970-01-01."
   ]
  },
  {
   "cell_type": "markdown",
   "id": "0dfd980f-6968-4719-a9ba-d0b012733883",
   "metadata": {},
   "source": [
    "Let's check our date (datetime) columns data types. "
   ]
  },
  {
   "cell_type": "code",
   "execution_count": 35,
   "id": "7f28c3da-6c4b-4a20-9107-d493b6263d64",
   "metadata": {},
   "outputs": [],
   "source": [
    "query = '''\n",
    "SELECT\n",
    "  name,\n",
    "  type\n",
    "FROM \n",
    "  system.columns\n",
    "WHERE\n",
    "  database = 'hardda'\n",
    "    AND table = 'user_dm_events'\n",
    "      AND (name = 'event_date' OR name = 'week_start_date')\n",
    "'''"
   ]
  },
  {
   "cell_type": "code",
   "execution_count": 36,
   "id": "a00afa17-860f-4947-8d13-cb0579aea2d2",
   "metadata": {},
   "outputs": [],
   "source": [
    "result = client.execute(query)"
   ]
  },
  {
   "cell_type": "code",
   "execution_count": 37,
   "id": "889b45fa-0fb6-4f4d-bd77-71555e086c90",
   "metadata": {},
   "outputs": [
    {
     "name": "stdout",
     "output_type": "stream",
     "text": [
      "[('event_date', 'Date'), ('week_start_date', 'Date')]\n"
     ]
    }
   ],
   "source": [
    "print(result)"
   ]
  },
  {
   "cell_type": "markdown",
   "id": "1cc363dd-a8f4-4de2-bd19-ea640d8ee54b",
   "metadata": {},
   "source": [
    "Answer: our date columns already have the most compact date type. No changes of data types required here. "
   ]
  },
  {
   "cell_type": "markdown",
   "id": "f00111af-4607-4f99-bb74-db09cc2f3da5",
   "metadata": {},
   "source": [
    "### Task 10. "
   ]
  },
  {
   "cell_type": "markdown",
   "id": "25077580-1760-471e-a51f-8deb76f66a9e",
   "metadata": {},
   "source": [
    "tbc.."
   ]
  },
  {
   "cell_type": "code",
   "execution_count": null,
   "id": "e464cea5-4882-40d7-9b60-12d45eaa1bb0",
   "metadata": {},
   "outputs": [],
   "source": []
  },
  {
   "cell_type": "code",
   "execution_count": null,
   "id": "ac43d77d-9c7c-4887-8ec0-95502dc9a2e1",
   "metadata": {},
   "outputs": [],
   "source": []
  },
  {
   "cell_type": "code",
   "execution_count": null,
   "id": "ba6163ad-7354-440e-b29f-4443d9139a22",
   "metadata": {},
   "outputs": [],
   "source": []
  },
  {
   "cell_type": "code",
   "execution_count": null,
   "id": "afa210a8-61de-4544-8766-d4c94f11f5bb",
   "metadata": {},
   "outputs": [],
   "source": []
  }
 ],
 "metadata": {
  "kernelspec": {
   "display_name": "Python 3 (ipykernel)",
   "language": "python",
   "name": "python3"
  },
  "language_info": {
   "codemirror_mode": {
    "name": "ipython",
    "version": 3
   },
   "file_extension": ".py",
   "mimetype": "text/x-python",
   "name": "python",
   "nbconvert_exporter": "python",
   "pygments_lexer": "ipython3",
   "version": "3.8.10"
  }
 },
 "nbformat": 4,
 "nbformat_minor": 5
}
