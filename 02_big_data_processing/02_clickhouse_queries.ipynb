{
 "cells": [
  {
   "cell_type": "markdown",
   "id": "51baf299-2770-4c74-8db6-f64d230e5dfc",
   "metadata": {},
   "source": [
    "# ClickHouse"
   ]
  },
  {
   "cell_type": "markdown",
   "id": "08dfd1aa-36a8-4b72-860a-c7f0b8776a16",
   "metadata": {},
   "source": [
    "## Import libraries and creating connection"
   ]
  },
  {
   "cell_type": "code",
   "execution_count": 1,
   "id": "42d5fca8-7a83-4642-8e29-bb8d8dd3fbdc",
   "metadata": {},
   "outputs": [],
   "source": [
    "#!pip install clickhouse_driver"
   ]
  },
  {
   "cell_type": "code",
   "execution_count": 2,
   "id": "d8b08580-8218-4c23-a49c-824d902470eb",
   "metadata": {},
   "outputs": [
    {
     "name": "stdout",
     "output_type": "stream",
     "text": [
      "(datetime.date(2022, 2, 1), datetime.date(2022, 1, 31), 'android', 'f7411212fd0e2523e126cbfdd3f226c211212', '4beb10e1-aeeb-4c52-acd2-ce1ddbc1fc24b10e1', 22, 11, 3, 0, 0, 0, 2, 2, 0, 0, 0, 0, 0, 0)\n"
     ]
    }
   ],
   "source": [
    "from clickhouse_driver import Client\n",
    "\n",
    "\n",
    "user_name = 'hardda_student_a.nikitin-8'\n",
    "pwd = '0ddbfab04207297e7de7f96e697814e152de44e69f9fd4d8d5bdbb6b6107518a'\n",
    "\n",
    "# creating connection ClickHouse\n",
    "client = Client(host='clickhouse.lab.karpov.courses', port=9000,\n",
    "                user=user_name, password=pwd, database='hardda')\n",
    "\n",
    "# checking connection\n",
    "result = client.execute(\"SELECT * FROM user_dm_events LIMIT 10\")\n",
    "\n",
    "# showing the result\n",
    "for row in result[0:1]:\n",
    "    print(row)"
   ]
  },
  {
   "cell_type": "markdown",
   "id": "e8c17a8f-d5a5-486f-88b9-c760cf121aea",
   "metadata": {},
   "source": [
    "## Tasks"
   ]
  },
  {
   "cell_type": "markdown",
   "id": "d70a3ff0-b074-4670-a152-198bdd4833e6",
   "metadata": {},
   "source": [
    "### Task 1. "
   ]
  },
  {
   "cell_type": "markdown",
   "id": "ad17aa2f-6dd1-4df9-b06e-08fd0361d6d9",
   "metadata": {},
   "source": [
    "What is the size of the table `user_dm_events`?"
   ]
  },
  {
   "cell_type": "code",
   "execution_count": 3,
   "id": "2d0defb3-ade1-41ff-8a35-54d55f616834",
   "metadata": {},
   "outputs": [],
   "source": [
    "query = '''\n",
    "SELECT\n",
    "  database,\n",
    "  table,\n",
    "  formatReadableSize(SUM(bytes)) AS size\n",
    "FROM \n",
    "  system.parts\n",
    "WHERE\n",
    "  database = 'hardda'\n",
    "    AND table = 'user_dm_events'\n",
    "GROUP BY\n",
    "  database, table\n",
    "'''"
   ]
  },
  {
   "cell_type": "code",
   "execution_count": 4,
   "id": "2336818b-649e-4de5-b27f-4a934d70398b",
   "metadata": {},
   "outputs": [],
   "source": [
    "result = client.execute(query)"
   ]
  },
  {
   "cell_type": "code",
   "execution_count": 5,
   "id": "74cb3447-7591-4f70-98fd-1aadfba48f0f",
   "metadata": {},
   "outputs": [
    {
     "name": "stdout",
     "output_type": "stream",
     "text": [
      "('hardda', 'user_dm_events', '4.72 GiB')\n"
     ]
    }
   ],
   "source": [
    "for row in result:\n",
    "    print(row)"
   ]
  },
  {
   "cell_type": "markdown",
   "id": "94295d87-31f8-4f43-b05e-b4e488714159",
   "metadata": {},
   "source": [
    "### Task 2. "
   ]
  },
  {
   "cell_type": "markdown",
   "id": "b6d638f6-8455-479b-9a41-887a67e45aec",
   "metadata": {},
   "source": [
    "How many rows does the table have?"
   ]
  },
  {
   "cell_type": "code",
   "execution_count": 6,
   "id": "b765a3fd-b282-4ae3-ba26-625ee89d2019",
   "metadata": {},
   "outputs": [],
   "source": [
    "query = '''\n",
    "SELECT\n",
    "  COUNT(*)\n",
    "FROM \n",
    "  user_dm_events\n",
    "'''"
   ]
  },
  {
   "cell_type": "code",
   "execution_count": 7,
   "id": "86221b93-ef42-490a-995e-c32954dae26c",
   "metadata": {},
   "outputs": [],
   "source": [
    "result = client.execute(query)"
   ]
  },
  {
   "cell_type": "code",
   "execution_count": 8,
   "id": "a421cbd1-2753-4bce-b267-4b91b14c01de",
   "metadata": {},
   "outputs": [
    {
     "name": "stdout",
     "output_type": "stream",
     "text": [
      "[(55916675,)]\n"
     ]
    }
   ],
   "source": [
    "print(result)"
   ]
  },
  {
   "cell_type": "markdown",
   "id": "e71cd982-5188-4553-b9b2-c63711ffdae3",
   "metadata": {},
   "source": [
    "### Task 3. "
   ]
  },
  {
   "cell_type": "markdown",
   "id": "06e6186f-5f86-4fc3-a7db-1797c048911b",
   "metadata": {},
   "source": [
    "On which set of fields is the table partitioned by?"
   ]
  },
  {
   "cell_type": "code",
   "execution_count": 9,
   "id": "cd610cc6-b162-4194-ab89-209c7516b081",
   "metadata": {},
   "outputs": [],
   "source": [
    "query = '''\n",
    "SELECT\n",
    "  table,\n",
    "  partition_key\n",
    "FROM \n",
    "  system.tables\n",
    "WHERE\n",
    "  database = 'hardda'\n",
    "    AND table = 'user_dm_events'\n",
    "'''"
   ]
  },
  {
   "cell_type": "code",
   "execution_count": 10,
   "id": "0de7bcc5-9449-4077-b96b-ebbbcf325398",
   "metadata": {},
   "outputs": [],
   "source": [
    "result = client.execute(query)"
   ]
  },
  {
   "cell_type": "code",
   "execution_count": 11,
   "id": "5648bd0b-2ec4-48a1-8464-06f1906e6707",
   "metadata": {},
   "outputs": [
    {
     "name": "stdout",
     "output_type": "stream",
     "text": [
      "[('user_dm_events', 'event_date')]\n"
     ]
    }
   ],
   "source": [
    "print(result)"
   ]
  },
  {
   "cell_type": "markdown",
   "id": "cecab535-4d07-4d4a-bbbc-a43f9d8eb1d6",
   "metadata": {},
   "source": [
    "### Task 4. "
   ]
  },
  {
   "cell_type": "markdown",
   "id": "8a90c6fe-c732-47f1-b768-9625677c3a34",
   "metadata": {},
   "source": [
    "What set of fields is the primary key (in ClickHouse terms and definitions)?"
   ]
  },
  {
   "cell_type": "code",
   "execution_count": 12,
   "id": "fd77e71c-69a3-4550-9489-dd4f6bc92de6",
   "metadata": {},
   "outputs": [],
   "source": [
    "query = '''\n",
    "SELECT\n",
    "  table,\n",
    "  primary_key\n",
    "FROM \n",
    "  system.tables\n",
    "WHERE\n",
    "  database = 'hardda'\n",
    "    AND table = 'user_dm_events'\n",
    "'''"
   ]
  },
  {
   "cell_type": "code",
   "execution_count": 13,
   "id": "48361a12-8661-4bd1-9651-8be050868960",
   "metadata": {},
   "outputs": [],
   "source": [
    "result = client.execute(query)"
   ]
  },
  {
   "cell_type": "code",
   "execution_count": 14,
   "id": "bb3bd73a-0827-4e59-ae47-7036c206e538",
   "metadata": {},
   "outputs": [
    {
     "name": "stdout",
     "output_type": "stream",
     "text": [
      "[('user_dm_events', 'event_date')]\n"
     ]
    }
   ],
   "source": [
    "print(result)"
   ]
  },
  {
   "cell_type": "markdown",
   "id": "a50e079e-9420-4fa9-a56c-430c25043143",
   "metadata": {},
   "source": [
    "### Task 5. "
   ]
  },
  {
   "cell_type": "markdown",
   "id": "d7868814-d548-4eec-903f-4d81717af0d8",
   "metadata": {},
   "source": [
    "What set of fields is the order by key (in ClickHouse terms and definitions)?"
   ]
  },
  {
   "cell_type": "code",
   "execution_count": 15,
   "id": "59880d65-182c-41a0-bace-a95e5d309d67",
   "metadata": {},
   "outputs": [],
   "source": [
    "query = '''\n",
    "SELECT\n",
    "  table,\n",
    "  sorting_key\n",
    "FROM \n",
    "  system.tables\n",
    "WHERE\n",
    "  database = 'hardda'\n",
    "    AND table = 'user_dm_events'\n",
    "'''"
   ]
  },
  {
   "cell_type": "code",
   "execution_count": 16,
   "id": "93429ee2-0a69-4883-bef0-2b01d9ec5ee9",
   "metadata": {},
   "outputs": [],
   "source": [
    "result = client.execute(query)"
   ]
  },
  {
   "cell_type": "code",
   "execution_count": 17,
   "id": "e7f43d29-54fe-4b1f-928e-d2328445b900",
   "metadata": {},
   "outputs": [
    {
     "name": "stdout",
     "output_type": "stream",
     "text": [
      "[('user_dm_events', 'event_date')]\n"
     ]
    }
   ],
   "source": [
    "print(result)"
   ]
  },
  {
   "cell_type": "markdown",
   "id": "b124699a-6e5d-48f5-af8f-44c214c5812b",
   "metadata": {},
   "source": [
    "### Task 6."
   ]
  },
  {
   "cell_type": "markdown",
   "id": "ff01d8e0-8b3e-4ad7-911d-8d6325931896",
   "metadata": {},
   "source": [
    "What set of fields is the primary key (in terms of relational theory)?"
   ]
  },
  {
   "cell_type": "code",
   "execution_count": 18,
   "id": "805e9b67-180a-498f-8440-eecce1fcf2a1",
   "metadata": {},
   "outputs": [],
   "source": [
    "query = '''\n",
    "SELECT\n",
    "  COUNT(*),\n",
    "  COUNT(DISTINCT(user_pseudo_id || user_x_phone_id || toString(event_date)))\n",
    "FROM \n",
    "  user_dm_events\n",
    "'''"
   ]
  },
  {
   "cell_type": "code",
   "execution_count": 19,
   "id": "7689c2be-c9d5-4232-aee6-5d0695513e45",
   "metadata": {},
   "outputs": [],
   "source": [
    "result = client.execute(query)"
   ]
  },
  {
   "cell_type": "code",
   "execution_count": 20,
   "id": "7ed1c9d4-19da-42f9-ad47-0fe82f62d154",
   "metadata": {},
   "outputs": [
    {
     "name": "stdout",
     "output_type": "stream",
     "text": [
      "[(55916675, 55916675)]\n"
     ]
    }
   ],
   "source": [
    "print(result)"
   ]
  },
  {
   "cell_type": "markdown",
   "id": "61606ee9-5221-42c9-8241-c8478eacc5b4",
   "metadata": {},
   "source": [
    "Answer: `user_pseudo_id` + `user_x_phone_id` + `event_date`"
   ]
  },
  {
   "cell_type": "markdown",
   "id": "17c1d758-39f2-47a8-8d9c-3aee1ea2cb46",
   "metadata": {},
   "source": [
    "### Task 7. "
   ]
  },
  {
   "cell_type": "markdown",
   "id": "4a021865-bb46-443f-bbcb-1789dfc01042",
   "metadata": {},
   "source": [
    "Which columns having a string data type can be transformed into LowCardinality data type to improve columns typization."
   ]
  },
  {
   "cell_type": "markdown",
   "id": "530d7d86-db8e-48e6-87e9-ea06293eb3f9",
   "metadata": {},
   "source": [
    "From official documentation: `use LowCardinality when you have up to 10,000 unique values of a column`."
   ]
  },
  {
   "cell_type": "code",
   "execution_count": 21,
   "id": "402aaafa-c96a-4562-8861-b25c8b50e2c8",
   "metadata": {},
   "outputs": [],
   "source": [
    "query = '''\n",
    "SELECT\n",
    "  COUNT(DISTINCT(platform)),\n",
    "  COUNT(DISTINCT(user_pseudo_id)),\n",
    "  COUNT(DISTINCT(user_x_phone_id))\n",
    "FROM \n",
    "  user_dm_events\n",
    "'''"
   ]
  },
  {
   "cell_type": "code",
   "execution_count": 22,
   "id": "2e815f18-fece-4538-8107-95c5e819618b",
   "metadata": {},
   "outputs": [],
   "source": [
    "result = client.execute(query)"
   ]
  },
  {
   "cell_type": "code",
   "execution_count": 23,
   "id": "9f611331-8581-4cfd-bb06-b893071b61da",
   "metadata": {},
   "outputs": [
    {
     "name": "stdout",
     "output_type": "stream",
     "text": [
      "[(2, 6663048, 6446931)]\n"
     ]
    }
   ],
   "source": [
    "print(result)"
   ]
  },
  {
   "cell_type": "markdown",
   "id": "6519c92f-a6b4-4c98-8c5d-7a5916bc2080",
   "metadata": {},
   "source": [
    "Answer: `platform`"
   ]
  },
  {
   "cell_type": "markdown",
   "id": "19ae5cd2-6420-48f4-a0ce-fa7695b91978",
   "metadata": {},
   "source": [
    "### Task 8. "
   ]
  },
  {
   "cell_type": "markdown",
   "id": "255cfd6a-0ded-4f46-a908-9e1cdaac9ebc",
   "metadata": {},
   "source": [
    "Choose numeric fields for which the data type can be changed to a more compact one."
   ]
  },
  {
   "cell_type": "markdown",
   "id": "4402151b-c19e-48d4-9280-27e368e6093d",
   "metadata": {},
   "source": [
    "**Int Ranges**  \n",
    "\n",
    "**`Int8`** — [-128 : 127]  \n",
    "**`Int16`** — [-32768 : 32767]  \n",
    "**`Int32`** — [-2147483648 : 2147483647]  \n",
    "**`Int64`** — [-9223372036854775808 : 9223372036854775807]  \n",
    "**`Int128`** — [-170141183460469231731687303715884105728 : 170141183460469231731687303715884105727]  \n",
    "**`Int256`** — [-57896044618658097711785492504343953926634992332820282019728792003956564819968 : 57896044618658097711785492504343953926634992332820282019728792003956564819967]"
   ]
  },
  {
   "cell_type": "markdown",
   "id": "39ab5c7a-a632-4e29-82d6-4243ddf91dbc",
   "metadata": {},
   "source": [
    "**UInt Ranges**\n",
    "\n",
    "**`UInt8`** — [0 : 255]  \n",
    "**`UInt16`** — [0 : 65535]  \n",
    "**`UInt32`** — [0 : 4294967295]  \n",
    "**`UInt64`** — [0 : 18446744073709551615]  \n",
    "**`UInt128`** — [0 : 340282366920938463463374607431768211455]  \n",
    "**`UInt256`** — [0 : 115792089237316195423570985008687907853269984665640564039457584007913129639935]"
   ]
  },
  {
   "cell_type": "markdown",
   "id": "17ed7dde-6548-48b8-91a5-05625385fe1f",
   "metadata": {},
   "source": [
    "First let's check what data types do we have. "
   ]
  },
  {
   "cell_type": "code",
   "execution_count": 24,
   "id": "26d0d614-08d2-45eb-b8e8-1f4f5c43d6a9",
   "metadata": {},
   "outputs": [],
   "source": [
    "query = '''\n",
    "SELECT\n",
    "  name,\n",
    "  type\n",
    "FROM \n",
    "  system.columns\n",
    "WHERE\n",
    "  database = 'hardda'\n",
    "    AND table = 'user_dm_events'\n",
    "'''"
   ]
  },
  {
   "cell_type": "code",
   "execution_count": 25,
   "id": "ff55a42c-d86e-4d4a-8441-4d01c062ab39",
   "metadata": {},
   "outputs": [],
   "source": [
    "result = client.execute(query)"
   ]
  },
  {
   "cell_type": "code",
   "execution_count": 26,
   "id": "5ea632ae-76d8-4ed2-9352-1f03af6ec249",
   "metadata": {},
   "outputs": [
    {
     "name": "stdout",
     "output_type": "stream",
     "text": [
      "('event_date', 'Date')\n",
      "('week_start_date', 'Date')\n",
      "('platform', 'String')\n",
      "('user_pseudo_id', 'String')\n",
      "('user_x_phone_id', 'String')\n",
      "('cnt_events', 'UInt32')\n",
      "('cnt_view_advertisement', 'UInt32')\n",
      "('cnt_view_listing', 'UInt32')\n",
      "('cnt_new_advertisement_open', 'UInt32')\n",
      "('cnt_new_advertisement_view_screen', 'UInt32')\n",
      "('cnt_successful_new_advertisement_creation', 'UInt32')\n",
      "('cnt_session_initiation', 'UInt32')\n",
      "('cnt_display_phone', 'UInt32')\n",
      "('cnt_send_message', 'UInt32')\n",
      "('cnt_order_via_phone', 'UInt32')\n",
      "('cnt_add_to_favorites', 'UInt32')\n",
      "('cnt_view_ads_in_cabinet', 'UInt32')\n",
      "('cnt_edit_advert_view_screen_package', 'UInt32')\n",
      "('cnt_new_advert_view_screen_package', 'UInt32')\n"
     ]
    }
   ],
   "source": [
    "for i in result:\n",
    "    print(i)"
   ]
  },
  {
   "cell_type": "markdown",
   "id": "581b7e37-f96c-4fd9-8e18-3c24fbb7b893",
   "metadata": {},
   "source": [
    "Now let's find out columns without an optimal data type. "
   ]
  },
  {
   "cell_type": "code",
   "execution_count": 27,
   "id": "da2e391a-4176-43f4-a7d6-47675d813e4c",
   "metadata": {},
   "outputs": [],
   "source": [
    "query = '''\n",
    "SELECT\n",
    "  max(cnt_events),\n",
    "  max(cnt_view_advertisement),\n",
    "  max(cnt_view_listing),\n",
    "  max(cnt_new_advertisement_open),\n",
    "  max(cnt_new_advertisement_view_screen),\n",
    "  max(cnt_successful_new_advertisement_creation),\n",
    "  max(cnt_session_initiation),\n",
    "  max(cnt_display_phone),\n",
    "  max(cnt_send_message),\n",
    "  max(cnt_order_via_phone),\n",
    "  max(cnt_add_to_favorites),\n",
    "  max(cnt_view_ads_in_cabinet),\n",
    "  max(cnt_edit_advert_view_screen_package),\n",
    "  max(cnt_new_advert_view_screen_package)\n",
    "FROM \n",
    "  user_dm_events\n",
    "'''"
   ]
  },
  {
   "cell_type": "code",
   "execution_count": 28,
   "id": "f78e3e3f-ab90-492b-8d1f-93ff25913687",
   "metadata": {},
   "outputs": [],
   "source": [
    "result = client.execute(query)"
   ]
  },
  {
   "cell_type": "code",
   "execution_count": 29,
   "id": "51402669-80b5-4107-8adf-cbd3e5e773b1",
   "metadata": {},
   "outputs": [
    {
     "name": "stdout",
     "output_type": "stream",
     "text": [
      "[(11070, 2902, 525, 346, 1713, 344, 49, 1588, 2683, 12, 1433, 960, 340, 688)]\n"
     ]
    }
   ],
   "source": [
    "print(result)"
   ]
  },
  {
   "cell_type": "markdown",
   "id": "474c2345-477d-46eb-8b6b-15930b9e5d51",
   "metadata": {},
   "source": [
    "Answer: all of the columns could be stored using a more compact `UInt16` data type. "
   ]
  },
  {
   "cell_type": "markdown",
   "id": "f782c965-7968-4d97-8c7a-24de0334bcca",
   "metadata": {},
   "source": [
    "### Task 9. "
   ]
  },
  {
   "cell_type": "markdown",
   "id": "bffab500-0872-42a5-b4cd-a5d9e4358c87",
   "metadata": {},
   "source": [
    "Choose fields with a date or date and time, for which the type can be changed to a more compact one."
   ]
  },
  {
   "cell_type": "markdown",
   "id": "d25f5e37-1497-41e0-b79a-66c1288d662e",
   "metadata": {},
   "source": [
    "ClickHouse supports the following date and time types:\n",
    "- `Date` - A date without time. Stored as a 2-byte integer representing the number of days since 1970-01-01.\n",
    "- `DateTime` - A date and time. Stored as a 8-byte integer representing the number of seconds since 1970-01-01 00:00:00 UTC.\n",
    "- `DateTime64` - A high-precision date and time. Stored as a 16-byte integer representing the number of nanoseconds since 1970-01-01 00:00:00 UTC.\n",
    "- `Date32` - A date without time. Stored as a 4-byte integer representing the number of days since 1970-01-01."
   ]
  },
  {
   "cell_type": "markdown",
   "id": "0dfd980f-6968-4719-a9ba-d0b012733883",
   "metadata": {},
   "source": [
    "Let's check our date (datetime) columns data types. "
   ]
  },
  {
   "cell_type": "code",
   "execution_count": 30,
   "id": "7f28c3da-6c4b-4a20-9107-d493b6263d64",
   "metadata": {},
   "outputs": [],
   "source": [
    "query = '''\n",
    "SELECT\n",
    "  name,\n",
    "  type\n",
    "FROM \n",
    "  system.columns\n",
    "WHERE\n",
    "  database = 'hardda'\n",
    "    AND table = 'user_dm_events'\n",
    "      AND (name = 'event_date' OR name = 'week_start_date')\n",
    "'''"
   ]
  },
  {
   "cell_type": "code",
   "execution_count": 31,
   "id": "a00afa17-860f-4947-8d13-cb0579aea2d2",
   "metadata": {},
   "outputs": [],
   "source": [
    "result = client.execute(query)"
   ]
  },
  {
   "cell_type": "code",
   "execution_count": 32,
   "id": "889b45fa-0fb6-4f4d-bd77-71555e086c90",
   "metadata": {},
   "outputs": [
    {
     "name": "stdout",
     "output_type": "stream",
     "text": [
      "[('event_date', 'Date'), ('week_start_date', 'Date')]\n"
     ]
    }
   ],
   "source": [
    "print(result)"
   ]
  },
  {
   "cell_type": "markdown",
   "id": "1cc363dd-a8f4-4de2-bd19-ea640d8ee54b",
   "metadata": {},
   "source": [
    "Answer: our date columns already have the most compact date type. No changes of data types required here. "
   ]
  },
  {
   "cell_type": "markdown",
   "id": "f00111af-4607-4f99-bb74-db09cc2f3da5",
   "metadata": {},
   "source": [
    "### Task 10. "
   ]
  },
  {
   "cell_type": "markdown",
   "id": "25077580-1760-471e-a51f-8deb76f66a9e",
   "metadata": {},
   "source": [
    "Optimize data types and save the data in a new table. What will be the size of a new table after data types optimization?"
   ]
  },
  {
   "cell_type": "markdown",
   "id": "b557ebcd-5562-4dd3-aec9-39d40eac46b3",
   "metadata": {},
   "source": [
    "At first, we need to establish our connection to another database, where we can create new tables. "
   ]
  },
  {
   "cell_type": "code",
   "execution_count": 33,
   "id": "78c56cd9-fc4d-4ec0-89ed-b1df741d0fbc",
   "metadata": {},
   "outputs": [],
   "source": [
    "client = Client(host='clickhouse.lab.karpov.courses', port=9000,\n",
    "                user=user_name, password=pwd, database='hardda_student_data')"
   ]
  },
  {
   "cell_type": "markdown",
   "id": "3fc7f3d0-998f-4bdc-8cbc-82525524d1a2",
   "metadata": {},
   "source": [
    "Then we need to create a new table with an updated data types. "
   ]
  },
  {
   "cell_type": "code",
   "execution_count": 34,
   "id": "efaaa88b-1d4f-48e9-8d76-4292ad35e280",
   "metadata": {},
   "outputs": [],
   "source": [
    "query = '''\n",
    "DROP TABLE IF EXISTS dp_nav2103_user_dm_events_step1\n",
    "'''"
   ]
  },
  {
   "cell_type": "code",
   "execution_count": 35,
   "id": "fcd864c9-9ad6-4fd9-bb87-ee51d0b51c3b",
   "metadata": {},
   "outputs": [],
   "source": [
    "result = client.execute(query)"
   ]
  },
  {
   "cell_type": "code",
   "execution_count": 36,
   "id": "ac43d77d-9c7c-4887-8ec0-95502dc9a2e1",
   "metadata": {},
   "outputs": [],
   "source": [
    "query = '''\n",
    "CREATE TABLE dp_nav2103_user_dm_events_step1 (\n",
    "  event_date Date,\n",
    "  week_start_date Date,\n",
    "  platform String,\n",
    "  user_pseudo_id String,\n",
    "  user_x_phone_id String,\n",
    "  cnt_events UInt16,\n",
    "  cnt_view_advertisement UInt16,\n",
    "  cnt_view_listing UInt16,\n",
    "  cnt_new_advertisement_open UInt16,\n",
    "  cnt_new_advertisement_view_screen UInt16,\n",
    "  cnt_successful_new_advertisement_creation UInt16,\n",
    "  cnt_session_initiation UInt8,\n",
    "  cnt_display_phone UInt16,\n",
    "  cnt_send_message UInt16,\n",
    "  cnt_order_via_phone UInt8,\n",
    "  cnt_add_to_favorites UInt16,\n",
    "  cnt_view_ads_in_cabinet UInt16,\n",
    "  cnt_edit_advert_view_screen_package UInt16,\n",
    "  cnt_new_advert_view_screen_package UInt16\n",
    ") ENGINE = MergeTree() \n",
    "PARTITION BY event_date\n",
    "ORDER BY event_date\n",
    "SETTINGS index_granularity = 8192\n",
    "'''"
   ]
  },
  {
   "cell_type": "code",
   "execution_count": 37,
   "id": "10c450f9-9eec-4aaa-8cd4-b38517d7c0ec",
   "metadata": {},
   "outputs": [],
   "source": [
    "result = client.execute(query)"
   ]
  },
  {
   "cell_type": "markdown",
   "id": "9e3466f7-3c49-4ec3-b20e-679e791543a8",
   "metadata": {},
   "source": [
    "Then let's copy data from an old table to the new table. "
   ]
  },
  {
   "cell_type": "code",
   "execution_count": 38,
   "id": "44b18194-da2c-4815-a5cc-97c7f540235d",
   "metadata": {},
   "outputs": [],
   "source": [
    "query = '''\n",
    "INSERT INTO hardda_student_data.dp_nav2103_user_dm_events_step1\n",
    "SELECT\n",
    "  `event_date`,\n",
    "  `week_start_date`,\n",
    "  `platform`,\n",
    "  `user_pseudo_id`,\n",
    "  `user_x_phone_id`,\n",
    "  CAST(`cnt_events` AS UInt16) AS `cnt_events`,\n",
    "  CAST(`cnt_view_advertisement` AS UInt16) AS `cnt_view_advertisement`,\n",
    "  CAST(`cnt_view_listing` AS UInt16) AS `cnt_view_listing`,\n",
    "  CAST(`cnt_new_advertisement_open` AS UInt16) AS `cnt_new_advertisement_open`,\n",
    "  CAST(`cnt_new_advertisement_view_screen` AS UInt16) AS `cnt_new_advertisement_view_screen`,\n",
    "  CAST(`cnt_successful_new_advertisement_creation` AS UInt16) AS `cnt_successful_new_advertisement_creation`,\n",
    "  CAST(`cnt_session_initiation` AS UInt8) AS `cnt_session_initiation`,\n",
    "  CAST(`cnt_display_phone` AS UInt16) AS `cnt_display_phone`,\n",
    "  CAST(`cnt_send_message` AS UInt16) AS `cnt_send_message`,\n",
    "  CAST(`cnt_order_via_phone` AS UInt8) AS `cnt_order_via_phone`,\n",
    "  CAST(`cnt_add_to_favorites` AS UInt16) AS `cnt_add_to_favorites`,\n",
    "  CAST(`cnt_view_ads_in_cabinet` AS UInt16) AS `cnt_view_ads_in_cabinet`,\n",
    "  CAST(`cnt_edit_advert_view_screen_package` AS UInt16) AS `cnt_edit_advert_view_screen_package`,\n",
    "  CAST(`cnt_new_advert_view_screen_package` AS UInt16) AS `cnt_new_advert_view_screen_package`\n",
    "FROM \n",
    "  hardda.user_dm_events\n",
    "'''"
   ]
  },
  {
   "cell_type": "code",
   "execution_count": 39,
   "id": "531341a7-c8bc-4ff1-b1f0-a6c99391d2b9",
   "metadata": {},
   "outputs": [],
   "source": [
    "result = client.execute(query)"
   ]
  },
  {
   "cell_type": "markdown",
   "id": "e6573c97-d51a-41c1-a3e5-2eb3a7c2deaf",
   "metadata": {},
   "source": [
    "Finally, let's check the size of a new table with an optimized data types. "
   ]
  },
  {
   "cell_type": "code",
   "execution_count": 40,
   "id": "0f021524-9d14-470e-8f40-66ac797cdf56",
   "metadata": {},
   "outputs": [],
   "source": [
    "query = '''\n",
    "SELECT\n",
    "  database,\n",
    "  table,\n",
    "  formatReadableSize(SUM(bytes)) AS size\n",
    "FROM \n",
    "  system.parts\n",
    "WHERE\n",
    "  database = 'hardda_student_data'\n",
    "    AND table = 'dp_nav2103_user_dm_events_step1'\n",
    "GROUP BY\n",
    "  database, table\n",
    "'''"
   ]
  },
  {
   "cell_type": "code",
   "execution_count": 41,
   "id": "3d03930b-fbe5-4bdb-98f3-e3e61d7ab142",
   "metadata": {},
   "outputs": [],
   "source": [
    "result = client.execute(query)"
   ]
  },
  {
   "cell_type": "code",
   "execution_count": 42,
   "id": "3d4586d5-f726-4016-b605-4c8c2ea491ad",
   "metadata": {},
   "outputs": [
    {
     "name": "stdout",
     "output_type": "stream",
     "text": [
      "[('hardda_student_data', 'dp_nav2103_user_dm_events_step1', '4.45 GiB')]\n"
     ]
    }
   ],
   "source": [
    "print(result)"
   ]
  },
  {
   "cell_type": "markdown",
   "id": "9d1bfa30-01c6-4c7c-b69c-de5e69c58a38",
   "metadata": {},
   "source": [
    "### Task 11. "
   ]
  },
  {
   "cell_type": "markdown",
   "id": "dcffc5a0-71f2-46b1-be9e-484ba63e3b95",
   "metadata": {},
   "source": [
    "How many rows does the new have?"
   ]
  },
  {
   "cell_type": "code",
   "execution_count": 43,
   "id": "338dcd9d-d42c-4e18-9acf-1b7dd55f4989",
   "metadata": {},
   "outputs": [],
   "source": [
    "query = '''\n",
    "SELECT\n",
    "  COUNT(*)\n",
    "FROM \n",
    "  dp_nav2103_user_dm_events_step1\n",
    "'''"
   ]
  },
  {
   "cell_type": "code",
   "execution_count": 44,
   "id": "35e19614-5253-4480-ba64-a99b503f454e",
   "metadata": {},
   "outputs": [],
   "source": [
    "result = client.execute(query)"
   ]
  },
  {
   "cell_type": "code",
   "execution_count": 45,
   "id": "dd783010-f6d5-457c-8c7e-d8952192e6cb",
   "metadata": {},
   "outputs": [
    {
     "name": "stdout",
     "output_type": "stream",
     "text": [
      "[(55916675,)]\n"
     ]
    }
   ],
   "source": [
    "print(result)"
   ]
  },
  {
   "cell_type": "markdown",
   "id": "7122d102-509e-4c86-97a9-da27a4c44eaa",
   "metadata": {},
   "source": [
    "### Task 12. "
   ]
  },
  {
   "cell_type": "markdown",
   "id": "ab3b5c50-fdef-450e-a4e8-9b5598056600",
   "metadata": {},
   "source": [
    "What metric fields do not change their values from row to row in more than 90% of cases?"
   ]
  },
  {
   "cell_type": "code",
   "execution_count": 46,
   "id": "3c7be91c-9661-4666-ac39-22cb322ee3f9",
   "metadata": {},
   "outputs": [],
   "source": [
    "query = '''\n",
    "with deltas AS (\n",
    "SELECT\n",
    "  neighbor(cnt_events, 1) - cnt_events AS delta_0,\n",
    "  neighbor(cnt_view_advertisement, 1) - cnt_view_advertisement AS delta_1,\n",
    "  neighbor(cnt_view_listing, 1) - cnt_view_listing AS delta_2,\n",
    "  neighbor(cnt_new_advertisement_open, 1) - cnt_new_advertisement_open AS delta_3,\n",
    "  neighbor(cnt_new_advertisement_view_screen, 1) - cnt_new_advertisement_view_screen AS delta_4,\n",
    "  neighbor(cnt_successful_new_advertisement_creation, 1) - cnt_successful_new_advertisement_creation AS delta_5,\n",
    "  neighbor(cnt_session_initiation, 1) - cnt_session_initiation AS delta_6,\n",
    "  neighbor(cnt_display_phone, 1) - cnt_display_phone AS delta_7,\n",
    "  neighbor(cnt_send_message, 1) - cnt_send_message AS delta_8,\n",
    "  neighbor(cnt_order_via_phone, 1) - cnt_order_via_phone AS delta_9,\n",
    "  neighbor(cnt_add_to_favorites, 1) - cnt_add_to_favorites AS delta_10,\n",
    "  neighbor(cnt_view_ads_in_cabinet, 1) - cnt_view_ads_in_cabinet AS delta_11,\n",
    "  neighbor(cnt_edit_advert_view_screen_package, 1) - cnt_edit_advert_view_screen_package AS delta_12,\n",
    "  neighbor(cnt_new_advert_view_screen_package, 1) - cnt_new_advert_view_screen_package AS delta_13\n",
    "FROM \n",
    "  dp_nav2103_user_dm_events_step1\n",
    "ORDER BY event_date\n",
    ")\n",
    "\n",
    "SELECT\n",
    "  quantile(0.91)(delta_0),\n",
    "  quantile(0.91)(delta_1),\n",
    "  quantile(0.91)(delta_2),\n",
    "  quantile(0.91)(delta_3),\n",
    "  quantile(0.91)(delta_4),\n",
    "  quantile(0.91)(delta_5),\n",
    "  quantile(0.91)(delta_6),\n",
    "  quantile(0.91)(delta_7),\n",
    "  quantile(0.91)(delta_8),\n",
    "  quantile(0.91)(delta_9),\n",
    "  quantile(0.91)(delta_10),\n",
    "  quantile(0.91)(delta_11),\n",
    "  quantile(0.91)(delta_12),\n",
    "  quantile(0.91)(delta_13)\n",
    "FROM deltas\n",
    "'''"
   ]
  },
  {
   "cell_type": "code",
   "execution_count": 47,
   "id": "1bbc4e40-bd29-4eeb-9cc3-ff0f12461b48",
   "metadata": {},
   "outputs": [],
   "source": [
    "result = client.execute(query)"
   ]
  },
  {
   "cell_type": "code",
   "execution_count": 48,
   "id": "3e2957f8-eba6-4d87-9176-9bf41e7ddcea",
   "metadata": {},
   "outputs": [
    {
     "name": "stdout",
     "output_type": "stream",
     "text": [
      "[(86.0, 32.0, 5.0, 0.0, 0.0, 0.0, 3.0, 1.0, 0.0, 0.0, 1.0, 1.0, 0.0, 0.0)]\n"
     ]
    }
   ],
   "source": [
    "print(result)"
   ]
  },
  {
   "cell_type": "markdown",
   "id": "462d2be8-84fd-4598-8def-16776648c016",
   "metadata": {},
   "source": [
    "A list of metric fields do not change their values from row to row in more than 90% of cases:\n",
    "- cnt_new_advertisement_open  \n",
    "- cnt_new_advertisement_view_screen\n",
    "- cnt_successful_new_advertisement_creation\n",
    "- cnt_send_message\n",
    "- cnt_order_via_phone\n",
    "- cnt_edit_advert_view_screen_package\n",
    "- cnt_new_advert_view_screen_package"
   ]
  },
  {
   "cell_type": "markdown",
   "id": "bb419326-f36e-42bc-9f27-659633ebeb25",
   "metadata": {},
   "source": [
    "### Task 13."
   ]
  },
  {
   "cell_type": "markdown",
   "id": "a2ceb1d3-c52c-4422-832d-749c807bac7f",
   "metadata": {},
   "source": [
    "Apply compression codecs to the selected column\\columns, creating a new table."
   ]
  },
  {
   "cell_type": "markdown",
   "id": "c20e45b8-3021-4160-ab8a-e04a7635ff72",
   "metadata": {},
   "source": [
    "Creating a new table with data compression added."
   ]
  },
  {
   "cell_type": "code",
   "execution_count": 49,
   "id": "0a58e0eb-06cc-4fee-bc05-c8fb05b1c44c",
   "metadata": {},
   "outputs": [],
   "source": [
    "query = '''\n",
    "DROP TABLE IF EXISTS dp_nav2103_user_dm_events_step2\n",
    "'''"
   ]
  },
  {
   "cell_type": "code",
   "execution_count": 50,
   "id": "90172b0e-32b8-4eb7-9a92-5594932105cd",
   "metadata": {},
   "outputs": [],
   "source": [
    "result = client.execute(query)"
   ]
  },
  {
   "cell_type": "code",
   "execution_count": 51,
   "id": "f41bc74e-6d09-4f67-b05a-8882f8571975",
   "metadata": {},
   "outputs": [],
   "source": [
    "query = '''\n",
    "CREATE TABLE dp_nav2103_user_dm_events_step2 (\n",
    "  event_date Date codec(DoubleDelta, LZ4),\n",
    "  week_start_date Date codec(DoubleDelta, LZ4),\n",
    "  platform String,\n",
    "  user_pseudo_id String,\n",
    "  user_x_phone_id String,\n",
    "  cnt_events UInt16 codec(T64, LZ4),\n",
    "  cnt_view_advertisement UInt16 codec(T64, LZ4),\n",
    "  cnt_view_listing UInt16 codec(T64, LZ4),\n",
    "  cnt_new_advertisement_open UInt16 codec(Delta, LZ4),\n",
    "  cnt_new_advertisement_view_screen UInt16 codec(Delta, LZ4),\n",
    "  cnt_successful_new_advertisement_creation UInt16 codec(Delta, LZ4),\n",
    "  cnt_session_initiation UInt8 codec(T64, LZ4),\n",
    "  cnt_display_phone UInt16 codec(T64, LZ4),\n",
    "  cnt_send_message UInt16 codec(T64, LZ4),\n",
    "  cnt_order_via_phone UInt8 codec(Delta, LZ4),\n",
    "  cnt_add_to_favorites UInt16 codec(T64, LZ4),\n",
    "  cnt_view_ads_in_cabinet UInt16 codec(T64, LZ4),\n",
    "  cnt_edit_advert_view_screen_package UInt16 codec(Delta, LZ4),\n",
    "  cnt_new_advert_view_screen_package UInt16 codec(Delta, LZ4)\n",
    ") ENGINE = MergeTree()\n",
    "PARTITION BY event_date\n",
    "ORDER BY (user_pseudo_id, event_date)\n",
    "SETTINGS index_granularity = 8192\n",
    "'''"
   ]
  },
  {
   "cell_type": "code",
   "execution_count": 52,
   "id": "c66dc9ea-0deb-4f5b-a038-26d7ff11bcd1",
   "metadata": {},
   "outputs": [],
   "source": [
    "result = client.execute(query)"
   ]
  },
  {
   "cell_type": "markdown",
   "id": "bc8af704-7f47-4603-ab23-5485117f0235",
   "metadata": {},
   "source": [
    "Copying data from an old table to the new table."
   ]
  },
  {
   "cell_type": "code",
   "execution_count": 53,
   "id": "9fb4bee4-6e0a-4d33-ba7b-4c485374695c",
   "metadata": {},
   "outputs": [],
   "source": [
    "query = '''\n",
    "INSERT INTO hardda_student_data.dp_nav2103_user_dm_events_step2\n",
    "SELECT\n",
    "  `event_date`,\n",
    "  `week_start_date`,\n",
    "  `platform`,\n",
    "  `user_pseudo_id`,\n",
    "  `user_x_phone_id`,\n",
    "  CAST(`cnt_events` AS UInt16) AS `cnt_events`,\n",
    "  CAST(`cnt_view_advertisement` AS UInt16) AS `cnt_view_advertisement`,\n",
    "  CAST(`cnt_view_listing` AS UInt16) AS `cnt_view_listing`,\n",
    "  CAST(`cnt_new_advertisement_open` AS UInt16) AS `cnt_new_advertisement_open`,\n",
    "  CAST(`cnt_new_advertisement_view_screen` AS UInt16) AS `cnt_new_advertisement_view_screen`,\n",
    "  CAST(`cnt_successful_new_advertisement_creation` AS UInt16) AS `cnt_successful_new_advertisement_creation`,\n",
    "  CAST(`cnt_session_initiation` AS UInt8) AS `cnt_session_initiation`,\n",
    "  CAST(`cnt_display_phone` AS UInt16) AS `cnt_display_phone`,\n",
    "  CAST(`cnt_send_message` AS UInt16) AS `cnt_send_message`,\n",
    "  CAST(`cnt_order_via_phone` AS UInt8) AS `cnt_order_via_phone`,\n",
    "  CAST(`cnt_add_to_favorites` AS UInt16) AS `cnt_add_to_favorites`,\n",
    "  CAST(`cnt_view_ads_in_cabinet` AS UInt16) AS `cnt_view_ads_in_cabinet`,\n",
    "  CAST(`cnt_edit_advert_view_screen_package` AS UInt16) AS `cnt_edit_advert_view_screen_package`,\n",
    "  CAST(`cnt_new_advert_view_screen_package` AS UInt16) AS `cnt_new_advert_view_screen_package`\n",
    "FROM \n",
    "  hardda.user_dm_events\n",
    "'''"
   ]
  },
  {
   "cell_type": "code",
   "execution_count": 54,
   "id": "72717559-3ec5-4ff4-bce2-3d9ee96ed25d",
   "metadata": {},
   "outputs": [],
   "source": [
    "result = client.execute(query)"
   ]
  },
  {
   "cell_type": "markdown",
   "id": "48e4dcc1-2f66-4f38-aead-5e3c854fc35d",
   "metadata": {},
   "source": [
    " Checking the size of a new table with an optimized data types."
   ]
  },
  {
   "cell_type": "code",
   "execution_count": 55,
   "id": "00acb5cd-830a-4f2a-8b30-c82d2888e585",
   "metadata": {},
   "outputs": [],
   "source": [
    "query = '''\n",
    "SELECT\n",
    "  database,\n",
    "  table,\n",
    "  formatReadableSize(SUM(bytes)) AS size\n",
    "FROM \n",
    "  system.parts\n",
    "WHERE\n",
    "  database = 'hardda_student_data'\n",
    "    AND table = 'dp_nav2103_user_dm_events_step2'\n",
    "GROUP BY\n",
    "  database, table\n",
    "'''"
   ]
  },
  {
   "cell_type": "code",
   "execution_count": 56,
   "id": "6eeb4e83-78e3-4d27-a211-32f84e9f09b2",
   "metadata": {},
   "outputs": [],
   "source": [
    "result = client.execute(query)"
   ]
  },
  {
   "cell_type": "code",
   "execution_count": 57,
   "id": "7f2e5082-7e4f-4d34-bf65-190b8d2c34f9",
   "metadata": {},
   "outputs": [
    {
     "name": "stdout",
     "output_type": "stream",
     "text": [
      "[('hardda_student_data', 'dp_nav2103_user_dm_events_step2', '4.21 GiB')]\n"
     ]
    }
   ],
   "source": [
    "print(result)"
   ]
  },
  {
   "cell_type": "markdown",
   "id": "917b150f-2e1a-4792-a1c7-631843f8ebb6",
   "metadata": {},
   "source": [
    "### Task 14. "
   ]
  },
  {
   "cell_type": "markdown",
   "id": "bc28bfc3-0d41-424d-b640-fe0c9d34a316",
   "metadata": {},
   "source": [
    "How many rows does the new have?"
   ]
  },
  {
   "cell_type": "code",
   "execution_count": 58,
   "id": "8fc6c80a-4d2b-468a-b7ae-c23bde5887e9",
   "metadata": {},
   "outputs": [],
   "source": [
    "query = '''\n",
    "SELECT\n",
    "  COUNT(*)\n",
    "FROM \n",
    "  dp_nav2103_user_dm_events_step2\n",
    "'''"
   ]
  },
  {
   "cell_type": "code",
   "execution_count": 59,
   "id": "ed8e7a34-0899-4918-abfb-2db3f9b21700",
   "metadata": {},
   "outputs": [],
   "source": [
    "result = client.execute(query)"
   ]
  },
  {
   "cell_type": "code",
   "execution_count": 60,
   "id": "e18180d4-d4e9-4bba-9019-8883a3d10400",
   "metadata": {},
   "outputs": [
    {
     "name": "stdout",
     "output_type": "stream",
     "text": [
      "[(55916675,)]\n"
     ]
    }
   ],
   "source": [
    "print(result)"
   ]
  },
  {
   "cell_type": "markdown",
   "id": "2df8fced-367b-4cb4-9ce6-0f9f2235798c",
   "metadata": {},
   "source": [
    "### Task 15. "
   ]
  },
  {
   "cell_type": "markdown",
   "id": "3f555974-3c07-4175-9579-eff54702c6fa",
   "metadata": {},
   "source": [
    "Let's look at the contents of the `user_pseudo_id` and `user_x_phone_id` fields. Which of the fields can be converted to the UUID type?"
   ]
  },
  {
   "cell_type": "code",
   "execution_count": 61,
   "id": "13a62090-fdbf-45a2-89f5-a7db0559f60c",
   "metadata": {},
   "outputs": [],
   "source": [
    "query = '''\n",
    "SELECT\n",
    "  length(user_pseudo_id),\n",
    "  length(user_x_phone_id)\n",
    "FROM \n",
    "  dp_nav2103_user_dm_events_step2\n",
    "LIMIT 5\n",
    "'''"
   ]
  },
  {
   "cell_type": "code",
   "execution_count": 62,
   "id": "2276182e-d029-43bf-94f2-c265d7363daf",
   "metadata": {},
   "outputs": [],
   "source": [
    "result = client.execute(query)"
   ]
  },
  {
   "cell_type": "code",
   "execution_count": 63,
   "id": "7ba4ffc2-17f9-4e42-ac11-339b384956da",
   "metadata": {},
   "outputs": [
    {
     "name": "stdout",
     "output_type": "stream",
     "text": [
      "[(37, 41), (37, 41), (37, 41), (37, 41), (37, 41)]\n"
     ]
    }
   ],
   "source": [
    "print(result)"
   ]
  },
  {
   "cell_type": "markdown",
   "id": "0e53e94c-e80f-4928-a1cf-ff8e7a0e44f1",
   "metadata": {},
   "source": [
    "Answer: UUID is a 36-character string. Neither `user_pseudo_id` nor `user_x_phone_id` columns values are 36 long strings."
   ]
  },
  {
   "cell_type": "markdown",
   "id": "37c3b278-5c34-4cb5-a731-1549438fd290",
   "metadata": {},
   "source": [
    "### Task 16."
   ]
  },
  {
   "cell_type": "markdown",
   "id": "06d0a2ee-5bf0-49f7-9aae-46532d4c8baa",
   "metadata": {},
   "source": [
    "Which data column can be calculated based on the values of another data column(s)?"
   ]
  },
  {
   "cell_type": "code",
   "execution_count": 64,
   "id": "edfce827-1f34-4dbc-8555-68e3ada1f17f",
   "metadata": {},
   "outputs": [],
   "source": [
    "query = '''\n",
    "SELECT\n",
    "  event_date,\n",
    "  week_start_date,\n",
    "  toStartOfWeek(event_date, 1) AS week_start_date_calc\n",
    "FROM \n",
    "  dp_nav2103_user_dm_events_step2\n",
    "LIMIT 1\n",
    "'''"
   ]
  },
  {
   "cell_type": "code",
   "execution_count": 65,
   "id": "bca924f9-cbec-49b6-ad9a-3c42b9b90fab",
   "metadata": {},
   "outputs": [],
   "source": [
    "result = client.execute(query)"
   ]
  },
  {
   "cell_type": "code",
   "execution_count": 66,
   "id": "4cd3be63-1669-44f5-b8c9-43aa2a04d3f7",
   "metadata": {},
   "outputs": [
    {
     "name": "stdout",
     "output_type": "stream",
     "text": [
      "[(datetime.date(2022, 2, 1), datetime.date(2022, 1, 31), datetime.date(2022, 1, 31))]\n"
     ]
    }
   ],
   "source": [
    "print(result)"
   ]
  },
  {
   "cell_type": "markdown",
   "id": "18b8cb87-7de4-420e-bc7a-691fc59ab057",
   "metadata": {},
   "source": [
    "Answer: `week_start_date` can by derived from `event_date` with help of `toStartOfWeek` function. "
   ]
  },
  {
   "cell_type": "markdown",
   "id": "a4634c33-7c73-4c3a-89b8-3fbd559db874",
   "metadata": {},
   "source": [
    "### Task 17. "
   ]
  },
  {
   "cell_type": "markdown",
   "id": "fb420371-d85d-4a29-a257-65cb329d7523",
   "metadata": {},
   "source": [
    "Apply compression codecs to the selected field(s), creating a new table with sorting by the fields `user_pseudo_id` and `event_date`, and partitioning by `year`.  \n",
    "To this table, apply conversion of `user_pseudo_id` and `user_x_phone_id` to a Uint256 field with LZ4 compression  \n",
    "\n",
    "How many rows are in the new table?"
   ]
  },
  {
   "cell_type": "markdown",
   "id": "69510398-aaf9-4fed-8df9-f54af0275a03",
   "metadata": {},
   "source": [
    "Creating a new table with new types of data compression added."
   ]
  },
  {
   "cell_type": "code",
   "execution_count": 67,
   "id": "65a47725-93ce-4abd-b1d5-74e2002eb116",
   "metadata": {},
   "outputs": [],
   "source": [
    "query = '''\n",
    "DROP TABLE IF EXISTS dp_nav2103_user_dm_events_step3\n",
    "'''"
   ]
  },
  {
   "cell_type": "code",
   "execution_count": 68,
   "id": "f76b231c-e9ad-49ba-80cc-c6821c1cbc04",
   "metadata": {},
   "outputs": [],
   "source": [
    "result = client.execute(query)"
   ]
  },
  {
   "cell_type": "code",
   "execution_count": 69,
   "id": "80c60d1e-2abd-4d01-9559-178ea55afeed",
   "metadata": {},
   "outputs": [],
   "source": [
    "query = '''\n",
    "CREATE TABLE dp_nav2103_user_dm_events_step3 (\n",
    "  event_date Date codec(DoubleDelta, LZ4),\n",
    "  week_start_date Date codec(DoubleDelta, LZ4),\n",
    "  platform String,\n",
    "  user_pseudo_id String,\n",
    "  user_x_phone_id String, \n",
    "  cnt_events UInt16 codec(T64, LZ4),\n",
    "  cnt_view_advertisement UInt16 codec(T64, LZ4),\n",
    "  cnt_view_listing UInt16 codec(T64, LZ4),\n",
    "  cnt_new_advertisement_open UInt16 codec(Delta, LZ4),\n",
    "  cnt_new_advertisement_view_screen UInt16 codec(Delta, LZ4),\n",
    "  cnt_successful_new_advertisement_creation UInt16 codec(Delta, LZ4),\n",
    "  cnt_session_initiation UInt8 codec(T64, LZ4),\n",
    "  cnt_display_phone UInt16 codec(T64, LZ4),\n",
    "  cnt_send_message UInt16 codec(T64, LZ4),\n",
    "  cnt_order_via_phone UInt8 codec(Delta, LZ4),\n",
    "  cnt_add_to_favorites UInt16 codec(T64, LZ4),\n",
    "  cnt_view_ads_in_cabinet UInt16 codec(T64, LZ4),\n",
    "  cnt_edit_advert_view_screen_package UInt16 codec(Delta, LZ4),\n",
    "  cnt_new_advert_view_screen_package UInt16 codec(Delta, LZ4),\n",
    "  user_pseudo_id_comp ALIAS reinterpretAsUInt256(unhex(user_pseudo_id)),\n",
    "  user_x_phone_id_comp ALIAS reinterpretAsUInt256(unhex(user_x_phone_id))\n",
    ") ENGINE = MergeTree()\n",
    "PARTITION BY toYear(event_date)\n",
    "ORDER BY (user_pseudo_id, event_date)\n",
    "SETTINGS index_granularity = 8192\n",
    "'''"
   ]
  },
  {
   "cell_type": "code",
   "execution_count": 70,
   "id": "59b43476-3293-4bcb-b886-fa9922495c63",
   "metadata": {},
   "outputs": [],
   "source": [
    "result = client.execute(query)"
   ]
  },
  {
   "cell_type": "markdown",
   "id": "1ca5a3f7-fc78-41c7-826e-cfbe5135ccb4",
   "metadata": {},
   "source": [
    "Copying data from an old table to the new table."
   ]
  },
  {
   "cell_type": "code",
   "execution_count": 71,
   "id": "432e20a5-3afb-4334-8fff-775d7c793dfe",
   "metadata": {},
   "outputs": [],
   "source": [
    "query = '''\n",
    "INSERT INTO hardda_student_data.dp_nav2103_user_dm_events_step3\n",
    "SELECT\n",
    "  `event_date`,\n",
    "  `week_start_date`,\n",
    "  `platform`,\n",
    "  `user_pseudo_id` AS user_pseudo_id_comp,\n",
    "  `user_x_phone_id` AS user_x_phone_id_comp,\n",
    "  CAST(`cnt_events` AS UInt16) AS `cnt_events`,\n",
    "  CAST(`cnt_view_advertisement` AS UInt16) AS `cnt_view_advertisement`,\n",
    "  CAST(`cnt_view_listing` AS UInt16) AS `cnt_view_listing`,\n",
    "  CAST(`cnt_new_advertisement_open` AS UInt16) AS `cnt_new_advertisement_open`,\n",
    "  CAST(`cnt_new_advertisement_view_screen` AS UInt16) AS `cnt_new_advertisement_view_screen`,\n",
    "  CAST(`cnt_successful_new_advertisement_creation` AS UInt16) AS `cnt_successful_new_advertisement_creation`,\n",
    "  CAST(`cnt_session_initiation` AS UInt8) AS `cnt_session_initiation`,\n",
    "  CAST(`cnt_display_phone` AS UInt16) AS `cnt_display_phone`,\n",
    "  CAST(`cnt_send_message` AS UInt16) AS `cnt_send_message`,\n",
    "  CAST(`cnt_order_via_phone` AS UInt8) AS `cnt_order_via_phone`,\n",
    "  CAST(`cnt_add_to_favorites` AS UInt16) AS `cnt_add_to_favorites`,\n",
    "  CAST(`cnt_view_ads_in_cabinet` AS UInt16) AS `cnt_view_ads_in_cabinet`,\n",
    "  CAST(`cnt_edit_advert_view_screen_package` AS UInt16) AS `cnt_edit_advert_view_screen_package`,\n",
    "  CAST(`cnt_new_advert_view_screen_package` AS UInt16) AS `cnt_new_advert_view_screen_package`\n",
    "FROM \n",
    "  hardda.user_dm_events\n",
    "'''"
   ]
  },
  {
   "cell_type": "code",
   "execution_count": 72,
   "id": "4bdbd93f-e3fe-4442-a801-8ede8cd1e24d",
   "metadata": {},
   "outputs": [],
   "source": [
    "result = client.execute(query)"
   ]
  },
  {
   "cell_type": "markdown",
   "id": "50d46dfb-e289-4548-9c25-6e58647c00e7",
   "metadata": {},
   "source": [
    "Checking the number of rows we have in the new table. "
   ]
  },
  {
   "cell_type": "code",
   "execution_count": 73,
   "id": "bfe581b5-4253-4ea6-9b5d-23da7f316a56",
   "metadata": {},
   "outputs": [],
   "source": [
    "query = '''\n",
    "SELECT\n",
    "  COUNT(*)\n",
    "FROM \n",
    "  dp_nav2103_user_dm_events_step3\n",
    "'''"
   ]
  },
  {
   "cell_type": "code",
   "execution_count": 74,
   "id": "f7d11be2-9085-48be-94de-6ff9edaa4417",
   "metadata": {},
   "outputs": [],
   "source": [
    "result = client.execute(query)"
   ]
  },
  {
   "cell_type": "code",
   "execution_count": 75,
   "id": "6a4285ef-2343-4bfc-858b-2cd9b9aa47e5",
   "metadata": {},
   "outputs": [
    {
     "name": "stdout",
     "output_type": "stream",
     "text": [
      "[(55916675,)]\n"
     ]
    }
   ],
   "source": [
    "print(result)"
   ]
  },
  {
   "cell_type": "markdown",
   "id": "5bf71a52-7007-4d3b-a0d5-a8e52b66207a",
   "metadata": {},
   "source": [
    "### Task 18. "
   ]
  },
  {
   "cell_type": "markdown",
   "id": "69602fe7-cb3b-4731-9f3a-0313c64b2e74",
   "metadata": {},
   "source": [
    "What is the size of the new table?"
   ]
  },
  {
   "cell_type": "code",
   "execution_count": 76,
   "id": "1c97320d-ebec-4ed5-b1d0-37223808d488",
   "metadata": {},
   "outputs": [],
   "source": [
    "query = '''\n",
    "SELECT\n",
    "  database,\n",
    "  table,\n",
    "  formatReadableSize(SUM(bytes)) AS size\n",
    "FROM \n",
    "  system.parts\n",
    "WHERE\n",
    "  database = 'hardda_student_data'\n",
    "    AND table = 'dp_nav2103_user_dm_events_step3'\n",
    "GROUP BY\n",
    "  database, table\n",
    "'''"
   ]
  },
  {
   "cell_type": "code",
   "execution_count": 77,
   "id": "52a52c32-645e-43d2-8bf6-03f153b98076",
   "metadata": {},
   "outputs": [],
   "source": [
    "result = client.execute(query)"
   ]
  },
  {
   "cell_type": "code",
   "execution_count": 78,
   "id": "7354fc41-b1fb-409a-ba5e-590af285466f",
   "metadata": {},
   "outputs": [
    {
     "name": "stdout",
     "output_type": "stream",
     "text": [
      "[('hardda_student_data', 'dp_nav2103_user_dm_events_step3', '5.41 GiB')]\n"
     ]
    }
   ],
   "source": [
    "print(result)"
   ]
  },
  {
   "cell_type": "markdown",
   "id": "c14abe5f-f453-4bb7-a98e-8da3f28c12bf",
   "metadata": {},
   "source": [
    "### Task 19. "
   ]
  },
  {
   "cell_type": "markdown",
   "id": "5bb9c666-dd9b-4d18-b9d5-d74872c9b56d",
   "metadata": {},
   "source": [
    "Optimeze table `live_adverts`"
   ]
  },
  {
   "cell_type": "markdown",
   "id": "55767179-3947-41e2-8762-4d53f8a1d100",
   "metadata": {},
   "source": [
    "Let's check the table first. "
   ]
  },
  {
   "cell_type": "code",
   "execution_count": 79,
   "id": "ea8e9097-955c-4ab9-b1a2-d54331a45224",
   "metadata": {},
   "outputs": [],
   "source": [
    "query = '''\n",
    "SELECT\n",
    "  *\n",
    "FROM \n",
    "  hardda.live_adverts\n",
    "LIMIT 1\n",
    "'''"
   ]
  },
  {
   "cell_type": "code",
   "execution_count": 80,
   "id": "c55ada53-4e1a-4b79-81a2-5894fe5fd999",
   "metadata": {},
   "outputs": [],
   "source": [
    "result = client.execute(query)"
   ]
  },
  {
   "cell_type": "code",
   "execution_count": 81,
   "id": "1eca9284-b0ab-4dc8-95a6-76f7324ef577",
   "metadata": {},
   "outputs": [
    {
     "name": "stdout",
     "output_type": "stream",
     "text": [
      "[(datetime.date(2022, 2, 1), 130486371, datetime.datetime(2012, 11, 6, 7, 12), 0, 'Москва', 123578197, 'unknown', 'Unknown', 'Unknown model', 123599132, '0', 0)]\n"
     ]
    }
   ],
   "source": [
    "print(result)"
   ]
  },
  {
   "cell_type": "markdown",
   "id": "1bd2a122-b7af-4e94-a62b-ac5a42477a6d",
   "metadata": {},
   "source": [
    "How many rows does the table have?"
   ]
  },
  {
   "cell_type": "code",
   "execution_count": 82,
   "id": "9db0688b-4873-4c9a-a1b0-e12e63017182",
   "metadata": {},
   "outputs": [],
   "source": [
    "query = '''\n",
    "SELECT\n",
    "  COUNT(*)\n",
    "FROM \n",
    "  hardda.live_adverts\n",
    "'''"
   ]
  },
  {
   "cell_type": "code",
   "execution_count": 83,
   "id": "e7f4228b-62ed-482d-ba5b-a5aecc5f1a03",
   "metadata": {},
   "outputs": [],
   "source": [
    "result = client.execute(query)"
   ]
  },
  {
   "cell_type": "code",
   "execution_count": 84,
   "id": "a977f284-5ccf-4616-8e9b-cef41e4bc4e1",
   "metadata": {},
   "outputs": [
    {
     "name": "stdout",
     "output_type": "stream",
     "text": [
      "[(93120947,)]\n"
     ]
    }
   ],
   "source": [
    "print(result)"
   ]
  },
  {
   "cell_type": "markdown",
   "id": "5c71a84e-4f18-4419-9f6f-284be0b82bed",
   "metadata": {},
   "source": [
    "What data types does it have?"
   ]
  },
  {
   "cell_type": "code",
   "execution_count": 85,
   "id": "75e38654-0ce8-457b-9744-5ca65f3e75c4",
   "metadata": {},
   "outputs": [],
   "source": [
    "query = '''\n",
    "SELECT\n",
    "  name,\n",
    "  type\n",
    "FROM \n",
    "  system.columns\n",
    "WHERE\n",
    "  database = 'hardda'\n",
    "    AND table = 'live_adverts'\n",
    "'''"
   ]
  },
  {
   "cell_type": "code",
   "execution_count": 86,
   "id": "7356887b-c9aa-4d23-b335-a560b5ce8066",
   "metadata": {},
   "outputs": [],
   "source": [
    "result = client.execute(query)"
   ]
  },
  {
   "cell_type": "code",
   "execution_count": 87,
   "id": "44111ecf-7b8b-4696-853f-8a34df953fc0",
   "metadata": {},
   "outputs": [
    {
     "name": "stdout",
     "output_type": "stream",
     "text": [
      "('execution_date', 'Date32')\n",
      "('advert_id', 'UInt64')\n",
      "('created_at', 'DateTime')\n",
      "('price', 'UInt64')\n",
      "('region', 'LowCardinality(String)')\n",
      "('user_id', 'UInt32')\n",
      "('platform', 'LowCardinality(String)')\n",
      "('auto_brand', 'LowCardinality(String)')\n",
      "('auto_model', 'LowCardinality(String)')\n",
      "('passport_id', 'UInt32')\n",
      "('year', 'LowCardinality(String)')\n",
      "('userType', 'UInt8')\n"
     ]
    }
   ],
   "source": [
    "for i in result:\n",
    "    print(i)"
   ]
  },
  {
   "cell_type": "markdown",
   "id": "c6130a4e-cc5d-4c21-932a-a05f06276856",
   "metadata": {},
   "source": [
    "Let's check maximum values in columns with integer data type. "
   ]
  },
  {
   "cell_type": "code",
   "execution_count": 88,
   "id": "b871f2c0-958c-4541-a2fd-e39b5bb012e8",
   "metadata": {},
   "outputs": [],
   "source": [
    "query = '''\n",
    "SELECT\n",
    "  max(advert_id),\n",
    "  max(price),\n",
    "  max(user_id),\n",
    "  max(passport_id),\n",
    "  max(userType)\n",
    "FROM \n",
    "  hardda.live_adverts\n",
    "'''"
   ]
  },
  {
   "cell_type": "code",
   "execution_count": 89,
   "id": "471f89ce-32c4-4db6-bf0a-fde184108e13",
   "metadata": {},
   "outputs": [],
   "source": [
    "result = client.execute(query)"
   ]
  },
  {
   "cell_type": "code",
   "execution_count": 90,
   "id": "e8e06e09-e116-4eab-8e65-317bd2588b22",
   "metadata": {},
   "outputs": [
    {
     "name": "stdout",
     "output_type": "stream",
     "text": [
      "[(271644234, 154014141415, 152308061, 144990126, 9)]\n"
     ]
    }
   ],
   "source": [
    "print(result)"
   ]
  },
  {
   "cell_type": "markdown",
   "id": "ad9f1f33-b762-4538-9cad-1bc25a653de9",
   "metadata": {},
   "source": [
    "Checking size of the table. "
   ]
  },
  {
   "cell_type": "code",
   "execution_count": 91,
   "id": "5db6c037-e93b-4d5c-9c3c-cf77e75a9235",
   "metadata": {},
   "outputs": [],
   "source": [
    "query = '''\n",
    "SELECT\n",
    "  database,\n",
    "  table,\n",
    "  formatReadableSize(SUM(bytes)) AS size\n",
    "FROM \n",
    "  system.parts\n",
    "WHERE\n",
    "  database = 'hardda'\n",
    "    AND table = 'live_adverts'\n",
    "GROUP BY\n",
    "  database, table\n",
    "'''"
   ]
  },
  {
   "cell_type": "code",
   "execution_count": 92,
   "id": "94faca1e-0407-4d82-853c-e50f6adb7bae",
   "metadata": {},
   "outputs": [],
   "source": [
    "result = client.execute(query)"
   ]
  },
  {
   "cell_type": "code",
   "execution_count": 93,
   "id": "bb4e1c62-0e89-4c7d-99be-a8dbbb1a1222",
   "metadata": {},
   "outputs": [
    {
     "name": "stdout",
     "output_type": "stream",
     "text": [
      "[('hardda', 'live_adverts', '1.71 GiB')]\n"
     ]
    }
   ],
   "source": [
    "print(result)"
   ]
  },
  {
   "cell_type": "markdown",
   "id": "2e405a28-1651-42c8-b041-7716bd12bf41",
   "metadata": {},
   "source": [
    "Which set of fields is the table partitioned by?"
   ]
  },
  {
   "cell_type": "code",
   "execution_count": 94,
   "id": "25079d73-1e81-4b0b-a8eb-2282a424365e",
   "metadata": {},
   "outputs": [],
   "source": [
    "query = '''\n",
    "SELECT\n",
    "  partition_key\n",
    "FROM \n",
    "  system.tables\n",
    "WHERE\n",
    "  database = 'hardda'\n",
    "    AND table = 'live_adverts'\n",
    "'''"
   ]
  },
  {
   "cell_type": "code",
   "execution_count": 95,
   "id": "a399f930-ae9d-4749-adf7-f442823b5f7c",
   "metadata": {},
   "outputs": [],
   "source": [
    "result = client.execute(query)"
   ]
  },
  {
   "cell_type": "code",
   "execution_count": 96,
   "id": "94d3860b-e002-43af-90e7-cb4c01e74c68",
   "metadata": {},
   "outputs": [
    {
     "name": "stdout",
     "output_type": "stream",
     "text": [
      "[('DATE(execution_date)',)]\n"
     ]
    }
   ],
   "source": [
    "print(result)"
   ]
  },
  {
   "cell_type": "markdown",
   "id": "c4faa8e9-6b5e-4436-a27e-96063b3ef269",
   "metadata": {},
   "source": [
    "What set of fields is the primary key (in ClickHouse terms and definitions)?"
   ]
  },
  {
   "cell_type": "code",
   "execution_count": 97,
   "id": "eb1e22b2-0b85-40ed-8058-5badf73f4061",
   "metadata": {},
   "outputs": [],
   "source": [
    "query = '''\n",
    "SELECT\n",
    "  primary_key\n",
    "FROM \n",
    "  system.tables\n",
    "WHERE\n",
    "  database = 'hardda'\n",
    "    AND table = 'live_adverts'\n",
    "'''"
   ]
  },
  {
   "cell_type": "code",
   "execution_count": 98,
   "id": "876f1aaf-9a21-4f25-baaf-a6a074f721f8",
   "metadata": {},
   "outputs": [],
   "source": [
    "result = client.execute(query)"
   ]
  },
  {
   "cell_type": "code",
   "execution_count": 99,
   "id": "4ff8ed5c-4bfd-4315-85f3-187079fb3944",
   "metadata": {},
   "outputs": [
    {
     "name": "stdout",
     "output_type": "stream",
     "text": [
      "[('execution_date, created_at',)]\n"
     ]
    }
   ],
   "source": [
    "print(result)"
   ]
  },
  {
   "cell_type": "markdown",
   "id": "cf208279-2fa0-492a-9145-25d335630a63",
   "metadata": {},
   "source": [
    "What set of fields is the order by key (in ClickHouse terms and definitions)?"
   ]
  },
  {
   "cell_type": "code",
   "execution_count": 100,
   "id": "77ca87fe-2377-4b89-bfaa-896bd1f98c1a",
   "metadata": {},
   "outputs": [],
   "source": [
    "query = '''\n",
    "SELECT\n",
    "  sorting_key\n",
    "FROM \n",
    "  system.tables\n",
    "WHERE\n",
    "  database = 'hardda'\n",
    "    AND table = 'live_adverts'\n",
    "'''"
   ]
  },
  {
   "cell_type": "code",
   "execution_count": 101,
   "id": "b33d0591-e13a-4f90-9cc2-9759a0b0fd02",
   "metadata": {},
   "outputs": [],
   "source": [
    "result = client.execute(query)"
   ]
  },
  {
   "cell_type": "code",
   "execution_count": 102,
   "id": "4f7fdc1d-e5f3-46ff-a0f7-e9a9f2c03163",
   "metadata": {},
   "outputs": [
    {
     "name": "stdout",
     "output_type": "stream",
     "text": [
      "[('execution_date, created_at',)]\n"
     ]
    }
   ],
   "source": [
    "print(result)"
   ]
  },
  {
   "cell_type": "markdown",
   "id": "bba03e53-6ff1-408a-af0f-774ae71f8aff",
   "metadata": {},
   "source": [
    "Let's create an optimized table. "
   ]
  },
  {
   "cell_type": "code",
   "execution_count": 103,
   "id": "6414c0e3-da10-4c6a-b8e4-5b1c227c31ad",
   "metadata": {},
   "outputs": [],
   "source": [
    "query = '''\n",
    "DROP TABLE IF EXISTS dp_live_adverts_nav2103\n",
    "'''"
   ]
  },
  {
   "cell_type": "code",
   "execution_count": 104,
   "id": "215fe5b4-0555-4263-bba7-dfe590769532",
   "metadata": {},
   "outputs": [],
   "source": [
    "result = client.execute(query)"
   ]
  },
  {
   "cell_type": "code",
   "execution_count": 105,
   "id": "6f631e23-e146-4955-adde-91e840cdfb7c",
   "metadata": {},
   "outputs": [],
   "source": [
    "query = '''\n",
    "CREATE TABLE dp_live_adverts_nav2103 (\n",
    "`execution_date` Date32 CODEC(DoubleDelta), \n",
    "`advert_id` UInt64 CODEC(T64), \n",
    "`created_at` DateTime CODEC(DoubleDelta), \n",
    "`price` UInt64 CODEC(Gorilla), \n",
    "`region` LowCardinality(String), \n",
    "`user_id` UInt32 CODEC(T64), \n",
    "`platform` LowCardinality(String), \n",
    "`auto_brand` LowCardinality(String), \n",
    "`auto_model` LowCardinality(String), \n",
    "`passport_id` UInt32 CODEC(T64), \n",
    "`year` LowCardinality(String), \n",
    "`userType` UInt8 CODEC(T64)\n",
    ") ENGINE = MergeTree \n",
    "PARTITION BY DATE(execution_date) \n",
    "ORDER BY (execution_date, created_at, user_id, region) \n",
    "PRIMARY KEY (execution_date, created_at, user_id, region)\n",
    "SETTINGS index_granularity = 8192\n",
    "'''"
   ]
  },
  {
   "cell_type": "code",
   "execution_count": 106,
   "id": "9d7df050-6307-4567-87c9-2dabe1b2319f",
   "metadata": {},
   "outputs": [],
   "source": [
    "result = client.execute(query)"
   ]
  },
  {
   "cell_type": "markdown",
   "id": "ea8194a9-0c98-4bf9-ac11-a959c7b3b1a2",
   "metadata": {},
   "source": [
    "Now we have to copy data in int. "
   ]
  },
  {
   "cell_type": "code",
   "execution_count": 107,
   "id": "8e439c68-fd6e-4425-b740-4d716291126e",
   "metadata": {},
   "outputs": [],
   "source": [
    "query = '''\n",
    "INSERT INTO hardda_student_data.dp_live_adverts_nav2103\n",
    "SELECT\n",
    "  `execution_date`,\n",
    "  `advert_id`,\n",
    "  `created_at`,\n",
    "  `price`,\n",
    "  `region`,\n",
    "  `user_id`,\n",
    "  `platform`,\n",
    "  `auto_brand`,\n",
    "  `auto_model`,\n",
    "  `passport_id`,\n",
    "  `year`,\n",
    "  `userType`\n",
    "FROM \n",
    "  hardda.live_adverts\n",
    "'''"
   ]
  },
  {
   "cell_type": "code",
   "execution_count": 108,
   "id": "7eb67a5d-f9bb-4bf1-aed8-57ec5177b6ab",
   "metadata": {},
   "outputs": [],
   "source": [
    "result = client.execute(query)"
   ]
  },
  {
   "cell_type": "markdown",
   "id": "43e2b386-81d1-4acf-a33e-a28ab1638249",
   "metadata": {},
   "source": [
    "Let's run some queries to test the optimized table. "
   ]
  },
  {
   "cell_type": "markdown",
   "id": "49e9992f-b2cf-4a05-aa93-a00aed682478",
   "metadata": {},
   "source": [
    "Test query 1. "
   ]
  },
  {
   "cell_type": "code",
   "execution_count": 109,
   "id": "6fa9b686-1ec5-4d28-a44b-64a8890dbbba",
   "metadata": {},
   "outputs": [],
   "source": [
    "query = '''\n",
    "WITH datas AS (\n",
    "    SELECT  \n",
    "        execution_date,\n",
    "        region,\n",
    "        CAST(advert_id AS Int64) AS adverts,\n",
    "        CAST(passport_id AS Int64) AS listers\n",
    "    FROM\n",
    "        hardda_student_data.dp_live_adverts_nav2103\n",
    "    WHERE execution_date between toDate32('2022-01-01') \n",
    "      and toDate32('2022-02-01')\n",
    "),\n",
    "pre AS (\n",
    "    SELECT *\n",
    "    FROM datas\n",
    "    UNION ALL\n",
    "    SELECT execution_date, region, adverts, listers\n",
    "    FROM datas\n",
    ")\n",
    "SELECT\n",
    "    execution_date,\n",
    "    region,\n",
    "    COUNT(DISTINCT adverts) AS unique_adverts,\n",
    "    COUNT(DISTINCT listers) AS unique_listers,\n",
    "    COUNT(DISTINCT adverts) / COUNT(DISTINCT listers) AS adverts_per_lister\n",
    "FROM\n",
    "    pre\n",
    "GROUP BY  \n",
    "    execution_date, region\n",
    "LIMIT 5\n",
    "'''"
   ]
  },
  {
   "cell_type": "code",
   "execution_count": 110,
   "id": "6d517c7a-b2c3-41d0-93cb-18249869cf48",
   "metadata": {},
   "outputs": [],
   "source": [
    "result = client.execute(query)"
   ]
  },
  {
   "cell_type": "code",
   "execution_count": 111,
   "id": "bd713227-b0ba-4722-a1aa-8824f24d1726",
   "metadata": {},
   "outputs": [
    {
     "name": "stdout",
     "output_type": "stream",
     "text": [
      "(datetime.date(2022, 2, 1), 'Уфа', 5412, 3743, 1.4458990114881112)\n",
      "(datetime.date(2022, 2, 1), 'Пермь', 4350, 3251, 1.3380498308212858)\n",
      "(datetime.date(2022, 2, 1), 'Екатеринбург', 14445, 8462, 1.7070432521862444)\n",
      "(datetime.date(2022, 2, 1), 'Нижний Новгород', 10150, 7510, 1.351531291611185)\n",
      "(datetime.date(2022, 2, 1), 'Омск', 6277, 4110, 1.5272506082725061)\n"
     ]
    }
   ],
   "source": [
    "for i in result:\n",
    "    print(i)"
   ]
  },
  {
   "cell_type": "markdown",
   "id": "2c170241-0c7f-4d39-afef-001e1d8609d0",
   "metadata": {},
   "source": [
    "Test query 2. "
   ]
  },
  {
   "cell_type": "code",
   "execution_count": 112,
   "id": "2c2efd04-9a7d-4b4c-8a92-a8785f93debd",
   "metadata": {},
   "outputs": [],
   "source": [
    "query = '''\n",
    "WITH data AS(\n",
    "SELECT\n",
    "  region,\n",
    "  auto_brand,\n",
    "  COUNT(*) AS count_lives\n",
    "FROM\n",
    "  hardda_student_data.dp_live_adverts_nav2103\n",
    "WHERE\n",
    "  auto_brand != 'Unknown'\n",
    "GROUP BY\n",
    "  region, auto_brand\n",
    "),\n",
    "pre AS(\n",
    "  SELECT\n",
    "    *,\n",
    "    row_number() OVER (partition by region order by count_lives desc)  AS rn\n",
    "  FROM\n",
    "    data\n",
    ")\n",
    "SELECT region, auto_brand FROM pre\n",
    "WHERE rn = 1\n",
    "LIMIT 5\n",
    "'''"
   ]
  },
  {
   "cell_type": "code",
   "execution_count": 113,
   "id": "f5db8fb1-cc91-4cc8-a4dc-6b85cdad4c39",
   "metadata": {},
   "outputs": [],
   "source": [
    "result = client.execute(query)"
   ]
  },
  {
   "cell_type": "code",
   "execution_count": 114,
   "id": "d58d7392-972e-4ab4-a5d6-ef49d4c69bb8",
   "metadata": {},
   "outputs": [
    {
     "name": "stdout",
     "output_type": "stream",
     "text": [
      "('Волгоград', 'ВАЗ (Lada)')\n",
      "('Воронеж', 'Toyota')\n",
      "('Екатеринбург', 'ВАЗ (Lada)')\n",
      "('Ижевск', 'ВАЗ (Lada)')\n",
      "('Казань', 'ВАЗ (Lada)')\n"
     ]
    }
   ],
   "source": [
    "for i in result:\n",
    "    print(i)"
   ]
  },
  {
   "cell_type": "markdown",
   "id": "7b93bbdc-850b-47fc-9ed4-7c4bd957794a",
   "metadata": {},
   "source": [
    "Test query 3. "
   ]
  },
  {
   "cell_type": "code",
   "execution_count": 115,
   "id": "f567d3a2-4f5d-4de6-b5fb-a7b2a460de4a",
   "metadata": {},
   "outputs": [],
   "source": [
    "query = '''\n",
    "SELECT\n",
    "  user_id,\n",
    "  COUNT(DISTINCT(advert_id)) AS advert_count\n",
    "FROM\n",
    "  hardda_student_data.dp_live_adverts_nav2103\n",
    "GROUP BY\n",
    "  user_id\n",
    "ORDER BY\n",
    "  advert_count DESC\n",
    "LIMIT 5\n",
    "'''"
   ]
  },
  {
   "cell_type": "code",
   "execution_count": 116,
   "id": "a1f92b47-ffe9-4410-8b9b-d89384d6cc21",
   "metadata": {},
   "outputs": [],
   "source": [
    "result = client.execute(query)"
   ]
  },
  {
   "cell_type": "code",
   "execution_count": 117,
   "id": "cb554a4c-5cb3-4c99-9d83-3482ae972d18",
   "metadata": {},
   "outputs": [
    {
     "name": "stdout",
     "output_type": "stream",
     "text": [
      "(126942552, 15553)\n",
      "(123466420, 15512)\n",
      "(125442172, 12995)\n",
      "(123910335, 8977)\n",
      "(144368376, 7251)\n"
     ]
    }
   ],
   "source": [
    "for i in result:\n",
    "    print(i)"
   ]
  },
  {
   "cell_type": "markdown",
   "id": "25f7d4dc-6787-4307-acfc-68a54d11e671",
   "metadata": {},
   "source": [
    "Everything works smooth and fine now!"
   ]
  }
 ],
 "metadata": {
  "kernelspec": {
   "display_name": "Python 3 (ipykernel)",
   "language": "python",
   "name": "python3"
  },
  "language_info": {
   "codemirror_mode": {
    "name": "ipython",
    "version": 3
   },
   "file_extension": ".py",
   "mimetype": "text/x-python",
   "name": "python",
   "nbconvert_exporter": "python",
   "pygments_lexer": "ipython3",
   "version": "3.8.10"
  }
 },
 "nbformat": 4,
 "nbformat_minor": 5
}
