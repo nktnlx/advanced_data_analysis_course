{
 "cells": [
  {
   "cell_type": "markdown",
   "id": "51baf299-2770-4c74-8db6-f64d230e5dfc",
   "metadata": {},
   "source": [
    "# ClickHouse"
   ]
  },
  {
   "cell_type": "markdown",
   "id": "08dfd1aa-36a8-4b72-860a-c7f0b8776a16",
   "metadata": {},
   "source": [
    "## Import libraries and creating connection"
   ]
  },
  {
   "cell_type": "code",
   "execution_count": 2,
   "id": "42d5fca8-7a83-4642-8e29-bb8d8dd3fbdc",
   "metadata": {},
   "outputs": [],
   "source": [
    "#!pip install clickhouse_driver"
   ]
  },
  {
   "cell_type": "code",
   "execution_count": 1,
   "id": "d8b08580-8218-4c23-a49c-824d902470eb",
   "metadata": {},
   "outputs": [
    {
     "name": "stdout",
     "output_type": "stream",
     "text": [
      "(datetime.date(2022, 2, 1), datetime.date(2022, 1, 31), 'android', 'f7411212fd0e2523e126cbfdd3f226c211212', '4beb10e1-aeeb-4c52-acd2-ce1ddbc1fc24b10e1', 22, 11, 3, 0, 0, 0, 2, 2, 0, 0, 0, 0, 0, 0)\n"
     ]
    }
   ],
   "source": [
    "from clickhouse_driver import Client\n",
    "\n",
    "\n",
    "user_name = 'hardda_student_a.nikitin-8'\n",
    "pwd = '0ddbfab04207297e7de7f96e697814e152de44e69f9fd4d8d5bdbb6b6107518a'\n",
    "\n",
    "# creating connection ClickHouse\n",
    "client = Client(host='clickhouse.lab.karpov.courses', port=9000,\n",
    "                user=user_name, password=pwd, database='hardda')\n",
    "\n",
    "# checking connection\n",
    "result = client.execute(\"SELECT * FROM user_dm_events LIMIT 10\")\n",
    "\n",
    "# showing the result\n",
    "for row in result[0:1]:\n",
    "    print(row)"
   ]
  },
  {
   "cell_type": "markdown",
   "id": "e8c17a8f-d5a5-486f-88b9-c760cf121aea",
   "metadata": {},
   "source": [
    "## Tasks"
   ]
  },
  {
   "cell_type": "markdown",
   "id": "d70a3ff0-b074-4670-a152-198bdd4833e6",
   "metadata": {},
   "source": [
    "### Task 1. "
   ]
  },
  {
   "cell_type": "markdown",
   "id": "ad17aa2f-6dd1-4df9-b06e-08fd0361d6d9",
   "metadata": {},
   "source": [
    "What is the size of the table `user_dm_events`?"
   ]
  },
  {
   "cell_type": "code",
   "execution_count": 6,
   "id": "2d0defb3-ade1-41ff-8a35-54d55f616834",
   "metadata": {},
   "outputs": [],
   "source": [
    "query = '''\n",
    "SELECT\n",
    "  database,\n",
    "  table,\n",
    "  formatReadableSize(SUM(bytes)) AS size\n",
    "FROM \n",
    "  system.parts\n",
    "WHERE\n",
    "  database = 'hardda'\n",
    "    AND table = 'user_dm_events'\n",
    "GROUP BY\n",
    "  database, table\n",
    "'''"
   ]
  },
  {
   "cell_type": "code",
   "execution_count": 7,
   "id": "2336818b-649e-4de5-b27f-4a934d70398b",
   "metadata": {},
   "outputs": [],
   "source": [
    "result = client.execute(query)"
   ]
  },
  {
   "cell_type": "code",
   "execution_count": 8,
   "id": "74cb3447-7591-4f70-98fd-1aadfba48f0f",
   "metadata": {},
   "outputs": [
    {
     "name": "stdout",
     "output_type": "stream",
     "text": [
      "('hardda', 'user_dm_events', '4.72 GiB')\n"
     ]
    }
   ],
   "source": [
    "for row in result:\n",
    "    print(row)"
   ]
  },
  {
   "cell_type": "markdown",
   "id": "94295d87-31f8-4f43-b05e-b4e488714159",
   "metadata": {},
   "source": [
    "### Task 2. "
   ]
  },
  {
   "cell_type": "markdown",
   "id": "b6d638f6-8455-479b-9a41-887a67e45aec",
   "metadata": {},
   "source": [
    "How many rows does the table have?"
   ]
  },
  {
   "cell_type": "code",
   "execution_count": 9,
   "id": "b765a3fd-b282-4ae3-ba26-625ee89d2019",
   "metadata": {},
   "outputs": [],
   "source": [
    "query = '''\n",
    "SELECT\n",
    "  count(*)\n",
    "FROM \n",
    "  user_dm_events\n",
    "'''"
   ]
  },
  {
   "cell_type": "code",
   "execution_count": 10,
   "id": "86221b93-ef42-490a-995e-c32954dae26c",
   "metadata": {},
   "outputs": [],
   "source": [
    "result = client.execute(query)"
   ]
  },
  {
   "cell_type": "code",
   "execution_count": 11,
   "id": "a421cbd1-2753-4bce-b267-4b91b14c01de",
   "metadata": {},
   "outputs": [
    {
     "name": "stdout",
     "output_type": "stream",
     "text": [
      "[(55916675,)]\n"
     ]
    }
   ],
   "source": [
    "print(result)"
   ]
  },
  {
   "cell_type": "markdown",
   "id": "e71cd982-5188-4553-b9b2-c63711ffdae3",
   "metadata": {},
   "source": [
    "### Task 3. "
   ]
  },
  {
   "cell_type": "markdown",
   "id": "06e6186f-5f86-4fc3-a7db-1797c048911b",
   "metadata": {},
   "source": [
    "On which set of fields is the table partitioned by?"
   ]
  },
  {
   "cell_type": "code",
   "execution_count": 12,
   "id": "cd610cc6-b162-4194-ab89-209c7516b081",
   "metadata": {},
   "outputs": [],
   "source": [
    "query = '''\n",
    "SELECT\n",
    "  table,\n",
    "  partition_key\n",
    "FROM \n",
    "  system.tables\n",
    "WHERE\n",
    "  database = 'hardda'\n",
    "    AND table = 'user_dm_events'\n",
    "'''"
   ]
  },
  {
   "cell_type": "code",
   "execution_count": 13,
   "id": "0de7bcc5-9449-4077-b96b-ebbbcf325398",
   "metadata": {},
   "outputs": [],
   "source": [
    "result = client.execute(query)"
   ]
  },
  {
   "cell_type": "code",
   "execution_count": 14,
   "id": "5648bd0b-2ec4-48a1-8464-06f1906e6707",
   "metadata": {},
   "outputs": [
    {
     "name": "stdout",
     "output_type": "stream",
     "text": [
      "[('user_dm_events', 'event_date')]\n"
     ]
    }
   ],
   "source": [
    "print(result)"
   ]
  },
  {
   "cell_type": "markdown",
   "id": "cecab535-4d07-4d4a-bbbc-a43f9d8eb1d6",
   "metadata": {},
   "source": [
    "### Task 4. "
   ]
  },
  {
   "cell_type": "markdown",
   "id": "8a90c6fe-c732-47f1-b768-9625677c3a34",
   "metadata": {},
   "source": [
    "What set of fields is the primary key (in ClickHouse terms and definitions)?"
   ]
  },
  {
   "cell_type": "code",
   "execution_count": 24,
   "id": "fd77e71c-69a3-4550-9489-dd4f6bc92de6",
   "metadata": {},
   "outputs": [],
   "source": [
    "query = '''\n",
    "SELECT\n",
    "  table,\n",
    "  primary_key\n",
    "FROM \n",
    "  system.tables\n",
    "WHERE\n",
    "  database = 'hardda'\n",
    "    AND table = 'user_dm_events'\n",
    "'''"
   ]
  },
  {
   "cell_type": "code",
   "execution_count": 25,
   "id": "48361a12-8661-4bd1-9651-8be050868960",
   "metadata": {},
   "outputs": [],
   "source": [
    "result = client.execute(query)"
   ]
  },
  {
   "cell_type": "code",
   "execution_count": 26,
   "id": "bb3bd73a-0827-4e59-ae47-7036c206e538",
   "metadata": {},
   "outputs": [
    {
     "name": "stdout",
     "output_type": "stream",
     "text": [
      "[('user_dm_events', 'event_date')]\n"
     ]
    }
   ],
   "source": [
    "print(result)"
   ]
  },
  {
   "cell_type": "markdown",
   "id": "a50e079e-9420-4fa9-a56c-430c25043143",
   "metadata": {},
   "source": [
    "### Task 5. "
   ]
  },
  {
   "cell_type": "markdown",
   "id": "d7868814-d548-4eec-903f-4d81717af0d8",
   "metadata": {},
   "source": [
    "What set of fields is the order by key (in ClickHouse terms and definitions)?"
   ]
  },
  {
   "cell_type": "code",
   "execution_count": 31,
   "id": "59880d65-182c-41a0-bace-a95e5d309d67",
   "metadata": {},
   "outputs": [],
   "source": [
    "query = '''\n",
    "SELECT\n",
    "  table,\n",
    "  sorting_key\n",
    "FROM \n",
    "  system.tables\n",
    "WHERE\n",
    "  database = 'hardda'\n",
    "    AND table = 'user_dm_events'\n",
    "'''"
   ]
  },
  {
   "cell_type": "code",
   "execution_count": 32,
   "id": "93429ee2-0a69-4883-bef0-2b01d9ec5ee9",
   "metadata": {},
   "outputs": [],
   "source": [
    "result = client.execute(query)"
   ]
  },
  {
   "cell_type": "code",
   "execution_count": 33,
   "id": "e7f43d29-54fe-4b1f-928e-d2328445b900",
   "metadata": {},
   "outputs": [
    {
     "name": "stdout",
     "output_type": "stream",
     "text": [
      "[('user_dm_events', 'event_date')]\n"
     ]
    }
   ],
   "source": [
    "print(result)"
   ]
  },
  {
   "cell_type": "markdown",
   "id": "b124699a-6e5d-48f5-af8f-44c214c5812b",
   "metadata": {},
   "source": [
    "### Task 6."
   ]
  },
  {
   "cell_type": "markdown",
   "id": "ff01d8e0-8b3e-4ad7-911d-8d6325931896",
   "metadata": {},
   "source": [
    "tbc.."
   ]
  },
  {
   "cell_type": "code",
   "execution_count": null,
   "id": "67514db1-e6fa-4230-820d-58b8b69baabc",
   "metadata": {},
   "outputs": [],
   "source": []
  },
  {
   "cell_type": "code",
   "execution_count": null,
   "id": "3ce6e957-1813-4ea2-bd09-2f9fbd0a4486",
   "metadata": {},
   "outputs": [],
   "source": []
  },
  {
   "cell_type": "code",
   "execution_count": null,
   "id": "34ce821d-923b-46b1-a52c-f5be553bba13",
   "metadata": {},
   "outputs": [],
   "source": []
  }
 ],
 "metadata": {
  "kernelspec": {
   "display_name": "Python 3 (ipykernel)",
   "language": "python",
   "name": "python3"
  },
  "language_info": {
   "codemirror_mode": {
    "name": "ipython",
    "version": 3
   },
   "file_extension": ".py",
   "mimetype": "text/x-python",
   "name": "python",
   "nbconvert_exporter": "python",
   "pygments_lexer": "ipython3",
   "version": "3.8.10"
  }
 },
 "nbformat": 4,
 "nbformat_minor": 5
}
