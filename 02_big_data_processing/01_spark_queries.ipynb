{
 "cells": [
  {
   "cell_type": "markdown",
   "id": "0b65af8c-c12b-4eb5-b000-8940b5575dc1",
   "metadata": {},
   "source": [
    "# Spark Practise "
   ]
  },
  {
   "cell_type": "markdown",
   "id": "83abbdae-f172-4668-bf9e-4f0252e986c0",
   "metadata": {},
   "source": [
    "## Import libraries"
   ]
  },
  {
   "cell_type": "code",
   "execution_count": 1,
   "id": "ab5f38c9-bda3-4184-9434-f272793c4675",
   "metadata": {},
   "outputs": [],
   "source": [
    "from pyspark.sql import SparkSession\n",
    "from pyspark.sql.functions import *"
   ]
  },
  {
   "cell_type": "code",
   "execution_count": 2,
   "id": "21e92b81-6d84-495a-86f6-db2dd1d415c7",
   "metadata": {},
   "outputs": [
    {
     "name": "stderr",
     "output_type": "stream",
     "text": [
      "Warning: Ignoring non-Spark config property: fs.s3a.endpoint\n"
     ]
    },
    {
     "name": "stdout",
     "output_type": "stream",
     "text": [
      "23/09/09 13:24:07 WARN NativeCodeLoader: Unable to load native-hadoop library for your platform... using builtin-java classes where applicable\n"
     ]
    },
    {
     "name": "stderr",
     "output_type": "stream",
     "text": [
      "Setting default log level to \"WARN\".\n",
      "To adjust logging level use sc.setLogLevel(newLevel). For SparkR, use setLogLevel(newLevel).\n"
     ]
    }
   ],
   "source": [
    "import os\n",
    "import socket\n",
    "\n",
    "\n",
    "aws_access_key = \"your_access_key\"\n",
    "aws_secret_key = \"your_secret_key\"\n",
    "\n",
    "APACHE_MASTER_IP = socket.gethostbyname(\"apache-spark-master-0.apache-spark-headless.apache-spark.svc.cluster.local\")\n",
    "APACHE_MASTER_URL = f\"spark://{APACHE_MASTER_IP}:7077\"\n",
    "POD_IP = os.environ[\"MY_POD_IP\"]\n",
    "SPARK_APP_NAME = f\"spark-{os.environ['HOSTNAME']}\"\n",
    "JARS = \"\"\"/nfs/env/lib/python3.8/site-packages/pyspark/jars/clickhouse-native-jdbc-shaded-2.6.5.jar, \n",
    "/nfs/env/lib/python3.8/site-packages/pyspark/jars/hadoop-aws-3.3.4.jar,\n",
    "/nfs/env/lib/python3.8/site-packages/pyspark/jars/aws-java-sdk-bundle-1.12.433.jar\n",
    "\"\"\"\n",
    "\n",
    "MEM = \"512m\"\n",
    "CORES = 1\n",
    " \n",
    "spark = SparkSession.\\\n",
    "        builder.\\\n",
    "        appName(SPARK_APP_NAME).\\\n",
    "        master(APACHE_MASTER_URL).\\\n",
    "        config(\"spark.executor.memory\", MEM).\\\n",
    "        config(\"spark.jars\", JARS).\\\n",
    "        config(\"spark.executor.cores\", CORES).\\\n",
    "        config(\"spark.driver.host\", POD_IP).\\\n",
    "        config(\"spark.hadoop.fs.s3a.access.key\", aws_access_key). \\\n",
    "        config(\"spark.hadoop.fs.s3a.secret.key\", aws_secret_key). \\\n",
    "        config(\"fs.s3a.endpoint\", \"https://storage.yandexcloud.net\").  \\\n",
    "        config(\"spark.hadoop.fs.s3a.impl\", \"org.apache.hadoop.fs.s3a.S3AFileSystem\"). \\\n",
    "        config(\"spark.hadoop.fs.s3a.path.style.access\", True). \\\n",
    "        config(\"spark.hadoop.fs.s3a.committer.name\", \"directory\"). \\\n",
    "        config(\"spark.hadoop.fs.s3a.aws.credentials.provider\", \"org.apache.hadoop.fs.s3a.SimpleAWSCredentialsProvider\"). \\\n",
    "        getOrCreate()"
   ]
  },
  {
   "cell_type": "markdown",
   "id": "c3a46a5e-4162-4d79-a1ca-b56651d20519",
   "metadata": {},
   "source": [
    "## Task 1"
   ]
  },
  {
   "cell_type": "markdown",
   "id": "b71f4eb8-48ab-4f1e-ab2c-8dee47798a80",
   "metadata": {},
   "source": [
    "Find the top 3 sellers with the highest daily goals, and then to calculate their share of the total sales made by all sellers. The share should be calculated as a percentage."
   ]
  },
  {
   "cell_type": "markdown",
   "id": "a89c33dd-8714-4971-be71-042bc3071270",
   "metadata": {},
   "source": [
    "### Solution"
   ]
  },
  {
   "cell_type": "markdown",
   "id": "4f347039-5987-46ad-a280-2fb910a3f6df",
   "metadata": {},
   "source": [
    "Reading data."
   ]
  },
  {
   "cell_type": "code",
   "execution_count": 3,
   "id": "9843c924-1143-4b1a-b40c-9b9914165df9",
   "metadata": {},
   "outputs": [
    {
     "name": "stdout",
     "output_type": "stream",
     "text": [
      "23/09/09 13:24:13 WARN MetricsConfig: Cannot locate configuration: tried hadoop-metrics2-s3a-file-system.properties,hadoop-metrics2.properties\n"
     ]
    },
    {
     "name": "stderr",
     "output_type": "stream",
     "text": [
      "                                                                                \r"
     ]
    }
   ],
   "source": [
    "sellers_df = spark.read.parquet('s3a://kc-hardda-projects/shared/sellers.parquet')"
   ]
  },
  {
   "cell_type": "markdown",
   "id": "f99e9422-2b60-49d5-a38a-4d481140addf",
   "metadata": {},
   "source": [
    "Checking data. "
   ]
  },
  {
   "cell_type": "code",
   "execution_count": 4,
   "id": "2e3ff57f-6896-469e-b71b-34d6672ca41d",
   "metadata": {},
   "outputs": [
    {
     "name": "stderr",
     "output_type": "stream",
     "text": [
      "[Stage 1:>                                                          (0 + 1) / 1]\r"
     ]
    },
    {
     "name": "stdout",
     "output_type": "stream",
     "text": [
      "+---------+-----------+------------+\n",
      "|seller_id|seller_name|daily_target|\n",
      "+---------+-----------+------------+\n",
      "|        0|   seller_0|        2500|\n",
      "|        1|   seller_1|       16451|\n",
      "|        2|   seller_2|        2855|\n",
      "|        3|   seller_3|       19103|\n",
      "|        4|   seller_4|        8820|\n",
      "|        5|   seller_5|       14894|\n",
      "|        6|   seller_6|        7928|\n",
      "|        7|   seller_7|       17022|\n",
      "|        8|   seller_8|       19924|\n",
      "|        9|   seller_9|        6496|\n",
      "+---------+-----------+------------+\n",
      "\n"
     ]
    },
    {
     "name": "stderr",
     "output_type": "stream",
     "text": [
      "                                                                                \r"
     ]
    }
   ],
   "source": [
    "sellers_df.show()"
   ]
  },
  {
   "cell_type": "markdown",
   "id": "fb76bb90-65d7-4ab0-a517-7a0179ceaa2e",
   "metadata": {},
   "source": [
    "Calculating the total over daily_target column. "
   ]
  },
  {
   "cell_type": "code",
   "execution_count": 5,
   "id": "2310885f-c948-4c78-bdac-49a694732e5d",
   "metadata": {},
   "outputs": [
    {
     "name": "stderr",
     "output_type": "stream",
     "text": [
      "                                                                                \r"
     ]
    },
    {
     "data": {
      "text/plain": [
       "115993"
      ]
     },
     "execution_count": 5,
     "metadata": {},
     "output_type": "execute_result"
    }
   ],
   "source": [
    "total_target = sellers_df.agg({'daily_target': 'sum'}).collect()[0][0]\n",
    "total_target"
   ]
  },
  {
   "cell_type": "markdown",
   "id": "101a0ab5-bf23-459b-9305-cd3edc35554d",
   "metadata": {},
   "source": [
    "Calculating a seller share of the total sales made by all sallers and showing the top-3 list. "
   ]
  },
  {
   "cell_type": "code",
   "execution_count": 6,
   "id": "3734a1a1-501a-478d-84b3-32089189d1d6",
   "metadata": {},
   "outputs": [
    {
     "name": "stderr",
     "output_type": "stream",
     "text": [
      "[Stage 5:>                                                          (0 + 1) / 1]\r"
     ]
    },
    {
     "name": "stdout",
     "output_type": "stream",
     "text": [
      "+---------+-----------+------------+-----------------------+\n",
      "|seller_id|seller_name|daily_target|daily_target_percentage|\n",
      "+---------+-----------+------------+-----------------------+\n",
      "|        8|   seller_8|       19924|    0.17176898605950358|\n",
      "|        3|   seller_3|       19103|    0.16469097273111308|\n",
      "|        7|   seller_7|       17022|     0.1467502349279698|\n",
      "+---------+-----------+------------+-----------------------+\n",
      "\n"
     ]
    },
    {
     "name": "stderr",
     "output_type": "stream",
     "text": [
      "                                                                                \r"
     ]
    }
   ],
   "source": [
    "result_df = sellers_df.withColumn('daily_target_percentage',\n",
    "                      sellers_df['daily_target'] / total_target) \\\n",
    "    .orderBy('daily_target_percentage', ascending=False).limit(3)\n",
    "\n",
    "result_df.show()"
   ]
  },
  {
   "cell_type": "markdown",
   "id": "3aa14849-3cda-4199-af66-a68f7354c6de",
   "metadata": {},
   "source": [
    "Saving results to a parquet file. "
   ]
  },
  {
   "cell_type": "code",
   "execution_count": 7,
   "id": "e14310a6-8302-41c0-a47b-5f8c1ee2735a",
   "metadata": {},
   "outputs": [],
   "source": [
    "#pip install pyarrow"
   ]
  },
  {
   "cell_type": "code",
   "execution_count": 8,
   "id": "fa81025c-3ecd-423a-a5df-b7cd9444c91b",
   "metadata": {},
   "outputs": [
    {
     "name": "stderr",
     "output_type": "stream",
     "text": [
      "                                                                                \r"
     ]
    }
   ],
   "source": [
    "fin_df = result_df.toPandas()\n",
    "fin_df.to_parquet('task_1_result.parquet')"
   ]
  },
  {
   "cell_type": "markdown",
   "id": "bf3b63a5-5f06-4dbd-bf00-e0327eca15a9",
   "metadata": {},
   "source": [
    "## Task 2"
   ]
  },
  {
   "cell_type": "markdown",
   "id": "54a2f9f4-736c-4981-83a5-91b621219772",
   "metadata": {},
   "source": [
    "Find top 5 days with the largest amount of sales. "
   ]
  },
  {
   "cell_type": "markdown",
   "id": "7d7e82da-9b61-41fd-a93b-af4891616bdc",
   "metadata": {},
   "source": [
    "### Solution"
   ]
  },
  {
   "cell_type": "markdown",
   "id": "65a586d5-f457-4420-a5b6-8f2b43e12c4e",
   "metadata": {},
   "source": [
    "Reading data. "
   ]
  },
  {
   "cell_type": "code",
   "execution_count": 9,
   "id": "1aadc746-ec5e-4d77-9ca8-34e6393dc625",
   "metadata": {},
   "outputs": [],
   "source": [
    "sales_df = spark.read.parquet('s3a://kc-hardda-projects/shared/sales.parquet')"
   ]
  },
  {
   "cell_type": "markdown",
   "id": "85ff9b0a-a90c-4a8c-8f09-dcba3e18d083",
   "metadata": {},
   "source": [
    "Checking data. "
   ]
  },
  {
   "cell_type": "code",
   "execution_count": 10,
   "id": "00213b5e-2dd4-49cd-a222-08d5fa46f79f",
   "metadata": {},
   "outputs": [
    {
     "name": "stderr",
     "output_type": "stream",
     "text": [
      "[Stage 8:>                                                          (0 + 1) / 1]\r"
     ]
    },
    {
     "name": "stdout",
     "output_type": "stream",
     "text": [
      "+--------+----------+---------+----------+---------------+--------------------+\n",
      "|order_id|product_id|seller_id|      date|num_pieces_sold|       bill_raw_text|\n",
      "+--------+----------+---------+----------+---------------+--------------------+\n",
      "|       1|         0|        0|2023-07-02|              7|itgntlqljxnCgkeax...|\n",
      "|       2|         0|        0|2023-07-05|              9|ymkndxcgbyyqugbgp...|\n",
      "|       3|         0|        0|2023-07-05|              7|qwbfznfqwfgkuXrnn...|\n",
      "|       4|         0|        0|2023-07-03|              5|tybsrjpfucpitwqxk...|\n",
      "|       5|         0|        0|2023-07-04|              3|crrjscajxlmugzmyg...|\n",
      "|       6|         0|        0|2023-07-03|              1|blxycrmmzmaiarooj...|\n",
      "|       7|         0|        0|2023-07-09|              8|ymidneomjcfnircqz...|\n",
      "|       8|         0|        0|2023-07-02|              5|euavsmtstttcjxipl...|\n",
      "|       9|         0|        0|2023-07-01|              7|jpwsylnygmxdfnswc...|\n",
      "|      10|         0|        0|2023-07-05|              3|agxypijmjjttiylqe...|\n",
      "|      11|         0|        0|2023-07-03|              4|oyvfxuvqmbemdsblt...|\n",
      "|      12|         0|        0|2023-07-10|              4|cmzlrtgasstucutjf...|\n",
      "|      13|         0|        0|2023-07-04|              6|blwnahdfdsjtpzmrx...|\n",
      "|      14|         0|        0|2023-07-08|              5|okikjuqdlsswhtwsc...|\n",
      "|      15|         0|        0|2023-07-03|              9|trkphvlxiqxihdgyl...|\n",
      "|      16|         0|        0|2023-07-06|              2|mbmkaydfsjnydWrvf...|\n",
      "|      17|         0|        0|2023-07-07|              9|hrkbedokovyxwkdjn...|\n",
      "|      18|         0|        0|2023-07-09|              5|xrkvvlkjiizuedvpy...|\n",
      "|      19|         0|        0|2023-07-02|              2|okjexbjnyzekiqxzo...|\n",
      "|      20|         0|        0|2023-07-04|              4|masoksmyobvtjhscn...|\n",
      "+--------+----------+---------+----------+---------------+--------------------+\n",
      "only showing top 20 rows\n",
      "\n"
     ]
    },
    {
     "name": "stderr",
     "output_type": "stream",
     "text": [
      "                                                                                \r"
     ]
    }
   ],
   "source": [
    "sales_df.show()"
   ]
  },
  {
   "cell_type": "markdown",
   "id": "b642b5c6-5f98-4a62-83b1-49334858b929",
   "metadata": {},
   "source": [
    "Let's work only with columns that we need. "
   ]
  },
  {
   "cell_type": "code",
   "execution_count": 11,
   "id": "abc8d420-0bed-44dc-8891-7e2de9682811",
   "metadata": {},
   "outputs": [
    {
     "name": "stderr",
     "output_type": "stream",
     "text": [
      "[Stage 9:>                                                          (0 + 1) / 1]\r"
     ]
    },
    {
     "name": "stdout",
     "output_type": "stream",
     "text": [
      "+----------+---------------+\n",
      "|      date|num_pieces_sold|\n",
      "+----------+---------------+\n",
      "|2023-07-02|              7|\n",
      "|2023-07-05|              9|\n",
      "|2023-07-05|              7|\n",
      "|2023-07-03|              5|\n",
      "|2023-07-04|              3|\n",
      "|2023-07-03|              1|\n",
      "|2023-07-09|              8|\n",
      "|2023-07-02|              5|\n",
      "|2023-07-01|              7|\n",
      "|2023-07-05|              3|\n",
      "|2023-07-03|              4|\n",
      "|2023-07-10|              4|\n",
      "|2023-07-04|              6|\n",
      "|2023-07-08|              5|\n",
      "|2023-07-03|              9|\n",
      "|2023-07-06|              2|\n",
      "|2023-07-07|              9|\n",
      "|2023-07-09|              5|\n",
      "|2023-07-02|              2|\n",
      "|2023-07-04|              4|\n",
      "+----------+---------------+\n",
      "only showing top 20 rows\n",
      "\n"
     ]
    },
    {
     "name": "stderr",
     "output_type": "stream",
     "text": [
      "                                                                                \r"
     ]
    }
   ],
   "source": [
    "sales_df_filt = sales_df[['date', 'num_pieces_sold']]\n",
    "sales_df_filt.show()"
   ]
  },
  {
   "cell_type": "markdown",
   "id": "334506c7-6afa-4074-b9ed-6462ca37a223",
   "metadata": {},
   "source": [
    "Finding top-5 days with the most total units sold. "
   ]
  },
  {
   "cell_type": "code",
   "execution_count": 12,
   "id": "d5adf04e-fbe7-440b-9b7b-1cd37f897379",
   "metadata": {},
   "outputs": [
    {
     "name": "stderr",
     "output_type": "stream",
     "text": [
      "[Stage 10:=============================>                            (1 + 1) / 2]\r"
     ]
    },
    {
     "name": "stdout",
     "output_type": "stream",
     "text": [
      "+----------+----------------+\n",
      "|      date|total_units_sold|\n",
      "+----------+----------------+\n",
      "|2023-07-07|         1104297|\n",
      "|2023-07-01|         1102564|\n",
      "|2023-07-04|         1102133|\n",
      "|2023-07-02|         1101015|\n",
      "|2023-07-10|         1100401|\n",
      "+----------+----------------+\n",
      "\n"
     ]
    },
    {
     "name": "stderr",
     "output_type": "stream",
     "text": [
      "                                                                                \r"
     ]
    }
   ],
   "source": [
    "result_df = sales_df_filt.groupBy('date').agg({'num_pieces_sold': 'sum'}) \\\n",
    "    .select('date', col('sum(num_pieces_sold)').alias('total_units_sold')) \\\n",
    "    .orderBy('total_units_sold', ascending=False).limit(5)\n",
    "\n",
    "result_df.show()"
   ]
  },
  {
   "cell_type": "markdown",
   "id": "485859d1-f2da-4e7d-ad31-42821bcc8146",
   "metadata": {},
   "source": [
    "Saving results to a parquet file."
   ]
  },
  {
   "cell_type": "code",
   "execution_count": 13,
   "id": "64af0333-69a3-4b91-978e-260b221afb29",
   "metadata": {},
   "outputs": [
    {
     "name": "stderr",
     "output_type": "stream",
     "text": [
      "                                                                                \r"
     ]
    }
   ],
   "source": [
    "result_df.toPandas().to_parquet('task_2_result.parquet')"
   ]
  },
  {
   "cell_type": "markdown",
   "id": "92888be7-e2ec-4a30-b290-acd766fe418c",
   "metadata": {},
   "source": [
    "## Task 3"
   ]
  },
  {
   "cell_type": "markdown",
   "id": "ca4e2963-fe8d-4343-99c0-3a481b9c97ab",
   "metadata": {},
   "source": [
    "The task is to find the suffix for each product and then calculate the average price for each suffix.  \n",
    "The results should be sorted by the suffix in ascending order.  \n",
    "The suffix is defined as the last six characters of the product name.  \n",
    "The final DataFrame should contain 75,000 rows."
   ]
  },
  {
   "cell_type": "markdown",
   "id": "d9c1ce25-302f-4d63-90be-d720486fad83",
   "metadata": {},
   "source": [
    "### Solution"
   ]
  },
  {
   "cell_type": "markdown",
   "id": "67ff7621-1e57-4b6d-8641-79caadd59697",
   "metadata": {},
   "source": [
    "Reading data."
   ]
  },
  {
   "cell_type": "code",
   "execution_count": 14,
   "id": "acc9e36e-1b39-431e-b4f3-2b23e80c1034",
   "metadata": {},
   "outputs": [],
   "source": [
    "products_df = spark.read.parquet('s3a://kc-hardda-projects/shared/products.parquet')"
   ]
  },
  {
   "cell_type": "markdown",
   "id": "1548b86c-b0c0-4c16-9e15-8446abfdbf13",
   "metadata": {},
   "source": [
    "Checking data. "
   ]
  },
  {
   "cell_type": "code",
   "execution_count": 15,
   "id": "59133d05-f7e8-44dc-b7af-24d5b176457f",
   "metadata": {},
   "outputs": [
    {
     "name": "stderr",
     "output_type": "stream",
     "text": [
      "[Stage 17:>                                                         (0 + 1) / 1]\r"
     ]
    },
    {
     "name": "stdout",
     "output_type": "stream",
     "text": [
      "+----------+------------+-----+\n",
      "|product_id|product_name|price|\n",
      "+----------+------------+-----+\n",
      "|         0|   product_0|   22|\n",
      "|         1|   product_1|   30|\n",
      "|         2|   product_2|   91|\n",
      "|         3|   product_3|   37|\n",
      "|         4|   product_4|  145|\n",
      "|         5|   product_5|  128|\n",
      "|         6|   product_6|   66|\n",
      "|         7|   product_7|  145|\n",
      "|         8|   product_8|   51|\n",
      "|         9|   product_9|   44|\n",
      "|        10|  product_10|   53|\n",
      "|        11|  product_11|   13|\n",
      "|        12|  product_12|  104|\n",
      "|        13|  product_13|  102|\n",
      "|        14|  product_14|   24|\n",
      "|        15|  product_15|   14|\n",
      "|        16|  product_16|   38|\n",
      "|        17|  product_17|   72|\n",
      "|        18|  product_18|   16|\n",
      "|        19|  product_19|   46|\n",
      "+----------+------------+-----+\n",
      "only showing top 20 rows\n",
      "\n"
     ]
    },
    {
     "name": "stderr",
     "output_type": "stream",
     "text": [
      "                                                                                \r"
     ]
    }
   ],
   "source": [
    "products_df.show()"
   ]
  },
  {
   "cell_type": "markdown",
   "id": "10c68457-1cd6-4a22-96f5-e0b0af2abd18",
   "metadata": {},
   "source": [
    "Creating product_suffix column. "
   ]
  },
  {
   "cell_type": "code",
   "execution_count": 16,
   "id": "526b8604-6251-4c9c-bc7b-d2dfb66819d9",
   "metadata": {},
   "outputs": [
    {
     "name": "stderr",
     "output_type": "stream",
     "text": [
      "[Stage 18:>                                                         (0 + 1) / 1]\r"
     ]
    },
    {
     "name": "stdout",
     "output_type": "stream",
     "text": [
      "+----------+------------+-----+--------------+\n",
      "|product_id|product_name|price|product_suffix|\n",
      "+----------+------------+-----+--------------+\n",
      "|         0|   product_0|   22|        duct_0|\n",
      "|         1|   product_1|   30|        duct_1|\n",
      "|         2|   product_2|   91|        duct_2|\n",
      "|         3|   product_3|   37|        duct_3|\n",
      "|         4|   product_4|  145|        duct_4|\n",
      "|         5|   product_5|  128|        duct_5|\n",
      "|         6|   product_6|   66|        duct_6|\n",
      "|         7|   product_7|  145|        duct_7|\n",
      "|         8|   product_8|   51|        duct_8|\n",
      "|         9|   product_9|   44|        duct_9|\n",
      "|        10|  product_10|   53|        uct_10|\n",
      "|        11|  product_11|   13|        uct_11|\n",
      "|        12|  product_12|  104|        uct_12|\n",
      "|        13|  product_13|  102|        uct_13|\n",
      "|        14|  product_14|   24|        uct_14|\n",
      "|        15|  product_15|   14|        uct_15|\n",
      "|        16|  product_16|   38|        uct_16|\n",
      "|        17|  product_17|   72|        uct_17|\n",
      "|        18|  product_18|   16|        uct_18|\n",
      "|        19|  product_19|   46|        uct_19|\n",
      "+----------+------------+-----+--------------+\n",
      "only showing top 20 rows\n",
      "\n"
     ]
    },
    {
     "name": "stderr",
     "output_type": "stream",
     "text": [
      "                                                                                \r"
     ]
    }
   ],
   "source": [
    "products_df = products_df.withColumn('product_suffix', substring(col('product_name'), -6, 6))\n",
    "products_df.show()"
   ]
  },
  {
   "cell_type": "markdown",
   "id": "a3a6a6ee-fd5c-4a67-8c5e-3467defffb08",
   "metadata": {},
   "source": [
    "Calculating average price for each product_suffix. "
   ]
  },
  {
   "cell_type": "code",
   "execution_count": 17,
   "id": "7753f265-cd4d-48ba-9025-21c0fb6e36dd",
   "metadata": {},
   "outputs": [
    {
     "name": "stderr",
     "output_type": "stream",
     "text": [
      "[Stage 19:>                                                         (0 + 1) / 1]\r"
     ]
    },
    {
     "name": "stdout",
     "output_type": "stream",
     "text": [
      "+-----------+---------+\n",
      "|name_suffix|avg_price|\n",
      "+-----------+---------+\n",
      "|     _10000|    143.0|\n",
      "|     _10001|    149.0|\n",
      "|     _10002|     90.0|\n",
      "|     _10003|    137.0|\n",
      "|     _10004|     89.0|\n",
      "|     _10005|     14.0|\n",
      "|     _10006|    147.0|\n",
      "|     _10007|     75.0|\n",
      "|     _10008|    134.0|\n",
      "|     _10009|     50.0|\n",
      "|     _10010|    101.0|\n",
      "|     _10011|    120.0|\n",
      "|     _10012|      7.0|\n",
      "|     _10013|     86.0|\n",
      "|     _10014|     13.0|\n",
      "|     _10015|    106.0|\n",
      "|     _10016|     38.0|\n",
      "|     _10017|     50.0|\n",
      "|     _10018|     34.0|\n",
      "|     _10019|     57.0|\n",
      "+-----------+---------+\n",
      "only showing top 20 rows\n",
      "\n"
     ]
    },
    {
     "name": "stderr",
     "output_type": "stream",
     "text": [
      "                                                                                \r"
     ]
    }
   ],
   "source": [
    "result_df = products_df.select('product_suffix', 'price') \\\n",
    "    .groupBy('product_suffix').agg({'price': 'avg'}) \\\n",
    "    .orderBy('product_suffix') \\\n",
    "    .withColumnRenamed('avg(price)', 'avg_price') \\\n",
    "    .withColumnRenamed('product_suffix', 'name_suffix')\n",
    "\n",
    "result_df.show()"
   ]
  },
  {
   "cell_type": "markdown",
   "id": "7f16374b-9a68-4c2a-ab15-e4717569e872",
   "metadata": {},
   "source": [
    "Showing our final dataframe size. "
   ]
  },
  {
   "cell_type": "code",
   "execution_count": 18,
   "id": "a19c21b9-dea4-4ce3-b9a4-c0808e493d0d",
   "metadata": {},
   "outputs": [
    {
     "name": "stderr",
     "output_type": "stream",
     "text": [
      "                                                                                \r"
     ]
    },
    {
     "data": {
      "text/plain": [
       "75000"
      ]
     },
     "execution_count": 18,
     "metadata": {},
     "output_type": "execute_result"
    }
   ],
   "source": [
    "result_df.count()"
   ]
  },
  {
   "cell_type": "markdown",
   "id": "b16f03b4-85a4-4029-bb92-a5ecf45febfa",
   "metadata": {},
   "source": [
    "Saving results to a parquet file."
   ]
  },
  {
   "cell_type": "code",
   "execution_count": 19,
   "id": "87999ade-fdbe-46dc-9f4f-f69c4b261e2e",
   "metadata": {},
   "outputs": [
    {
     "name": "stderr",
     "output_type": "stream",
     "text": [
      "                                                                                \r"
     ]
    }
   ],
   "source": [
    "result_df.toPandas().to_parquet('task_3_result.parquet')"
   ]
  },
  {
   "cell_type": "markdown",
   "id": "dec62021-81dd-4b42-94f6-739cb7ca05cc",
   "metadata": {},
   "source": [
    "## Task 4"
   ]
  },
  {
   "cell_type": "markdown",
   "id": "6d5beb80-e4db-491e-a2f3-bc7e17eb273a",
   "metadata": {},
   "source": [
    "We need to find the average daily income for each seller and identify the top 3 sellers with the highest average daily income.  \n",
    "To solve this problem, we will use all three tables."
   ]
  },
  {
   "cell_type": "markdown",
   "id": "25208d23-46c2-4ee2-b952-35bf4104f1ca",
   "metadata": {},
   "source": [
    "### Solution"
   ]
  },
  {
   "cell_type": "markdown",
   "id": "3601b7b1-2cd4-465f-8ee3-20ba6a3e3a15",
   "metadata": {},
   "source": [
    "Reading data. "
   ]
  },
  {
   "cell_type": "code",
   "execution_count": 20,
   "id": "1d67e8f4-0a12-465f-abbf-7de70fc07cb8",
   "metadata": {},
   "outputs": [],
   "source": [
    "products_df = spark.read.parquet('s3a://kc-hardda-projects/shared/products.parquet')\n",
    "sales_df = spark.read.parquet('s3a://kc-hardda-projects/shared/sales.parquet')\n",
    "sellers_df = spark.read.parquet('s3a://kc-hardda-projects/shared/sellers.parquet')"
   ]
  },
  {
   "cell_type": "markdown",
   "id": "05065833-5a00-4fbc-88a5-5effbfda4163",
   "metadata": {},
   "source": [
    "Checking data."
   ]
  },
  {
   "cell_type": "code",
   "execution_count": 21,
   "id": "e7508564-ae4b-4e46-918c-52490f9eebb4",
   "metadata": {},
   "outputs": [
    {
     "name": "stderr",
     "output_type": "stream",
     "text": [
      "[Stage 39:>                                                         (0 + 1) / 1]\r"
     ]
    },
    {
     "name": "stdout",
     "output_type": "stream",
     "text": [
      "+----------+------------+-----+\n",
      "|product_id|product_name|price|\n",
      "+----------+------------+-----+\n",
      "|         0|   product_0|   22|\n",
      "|         1|   product_1|   30|\n",
      "|         2|   product_2|   91|\n",
      "|         3|   product_3|   37|\n",
      "|         4|   product_4|  145|\n",
      "+----------+------------+-----+\n",
      "\n"
     ]
    },
    {
     "name": "stderr",
     "output_type": "stream",
     "text": [
      "                                                                                \r"
     ]
    }
   ],
   "source": [
    "products_df.limit(5).show()"
   ]
  },
  {
   "cell_type": "code",
   "execution_count": 22,
   "id": "d6362a7b-d159-4287-ab59-67e21f7e7b8c",
   "metadata": {},
   "outputs": [
    {
     "name": "stderr",
     "output_type": "stream",
     "text": [
      "[Stage 42:=============================>                            (1 + 1) / 2]\r"
     ]
    },
    {
     "name": "stdout",
     "output_type": "stream",
     "text": [
      "+--------+----------+---------+----------+---------------+--------------------+\n",
      "|order_id|product_id|seller_id|      date|num_pieces_sold|       bill_raw_text|\n",
      "+--------+----------+---------+----------+---------------+--------------------+\n",
      "|       1|         0|        0|2023-07-02|              7|itgntlqljxnCgkeax...|\n",
      "|       2|         0|        0|2023-07-05|              9|ymkndxcgbyyqugbgp...|\n",
      "|       3|         0|        0|2023-07-05|              7|qwbfznfqwfgkuXrnn...|\n",
      "|       4|         0|        0|2023-07-03|              5|tybsrjpfucpitwqxk...|\n",
      "|       5|         0|        0|2023-07-04|              3|crrjscajxlmugzmyg...|\n",
      "+--------+----------+---------+----------+---------------+--------------------+\n",
      "\n"
     ]
    },
    {
     "name": "stderr",
     "output_type": "stream",
     "text": [
      "                                                                                \r"
     ]
    }
   ],
   "source": [
    "sales_df.limit(5).show()"
   ]
  },
  {
   "cell_type": "code",
   "execution_count": 23,
   "id": "fe9bfc1d-c2de-4469-ba8b-77d1d8c3d050",
   "metadata": {},
   "outputs": [
    {
     "name": "stderr",
     "output_type": "stream",
     "text": [
      "[Stage 45:>                                                         (0 + 1) / 1]\r"
     ]
    },
    {
     "name": "stdout",
     "output_type": "stream",
     "text": [
      "+---------+-----------+------------+\n",
      "|seller_id|seller_name|daily_target|\n",
      "+---------+-----------+------------+\n",
      "|        0|   seller_0|        2500|\n",
      "|        1|   seller_1|       16451|\n",
      "|        2|   seller_2|        2855|\n",
      "|        3|   seller_3|       19103|\n",
      "|        4|   seller_4|        8820|\n",
      "+---------+-----------+------------+\n",
      "\n"
     ]
    },
    {
     "name": "stderr",
     "output_type": "stream",
     "text": [
      "                                                                                \r"
     ]
    }
   ],
   "source": [
    "sellers_df.limit(5).show()"
   ]
  },
  {
   "cell_type": "markdown",
   "id": "d3d57aa9-4fe9-46f9-ba75-91353f47b228",
   "metadata": {},
   "source": [
    "Let's JOIN products and sales dataframes together. "
   ]
  },
  {
   "cell_type": "code",
   "execution_count": 24,
   "id": "bb8ac834-b7a1-4afe-ab6f-efa301a7fcdf",
   "metadata": {},
   "outputs": [
    {
     "name": "stderr",
     "output_type": "stream",
     "text": [
      "[Stage 49:>                                                         (0 + 1) / 1]\r"
     ]
    },
    {
     "name": "stdout",
     "output_type": "stream",
     "text": [
      "+----------+-----+---------+----------+---------------+\n",
      "|product_id|price|seller_id|      date|num_pieces_sold|\n",
      "+----------+-----+---------+----------+---------------+\n",
      "|         0|   22|        0|2023-07-02|              7|\n",
      "|         0|   22|        0|2023-07-05|              9|\n",
      "|         0|   22|        0|2023-07-05|              7|\n",
      "|         0|   22|        0|2023-07-03|              5|\n",
      "|         0|   22|        0|2023-07-04|              3|\n",
      "|         0|   22|        0|2023-07-03|              1|\n",
      "|         0|   22|        0|2023-07-09|              8|\n",
      "|         0|   22|        0|2023-07-02|              5|\n",
      "|         0|   22|        0|2023-07-01|              7|\n",
      "|         0|   22|        0|2023-07-05|              3|\n",
      "|         0|   22|        0|2023-07-03|              4|\n",
      "|         0|   22|        0|2023-07-10|              4|\n",
      "|         0|   22|        0|2023-07-04|              6|\n",
      "|         0|   22|        0|2023-07-08|              5|\n",
      "|         0|   22|        0|2023-07-03|              9|\n",
      "|         0|   22|        0|2023-07-06|              2|\n",
      "|         0|   22|        0|2023-07-07|              9|\n",
      "|         0|   22|        0|2023-07-09|              5|\n",
      "|         0|   22|        0|2023-07-02|              2|\n",
      "|         0|   22|        0|2023-07-04|              4|\n",
      "+----------+-----+---------+----------+---------------+\n",
      "only showing top 20 rows\n",
      "\n"
     ]
    },
    {
     "name": "stderr",
     "output_type": "stream",
     "text": [
      "                                                                                \r"
     ]
    }
   ],
   "source": [
    "products_sales = products_df.select('product_id', 'price') \\\n",
    "    .join(sales_df.select('product_id', 'seller_id', 'date', 'num_pieces_sold'),\n",
    "          on='product_id', how='inner')\n",
    "products_sales.show()"
   ]
  },
  {
   "cell_type": "markdown",
   "id": "83adf8af-dfde-4fa1-9189-5e025a64c11f",
   "metadata": {},
   "source": [
    "Calculate revenue for each product. "
   ]
  },
  {
   "cell_type": "code",
   "execution_count": 25,
   "id": "0dc44355-7cd3-4c30-8fc3-d05c39264e90",
   "metadata": {},
   "outputs": [
    {
     "name": "stderr",
     "output_type": "stream",
     "text": [
      "[Stage 51:>                                                         (0 + 1) / 1]\r"
     ]
    },
    {
     "name": "stdout",
     "output_type": "stream",
     "text": [
      "+----------+-----+---------+----------+---------------+-------+\n",
      "|product_id|price|seller_id|      date|num_pieces_sold|revenue|\n",
      "+----------+-----+---------+----------+---------------+-------+\n",
      "|         0|   22|        0|2023-07-02|              7|    154|\n",
      "|         0|   22|        0|2023-07-05|              9|    198|\n",
      "|         0|   22|        0|2023-07-05|              7|    154|\n",
      "|         0|   22|        0|2023-07-03|              5|    110|\n",
      "|         0|   22|        0|2023-07-04|              3|     66|\n",
      "|         0|   22|        0|2023-07-03|              1|     22|\n",
      "|         0|   22|        0|2023-07-09|              8|    176|\n",
      "|         0|   22|        0|2023-07-02|              5|    110|\n",
      "|         0|   22|        0|2023-07-01|              7|    154|\n",
      "|         0|   22|        0|2023-07-05|              3|     66|\n",
      "|         0|   22|        0|2023-07-03|              4|     88|\n",
      "|         0|   22|        0|2023-07-10|              4|     88|\n",
      "|         0|   22|        0|2023-07-04|              6|    132|\n",
      "|         0|   22|        0|2023-07-08|              5|    110|\n",
      "|         0|   22|        0|2023-07-03|              9|    198|\n",
      "|         0|   22|        0|2023-07-06|              2|     44|\n",
      "|         0|   22|        0|2023-07-07|              9|    198|\n",
      "|         0|   22|        0|2023-07-09|              5|    110|\n",
      "|         0|   22|        0|2023-07-02|              2|     44|\n",
      "|         0|   22|        0|2023-07-04|              4|     88|\n",
      "+----------+-----+---------+----------+---------------+-------+\n",
      "only showing top 20 rows\n",
      "\n"
     ]
    },
    {
     "name": "stderr",
     "output_type": "stream",
     "text": [
      "                                                                                \r"
     ]
    }
   ],
   "source": [
    "products_sales = products_sales.withColumn('revenue', col('price') * col('num_pieces_sold'))\n",
    "products_sales.show()"
   ]
  },
  {
   "cell_type": "markdown",
   "id": "758c4c7f-261e-46a9-a38f-d604135f9c6b",
   "metadata": {},
   "source": [
    "Let's add sellers names."
   ]
  },
  {
   "cell_type": "code",
   "execution_count": 26,
   "id": "d5fde398-cb48-42e6-8d23-14390fa2aedd",
   "metadata": {},
   "outputs": [
    {
     "name": "stderr",
     "output_type": "stream",
     "text": [
      "[Stage 54:>                                                         (0 + 1) / 1]\r"
     ]
    },
    {
     "name": "stdout",
     "output_type": "stream",
     "text": [
      "+---------+----------+-------+-----------+\n",
      "|seller_id|      date|revenue|seller_name|\n",
      "+---------+----------+-------+-----------+\n",
      "|        0|2023-07-02|    154|   seller_0|\n",
      "|        0|2023-07-05|    198|   seller_0|\n",
      "|        0|2023-07-05|    154|   seller_0|\n",
      "|        0|2023-07-03|    110|   seller_0|\n",
      "|        0|2023-07-04|     66|   seller_0|\n",
      "|        0|2023-07-03|     22|   seller_0|\n",
      "|        0|2023-07-09|    176|   seller_0|\n",
      "|        0|2023-07-02|    110|   seller_0|\n",
      "|        0|2023-07-01|    154|   seller_0|\n",
      "|        0|2023-07-05|     66|   seller_0|\n",
      "|        0|2023-07-03|     88|   seller_0|\n",
      "|        0|2023-07-10|     88|   seller_0|\n",
      "|        0|2023-07-04|    132|   seller_0|\n",
      "|        0|2023-07-08|    110|   seller_0|\n",
      "|        0|2023-07-03|    198|   seller_0|\n",
      "|        0|2023-07-06|     44|   seller_0|\n",
      "|        0|2023-07-07|    198|   seller_0|\n",
      "|        0|2023-07-09|    110|   seller_0|\n",
      "|        0|2023-07-02|     44|   seller_0|\n",
      "|        0|2023-07-04|     88|   seller_0|\n",
      "+---------+----------+-------+-----------+\n",
      "only showing top 20 rows\n",
      "\n"
     ]
    },
    {
     "name": "stderr",
     "output_type": "stream",
     "text": [
      "                                                                                \r"
     ]
    }
   ],
   "source": [
    "sellers_sales = products_sales.select('seller_id', 'date', 'revenue') \\\n",
    "    .join(sellers_df.select('seller_id', 'seller_name'), on='seller_id', how='inner')\n",
    "sellers_sales.show()"
   ]
  },
  {
   "cell_type": "markdown",
   "id": "c4fe2e01-7a40-4389-a9db-509d55d05487",
   "metadata": {},
   "source": [
    "Calculating daily income for each seller. "
   ]
  },
  {
   "cell_type": "code",
   "execution_count": 27,
   "id": "21a186b5-1241-4842-a996-e4d4ddbb7358",
   "metadata": {},
   "outputs": [
    {
     "name": "stderr",
     "output_type": "stream",
     "text": [
      "[Stage 57:=============================>                            (1 + 1) / 2]\r"
     ]
    },
    {
     "name": "stdout",
     "output_type": "stream",
     "text": [
      "+---------+-----------+----------+-----------+\n",
      "|seller_id|seller_name|      date|sum_revenue|\n",
      "+---------+-----------+----------+-----------+\n",
      "|        5|   seller_5|2023-07-04|     481266|\n",
      "|        2|   seller_2|2023-07-03|     445869|\n",
      "|        9|   seller_9|2023-07-06|     460405|\n",
      "|        5|   seller_5|2023-07-10|     443163|\n",
      "|        2|   seller_2|2023-07-08|     452653|\n",
      "|        8|   seller_8|2023-07-02|     449880|\n",
      "|        9|   seller_9|2023-07-03|     472991|\n",
      "|        6|   seller_6|2023-07-08|     469470|\n",
      "|        2|   seller_2|2023-07-04|     469444|\n",
      "|        4|   seller_4|2023-07-03|     478116|\n",
      "|        7|   seller_7|2023-07-02|     454340|\n",
      "|        5|   seller_5|2023-07-03|     436854|\n",
      "|        4|   seller_4|2023-07-01|     441512|\n",
      "|        6|   seller_6|2023-07-03|     490072|\n",
      "|        8|   seller_8|2023-07-01|     461571|\n",
      "|        4|   seller_4|2023-07-08|     474407|\n",
      "|        5|   seller_5|2023-07-02|     451272|\n",
      "|        9|   seller_9|2023-07-07|     472201|\n",
      "|        6|   seller_6|2023-07-06|     426884|\n",
      "|        0|   seller_0|2023-07-10|   23004388|\n",
      "+---------+-----------+----------+-----------+\n",
      "only showing top 20 rows\n",
      "\n"
     ]
    },
    {
     "name": "stderr",
     "output_type": "stream",
     "text": [
      "                                                                                \r"
     ]
    }
   ],
   "source": [
    "daily_sales = sellers_sales.groupBy(['seller_id', 'seller_name', 'date']) \\\n",
    "    .agg({'revenue': 'sum'}).withColumnRenamed('sum(revenue)', 'sum_revenue')\n",
    "daily_sales.show()"
   ]
  },
  {
   "cell_type": "markdown",
   "id": "e53bc108-44d6-48e5-a3ad-46223741204d",
   "metadata": {},
   "source": [
    "Calculating average daily sales by a seller and showing top 3 sellers with the highest average daily income."
   ]
  },
  {
   "cell_type": "code",
   "execution_count": 28,
   "id": "20abd4ad-888c-4e12-bcb8-37984b48c169",
   "metadata": {},
   "outputs": [
    {
     "name": "stderr",
     "output_type": "stream",
     "text": [
      "[Stage 62:=============================>                            (1 + 1) / 2]\r"
     ]
    },
    {
     "name": "stdout",
     "output_type": "stream",
     "text": [
      "+---------+-----------+-----------------+\n",
      "|seller_id|seller_name|avg_daily_revenue|\n",
      "+---------+-----------+-----------------+\n",
      "|        0|   seller_0|     2.29960082E7|\n",
      "|        8|   seller_8|         468926.8|\n",
      "|        3|   seller_3|         466907.3|\n",
      "+---------+-----------+-----------------+\n",
      "\n"
     ]
    },
    {
     "name": "stderr",
     "output_type": "stream",
     "text": [
      "                                                                                \r"
     ]
    }
   ],
   "source": [
    "result_df = daily_sales.groupBy(['seller_id', 'seller_name']) \\\n",
    "    .agg({'sum_revenue': 'mean'}) \\\n",
    "    .withColumnRenamed('avg(sum_revenue)', 'avg_daily_revenue') \\\n",
    "    .orderBy('avg_daily_revenue', ascending=False).limit(3)\n",
    "\n",
    "result_df.show()"
   ]
  },
  {
   "cell_type": "markdown",
   "id": "bfa10bc6-995c-439a-b2e6-386eea3f4d5c",
   "metadata": {},
   "source": [
    "Saving results to a parquet file."
   ]
  },
  {
   "cell_type": "code",
   "execution_count": 29,
   "id": "bf5e6db1-aa39-46d3-8796-789e1c3b18ba",
   "metadata": {},
   "outputs": [
    {
     "name": "stderr",
     "output_type": "stream",
     "text": [
      "                                                                                \r"
     ]
    }
   ],
   "source": [
    "result_df.toPandas().to_parquet('task_4_result.parquet')"
   ]
  },
  {
   "cell_type": "markdown",
   "id": "cc81bfac-f894-4e78-b186-fce99e6644f3",
   "metadata": {},
   "source": [
    "Stopping Spark."
   ]
  },
  {
   "cell_type": "code",
   "execution_count": 30,
   "id": "178f4d1b-8e78-4303-be20-d2cd6e3d1036",
   "metadata": {},
   "outputs": [],
   "source": [
    "spark.stop()"
   ]
  }
 ],
 "metadata": {
  "kernelspec": {
   "display_name": "Python 3 (ipykernel)",
   "language": "python",
   "name": "python3"
  },
  "language_info": {
   "codemirror_mode": {
    "name": "ipython",
    "version": 3
   },
   "file_extension": ".py",
   "mimetype": "text/x-python",
   "name": "python",
   "nbconvert_exporter": "python",
   "pygments_lexer": "ipython3",
   "version": "3.8.10"
  }
 },
 "nbformat": 4,
 "nbformat_minor": 5
}
