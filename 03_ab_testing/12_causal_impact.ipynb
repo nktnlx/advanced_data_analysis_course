{
 "cells": [
  {
   "cell_type": "markdown",
   "id": "e23e1516-6e75-4e85-bf5b-0011204c6bf9",
   "metadata": {},
   "source": [
    "# Causal Impact"
   ]
  },
  {
   "cell_type": "markdown",
   "id": "8ad67dba-80ad-46c5-ade5-7ce6464e9f6c",
   "metadata": {},
   "source": [
    "## Import libraries"
   ]
  },
  {
   "cell_type": "code",
   "execution_count": 1,
   "id": "21bfd5e3-d9e8-4a44-981f-8a6da9866909",
   "metadata": {},
   "outputs": [],
   "source": [
    "#!pip install matplotlib seaborn"
   ]
  },
  {
   "cell_type": "code",
   "execution_count": 2,
   "id": "4d138bda-888f-421e-9184-ea5185bc2b5d",
   "metadata": {},
   "outputs": [],
   "source": [
    "import pandas as pd\n",
    "import numpy as np\n",
    "import matplotlib.pyplot as plt\n",
    "import seaborn as sns\n"
   ]
  },
  {
   "cell_type": "code",
   "execution_count": 3,
   "id": "c4490738-d320-4fd6-b131-75b67212e4b6",
   "metadata": {},
   "outputs": [
    {
     "name": "stdout",
     "output_type": "stream",
     "text": [
      "(datetime.date(2022, 2, 1), datetime.date(2022, 1, 31), 'android', 'f7411212fd0e2523e126cbfdd3f226c211212', '4beb10e1-aeeb-4c52-acd2-ce1ddbc1fc24b10e1', 22, 11, 3, 0, 0, 0, 2, 2, 0, 0, 0, 0, 0, 0)\n"
     ]
    }
   ],
   "source": [
    "from clickhouse_driver import Client\n",
    "\n",
    "\n",
    "user_name = 'hardda_student_a.nikitin-8'\n",
    "pwd = '0ddbfab04207297e7de7f96e697814e152de44e69f9fd4d8d5bdbb6b6107518a'\n",
    "\n",
    "# creating connection ClickHouse\n",
    "client = Client(host='clickhouse.lab.karpov.courses', port=9000,\n",
    "                user=user_name, password=pwd, database='hardda')\n",
    "\n",
    "# checking connection\n",
    "result = client.execute(\"SELECT * FROM hardda.user_dm_events LIMIT 1\")\n",
    "\n",
    "# showing the result\n",
    "for row in result[0:1]:\n",
    "    print(row)"
   ]
  },
  {
   "cell_type": "markdown",
   "id": "b6e6fc11-f7c5-4ada-a6de-eda65591c0aa",
   "metadata": {},
   "source": [
    "## Tasks"
   ]
  },
  {
   "cell_type": "markdown",
   "id": "7c334d62-e699-49c4-bb27-367395721dfd",
   "metadata": {},
   "source": [
    "### Task 1."
   ]
  },
  {
   "cell_type": "markdown",
   "id": "dcb63d57-d2f7-4948-9b43-92b2ac608650",
   "metadata": {},
   "source": [
    " **Write an SQL query to get `event_date`, `platform`, `cnt_add_to_favorites`, `cnt_view_advertisement`, `cnt_display_phone`, `cr` from `user_dm_events` between 2022-02-01 and 2022-07-15.**"
   ]
  },
  {
   "cell_type": "code",
   "execution_count": 4,
   "id": "ecfd8e77-0567-4eac-a56f-554f30e520b6",
   "metadata": {},
   "outputs": [],
   "source": [
    "query = '''\n",
    "SELECT\n",
    "  event_date,\n",
    "  platform,\n",
    "  SUM(cnt_add_to_favorites) AS cnt_fav,\n",
    "  SUM(cnt_view_advertisement) AS cnt_view,\n",
    "  SUM(cnt_display_phone) AS cnt_display_phone\n",
    "FROM\n",
    "  user_dm_events\n",
    "WHERE\n",
    "  event_date BETWEEN '2022-02-01' and '2022-07-15'\n",
    "GROUP BY\n",
    "  event_date,\n",
    "  platform\n",
    "'''"
   ]
  },
  {
   "cell_type": "code",
   "execution_count": 5,
   "id": "79f55eb9-3a10-4e28-8ad7-fc757a3dfc4c",
   "metadata": {},
   "outputs": [],
   "source": [
    "result = client.execute(query)"
   ]
  },
  {
   "cell_type": "code",
   "execution_count": 6,
   "id": "696ddd1c-e229-4578-9a7c-707005ed4af8",
   "metadata": {},
   "outputs": [
    {
     "data": {
      "text/plain": [
       "330"
      ]
     },
     "execution_count": 6,
     "metadata": {},
     "output_type": "execute_result"
    }
   ],
   "source": [
    "len(result)"
   ]
  },
  {
   "cell_type": "code",
   "execution_count": 7,
   "id": "bd243faf-3421-4046-9ab1-c788dc95035e",
   "metadata": {},
   "outputs": [
    {
     "data": {
      "text/html": [
       "<div>\n",
       "<style scoped>\n",
       "    .dataframe tbody tr th:only-of-type {\n",
       "        vertical-align: middle;\n",
       "    }\n",
       "\n",
       "    .dataframe tbody tr th {\n",
       "        vertical-align: top;\n",
       "    }\n",
       "\n",
       "    .dataframe thead th {\n",
       "        text-align: right;\n",
       "    }\n",
       "</style>\n",
       "<table border=\"1\" class=\"dataframe\">\n",
       "  <thead>\n",
       "    <tr style=\"text-align: right;\">\n",
       "      <th></th>\n",
       "      <th>event_date</th>\n",
       "      <th>platform</th>\n",
       "      <th>cnt_fav</th>\n",
       "      <th>cnt_view</th>\n",
       "      <th>cnt_display_phone</th>\n",
       "    </tr>\n",
       "  </thead>\n",
       "  <tbody>\n",
       "    <tr>\n",
       "      <th>0</th>\n",
       "      <td>2022-06-02</td>\n",
       "      <td>android</td>\n",
       "      <td>42920</td>\n",
       "      <td>1475717</td>\n",
       "      <td>34164</td>\n",
       "    </tr>\n",
       "    <tr>\n",
       "      <th>1</th>\n",
       "      <td>2022-06-28</td>\n",
       "      <td>ios</td>\n",
       "      <td>19621</td>\n",
       "      <td>516822</td>\n",
       "      <td>12483</td>\n",
       "    </tr>\n",
       "    <tr>\n",
       "      <th>2</th>\n",
       "      <td>2022-04-18</td>\n",
       "      <td>ios</td>\n",
       "      <td>22804</td>\n",
       "      <td>633205</td>\n",
       "      <td>14099</td>\n",
       "    </tr>\n",
       "    <tr>\n",
       "      <th>3</th>\n",
       "      <td>2022-02-19</td>\n",
       "      <td>ios</td>\n",
       "      <td>17286</td>\n",
       "      <td>507738</td>\n",
       "      <td>11343</td>\n",
       "    </tr>\n",
       "    <tr>\n",
       "      <th>4</th>\n",
       "      <td>2022-03-30</td>\n",
       "      <td>android</td>\n",
       "      <td>50196</td>\n",
       "      <td>1775406</td>\n",
       "      <td>43112</td>\n",
       "    </tr>\n",
       "    <tr>\n",
       "      <th>...</th>\n",
       "      <td>...</td>\n",
       "      <td>...</td>\n",
       "      <td>...</td>\n",
       "      <td>...</td>\n",
       "      <td>...</td>\n",
       "    </tr>\n",
       "    <tr>\n",
       "      <th>325</th>\n",
       "      <td>2022-03-27</td>\n",
       "      <td>android</td>\n",
       "      <td>55435</td>\n",
       "      <td>1992935</td>\n",
       "      <td>44901</td>\n",
       "    </tr>\n",
       "    <tr>\n",
       "      <th>326</th>\n",
       "      <td>2022-04-23</td>\n",
       "      <td>ios</td>\n",
       "      <td>20434</td>\n",
       "      <td>582899</td>\n",
       "      <td>12763</td>\n",
       "    </tr>\n",
       "    <tr>\n",
       "      <th>327</th>\n",
       "      <td>2022-06-23</td>\n",
       "      <td>ios</td>\n",
       "      <td>18700</td>\n",
       "      <td>488290</td>\n",
       "      <td>12370</td>\n",
       "    </tr>\n",
       "    <tr>\n",
       "      <th>328</th>\n",
       "      <td>2022-05-30</td>\n",
       "      <td>android</td>\n",
       "      <td>43847</td>\n",
       "      <td>1496826</td>\n",
       "      <td>34888</td>\n",
       "    </tr>\n",
       "    <tr>\n",
       "      <th>329</th>\n",
       "      <td>2022-02-16</td>\n",
       "      <td>ios</td>\n",
       "      <td>18000</td>\n",
       "      <td>538275</td>\n",
       "      <td>12695</td>\n",
       "    </tr>\n",
       "  </tbody>\n",
       "</table>\n",
       "<p>330 rows × 5 columns</p>\n",
       "</div>"
      ],
      "text/plain": [
       "     event_date platform  cnt_fav  cnt_view  cnt_display_phone\n",
       "0    2022-06-02  android    42920   1475717              34164\n",
       "1    2022-06-28      ios    19621    516822              12483\n",
       "2    2022-04-18      ios    22804    633205              14099\n",
       "3    2022-02-19      ios    17286    507738              11343\n",
       "4    2022-03-30  android    50196   1775406              43112\n",
       "..          ...      ...      ...       ...                ...\n",
       "325  2022-03-27  android    55435   1992935              44901\n",
       "326  2022-04-23      ios    20434    582899              12763\n",
       "327  2022-06-23      ios    18700    488290              12370\n",
       "328  2022-05-30  android    43847   1496826              34888\n",
       "329  2022-02-16      ios    18000    538275              12695\n",
       "\n",
       "[330 rows x 5 columns]"
      ]
     },
     "execution_count": 7,
     "metadata": {},
     "output_type": "execute_result"
    }
   ],
   "source": [
    "df = pd.DataFrame(result, columns=['event_date', 'platform',\n",
    "                                   'cnt_fav', 'cnt_view', 'cnt_display_phone'])\n",
    "\n",
    "df"
   ]
  },
  {
   "cell_type": "code",
   "execution_count": 8,
   "id": "e95035ac-c272-43ad-80c9-104287bc87a0",
   "metadata": {},
   "outputs": [
    {
     "name": "stdout",
     "output_type": "stream",
     "text": [
      "<class 'pandas.core.frame.DataFrame'>\n",
      "RangeIndex: 330 entries, 0 to 329\n",
      "Data columns (total 5 columns):\n",
      " #   Column             Non-Null Count  Dtype \n",
      "---  ------             --------------  ----- \n",
      " 0   event_date         330 non-null    object\n",
      " 1   platform           330 non-null    object\n",
      " 2   cnt_fav            330 non-null    int64 \n",
      " 3   cnt_view           330 non-null    int64 \n",
      " 4   cnt_display_phone  330 non-null    int64 \n",
      "dtypes: int64(3), object(2)\n",
      "memory usage: 13.0+ KB\n"
     ]
    }
   ],
   "source": [
    "df.info()"
   ]
  },
  {
   "cell_type": "code",
   "execution_count": 9,
   "id": "9090da25-50b3-4740-8381-0d2ad9d12c2e",
   "metadata": {},
   "outputs": [],
   "source": [
    "df['event_date'] = pd.to_datetime(df['event_date'], format='%Y-%m-%d')"
   ]
  },
  {
   "cell_type": "code",
   "execution_count": 10,
   "id": "59ef5b9c-b87d-418a-8648-e2dbfed1089c",
   "metadata": {},
   "outputs": [],
   "source": [
    "df['cr'] = df['cnt_fav'] / df['cnt_view']\n",
    "df = df.sort_values(['event_date', 'platform'])\n",
    "df.reset_index(drop=True, inplace=True)"
   ]
  },
  {
   "cell_type": "code",
   "execution_count": 11,
   "id": "415e0b66-254f-418f-b4ab-85917964ea78",
   "metadata": {},
   "outputs": [
    {
     "data": {
      "text/html": [
       "<div>\n",
       "<style scoped>\n",
       "    .dataframe tbody tr th:only-of-type {\n",
       "        vertical-align: middle;\n",
       "    }\n",
       "\n",
       "    .dataframe tbody tr th {\n",
       "        vertical-align: top;\n",
       "    }\n",
       "\n",
       "    .dataframe thead th {\n",
       "        text-align: right;\n",
       "    }\n",
       "</style>\n",
       "<table border=\"1\" class=\"dataframe\">\n",
       "  <thead>\n",
       "    <tr style=\"text-align: right;\">\n",
       "      <th></th>\n",
       "      <th>event_date</th>\n",
       "      <th>platform</th>\n",
       "      <th>cnt_fav</th>\n",
       "      <th>cnt_view</th>\n",
       "      <th>cnt_display_phone</th>\n",
       "      <th>cr</th>\n",
       "    </tr>\n",
       "  </thead>\n",
       "  <tbody>\n",
       "    <tr>\n",
       "      <th>0</th>\n",
       "      <td>2022-02-01</td>\n",
       "      <td>android</td>\n",
       "      <td>49821</td>\n",
       "      <td>1946760</td>\n",
       "      <td>41451</td>\n",
       "      <td>0.025592</td>\n",
       "    </tr>\n",
       "    <tr>\n",
       "      <th>1</th>\n",
       "      <td>2022-02-01</td>\n",
       "      <td>ios</td>\n",
       "      <td>18210</td>\n",
       "      <td>560769</td>\n",
       "      <td>12221</td>\n",
       "      <td>0.032473</td>\n",
       "    </tr>\n",
       "    <tr>\n",
       "      <th>2</th>\n",
       "      <td>2022-02-02</td>\n",
       "      <td>android</td>\n",
       "      <td>49712</td>\n",
       "      <td>1936104</td>\n",
       "      <td>41069</td>\n",
       "      <td>0.025676</td>\n",
       "    </tr>\n",
       "    <tr>\n",
       "      <th>3</th>\n",
       "      <td>2022-02-02</td>\n",
       "      <td>ios</td>\n",
       "      <td>18113</td>\n",
       "      <td>558109</td>\n",
       "      <td>12456</td>\n",
       "      <td>0.032454</td>\n",
       "    </tr>\n",
       "    <tr>\n",
       "      <th>4</th>\n",
       "      <td>2022-02-03</td>\n",
       "      <td>android</td>\n",
       "      <td>49597</td>\n",
       "      <td>1890293</td>\n",
       "      <td>41462</td>\n",
       "      <td>0.026238</td>\n",
       "    </tr>\n",
       "    <tr>\n",
       "      <th>...</th>\n",
       "      <td>...</td>\n",
       "      <td>...</td>\n",
       "      <td>...</td>\n",
       "      <td>...</td>\n",
       "      <td>...</td>\n",
       "      <td>...</td>\n",
       "    </tr>\n",
       "    <tr>\n",
       "      <th>325</th>\n",
       "      <td>2022-07-13</td>\n",
       "      <td>ios</td>\n",
       "      <td>20192</td>\n",
       "      <td>530259</td>\n",
       "      <td>12482</td>\n",
       "      <td>0.038080</td>\n",
       "    </tr>\n",
       "    <tr>\n",
       "      <th>326</th>\n",
       "      <td>2022-07-14</td>\n",
       "      <td>android</td>\n",
       "      <td>42352</td>\n",
       "      <td>1450645</td>\n",
       "      <td>35916</td>\n",
       "      <td>0.029195</td>\n",
       "    </tr>\n",
       "    <tr>\n",
       "      <th>327</th>\n",
       "      <td>2022-07-14</td>\n",
       "      <td>ios</td>\n",
       "      <td>20307</td>\n",
       "      <td>526506</td>\n",
       "      <td>13108</td>\n",
       "      <td>0.038569</td>\n",
       "    </tr>\n",
       "    <tr>\n",
       "      <th>328</th>\n",
       "      <td>2022-07-15</td>\n",
       "      <td>android</td>\n",
       "      <td>39781</td>\n",
       "      <td>1374144</td>\n",
       "      <td>32537</td>\n",
       "      <td>0.028950</td>\n",
       "    </tr>\n",
       "    <tr>\n",
       "      <th>329</th>\n",
       "      <td>2022-07-15</td>\n",
       "      <td>ios</td>\n",
       "      <td>19023</td>\n",
       "      <td>492591</td>\n",
       "      <td>12428</td>\n",
       "      <td>0.038618</td>\n",
       "    </tr>\n",
       "  </tbody>\n",
       "</table>\n",
       "<p>330 rows × 6 columns</p>\n",
       "</div>"
      ],
      "text/plain": [
       "    event_date platform  cnt_fav  cnt_view  cnt_display_phone        cr\n",
       "0   2022-02-01  android    49821   1946760              41451  0.025592\n",
       "1   2022-02-01      ios    18210    560769              12221  0.032473\n",
       "2   2022-02-02  android    49712   1936104              41069  0.025676\n",
       "3   2022-02-02      ios    18113    558109              12456  0.032454\n",
       "4   2022-02-03  android    49597   1890293              41462  0.026238\n",
       "..         ...      ...      ...       ...                ...       ...\n",
       "325 2022-07-13      ios    20192    530259              12482  0.038080\n",
       "326 2022-07-14  android    42352   1450645              35916  0.029195\n",
       "327 2022-07-14      ios    20307    526506              13108  0.038569\n",
       "328 2022-07-15  android    39781   1374144              32537  0.028950\n",
       "329 2022-07-15      ios    19023    492591              12428  0.038618\n",
       "\n",
       "[330 rows x 6 columns]"
      ]
     },
     "execution_count": 11,
     "metadata": {},
     "output_type": "execute_result"
    }
   ],
   "source": [
    "df"
   ]
  },
  {
   "cell_type": "markdown",
   "id": "92137d74-b31f-4aba-a1b5-d9164be17f5b",
   "metadata": {
    "tags": []
   },
   "source": [
    "### Task 2.  "
   ]
  },
  {
   "cell_type": "markdown",
   "id": "830049b9-f37d-4c47-82b3-0e95d7db9ed3",
   "metadata": {},
   "source": [
    "**Build a graph of the dynamics of the `cr` metric by platform.** "
   ]
  },
  {
   "cell_type": "code",
   "execution_count": 12,
   "id": "6de7b18b-5279-49cb-b61a-34305036a99b",
   "metadata": {},
   "outputs": [
    {
     "data": {
      "image/png": "[encoded data removed]",
      "text/plain": [
       "<Figure size 1152x648 with 1 Axes>"
      ]
     },
     "metadata": {
      "needs_background": "light"
     },
     "output_type": "display_data"
    }
   ],
   "source": [
    "plt.figure(figsize=(16,9))\n",
    "\n",
    "sns.lineplot(df, x='event_date', y='cr', hue='platform')\n",
    "plt.axvline(pd.to_datetime('2022-07-01', format='%Y-%m-%d'), color='red', linestyle='dashed', label='experiment_start')\n",
    "plt.legend()\n",
    "plt.title('CR for iOS and Android');"
   ]
  },
  {
   "cell_type": "markdown",
   "id": "7b1831e5-9629-45ba-8320-429c58a760d9",
   "metadata": {},
   "source": [
    "### Task 3. "
   ]
  },
  {
   "cell_type": "markdown",
   "id": "41913718-3c9d-42cb-b61d-72ebdc7edad3",
   "metadata": {},
   "source": [
    "**Specify the average conversion rate for the target metric in the IOS platform ('cr_ios') by days before the update (less than '2022-07-01').** "
   ]
  },
  {
   "cell_type": "code",
   "execution_count": 13,
   "id": "51b3b18c-960a-440f-83ee-8da5460ec779",
   "metadata": {},
   "outputs": [
    {
     "data": {
      "text/plain": [
       "0.035519276129212636"
      ]
     },
     "execution_count": 13,
     "metadata": {},
     "output_type": "execute_result"
    }
   ],
   "source": [
    "df[(df['platform'] == 'ios') & (df['event_date'] < pd.to_datetime('2022-07-01', format='%Y-%m-%d'))].cr.mean()"
   ]
  },
  {
   "cell_type": "markdown",
   "id": "6cf94e10-2a9b-4ab9-929d-858de8ce875b",
   "metadata": {},
   "source": [
    "### Task 4. "
   ]
  },
  {
   "cell_type": "markdown",
   "id": "a92b908a-9905-4287-b083-4b1954baf890",
   "metadata": {},
   "source": [
    "**Specify the average conversion rate for the target metric in the IOS platform ('cr_ios') by days after the update (>= '2022-07-01').**"
   ]
  },
  {
   "cell_type": "code",
   "execution_count": 14,
   "id": "cb449119-9d7c-4c13-a05a-24fb2f6b9b41",
   "metadata": {},
   "outputs": [
    {
     "data": {
      "text/plain": [
       "0.03804823394818289"
      ]
     },
     "execution_count": 14,
     "metadata": {},
     "output_type": "execute_result"
    }
   ],
   "source": [
    "df[(df['platform'] == 'ios') & (df['event_date'] >= pd.to_datetime('2022-07-01', format='%Y-%m-%d'))].cr.mean()"
   ]
  },
  {
   "cell_type": "markdown",
   "id": "0e654218-672d-41a9-807a-29295d77ad9b",
   "metadata": {},
   "source": [
    "### Task 5. "
   ]
  },
  {
   "cell_type": "markdown",
   "id": "8f8d1e13-fe50-4e91-b084-6a9f6df0806b",
   "metadata": {},
   "source": [
    "tbc.."
   ]
  },
  {
   "cell_type": "code",
   "execution_count": null,
   "id": "bb161b32-28b5-4840-8798-ff2e870bb2ef",
   "metadata": {},
   "outputs": [],
   "source": []
  },
  {
   "cell_type": "code",
   "execution_count": null,
   "id": "6e920973-53c5-4955-b9c8-829a7f2ea576",
   "metadata": {},
   "outputs": [],
   "source": []
  },
  {
   "cell_type": "code",
   "execution_count": null,
   "id": "e303445c-6a74-4b39-b11e-936c75eb4ec1",
   "metadata": {},
   "outputs": [],
   "source": []
  },
  {
   "cell_type": "code",
   "execution_count": null,
   "id": "6af8d947-ae4d-4f39-9637-4c848bad38aa",
   "metadata": {},
   "outputs": [],
   "source": []
  },
  {
   "cell_type": "code",
   "execution_count": null,
   "id": "91f3e324-9af8-4c5a-bd97-b467022abad5",
   "metadata": {},
   "outputs": [],
   "source": []
  },
  {
   "cell_type": "code",
   "execution_count": null,
   "id": "578425f6-58df-47b2-99d4-6f6b9c975671",
   "metadata": {},
   "outputs": [],
   "source": []
  },
  {
   "cell_type": "code",
   "execution_count": null,
   "id": "a1d2067d-53af-42eb-8533-7040b3776a54",
   "metadata": {},
   "outputs": [],
   "source": []
  },
  {
   "cell_type": "code",
   "execution_count": null,
   "id": "4c3d53da-d6e3-4d9c-b8f9-82877870481b",
   "metadata": {},
   "outputs": [],
   "source": []
  },
  {
   "cell_type": "code",
   "execution_count": null,
   "id": "5e02730e-7a33-476f-943d-93c4658bd60e",
   "metadata": {},
   "outputs": [],
   "source": []
  },
  {
   "cell_type": "code",
   "execution_count": null,
   "id": "e52d4493-bfdc-4fd5-b824-1c78aa68a947",
   "metadata": {},
   "outputs": [],
   "source": []
  },
  {
   "cell_type": "code",
   "execution_count": null,
   "id": "53778078-c401-4e72-909a-55f9edc70846",
   "metadata": {},
   "outputs": [],
   "source": []
  }
 ],
 "metadata": {
  "kernelspec": {
   "display_name": "Python 3 (ipykernel)",
   "language": "python",
   "name": "python3"
  },
  "language_info": {
   "codemirror_mode": {
    "name": "ipython",
    "version": 3
   },
   "file_extension": ".py",
   "mimetype": "text/x-python",
   "name": "python",
   "nbconvert_exporter": "python",
   "pygments_lexer": "ipython3",
   "version": "3.8.10"
  }
 },
 "nbformat": 4,
 "nbformat_minor": 5
}
