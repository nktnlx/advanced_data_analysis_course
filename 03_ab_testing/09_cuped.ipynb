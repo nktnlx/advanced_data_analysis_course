{
 "cells": [
  {
   "cell_type": "markdown",
   "id": "e23e1516-6e75-4e85-bf5b-0011204c6bf9",
   "metadata": {},
   "source": [
    "# CUPED"
   ]
  },
  {
   "cell_type": "markdown",
   "id": "8ad67dba-80ad-46c5-ade5-7ce6464e9f6c",
   "metadata": {},
   "source": [
    "## Import libraries"
   ]
  },
  {
   "cell_type": "code",
   "execution_count": 1,
   "id": "21bfd5e3-d9e8-4a44-981f-8a6da9866909",
   "metadata": {},
   "outputs": [],
   "source": [
    "#!pip install scipy statsmodels"
   ]
  },
  {
   "cell_type": "code",
   "execution_count": 2,
   "id": "4d138bda-888f-421e-9184-ea5185bc2b5d",
   "metadata": {},
   "outputs": [],
   "source": [
    "import pandas as pd\n",
    "import numpy as np\n",
    "from scipy.stats import ttest_ind\n",
    "from statsmodels.stats.power import tt_ind_solve_power"
   ]
  },
  {
   "cell_type": "markdown",
   "id": "9dc27987-c798-433d-b9f5-7182d13d8674",
   "metadata": {},
   "source": [
    "## Importing data"
   ]
  },
  {
   "cell_type": "code",
   "execution_count": 3,
   "id": "68e7b771-ef15-4ca8-9001-3980c0420c87",
   "metadata": {},
   "outputs": [],
   "source": [
    "df = pd.read_csv('cuped_homework.csv')"
   ]
  },
  {
   "cell_type": "code",
   "execution_count": 4,
   "id": "37421bbc-05a3-4cc3-806c-f138e899e2f6",
   "metadata": {},
   "outputs": [
    {
     "data": {
      "text/html": [
       "<div>\n",
       "<style scoped>\n",
       "    .dataframe tbody tr th:only-of-type {\n",
       "        vertical-align: middle;\n",
       "    }\n",
       "\n",
       "    .dataframe tbody tr th {\n",
       "        vertical-align: top;\n",
       "    }\n",
       "\n",
       "    .dataframe thead th {\n",
       "        text-align: right;\n",
       "    }\n",
       "</style>\n",
       "<table border=\"1\" class=\"dataframe\">\n",
       "  <thead>\n",
       "    <tr style=\"text-align: right;\">\n",
       "      <th></th>\n",
       "      <th>post_ARPPU</th>\n",
       "      <th>pre_ARPPU</th>\n",
       "      <th>group</th>\n",
       "    </tr>\n",
       "  </thead>\n",
       "  <tbody>\n",
       "    <tr>\n",
       "      <th>0</th>\n",
       "      <td>660.0</td>\n",
       "      <td>595.0</td>\n",
       "      <td>A</td>\n",
       "    </tr>\n",
       "    <tr>\n",
       "      <th>1</th>\n",
       "      <td>540.0</td>\n",
       "      <td>621.0</td>\n",
       "      <td>A</td>\n",
       "    </tr>\n",
       "    <tr>\n",
       "      <th>2</th>\n",
       "      <td>863.0</td>\n",
       "      <td>782.0</td>\n",
       "      <td>A</td>\n",
       "    </tr>\n",
       "    <tr>\n",
       "      <th>3</th>\n",
       "      <td>431.0</td>\n",
       "      <td>567.0</td>\n",
       "      <td>A</td>\n",
       "    </tr>\n",
       "    <tr>\n",
       "      <th>4</th>\n",
       "      <td>434.0</td>\n",
       "      <td>473.0</td>\n",
       "      <td>A</td>\n",
       "    </tr>\n",
       "    <tr>\n",
       "      <th>...</th>\n",
       "      <td>...</td>\n",
       "      <td>...</td>\n",
       "      <td>...</td>\n",
       "    </tr>\n",
       "    <tr>\n",
       "      <th>4455</th>\n",
       "      <td>628.0</td>\n",
       "      <td>679.0</td>\n",
       "      <td>B</td>\n",
       "    </tr>\n",
       "    <tr>\n",
       "      <th>4456</th>\n",
       "      <td>758.0</td>\n",
       "      <td>634.0</td>\n",
       "      <td>B</td>\n",
       "    </tr>\n",
       "    <tr>\n",
       "      <th>4457</th>\n",
       "      <td>586.0</td>\n",
       "      <td>612.0</td>\n",
       "      <td>B</td>\n",
       "    </tr>\n",
       "    <tr>\n",
       "      <th>4458</th>\n",
       "      <td>698.0</td>\n",
       "      <td>791.0</td>\n",
       "      <td>B</td>\n",
       "    </tr>\n",
       "    <tr>\n",
       "      <th>4459</th>\n",
       "      <td>664.0</td>\n",
       "      <td>686.0</td>\n",
       "      <td>B</td>\n",
       "    </tr>\n",
       "  </tbody>\n",
       "</table>\n",
       "<p>4460 rows × 3 columns</p>\n",
       "</div>"
      ],
      "text/plain": [
       "      post_ARPPU  pre_ARPPU group\n",
       "0          660.0      595.0     A\n",
       "1          540.0      621.0     A\n",
       "2          863.0      782.0     A\n",
       "3          431.0      567.0     A\n",
       "4          434.0      473.0     A\n",
       "...          ...        ...   ...\n",
       "4455       628.0      679.0     B\n",
       "4456       758.0      634.0     B\n",
       "4457       586.0      612.0     B\n",
       "4458       698.0      791.0     B\n",
       "4459       664.0      686.0     B\n",
       "\n",
       "[4460 rows x 3 columns]"
      ]
     },
     "execution_count": 4,
     "metadata": {},
     "output_type": "execute_result"
    }
   ],
   "source": [
    "df"
   ]
  },
  {
   "cell_type": "code",
   "execution_count": 5,
   "id": "2d960d86-dac8-44c7-a6d2-7eb98ab48db3",
   "metadata": {},
   "outputs": [
    {
     "name": "stdout",
     "output_type": "stream",
     "text": [
      "<class 'pandas.core.frame.DataFrame'>\n",
      "RangeIndex: 4460 entries, 0 to 4459\n",
      "Data columns (total 3 columns):\n",
      " #   Column      Non-Null Count  Dtype  \n",
      "---  ------      --------------  -----  \n",
      " 0   post_ARPPU  4460 non-null   float64\n",
      " 1   pre_ARPPU   3867 non-null   float64\n",
      " 2   group       4460 non-null   object \n",
      "dtypes: float64(2), object(1)\n",
      "memory usage: 104.7+ KB\n"
     ]
    }
   ],
   "source": [
    "df.info()"
   ]
  },
  {
   "cell_type": "code",
   "execution_count": 6,
   "id": "6ca075e4-0029-4eb3-815e-909ab640b03c",
   "metadata": {},
   "outputs": [
    {
     "data": {
      "text/plain": [
       "B    2251\n",
       "A    2209\n",
       "Name: group, dtype: int64"
      ]
     },
     "execution_count": 6,
     "metadata": {},
     "output_type": "execute_result"
    }
   ],
   "source": [
    "df.group.value_counts()"
   ]
  },
  {
   "cell_type": "markdown",
   "id": "b6e6fc11-f7c5-4ada-a6de-eda65591c0aa",
   "metadata": {},
   "source": [
    "## Tasks"
   ]
  },
  {
   "cell_type": "markdown",
   "id": "7c334d62-e699-49c4-bb27-367395721dfd",
   "metadata": {},
   "source": [
    "### Task 1."
   ]
  },
  {
   "cell_type": "markdown",
   "id": "dcb63d57-d2f7-4948-9b43-92b2ac608650",
   "metadata": {},
   "source": [
    " **Find an absolute uplift.**"
   ]
  },
  {
   "cell_type": "code",
   "execution_count": 7,
   "id": "904891c1-eaed-4ad2-ae65-bbc46570878b",
   "metadata": {},
   "outputs": [],
   "source": [
    "a_data = df[df['group'] == 'A'].post_ARPPU\n",
    "b_data = df[df['group'] == 'B'].post_ARPPU"
   ]
  },
  {
   "cell_type": "code",
   "execution_count": 8,
   "id": "f2f6c93b-2a70-4db7-968a-05b081477230",
   "metadata": {},
   "outputs": [
    {
     "data": {
      "text/plain": [
       "5.355852506777865"
      ]
     },
     "execution_count": 8,
     "metadata": {},
     "output_type": "execute_result"
    }
   ],
   "source": [
    "b_data.mean() - a_data.mean()"
   ]
  },
  {
   "cell_type": "markdown",
   "id": "92137d74-b31f-4aba-a1b5-d9164be17f5b",
   "metadata": {
    "tags": []
   },
   "source": [
    "### Task 2.  "
   ]
  },
  {
   "cell_type": "markdown",
   "id": "830049b9-f37d-4c47-82b3-0e95d7db9ed3",
   "metadata": {},
   "source": [
    "**What is Cohens D effect size?** "
   ]
  },
  {
   "cell_type": "code",
   "execution_count": 9,
   "id": "f055a2b8-69e2-4429-b4b8-4833150714f6",
   "metadata": {},
   "outputs": [],
   "source": [
    "uplift = b_data.mean() - a_data.mean()\n",
    "std = df[df['group'] == 'A'].pre_ARPPU.std()"
   ]
  },
  {
   "cell_type": "code",
   "execution_count": 10,
   "id": "28754c2a-363a-49c6-a964-8030cb163ebf",
   "metadata": {},
   "outputs": [
    {
     "data": {
      "text/plain": [
       "0.05415716452599449"
      ]
     },
     "execution_count": 10,
     "metadata": {},
     "output_type": "execute_result"
    }
   ],
   "source": [
    "uplift / std"
   ]
  },
  {
   "cell_type": "markdown",
   "id": "7b1831e5-9629-45ba-8320-429c58a760d9",
   "metadata": {},
   "source": [
    "### Task 3. "
   ]
  },
  {
   "cell_type": "markdown",
   "id": "41913718-3c9d-42cb-b61d-72ebdc7edad3",
   "metadata": {},
   "source": [
    "**Calculate p-value (use post-data t-test).** "
   ]
  },
  {
   "cell_type": "code",
   "execution_count": 11,
   "id": "43886ee0-7c52-4e37-b418-88da5ac90d37",
   "metadata": {},
   "outputs": [
    {
     "data": {
      "text/plain": [
       "Ttest_indResult(statistic=-1.7845807593187066, pvalue=0.07439732682147848)"
      ]
     },
     "execution_count": 11,
     "metadata": {},
     "output_type": "execute_result"
    }
   ],
   "source": [
    "ttest_ind(a_data, b_data)"
   ]
  },
  {
   "cell_type": "markdown",
   "id": "6cf94e10-2a9b-4ab9-929d-858de8ce875b",
   "metadata": {},
   "source": [
    "### Task 4. "
   ]
  },
  {
   "cell_type": "markdown",
   "id": "a92b908a-9905-4287-b083-4b1954baf890",
   "metadata": {},
   "source": [
    "**Find percentage of Null values in pre-data.**"
   ]
  },
  {
   "cell_type": "code",
   "execution_count": 12,
   "id": "c49be367-8f9c-4691-bcc9-6e78432a02fe",
   "metadata": {},
   "outputs": [
    {
     "data": {
      "text/plain": [
       "0.1329596412556054"
      ]
     },
     "execution_count": 12,
     "metadata": {},
     "output_type": "execute_result"
    }
   ],
   "source": [
    "df.pre_ARPPU.isna().sum() / df.shape[0]"
   ]
  },
  {
   "cell_type": "markdown",
   "id": "affc0c80-0c47-4710-bafd-7419662b7109",
   "metadata": {},
   "source": [
    "### Task 5. "
   ]
  },
  {
   "cell_type": "markdown",
   "id": "06487704-edb2-443a-a946-6d91ba6894e2",
   "metadata": {},
   "source": [
    "**Calculate p-value (use CUPED t-test).**"
   ]
  },
  {
   "cell_type": "markdown",
   "id": "ffdff9b6-3382-4a2f-a8e7-fc7cd5036947",
   "metadata": {},
   "source": [
    "Filling missing values with a mean pre_ARPPU value. "
   ]
  },
  {
   "cell_type": "code",
   "execution_count": 13,
   "id": "a3f6b2d2-2119-44bd-970d-ff082e8fdd66",
   "metadata": {},
   "outputs": [],
   "source": [
    "df.fillna(df.pre_ARPPU.mean(), inplace=True)"
   ]
  },
  {
   "cell_type": "code",
   "execution_count": 14,
   "id": "2f395fae-609f-4c66-bfa6-60f49f7babd1",
   "metadata": {},
   "outputs": [
    {
     "data": {
      "text/plain": [
       "0"
      ]
     },
     "execution_count": 14,
     "metadata": {},
     "output_type": "execute_result"
    }
   ],
   "source": [
    "df.pre_ARPPU.isna().sum()"
   ]
  },
  {
   "cell_type": "markdown",
   "id": "827c3508-14ec-4abd-9f72-2166a4d130f5",
   "metadata": {},
   "source": [
    "Functions to calculate t-test CUPED. "
   ]
  },
  {
   "cell_type": "code",
   "execution_count": 15,
   "id": "43225b39-fe05-4b4b-af09-6fd429edd6c2",
   "metadata": {},
   "outputs": [],
   "source": [
    "def calculate_theta_for_test(control_pre, control_post, test_pre, test_post):\n",
    "    '''Calculates Theta for CUPED'''\n",
    "    theta = (np.cov(control_post, control_pre)[0, 1] + np.cov(test_post, test_pre)[0, 1]) /\\\n",
    "            (np.var(control_pre) + np.var(test_pre))\n",
    "    return theta"
   ]
  },
  {
   "cell_type": "code",
   "execution_count": 16,
   "id": "1b27ae89-814b-439d-adb7-300ebc36b194",
   "metadata": {},
   "outputs": [],
   "source": [
    "def get_cuped_ttest(control_pre, control_post, test_pre, test_post):\n",
    "    '''Calculating CUPED t-test using pre- and post-data. \n",
    "    return - t_stat, p_value'''\n",
    "    \n",
    "    theta = calculate_theta_for_test(control_pre, control_post, test_pre, test_post)\n",
    "\n",
    "    control_cuped = control_post - theta * control_pre\n",
    "    test_cuped = test_post - theta * test_pre\n",
    "    \n",
    "    results = ttest_ind(control_cuped, test_cuped)\n",
    "    \n",
    "    return results"
   ]
  },
  {
   "cell_type": "markdown",
   "id": "56f50f1d-f52d-4475-b091-8cfe9b886c9e",
   "metadata": {},
   "source": [
    "Conducting CUPED t-test. "
   ]
  },
  {
   "cell_type": "code",
   "execution_count": 17,
   "id": "7bde38aa-c751-4f4c-b656-d9720da93bea",
   "metadata": {},
   "outputs": [],
   "source": [
    "a_data_pre = df[df['group'] == 'A'].pre_ARPPU\n",
    "b_data_pre = df[df['group'] == 'B'].pre_ARPPU"
   ]
  },
  {
   "cell_type": "code",
   "execution_count": 18,
   "id": "14cc93f4-1485-4e4d-9a4b-da74adabe82c",
   "metadata": {},
   "outputs": [
    {
     "data": {
      "text/plain": [
       "Ttest_indResult(statistic=-2.149448579836037, pvalue=0.03165251817922768)"
      ]
     },
     "execution_count": 18,
     "metadata": {},
     "output_type": "execute_result"
    }
   ],
   "source": [
    "get_cuped_ttest(a_data_pre, a_data, b_data_pre, b_data)"
   ]
  },
  {
   "cell_type": "markdown",
   "id": "0c780b8d-edf5-444f-a06b-108b86e8a2a0",
   "metadata": {},
   "source": [
    "### Task 6. "
   ]
  },
  {
   "cell_type": "markdown",
   "id": "eadd9eb9-75fd-46f9-9bf0-a4daa4e7ea1f",
   "metadata": {},
   "source": [
    "**What will be Theta value on pre-pre data?**"
   ]
  },
  {
   "cell_type": "code",
   "execution_count": 19,
   "id": "b76e6c22-861c-4518-8961-f6717c0c7cef",
   "metadata": {},
   "outputs": [],
   "source": [
    "df = pd.read_csv('cuped_homework_pre_pre_data.csv')"
   ]
  },
  {
   "cell_type": "code",
   "execution_count": 20,
   "id": "e9b149e8-221d-4e83-8003-989cdef92497",
   "metadata": {},
   "outputs": [
    {
     "name": "stdout",
     "output_type": "stream",
     "text": [
      "<class 'pandas.core.frame.DataFrame'>\n",
      "RangeIndex: 6510 entries, 0 to 6509\n",
      "Data columns (total 2 columns):\n",
      " #   Column      Non-Null Count  Dtype  \n",
      "---  ------      --------------  -----  \n",
      " 0   post_ARPPU  6510 non-null   float64\n",
      " 1   pre_ARPPU   5650 non-null   float64\n",
      "dtypes: float64(2)\n",
      "memory usage: 101.8 KB\n"
     ]
    }
   ],
   "source": [
    "df.info()"
   ]
  },
  {
   "cell_type": "code",
   "execution_count": 21,
   "id": "59cec1f5-cd86-4d19-9e14-8ab614555eb8",
   "metadata": {},
   "outputs": [],
   "source": [
    "df.fillna(df.pre_ARPPU.mean(), inplace=True)"
   ]
  },
  {
   "cell_type": "code",
   "execution_count": 22,
   "id": "27c295b9-d65e-4895-aa9e-d96ab0cc0ea9",
   "metadata": {},
   "outputs": [
    {
     "data": {
      "text/plain": [
       "0"
      ]
     },
     "execution_count": 22,
     "metadata": {},
     "output_type": "execute_result"
    }
   ],
   "source": [
    "df.pre_ARPPU.isna().sum()"
   ]
  },
  {
   "cell_type": "code",
   "execution_count": 23,
   "id": "e1d659e3-9135-4a2d-8ab1-2749523ba74f",
   "metadata": {},
   "outputs": [],
   "source": [
    "a_data_pre = df.pre_ARPPU\n",
    "b_data_pre = df.pre_ARPPU"
   ]
  },
  {
   "cell_type": "code",
   "execution_count": 24,
   "id": "511d5a5e-79b6-4d11-a081-2c359aaf7bc2",
   "metadata": {},
   "outputs": [],
   "source": [
    "a_data = df.post_ARPPU\n",
    "b_data = df.post_ARPPU"
   ]
  },
  {
   "cell_type": "code",
   "execution_count": 25,
   "id": "beebac56-f38b-4e26-816b-60c2cec56c4f",
   "metadata": {},
   "outputs": [
    {
     "data": {
      "text/plain": [
       "0.6096554199736016"
      ]
     },
     "execution_count": 25,
     "metadata": {},
     "output_type": "execute_result"
    }
   ],
   "source": [
    "theta_value = calculate_theta_for_test(a_data_pre, a_data, b_data_pre, b_data)\n",
    "\n",
    "theta_value"
   ]
  },
  {
   "cell_type": "markdown",
   "id": "5e946a77-0243-4ce0-bf62-2d5765abe46e",
   "metadata": {},
   "source": [
    "### Task 7. "
   ]
  },
  {
   "cell_type": "markdown",
   "id": "c32d80cd-c00f-4051-98c1-4c8a0c5df471",
   "metadata": {},
   "source": [
    "**Specify by how many percent the standard deviation of Y_cuped is less than the standard deviation of post_ARPPU.**"
   ]
  },
  {
   "cell_type": "code",
   "execution_count": 26,
   "id": "947c59d8-ebea-44b9-9b9a-2aaace920216",
   "metadata": {},
   "outputs": [],
   "source": [
    "std_ARPPU = df.post_ARPPU.std()"
   ]
  },
  {
   "cell_type": "code",
   "execution_count": 27,
   "id": "5446630a-c7ec-4efe-91f2-869cb0142858",
   "metadata": {},
   "outputs": [],
   "source": [
    "std_ARPPU_cuped = (df.post_ARPPU - theta_value * df.pre_ARPPU).std()"
   ]
  },
  {
   "cell_type": "code",
   "execution_count": 28,
   "id": "2ced9312-3e4b-404d-ba58-ea7c76ba6a27",
   "metadata": {},
   "outputs": [
    {
     "data": {
      "text/plain": [
       "101.24946625472516"
      ]
     },
     "execution_count": 28,
     "metadata": {},
     "output_type": "execute_result"
    }
   ],
   "source": [
    "std_ARPPU"
   ]
  },
  {
   "cell_type": "code",
   "execution_count": 29,
   "id": "28d735e3-421f-4dbc-9c3d-4c1800cb63bf",
   "metadata": {},
   "outputs": [
    {
     "data": {
      "text/plain": [
       "17.558276039847343"
      ]
     },
     "execution_count": 29,
     "metadata": {},
     "output_type": "execute_result"
    }
   ],
   "source": [
    "(1 - std_ARPPU_cuped / std_ARPPU) * 100"
   ]
  },
  {
   "cell_type": "markdown",
   "id": "0bb31dfd-2b62-4530-afbd-a8b9b9b78e61",
   "metadata": {},
   "source": [
    "### Task 8. "
   ]
  },
  {
   "cell_type": "markdown",
   "id": "b494d55b-2181-4646-b600-35a6faf4c930",
   "metadata": {},
   "source": [
    "**What sample size do we need to detect relative MDE = 0.01 using basic t-test?**"
   ]
  },
  {
   "cell_type": "code",
   "execution_count": 30,
   "id": "21a2cd1f-8217-4c86-b6a1-babcd95ae642",
   "metadata": {},
   "outputs": [],
   "source": [
    "rel_mde = 0.01\n",
    "uplift = df.post_ARPPU.mean() * (1 + rel_mde) - df.post_ARPPU.mean()\n",
    "\n",
    "\n",
    "basic_cohen_D_effect_size = uplift / std_ARPPU"
   ]
  },
  {
   "cell_type": "code",
   "execution_count": 31,
   "id": "88dad1a4-ab6a-42c3-9d26-f33f0f201f4b",
   "metadata": {},
   "outputs": [
    {
     "data": {
      "text/plain": [
       "4473"
      ]
     },
     "execution_count": 31,
     "metadata": {},
     "output_type": "execute_result"
    }
   ],
   "source": [
    "basic_sample_size = int(tt_ind_solve_power(effect_size = basic_cohen_D_effect_size,\n",
    "                                           alpha=0.05,\n",
    "                                           power=0.8,\n",
    "                                           nobs1=None,\n",
    "                                           ratio=1)\n",
    "                       )\n",
    "\n",
    "basic_sample_size"
   ]
  },
  {
   "cell_type": "markdown",
   "id": "b338cf00-b698-49f9-a0ef-c54280f8b181",
   "metadata": {},
   "source": [
    "### Task 9. "
   ]
  },
  {
   "cell_type": "markdown",
   "id": "36f36944-01ea-4de9-b23e-1fae7afc3f3a",
   "metadata": {},
   "source": [
    "**What sample size do we need to detect relative MDE = 0.01 using CUPED t-test?**"
   ]
  },
  {
   "cell_type": "code",
   "execution_count": 32,
   "id": "91c23c24-c5ea-4c28-8276-876cc3009ef5",
   "metadata": {},
   "outputs": [],
   "source": [
    "rel_mde = 0.01\n",
    "uplift = df.post_ARPPU.mean() * (1 + rel_mde) - df.post_ARPPU.mean()\n",
    "\n",
    "\n",
    "cuped_cohen_D_effect_size = uplift / std_ARPPU_cuped"
   ]
  },
  {
   "cell_type": "code",
   "execution_count": 33,
   "id": "dc133d93-ace4-4c8d-a8c5-47febb35d5c4",
   "metadata": {},
   "outputs": [
    {
     "data": {
      "text/plain": [
       "3040"
      ]
     },
     "execution_count": 33,
     "metadata": {},
     "output_type": "execute_result"
    }
   ],
   "source": [
    "cuped_sample_size = int(tt_ind_solve_power(effect_size = cuped_cohen_D_effect_size,\n",
    "                                           alpha=0.05,\n",
    "                                           power=0.8,\n",
    "                                           nobs1=None,\n",
    "                                           ratio=1)\n",
    "                       )\n",
    "\n",
    "cuped_sample_size"
   ]
  }
 ],
 "metadata": {
  "kernelspec": {
   "display_name": "Python 3 (ipykernel)",
   "language": "python",
   "name": "python3"
  },
  "language_info": {
   "codemirror_mode": {
    "name": "ipython",
    "version": 3
   },
   "file_extension": ".py",
   "mimetype": "text/x-python",
   "name": "python",
   "nbconvert_exporter": "python",
   "pygments_lexer": "ipython3",
   "version": "3.8.10"
  }
 },
 "nbformat": 4,
 "nbformat_minor": 5
}
