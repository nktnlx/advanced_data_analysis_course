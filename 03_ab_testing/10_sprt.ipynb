{
 "cells": [
  {
   "cell_type": "markdown",
   "id": "e23e1516-6e75-4e85-bf5b-0011204c6bf9",
   "metadata": {},
   "source": [
    "# Sequential Probability Ratio Test (SPRT)"
   ]
  },
  {
   "cell_type": "markdown",
   "id": "8ad67dba-80ad-46c5-ade5-7ce6464e9f6c",
   "metadata": {},
   "source": [
    "## Import libraries"
   ]
  },
  {
   "cell_type": "code",
   "execution_count": 3,
   "id": "21bfd5e3-d9e8-4a44-981f-8a6da9866909",
   "metadata": {},
   "outputs": [],
   "source": [
    "#!pip install statsmodels matplotlib seaborn"
   ]
  },
  {
   "cell_type": "code",
   "execution_count": 2,
   "id": "4d138bda-888f-421e-9184-ea5185bc2b5d",
   "metadata": {},
   "outputs": [],
   "source": [
    "import pandas as pd\n",
    "import numpy as np\n",
    "import matplotlib.pyplot as plt\n",
    "import seaborn as sns\n",
    "import math\n",
    "\n",
    "from statsmodels.stats.proportion import proportions_ztest, proportion_effectsize\n",
    "from statsmodels.stats.power import NormalIndPower"
   ]
  },
  {
   "cell_type": "markdown",
   "id": "9dc27987-c798-433d-b9f5-7182d13d8674",
   "metadata": {},
   "source": [
    "## Importing data"
   ]
  },
  {
   "cell_type": "code",
   "execution_count": 4,
   "id": "68e7b771-ef15-4ca8-9001-3980c0420c87",
   "metadata": {},
   "outputs": [],
   "source": [
    "df = pd.read_csv('SPRT_homework_1.csv')"
   ]
  },
  {
   "cell_type": "code",
   "execution_count": 5,
   "id": "37421bbc-05a3-4cc3-806c-f138e899e2f6",
   "metadata": {},
   "outputs": [
    {
     "data": {
      "text/html": [
       "<div>\n",
       "<style scoped>\n",
       "    .dataframe tbody tr th:only-of-type {\n",
       "        vertical-align: middle;\n",
       "    }\n",
       "\n",
       "    .dataframe tbody tr th {\n",
       "        vertical-align: top;\n",
       "    }\n",
       "\n",
       "    .dataframe thead th {\n",
       "        text-align: right;\n",
       "    }\n",
       "</style>\n",
       "<table border=\"1\" class=\"dataframe\">\n",
       "  <thead>\n",
       "    <tr style=\"text-align: right;\">\n",
       "      <th></th>\n",
       "      <th>cont_conv_A</th>\n",
       "      <th>cont_conv_B</th>\n",
       "    </tr>\n",
       "  </thead>\n",
       "  <tbody>\n",
       "    <tr>\n",
       "      <th>0</th>\n",
       "      <td>0</td>\n",
       "      <td>0</td>\n",
       "    </tr>\n",
       "    <tr>\n",
       "      <th>1</th>\n",
       "      <td>0</td>\n",
       "      <td>0</td>\n",
       "    </tr>\n",
       "    <tr>\n",
       "      <th>2</th>\n",
       "      <td>1</td>\n",
       "      <td>0</td>\n",
       "    </tr>\n",
       "    <tr>\n",
       "      <th>3</th>\n",
       "      <td>1</td>\n",
       "      <td>0</td>\n",
       "    </tr>\n",
       "    <tr>\n",
       "      <th>4</th>\n",
       "      <td>0</td>\n",
       "      <td>0</td>\n",
       "    </tr>\n",
       "    <tr>\n",
       "      <th>...</th>\n",
       "      <td>...</td>\n",
       "      <td>...</td>\n",
       "    </tr>\n",
       "    <tr>\n",
       "      <th>21253</th>\n",
       "      <td>0</td>\n",
       "      <td>0</td>\n",
       "    </tr>\n",
       "    <tr>\n",
       "      <th>21254</th>\n",
       "      <td>0</td>\n",
       "      <td>0</td>\n",
       "    </tr>\n",
       "    <tr>\n",
       "      <th>21255</th>\n",
       "      <td>0</td>\n",
       "      <td>0</td>\n",
       "    </tr>\n",
       "    <tr>\n",
       "      <th>21256</th>\n",
       "      <td>0</td>\n",
       "      <td>0</td>\n",
       "    </tr>\n",
       "    <tr>\n",
       "      <th>21257</th>\n",
       "      <td>0</td>\n",
       "      <td>0</td>\n",
       "    </tr>\n",
       "  </tbody>\n",
       "</table>\n",
       "<p>21258 rows × 2 columns</p>\n",
       "</div>"
      ],
      "text/plain": [
       "       cont_conv_A  cont_conv_B\n",
       "0                0            0\n",
       "1                0            0\n",
       "2                1            0\n",
       "3                1            0\n",
       "4                0            0\n",
       "...            ...          ...\n",
       "21253            0            0\n",
       "21254            0            0\n",
       "21255            0            0\n",
       "21256            0            0\n",
       "21257            0            0\n",
       "\n",
       "[21258 rows x 2 columns]"
      ]
     },
     "execution_count": 5,
     "metadata": {},
     "output_type": "execute_result"
    }
   ],
   "source": [
    "df"
   ]
  },
  {
   "cell_type": "code",
   "execution_count": 6,
   "id": "2d960d86-dac8-44c7-a6d2-7eb98ab48db3",
   "metadata": {},
   "outputs": [
    {
     "name": "stdout",
     "output_type": "stream",
     "text": [
      "<class 'pandas.core.frame.DataFrame'>\n",
      "RangeIndex: 21258 entries, 0 to 21257\n",
      "Data columns (total 2 columns):\n",
      " #   Column       Non-Null Count  Dtype\n",
      "---  ------       --------------  -----\n",
      " 0   cont_conv_A  21258 non-null  int64\n",
      " 1   cont_conv_B  21258 non-null  int64\n",
      "dtypes: int64(2)\n",
      "memory usage: 332.3 KB\n"
     ]
    }
   ],
   "source": [
    "df.info()"
   ]
  },
  {
   "cell_type": "code",
   "execution_count": 7,
   "id": "6ca075e4-0029-4eb3-815e-909ab640b03c",
   "metadata": {},
   "outputs": [
    {
     "data": {
      "text/plain": [
       "0.17061812023708722"
      ]
     },
     "execution_count": 7,
     "metadata": {},
     "output_type": "execute_result"
    }
   ],
   "source": [
    "df.cont_conv_A.mean()"
   ]
  },
  {
   "cell_type": "code",
   "execution_count": 8,
   "id": "c832dcc8-0967-43c7-ab7b-24b75ebe07a5",
   "metadata": {},
   "outputs": [
    {
     "data": {
      "text/plain": [
       "0.1789443974033305"
      ]
     },
     "execution_count": 8,
     "metadata": {},
     "output_type": "execute_result"
    }
   ],
   "source": [
    "df.cont_conv_B.mean()"
   ]
  },
  {
   "cell_type": "markdown",
   "id": "b6e6fc11-f7c5-4ada-a6de-eda65591c0aa",
   "metadata": {},
   "source": [
    "## Tasks"
   ]
  },
  {
   "cell_type": "markdown",
   "id": "7c334d62-e699-49c4-bb27-367395721dfd",
   "metadata": {},
   "source": [
    "### Task 1."
   ]
  },
  {
   "cell_type": "markdown",
   "id": "dcb63d57-d2f7-4948-9b43-92b2ac608650",
   "metadata": {},
   "source": [
    " **Find p-value for z-proportions test.**"
   ]
  },
  {
   "cell_type": "code",
   "execution_count": 9,
   "id": "6feb77bc-9453-4318-b1bd-beb951e68c72",
   "metadata": {},
   "outputs": [
    {
     "data": {
      "text/plain": [
       "(-2.2602948445808004, 0.023802957738736988)"
      ]
     },
     "execution_count": 9,
     "metadata": {},
     "output_type": "execute_result"
    }
   ],
   "source": [
    "count = [df.cont_conv_A.sum(), df.cont_conv_B.sum()]\n",
    "nobs = [df.shape[0], df.shape[0]]\n",
    "\n",
    "\n",
    "proportions_ztest(count, nobs, alternative='two-sided')"
   ]
  },
  {
   "cell_type": "markdown",
   "id": "92137d74-b31f-4aba-a1b5-d9164be17f5b",
   "metadata": {
    "tags": []
   },
   "source": [
    "### Task 2.  "
   ]
  },
  {
   "cell_type": "markdown",
   "id": "830049b9-f37d-4c47-82b3-0e95d7db9ed3",
   "metadata": {},
   "source": [
    "**What result will be gained using SPRT technique?** "
   ]
  },
  {
   "cell_type": "code",
   "execution_count": 10,
   "id": "62a6ea0f-80c4-4175-9049-81d9cbe290e0",
   "metadata": {},
   "outputs": [],
   "source": [
    "def get_decision_list_sprt_binom(values_A, values_B, alpha = 0.05, beta = 0.2, mde = 0.1):\n",
    "    '''Function for conducting SPRT analysis for proportions (shares, conversions)\n",
    "    values_A - A list of conversion values in group A (0, 1)\n",
    "    values_B - A list of conversion values in group B (0, 1)\n",
    "    alpha - The significance level of the SPRT test\n",
    "    beta - The type II error rate of the SPRT test\n",
    "    mde - The minimum detectable effect (MDE) of the SPRT test\n",
    "    \n",
    "    return\n",
    "    - early_stop_index: The index at which the SPRT test stopped and made a decision. \n",
    "        If the SPRT test was unable to make a decision after all observations, len(data) is returned\n",
    "    - inference: The hypothesis that was accepted by the SPRT test\n",
    "    - left_bound_list: A list of boundaries for making a decision. \n",
    "        The length of this list is early_stop_index\n",
    "    - right_bound_list:A list of boundaries for making a decision. \n",
    "        The length of this list is early_stop_index.\n",
    "    - S_list: A list of calculated values reflecting the change in the dynamics of the difference in proportions. \n",
    "        The length of this list is early_stop_index.\n",
    "    - cum_diff_list: A list of cumulative increasing difference between the proportions in two groups. \n",
    "        The length of this list is early_stop_index.    \n",
    "    '''\n",
    "    min_len = int(np.mean([len(values_A), len(values_B)]))\n",
    "    A = math.log(beta/(1 - alpha))\n",
    "    B = math.log((1 - beta)/alpha)\n",
    "    p = (values_A.mean() + values_B.mean())/2\n",
    "    \n",
    "    left_bound_list = []\n",
    "    right_bound_list = []\n",
    "    S_list = []\n",
    "    cum_diff_list = []\n",
    "    \n",
    "    for i in range(100, min_len):\n",
    "        p0_i = np.mean(values_A[0:i])\n",
    "        p1_i = np.mean(values_B[0:i])\n",
    "        \n",
    "        disp = p * (1 - p)\n",
    "        diff = p1_i - p0_i\n",
    "        left_bound = 2 * disp * A / mde\n",
    "        right_bound = 2 * disp *  B / mde\n",
    "        \n",
    "        S = (i + 1) * (diff - mde/2)\n",
    "        \n",
    "        left_bound_list.append(left_bound)\n",
    "        right_bound_list.append(right_bound)\n",
    "        S_list.append(S)\n",
    "        cum_diff_list.append(diff)\n",
    "        \n",
    "        if S < left_bound:\n",
    "            return {'early_stop_index':i, 'inference':'Accept H0', 'left_bound_list': left_bound_list, 'right_bound_list': right_bound_list, 'S_list': S_list, 'cum_diff_list':cum_diff_list}\n",
    "        if S > right_bound:\n",
    "            return {'early_stop_index':i, 'inference':'Accept H1', 'left_bound_list': left_bound_list, 'right_bound_list': right_bound_list, 'S_list': S_list, 'cum_diff_list':cum_diff_list}\n",
    "    return {'early_stop_index':i, 'inference':'Continue', 'left_bound_list': left_bound_list, 'right_bound_list': right_bound_list, 'S_list': S_list, 'cum_diff_list':cum_diff_list}"
   ]
  },
  {
   "cell_type": "code",
   "execution_count": 11,
   "id": "10af1900-dabc-4ec7-a7fc-c3cc7055829a",
   "metadata": {},
   "outputs": [
    {
     "name": "stdout",
     "output_type": "stream",
     "text": [
      "Result: Accept H1\n",
      "Obervation # to draw the result: 15314\n"
     ]
    },
    {
     "data": {
      "image/png": "[encoded data removed]",
      "text/plain": [
       "<Figure size 1080x864 with 2 Axes>"
      ]
     },
     "metadata": {
      "needs_background": "light"
     },
     "output_type": "display_data"
    }
   ],
   "source": [
    "mde_abs = np.abs(df.cont_conv_A.mean() - df.cont_conv_B.mean())\n",
    "\n",
    "\n",
    "inference_object = get_decision_list_sprt_binom(df.cont_conv_A, \n",
    "                                                df.cont_conv_B,\n",
    "                                                alpha = 0.05, \n",
    "                                                beta = 0.2,\n",
    "                                                mde = mde_abs)\n",
    "\n",
    "print('Result:', inference_object['inference'])\n",
    "print('Obervation # to draw the result:', inference_object['early_stop_index'])\n",
    "\n",
    "fig, axes = plt.subplots(2, figsize=(15,12))\n",
    "\n",
    "sns.lineplot(ax=axes[0], x = np.arange(1, len(inference_object['right_bound_list'])+1), y = inference_object['right_bound_list'], ls = '--', label='right bound')\n",
    "sns.lineplot(ax=axes[0], x = np.arange(1, len(inference_object['left_bound_list'])+1), y = inference_object['left_bound_list'], ls = '--', label='left bound')\n",
    "sns.lineplot(ax=axes[0], x = np.arange(1, len(inference_object['S_list'])+1), y = inference_object['S_list'], label='S')\n",
    "axes[0].set_ylabel(ylabel = \"S\")\n",
    "axes[0].text(y = np.quantile(inference_object['S_list'], 0.65), x = len(inference_object['S_list']) * 0.01, s = inference_object['inference'], fontsize = 16)\n",
    "axes[0].legend()\n",
    "\n",
    "sns.lineplot(ax=axes[1], x = np.arange(1, len(inference_object['right_bound_list'])+1), y = inference_object['cum_diff_list'], label='mean cum diff', linewidth=2)\n",
    "axes[1].axhline(mde_abs, ls='--', color='gray', label = 'Expected ABS MDE')\n",
    "axes[1].set_ylabel(ylabel = \"Cumulative mean\")\n",
    "axes[1].legend();"
   ]
  },
  {
   "cell_type": "markdown",
   "id": "7b1831e5-9629-45ba-8320-429c58a760d9",
   "metadata": {},
   "source": [
    "### Task 3. "
   ]
  },
  {
   "cell_type": "markdown",
   "id": "41913718-3c9d-42cb-b61d-72ebdc7edad3",
   "metadata": {},
   "source": [
    "**Find fixed horizon sample size to detect 0.05 relative effect on our data.** "
   ]
  },
  {
   "cell_type": "code",
   "execution_count": 17,
   "id": "1bb6fab5-dd81-417e-b84d-ab4b33fb137d",
   "metadata": {},
   "outputs": [
    {
     "name": "stdout",
     "output_type": "stream",
     "text": [
      "31121.0\n"
     ]
    }
   ],
   "source": [
    "baseline_conversion = df.cont_conv_A.mean()\n",
    "rel_mde = 0.05\n",
    "\n",
    "\n",
    "d = proportion_effectsize(baseline_conversion * (1 + rel_mde), baseline_conversion)\n",
    "\n",
    "n = NormalIndPower().solve_power(\n",
    "                effect_size = d,\n",
    "                power = 0.8,\n",
    "                alpha = 0.05,\n",
    "                nobs1 = None,\n",
    "                ratio = 1\n",
    "                )\n",
    "\n",
    "print(np.ceil(n))"
   ]
  },
  {
   "cell_type": "markdown",
   "id": "6cf94e10-2a9b-4ab9-929d-858de8ce875b",
   "metadata": {},
   "source": [
    "### Task 4. "
   ]
  },
  {
   "cell_type": "markdown",
   "id": "a92b908a-9905-4287-b083-4b1954baf890",
   "metadata": {},
   "source": [
    "**Find an avarage SPRT sample size for AA simulations.**"
   ]
  },
  {
   "cell_type": "code",
   "execution_count": 14,
   "id": "669ac5a2-7d41-4fd9-af1e-038434892edd",
   "metadata": {},
   "outputs": [
    {
     "name": "stdout",
     "output_type": "stream",
     "text": [
      "10696\n"
     ]
    }
   ],
   "source": [
    "np.random.seed(2)\n",
    "\n",
    "n = 31121\n",
    "rel_mde = 0.05\n",
    "sample_size_lst = []\n",
    "\n",
    "n_iter = 300\n",
    "for i in range(n_iter):\n",
    "    values_A1 = np.random.choice(df['cont_conv_A'], n)\n",
    "    values_A2 = np.random.choice(df['cont_conv_A'], n)\n",
    "    values_B = np.random.choice(df['cont_conv_A'], n)\n",
    "\n",
    "    inference_object = get_decision_list_sprt_binom(values_A1, \n",
    "                                                    values_A2,\n",
    "                                                    alpha = 0.05, \n",
    "                                                    beta = 0.2,\n",
    "                                                    mde = df['cont_conv_A'].mean() * rel_mde)\n",
    "\n",
    "    sample_size_lst.append(inference_object['early_stop_index'])\n",
    "    \n",
    "print(int(np.mean(sample_size_lst)))"
   ]
  },
  {
   "cell_type": "markdown",
   "id": "0e654218-672d-41a9-807a-29295d77ad9b",
   "metadata": {},
   "source": [
    "### Task 5. "
   ]
  },
  {
   "cell_type": "markdown",
   "id": "8f8d1e13-fe50-4e91-b084-6a9f6df0806b",
   "metadata": {},
   "source": [
    "**Find an avarage SPRT sample size for AB simulations.**"
   ]
  },
  {
   "cell_type": "code",
   "execution_count": 24,
   "id": "e791b06a-4dcb-49b2-b3db-d931fe21bedd",
   "metadata": {},
   "outputs": [
    {
     "name": "stdout",
     "output_type": "stream",
     "text": [
      "14547.0\n"
     ]
    }
   ],
   "source": [
    "np.random.seed(2)\n",
    "\n",
    "n = 31121\n",
    "rel_mde = 0.05\n",
    "mean_ = df['cont_conv_A'].mean()\n",
    "abs_mde = mean_ * rel_mde\n",
    "sample_size_lst = []\n",
    "\n",
    "n_iter = 300\n",
    "for i in range(n_iter):\n",
    "    values_A1 = np.random.choice(df['cont_conv_A'], n)\n",
    "    values_A2 = np.random.choice(df['cont_conv_A'], n)\n",
    "    values_B = np.random.choice(df['cont_conv_B'], n)\n",
    "\n",
    "    inference_object = get_decision_list_sprt_binom(values_A1, \n",
    "                                                    values_B,\n",
    "                                                    alpha = 0.05, \n",
    "                                                    beta = 0.2,\n",
    "                                                    mde = abs_mde)\n",
    "\n",
    "    sample_size_lst.append(inference_object['early_stop_index'])\n",
    "    \n",
    "print(np.ceil(np.mean(sample_size_lst)))"
   ]
  },
  {
   "cell_type": "markdown",
   "id": "affc0c80-0c47-4710-bafd-7419662b7109",
   "metadata": {},
   "source": [
    "### Task 6. "
   ]
  },
  {
   "cell_type": "markdown",
   "id": "06487704-edb2-443a-a946-6d91ba6894e2",
   "metadata": {},
   "source": [
    "**Calculate power for SPRT A/B test.**"
   ]
  },
  {
   "cell_type": "code",
   "execution_count": null,
   "id": "4d3c8cc8-166a-4f25-850a-9082c9a6a4bb",
   "metadata": {},
   "outputs": [],
   "source": [
    "tbc.."
   ]
  },
  {
   "cell_type": "code",
   "execution_count": null,
   "id": "fffb2cc1-6656-4f05-8687-d6ab28d36bad",
   "metadata": {},
   "outputs": [],
   "source": []
  },
  {
   "cell_type": "code",
   "execution_count": null,
   "id": "3b164cbf-1b23-41e5-aa97-8b54a3e2fa43",
   "metadata": {},
   "outputs": [],
   "source": []
  },
  {
   "cell_type": "code",
   "execution_count": null,
   "id": "48e8d9c5-b952-4b5b-88d6-8751b0ded645",
   "metadata": {},
   "outputs": [],
   "source": []
  },
  {
   "cell_type": "code",
   "execution_count": null,
   "id": "52d33f21-9207-4dde-b903-f989df769e76",
   "metadata": {},
   "outputs": [],
   "source": []
  },
  {
   "cell_type": "code",
   "execution_count": null,
   "id": "92ef2fa9-ff08-46ac-813b-8259c1164963",
   "metadata": {},
   "outputs": [],
   "source": []
  },
  {
   "cell_type": "code",
   "execution_count": null,
   "id": "b44376b5-0ccd-440f-9625-09e4f731d9de",
   "metadata": {},
   "outputs": [],
   "source": []
  },
  {
   "cell_type": "code",
   "execution_count": null,
   "id": "a409c1cf-d46a-485c-b94b-7857538565f2",
   "metadata": {},
   "outputs": [],
   "source": []
  },
  {
   "cell_type": "code",
   "execution_count": null,
   "id": "662ac525-67e5-4c4b-bcaf-b7cda5bcc6df",
   "metadata": {},
   "outputs": [],
   "source": []
  },
  {
   "cell_type": "code",
   "execution_count": null,
   "id": "223eb4b7-6ea4-4513-af2f-fe9e7174022e",
   "metadata": {},
   "outputs": [],
   "source": []
  }
 ],
 "metadata": {
  "kernelspec": {
   "display_name": "Python 3 (ipykernel)",
   "language": "python",
   "name": "python3"
  },
  "language_info": {
   "codemirror_mode": {
    "name": "ipython",
    "version": 3
   },
   "file_extension": ".py",
   "mimetype": "text/x-python",
   "name": "python",
   "nbconvert_exporter": "python",
   "pygments_lexer": "ipython3",
   "version": "3.8.10"
  }
 },
 "nbformat": 4,
 "nbformat_minor": 5
}
