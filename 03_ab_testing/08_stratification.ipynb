{
 "cells": [
  {
   "cell_type": "markdown",
   "id": "e23e1516-6e75-4e85-bf5b-0011204c6bf9",
   "metadata": {},
   "source": [
    "# Stratification"
   ]
  },
  {
   "cell_type": "markdown",
   "id": "8ad67dba-80ad-46c5-ade5-7ce6464e9f6c",
   "metadata": {},
   "source": [
    "## Import libraries"
   ]
  },
  {
   "cell_type": "code",
   "execution_count": 1,
   "id": "21bfd5e3-d9e8-4a44-981f-8a6da9866909",
   "metadata": {},
   "outputs": [],
   "source": [
    "#!pip install scipy statsmodels"
   ]
  },
  {
   "cell_type": "code",
   "execution_count": 2,
   "id": "4d138bda-888f-421e-9184-ea5185bc2b5d",
   "metadata": {},
   "outputs": [],
   "source": [
    "import pandas as pd\n",
    "import numpy as np\n",
    "from scipy.stats import ttest_ind, norm\n",
    "from statsmodels.stats.power import tt_ind_solve_power"
   ]
  },
  {
   "cell_type": "markdown",
   "id": "9dc27987-c798-433d-b9f5-7182d13d8674",
   "metadata": {},
   "source": [
    "## Importing data"
   ]
  },
  {
   "cell_type": "code",
   "execution_count": 3,
   "id": "68e7b771-ef15-4ca8-9001-3980c0420c87",
   "metadata": {},
   "outputs": [],
   "source": [
    "df = pd.read_csv('stratification_homework_2.csv')"
   ]
  },
  {
   "cell_type": "code",
   "execution_count": 4,
   "id": "37421bbc-05a3-4cc3-806c-f138e899e2f6",
   "metadata": {},
   "outputs": [
    {
     "data": {
      "text/html": [
       "<div>\n",
       "<style scoped>\n",
       "    .dataframe tbody tr th:only-of-type {\n",
       "        vertical-align: middle;\n",
       "    }\n",
       "\n",
       "    .dataframe tbody tr th {\n",
       "        vertical-align: top;\n",
       "    }\n",
       "\n",
       "    .dataframe thead th {\n",
       "        text-align: right;\n",
       "    }\n",
       "</style>\n",
       "<table border=\"1\" class=\"dataframe\">\n",
       "  <thead>\n",
       "    <tr style=\"text-align: right;\">\n",
       "      <th></th>\n",
       "      <th>ARPU</th>\n",
       "      <th>is_capital</th>\n",
       "      <th>is_pro</th>\n",
       "      <th>group</th>\n",
       "    </tr>\n",
       "  </thead>\n",
       "  <tbody>\n",
       "    <tr>\n",
       "      <th>0</th>\n",
       "      <td>250.5</td>\n",
       "      <td>region</td>\n",
       "      <td>1</td>\n",
       "      <td>1</td>\n",
       "    </tr>\n",
       "    <tr>\n",
       "      <th>1</th>\n",
       "      <td>182.0</td>\n",
       "      <td>capital</td>\n",
       "      <td>0</td>\n",
       "      <td>1</td>\n",
       "    </tr>\n",
       "    <tr>\n",
       "      <th>2</th>\n",
       "      <td>75.0</td>\n",
       "      <td>region</td>\n",
       "      <td>0</td>\n",
       "      <td>0</td>\n",
       "    </tr>\n",
       "    <tr>\n",
       "      <th>3</th>\n",
       "      <td>532.5</td>\n",
       "      <td>capital</td>\n",
       "      <td>1</td>\n",
       "      <td>0</td>\n",
       "    </tr>\n",
       "    <tr>\n",
       "      <th>4</th>\n",
       "      <td>88.0</td>\n",
       "      <td>region</td>\n",
       "      <td>0</td>\n",
       "      <td>1</td>\n",
       "    </tr>\n",
       "    <tr>\n",
       "      <th>...</th>\n",
       "      <td>...</td>\n",
       "      <td>...</td>\n",
       "      <td>...</td>\n",
       "      <td>...</td>\n",
       "    </tr>\n",
       "    <tr>\n",
       "      <th>9695</th>\n",
       "      <td>109.0</td>\n",
       "      <td>region</td>\n",
       "      <td>0</td>\n",
       "      <td>1</td>\n",
       "    </tr>\n",
       "    <tr>\n",
       "      <th>9696</th>\n",
       "      <td>130.0</td>\n",
       "      <td>region</td>\n",
       "      <td>0</td>\n",
       "      <td>0</td>\n",
       "    </tr>\n",
       "    <tr>\n",
       "      <th>9697</th>\n",
       "      <td>3.0</td>\n",
       "      <td>region</td>\n",
       "      <td>0</td>\n",
       "      <td>1</td>\n",
       "    </tr>\n",
       "    <tr>\n",
       "      <th>9698</th>\n",
       "      <td>179.0</td>\n",
       "      <td>capital</td>\n",
       "      <td>0</td>\n",
       "      <td>1</td>\n",
       "    </tr>\n",
       "    <tr>\n",
       "      <th>9699</th>\n",
       "      <td>104.0</td>\n",
       "      <td>region</td>\n",
       "      <td>0</td>\n",
       "      <td>0</td>\n",
       "    </tr>\n",
       "  </tbody>\n",
       "</table>\n",
       "<p>9700 rows × 4 columns</p>\n",
       "</div>"
      ],
      "text/plain": [
       "       ARPU is_capital  is_pro  group\n",
       "0     250.5     region       1      1\n",
       "1     182.0    capital       0      1\n",
       "2      75.0     region       0      0\n",
       "3     532.5    capital       1      0\n",
       "4      88.0     region       0      1\n",
       "...     ...        ...     ...    ...\n",
       "9695  109.0     region       0      1\n",
       "9696  130.0     region       0      0\n",
       "9697    3.0     region       0      1\n",
       "9698  179.0    capital       0      1\n",
       "9699  104.0     region       0      0\n",
       "\n",
       "[9700 rows x 4 columns]"
      ]
     },
     "execution_count": 4,
     "metadata": {},
     "output_type": "execute_result"
    }
   ],
   "source": [
    "df"
   ]
  },
  {
   "cell_type": "code",
   "execution_count": 5,
   "id": "2d960d86-dac8-44c7-a6d2-7eb98ab48db3",
   "metadata": {},
   "outputs": [
    {
     "name": "stdout",
     "output_type": "stream",
     "text": [
      "<class 'pandas.core.frame.DataFrame'>\n",
      "RangeIndex: 9700 entries, 0 to 9699\n",
      "Data columns (total 4 columns):\n",
      " #   Column      Non-Null Count  Dtype  \n",
      "---  ------      --------------  -----  \n",
      " 0   ARPU        9700 non-null   float64\n",
      " 1   is_capital  9700 non-null   object \n",
      " 2   is_pro      9700 non-null   int64  \n",
      " 3   group       9700 non-null   int64  \n",
      "dtypes: float64(1), int64(2), object(1)\n",
      "memory usage: 303.2+ KB\n"
     ]
    }
   ],
   "source": [
    "df.info()"
   ]
  },
  {
   "cell_type": "code",
   "execution_count": 6,
   "id": "6ca075e4-0029-4eb3-815e-909ab640b03c",
   "metadata": {},
   "outputs": [
    {
     "data": {
      "text/plain": [
       "1    4895\n",
       "0    4805\n",
       "Name: group, dtype: int64"
      ]
     },
     "execution_count": 6,
     "metadata": {},
     "output_type": "execute_result"
    }
   ],
   "source": [
    "df.group.value_counts()"
   ]
  },
  {
   "cell_type": "code",
   "execution_count": 7,
   "id": "43ac103a-0c52-4ded-9e93-d0f9231f76a3",
   "metadata": {},
   "outputs": [
    {
     "data": {
      "text/plain": [
       "0    9197\n",
       "1     503\n",
       "Name: is_pro, dtype: int64"
      ]
     },
     "execution_count": 7,
     "metadata": {},
     "output_type": "execute_result"
    }
   ],
   "source": [
    "df.is_pro.value_counts()"
   ]
  },
  {
   "cell_type": "code",
   "execution_count": 8,
   "id": "ce08702d-88cc-4afa-95b6-28e29b29ea03",
   "metadata": {},
   "outputs": [
    {
     "data": {
      "text/plain": [
       "region     6571\n",
       "capital    3129\n",
       "Name: is_capital, dtype: int64"
      ]
     },
     "execution_count": 8,
     "metadata": {},
     "output_type": "execute_result"
    }
   ],
   "source": [
    "df.is_capital.value_counts()"
   ]
  },
  {
   "cell_type": "markdown",
   "id": "b6e6fc11-f7c5-4ada-a6de-eda65591c0aa",
   "metadata": {},
   "source": [
    "## Tasks"
   ]
  },
  {
   "cell_type": "markdown",
   "id": "7c334d62-e699-49c4-bb27-367395721dfd",
   "metadata": {},
   "source": [
    "### Task 1."
   ]
  },
  {
   "cell_type": "markdown",
   "id": "dcb63d57-d2f7-4948-9b43-92b2ac608650",
   "metadata": {},
   "source": [
    " **Do a basic t-test and assess the results.**"
   ]
  },
  {
   "cell_type": "code",
   "execution_count": 9,
   "id": "b810f194-1876-4bbd-9bf7-f1fcf551596f",
   "metadata": {},
   "outputs": [],
   "source": [
    "control_data = df[df['group'] == 0].ARPU\n",
    "test_data = df[df['group'] == 1].ARPU"
   ]
  },
  {
   "cell_type": "code",
   "execution_count": 10,
   "id": "3a360a8a-3833-4059-8184-2347c557f68b",
   "metadata": {},
   "outputs": [
    {
     "data": {
      "text/plain": [
       "114.83007284079085"
      ]
     },
     "execution_count": 10,
     "metadata": {},
     "output_type": "execute_result"
    }
   ],
   "source": [
    "control_data.mean()"
   ]
  },
  {
   "cell_type": "code",
   "execution_count": 11,
   "id": "7d73bb23-0b6c-4d93-9fdf-8360126e45fc",
   "metadata": {},
   "outputs": [
    {
     "data": {
      "text/plain": [
       "118.07221654749745"
      ]
     },
     "execution_count": 11,
     "metadata": {},
     "output_type": "execute_result"
    }
   ],
   "source": [
    "test_data.mean()"
   ]
  },
  {
   "cell_type": "code",
   "execution_count": 12,
   "id": "058d7ad1-f6ef-4bd5-aac6-93816a048139",
   "metadata": {},
   "outputs": [
    {
     "data": {
      "text/plain": [
       "Ttest_indResult(statistic=-1.8461206634143887, pvalue=0.06490514155787332)"
      ]
     },
     "execution_count": 12,
     "metadata": {},
     "output_type": "execute_result"
    }
   ],
   "source": [
    "ttest_ind(control_data, test_data)"
   ]
  },
  {
   "cell_type": "code",
   "execution_count": 13,
   "id": "c486b5ab-1c16-478e-8aa8-ab36cbb82952",
   "metadata": {},
   "outputs": [
    {
     "name": "stdout",
     "output_type": "stream",
     "text": [
      "We are not able to reject H0.\n"
     ]
    }
   ],
   "source": [
    "alpha = 0.05\n",
    "pval = ttest_ind(control_data, test_data)[1]\n",
    "\n",
    "if pval < alpha:\n",
    "    print('We can reject H0!')\n",
    "else:\n",
    "    print('We are not able to reject H0.')"
   ]
  },
  {
   "cell_type": "markdown",
   "id": "92137d74-b31f-4aba-a1b5-d9164be17f5b",
   "metadata": {
    "tags": []
   },
   "source": [
    "### Task 2.  "
   ]
  },
  {
   "cell_type": "markdown",
   "id": "830049b9-f37d-4c47-82b3-0e95d7db9ed3",
   "metadata": {},
   "source": [
    "**Calculate the value of the stratified variance for the stratum `is_capital`.** "
   ]
  },
  {
   "cell_type": "markdown",
   "id": "1d150e4b-c56d-4fce-91d0-7e292a2a55ed",
   "metadata": {},
   "source": [
    "Firstly, we should create a function that will calculate a stratified variance. "
   ]
  },
  {
   "cell_type": "code",
   "execution_count": 14,
   "id": "2c762025-225a-4265-9c3b-f2ec463c3e03",
   "metadata": {},
   "outputs": [],
   "source": [
    "def calculate_strat_var(data, strata_name, gen_pop_weights, target_value):\n",
    "    '''Calculates stratified variance.'''\n",
    "    \n",
    "    strat_vars = data.groupby(strata_name)[target_value].var()\n",
    "    \n",
    "    data_vars_weights = pd.merge(\n",
    "        pd.Series(strat_vars, name='value_vars'),\n",
    "        pd.Series(gen_pop_weights, name='weight'),\n",
    "        how='inner',\n",
    "        left_index=True,\n",
    "        right_index=True)   \n",
    " \n",
    "    var_strat = (data_vars_weights['weight'] * data_vars_weights['value_vars']).sum()\n",
    "    \n",
    "    return var_strat"
   ]
  },
  {
   "cell_type": "markdown",
   "id": "d09157d3-a8e9-4d2f-ad7b-e54aecda263e",
   "metadata": {},
   "source": [
    "Now we'll create a dictionary with weights of each stratum."
   ]
  },
  {
   "cell_type": "code",
   "execution_count": 15,
   "id": "e51a5d5c-1aff-4aed-b38e-b1dc2b6ec7da",
   "metadata": {},
   "outputs": [
    {
     "data": {
      "text/plain": [
       "region     0.677423\n",
       "capital    0.322577\n",
       "Name: is_capital, dtype: float64"
      ]
     },
     "execution_count": 15,
     "metadata": {},
     "output_type": "execute_result"
    }
   ],
   "source": [
    "df.is_capital.value_counts(normalize=True)"
   ]
  },
  {
   "cell_type": "code",
   "execution_count": 16,
   "id": "89ce9016-c0df-40ba-a91a-16eca2a0e170",
   "metadata": {},
   "outputs": [
    {
     "data": {
      "text/plain": [
       "{'region': 0.6774226804123711, 'capital': 0.32257731958762886}"
      ]
     },
     "execution_count": 16,
     "metadata": {},
     "output_type": "execute_result"
    }
   ],
   "source": [
    "is_capital_weights = dict()\n",
    "\n",
    "is_capital_weights[df.is_capital.value_counts(normalize=True).index[0]] = df.is_capital.value_counts(normalize=True)[0]\n",
    "is_capital_weights[df.is_capital.value_counts(normalize=True).index[1]] = df.is_capital.value_counts(normalize=True)[1]\n",
    "\n",
    "is_capital_weights"
   ]
  },
  {
   "cell_type": "markdown",
   "id": "b0cec6e5-8a6b-4a5a-8292-56a99359ef95",
   "metadata": {},
   "source": [
    "And finally we will calculate the value of a stratified variance for `is_capital` feature. "
   ]
  },
  {
   "cell_type": "code",
   "execution_count": 17,
   "id": "9fd75457-4f21-4479-9fb2-1e50357d4a10",
   "metadata": {},
   "outputs": [
    {
     "data": {
      "text/plain": [
       "5789.948335065556"
      ]
     },
     "execution_count": 17,
     "metadata": {},
     "output_type": "execute_result"
    }
   ],
   "source": [
    "calculate_strat_var(df, 'is_capital', is_capital_weights, 'ARPU')"
   ]
  },
  {
   "cell_type": "markdown",
   "id": "7b1831e5-9629-45ba-8320-429c58a760d9",
   "metadata": {},
   "source": [
    "### Task 3. "
   ]
  },
  {
   "cell_type": "markdown",
   "id": "41913718-3c9d-42cb-b61d-72ebdc7edad3",
   "metadata": {},
   "source": [
    "**Calculate the value of the stratified variance for the stratum `is_pro`.** "
   ]
  },
  {
   "cell_type": "code",
   "execution_count": 18,
   "id": "9d122f74-1b2c-4f03-bbee-03d704e59fcc",
   "metadata": {},
   "outputs": [
    {
     "data": {
      "text/plain": [
       "0    0.948144\n",
       "1    0.051856\n",
       "Name: is_pro, dtype: float64"
      ]
     },
     "execution_count": 18,
     "metadata": {},
     "output_type": "execute_result"
    }
   ],
   "source": [
    "df.is_pro.value_counts(normalize=True)"
   ]
  },
  {
   "cell_type": "code",
   "execution_count": 19,
   "id": "e7d6d882-76c9-4459-947b-57232c8c057a",
   "metadata": {},
   "outputs": [
    {
     "data": {
      "text/plain": [
       "{0: 0.9481443298969072, 1: 0.051855670103092784}"
      ]
     },
     "execution_count": 19,
     "metadata": {},
     "output_type": "execute_result"
    }
   ],
   "source": [
    "is_pro_weights = dict()\n",
    "\n",
    "is_pro_weights[df.is_pro.value_counts(normalize=True).index[0]] = df.is_pro.value_counts(normalize=True)[0]\n",
    "is_pro_weights[df.is_pro.value_counts(normalize=True).index[1]] = df.is_pro.value_counts(normalize=True)[1]\n",
    "\n",
    "is_pro_weights"
   ]
  },
  {
   "cell_type": "code",
   "execution_count": 20,
   "id": "3dc50a4d-6ad8-477b-a575-2ec3670f982f",
   "metadata": {},
   "outputs": [
    {
     "data": {
      "text/plain": [
       "6193.935098081299"
      ]
     },
     "execution_count": 20,
     "metadata": {},
     "output_type": "execute_result"
    }
   ],
   "source": [
    "calculate_strat_var(df, 'is_pro', is_pro_weights, 'ARPU')"
   ]
  },
  {
   "cell_type": "markdown",
   "id": "6cf94e10-2a9b-4ab9-929d-858de8ce875b",
   "metadata": {},
   "source": [
    "### Task 4. "
   ]
  },
  {
   "cell_type": "markdown",
   "id": "a92b908a-9905-4287-b083-4b1954baf890",
   "metadata": {},
   "source": [
    "**Using the best stratum, apply poststratification to the data and recalculate the results of the t-test.**"
   ]
  },
  {
   "cell_type": "code",
   "execution_count": 21,
   "id": "d7f87051-ed7d-4aee-916f-24e40964b2ac",
   "metadata": {},
   "outputs": [],
   "source": [
    "def calculate_strat_mean(data, strata_name, gen_pop_weights, target_value):\n",
    "    '''Calculates stratified mean.'''\n",
    "    strats_means = data.groupby(strata_name)[target_value].mean()\n",
    "\n",
    "    data_means_weights = pd.merge(\n",
    "        pd.Series(strats_means, name='value_means'),\n",
    "        pd.Series(gen_pop_weights, name='weight'),\n",
    "        how='inner',\n",
    "        left_index=True,\n",
    "        right_index=True)\n",
    "\n",
    "    mean_strat = (data_means_weights['weight'] * data_means_weights['value_means']).sum()\n",
    "    \n",
    "    return mean_strat"
   ]
  },
  {
   "cell_type": "code",
   "execution_count": 22,
   "id": "f7a6fd08-8c45-4486-bb68-986b5219bc03",
   "metadata": {},
   "outputs": [],
   "source": [
    "def get_strat_ttest(df_A, df_B, strata_name, target_value, gen_pop_weights):\n",
    "    '''Performs t-test for stratified data.'''\n",
    "    mean_strat_A =  calculate_strat_mean(df_A, strata_name, gen_pop_weights, target_value)\n",
    "    mean_strat_B =  calculate_strat_mean(df_B, strata_name, gen_pop_weights, target_value)\n",
    "    \n",
    "    var_strat_A = calculate_strat_var(df_A, strata_name, gen_pop_weights, target_value)\n",
    "    var_strat_B = calculate_strat_var(df_B, strata_name, gen_pop_weights, target_value)\n",
    "\n",
    "    delta_mean_strat = mean_strat_A - mean_strat_B\n",
    "    std_mean_strat = np.sqrt(var_strat_A / len(df_A) + var_strat_B / len(df_B))\n",
    "    t_stat_strat = delta_mean_strat / std_mean_strat\n",
    "    p_value = 2 * (1 - norm.cdf(np.abs(t_stat_strat)))\n",
    "    \n",
    "    inference = {'t_stat': t_stat_strat, 'p_value':p_value}\n",
    "    \n",
    "    return inference"
   ]
  },
  {
   "cell_type": "code",
   "execution_count": 23,
   "id": "1d24067d-69d1-4626-87e7-09a6b4907b49",
   "metadata": {},
   "outputs": [],
   "source": [
    "control_df = df[df['group'] == 0]\n",
    "test_df = df[df['group'] == 1]"
   ]
  },
  {
   "cell_type": "code",
   "execution_count": 24,
   "id": "b24ce6a8-d1b5-49ff-ac7f-79fd30329e10",
   "metadata": {},
   "outputs": [
    {
     "data": {
      "text/plain": [
       "{'t_stat': -2.357821319048786, 'p_value': 0.018382538725737696}"
      ]
     },
     "execution_count": 24,
     "metadata": {},
     "output_type": "execute_result"
    }
   ],
   "source": [
    "get_strat_ttest(control_df, test_df, 'is_capital', 'ARPU', is_capital_weights)"
   ]
  },
  {
   "cell_type": "code",
   "execution_count": 25,
   "id": "7497d48e-2986-453d-a28e-64168ca2e94a",
   "metadata": {},
   "outputs": [
    {
     "name": "stdout",
     "output_type": "stream",
     "text": [
      "We can reject H0!\n"
     ]
    }
   ],
   "source": [
    "alpha = 0.05\n",
    "pval = get_strat_ttest(control_df, test_df, 'is_capital', 'ARPU', is_capital_weights)['p_value']\n",
    "\n",
    "if pval < alpha:\n",
    "    print('We can reject H0!')\n",
    "else:\n",
    "    print('We are not able to reject H0.')"
   ]
  },
  {
   "cell_type": "markdown",
   "id": "affc0c80-0c47-4710-bafd-7419662b7109",
   "metadata": {},
   "source": [
    "### Task 5. "
   ]
  },
  {
   "cell_type": "markdown",
   "id": "06487704-edb2-443a-a946-6d91ba6894e2",
   "metadata": {},
   "source": [
    "**Take the control group data (group = 0) as a basis and calculate the required sample size to find the absolute MDE equal to the observed mean difference between the test and control groups.\n",
    "Experiment parameters: alpha = 0.05, beta = 0.2, two-tailed test, 50/50 split. What will be the group size for a simple t-test?.**"
   ]
  },
  {
   "cell_type": "code",
   "execution_count": 26,
   "id": "f6b12890-b829-4ae3-973a-348d1fcd5ba7",
   "metadata": {},
   "outputs": [
    {
     "data": {
      "text/html": [
       "<div>\n",
       "<style scoped>\n",
       "    .dataframe tbody tr th:only-of-type {\n",
       "        vertical-align: middle;\n",
       "    }\n",
       "\n",
       "    .dataframe tbody tr th {\n",
       "        vertical-align: top;\n",
       "    }\n",
       "\n",
       "    .dataframe thead th {\n",
       "        text-align: right;\n",
       "    }\n",
       "</style>\n",
       "<table border=\"1\" class=\"dataframe\">\n",
       "  <thead>\n",
       "    <tr style=\"text-align: right;\">\n",
       "      <th></th>\n",
       "      <th>ARPU</th>\n",
       "      <th>is_capital</th>\n",
       "      <th>is_pro</th>\n",
       "      <th>group</th>\n",
       "    </tr>\n",
       "  </thead>\n",
       "  <tbody>\n",
       "    <tr>\n",
       "      <th>786</th>\n",
       "      <td>0.0</td>\n",
       "      <td>region</td>\n",
       "      <td>0</td>\n",
       "      <td>0</td>\n",
       "    </tr>\n",
       "    <tr>\n",
       "      <th>6560</th>\n",
       "      <td>89.0</td>\n",
       "      <td>region</td>\n",
       "      <td>0</td>\n",
       "      <td>0</td>\n",
       "    </tr>\n",
       "    <tr>\n",
       "      <th>7961</th>\n",
       "      <td>220.0</td>\n",
       "      <td>capital</td>\n",
       "      <td>0</td>\n",
       "      <td>0</td>\n",
       "    </tr>\n",
       "    <tr>\n",
       "      <th>5616</th>\n",
       "      <td>0.0</td>\n",
       "      <td>capital</td>\n",
       "      <td>0</td>\n",
       "      <td>0</td>\n",
       "    </tr>\n",
       "    <tr>\n",
       "      <th>1805</th>\n",
       "      <td>95.0</td>\n",
       "      <td>region</td>\n",
       "      <td>0</td>\n",
       "      <td>0</td>\n",
       "    </tr>\n",
       "  </tbody>\n",
       "</table>\n",
       "</div>"
      ],
      "text/plain": [
       "       ARPU is_capital  is_pro  group\n",
       "786     0.0     region       0      0\n",
       "6560   89.0     region       0      0\n",
       "7961  220.0    capital       0      0\n",
       "5616    0.0    capital       0      0\n",
       "1805   95.0     region       0      0"
      ]
     },
     "execution_count": 26,
     "metadata": {},
     "output_type": "execute_result"
    }
   ],
   "source": [
    "control_df.sample(5)"
   ]
  },
  {
   "cell_type": "code",
   "execution_count": 27,
   "id": "3a00a8ca-9cb8-4889-98e6-788f75b4de68",
   "metadata": {},
   "outputs": [
    {
     "data": {
      "text/plain": [
       "0.03716095483581302"
      ]
     },
     "execution_count": 27,
     "metadata": {},
     "output_type": "execute_result"
    }
   ],
   "source": [
    "uplift = test_data.mean() - control_data.mean()\n",
    "data_std = control_df.ARPU.std()\n",
    "\n",
    "basic_cohen_D_effect_size = uplift / data_std\n",
    "\n",
    "basic_cohen_D_effect_size"
   ]
  },
  {
   "cell_type": "code",
   "execution_count": 28,
   "id": "2a039bcc-7de1-4be5-953d-8c624e47f366",
   "metadata": {},
   "outputs": [
    {
     "data": {
      "text/plain": [
       "11368"
      ]
     },
     "execution_count": 28,
     "metadata": {},
     "output_type": "execute_result"
    }
   ],
   "source": [
    "basic_sample_size = int(tt_ind_solve_power(effect_size = basic_cohen_D_effect_size,\n",
    "                                           alpha=0.05,\n",
    "                                           power=0.8,\n",
    "                                           nobs1=None,\n",
    "                                           ratio=1)\n",
    "                       )\n",
    "\n",
    "basic_sample_size"
   ]
  },
  {
   "cell_type": "markdown",
   "id": "0c780b8d-edf5-444f-a06b-108b86e8a2a0",
   "metadata": {},
   "source": [
    "### Task 6. "
   ]
  },
  {
   "cell_type": "markdown",
   "id": "eadd9eb9-75fd-46f9-9bf0-a4daa4e7ea1f",
   "metadata": {},
   "source": [
    "**What will be required sample size for stratified data?**"
   ]
  },
  {
   "cell_type": "code",
   "execution_count": 29,
   "id": "2335cb3d-382e-4c75-b83f-742a8d8155ab",
   "metadata": {},
   "outputs": [
    {
     "data": {
      "text/plain": [
       "region     0.67513\n",
       "capital    0.32487\n",
       "Name: is_capital, dtype: float64"
      ]
     },
     "execution_count": 29,
     "metadata": {},
     "output_type": "execute_result"
    }
   ],
   "source": [
    "control_df.is_capital.value_counts(normalize=True)"
   ]
  },
  {
   "cell_type": "code",
   "execution_count": 30,
   "id": "881c06cc-da2d-43a4-8dd6-cf2d5d54d16a",
   "metadata": {},
   "outputs": [
    {
     "data": {
      "text/plain": [
       "{'region': 0.6751300728407909, 'capital': 0.32486992715920915}"
      ]
     },
     "execution_count": 30,
     "metadata": {},
     "output_type": "execute_result"
    }
   ],
   "source": [
    "is_capital_weights = dict()\n",
    "\n",
    "is_capital_weights[control_df.is_capital.value_counts(normalize=True).index[0]] = control_df.is_capital.value_counts(normalize=True)[0]\n",
    "is_capital_weights[control_df.is_capital.value_counts(normalize=True).index[1]] = control_df.is_capital.value_counts(normalize=True)[1]\n",
    "\n",
    "is_capital_weights"
   ]
  },
  {
   "cell_type": "code",
   "execution_count": 31,
   "id": "ee1df659-d5d3-4623-bb4f-2f3626a63db6",
   "metadata": {},
   "outputs": [
    {
     "data": {
      "text/plain": [
       "0.042577425346549014"
      ]
     },
     "execution_count": 31,
     "metadata": {},
     "output_type": "execute_result"
    }
   ],
   "source": [
    "uplift = test_data.mean() - control_data.mean()\n",
    "data_std = calculate_strat_var(control_df, 'is_capital', is_capital_weights, 'ARPU') ** 0.5\n",
    "\n",
    "strat_cohen_D_effect_size = uplift / data_std\n",
    "\n",
    "strat_cohen_D_effect_size "
   ]
  },
  {
   "cell_type": "code",
   "execution_count": 32,
   "id": "6614ee56-6231-4be5-a980-c626c674b516",
   "metadata": {},
   "outputs": [
    {
     "data": {
      "text/plain": [
       "8660"
      ]
     },
     "execution_count": 32,
     "metadata": {},
     "output_type": "execute_result"
    }
   ],
   "source": [
    "strat_sample_size = int(tt_ind_solve_power(effect_size = strat_cohen_D_effect_size,\n",
    "                                           alpha=0.05,\n",
    "                                           power=0.8,\n",
    "                                           nobs1=None,\n",
    "                                           ratio=1)\n",
    "                       )\n",
    "\n",
    "strat_sample_size"
   ]
  }
 ],
 "metadata": {
  "kernelspec": {
   "display_name": "Python 3 (ipykernel)",
   "language": "python",
   "name": "python3"
  },
  "language_info": {
   "codemirror_mode": {
    "name": "ipython",
    "version": 3
   },
   "file_extension": ".py",
   "mimetype": "text/x-python",
   "name": "python",
   "nbconvert_exporter": "python",
   "pygments_lexer": "ipython3",
   "version": "3.8.10"
  }
 },
 "nbformat": 4,
 "nbformat_minor": 5
}
