{
 "cells": [
  {
   "cell_type": "markdown",
   "id": "e23e1516-6e75-4e85-bf5b-0011204c6bf9",
   "metadata": {},
   "source": [
    "# Looking for Proxy Metrics"
   ]
  },
  {
   "cell_type": "markdown",
   "id": "8ad67dba-80ad-46c5-ade5-7ce6464e9f6c",
   "metadata": {},
   "source": [
    "## Import libraries"
   ]
  },
  {
   "cell_type": "code",
   "execution_count": 6,
   "id": "f0a42d80-fcb2-4fd8-b665-d69d03a5beec",
   "metadata": {},
   "outputs": [],
   "source": [
    "#!pip install scipy matplotlib statsmodels seaborn"
   ]
  },
  {
   "cell_type": "code",
   "execution_count": 5,
   "id": "5eaf701c-e624-4451-95a9-5471dfe3f33d",
   "metadata": {},
   "outputs": [],
   "source": [
    "import numpy as np\n",
    "import pandas as pd\n",
    "import scipy.stats as ss\n",
    "import matplotlib.pyplot as plt\n",
    "import statsmodels.stats.api as sms\n",
    "import seaborn as sns\n",
    "from statsmodels.stats.proportion import proportion_confint"
   ]
  },
  {
   "cell_type": "markdown",
   "id": "b83f4ff4-04ce-437b-911f-c585b79bd897",
   "metadata": {},
   "source": [
    "## Import data"
   ]
  },
  {
   "cell_type": "code",
   "execution_count": 7,
   "id": "5fe22339-7e6d-40ab-afc8-e027a3b1febf",
   "metadata": {},
   "outputs": [],
   "source": [
    "df = pd.read_csv('proxy_metrics_homework_2.csv')"
   ]
  },
  {
   "cell_type": "code",
   "execution_count": 8,
   "id": "1aa567f0-5674-41bd-8281-248764c67bde",
   "metadata": {},
   "outputs": [
    {
     "data": {
      "text/html": [
       "<div>\n",
       "<style scoped>\n",
       "    .dataframe tbody tr th:only-of-type {\n",
       "        vertical-align: middle;\n",
       "    }\n",
       "\n",
       "    .dataframe tbody tr th {\n",
       "        vertical-align: top;\n",
       "    }\n",
       "\n",
       "    .dataframe thead th {\n",
       "        text-align: right;\n",
       "    }\n",
       "</style>\n",
       "<table border=\"1\" class=\"dataframe\">\n",
       "  <thead>\n",
       "    <tr style=\"text-align: right;\">\n",
       "      <th></th>\n",
       "      <th>user_id</th>\n",
       "      <th>views</th>\n",
       "      <th>contacts</th>\n",
       "      <th>last_7_views</th>\n",
       "      <th>last_3_views</th>\n",
       "      <th>last_7_contacts</th>\n",
       "      <th>last_3_contacts</th>\n",
       "      <th>live_days</th>\n",
       "      <th>messages_events</th>\n",
       "      <th>max_views_delta</th>\n",
       "      <th>add_to_favor_events</th>\n",
       "      <th>is_bought</th>\n",
       "    </tr>\n",
       "  </thead>\n",
       "  <tbody>\n",
       "    <tr>\n",
       "      <th>0</th>\n",
       "      <td>151042503</td>\n",
       "      <td>84</td>\n",
       "      <td>2</td>\n",
       "      <td>84</td>\n",
       "      <td>39</td>\n",
       "      <td>2</td>\n",
       "      <td>2</td>\n",
       "      <td>8</td>\n",
       "      <td>0</td>\n",
       "      <td>6</td>\n",
       "      <td>0.0</td>\n",
       "      <td>0</td>\n",
       "    </tr>\n",
       "    <tr>\n",
       "      <th>1</th>\n",
       "      <td>151212422</td>\n",
       "      <td>95</td>\n",
       "      <td>0</td>\n",
       "      <td>95</td>\n",
       "      <td>36</td>\n",
       "      <td>0</td>\n",
       "      <td>0</td>\n",
       "      <td>8</td>\n",
       "      <td>0</td>\n",
       "      <td>7</td>\n",
       "      <td>0.0</td>\n",
       "      <td>0</td>\n",
       "    </tr>\n",
       "    <tr>\n",
       "      <th>2</th>\n",
       "      <td>151206815</td>\n",
       "      <td>118</td>\n",
       "      <td>3</td>\n",
       "      <td>118</td>\n",
       "      <td>40</td>\n",
       "      <td>3</td>\n",
       "      <td>2</td>\n",
       "      <td>8</td>\n",
       "      <td>0</td>\n",
       "      <td>2</td>\n",
       "      <td>0.0</td>\n",
       "      <td>0</td>\n",
       "    </tr>\n",
       "    <tr>\n",
       "      <th>3</th>\n",
       "      <td>151284254</td>\n",
       "      <td>11</td>\n",
       "      <td>0</td>\n",
       "      <td>11</td>\n",
       "      <td>2</td>\n",
       "      <td>0</td>\n",
       "      <td>0</td>\n",
       "      <td>7</td>\n",
       "      <td>0</td>\n",
       "      <td>8</td>\n",
       "      <td>0.0</td>\n",
       "      <td>0</td>\n",
       "    </tr>\n",
       "    <tr>\n",
       "      <th>4</th>\n",
       "      <td>151088604</td>\n",
       "      <td>48</td>\n",
       "      <td>2</td>\n",
       "      <td>48</td>\n",
       "      <td>8</td>\n",
       "      <td>2</td>\n",
       "      <td>0</td>\n",
       "      <td>8</td>\n",
       "      <td>0</td>\n",
       "      <td>1</td>\n",
       "      <td>0.0</td>\n",
       "      <td>0</td>\n",
       "    </tr>\n",
       "    <tr>\n",
       "      <th>...</th>\n",
       "      <td>...</td>\n",
       "      <td>...</td>\n",
       "      <td>...</td>\n",
       "      <td>...</td>\n",
       "      <td>...</td>\n",
       "      <td>...</td>\n",
       "      <td>...</td>\n",
       "      <td>...</td>\n",
       "      <td>...</td>\n",
       "      <td>...</td>\n",
       "      <td>...</td>\n",
       "      <td>...</td>\n",
       "    </tr>\n",
       "    <tr>\n",
       "      <th>1195</th>\n",
       "      <td>142367169</td>\n",
       "      <td>2477</td>\n",
       "      <td>34</td>\n",
       "      <td>319</td>\n",
       "      <td>184</td>\n",
       "      <td>4</td>\n",
       "      <td>2</td>\n",
       "      <td>42</td>\n",
       "      <td>42</td>\n",
       "      <td>0</td>\n",
       "      <td>3.0</td>\n",
       "      <td>1</td>\n",
       "    </tr>\n",
       "    <tr>\n",
       "      <th>1196</th>\n",
       "      <td>149003341</td>\n",
       "      <td>469</td>\n",
       "      <td>15</td>\n",
       "      <td>231</td>\n",
       "      <td>168</td>\n",
       "      <td>8</td>\n",
       "      <td>8</td>\n",
       "      <td>41</td>\n",
       "      <td>9</td>\n",
       "      <td>1</td>\n",
       "      <td>0.0</td>\n",
       "      <td>1</td>\n",
       "    </tr>\n",
       "    <tr>\n",
       "      <th>1197</th>\n",
       "      <td>150878368</td>\n",
       "      <td>2663</td>\n",
       "      <td>23</td>\n",
       "      <td>2112</td>\n",
       "      <td>1213</td>\n",
       "      <td>23</td>\n",
       "      <td>17</td>\n",
       "      <td>10</td>\n",
       "      <td>24</td>\n",
       "      <td>0</td>\n",
       "      <td>0.0</td>\n",
       "      <td>1</td>\n",
       "    </tr>\n",
       "    <tr>\n",
       "      <th>1198</th>\n",
       "      <td>149351655</td>\n",
       "      <td>2673</td>\n",
       "      <td>39</td>\n",
       "      <td>1202</td>\n",
       "      <td>528</td>\n",
       "      <td>20</td>\n",
       "      <td>8</td>\n",
       "      <td>24</td>\n",
       "      <td>26</td>\n",
       "      <td>31</td>\n",
       "      <td>1.0</td>\n",
       "      <td>1</td>\n",
       "    </tr>\n",
       "    <tr>\n",
       "      <th>1199</th>\n",
       "      <td>149196995</td>\n",
       "      <td>3966</td>\n",
       "      <td>55</td>\n",
       "      <td>566</td>\n",
       "      <td>382</td>\n",
       "      <td>11</td>\n",
       "      <td>5</td>\n",
       "      <td>42</td>\n",
       "      <td>33</td>\n",
       "      <td>3</td>\n",
       "      <td>2.0</td>\n",
       "      <td>1</td>\n",
       "    </tr>\n",
       "  </tbody>\n",
       "</table>\n",
       "<p>1200 rows × 12 columns</p>\n",
       "</div>"
      ],
      "text/plain": [
       "        user_id  views  contacts  last_7_views  last_3_views  last_7_contacts  \\\n",
       "0     151042503     84         2            84            39                2   \n",
       "1     151212422     95         0            95            36                0   \n",
       "2     151206815    118         3           118            40                3   \n",
       "3     151284254     11         0            11             2                0   \n",
       "4     151088604     48         2            48             8                2   \n",
       "...         ...    ...       ...           ...           ...              ...   \n",
       "1195  142367169   2477        34           319           184                4   \n",
       "1196  149003341    469        15           231           168                8   \n",
       "1197  150878368   2663        23          2112          1213               23   \n",
       "1198  149351655   2673        39          1202           528               20   \n",
       "1199  149196995   3966        55           566           382               11   \n",
       "\n",
       "      last_3_contacts  live_days  messages_events  max_views_delta  \\\n",
       "0                   2          8                0                6   \n",
       "1                   0          8                0                7   \n",
       "2                   2          8                0                2   \n",
       "3                   0          7                0                8   \n",
       "4                   0          8                0                1   \n",
       "...               ...        ...              ...              ...   \n",
       "1195                2         42               42                0   \n",
       "1196                8         41                9                1   \n",
       "1197               17         10               24                0   \n",
       "1198                8         24               26               31   \n",
       "1199                5         42               33                3   \n",
       "\n",
       "      add_to_favor_events  is_bought  \n",
       "0                     0.0          0  \n",
       "1                     0.0          0  \n",
       "2                     0.0          0  \n",
       "3                     0.0          0  \n",
       "4                     0.0          0  \n",
       "...                   ...        ...  \n",
       "1195                  3.0          1  \n",
       "1196                  0.0          1  \n",
       "1197                  0.0          1  \n",
       "1198                  1.0          1  \n",
       "1199                  2.0          1  \n",
       "\n",
       "[1200 rows x 12 columns]"
      ]
     },
     "execution_count": 8,
     "metadata": {},
     "output_type": "execute_result"
    }
   ],
   "source": [
    "df"
   ]
  },
  {
   "cell_type": "code",
   "execution_count": 9,
   "id": "fc3b55a7-2357-4926-96d0-666c92d16720",
   "metadata": {},
   "outputs": [
    {
     "name": "stdout",
     "output_type": "stream",
     "text": [
      "<class 'pandas.core.frame.DataFrame'>\n",
      "RangeIndex: 1200 entries, 0 to 1199\n",
      "Data columns (total 12 columns):\n",
      " #   Column               Non-Null Count  Dtype  \n",
      "---  ------               --------------  -----  \n",
      " 0   user_id              1200 non-null   int64  \n",
      " 1   views                1200 non-null   int64  \n",
      " 2   contacts             1200 non-null   int64  \n",
      " 3   last_7_views         1200 non-null   int64  \n",
      " 4   last_3_views         1200 non-null   int64  \n",
      " 5   last_7_contacts      1200 non-null   int64  \n",
      " 6   last_3_contacts      1200 non-null   int64  \n",
      " 7   live_days            1200 non-null   int64  \n",
      " 8   messages_events      1200 non-null   int64  \n",
      " 9   max_views_delta      1200 non-null   int64  \n",
      " 10  add_to_favor_events  1200 non-null   float64\n",
      " 11  is_bought            1200 non-null   int64  \n",
      "dtypes: float64(1), int64(11)\n",
      "memory usage: 112.6 KB\n"
     ]
    }
   ],
   "source": [
    "df.info()"
   ]
  },
  {
   "cell_type": "markdown",
   "id": "b6e6fc11-f7c5-4ada-a6de-eda65591c0aa",
   "metadata": {},
   "source": [
    "## Tasks"
   ]
  },
  {
   "cell_type": "markdown",
   "id": "7c334d62-e699-49c4-bb27-367395721dfd",
   "metadata": {},
   "source": [
    "### Task 1."
   ]
  },
  {
   "cell_type": "markdown",
   "id": "dcb63d57-d2f7-4948-9b43-92b2ac608650",
   "metadata": {},
   "source": [
    " **Find an average conversion into buying a car.**"
   ]
  },
  {
   "cell_type": "code",
   "execution_count": 10,
   "id": "af1a1078-0423-4b7d-89a8-2efa038034de",
   "metadata": {},
   "outputs": [
    {
     "data": {
      "text/plain": [
       "0.3425"
      ]
     },
     "execution_count": 10,
     "metadata": {},
     "output_type": "execute_result"
    }
   ],
   "source": [
    "df.is_bought.mean()"
   ]
  },
  {
   "cell_type": "markdown",
   "id": "92137d74-b31f-4aba-a1b5-d9164be17f5b",
   "metadata": {},
   "source": [
    "### Task 2.  "
   ]
  },
  {
   "cell_type": "markdown",
   "id": "830049b9-f37d-4c47-82b3-0e95d7db9ed3",
   "metadata": {},
   "source": [
    "**What is the average number of contacts for the entire period for those who did not buy a car?**"
   ]
  },
  {
   "cell_type": "code",
   "execution_count": 12,
   "id": "aa7303d0-6f70-4aff-b496-fa0ae35a6a23",
   "metadata": {},
   "outputs": [
    {
     "data": {
      "text/plain": [
       "13.135614702154626"
      ]
     },
     "execution_count": 12,
     "metadata": {},
     "output_type": "execute_result"
    }
   ],
   "source": [
    "df[df['is_bought'] == 0].contacts.mean()"
   ]
  },
  {
   "cell_type": "markdown",
   "id": "31fae889-4938-45d4-9b13-01d632b6316b",
   "metadata": {},
   "source": [
    "### Task 3."
   ]
  },
  {
   "cell_type": "markdown",
   "id": "5dd570b5-0f5c-4a14-a892-5fbf203ec02d",
   "metadata": {},
   "source": [
    "**Calculate how many times the average number of adds to favorites (add_to_favor_events) differs for each of the two cohorts (those who bought a car and those who did not buy a car).**"
   ]
  },
  {
   "cell_type": "code",
   "execution_count": 15,
   "id": "68af5658-fd60-4eb9-b6c8-362f0ba4524c",
   "metadata": {},
   "outputs": [
    {
     "data": {
      "text/html": [
       "<div>\n",
       "<style scoped>\n",
       "    .dataframe tbody tr th:only-of-type {\n",
       "        vertical-align: middle;\n",
       "    }\n",
       "\n",
       "    .dataframe tbody tr th {\n",
       "        vertical-align: top;\n",
       "    }\n",
       "\n",
       "    .dataframe thead th {\n",
       "        text-align: right;\n",
       "    }\n",
       "</style>\n",
       "<table border=\"1\" class=\"dataframe\">\n",
       "  <thead>\n",
       "    <tr style=\"text-align: right;\">\n",
       "      <th></th>\n",
       "      <th>is_bought</th>\n",
       "      <th>add_to_favor_events</th>\n",
       "    </tr>\n",
       "  </thead>\n",
       "  <tbody>\n",
       "    <tr>\n",
       "      <th>0</th>\n",
       "      <td>0</td>\n",
       "      <td>0.158428</td>\n",
       "    </tr>\n",
       "    <tr>\n",
       "      <th>1</th>\n",
       "      <td>1</td>\n",
       "      <td>0.318735</td>\n",
       "    </tr>\n",
       "  </tbody>\n",
       "</table>\n",
       "</div>"
      ],
      "text/plain": [
       "   is_bought  add_to_favor_events\n",
       "0          0             0.158428\n",
       "1          1             0.318735"
      ]
     },
     "execution_count": 15,
     "metadata": {},
     "output_type": "execute_result"
    }
   ],
   "source": [
    "ans_3 = df.groupby('is_bought', as_index=False).agg({'add_to_favor_events': 'mean'})\n",
    "\n",
    "ans_3"
   ]
  },
  {
   "cell_type": "code",
   "execution_count": 18,
   "id": "e319cd40-858f-4754-ba2b-ba4e7020fbf1",
   "metadata": {},
   "outputs": [
    {
     "data": {
      "text/plain": [
       "2.01185401459854"
      ]
     },
     "execution_count": 18,
     "metadata": {},
     "output_type": "execute_result"
    }
   ],
   "source": [
    "ans_3.iloc[1].add_to_favor_events / ans_3.iloc[0].add_to_favor_events"
   ]
  },
  {
   "cell_type": "markdown",
   "id": "9998555e-c10e-42e9-9d02-143752f81ae8",
   "metadata": {},
   "source": [
    "### Task 4. "
   ]
  },
  {
   "cell_type": "markdown",
   "id": "4444fbd2-58f7-44ac-b794-8d530bc435c6",
   "metadata": {},
   "source": [
    "**Find the percentage of users who have not made any contacts for each of the two cohorts (those who bought a car and those who did not buy a car).**"
   ]
  },
  {
   "cell_type": "code",
   "execution_count": 33,
   "id": "216ab834-4780-40f5-a596-5e83115c46af",
   "metadata": {},
   "outputs": [
    {
     "name": "stdout",
     "output_type": "stream",
     "text": [
      "Zero contacts percentage among who did not buy a car:  10.27%\n",
      "Zero contacts percentage among who bought a car:  3.65%\n"
     ]
    }
   ],
   "source": [
    "not_bought = df[df['is_bought'] == 0].shape[0]\n",
    "not_bought_zero_contacts = df[(df['is_bought'] == 0) & (df['contacts'] == 0)].shape[0]\n",
    "\n",
    "bought = df[df['is_bought'] == 1].shape[0]\n",
    "bought_zero_contacts = df[(df['is_bought'] == 1) & (df['contacts'] == 0)].shape[0]\n",
    "\n",
    "print(f'Zero contacts percentage among those who did not buy a car: {not_bought_zero_contacts / not_bought: .2%}')\n",
    "print(f'Zero contacts percentage among those who bought a car: {bought_zero_contacts / bought: .2%}')"
   ]
  },
  {
   "cell_type": "markdown",
   "id": "dcb16c52-fe9b-48d4-9d38-2afb74cb5248",
   "metadata": {},
   "source": [
    "### Task 5. "
   ]
  },
  {
   "cell_type": "markdown",
   "id": "0f89b582-2814-4515-a460-4f8bb200a7e5",
   "metadata": {},
   "source": [
    "**Find the average LT (lifetime — duration from the first day to churn) for two cohorts.**"
   ]
  },
  {
   "cell_type": "code",
   "execution_count": 44,
   "id": "a464999b-1923-4f0c-b27d-5e0f980da14d",
   "metadata": {},
   "outputs": [
    {
     "data": {
      "text/html": [
       "<div>\n",
       "<style scoped>\n",
       "    .dataframe tbody tr th:only-of-type {\n",
       "        vertical-align: middle;\n",
       "    }\n",
       "\n",
       "    .dataframe tbody tr th {\n",
       "        vertical-align: top;\n",
       "    }\n",
       "\n",
       "    .dataframe thead th {\n",
       "        text-align: right;\n",
       "    }\n",
       "</style>\n",
       "<table border=\"1\" class=\"dataframe\">\n",
       "  <thead>\n",
       "    <tr style=\"text-align: right;\">\n",
       "      <th></th>\n",
       "      <th>is_bought</th>\n",
       "      <th>live_days</th>\n",
       "    </tr>\n",
       "  </thead>\n",
       "  <tbody>\n",
       "    <tr>\n",
       "      <th>0</th>\n",
       "      <td>0</td>\n",
       "      <td>12.724968</td>\n",
       "    </tr>\n",
       "    <tr>\n",
       "      <th>1</th>\n",
       "      <td>1</td>\n",
       "      <td>10.150852</td>\n",
       "    </tr>\n",
       "  </tbody>\n",
       "</table>\n",
       "</div>"
      ],
      "text/plain": [
       "   is_bought  live_days\n",
       "0          0  12.724968\n",
       "1          1  10.150852"
      ]
     },
     "execution_count": 44,
     "metadata": {},
     "output_type": "execute_result"
    }
   ],
   "source": [
    "df.groupby('is_bought', as_index=False).agg({'live_days': 'mean'})"
   ]
  },
  {
   "cell_type": "markdown",
   "id": "02cf0cad-ae94-4463-8ea7-82395468ee3a",
   "metadata": {},
   "source": [
    "### Task 6. "
   ]
  },
  {
   "cell_type": "markdown",
   "id": "54ae1c9e-ea55-483d-b045-edef4d7fd3f1",
   "metadata": {},
   "source": [
    "**Find the ratio between views and contacts for two cohorts.**"
   ]
  },
  {
   "cell_type": "code",
   "execution_count": 48,
   "id": "35cbcc43-e8d7-40ea-acc4-366d1ceeef68",
   "metadata": {},
   "outputs": [
    {
     "data": {
      "text/plain": [
       "0.022867884495711047"
      ]
     },
     "execution_count": 48,
     "metadata": {},
     "output_type": "execute_result"
    }
   ],
   "source": [
    "(df[df['is_bought'] == 0].contacts / df[df['is_bought'] == 0].views).mean()"
   ]
  },
  {
   "cell_type": "code",
   "execution_count": 49,
   "id": "2fdb5a77-8a18-4314-9619-f080ba24db64",
   "metadata": {},
   "outputs": [
    {
     "data": {
      "text/plain": [
       "0.034810729185530236"
      ]
     },
     "execution_count": 49,
     "metadata": {},
     "output_type": "execute_result"
    }
   ],
   "source": [
    "(df[df['is_bought'] == 1].contacts / df[df['is_bought'] == 1].views).mean()"
   ]
  },
  {
   "cell_type": "markdown",
   "id": "2010697b-c967-41f9-97eb-71611a09fad2",
   "metadata": {},
   "source": [
    "### Task 7. "
   ]
  },
  {
   "cell_type": "code",
   "execution_count": null,
   "id": "addbf2e1-4c44-4d5c-ae1a-bf3b1779e85c",
   "metadata": {},
   "outputs": [],
   "source": [
    "tbc.."
   ]
  },
  {
   "cell_type": "code",
   "execution_count": null,
   "id": "4095a183-009d-435d-9af2-f4cf827eb9a0",
   "metadata": {},
   "outputs": [],
   "source": []
  },
  {
   "cell_type": "code",
   "execution_count": null,
   "id": "1ae504fb-283a-48e4-be38-90f751d76329",
   "metadata": {},
   "outputs": [],
   "source": []
  },
  {
   "cell_type": "code",
   "execution_count": null,
   "id": "c0c8d17a-7741-48e2-aae6-e45427a87d89",
   "metadata": {},
   "outputs": [],
   "source": []
  },
  {
   "cell_type": "code",
   "execution_count": null,
   "id": "f403ef84-8ffc-4597-9222-66e7ba8e521d",
   "metadata": {},
   "outputs": [],
   "source": []
  },
  {
   "cell_type": "code",
   "execution_count": null,
   "id": "34818024-fedd-4dde-b6fe-19a17284cfb9",
   "metadata": {},
   "outputs": [],
   "source": []
  },
  {
   "cell_type": "code",
   "execution_count": null,
   "id": "8303fbd9-009e-45b5-b0ed-85e20b9e92ee",
   "metadata": {},
   "outputs": [],
   "source": []
  },
  {
   "cell_type": "code",
   "execution_count": null,
   "id": "0130d277-558e-40fb-aa62-ea47290a1c8f",
   "metadata": {},
   "outputs": [],
   "source": []
  },
  {
   "cell_type": "code",
   "execution_count": null,
   "id": "f019e162-848e-4df0-aec5-d26747fdbddc",
   "metadata": {},
   "outputs": [],
   "source": []
  },
  {
   "cell_type": "code",
   "execution_count": null,
   "id": "11bbbdb8-cbdc-4635-9e9f-13baaa068770",
   "metadata": {},
   "outputs": [],
   "source": []
  },
  {
   "cell_type": "code",
   "execution_count": null,
   "id": "0c8dd851-c4ed-4322-83c8-f4d8473826f0",
   "metadata": {},
   "outputs": [],
   "source": []
  },
  {
   "cell_type": "code",
   "execution_count": null,
   "id": "c8aa2e5e-274d-49aa-a1a6-478908d88608",
   "metadata": {},
   "outputs": [],
   "source": []
  },
  {
   "cell_type": "code",
   "execution_count": null,
   "id": "fd0f810d-c54f-40f2-a549-3640e2bd474a",
   "metadata": {},
   "outputs": [],
   "source": []
  },
  {
   "cell_type": "code",
   "execution_count": null,
   "id": "c45a6a4e-e8cc-48b4-be52-c42f98f87c84",
   "metadata": {},
   "outputs": [],
   "source": []
  },
  {
   "cell_type": "code",
   "execution_count": null,
   "id": "91ea341e-ab3f-47eb-b61e-a6d326737e9a",
   "metadata": {},
   "outputs": [],
   "source": []
  },
  {
   "cell_type": "code",
   "execution_count": null,
   "id": "49c8c70e-e981-4d5b-a579-cdbe3f44defc",
   "metadata": {},
   "outputs": [],
   "source": []
  },
  {
   "cell_type": "code",
   "execution_count": null,
   "id": "d80d7422-c998-48e7-ad7c-57489978be4b",
   "metadata": {},
   "outputs": [],
   "source": []
  },
  {
   "cell_type": "code",
   "execution_count": null,
   "id": "77c52588-afa5-4d26-ab65-df2a9569e8e0",
   "metadata": {},
   "outputs": [],
   "source": []
  },
  {
   "cell_type": "code",
   "execution_count": null,
   "id": "bcb52cf0-9a81-45cc-8c94-42c0fcf49b1a",
   "metadata": {},
   "outputs": [],
   "source": []
  },
  {
   "cell_type": "code",
   "execution_count": null,
   "id": "62aeb234-4a30-4b09-aff2-508ba1c1a781",
   "metadata": {},
   "outputs": [],
   "source": []
  },
  {
   "cell_type": "code",
   "execution_count": null,
   "id": "4049af96-fdd2-4299-bc2f-67209e6546c3",
   "metadata": {},
   "outputs": [],
   "source": []
  },
  {
   "cell_type": "code",
   "execution_count": null,
   "id": "1bec9de9-0a76-4920-af5b-27d7b0120d87",
   "metadata": {},
   "outputs": [],
   "source": []
  },
  {
   "cell_type": "code",
   "execution_count": null,
   "id": "26d99ac9-6393-49fd-b361-c7d5c8076d1c",
   "metadata": {},
   "outputs": [],
   "source": []
  },
  {
   "cell_type": "code",
   "execution_count": null,
   "id": "9e60fb71-6074-4ea8-b30e-bea48e0b874c",
   "metadata": {},
   "outputs": [],
   "source": []
  },
  {
   "cell_type": "code",
   "execution_count": null,
   "id": "c621c621-6ec6-4c12-8eb2-2241bef7cc4b",
   "metadata": {},
   "outputs": [],
   "source": []
  },
  {
   "cell_type": "code",
   "execution_count": null,
   "id": "ce5b88eb-aae5-404b-976c-7f6b30570908",
   "metadata": {},
   "outputs": [],
   "source": []
  },
  {
   "cell_type": "code",
   "execution_count": null,
   "id": "a200a198-83d0-4823-a608-a4be7d00825b",
   "metadata": {},
   "outputs": [],
   "source": []
  }
 ],
 "metadata": {
  "kernelspec": {
   "display_name": "Python 3 (ipykernel)",
   "language": "python",
   "name": "python3"
  },
  "language_info": {
   "codemirror_mode": {
    "name": "ipython",
    "version": 3
   },
   "file_extension": ".py",
   "mimetype": "text/x-python",
   "name": "python",
   "nbconvert_exporter": "python",
   "pygments_lexer": "ipython3",
   "version": "3.8.10"
  }
 },
 "nbformat": 4,
 "nbformat_minor": 5
}
