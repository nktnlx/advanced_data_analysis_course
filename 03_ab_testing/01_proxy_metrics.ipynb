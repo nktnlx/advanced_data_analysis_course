{
 "cells": [
  {
   "cell_type": "markdown",
   "id": "e23e1516-6e75-4e85-bf5b-0011204c6bf9",
   "metadata": {},
   "source": [
    "# Looking for Proxy Metrics"
   ]
  },
  {
   "cell_type": "markdown",
   "id": "8ad67dba-80ad-46c5-ade5-7ce6464e9f6c",
   "metadata": {},
   "source": [
    "## Import libraries"
   ]
  },
  {
   "cell_type": "code",
   "execution_count": 1,
   "id": "f0a42d80-fcb2-4fd8-b665-d69d03a5beec",
   "metadata": {},
   "outputs": [],
   "source": [
    "#!pip install scipy matplotlib statsmodels seaborn"
   ]
  },
  {
   "cell_type": "code",
   "execution_count": 2,
   "id": "5eaf701c-e624-4451-95a9-5471dfe3f33d",
   "metadata": {},
   "outputs": [],
   "source": [
    "import numpy as np\n",
    "import pandas as pd\n",
    "import scipy.stats as ss\n",
    "import matplotlib.pyplot as plt\n",
    "import statsmodels.stats.api as sms\n",
    "import seaborn as sns\n",
    "from statsmodels.stats.proportion import proportion_confint"
   ]
  },
  {
   "cell_type": "markdown",
   "id": "b83f4ff4-04ce-437b-911f-c585b79bd897",
   "metadata": {},
   "source": [
    "## Import data"
   ]
  },
  {
   "cell_type": "code",
   "execution_count": 3,
   "id": "5fe22339-7e6d-40ab-afc8-e027a3b1febf",
   "metadata": {},
   "outputs": [],
   "source": [
    "df = pd.read_csv('proxy_metrics_homework_2.csv')"
   ]
  },
  {
   "cell_type": "code",
   "execution_count": 4,
   "id": "1aa567f0-5674-41bd-8281-248764c67bde",
   "metadata": {},
   "outputs": [
    {
     "data": {
      "text/html": [
       "<div>\n",
       "<style scoped>\n",
       "    .dataframe tbody tr th:only-of-type {\n",
       "        vertical-align: middle;\n",
       "    }\n",
       "\n",
       "    .dataframe tbody tr th {\n",
       "        vertical-align: top;\n",
       "    }\n",
       "\n",
       "    .dataframe thead th {\n",
       "        text-align: right;\n",
       "    }\n",
       "</style>\n",
       "<table border=\"1\" class=\"dataframe\">\n",
       "  <thead>\n",
       "    <tr style=\"text-align: right;\">\n",
       "      <th></th>\n",
       "      <th>user_id</th>\n",
       "      <th>views</th>\n",
       "      <th>contacts</th>\n",
       "      <th>last_7_views</th>\n",
       "      <th>last_3_views</th>\n",
       "      <th>last_7_contacts</th>\n",
       "      <th>last_3_contacts</th>\n",
       "      <th>live_days</th>\n",
       "      <th>messages_events</th>\n",
       "      <th>max_views_delta</th>\n",
       "      <th>add_to_favor_events</th>\n",
       "      <th>is_bought</th>\n",
       "    </tr>\n",
       "  </thead>\n",
       "  <tbody>\n",
       "    <tr>\n",
       "      <th>0</th>\n",
       "      <td>151042503</td>\n",
       "      <td>84</td>\n",
       "      <td>2</td>\n",
       "      <td>84</td>\n",
       "      <td>39</td>\n",
       "      <td>2</td>\n",
       "      <td>2</td>\n",
       "      <td>8</td>\n",
       "      <td>0</td>\n",
       "      <td>6</td>\n",
       "      <td>0.0</td>\n",
       "      <td>0</td>\n",
       "    </tr>\n",
       "    <tr>\n",
       "      <th>1</th>\n",
       "      <td>151212422</td>\n",
       "      <td>95</td>\n",
       "      <td>0</td>\n",
       "      <td>95</td>\n",
       "      <td>36</td>\n",
       "      <td>0</td>\n",
       "      <td>0</td>\n",
       "      <td>8</td>\n",
       "      <td>0</td>\n",
       "      <td>7</td>\n",
       "      <td>0.0</td>\n",
       "      <td>0</td>\n",
       "    </tr>\n",
       "    <tr>\n",
       "      <th>2</th>\n",
       "      <td>151206815</td>\n",
       "      <td>118</td>\n",
       "      <td>3</td>\n",
       "      <td>118</td>\n",
       "      <td>40</td>\n",
       "      <td>3</td>\n",
       "      <td>2</td>\n",
       "      <td>8</td>\n",
       "      <td>0</td>\n",
       "      <td>2</td>\n",
       "      <td>0.0</td>\n",
       "      <td>0</td>\n",
       "    </tr>\n",
       "    <tr>\n",
       "      <th>3</th>\n",
       "      <td>151284254</td>\n",
       "      <td>11</td>\n",
       "      <td>0</td>\n",
       "      <td>11</td>\n",
       "      <td>2</td>\n",
       "      <td>0</td>\n",
       "      <td>0</td>\n",
       "      <td>7</td>\n",
       "      <td>0</td>\n",
       "      <td>8</td>\n",
       "      <td>0.0</td>\n",
       "      <td>0</td>\n",
       "    </tr>\n",
       "    <tr>\n",
       "      <th>4</th>\n",
       "      <td>151088604</td>\n",
       "      <td>48</td>\n",
       "      <td>2</td>\n",
       "      <td>48</td>\n",
       "      <td>8</td>\n",
       "      <td>2</td>\n",
       "      <td>0</td>\n",
       "      <td>8</td>\n",
       "      <td>0</td>\n",
       "      <td>1</td>\n",
       "      <td>0.0</td>\n",
       "      <td>0</td>\n",
       "    </tr>\n",
       "    <tr>\n",
       "      <th>...</th>\n",
       "      <td>...</td>\n",
       "      <td>...</td>\n",
       "      <td>...</td>\n",
       "      <td>...</td>\n",
       "      <td>...</td>\n",
       "      <td>...</td>\n",
       "      <td>...</td>\n",
       "      <td>...</td>\n",
       "      <td>...</td>\n",
       "      <td>...</td>\n",
       "      <td>...</td>\n",
       "      <td>...</td>\n",
       "    </tr>\n",
       "    <tr>\n",
       "      <th>1195</th>\n",
       "      <td>142367169</td>\n",
       "      <td>2477</td>\n",
       "      <td>34</td>\n",
       "      <td>319</td>\n",
       "      <td>184</td>\n",
       "      <td>4</td>\n",
       "      <td>2</td>\n",
       "      <td>42</td>\n",
       "      <td>42</td>\n",
       "      <td>0</td>\n",
       "      <td>3.0</td>\n",
       "      <td>1</td>\n",
       "    </tr>\n",
       "    <tr>\n",
       "      <th>1196</th>\n",
       "      <td>149003341</td>\n",
       "      <td>469</td>\n",
       "      <td>15</td>\n",
       "      <td>231</td>\n",
       "      <td>168</td>\n",
       "      <td>8</td>\n",
       "      <td>8</td>\n",
       "      <td>41</td>\n",
       "      <td>9</td>\n",
       "      <td>1</td>\n",
       "      <td>0.0</td>\n",
       "      <td>1</td>\n",
       "    </tr>\n",
       "    <tr>\n",
       "      <th>1197</th>\n",
       "      <td>150878368</td>\n",
       "      <td>2663</td>\n",
       "      <td>23</td>\n",
       "      <td>2112</td>\n",
       "      <td>1213</td>\n",
       "      <td>23</td>\n",
       "      <td>17</td>\n",
       "      <td>10</td>\n",
       "      <td>24</td>\n",
       "      <td>0</td>\n",
       "      <td>0.0</td>\n",
       "      <td>1</td>\n",
       "    </tr>\n",
       "    <tr>\n",
       "      <th>1198</th>\n",
       "      <td>149351655</td>\n",
       "      <td>2673</td>\n",
       "      <td>39</td>\n",
       "      <td>1202</td>\n",
       "      <td>528</td>\n",
       "      <td>20</td>\n",
       "      <td>8</td>\n",
       "      <td>24</td>\n",
       "      <td>26</td>\n",
       "      <td>31</td>\n",
       "      <td>1.0</td>\n",
       "      <td>1</td>\n",
       "    </tr>\n",
       "    <tr>\n",
       "      <th>1199</th>\n",
       "      <td>149196995</td>\n",
       "      <td>3966</td>\n",
       "      <td>55</td>\n",
       "      <td>566</td>\n",
       "      <td>382</td>\n",
       "      <td>11</td>\n",
       "      <td>5</td>\n",
       "      <td>42</td>\n",
       "      <td>33</td>\n",
       "      <td>3</td>\n",
       "      <td>2.0</td>\n",
       "      <td>1</td>\n",
       "    </tr>\n",
       "  </tbody>\n",
       "</table>\n",
       "<p>1200 rows × 12 columns</p>\n",
       "</div>"
      ],
      "text/plain": [
       "        user_id  views  contacts  last_7_views  last_3_views  last_7_contacts  \\\n",
       "0     151042503     84         2            84            39                2   \n",
       "1     151212422     95         0            95            36                0   \n",
       "2     151206815    118         3           118            40                3   \n",
       "3     151284254     11         0            11             2                0   \n",
       "4     151088604     48         2            48             8                2   \n",
       "...         ...    ...       ...           ...           ...              ...   \n",
       "1195  142367169   2477        34           319           184                4   \n",
       "1196  149003341    469        15           231           168                8   \n",
       "1197  150878368   2663        23          2112          1213               23   \n",
       "1198  149351655   2673        39          1202           528               20   \n",
       "1199  149196995   3966        55           566           382               11   \n",
       "\n",
       "      last_3_contacts  live_days  messages_events  max_views_delta  \\\n",
       "0                   2          8                0                6   \n",
       "1                   0          8                0                7   \n",
       "2                   2          8                0                2   \n",
       "3                   0          7                0                8   \n",
       "4                   0          8                0                1   \n",
       "...               ...        ...              ...              ...   \n",
       "1195                2         42               42                0   \n",
       "1196                8         41                9                1   \n",
       "1197               17         10               24                0   \n",
       "1198                8         24               26               31   \n",
       "1199                5         42               33                3   \n",
       "\n",
       "      add_to_favor_events  is_bought  \n",
       "0                     0.0          0  \n",
       "1                     0.0          0  \n",
       "2                     0.0          0  \n",
       "3                     0.0          0  \n",
       "4                     0.0          0  \n",
       "...                   ...        ...  \n",
       "1195                  3.0          1  \n",
       "1196                  0.0          1  \n",
       "1197                  0.0          1  \n",
       "1198                  1.0          1  \n",
       "1199                  2.0          1  \n",
       "\n",
       "[1200 rows x 12 columns]"
      ]
     },
     "execution_count": 4,
     "metadata": {},
     "output_type": "execute_result"
    }
   ],
   "source": [
    "df"
   ]
  },
  {
   "cell_type": "code",
   "execution_count": 5,
   "id": "fc3b55a7-2357-4926-96d0-666c92d16720",
   "metadata": {},
   "outputs": [
    {
     "name": "stdout",
     "output_type": "stream",
     "text": [
      "<class 'pandas.core.frame.DataFrame'>\n",
      "RangeIndex: 1200 entries, 0 to 1199\n",
      "Data columns (total 12 columns):\n",
      " #   Column               Non-Null Count  Dtype  \n",
      "---  ------               --------------  -----  \n",
      " 0   user_id              1200 non-null   int64  \n",
      " 1   views                1200 non-null   int64  \n",
      " 2   contacts             1200 non-null   int64  \n",
      " 3   last_7_views         1200 non-null   int64  \n",
      " 4   last_3_views         1200 non-null   int64  \n",
      " 5   last_7_contacts      1200 non-null   int64  \n",
      " 6   last_3_contacts      1200 non-null   int64  \n",
      " 7   live_days            1200 non-null   int64  \n",
      " 8   messages_events      1200 non-null   int64  \n",
      " 9   max_views_delta      1200 non-null   int64  \n",
      " 10  add_to_favor_events  1200 non-null   float64\n",
      " 11  is_bought            1200 non-null   int64  \n",
      "dtypes: float64(1), int64(11)\n",
      "memory usage: 112.6 KB\n"
     ]
    }
   ],
   "source": [
    "df.info()"
   ]
  },
  {
   "cell_type": "markdown",
   "id": "b6e6fc11-f7c5-4ada-a6de-eda65591c0aa",
   "metadata": {},
   "source": [
    "## Tasks"
   ]
  },
  {
   "cell_type": "markdown",
   "id": "7c334d62-e699-49c4-bb27-367395721dfd",
   "metadata": {},
   "source": [
    "### Task 1."
   ]
  },
  {
   "cell_type": "markdown",
   "id": "dcb63d57-d2f7-4948-9b43-92b2ac608650",
   "metadata": {},
   "source": [
    " **Find an average conversion into buying a car.**"
   ]
  },
  {
   "cell_type": "code",
   "execution_count": 6,
   "id": "af1a1078-0423-4b7d-89a8-2efa038034de",
   "metadata": {},
   "outputs": [
    {
     "data": {
      "text/plain": [
       "0.3425"
      ]
     },
     "execution_count": 6,
     "metadata": {},
     "output_type": "execute_result"
    }
   ],
   "source": [
    "df.is_bought.mean()"
   ]
  },
  {
   "cell_type": "markdown",
   "id": "92137d74-b31f-4aba-a1b5-d9164be17f5b",
   "metadata": {},
   "source": [
    "### Task 2.  "
   ]
  },
  {
   "cell_type": "markdown",
   "id": "830049b9-f37d-4c47-82b3-0e95d7db9ed3",
   "metadata": {},
   "source": [
    "**What is the average number of contacts for the entire period for those who did not buy a car?**"
   ]
  },
  {
   "cell_type": "code",
   "execution_count": 7,
   "id": "aa7303d0-6f70-4aff-b496-fa0ae35a6a23",
   "metadata": {},
   "outputs": [
    {
     "data": {
      "text/plain": [
       "13.135614702154626"
      ]
     },
     "execution_count": 7,
     "metadata": {},
     "output_type": "execute_result"
    }
   ],
   "source": [
    "df[df['is_bought'] == 0].contacts.mean()"
   ]
  },
  {
   "cell_type": "markdown",
   "id": "31fae889-4938-45d4-9b13-01d632b6316b",
   "metadata": {},
   "source": [
    "### Task 3."
   ]
  },
  {
   "cell_type": "markdown",
   "id": "5dd570b5-0f5c-4a14-a892-5fbf203ec02d",
   "metadata": {},
   "source": [
    "**Calculate how many times the average number of adds to favorites (add_to_favor_events) differs for each of the two cohorts (those who bought a car and those who did not buy a car).**"
   ]
  },
  {
   "cell_type": "code",
   "execution_count": 8,
   "id": "68af5658-fd60-4eb9-b6c8-362f0ba4524c",
   "metadata": {},
   "outputs": [
    {
     "data": {
      "text/html": [
       "<div>\n",
       "<style scoped>\n",
       "    .dataframe tbody tr th:only-of-type {\n",
       "        vertical-align: middle;\n",
       "    }\n",
       "\n",
       "    .dataframe tbody tr th {\n",
       "        vertical-align: top;\n",
       "    }\n",
       "\n",
       "    .dataframe thead th {\n",
       "        text-align: right;\n",
       "    }\n",
       "</style>\n",
       "<table border=\"1\" class=\"dataframe\">\n",
       "  <thead>\n",
       "    <tr style=\"text-align: right;\">\n",
       "      <th></th>\n",
       "      <th>is_bought</th>\n",
       "      <th>add_to_favor_events</th>\n",
       "    </tr>\n",
       "  </thead>\n",
       "  <tbody>\n",
       "    <tr>\n",
       "      <th>0</th>\n",
       "      <td>0</td>\n",
       "      <td>0.158428</td>\n",
       "    </tr>\n",
       "    <tr>\n",
       "      <th>1</th>\n",
       "      <td>1</td>\n",
       "      <td>0.318735</td>\n",
       "    </tr>\n",
       "  </tbody>\n",
       "</table>\n",
       "</div>"
      ],
      "text/plain": [
       "   is_bought  add_to_favor_events\n",
       "0          0             0.158428\n",
       "1          1             0.318735"
      ]
     },
     "execution_count": 8,
     "metadata": {},
     "output_type": "execute_result"
    }
   ],
   "source": [
    "ans_3 = df.groupby('is_bought', as_index=False).agg({'add_to_favor_events': 'mean'})\n",
    "\n",
    "ans_3"
   ]
  },
  {
   "cell_type": "code",
   "execution_count": 9,
   "id": "e319cd40-858f-4754-ba2b-ba4e7020fbf1",
   "metadata": {},
   "outputs": [
    {
     "data": {
      "text/plain": [
       "2.01185401459854"
      ]
     },
     "execution_count": 9,
     "metadata": {},
     "output_type": "execute_result"
    }
   ],
   "source": [
    "ans_3.iloc[1].add_to_favor_events / ans_3.iloc[0].add_to_favor_events"
   ]
  },
  {
   "cell_type": "markdown",
   "id": "9998555e-c10e-42e9-9d02-143752f81ae8",
   "metadata": {},
   "source": [
    "### Task 4. "
   ]
  },
  {
   "cell_type": "markdown",
   "id": "4444fbd2-58f7-44ac-b794-8d530bc435c6",
   "metadata": {},
   "source": [
    "**Find the percentage of users who have not made any contacts for each of the two cohorts (those who bought a car and those who did not buy a car).**"
   ]
  },
  {
   "cell_type": "code",
   "execution_count": 10,
   "id": "216ab834-4780-40f5-a596-5e83115c46af",
   "metadata": {},
   "outputs": [
    {
     "name": "stdout",
     "output_type": "stream",
     "text": [
      "Zero contacts percentage among those who did not buy a car:  10.27%\n",
      "Zero contacts percentage among those who bought a car:  3.65%\n"
     ]
    }
   ],
   "source": [
    "not_bought = df[df['is_bought'] == 0].shape[0]\n",
    "not_bought_zero_contacts = df[(df['is_bought'] == 0) & (df['contacts'] == 0)].shape[0]\n",
    "\n",
    "bought = df[df['is_bought'] == 1].shape[0]\n",
    "bought_zero_contacts = df[(df['is_bought'] == 1) & (df['contacts'] == 0)].shape[0]\n",
    "\n",
    "print(f'Zero contacts percentage among those who did not buy a car: {not_bought_zero_contacts / not_bought: .2%}')\n",
    "print(f'Zero contacts percentage among those who bought a car: {bought_zero_contacts / bought: .2%}')"
   ]
  },
  {
   "cell_type": "markdown",
   "id": "dcb16c52-fe9b-48d4-9d38-2afb74cb5248",
   "metadata": {},
   "source": [
    "### Task 5. "
   ]
  },
  {
   "cell_type": "markdown",
   "id": "0f89b582-2814-4515-a460-4f8bb200a7e5",
   "metadata": {},
   "source": [
    "**Find the average LT (lifetime — duration from the first day to churn) for two cohorts.**"
   ]
  },
  {
   "cell_type": "code",
   "execution_count": 11,
   "id": "a464999b-1923-4f0c-b27d-5e0f980da14d",
   "metadata": {},
   "outputs": [
    {
     "data": {
      "text/html": [
       "<div>\n",
       "<style scoped>\n",
       "    .dataframe tbody tr th:only-of-type {\n",
       "        vertical-align: middle;\n",
       "    }\n",
       "\n",
       "    .dataframe tbody tr th {\n",
       "        vertical-align: top;\n",
       "    }\n",
       "\n",
       "    .dataframe thead th {\n",
       "        text-align: right;\n",
       "    }\n",
       "</style>\n",
       "<table border=\"1\" class=\"dataframe\">\n",
       "  <thead>\n",
       "    <tr style=\"text-align: right;\">\n",
       "      <th></th>\n",
       "      <th>is_bought</th>\n",
       "      <th>live_days</th>\n",
       "    </tr>\n",
       "  </thead>\n",
       "  <tbody>\n",
       "    <tr>\n",
       "      <th>0</th>\n",
       "      <td>0</td>\n",
       "      <td>12.724968</td>\n",
       "    </tr>\n",
       "    <tr>\n",
       "      <th>1</th>\n",
       "      <td>1</td>\n",
       "      <td>10.150852</td>\n",
       "    </tr>\n",
       "  </tbody>\n",
       "</table>\n",
       "</div>"
      ],
      "text/plain": [
       "   is_bought  live_days\n",
       "0          0  12.724968\n",
       "1          1  10.150852"
      ]
     },
     "execution_count": 11,
     "metadata": {},
     "output_type": "execute_result"
    }
   ],
   "source": [
    "df.groupby('is_bought', as_index=False).agg({'live_days': 'mean'})"
   ]
  },
  {
   "cell_type": "markdown",
   "id": "02cf0cad-ae94-4463-8ea7-82395468ee3a",
   "metadata": {},
   "source": [
    "### Task 6. "
   ]
  },
  {
   "cell_type": "markdown",
   "id": "54ae1c9e-ea55-483d-b045-edef4d7fd3f1",
   "metadata": {},
   "source": [
    "**Find the ratio between views and contacts for two cohorts.**"
   ]
  },
  {
   "cell_type": "code",
   "execution_count": 12,
   "id": "35cbcc43-e8d7-40ea-acc4-366d1ceeef68",
   "metadata": {},
   "outputs": [
    {
     "data": {
      "text/plain": [
       "0.022867884495711047"
      ]
     },
     "execution_count": 12,
     "metadata": {},
     "output_type": "execute_result"
    }
   ],
   "source": [
    "(df[df['is_bought'] == 0].contacts / df[df['is_bought'] == 0].views).mean()"
   ]
  },
  {
   "cell_type": "code",
   "execution_count": 13,
   "id": "2fdb5a77-8a18-4314-9619-f080ba24db64",
   "metadata": {},
   "outputs": [
    {
     "data": {
      "text/plain": [
       "0.034810729185530236"
      ]
     },
     "execution_count": 13,
     "metadata": {},
     "output_type": "execute_result"
    }
   ],
   "source": [
    "(df[df['is_bought'] == 1].contacts / df[df['is_bought'] == 1].views).mean()"
   ]
  },
  {
   "cell_type": "markdown",
   "id": "2010697b-c967-41f9-97eb-71611a09fad2",
   "metadata": {},
   "source": [
    "### Task 7. "
   ]
  },
  {
   "cell_type": "markdown",
   "id": "8955c9eb-b461-4edf-a8b0-d35a7abefad4",
   "metadata": {},
   "source": [
    "**Iterate through all metrics from the source data and find the TOP-3 metrics that have the best correlation with the fact of buying a car.**"
   ]
  },
  {
   "cell_type": "markdown",
   "id": "811da04f-19fd-4651-a9ae-30e250df7bb7",
   "metadata": {},
   "source": [
    "Let's code a function that checks for correlation between a quantitative variable and a binary mask. "
   ]
  },
  {
   "cell_type": "code",
   "execution_count": 14,
   "id": "1ae504fb-283a-48e4-be38-90f751d76329",
   "metadata": {},
   "outputs": [],
   "source": [
    "def find_cat_quant_correlation(quant_value, binary_mask, plot=True, print_inference=True):\n",
    "    '''\n",
    "    quant_value - quantitative variable, for which we calculate the correlation\n",
    "    binary_mask - binary variable (True, False), for which we calculate the correlation\n",
    "    plot - whether to plot the graph\n",
    "    print_inference - whether to print the conclusions and main metrics\n",
    "    '''\n",
    "\n",
    "    # Split the quantitative metric into groups based on whether the target conversion was made or not\n",
    "    group_1 = quant_value[binary_mask]  # binary = 1\n",
    "    group_2 = quant_value[~binary_mask]  # binary = 0\n",
    "\n",
    "    # Calculate pointbiserial correlation, Kruskal-Wallis test and ordinary T-test\n",
    "    pointbiserialr = ss.pointbiserialr(quant_value, binary_mask)[0]\n",
    "    kruskal_pval = ss.kruskal(group_1, group_2)[1]\n",
    "    ttest_pval = ss.ttest_ind(group_1, group_2)[1]\n",
    "\n",
    "    # Print the conclusions\n",
    "    if print_inference:\n",
    "        print('Mean quant value for group (binary=1) =', group_1.mean())\n",
    "        print('Mean quant value for group (binary=0) =', group_2.mean())\n",
    "\n",
    "        print('Median quant value for group (binary=1) =', group_1.median())\n",
    "        print('Median quant value for group (binary=0) =', group_2.median())\n",
    "\n",
    "        print('Kruskal-Wallis H Test p-value =', kruskal_pval)\n",
    "        print('T-test p-value =', ttest_pval)\n",
    "        print('point biserial correlation =', pointbiserialr)\n",
    "\n",
    "    # Plot the distribution graph for two groups to illustrate the differences in groups\n",
    "    if plot:\n",
    "        plt.figure(figsize=(16, 6))\n",
    "        sns.kdeplot(group_1, color='red', label='Binary = True')\n",
    "        sns.kdeplot(group_2, color='blue', label='Binary = False')\n",
    "        plt.axvline(x=group_1.mean(), linestyle='--', color='red')\n",
    "        plt.axvline(x=group_2.mean(), linestyle='--', color='blue')\n",
    "        plt.legend()\n",
    "\n",
    "    return {'point_biserial_r': pointbiserialr,\n",
    "            'kruskal_pval': kruskal_pval,\n",
    "            'ttest_pval': ttest_pval}"
   ]
  },
  {
   "cell_type": "markdown",
   "id": "bd00ffa0-c850-4c5c-8427-fa9225cd064c",
   "metadata": {},
   "source": [
    "Let's check the function first on one feature. "
   ]
  },
  {
   "cell_type": "code",
   "execution_count": 15,
   "id": "be6d0b4b-b3da-41e5-8fa0-3ccea7d4b28a",
   "metadata": {},
   "outputs": [
    {
     "name": "stdout",
     "output_type": "stream",
     "text": [
      "Mean quant value for group (binary=1) = 0.31873479318734793\n",
      "Mean quant value for group (binary=0) = 0.15842839036755388\n",
      "Median quant value for group (binary=1) = 0.0\n",
      "Median quant value for group (binary=0) = 0.0\n",
      "Kruskal-Wallis H Test p-value = 6.371276221602224e-18\n",
      "T-test p-value = 0.030188195260747588\n",
      "point biserial correlation = 0.06257746111140994\n"
     ]
    },
    {
     "data": {
      "image/png": "[encoded data removed]",
      "text/plain": [
       "<Figure size 1152x432 with 1 Axes>"
      ]
     },
     "metadata": {
      "needs_background": "light"
     },
     "output_type": "display_data"
    }
   ],
   "source": [
    "_ = find_cat_quant_correlation(df.add_to_favor_events, \n",
    "                               df['is_bought']==1,\n",
    "                               plot=True,\n",
    "                               print_inference=True)"
   ]
  },
  {
   "cell_type": "markdown",
   "id": "396ec4d9-504b-42fb-97f4-cf643eab193b",
   "metadata": {},
   "source": [
    "And now we'll iterate through all features we have to find the top-3 most correlated ones."
   ]
  },
  {
   "cell_type": "code",
   "execution_count": 16,
   "id": "23f9d3b0-11ac-469d-a509-aa1670bef58b",
   "metadata": {},
   "outputs": [
    {
     "data": {
      "text/html": [
       "<div>\n",
       "<style scoped>\n",
       "    .dataframe tbody tr th:only-of-type {\n",
       "        vertical-align: middle;\n",
       "    }\n",
       "\n",
       "    .dataframe tbody tr th {\n",
       "        vertical-align: top;\n",
       "    }\n",
       "\n",
       "    .dataframe thead th {\n",
       "        text-align: right;\n",
       "    }\n",
       "</style>\n",
       "<table border=\"1\" class=\"dataframe\">\n",
       "  <thead>\n",
       "    <tr style=\"text-align: right;\">\n",
       "      <th></th>\n",
       "      <th>feature</th>\n",
       "      <th>correlation</th>\n",
       "    </tr>\n",
       "  </thead>\n",
       "  <tbody>\n",
       "    <tr>\n",
       "      <th>5</th>\n",
       "      <td>last_3_contacts</td>\n",
       "      <td>0.359461</td>\n",
       "    </tr>\n",
       "    <tr>\n",
       "      <th>3</th>\n",
       "      <td>last_3_views</td>\n",
       "      <td>0.307544</td>\n",
       "    </tr>\n",
       "    <tr>\n",
       "      <th>4</th>\n",
       "      <td>last_7_contacts</td>\n",
       "      <td>0.280345</td>\n",
       "    </tr>\n",
       "  </tbody>\n",
       "</table>\n",
       "</div>"
      ],
      "text/plain": [
       "           feature  correlation\n",
       "5  last_3_contacts     0.359461\n",
       "3     last_3_views     0.307544\n",
       "4  last_7_contacts     0.280345"
      ]
     },
     "execution_count": 16,
     "metadata": {},
     "output_type": "execute_result"
    }
   ],
   "source": [
    "cols = df.columns.to_list()\n",
    "feature = []\n",
    "corr = []\n",
    "\n",
    "for col in cols[1:-1]:\n",
    "    result = find_cat_quant_correlation(df[col],\n",
    "                                        df['is_bought']==1,\n",
    "                                        plot=False,\n",
    "                                        print_inference=False)['point_biserial_r']\n",
    "    \n",
    "    feature.append(col)\n",
    "    corr.append(result)\n",
    "    \n",
    "result_df = pd.DataFrame({\n",
    "    'feature': feature,\n",
    "    'correlation': corr\n",
    "    })\n",
    "    \n",
    "result_df.sort_values('correlation', ascending=False).head(3)"
   ]
  },
  {
   "cell_type": "markdown",
   "id": "9c57c367-22e0-4951-82b9-8c4fb46b2bc2",
   "metadata": {},
   "source": [
    "### Task 8. "
   ]
  },
  {
   "cell_type": "markdown",
   "id": "33402444-107a-433a-bdfb-bc3568505c9f",
   "metadata": {},
   "source": [
    "**Find the value of point biserial correlation between the metrics `is_bought` and `add_to_favor_events`.**"
   ]
  },
  {
   "cell_type": "code",
   "execution_count": 17,
   "id": "f403ef84-8ffc-4597-9222-66e7ba8e521d",
   "metadata": {},
   "outputs": [
    {
     "data": {
      "text/plain": [
       "array([0.06257746])"
      ]
     },
     "execution_count": 17,
     "metadata": {},
     "output_type": "execute_result"
    }
   ],
   "source": [
    "result_df[result_df['feature'] == 'add_to_favor_events'].correlation.values"
   ]
  },
  {
   "cell_type": "markdown",
   "id": "92944732-5838-47f7-bd6e-ddd2c73478a7",
   "metadata": {},
   "source": [
    "### Task 9. "
   ]
  },
  {
   "cell_type": "markdown",
   "id": "b7faa8ba-f66f-42f9-8744-ecb98d565d70",
   "metadata": {},
   "source": [
    "**Calculate the point biserial correlation coefficient for the logarithm of the metric `last_3_contacts`.**"
   ]
  },
  {
   "cell_type": "code",
   "execution_count": 18,
   "id": "0130d277-558e-40fb-aa62-ea47290a1c8f",
   "metadata": {},
   "outputs": [
    {
     "name": "stdout",
     "output_type": "stream",
     "text": [
      "Mean quant value for group (binary=1) = 1.89373516861593\n",
      "Mean quant value for group (binary=0) = 0.9443381111904845\n",
      "Median quant value for group (binary=1) = 1.9459101490553132\n",
      "Median quant value for group (binary=0) = 0.6931471805599453\n",
      "Kruskal-Wallis H Test p-value = 1.1733129557672549e-45\n",
      "T-test p-value = 6.05383456974365e-52\n",
      "point biserial correlation = 0.4180024619744416\n"
     ]
    },
    {
     "data": {
      "image/png": "[encoded data removed]",
      "text/plain": [
       "<Figure size 1152x432 with 1 Axes>"
      ]
     },
     "metadata": {
      "needs_background": "light"
     },
     "output_type": "display_data"
    }
   ],
   "source": [
    "_ = find_cat_quant_correlation(np.log(df.last_3_contacts + 1), \n",
    "                               df['is_bought']==1,\n",
    "                               plot=True,\n",
    "                               print_inference=True)"
   ]
  },
  {
   "cell_type": "markdown",
   "id": "dde15612-b118-40d4-b263-61c7c3d4a05a",
   "metadata": {},
   "source": [
    "We can see that logarithm transformation improved correlation between two metrics. "
   ]
  },
  {
   "cell_type": "markdown",
   "id": "2c5ed016-5604-4e96-a29b-736282d61478",
   "metadata": {},
   "source": [
    "### Task 10. "
   ]
  },
  {
   "cell_type": "markdown",
   "id": "33bf6e7a-2fb1-4c52-85db-19c0afc96137",
   "metadata": {},
   "source": [
    "**Calculate the point biserial correlation coefficient for the logarithm of the metric `last_3_views`.**"
   ]
  },
  {
   "cell_type": "code",
   "execution_count": 19,
   "id": "0c8dd851-c4ed-4322-83c8-f4d8473826f0",
   "metadata": {},
   "outputs": [
    {
     "name": "stdout",
     "output_type": "stream",
     "text": [
      "Mean quant value for group (binary=1) = 5.20715163753203\n",
      "Mean quant value for group (binary=0) = 4.297350415932348\n",
      "Median quant value for group (binary=1) = 5.267858159063328\n",
      "Median quant value for group (binary=0) = 4.30406509320417\n",
      "Kruskal-Wallis H Test p-value = 1.0890475540377117e-34\n",
      "T-test p-value = 3.0049021456414015e-35\n",
      "point biserial correlation = 0.34683549503186817\n"
     ]
    },
    {
     "data": {
      "image/png": "[encoded data removed]",
      "text/plain": [
       "<Figure size 1152x432 with 1 Axes>"
      ]
     },
     "metadata": {
      "needs_background": "light"
     },
     "output_type": "display_data"
    }
   ],
   "source": [
    "_ = find_cat_quant_correlation(np.log(df.last_3_views + 1), \n",
    "                               df['is_bought']==1,\n",
    "                               plot=True,\n",
    "                               print_inference=True)"
   ]
  },
  {
   "cell_type": "markdown",
   "id": "892048a5-052c-436f-b3ec-9af4488e492a",
   "metadata": {},
   "source": [
    "We can see that logarithm transformation improved correlation for this feature as well."
   ]
  },
  {
   "cell_type": "markdown",
   "id": "a3ef25fc-6f0a-4b00-867a-6a43abbcaaca",
   "metadata": {},
   "source": [
    "### Task 11. "
   ]
  },
  {
   "cell_type": "markdown",
   "id": "5dd8c28c-d267-40f7-923d-423f48a1efcd",
   "metadata": {},
   "source": [
    "**Calculate the point biserial correlation coefficient for the logarithm of the metric `add_to_favor_events`.**"
   ]
  },
  {
   "cell_type": "code",
   "execution_count": 20,
   "id": "91ea341e-ab3f-47eb-b61e-a6d326737e9a",
   "metadata": {},
   "outputs": [
    {
     "name": "stdout",
     "output_type": "stream",
     "text": [
      "Mean quant value for group (binary=1) = 0.16537194908164618\n",
      "Mean quant value for group (binary=0) = 0.05164238378277397\n",
      "Median quant value for group (binary=1) = 0.0\n",
      "Median quant value for group (binary=0) = 0.0\n",
      "Kruskal-Wallis H Test p-value = 6.371276221602224e-18\n",
      "T-test p-value = 8.745672939133046e-09\n",
      "point biserial correlation = 0.16511770268842738\n"
     ]
    },
    {
     "data": {
      "image/png": "[encoded data removed]",
      "text/plain": [
       "<Figure size 1152x432 with 1 Axes>"
      ]
     },
     "metadata": {
      "needs_background": "light"
     },
     "output_type": "display_data"
    }
   ],
   "source": [
    "_ = find_cat_quant_correlation(np.log(df.add_to_favor_events + 1), \n",
    "                               df['is_bought']==1,\n",
    "                               plot=True,\n",
    "                               print_inference=True)"
   ]
  },
  {
   "cell_type": "markdown",
   "id": "272b1acf-c000-4463-b9fb-68cceefcf88a",
   "metadata": {},
   "source": [
    "Logarithm transformation improved correlation for this feature as well."
   ]
  },
  {
   "cell_type": "markdown",
   "id": "db70ced3-9523-40c0-b7aa-39758d61ae16",
   "metadata": {},
   "source": [
    "### Task 12. "
   ]
  },
  {
   "cell_type": "markdown",
   "id": "306091a8-34cc-4bb7-b594-d1c29629bd03",
   "metadata": {},
   "source": [
    "**Calculate the point biserial correlation coefficient for the metric `last_3_contacts / (last_3_views +1)`.**"
   ]
  },
  {
   "cell_type": "code",
   "execution_count": 21,
   "id": "bcb52cf0-9a81-45cc-8c94-42c0fcf49b1a",
   "metadata": {},
   "outputs": [
    {
     "name": "stdout",
     "output_type": "stream",
     "text": [
      "Mean quant value for group (binary=1) = 0.038695409686905165\n",
      "Mean quant value for group (binary=0) = 0.027781371391765095\n",
      "Median quant value for group (binary=1) = 0.028169014084507043\n",
      "Median quant value for group (binary=0) = 0.012987012987012988\n",
      "Kruskal-Wallis H Test p-value = 7.894887863928391e-19\n",
      "T-test p-value = 3.030600767254425e-05\n",
      "point biserial correlation = 0.12009995459500225\n"
     ]
    },
    {
     "data": {
      "image/png": "[encoded data removed]",
      "text/plain": [
       "<Figure size 1152x432 with 1 Axes>"
      ]
     },
     "metadata": {
      "needs_background": "light"
     },
     "output_type": "display_data"
    }
   ],
   "source": [
    "_ = find_cat_quant_correlation(df.last_3_contacts / (df.last_3_views + 1), \n",
    "                               df['is_bought']==1,\n",
    "                               plot=True,\n",
    "                               print_inference=True)"
   ]
  },
  {
   "cell_type": "markdown",
   "id": "2731ab18-7000-497f-b9a8-c23cf592b3f7",
   "metadata": {},
   "source": [
    "### Task 13. "
   ]
  },
  {
   "cell_type": "markdown",
   "id": "651748eb-26f9-41f5-bfc7-6ae3c13c4434",
   "metadata": {},
   "source": [
    "**Find the threshold for the proxy metric `last_3_contacts`.**"
   ]
  },
  {
   "cell_type": "markdown",
   "id": "32aa7f26-a1b5-45a3-9705-276b1e59c3fe",
   "metadata": {},
   "source": [
    "Calculating Cramers V statistic for categorial-categorial association."
   ]
  },
  {
   "cell_type": "code",
   "execution_count": 22,
   "id": "e15e47fd-db3b-4dfc-88fe-60b2abec3724",
   "metadata": {},
   "outputs": [],
   "source": [
    "def cramers_v(confusion_matrix):\n",
    "    \"\"\" calculate Cramers V statistic for categorial-categorial association.\n",
    "        uses correction from Bergsma and Wicher,\n",
    "        Journal of the Korean Statistical Society 42 (2013): 323-328\n",
    "    \"\"\"\n",
    "    chi2 = ss.chi2_contingency(confusion_matrix)[0]\n",
    "    n = confusion_matrix.sum()\n",
    "    phi2 = chi2 / n\n",
    "    r, k = confusion_matrix.shape\n",
    "    phi2corr = max(0, phi2 - ((k-1)*(r-1))/(n-1))\n",
    "    rcorr = r - ((r-1)**2)/(n-1)\n",
    "    kcorr = k - ((k-1)**2)/(n-1)\n",
    "    cramers_v = np.sqrt(phi2corr / min((kcorr-1), (rcorr-1)))\n",
    "    return (cramers_v)"
   ]
  },
  {
   "cell_type": "markdown",
   "id": "addffde2-1d3f-4167-8be7-b86fdcf63dd8",
   "metadata": {},
   "source": [
    "Let's try to find a threshold at which the cramer V association coefficient will be maximal."
   ]
  },
  {
   "cell_type": "code",
   "execution_count": 23,
   "id": "2e170959-cba7-4b99-b19e-ced7a436f46f",
   "metadata": {},
   "outputs": [],
   "source": [
    "def max_cramerv_corr_finder(quant_value, binary_mask, plot=True, print_inference=True, step=1):\n",
    "    \"\"\"\n",
    "    quant_value - the original quantitative variable for which we are trying to find a threshold\n",
    "    binary_mask - the binary metric with the target conversion to which we are looking for the maximum correlation\n",
    "    plot - whether to draw a graph\n",
    "    print_inference - whether to print the results\n",
    "    step - the size of the step with which we go through quant_value and define thresholds\n",
    "    \"\"\"\n",
    "\n",
    "    # Define the vector of the original quantitative variable on which we will look for the maximum correlation\n",
    "    arange = np.arange(min(quant_value), max(quant_value), step)\n",
    "    cramers_v_list = []\n",
    "\n",
    "    # Loop through all thresholds and find the cramers_v value\n",
    "    for i in arange:\n",
    "        confusion_matrix = pd.crosstab(binary_mask, quant_value > i)\n",
    "        cramers_v_i = cramers_v(confusion_matrix.values)\n",
    "        cramers_v_list.append(cramers_v_i)\n",
    "\n",
    "    # Save the maximum values of the correlation found and the threshold at which it is achieved\n",
    "    max_corr_quant_value = arange[np.argmax(np.array(cramers_v_list))]\n",
    "    max_cramer_v = max(cramers_v_list)\n",
    "\n",
    "    # Plot the graph\n",
    "    if plot:\n",
    "        sns.lineplot(x=arange, y=cramers_v_list)\n",
    "        plt.axhline(y=np.array(cramers_v_list).max(), linestyle='--', color='red')\n",
    "        plt.axvline(x=max_corr_quant_value, linestyle='--', color='red')\n",
    "        plt.xlabel('quant values')\n",
    "        plt.ylabel('Cramer-V')\n",
    "\n",
    "    # Print the results\n",
    "    if print_inference:\n",
    "        print('Maximum Cramer V =', np.array(cramers_v_list).max())\n",
    "        print('Maximum Cramer V quant value = ', max_corr_quant_value)\n",
    "\n",
    "    return({'max_cramer_v': max_cramer_v,\n",
    "            'max_corr_quant_value': max_corr_quant_value})"
   ]
  },
  {
   "cell_type": "code",
   "execution_count": 24,
   "id": "1e236444-4fb0-4eb6-96a8-3cc468a86ffe",
   "metadata": {},
   "outputs": [
    {
     "name": "stdout",
     "output_type": "stream",
     "text": [
      "Maximum Cramer V = 0.3686253838357947\n",
      "Maximum Cramer V quant value =  3\n"
     ]
    },
    {
     "data": {
      "image/png": "[encoded data removed]",
      "text/plain": [
       "<Figure size 432x288 with 1 Axes>"
      ]
     },
     "metadata": {
      "needs_background": "light"
     },
     "output_type": "display_data"
    }
   ],
   "source": [
    "_ = max_cramerv_corr_finder(df.last_3_contacts, df['is_bought']==1,\n",
    "                            plot = True, print_inference = True,\n",
    "                            step = 1)"
   ]
  },
  {
   "cell_type": "markdown",
   "id": "ac9317e8-aa12-4244-a367-aa237cc23122",
   "metadata": {},
   "source": [
    "### Task 14."
   ]
  },
  {
   "cell_type": "markdown",
   "id": "3733d3ec-ce05-433b-abd7-a98acd5cc83f",
   "metadata": {},
   "source": [
    "**Find the threshold for the proxy metric `last_3_views`.**"
   ]
  },
  {
   "cell_type": "code",
   "execution_count": 25,
   "id": "a1753172-bdb4-441c-9f33-2eb0a49606e9",
   "metadata": {},
   "outputs": [
    {
     "name": "stdout",
     "output_type": "stream",
     "text": [
      "Maximum Cramer V = 0.3438012439537349\n",
      "Maximum Cramer V quant value =  151\n"
     ]
    },
    {
     "data": {
      "image/png": "[encoded data removed]",
      "text/plain": [
       "<Figure size 432x288 with 1 Axes>"
      ]
     },
     "metadata": {
      "needs_background": "light"
     },
     "output_type": "display_data"
    }
   ],
   "source": [
    "_ = max_cramerv_corr_finder(df.last_3_views, df['is_bought']==1,\n",
    "                            plot = True, print_inference = True,\n",
    "                            step = 1)"
   ]
  },
  {
   "cell_type": "markdown",
   "id": "255cb156-e421-4726-9be5-654f9cb91506",
   "metadata": {},
   "source": [
    "### Task 15. "
   ]
  },
  {
   "cell_type": "markdown",
   "id": "4b1bb6c0-855a-4e35-a5b9-218e08ce225a",
   "metadata": {},
   "source": [
    "**Find the threshold for the proxy metric `add_to_favor_events`.**"
   ]
  },
  {
   "cell_type": "code",
   "execution_count": 26,
   "id": "a81bb5d9-283b-4d29-a449-15fd1a7bef72",
   "metadata": {},
   "outputs": [
    {
     "name": "stdout",
     "output_type": "stream",
     "text": [
      "Maximum Cramer V = 0.2497541756211998\n",
      "Maximum Cramer V quant value =  0.0\n"
     ]
    },
    {
     "data": {
      "image/png": "[encoded data removed]",
      "text/plain": [
       "<Figure size 432x288 with 1 Axes>"
      ]
     },
     "metadata": {
      "needs_background": "light"
     },
     "output_type": "display_data"
    }
   ],
   "source": [
    "_ = max_cramerv_corr_finder(df.add_to_favor_events, df['is_bought']==1,\n",
    "                            plot = True, print_inference = True,\n",
    "                            step = 1)"
   ]
  },
  {
   "cell_type": "markdown",
   "id": "23fa67c4-2c1e-4b69-894e-fcb799d2fa19",
   "metadata": {},
   "source": [
    "### Task 16."
   ]
  },
  {
   "cell_type": "markdown",
   "id": "6940b42b-ce7e-4f35-bfc4-6b615c2c9a52",
   "metadata": {},
   "source": [
    "**Calculate the power of the z-test for the original target metric (the proportion of those who bought) and the proxy metric (`last_3_contacts`).**  \n",
    "\n",
    "To estimate the power, use the following inputs:\n",
    "- We will analyze the data that are in the file by conducting synthetic tests\n",
    "- The number of simulations is 10,000\n",
    "- The size of the added effect is +10% to conversion in the test group for both types of tests (for the main metric and for the proxy metric)"
   ]
  },
  {
   "cell_type": "code",
   "execution_count": 27,
   "id": "31943359-6891-426e-b5a3-6577d5d4378b",
   "metadata": {},
   "outputs": [
    {
     "name": "stdout",
     "output_type": "stream",
     "text": [
      "Effect = 0.1\n",
      "Sample size A group = 599\n",
      "Sample size B group = 601\n",
      "\n",
      "Target conversion A group = 0.34056761268781305\n",
      "Target conversion B group = 0.3793677204658902\n",
      "Proxy conversion A group = 0.4307178631051753\n",
      "Proxy conversion B group = 0.4509151414309484\n",
      "\n",
      "Target conversion AB testing power: 0.2497\n",
      "Target conversion AB testing power 99% CI: (0.23855079697439935, 0.26084920302560066)\n",
      "Proxy conversion AB testing power: 0.3187\n",
      "Target conversion AB testing power 99% CI: (0.30669734547778, 0.33070265452222)\n"
     ]
    }
   ],
   "source": [
    "#AB test simulation\n",
    "ab_binary_ztest_pvalue_list = []\n",
    "ab_quant_ztest_pvalue_list = []\n",
    "quant_target_level = 4  # define the treshold for the quantitative proxy metric\n",
    "abs_effect = 0.1  # define the absolute effect size\n",
    "n_sim = 10000  # define the number of simulations\n",
    "\n",
    "\n",
    "for i in range(n_sim):\n",
    "    # Generating a/b splitting mask\n",
    "    sample_mask = ss.bernoulli.rvs(0.5, size=len(df)) == 1\n",
    "\n",
    "    # Splitting data\n",
    "    binary_mask_group_a = (df['is_bought']==1)[sample_mask]\n",
    "    binary_mask_group_b = (df['is_bought']==1)[~sample_mask]\n",
    "    quant_value_group_a = (df['last_3_contacts'])[sample_mask]\n",
    "    quant_value_group_b = (df['last_3_contacts'])[~sample_mask]\n",
    "\n",
    "    # Getting the number of samples in each group for the binary and quantative metrics\n",
    "    binary_nobs_group_a = len(binary_mask_group_a)\n",
    "    binary_nobs_group_b = len(binary_mask_group_b)\n",
    "    quant_nobs_group_a = len(quant_value_group_a)\n",
    "    quant_nobs_group_b = len(quant_value_group_b)\n",
    "    \n",
    "    # Calculate the conversion rates for the binary and quantitative metrics for each group\n",
    "    binary_counts_group_a = binary_mask_group_a.sum()\n",
    "    binary_counts_group_b = round(binary_mask_group_b.sum()*(1+abs_effect)) #add effect\n",
    "    quant_counts_group_a = (quant_value_group_a >= quant_target_level).sum()\n",
    "    quant_counts_group_b = round((quant_value_group_b >= quant_target_level).sum()*(1+abs_effect)) #add effect\n",
    "\n",
    "    # Calculate the z-scores and p-values for the binary and quantitative metrics\n",
    "    binary_z_score_i, binary_ztest_pvalue_i = sms.proportions_ztest(count = [binary_counts_group_a, binary_counts_group_b],\n",
    "                          nobs = [binary_nobs_group_a, binary_nobs_group_b])\n",
    "    quant_z_score_i, quant_ztest_pvalue_i = sms.proportions_ztest(count = [quant_counts_group_a, quant_counts_group_b],\n",
    "                          nobs = [quant_nobs_group_a, quant_nobs_group_b])\n",
    "\n",
    "    # Append the p-values to the lists\n",
    "    ab_binary_ztest_pvalue_list.append(binary_ztest_pvalue_i)\n",
    "    ab_quant_ztest_pvalue_list.append(quant_ztest_pvalue_i)\n",
    "\n",
    "# Calculate the power 99% CI of the AB test for the binary and quantitative metrics\n",
    "binary_power_ci = proportion_confint((np.array(ab_binary_ztest_pvalue_list) <= 0.05).sum(), n_sim, alpha=0.01)\n",
    "quant_power_ci = proportion_confint((np.array(ab_quant_ztest_pvalue_list) <= 0.05).sum(), n_sim, alpha=0.01)\n",
    "\n",
    "\n",
    "# Print the results\n",
    "print('Effect =', abs_effect)\n",
    "print('Sample size A group =', binary_nobs_group_a)\n",
    "print('Sample size B group =', binary_nobs_group_b, end='\\n\\n')\n",
    "\n",
    "print('Target conversion A group =', binary_counts_group_a / binary_nobs_group_a)\n",
    "print('Target conversion B group =', binary_counts_group_b / binary_nobs_group_b)\n",
    "print('Proxy conversion A group =', quant_counts_group_a / quant_nobs_group_a)\n",
    "print('Proxy conversion B group =', quant_counts_group_b / quant_nobs_group_b, end='\\n\\n')\n",
    "\n",
    "print('Target conversion AB testing power:', (np.array(ab_binary_ztest_pvalue_list) <= 0.05).sum() / n_sim)\n",
    "print('Target conversion AB testing power 99% CI:', binary_power_ci)\n",
    "print('Proxy conversion AB testing power:', (np.array(ab_quant_ztest_pvalue_list) <= 0.05).sum() / n_sim)\n",
    "print('Target conversion AB testing power 99% CI:', quant_power_ci)"
   ]
  }
 ],
 "metadata": {
  "kernelspec": {
   "display_name": "Python 3 (ipykernel)",
   "language": "python",
   "name": "python3"
  },
  "language_info": {
   "codemirror_mode": {
    "name": "ipython",
    "version": 3
   },
   "file_extension": ".py",
   "mimetype": "text/x-python",
   "name": "python",
   "nbconvert_exporter": "python",
   "pygments_lexer": "ipython3",
   "version": "3.8.10"
  }
 },
 "nbformat": 4,
 "nbformat_minor": 5
}
