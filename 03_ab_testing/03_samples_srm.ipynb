{
 "cells": [
  {
   "cell_type": "markdown",
   "id": "e23e1516-6e75-4e85-bf5b-0011204c6bf9",
   "metadata": {},
   "source": [
    "# Samples SRM"
   ]
  },
  {
   "cell_type": "markdown",
   "id": "8ad67dba-80ad-46c5-ade5-7ce6464e9f6c",
   "metadata": {},
   "source": [
    "## Import libraries"
   ]
  },
  {
   "cell_type": "code",
   "execution_count": 1,
   "id": "b5e9bc0a-29b8-4103-9d58-de77a9313d09",
   "metadata": {},
   "outputs": [],
   "source": [
    "#!pip install statsmodels"
   ]
  },
  {
   "cell_type": "code",
   "execution_count": 2,
   "id": "e9b66b07-7c32-46de-ada6-d6adc532db8c",
   "metadata": {},
   "outputs": [],
   "source": [
    "#!pip install ssrm_test"
   ]
  },
  {
   "cell_type": "code",
   "execution_count": 3,
   "id": "02ca5c3e-1244-449d-a780-f62918e1699d",
   "metadata": {},
   "outputs": [],
   "source": [
    "#!pip install matplotlib"
   ]
  },
  {
   "cell_type": "code",
   "execution_count": 4,
   "id": "4d138bda-888f-421e-9184-ea5185bc2b5d",
   "metadata": {},
   "outputs": [],
   "source": [
    "import pandas as pd\n",
    "import numpy as np\n",
    "import matplotlib.pyplot as plt\n",
    "\n",
    "from statsmodels.stats.proportion import proportions_ztest\n",
    "from scipy.stats import chisquare\n",
    "from ssrm_test import ssrm_test"
   ]
  },
  {
   "cell_type": "markdown",
   "id": "19cd9f2c-bd3c-4ea7-ab76-af423aa74794",
   "metadata": {},
   "source": [
    "## Importing data"
   ]
  },
  {
   "cell_type": "code",
   "execution_count": 5,
   "id": "a3517ee9-cf67-41d5-b26e-830fcbf6d398",
   "metadata": {},
   "outputs": [],
   "source": [
    "df1 = pd.read_csv('homework_task_2.csv')"
   ]
  },
  {
   "cell_type": "code",
   "execution_count": 6,
   "id": "923a4f68-bc4a-45ab-9607-eb6c9184fd02",
   "metadata": {},
   "outputs": [
    {
     "data": {
      "text/html": [
       "<div>\n",
       "<style scoped>\n",
       "    .dataframe tbody tr th:only-of-type {\n",
       "        vertical-align: middle;\n",
       "    }\n",
       "\n",
       "    .dataframe tbody tr th {\n",
       "        vertical-align: top;\n",
       "    }\n",
       "\n",
       "    .dataframe thead th {\n",
       "        text-align: right;\n",
       "    }\n",
       "</style>\n",
       "<table border=\"1\" class=\"dataframe\">\n",
       "  <thead>\n",
       "    <tr style=\"text-align: right;\">\n",
       "      <th></th>\n",
       "      <th>passport_id</th>\n",
       "      <th>region</th>\n",
       "      <th>platform</th>\n",
       "      <th>user_type_cars_name</th>\n",
       "      <th>number_ads</th>\n",
       "      <th>revenue</th>\n",
       "    </tr>\n",
       "  </thead>\n",
       "  <tbody>\n",
       "    <tr>\n",
       "      <th>93853</th>\n",
       "      <td>136311897</td>\n",
       "      <td>Краснодар</td>\n",
       "      <td>android</td>\n",
       "      <td>cars_simple</td>\n",
       "      <td>1</td>\n",
       "      <td>0</td>\n",
       "    </tr>\n",
       "    <tr>\n",
       "      <th>3465</th>\n",
       "      <td>142027480</td>\n",
       "      <td>Новосибирск</td>\n",
       "      <td>android</td>\n",
       "      <td>cars_simple</td>\n",
       "      <td>1</td>\n",
       "      <td>0</td>\n",
       "    </tr>\n",
       "    <tr>\n",
       "      <th>90283</th>\n",
       "      <td>143716722</td>\n",
       "      <td>Уфа</td>\n",
       "      <td>android</td>\n",
       "      <td>cars_simple</td>\n",
       "      <td>2</td>\n",
       "      <td>0</td>\n",
       "    </tr>\n",
       "    <tr>\n",
       "      <th>18125</th>\n",
       "      <td>132765378</td>\n",
       "      <td>Екатеринбург</td>\n",
       "      <td>ios</td>\n",
       "      <td>cars_simple</td>\n",
       "      <td>1</td>\n",
       "      <td>0</td>\n",
       "    </tr>\n",
       "    <tr>\n",
       "      <th>115774</th>\n",
       "      <td>123570119</td>\n",
       "      <td>Уфа</td>\n",
       "      <td>android</td>\n",
       "      <td>cars_simple</td>\n",
       "      <td>1</td>\n",
       "      <td>0</td>\n",
       "    </tr>\n",
       "  </tbody>\n",
       "</table>\n",
       "</div>"
      ],
      "text/plain": [
       "        passport_id        region platform user_type_cars_name  number_ads  \\\n",
       "93853     136311897     Краснодар  android         cars_simple           1   \n",
       "3465      142027480   Новосибирск  android         cars_simple           1   \n",
       "90283     143716722           Уфа  android         cars_simple           2   \n",
       "18125     132765378  Екатеринбург      ios         cars_simple           1   \n",
       "115774    123570119           Уфа  android         cars_simple           1   \n",
       "\n",
       "        revenue  \n",
       "93853         0  \n",
       "3465          0  \n",
       "90283         0  \n",
       "18125         0  \n",
       "115774        0  "
      ]
     },
     "execution_count": 6,
     "metadata": {},
     "output_type": "execute_result"
    }
   ],
   "source": [
    "df1.sample(5)"
   ]
  },
  {
   "cell_type": "code",
   "execution_count": 7,
   "id": "0b2aa626-c341-4cd0-ae36-b729fd61e4ba",
   "metadata": {},
   "outputs": [
    {
     "name": "stdout",
     "output_type": "stream",
     "text": [
      "<class 'pandas.core.frame.DataFrame'>\n",
      "RangeIndex: 136584 entries, 0 to 136583\n",
      "Data columns (total 6 columns):\n",
      " #   Column               Non-Null Count   Dtype \n",
      "---  ------               --------------   ----- \n",
      " 0   passport_id          136584 non-null  int64 \n",
      " 1   region               133114 non-null  object\n",
      " 2   platform             133114 non-null  object\n",
      " 3   user_type_cars_name  130112 non-null  object\n",
      " 4   number_ads           136584 non-null  int64 \n",
      " 5   revenue              136584 non-null  int64 \n",
      "dtypes: int64(3), object(3)\n",
      "memory usage: 6.3+ MB\n"
     ]
    }
   ],
   "source": [
    "df1.info()"
   ]
  },
  {
   "cell_type": "code",
   "execution_count": 8,
   "id": "427cdfdd-1cb4-4547-862f-1e198469a4d8",
   "metadata": {},
   "outputs": [
    {
     "data": {
      "text/plain": [
       "passport_id               0\n",
       "region                 3470\n",
       "platform               3470\n",
       "user_type_cars_name    6472\n",
       "number_ads                0\n",
       "revenue                   0\n",
       "dtype: int64"
      ]
     },
     "execution_count": 8,
     "metadata": {},
     "output_type": "execute_result"
    }
   ],
   "source": [
    "df1.isna().sum()"
   ]
  },
  {
   "cell_type": "code",
   "execution_count": 9,
   "id": "8c1676f6-2f16-41ca-8d0e-fe357c1d4569",
   "metadata": {},
   "outputs": [],
   "source": [
    "df2 = pd.read_csv('homework_task_3.csv')"
   ]
  },
  {
   "cell_type": "code",
   "execution_count": 10,
   "id": "1ac0a66a-76ee-44b9-93e4-22cba5cdc174",
   "metadata": {},
   "outputs": [
    {
     "data": {
      "text/html": [
       "<div>\n",
       "<style scoped>\n",
       "    .dataframe tbody tr th:only-of-type {\n",
       "        vertical-align: middle;\n",
       "    }\n",
       "\n",
       "    .dataframe tbody tr th {\n",
       "        vertical-align: top;\n",
       "    }\n",
       "\n",
       "    .dataframe thead th {\n",
       "        text-align: right;\n",
       "    }\n",
       "</style>\n",
       "<table border=\"1\" class=\"dataframe\">\n",
       "  <thead>\n",
       "    <tr style=\"text-align: right;\">\n",
       "      <th></th>\n",
       "      <th>Unnamed: 0</th>\n",
       "      <th>passport_id</th>\n",
       "      <th>region</th>\n",
       "      <th>platform</th>\n",
       "      <th>user_type_cars_name</th>\n",
       "      <th>number_ads</th>\n",
       "      <th>revenue</th>\n",
       "      <th>vas</th>\n",
       "      <th>combined</th>\n",
       "      <th>combined_weight</th>\n",
       "      <th>group</th>\n",
       "    </tr>\n",
       "  </thead>\n",
       "  <tbody>\n",
       "    <tr>\n",
       "      <th>17052</th>\n",
       "      <td>110104</td>\n",
       "      <td>143056236</td>\n",
       "      <td>Ростов-на-Дону</td>\n",
       "      <td>android</td>\n",
       "      <td>cars_simple</td>\n",
       "      <td>2</td>\n",
       "      <td>550</td>\n",
       "      <td>1</td>\n",
       "      <td>('Ростов-на-Дону', 'android', 'cars_simple', 1)</td>\n",
       "      <td>0.000007</td>\n",
       "      <td>['B']</td>\n",
       "    </tr>\n",
       "    <tr>\n",
       "      <th>24391</th>\n",
       "      <td>43113</td>\n",
       "      <td>142257960</td>\n",
       "      <td>Тольятти</td>\n",
       "      <td>ios</td>\n",
       "      <td>cars_simple</td>\n",
       "      <td>1</td>\n",
       "      <td>0</td>\n",
       "      <td>0</td>\n",
       "      <td>('Тольятти', 'ios', 'cars_simple', 0)</td>\n",
       "      <td>0.000007</td>\n",
       "      <td>['B']</td>\n",
       "    </tr>\n",
       "    <tr>\n",
       "      <th>10044</th>\n",
       "      <td>86416</td>\n",
       "      <td>133278367</td>\n",
       "      <td>Москва</td>\n",
       "      <td>ios</td>\n",
       "      <td>cars_simple</td>\n",
       "      <td>1</td>\n",
       "      <td>0</td>\n",
       "      <td>0</td>\n",
       "      <td>('Москва', 'ios', 'cars_simple', 0)</td>\n",
       "      <td>0.000007</td>\n",
       "      <td>['B']</td>\n",
       "    </tr>\n",
       "    <tr>\n",
       "      <th>10387</th>\n",
       "      <td>119582</td>\n",
       "      <td>137588243</td>\n",
       "      <td>Москва</td>\n",
       "      <td>ios</td>\n",
       "      <td>cars_simple</td>\n",
       "      <td>1</td>\n",
       "      <td>500</td>\n",
       "      <td>1</td>\n",
       "      <td>('Москва', 'ios', 'cars_simple', 1)</td>\n",
       "      <td>0.000007</td>\n",
       "      <td>['B']</td>\n",
       "    </tr>\n",
       "    <tr>\n",
       "      <th>13740</th>\n",
       "      <td>50228</td>\n",
       "      <td>138262429</td>\n",
       "      <td>Новосибирск</td>\n",
       "      <td>android</td>\n",
       "      <td>cars_simple</td>\n",
       "      <td>1</td>\n",
       "      <td>0</td>\n",
       "      <td>0</td>\n",
       "      <td>('Новосибирск', 'android', 'cars_simple', 0)</td>\n",
       "      <td>0.000007</td>\n",
       "      <td>['B']</td>\n",
       "    </tr>\n",
       "  </tbody>\n",
       "</table>\n",
       "</div>"
      ],
      "text/plain": [
       "       Unnamed: 0  passport_id          region platform user_type_cars_name  \\\n",
       "17052      110104    143056236  Ростов-на-Дону  android         cars_simple   \n",
       "24391       43113    142257960        Тольятти      ios         cars_simple   \n",
       "10044       86416    133278367          Москва      ios         cars_simple   \n",
       "10387      119582    137588243          Москва      ios         cars_simple   \n",
       "13740       50228    138262429     Новосибирск  android         cars_simple   \n",
       "\n",
       "       number_ads  revenue  vas  \\\n",
       "17052           2      550    1   \n",
       "24391           1        0    0   \n",
       "10044           1        0    0   \n",
       "10387           1      500    1   \n",
       "13740           1        0    0   \n",
       "\n",
       "                                              combined  combined_weight  group  \n",
       "17052  ('Ростов-на-Дону', 'android', 'cars_simple', 1)         0.000007  ['B']  \n",
       "24391            ('Тольятти', 'ios', 'cars_simple', 0)         0.000007  ['B']  \n",
       "10044              ('Москва', 'ios', 'cars_simple', 0)         0.000007  ['B']  \n",
       "10387              ('Москва', 'ios', 'cars_simple', 1)         0.000007  ['B']  \n",
       "13740     ('Новосибирск', 'android', 'cars_simple', 0)         0.000007  ['B']  "
      ]
     },
     "execution_count": 10,
     "metadata": {},
     "output_type": "execute_result"
    }
   ],
   "source": [
    "df2.sample(5)"
   ]
  },
  {
   "cell_type": "code",
   "execution_count": 11,
   "id": "4edddc76-4282-4b73-9c1b-99e4965fd997",
   "metadata": {},
   "outputs": [
    {
     "name": "stdout",
     "output_type": "stream",
     "text": [
      "<class 'pandas.core.frame.DataFrame'>\n",
      "RangeIndex: 26018 entries, 0 to 26017\n",
      "Data columns (total 11 columns):\n",
      " #   Column               Non-Null Count  Dtype  \n",
      "---  ------               --------------  -----  \n",
      " 0   Unnamed: 0           26018 non-null  int64  \n",
      " 1   passport_id          26018 non-null  int64  \n",
      " 2   region               26018 non-null  object \n",
      " 3   platform             26018 non-null  object \n",
      " 4   user_type_cars_name  26018 non-null  object \n",
      " 5   number_ads           26018 non-null  int64  \n",
      " 6   revenue              26018 non-null  int64  \n",
      " 7   vas                  26018 non-null  int64  \n",
      " 8   combined             26018 non-null  object \n",
      " 9   combined_weight      26018 non-null  float64\n",
      " 10  group                26018 non-null  object \n",
      "dtypes: float64(1), int64(5), object(5)\n",
      "memory usage: 2.2+ MB\n"
     ]
    }
   ],
   "source": [
    "df2.info()"
   ]
  },
  {
   "cell_type": "markdown",
   "id": "b6e6fc11-f7c5-4ada-a6de-eda65591c0aa",
   "metadata": {},
   "source": [
    "## Tasks"
   ]
  },
  {
   "cell_type": "markdown",
   "id": "7c334d62-e699-49c4-bb27-367395721dfd",
   "metadata": {},
   "source": [
    "### Task 1."
   ]
  },
  {
   "cell_type": "markdown",
   "id": "dcb63d57-d2f7-4948-9b43-92b2ac608650",
   "metadata": {},
   "source": [
    " **Divide users into two groups based on revenue size: paying (revenue > 0) and non-paying (revenue = 0). Add this information to a new column called 'vas'. Find the average share of paying users across the entire dataset.**"
   ]
  },
  {
   "cell_type": "code",
   "execution_count": 12,
   "id": "0b46da31-b6c9-414f-9c2f-67be13204d29",
   "metadata": {},
   "outputs": [],
   "source": [
    "df1.dropna(inplace=True)"
   ]
  },
  {
   "cell_type": "code",
   "execution_count": 13,
   "id": "434f407a-87bb-4aaa-8fc9-1d0b67f8ff52",
   "metadata": {},
   "outputs": [],
   "source": [
    "bins = [float('-inf'), 0, float('inf')]\n",
    "names = ['non-paying', 'paying']\n",
    "\n",
    "df1['vas'] = pd.cut(df1['revenue'], bins, labels=names)"
   ]
  },
  {
   "cell_type": "code",
   "execution_count": 14,
   "id": "d422a688-362d-4cdf-8f78-86b3c2c23a29",
   "metadata": {},
   "outputs": [
    {
     "data": {
      "text/html": [
       "<div>\n",
       "<style scoped>\n",
       "    .dataframe tbody tr th:only-of-type {\n",
       "        vertical-align: middle;\n",
       "    }\n",
       "\n",
       "    .dataframe tbody tr th {\n",
       "        vertical-align: top;\n",
       "    }\n",
       "\n",
       "    .dataframe thead th {\n",
       "        text-align: right;\n",
       "    }\n",
       "</style>\n",
       "<table border=\"1\" class=\"dataframe\">\n",
       "  <thead>\n",
       "    <tr style=\"text-align: right;\">\n",
       "      <th></th>\n",
       "      <th>passport_id</th>\n",
       "      <th>region</th>\n",
       "      <th>platform</th>\n",
       "      <th>user_type_cars_name</th>\n",
       "      <th>number_ads</th>\n",
       "      <th>revenue</th>\n",
       "      <th>vas</th>\n",
       "    </tr>\n",
       "  </thead>\n",
       "  <tbody>\n",
       "    <tr>\n",
       "      <th>0</th>\n",
       "      <td>144161634</td>\n",
       "      <td>Санкт-Петербург</td>\n",
       "      <td>android</td>\n",
       "      <td>cars_seller</td>\n",
       "      <td>2</td>\n",
       "      <td>1080</td>\n",
       "      <td>paying</td>\n",
       "    </tr>\n",
       "    <tr>\n",
       "      <th>1</th>\n",
       "      <td>132683716</td>\n",
       "      <td>Калининград</td>\n",
       "      <td>android</td>\n",
       "      <td>cars_simple</td>\n",
       "      <td>1</td>\n",
       "      <td>190</td>\n",
       "      <td>paying</td>\n",
       "    </tr>\n",
       "    <tr>\n",
       "      <th>2</th>\n",
       "      <td>142653188</td>\n",
       "      <td>Санкт-Петербург</td>\n",
       "      <td>android</td>\n",
       "      <td>cars_seller</td>\n",
       "      <td>1</td>\n",
       "      <td>0</td>\n",
       "      <td>non-paying</td>\n",
       "    </tr>\n",
       "    <tr>\n",
       "      <th>3</th>\n",
       "      <td>124199631</td>\n",
       "      <td>Казань</td>\n",
       "      <td>android</td>\n",
       "      <td>cars_simple</td>\n",
       "      <td>1</td>\n",
       "      <td>190</td>\n",
       "      <td>paying</td>\n",
       "    </tr>\n",
       "    <tr>\n",
       "      <th>4</th>\n",
       "      <td>144045240</td>\n",
       "      <td>Казань</td>\n",
       "      <td>android</td>\n",
       "      <td>cars_simple</td>\n",
       "      <td>1</td>\n",
       "      <td>0</td>\n",
       "      <td>non-paying</td>\n",
       "    </tr>\n",
       "    <tr>\n",
       "      <th>...</th>\n",
       "      <td>...</td>\n",
       "      <td>...</td>\n",
       "      <td>...</td>\n",
       "      <td>...</td>\n",
       "      <td>...</td>\n",
       "      <td>...</td>\n",
       "      <td>...</td>\n",
       "    </tr>\n",
       "    <tr>\n",
       "      <th>136579</th>\n",
       "      <td>144374570</td>\n",
       "      <td>Москва</td>\n",
       "      <td>android</td>\n",
       "      <td>cars_simple</td>\n",
       "      <td>2</td>\n",
       "      <td>1080</td>\n",
       "      <td>paying</td>\n",
       "    </tr>\n",
       "    <tr>\n",
       "      <th>136580</th>\n",
       "      <td>144245434</td>\n",
       "      <td>Омск</td>\n",
       "      <td>android</td>\n",
       "      <td>cars_simple</td>\n",
       "      <td>1</td>\n",
       "      <td>190</td>\n",
       "      <td>paying</td>\n",
       "    </tr>\n",
       "    <tr>\n",
       "      <th>136581</th>\n",
       "      <td>134759767</td>\n",
       "      <td>Самара</td>\n",
       "      <td>ios</td>\n",
       "      <td>cars_simple</td>\n",
       "      <td>1</td>\n",
       "      <td>580</td>\n",
       "      <td>paying</td>\n",
       "    </tr>\n",
       "    <tr>\n",
       "      <th>136582</th>\n",
       "      <td>123856725</td>\n",
       "      <td>Москва</td>\n",
       "      <td>ios</td>\n",
       "      <td>cars_simple</td>\n",
       "      <td>2</td>\n",
       "      <td>0</td>\n",
       "      <td>non-paying</td>\n",
       "    </tr>\n",
       "    <tr>\n",
       "      <th>136583</th>\n",
       "      <td>129581629</td>\n",
       "      <td>Санкт-Петербург</td>\n",
       "      <td>ios</td>\n",
       "      <td>cars_simple</td>\n",
       "      <td>1</td>\n",
       "      <td>380</td>\n",
       "      <td>paying</td>\n",
       "    </tr>\n",
       "  </tbody>\n",
       "</table>\n",
       "<p>130112 rows × 7 columns</p>\n",
       "</div>"
      ],
      "text/plain": [
       "        passport_id           region platform user_type_cars_name  number_ads  \\\n",
       "0         144161634  Санкт-Петербург  android         cars_seller           2   \n",
       "1         132683716      Калининград  android         cars_simple           1   \n",
       "2         142653188  Санкт-Петербург  android         cars_seller           1   \n",
       "3         124199631           Казань  android         cars_simple           1   \n",
       "4         144045240           Казань  android         cars_simple           1   \n",
       "...             ...              ...      ...                 ...         ...   \n",
       "136579    144374570           Москва  android         cars_simple           2   \n",
       "136580    144245434             Омск  android         cars_simple           1   \n",
       "136581    134759767           Самара      ios         cars_simple           1   \n",
       "136582    123856725           Москва      ios         cars_simple           2   \n",
       "136583    129581629  Санкт-Петербург      ios         cars_simple           1   \n",
       "\n",
       "        revenue         vas  \n",
       "0          1080      paying  \n",
       "1           190      paying  \n",
       "2             0  non-paying  \n",
       "3           190      paying  \n",
       "4             0  non-paying  \n",
       "...         ...         ...  \n",
       "136579     1080      paying  \n",
       "136580      190      paying  \n",
       "136581      580      paying  \n",
       "136582        0  non-paying  \n",
       "136583      380      paying  \n",
       "\n",
       "[130112 rows x 7 columns]"
      ]
     },
     "execution_count": 14,
     "metadata": {},
     "output_type": "execute_result"
    }
   ],
   "source": [
    "df1"
   ]
  },
  {
   "cell_type": "code",
   "execution_count": 15,
   "id": "471c9513-4d89-4f40-a8ef-896e742a5810",
   "metadata": {},
   "outputs": [
    {
     "data": {
      "text/plain": [
       "paying        0.52265\n",
       "non-paying    0.47735\n",
       "Name: vas, dtype: float64"
      ]
     },
     "execution_count": 15,
     "metadata": {},
     "output_type": "execute_result"
    }
   ],
   "source": [
    "df1.vas.value_counts(normalize=True)"
   ]
  },
  {
   "cell_type": "markdown",
   "id": "92137d74-b31f-4aba-a1b5-d9164be17f5b",
   "metadata": {},
   "source": [
    "### Task 2.  "
   ]
  },
  {
   "cell_type": "markdown",
   "id": "830049b9-f37d-4c47-82b3-0e95d7db9ed3",
   "metadata": {},
   "source": [
    "**Get a stratified sample of five thousand users using the alternative weights method.\n",
    "The sample must be stratified according to the following parameters: `['region', 'platform', 'user_type_cars_name', 'vas']`, preserving the ratios from the original dataset. When forming a stratified sample, use np.random.seed(1) to ensure that everyone has the same dataset.**"
   ]
  },
  {
   "cell_type": "code",
   "execution_count": 16,
   "id": "aba5cf70-ee8a-484e-8e52-92a04168b698",
   "metadata": {},
   "outputs": [
    {
     "name": "stdout",
     "output_type": "stream",
     "text": [
      "The proportion of parameter values in the full dataset:\n",
      "region\n",
      "Москва             0.246580\n",
      "Санкт-Петербург    0.119520\n",
      "Новосибирск        0.107331\n",
      "Сочи               0.087478\n",
      "Екатеринбург       0.055306\n",
      "Нижний Новгород    0.048758\n",
      "Челябинск          0.037506\n",
      "Самара             0.036914\n",
      "Казань             0.034440\n",
      "Ростов-на-Дону     0.032218\n",
      "Красноярск         0.030036\n",
      "Омск               0.026031\n",
      "Уфа                0.023810\n",
      "Пермь              0.023280\n",
      "Воронеж            0.021712\n",
      "Волгоград          0.016171\n",
      "Краснодар          0.015748\n",
      "Калининград        0.014564\n",
      "Саратов            0.010652\n",
      "Тольятти           0.008108\n",
      "Ижевск             0.003835\n",
      "-------------\n",
      "platform\n",
      "android    0.641217\n",
      "ios        0.337179\n",
      "desktop    0.020844\n",
      "mobile     0.000761\n",
      "-------------\n",
      "user_type_cars_name\n",
      "cars_simple    0.910692\n",
      "cars_seller    0.082045\n",
      "cars_dealer    0.007263\n",
      "-------------\n",
      "vas\n",
      "paying        0.52265\n",
      "non-paying    0.47735\n",
      "-------------\n",
      "\n",
      "\n",
      "The proportion of parameter values in the sample of 5000 users:\n",
      "region\n",
      "Москва             0.2458\n",
      "Санкт-Петербург    0.1236\n",
      "Новосибирск        0.0994\n",
      "Сочи               0.0950\n",
      "Екатеринбург       0.0544\n",
      "Нижний Новгород    0.0526\n",
      "Челябинск          0.0398\n",
      "Самара             0.0384\n",
      "Ростов-на-Дону     0.0334\n",
      "Казань             0.0322\n",
      "Красноярск         0.0296\n",
      "Омск               0.0256\n",
      "Пермь              0.0252\n",
      "Воронеж            0.0212\n",
      "Уфа                0.0192\n",
      "Волгоград          0.0168\n",
      "Краснодар          0.0148\n",
      "Калининград        0.0130\n",
      "Саратов            0.0104\n",
      "Тольятти           0.0064\n",
      "Ижевск             0.0032\n",
      "-------------\n",
      "platform\n",
      "android    0.6420\n",
      "ios        0.3396\n",
      "desktop    0.0178\n",
      "mobile     0.0006\n",
      "-------------\n",
      "user_type_cars_name\n",
      "cars_simple    0.9102\n",
      "cars_seller    0.0828\n",
      "cars_dealer    0.0070\n",
      "-------------\n",
      "vas\n",
      "paying        0.519\n",
      "non-paying    0.481\n",
      "-------------\n"
     ]
    }
   ],
   "source": [
    "np.random.seed(1)\n",
    "\n",
    "\n",
    "# setting required sample size\n",
    "sample_size = 5000\n",
    "\n",
    "def population_sample_parameter(dataset, column):\n",
    "    '''Function determines the proportion of values for the selected parameter in the full dataset'''\n",
    "    print(column)\n",
    "    print(dataset[column].value_counts(normalize = True).to_string())\n",
    "    print('-------------')\n",
    "\n",
    "\n",
    "print('The proportion of parameter values in the full dataset:')\n",
    "parameter_list = ['region', 'platform', 'user_type_cars_name', 'vas']\n",
    "for step in parameter_list:\n",
    "    population_sample_parameter(df1, step)\n",
    "\n",
    "\n",
    "# We will form a sample of 5,000 users, \n",
    "# based on the condition that the parameters are represented in the same ratio \n",
    "# as for the full dataset \n",
    "df1['combined'] = (\n",
    "    list(zip(df1['vas'],\n",
    "             df1['platform'],\n",
    "             df1['region'],\n",
    "             df1['user_type_cars_name']))\n",
    ") # We form a column with a combination of target parameters\n",
    "\n",
    "weight = df1['combined'].value_counts(normalize=True)\n",
    "counts = df1['combined'].value_counts()\n",
    "\n",
    "# We calculate the weight of each combination, according to which the sample will be sampled\n",
    "df1['combined_weight'] = df1['combined'].apply(lambda x: weight[x]/counts[x]) \n",
    "\n",
    "# We sample by the weights of the parameter combinations\n",
    "strat_sample_dataset_2 = df1.sample(sample_size, weights=df1['combined_weight']) \n",
    "\n",
    "\n",
    "# We will display the proportion of values for each parameter in the sample\n",
    "print(f'\\n\\nThe proportion of parameter values in the sample of {sample_size} users:')\n",
    "for step in parameter_list:\n",
    "    population_sample_parameter(strat_sample_dataset_2, step)"
   ]
  },
  {
   "cell_type": "markdown",
   "id": "31fae889-4938-45d4-9b13-01d632b6316b",
   "metadata": {},
   "source": [
    "### Task 3."
   ]
  },
  {
   "cell_type": "markdown",
   "id": "5dd570b5-0f5c-4a14-a892-5fbf203ec02d",
   "metadata": {},
   "source": [
    "**Check the representativeness of the obtained sample for several parameters:**  \n",
    "- **the parameter of non-paying users ('vas' = 0)**  \n",
    "\n",
    "**Enter the p-value through the z-test with an accuracy of three decimal places.**"
   ]
  },
  {
   "cell_type": "code",
   "execution_count": 17,
   "id": "8107b0a6-d360-4762-8247-6f62172d2e2a",
   "metadata": {},
   "outputs": [
    {
     "data": {
      "text/plain": [
       "paying        2595\n",
       "non-paying    2405\n",
       "Name: vas, dtype: int64"
      ]
     },
     "execution_count": 17,
     "metadata": {},
     "output_type": "execute_result"
    }
   ],
   "source": [
    "strat_sample_dataset_2.vas.value_counts()"
   ]
  },
  {
   "cell_type": "code",
   "execution_count": 18,
   "id": "11b02b4d-d723-48f8-96e0-7e7dd2d8df6e",
   "metadata": {},
   "outputs": [
    {
     "name": "stdout",
     "output_type": "stream",
     "text": [
      "Z-statistics:  -0.5070218390940259 \n",
      "p-value:  0.6121394951825216\n",
      "No SRM found.\n"
     ]
    }
   ],
   "source": [
    "alpha = 0.05\n",
    "\n",
    "stat, pval = proportions_ztest(count=[df1.vas.value_counts()[1], strat_sample_dataset_2.vas.value_counts()[1]],\n",
    "                               nobs=[df1.shape[0], strat_sample_dataset_2.shape[0]]) # считаем точечную оценку доли для z-теста\n",
    "print('Z-statistics: ', stat, '\\np-value: ', pval)\n",
    "\n",
    "if pval < alpha:\n",
    "    print('SRM is detected!!!')\n",
    "else:\n",
    "    print('No SRM found.')"
   ]
  },
  {
   "cell_type": "markdown",
   "id": "9998555e-c10e-42e9-9d02-143752f81ae8",
   "metadata": {},
   "source": [
    "### Task 4. "
   ]
  },
  {
   "cell_type": "markdown",
   "id": "4444fbd2-58f7-44ac-b794-8d530bc435c6",
   "metadata": {},
   "source": [
    "**Check the representativeness of the obtained sample for several parameters:**  \n",
    "- **the parameter of non-paying users ('platform' = 'android')**  \n",
    "\n",
    "**Enter the p-value through the z-test with an accuracy of three decimal places.**"
   ]
  },
  {
   "cell_type": "code",
   "execution_count": 19,
   "id": "6ae54a8b-c588-4089-9ed8-15dd58235c48",
   "metadata": {},
   "outputs": [
    {
     "data": {
      "text/plain": [
       "android    3210\n",
       "ios        1698\n",
       "desktop      89\n",
       "mobile        3\n",
       "Name: platform, dtype: int64"
      ]
     },
     "execution_count": 19,
     "metadata": {},
     "output_type": "execute_result"
    }
   ],
   "source": [
    "strat_sample_dataset_2.platform.value_counts()"
   ]
  },
  {
   "cell_type": "code",
   "execution_count": 20,
   "id": "504ef1e0-fa59-4eae-a825-1be07242b624",
   "metadata": {},
   "outputs": [
    {
     "name": "stdout",
     "output_type": "stream",
     "text": [
      "Z-statistics:  -0.11330780518750816 \n",
      "p-value:  0.9097865294491119\n",
      "No SRM found.\n"
     ]
    }
   ],
   "source": [
    "alpha = 0.05\n",
    "\n",
    "stat, pval = proportions_ztest(count=[df1.platform.value_counts()[0], strat_sample_dataset_2.platform.value_counts()[0]],\n",
    "                               nobs=[df1.shape[0], strat_sample_dataset_2.shape[0]]) # считаем точечную оценку доли для z-теста\n",
    "print('Z-statistics: ', stat, '\\np-value: ', pval)\n",
    "\n",
    "if pval < alpha:\n",
    "    print('SRM is detected!!!')\n",
    "else:\n",
    "    print('No SRM found.')"
   ]
  },
  {
   "cell_type": "markdown",
   "id": "dcb16c52-fe9b-48d4-9d38-2afb74cb5248",
   "metadata": {},
   "source": [
    "### Task 5. "
   ]
  },
  {
   "cell_type": "markdown",
   "id": "0f89b582-2814-4515-a460-4f8bb200a7e5",
   "metadata": {},
   "source": [
    "**Check the representativeness of the obtained sample for several parameters:**  \n",
    "- **the parameter of non-paying users ('user_type_cars_name' = 'cars_seller')**  \n",
    "\n",
    "**Enter the p-value through the z-test with an accuracy of three decimal places.**"
   ]
  },
  {
   "cell_type": "code",
   "execution_count": 21,
   "id": "16060a1c-b347-4624-a142-2a69dcf51003",
   "metadata": {},
   "outputs": [
    {
     "data": {
      "text/plain": [
       "cars_simple    4551\n",
       "cars_seller     414\n",
       "cars_dealer      35\n",
       "Name: user_type_cars_name, dtype: int64"
      ]
     },
     "execution_count": 21,
     "metadata": {},
     "output_type": "execute_result"
    }
   ],
   "source": [
    "strat_sample_dataset_2.user_type_cars_name.value_counts()"
   ]
  },
  {
   "cell_type": "code",
   "execution_count": 22,
   "id": "2c393173-00a3-4e9e-8bdd-ddf228200677",
   "metadata": {},
   "outputs": [
    {
     "name": "stdout",
     "output_type": "stream",
     "text": [
      "Z-statistics:  -0.19094700238261444 \n",
      "p-value:  0.8485671150224533\n",
      "No SRM found.\n"
     ]
    }
   ],
   "source": [
    "alpha = 0.05\n",
    "\n",
    "stat, pval = proportions_ztest(count=[df1.user_type_cars_name.value_counts()[1], strat_sample_dataset_2.user_type_cars_name.value_counts()[1]],\n",
    "                               nobs=[df1.shape[0], strat_sample_dataset_2.shape[0]]) # считаем точечную оценку доли для z-теста\n",
    "print('Z-statistics: ', stat, '\\np-value: ', pval)\n",
    "\n",
    "if pval < alpha:\n",
    "    print('SRM is detected!!!')\n",
    "else:\n",
    "    print('No SRM found.')"
   ]
  },
  {
   "cell_type": "markdown",
   "id": "02cf0cad-ae94-4463-8ea7-82395468ee3a",
   "metadata": {},
   "source": [
    "### Task 6. "
   ]
  },
  {
   "cell_type": "markdown",
   "id": "54ae1c9e-ea55-483d-b045-edef4d7fd3f1",
   "metadata": {},
   "source": [
    "**Let's use `df2` for this and the next tasks.  \n",
    "The design of the experiment assumes that the groups are represented in equal proportions. Check for a violation of split-plot randomization (SRM) in the data using the chi-squared test.  \n",
    "Is there a violation of SRM according to the chi-squared test?**"
   ]
  },
  {
   "cell_type": "code",
   "execution_count": 23,
   "id": "389b94f8-3a56-4d37-81b6-dae501286276",
   "metadata": {},
   "outputs": [
    {
     "data": {
      "text/plain": [
       "['B']    14270\n",
       "['A']    11748\n",
       "Name: group, dtype: int64"
      ]
     },
     "execution_count": 23,
     "metadata": {},
     "output_type": "execute_result"
    }
   ],
   "source": [
    "df2.group.value_counts()"
   ]
  },
  {
   "cell_type": "code",
   "execution_count": 24,
   "id": "cb20b7bc-6c74-43f2-a224-6dd21c2e7239",
   "metadata": {},
   "outputs": [],
   "source": [
    "# Amount of users in control and test groups\n",
    "observed = [df2.group.value_counts()[0], df2.group.value_counts()[1]]\n",
    "\n",
    "# desired proportion\n",
    "ratio = 50\n",
    "\n",
    "# statistical significance level\n",
    "alpha = 0.05"
   ]
  },
  {
   "cell_type": "code",
   "execution_count": 25,
   "id": "7328b82a-b15e-4bfa-94a3-fa773d259df2",
   "metadata": {},
   "outputs": [
    {
     "name": "stdout",
     "output_type": "stream",
     "text": [
      "Real sample sizes: [14270, 11748]\n",
      "Expected sample sizes: [13009.0, 13009.0]\n",
      "SRM is detected!!!\n",
      "Power_divergenceResult(statistic=244.46475516949803, pvalue=4.180479887875548e-55)\n"
     ]
    }
   ],
   "source": [
    "total_traffic = sum(observed)\n",
    "\n",
    "expected = [ (total_traffic * ratio)/100, (total_traffic * (100 - ratio)/100) ] # ожидаемые размеры групп если бы ratio выполнялось полностью\n",
    "print('Real sample sizes:', observed)\n",
    "print('Expected sample sizes:', expected)\n",
    "\n",
    "# using chi-square test to detect SRM\n",
    "chi = chisquare(observed, f_exp = expected)\n",
    "\n",
    "if chi[1] < alpha:\n",
    "    print('SRM is detected!!!')\n",
    "else:\n",
    "    print('No SRM found.')\n",
    "print(chi)"
   ]
  },
  {
   "cell_type": "markdown",
   "id": "52e3284c-c5d6-43c0-9d76-afcf523ffc0b",
   "metadata": {},
   "source": [
    "### Task 7. "
   ]
  },
  {
   "cell_type": "markdown",
   "id": "9c352460-9a8c-48dc-b196-8681b801064f",
   "metadata": {},
   "source": [
    "**Using the SSRM method discussed in the lecture, determine how many users the method will allow to say about the presence of SRM for the dataset from the previous task.**"
   ]
  },
  {
   "cell_type": "code",
   "execution_count": 26,
   "id": "461e76b5-51a9-4fe2-8189-d33570baee0e",
   "metadata": {},
   "outputs": [
    {
     "data": {
      "image/png": "[encoded data removed]",
      "text/plain": [
       "<Figure size 432x288 with 1 Axes>"
      ]
     },
     "metadata": {
      "needs_background": "light"
     },
     "output_type": "display_data"
    },
    {
     "name": "stdout",
     "output_type": "stream",
     "text": [
      "SRM detected after 3023 users joined experiment.\n",
      "We were able to detect SRM after 11.62% of expected users joined our experiment.\n"
     ]
    }
   ],
   "source": [
    "# expected split ratio\n",
    "expected_pct = [0.5, 0.5]\n",
    "\n",
    "# real split ratio\n",
    "observed = [df2['group'].value_counts()[0], df2['group'].value_counts()[1]]\n",
    "total_traffic = sum(observed)\n",
    " \n",
    "# a helper function to map our data\n",
    "def map_value(value):\n",
    "    if value == \"['A']\":\n",
    "        return [1, 0]\n",
    "    elif value == \"['B']\":\n",
    "        return [0, 1]\n",
    "    else:\n",
    "        return None\n",
    "    \n",
    "# let's map our data to the required format\n",
    "df2['data'] = df2['group'].apply(map_value)\n",
    "data = df2['data'].to_list()\n",
    " \n",
    "# calculating SSRM results\n",
    "pvals = ssrm_test.sequential_p_values(data, expected_pct)\n",
    "fig = plt.figure()\n",
    "plt.plot(pvals)\n",
    "fig.suptitle('p-value sequence for SSRM', fontsize=16)\n",
    "plt.xlabel('Total samples size', fontsize=12)\n",
    "plt.ylabel('p-value', fontsize=12)\n",
    "plt.ylim(0, 1)\n",
    "sig_reached = np.argmax(np.array(pvals) < 0.05)\n",
    "plt.axhline(y=0.05, color='red', linestyle='--')\n",
    "plt.axvline(x=sig_reached, color='red', linestyle='--')\n",
    "plt.show()\n",
    " \n",
    "\n",
    "print(f'SRM detected after {sig_reached} users joined experiment.')\n",
    "print(f'We were able to detect SRM after {round(100 * sig_reached / total_traffic, 2)}% of expected users joined our experiment.')"
   ]
  }
 ],
 "metadata": {
  "kernelspec": {
   "display_name": "Python 3 (ipykernel)",
   "language": "python",
   "name": "python3"
  },
  "language_info": {
   "codemirror_mode": {
    "name": "ipython",
    "version": 3
   },
   "file_extension": ".py",
   "mimetype": "text/x-python",
   "name": "python",
   "nbconvert_exporter": "python",
   "pygments_lexer": "ipython3",
   "version": "3.8.10"
  }
 },
 "nbformat": 4,
 "nbformat_minor": 5
}
