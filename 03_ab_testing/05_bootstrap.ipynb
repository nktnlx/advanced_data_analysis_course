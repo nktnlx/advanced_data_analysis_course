{
 "cells": [
  {
   "cell_type": "markdown",
   "id": "e23e1516-6e75-4e85-bf5b-0011204c6bf9",
   "metadata": {},
   "source": [
    "# Statistical Tests"
   ]
  },
  {
   "cell_type": "markdown",
   "id": "8ad67dba-80ad-46c5-ade5-7ce6464e9f6c",
   "metadata": {},
   "source": [
    "## Import libraries"
   ]
  },
  {
   "cell_type": "code",
   "execution_count": 1,
   "id": "b5e9bc0a-29b8-4103-9d58-de77a9313d09",
   "metadata": {},
   "outputs": [],
   "source": [
    "#!pip install seaborn"
   ]
  },
  {
   "cell_type": "code",
   "execution_count": 2,
   "id": "02ca5c3e-1244-449d-a780-f62918e1699d",
   "metadata": {},
   "outputs": [],
   "source": [
    "#!pip install matplotlib"
   ]
  },
  {
   "cell_type": "code",
   "execution_count": 3,
   "id": "4d138bda-888f-421e-9184-ea5185bc2b5d",
   "metadata": {},
   "outputs": [],
   "source": [
    "import pandas as pd\n",
    "import numpy as np\n",
    "import matplotlib.pyplot as plt\n",
    "import seaborn as sns\n",
    "#from statsmodels.stats.power import tt_ind_solve_power\n",
    "#from scipy.stats import mannwhitneyu\n",
    "#from scipy.stats import ttest_ind\n",
    "#from scipy.stats import median_test\n",
    "\n",
    "from tqdm import tqdm"
   ]
  },
  {
   "cell_type": "markdown",
   "id": "19cd9f2c-bd3c-4ea7-ab76-af423aa74794",
   "metadata": {},
   "source": [
    "## Importing data"
   ]
  },
  {
   "cell_type": "code",
   "execution_count": 4,
   "id": "a3517ee9-cf67-41d5-b26e-830fcbf6d398",
   "metadata": {},
   "outputs": [],
   "source": [
    "df = pd.read_csv('bootstrap_homework.csv')"
   ]
  },
  {
   "cell_type": "code",
   "execution_count": 5,
   "id": "923a4f68-bc4a-45ab-9607-eb6c9184fd02",
   "metadata": {},
   "outputs": [
    {
     "data": {
      "text/html": [
       "<div>\n",
       "<style scoped>\n",
       "    .dataframe tbody tr th:only-of-type {\n",
       "        vertical-align: middle;\n",
       "    }\n",
       "\n",
       "    .dataframe tbody tr th {\n",
       "        vertical-align: top;\n",
       "    }\n",
       "\n",
       "    .dataframe thead th {\n",
       "        text-align: right;\n",
       "    }\n",
       "</style>\n",
       "<table border=\"1\" class=\"dataframe\">\n",
       "  <thead>\n",
       "    <tr style=\"text-align: right;\">\n",
       "      <th></th>\n",
       "      <th>passport_id</th>\n",
       "      <th>region</th>\n",
       "      <th>revenue</th>\n",
       "      <th>group</th>\n",
       "    </tr>\n",
       "  </thead>\n",
       "  <tbody>\n",
       "    <tr>\n",
       "      <th>31069</th>\n",
       "      <td>134226089</td>\n",
       "      <td>Новосибирск</td>\n",
       "      <td>288</td>\n",
       "      <td>1</td>\n",
       "    </tr>\n",
       "    <tr>\n",
       "      <th>15572</th>\n",
       "      <td>140932813</td>\n",
       "      <td>Новосибирск</td>\n",
       "      <td>330</td>\n",
       "      <td>0</td>\n",
       "    </tr>\n",
       "    <tr>\n",
       "      <th>29097</th>\n",
       "      <td>140693771</td>\n",
       "      <td>Новосибирск</td>\n",
       "      <td>450</td>\n",
       "      <td>0</td>\n",
       "    </tr>\n",
       "    <tr>\n",
       "      <th>11052</th>\n",
       "      <td>140726377</td>\n",
       "      <td>Новосибирск</td>\n",
       "      <td>580</td>\n",
       "      <td>1</td>\n",
       "    </tr>\n",
       "    <tr>\n",
       "      <th>6745</th>\n",
       "      <td>138800504</td>\n",
       "      <td>Новосибирск</td>\n",
       "      <td>640</td>\n",
       "      <td>0</td>\n",
       "    </tr>\n",
       "  </tbody>\n",
       "</table>\n",
       "</div>"
      ],
      "text/plain": [
       "       passport_id       region  revenue  group\n",
       "31069    134226089  Новосибирск      288      1\n",
       "15572    140932813  Новосибирск      330      0\n",
       "29097    140693771  Новосибирск      450      0\n",
       "11052    140726377  Новосибирск      580      1\n",
       "6745     138800504  Новосибирск      640      0"
      ]
     },
     "execution_count": 5,
     "metadata": {},
     "output_type": "execute_result"
    }
   ],
   "source": [
    "df.sample(5)"
   ]
  },
  {
   "cell_type": "code",
   "execution_count": 6,
   "id": "0b2aa626-c341-4cd0-ae36-b729fd61e4ba",
   "metadata": {},
   "outputs": [
    {
     "name": "stdout",
     "output_type": "stream",
     "text": [
      "<class 'pandas.core.frame.DataFrame'>\n",
      "RangeIndex: 32115 entries, 0 to 32114\n",
      "Data columns (total 4 columns):\n",
      " #   Column       Non-Null Count  Dtype \n",
      "---  ------       --------------  ----- \n",
      " 0   passport_id  32115 non-null  int64 \n",
      " 1   region       32115 non-null  object\n",
      " 2   revenue      32115 non-null  int64 \n",
      " 3   group        32115 non-null  int64 \n",
      "dtypes: int64(3), object(1)\n",
      "memory usage: 1003.7+ KB\n"
     ]
    }
   ],
   "source": [
    "df.info()"
   ]
  },
  {
   "cell_type": "code",
   "execution_count": 7,
   "id": "427cdfdd-1cb4-4547-862f-1e198469a4d8",
   "metadata": {},
   "outputs": [
    {
     "data": {
      "text/plain": [
       "passport_id    0\n",
       "region         0\n",
       "revenue        0\n",
       "group          0\n",
       "dtype: int64"
      ]
     },
     "execution_count": 7,
     "metadata": {},
     "output_type": "execute_result"
    }
   ],
   "source": [
    "df.isna().sum()"
   ]
  },
  {
   "cell_type": "code",
   "execution_count": 8,
   "id": "4edddc76-4282-4b73-9c1b-99e4965fd997",
   "metadata": {},
   "outputs": [
    {
     "data": {
      "text/plain": [
       "32115"
      ]
     },
     "execution_count": 8,
     "metadata": {},
     "output_type": "execute_result"
    }
   ],
   "source": [
    "df.passport_id.nunique()"
   ]
  },
  {
   "cell_type": "code",
   "execution_count": 9,
   "id": "e0c405fe-df89-43a9-8f30-3ffddbb41dff",
   "metadata": {},
   "outputs": [
    {
     "data": {
      "text/plain": [
       "1    16121\n",
       "0    15994\n",
       "Name: group, dtype: int64"
      ]
     },
     "execution_count": 9,
     "metadata": {},
     "output_type": "execute_result"
    }
   ],
   "source": [
    "df.group.value_counts()"
   ]
  },
  {
   "cell_type": "code",
   "execution_count": 10,
   "id": "ac005148-8d5e-4092-853b-e65ff917017a",
   "metadata": {},
   "outputs": [
    {
     "data": {
      "text/plain": [
       "1    0.501977\n",
       "0    0.498023\n",
       "Name: group, dtype: float64"
      ]
     },
     "execution_count": 10,
     "metadata": {},
     "output_type": "execute_result"
    }
   ],
   "source": [
    "df.group.value_counts(normalize=True)"
   ]
  },
  {
   "cell_type": "code",
   "execution_count": 11,
   "id": "a96c96fb-7cc9-41e4-971f-75c09bca05da",
   "metadata": {},
   "outputs": [
    {
     "data": {
      "text/plain": [
       "count     32115.000000\n",
       "mean       1561.262463\n",
       "std        7687.990519\n",
       "min         135.000000\n",
       "25%         297.000000\n",
       "50%         480.000000\n",
       "75%        1332.000000\n",
       "max      751925.000000\n",
       "Name: revenue, dtype: float64"
      ]
     },
     "execution_count": 11,
     "metadata": {},
     "output_type": "execute_result"
    }
   ],
   "source": [
    "df.revenue.describe()"
   ]
  },
  {
   "cell_type": "markdown",
   "id": "b6e6fc11-f7c5-4ada-a6de-eda65591c0aa",
   "metadata": {},
   "source": [
    "## Tasks"
   ]
  },
  {
   "cell_type": "markdown",
   "id": "7c334d62-e699-49c4-bb27-367395721dfd",
   "metadata": {},
   "source": [
    "### Task 1."
   ]
  },
  {
   "cell_type": "markdown",
   "id": "dcb63d57-d2f7-4948-9b43-92b2ac608650",
   "metadata": {},
   "source": [
    " **Find the 0.7 quantile of the revenue distribution for group 0.**"
   ]
  },
  {
   "cell_type": "code",
   "execution_count": 12,
   "id": "e24a9e22-fc6b-45fc-8fa2-ff4a81528155",
   "metadata": {},
   "outputs": [
    {
     "data": {
      "text/plain": [
       "960.0"
      ]
     },
     "execution_count": 12,
     "metadata": {},
     "output_type": "execute_result"
    }
   ],
   "source": [
    "np.quantile(df[df['group'] == 0].revenue, q=.7)"
   ]
  },
  {
   "cell_type": "markdown",
   "id": "92137d74-b31f-4aba-a1b5-d9164be17f5b",
   "metadata": {},
   "source": [
    "### Task 2.  "
   ]
  },
  {
   "cell_type": "markdown",
   "id": "830049b9-f37d-4c47-82b3-0e95d7db9ed3",
   "metadata": {},
   "source": [
    "**Find the 0.7 quantile of the revenue distribution for group 1.**"
   ]
  },
  {
   "cell_type": "code",
   "execution_count": 13,
   "id": "aba5cf70-ee8a-484e-8e52-92a04168b698",
   "metadata": {},
   "outputs": [
    {
     "data": {
      "text/plain": [
       "1128.0"
      ]
     },
     "execution_count": 13,
     "metadata": {},
     "output_type": "execute_result"
    }
   ],
   "source": [
    "np.quantile(df[df['group'] == 1].revenue, q=.7)"
   ]
  },
  {
   "cell_type": "markdown",
   "id": "31fae889-4938-45d4-9b13-01d632b6316b",
   "metadata": {},
   "source": [
    "### Task 3."
   ]
  },
  {
   "cell_type": "markdown",
   "id": "5dd570b5-0f5c-4a14-a892-5fbf203ec02d",
   "metadata": {},
   "source": [
    "**Find IQR for group 0.**"
   ]
  },
  {
   "cell_type": "code",
   "execution_count": 14,
   "id": "997bb313-86f1-47f3-a6df-7e7c3249c72f",
   "metadata": {},
   "outputs": [],
   "source": [
    "def iqr(df, col):\n",
    "    \"\"\"Calculates the interquartile range (IQR) of a given column in a pandas DataFrame.\n",
    "    Args:\n",
    "        df (pandas.DataFrame): The pandas DataFrame.\n",
    "        col (str): The column name.\n",
    "    Returns:\n",
    "        float: The interquartile range.\n",
    "    \"\"\"\n",
    "\n",
    "    # Get the data for the given column.\n",
    "    data = df[col]\n",
    "\n",
    "    # Calculate the first and third quartiles.\n",
    "    q1 = np.quantile(data, q=.25)\n",
    "    q3 = np.quantile(data, q=.75)\n",
    "\n",
    "    # Calculate the IQR.\n",
    "    iqr = q3 - q1\n",
    "\n",
    "    # Return the IQR.\n",
    "    return iqr"
   ]
  },
  {
   "cell_type": "code",
   "execution_count": 15,
   "id": "8107b0a6-d360-4762-8247-6f62172d2e2a",
   "metadata": {},
   "outputs": [
    {
     "data": {
      "text/plain": [
       "963.0"
      ]
     },
     "execution_count": 15,
     "metadata": {},
     "output_type": "execute_result"
    }
   ],
   "source": [
    "iqr(df[df['group'] == 0], 'revenue')"
   ]
  },
  {
   "cell_type": "markdown",
   "id": "9998555e-c10e-42e9-9d02-143752f81ae8",
   "metadata": {},
   "source": [
    "### Task 4. "
   ]
  },
  {
   "cell_type": "markdown",
   "id": "4444fbd2-58f7-44ac-b794-8d530bc435c6",
   "metadata": {},
   "source": [
    "**Find IQR for group 1.**"
   ]
  },
  {
   "cell_type": "code",
   "execution_count": 16,
   "id": "84eec764-4d31-497b-bc08-e57ef78fde32",
   "metadata": {},
   "outputs": [
    {
     "data": {
      "text/plain": [
       "1186.0"
      ]
     },
     "execution_count": 16,
     "metadata": {},
     "output_type": "execute_result"
    }
   ],
   "source": [
    "iqr(df[df['group'] == 1], 'revenue')"
   ]
  },
  {
   "cell_type": "markdown",
   "id": "dcb16c52-fe9b-48d4-9d38-2afb74cb5248",
   "metadata": {},
   "source": [
    "### Task 5. "
   ]
  },
  {
   "cell_type": "markdown",
   "id": "0f89b582-2814-4515-a460-4f8bb200a7e5",
   "metadata": {},
   "source": [
    "**Use bootstrap to test the hypothesis of equality of the 0.8 quantile of distributions between two groups. Alpha = 0.05. Before starting the first bootstrap iteration, set np.random.seed(1). Number of bootstrap iterations = 10,000. Is the H0 hypothesis of equality of quantiles rejected?**"
   ]
  },
  {
   "cell_type": "code",
   "execution_count": 17,
   "id": "91be1d57-e936-40eb-b4ef-c6511f410519",
   "metadata": {},
   "outputs": [],
   "source": [
    "def bootstrap_ab_test(sample_data_A, sample_data_B, stat, resample_num, alpha, q, seed):\n",
    "    '''\n",
    "    sample_data_A - values in sample A\n",
    "    sample_data_B - values in sample B\n",
    "    stat - can pass an estimator function\n",
    "    resample_num - number of iterations of resample sample extraction in bootstrap\n",
    "    alpha - significance level for the test\n",
    "    q - is specified if you are estimating a specific distribution quantile\n",
    "    seed - random seed value\n",
    "    '''\n",
    "    # A function to return resample samples resample_num times\n",
    "    def get_resampled_data(sample, sample_size, resample_num):\n",
    "        resampled_data = np.random.choice(sample, size = (resample_num, sample_size), replace=True)\n",
    "        return(resampled_data)\n",
    "    \n",
    "    # A function to extract the given statistic from the obtained samples\n",
    "    def get_resampled_stats(resampled_data, stat):\n",
    "        resampled_stats = stat(resampled_data, axis = 1)\n",
    "        return(resampled_stats)\n",
    "    \n",
    "    # A function to extract quantiles from resample samples\n",
    "    def get_resampled_quantile(resampled_data, q=0.5):\n",
    "        resampled_stats = np.quantile(resampled_data, q=q, axis = 1)\n",
    "        return(resampled_stats)\n",
    "    \n",
    "    # Get bootstrapped data\n",
    "    if seed:\n",
    "        np.random.seed(seed)\n",
    "    resampled_data_A = get_resampled_data(sample_data_A, len(sample_data_A), resample_num)\n",
    "    resampled_data_B = get_resampled_data(sample_data_B, len(sample_data_B), resample_num)\n",
    "\n",
    "    if q is not None:\n",
    "        resampled_stats_A = get_resampled_quantile(resampled_data_A, q)\n",
    "        resampled_stats_B = get_resampled_quantile(resampled_data_B, q)\n",
    "    else:\n",
    "        resampled_stats_A = get_resampled_stats(resampled_data_A, stat)\n",
    "        resampled_stats_B = get_resampled_stats(resampled_data_B, stat)\n",
    "\n",
    "    # Calculate the difference for the statistic\n",
    "    resampled_diffs = resampled_stats_B - resampled_stats_A\n",
    "\n",
    "    # Calculate the percentile bootstrap\n",
    "    perc_ci = np.quantile(resampled_diffs, [alpha/2, 1-alpha/2])\n",
    "\n",
    "    if q is not None:\n",
    "        samples_diff = np.quantile(sample_data_B, q) - np.quantile(sample_data_A, q)\n",
    "    else:\n",
    "        samples_diff = stat(sample_data_B) - stat(sample_data_A)\n",
    "\n",
    "    # Calculating p-value\n",
    "    adjusted_resampled_diffs = resampled_diffs - samples_diff\n",
    "    false_positive_count = np.sum(np.abs(adjusted_resampled_diffs) >= np.abs(samples_diff))\n",
    "    p_value = false_positive_count / resample_num\n",
    "\n",
    "    # Returning results\n",
    "    boot_data_object = {'resample_stats_A':resampled_stats_A,\n",
    "                         'resample_stats_B':resampled_stats_B,\n",
    "                         'resampled_diffs': resampled_diffs,\n",
    "                         'conf_int': perc_ci,\n",
    "                         'stat_diffs_std': resampled_diffs.std(),\n",
    "                         'p_value': p_value}\n",
    "    return(boot_data_object)"
   ]
  },
  {
   "cell_type": "code",
   "execution_count": 18,
   "id": "904f14c4-b466-4fb1-bc45-00ca71b1b6cd",
   "metadata": {},
   "outputs": [],
   "source": [
    "alpha = 0.05\n",
    "boot_iters = 10000\n",
    "quantile = 0.8\n",
    "seed = 1\n",
    "\n",
    "control_data = df[df['group'] == 0].revenue\n",
    "test_data = df[df['group'] == 1].revenue\n",
    "\n",
    "\n",
    "boot_res = bootstrap_ab_test(sample_data_A = control_data,\n",
    "    sample_data_B = test_data,\n",
    "    stat = np.mean,\n",
    "    resample_num = boot_iters,\n",
    "    alpha = alpha,\n",
    "    q = quantile,\n",
    "    seed = 1)"
   ]
  },
  {
   "cell_type": "code",
   "execution_count": 19,
   "id": "65cb9c4e-4e0c-4923-b059-bcc85371566c",
   "metadata": {},
   "outputs": [
    {
     "name": "stdout",
     "output_type": "stream",
     "text": [
      "p-value: 0.1804 --> We are not able to reject the H0.\n"
     ]
    }
   ],
   "source": [
    "pval = boot_res['p_value']\n",
    "\n",
    "if pval < alpha:\n",
    "    print(f'p-value: {pval:.4f} --> We can reject the H0!!!')\n",
    "else:\n",
    "    print(f'p-value: {pval:.4f} --> We are not able to reject the H0.')"
   ]
  },
  {
   "cell_type": "markdown",
   "id": "02cf0cad-ae94-4463-8ea7-82395468ee3a",
   "metadata": {},
   "source": [
    "### Task 6. "
   ]
  },
  {
   "cell_type": "markdown",
   "id": "54ae1c9e-ea55-483d-b045-edef4d7fd3f1",
   "metadata": {},
   "source": [
    "**Use bootstrap to test the hypothesis of equality of the 0.4 quantile of distributions between two groups. Alpha = 0.05. Before starting the first bootstrap iteration, set np.random.seed(1). Number of bootstrap iterations = 10,000. Is the H0 hypothesis of equality of quantiles rejected?**"
   ]
  },
  {
   "cell_type": "code",
   "execution_count": 20,
   "id": "07fcaecf-ae16-4fc6-b7c0-d349e60fb67a",
   "metadata": {},
   "outputs": [],
   "source": [
    "alpha = 0.05\n",
    "boot_iters = 10000\n",
    "quantile = 0.4\n",
    "seed = 1\n",
    "\n",
    "control_data = df[df['group'] == 0].revenue\n",
    "test_data = df[df['group'] == 1].revenue\n",
    "\n",
    "\n",
    "boot_res = bootstrap_ab_test(sample_data_A = control_data,\n",
    "    sample_data_B = test_data,\n",
    "    stat = np.mean,\n",
    "    resample_num = boot_iters,\n",
    "    alpha = alpha,\n",
    "    q = quantile,\n",
    "    seed = 1)"
   ]
  },
  {
   "cell_type": "code",
   "execution_count": 21,
   "id": "8a42598c-b4ee-471c-8162-74fb8467d00a",
   "metadata": {},
   "outputs": [
    {
     "name": "stdout",
     "output_type": "stream",
     "text": [
      "p-value: 0.0000 --> We can reject the H0!!!\n"
     ]
    }
   ],
   "source": [
    "pval = boot_res['p_value']\n",
    "\n",
    "if pval < alpha:\n",
    "    print(f'p-value: {pval:.4f} --> We can reject the H0!!!')\n",
    "else:\n",
    "    print(f'p-value: {pval:.4f} --> We are not able to reject the H0.')"
   ]
  },
  {
   "cell_type": "markdown",
   "id": "52e3284c-c5d6-43c0-9d76-afcf523ffc0b",
   "metadata": {},
   "source": [
    "### Task 7. "
   ]
  },
  {
   "cell_type": "markdown",
   "id": "eeb0b58d-760e-4331-87f3-fb5e21ecd7a4",
   "metadata": {},
   "source": [
    "**Specify the average difference in quantiles obtained using bootstrap on the previous step..**"
   ]
  },
  {
   "cell_type": "code",
   "execution_count": 22,
   "id": "680b7708-e005-4239-8e15-ae792ceb3f73",
   "metadata": {},
   "outputs": [
    {
     "data": {
      "text/plain": [
       "-56.111380000000075"
      ]
     },
     "execution_count": 22,
     "metadata": {},
     "output_type": "execute_result"
    }
   ],
   "source": [
    "boot_res['resampled_diffs'].mean()"
   ]
  },
  {
   "cell_type": "markdown",
   "id": "283434af-1e03-4a78-becd-3d59409d3687",
   "metadata": {},
   "source": [
    "### Task 8. "
   ]
  },
  {
   "cell_type": "markdown",
   "id": "2b2aefac-58e7-4b2a-80a5-f05f1b186f09",
   "metadata": {},
   "source": [
    "**Use bootstrap to test the hypothesis of equality of the 0.65 quantile of distributions between two groups. Alpha = 0.05. Before starting the first bootstrap iteration, set np.random.seed(1). Number of bootstrap iterations = 10,000. Is the H0 hypothesis of equality of quantiles rejected?**"
   ]
  },
  {
   "cell_type": "code",
   "execution_count": 23,
   "id": "165aa748-9e9e-45c4-8c60-72162d18df86",
   "metadata": {},
   "outputs": [],
   "source": [
    "alpha = 0.05\n",
    "boot_iters = 10000\n",
    "quantile = 0.65\n",
    "seed = 1\n",
    "\n",
    "control_data = df[df['group'] == 0].revenue\n",
    "test_data = df[df['group'] == 1].revenue\n",
    "\n",
    "\n",
    "boot_res = bootstrap_ab_test(sample_data_A = control_data,\n",
    "    sample_data_B = test_data,\n",
    "    stat = np.mean,\n",
    "    resample_num = boot_iters,\n",
    "    alpha = alpha,\n",
    "    q = quantile,\n",
    "    seed = 1)"
   ]
  },
  {
   "cell_type": "code",
   "execution_count": 24,
   "id": "f70bebb3-7bc3-46f3-8c74-26e390d562fb",
   "metadata": {},
   "outputs": [
    {
     "name": "stdout",
     "output_type": "stream",
     "text": [
      "p-value: 0.0000 --> We can reject the H0!!!\n"
     ]
    }
   ],
   "source": [
    "pval = boot_res['p_value']\n",
    "\n",
    "if pval < alpha:\n",
    "    print(f'p-value: {pval:.4f} --> We can reject the H0!!!')\n",
    "else:\n",
    "    print(f'p-value: {pval:.4f} --> We are not able to reject the H0.')"
   ]
  },
  {
   "cell_type": "markdown",
   "id": "41a96321-035a-4b17-9ce9-aabd1a4f3fc5",
   "metadata": {},
   "source": [
    "### Task 9. "
   ]
  },
  {
   "cell_type": "markdown",
   "id": "4d6e729a-8bb3-46d1-b6db-a0f25fc5dcff",
   "metadata": {},
   "source": [
    "**Let's conduct a decile analysis, i.e., let's look for effects in the entire space of deciles of the distribution.  \n",
    "Determine using bootstrap from which percentile of the distribution the effect on revenue begins to be detected.  \n",
    "Start simulations from the 0.01 percentile.  \n",
    "The step of percentiles search in the simulations is 0.01.  \n",
    "Before starting the search, set np.random.seed(1).  \n",
    "For each iteration of the search, use the following bootstrap configuration:  \n",
    "alpha = 0.05  \n",
    "number of iterations inside the bootstrap = 2000  \n",
    "multiple comparisons correction - Bonferroni.**"
   ]
  },
  {
   "cell_type": "code",
   "execution_count": 25,
   "id": "99242a27-bd3e-45f5-89ed-e4d057ef3472",
   "metadata": {},
   "outputs": [
    {
     "name": "stderr",
     "output_type": "stream",
     "text": [
      "100%|██████████| 99/99 [05:43<00:00,  3.47s/it]\n"
     ]
    }
   ],
   "source": [
    "# Let's plot a graph of p-values obtained through bootstrap \n",
    "# to test the hypothesis of equality of percentiles for each percentile\n",
    "peek_num = 99  # number of observation points in the linear space of percentiles. Number of hypotheses to be tested in the percentile space\n",
    "perc_linspace = np.linspace(0.01, 1, peek_num)\n",
    "boot_iters = 2000\n",
    "\n",
    "p_val_list = []\n",
    "diffs_list = []\n",
    "lower_ci_list = []\n",
    "upper_ci_list = []\n",
    "\n",
    "# for each defined percentile, we test the hypothesis of equality of percentiles using bootstrap\n",
    "for i in tqdm(perc_linspace):\n",
    "    boot_data = bootstrap_ab_test(sample_data_A = control_data,\n",
    "                  sample_data_B = test_data,\n",
    "                  stat = np.mean,\n",
    "                  resample_num = boot_iters,\n",
    "                  alpha = (0.05/peek_num), q = i, seed = 1)  # applying Bonferroni correction\n",
    "    p_val_list.append(boot_data['p_value'])\n",
    "    diffs_list.append(boot_data['resampled_diffs'].mean())\n",
    "    lower_ci_list.append(boot_data['conf_int'][0])\n",
    "    upper_ci_list.append(boot_data['conf_int'][1])\n",
    "p_val_list = np.array(p_val_list)\n",
    "diffs_list = np.array(diffs_list)\n",
    "lower_ci_list = np.array(lower_ci_list)\n",
    "upper_ci_list = np.array(upper_ci_list)"
   ]
  },
  {
   "cell_type": "code",
   "execution_count": 26,
   "id": "2cd8cd6f-ea62-41f9-a21f-f88f96b9b9c9",
   "metadata": {},
   "outputs": [
    {
     "data": {
      "image/png": "[encoded data removed]",
      "text/plain": [
       "<Figure size 1152x576 with 1 Axes>"
      ]
     },
     "metadata": {
      "needs_background": "light"
     },
     "output_type": "display_data"
    }
   ],
   "source": [
    "# let's have a look on the result we have\n",
    "plt.figure(figsize=(16,8))\n",
    "\n",
    "sns.lineplot(x = np.round(perc_linspace,2), y = p_val_list, color= 'gray')\n",
    "\n",
    "plt.xlabel('Percentiles')\n",
    "plt.ylabel('p-value')\n",
    "plt.axhline(y = (0.05/peek_num), linestyle = '--')\n",
    "plt.axvline(perc_linspace[p_val_list <= (0.05/peek_num)].min(), linestyle = '--', color = 'blue');"
   ]
  },
  {
   "cell_type": "code",
   "execution_count": 27,
   "id": "00a2205c-8363-4001-aa3d-29d98d6bd705",
   "metadata": {},
   "outputs": [
    {
     "data": {
      "image/png": "[encoded data removed]",
      "text/plain": [
       "<Figure size 1152x576 with 1 Axes>"
      ]
     },
     "metadata": {
      "needs_background": "light"
     },
     "output_type": "display_data"
    }
   ],
   "source": [
    "# another way to visualize the obtained results\n",
    "plt.figure(figsize=(16,8))\n",
    "\n",
    "sns.set_style('darkgrid')\n",
    "sns.lineplot(x = perc_linspace, y = diffs_list, err_style='band')\n",
    "\n",
    "plt.ylim(-300,300)\n",
    "plt.xlim(0, 1)\n",
    "plt.axhline(y = 0, linestyle = '--')\n",
    "plt.axvline(perc_linspace[p_val_list <= (0.05/peek_num)].min(), linestyle = '--', color = 'blue')\n",
    "plt.fill_between(perc_linspace, lower_ci_list, upper_ci_list, color = 'grey', alpha=0.3)\n",
    "plt.xlabel('Percentiles')\n",
    "plt.ylabel('Diffs and 95% CI with Bonferoni correction.');"
   ]
  },
  {
   "cell_type": "markdown",
   "id": "47f2d80a-d330-461f-b515-eb62e6fa7fdf",
   "metadata": {},
   "source": [
    "### Task 10. "
   ]
  },
  {
   "cell_type": "markdown",
   "id": "021d5411-8659-43be-89ee-aa049e76a3b2",
   "metadata": {},
   "source": [
    "**What is the absolute observed effect found when bootstrapped on this percentile from the simulation performed above?.**"
   ]
  },
  {
   "cell_type": "code",
   "execution_count": 28,
   "id": "0242415a-1ef3-46b7-a6fa-f5c023350921",
   "metadata": {},
   "outputs": [],
   "source": [
    "alpha = 0.05\n",
    "boot_iters = 10000\n",
    "quantile = 0.01\n",
    "seed = 1\n",
    "\n",
    "control_data = df[df['group'] == 0].revenue\n",
    "test_data = df[df['group'] == 1].revenue\n",
    "\n",
    "\n",
    "boot_res = bootstrap_ab_test(sample_data_A = control_data,\n",
    "    sample_data_B = test_data,\n",
    "    stat = np.mean,\n",
    "    resample_num = boot_iters,\n",
    "    alpha = alpha,\n",
    "    q = quantile,\n",
    "    seed = 1)"
   ]
  },
  {
   "cell_type": "code",
   "execution_count": 29,
   "id": "a9f74529-e822-46f0-8e76-a6ec87c1b19c",
   "metadata": {},
   "outputs": [
    {
     "data": {
      "text/plain": [
       "-15.0122"
      ]
     },
     "execution_count": 29,
     "metadata": {},
     "output_type": "execute_result"
    }
   ],
   "source": [
    "boot_res['resampled_diffs'].mean()"
   ]
  },
  {
   "cell_type": "markdown",
   "id": "df0e94e9-95c6-4cc9-8203-3cc0243fc343",
   "metadata": {},
   "source": [
    "### Task 11. "
   ]
  },
  {
   "cell_type": "markdown",
   "id": "438a5ae3-d650-4ccf-a7ab-cdcb4f790ff7",
   "metadata": {},
   "source": [
    "**From what percentile do we first start to catch a positive effect between quantiles (quantile group 1 > quantile group 0)?**"
   ]
  },
  {
   "cell_type": "code",
   "execution_count": 30,
   "id": "0f541a75-a3ab-4f11-9ceb-d2d1b2b4f32f",
   "metadata": {},
   "outputs": [
    {
     "name": "stdout",
     "output_type": "stream",
     "text": [
      "quantile: 0.6\n"
     ]
    }
   ],
   "source": [
    "for i in range(len(diffs_list)):\n",
    "    if diffs_list[i] <= 0:\n",
    "        pass\n",
    "    else:\n",
    "        print(f'quantile: {(i+1) / 100}')\n",
    "        break"
   ]
  },
  {
   "cell_type": "markdown",
   "id": "2d3df93e-86ba-40b0-9b64-cb578b380a0e",
   "metadata": {},
   "source": [
    "### Task 12. "
   ]
  },
  {
   "cell_type": "markdown",
   "id": "60df8f87-1e2c-4d98-bbc1-825a137b5a1d",
   "metadata": {},
   "source": [
    "**What is the absolute observed effect found when bootstrapped on the percentile from the simulation conducted in the previous task?**"
   ]
  },
  {
   "cell_type": "code",
   "execution_count": 31,
   "id": "36201648-32e2-41db-84c5-42e6f0bea1ce",
   "metadata": {},
   "outputs": [
    {
     "name": "stdout",
     "output_type": "stream",
     "text": [
      "Absolute observed effect for 0.6 quantile: 66.3920448979591\n"
     ]
    }
   ],
   "source": [
    "print(f'Absolute observed effect for {(i+1) / 100} quantile: {diffs_list[i]}')"
   ]
  }
 ],
 "metadata": {
  "kernelspec": {
   "display_name": "Python 3 (ipykernel)",
   "language": "python",
   "name": "python3"
  },
  "language_info": {
   "codemirror_mode": {
    "name": "ipython",
    "version": 3
   },
   "file_extension": ".py",
   "mimetype": "text/x-python",
   "name": "python",
   "nbconvert_exporter": "python",
   "pygments_lexer": "ipython3",
   "version": "3.8.10"
  }
 },
 "nbformat": 4,
 "nbformat_minor": 5
}
