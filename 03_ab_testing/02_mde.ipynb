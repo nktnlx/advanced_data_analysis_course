{
 "cells": [
  {
   "cell_type": "markdown",
   "id": "e23e1516-6e75-4e85-bf5b-0011204c6bf9",
   "metadata": {},
   "source": [
    "# MDE, Power, Effect Size"
   ]
  },
  {
   "cell_type": "markdown",
   "id": "8ad67dba-80ad-46c5-ade5-7ce6464e9f6c",
   "metadata": {},
   "source": [
    "## Import libraries"
   ]
  },
  {
   "cell_type": "code",
   "execution_count": 1,
   "id": "b5e9bc0a-29b8-4103-9d58-de77a9313d09",
   "metadata": {},
   "outputs": [],
   "source": [
    "#!pip install statsmodels"
   ]
  },
  {
   "cell_type": "code",
   "execution_count": 2,
   "id": "4d138bda-888f-421e-9184-ea5185bc2b5d",
   "metadata": {},
   "outputs": [],
   "source": [
    "import pandas as pd\n",
    "from statsmodels.stats.power import tt_ind_solve_power"
   ]
  },
  {
   "cell_type": "code",
   "execution_count": 3,
   "id": "2334cf3f-1411-46f9-9d6c-4b776c786b87",
   "metadata": {},
   "outputs": [
    {
     "name": "stdout",
     "output_type": "stream",
     "text": [
      "(datetime.date(2022, 2, 1), datetime.date(2022, 1, 31), 'android', 'f7411212fd0e2523e126cbfdd3f226c211212', '4beb10e1-aeeb-4c52-acd2-ce1ddbc1fc24b10e1', 22, 11, 3, 0, 0, 0, 2, 2, 0, 0, 0, 0, 0, 0)\n"
     ]
    }
   ],
   "source": [
    "from clickhouse_driver import Client\n",
    "\n",
    "\n",
    "user_name = 'user_name'\n",
    "pwd = 'password'\n",
    "\n",
    "# creating connection ClickHouse\n",
    "client = Client(host='clickhouse.lab.karpov.courses', port=9000,\n",
    "                user=user_name, password=pwd, database='hardda')\n",
    "\n",
    "# checking connection\n",
    "result = client.execute(\"SELECT * FROM hardda.user_dm_events LIMIT 1\")\n",
    "\n",
    "# showing the result\n",
    "for row in result[0:1]:\n",
    "    print(row)"
   ]
  },
  {
   "cell_type": "markdown",
   "id": "b6e6fc11-f7c5-4ada-a6de-eda65591c0aa",
   "metadata": {},
   "source": [
    "## Tasks"
   ]
  },
  {
   "cell_type": "markdown",
   "id": "7c334d62-e699-49c4-bb27-367395721dfd",
   "metadata": {},
   "source": [
    "### Task 1."
   ]
  },
  {
   "cell_type": "markdown",
   "id": "dcb63d57-d2f7-4948-9b43-92b2ac608650",
   "metadata": {},
   "source": [
    " **Prepare an SQL query for customers who paid in Moscow in the period from October 11 to 16, 2022 for the \"premium\" service. What is the length of the resulting table?**"
   ]
  },
  {
   "cell_type": "code",
   "execution_count": 4,
   "id": "af1a1078-0423-4b7d-89a8-2efa038034de",
   "metadata": {},
   "outputs": [],
   "source": [
    "query = '''\n",
    "SELECT\n",
    "  ut.type,\n",
    "  ut.passport_id,\n",
    "  region,\n",
    "  abs(sum(sign * amount)) AS revenue\n",
    "FROM\n",
    "  user_transactions AS ut\n",
    "LEFT JOIN\n",
    "  dp_live_adverts AS la ON CAST(la.advert_id, 'UInt32') = ut.advert_id AND la.execution_date = ut.payment_date\n",
    "WHERE\n",
    "  payment_date BETWEEN '2022-10-11' and '2022-10-16'\n",
    "    AND type = 'premium'\n",
    "      AND sign = -1\n",
    "        AND amount != 0\n",
    "          AND region = 'Москва'\n",
    "GROUP BY\n",
    "  ut.type,\n",
    "  ut.passport_id,\n",
    "  region\n",
    "'''"
   ]
  },
  {
   "cell_type": "code",
   "execution_count": 5,
   "id": "66f68403-2d85-4727-a6e2-e348781dcb40",
   "metadata": {},
   "outputs": [],
   "source": [
    "result = client.execute(query)"
   ]
  },
  {
   "cell_type": "code",
   "execution_count": 6,
   "id": "c7b9b98f-7202-4b5e-9669-9e6e11fd7499",
   "metadata": {},
   "outputs": [
    {
     "name": "stdout",
     "output_type": "stream",
     "text": [
      "1053\n"
     ]
    }
   ],
   "source": [
    "print(len(result))"
   ]
  },
  {
   "cell_type": "markdown",
   "id": "92137d74-b31f-4aba-a1b5-d9164be17f5b",
   "metadata": {},
   "source": [
    "### Task 2.  "
   ]
  },
  {
   "cell_type": "markdown",
   "id": "830049b9-f37d-4c47-82b3-0e95d7db9ed3",
   "metadata": {},
   "source": [
    "**Find the average revenue for those users after it will be increased by 8%.**"
   ]
  },
  {
   "cell_type": "code",
   "execution_count": 7,
   "id": "1e01cc34-93d1-489a-96e4-f392db72f9ba",
   "metadata": {},
   "outputs": [
    {
     "data": {
      "text/html": [
       "<div>\n",
       "<style scoped>\n",
       "    .dataframe tbody tr th:only-of-type {\n",
       "        vertical-align: middle;\n",
       "    }\n",
       "\n",
       "    .dataframe tbody tr th {\n",
       "        vertical-align: top;\n",
       "    }\n",
       "\n",
       "    .dataframe thead th {\n",
       "        text-align: right;\n",
       "    }\n",
       "</style>\n",
       "<table border=\"1\" class=\"dataframe\">\n",
       "  <thead>\n",
       "    <tr style=\"text-align: right;\">\n",
       "      <th></th>\n",
       "      <th>service</th>\n",
       "      <th>user_id</th>\n",
       "      <th>region</th>\n",
       "      <th>revenue</th>\n",
       "    </tr>\n",
       "  </thead>\n",
       "  <tbody>\n",
       "    <tr>\n",
       "      <th>0</th>\n",
       "      <td>premium</td>\n",
       "      <td>133570315</td>\n",
       "      <td>Москва</td>\n",
       "      <td>2210</td>\n",
       "    </tr>\n",
       "    <tr>\n",
       "      <th>1</th>\n",
       "      <td>premium</td>\n",
       "      <td>125526618</td>\n",
       "      <td>Москва</td>\n",
       "      <td>1105</td>\n",
       "    </tr>\n",
       "    <tr>\n",
       "      <th>2</th>\n",
       "      <td>premium</td>\n",
       "      <td>128205675</td>\n",
       "      <td>Москва</td>\n",
       "      <td>2210</td>\n",
       "    </tr>\n",
       "    <tr>\n",
       "      <th>3</th>\n",
       "      <td>premium</td>\n",
       "      <td>123640858</td>\n",
       "      <td>Москва</td>\n",
       "      <td>1100</td>\n",
       "    </tr>\n",
       "    <tr>\n",
       "      <th>4</th>\n",
       "      <td>premium</td>\n",
       "      <td>135304607</td>\n",
       "      <td>Москва</td>\n",
       "      <td>1105</td>\n",
       "    </tr>\n",
       "    <tr>\n",
       "      <th>...</th>\n",
       "      <td>...</td>\n",
       "      <td>...</td>\n",
       "      <td>...</td>\n",
       "      <td>...</td>\n",
       "    </tr>\n",
       "    <tr>\n",
       "      <th>1048</th>\n",
       "      <td>premium</td>\n",
       "      <td>133595511</td>\n",
       "      <td>Москва</td>\n",
       "      <td>985</td>\n",
       "    </tr>\n",
       "    <tr>\n",
       "      <th>1049</th>\n",
       "      <td>premium</td>\n",
       "      <td>134870217</td>\n",
       "      <td>Москва</td>\n",
       "      <td>1305</td>\n",
       "    </tr>\n",
       "    <tr>\n",
       "      <th>1050</th>\n",
       "      <td>premium</td>\n",
       "      <td>139986262</td>\n",
       "      <td>Москва</td>\n",
       "      <td>1305</td>\n",
       "    </tr>\n",
       "    <tr>\n",
       "      <th>1051</th>\n",
       "      <td>premium</td>\n",
       "      <td>133461081</td>\n",
       "      <td>Москва</td>\n",
       "      <td>1105</td>\n",
       "    </tr>\n",
       "    <tr>\n",
       "      <th>1052</th>\n",
       "      <td>premium</td>\n",
       "      <td>131627513</td>\n",
       "      <td>Москва</td>\n",
       "      <td>2210</td>\n",
       "    </tr>\n",
       "  </tbody>\n",
       "</table>\n",
       "<p>1053 rows × 4 columns</p>\n",
       "</div>"
      ],
      "text/plain": [
       "      service    user_id  region  revenue\n",
       "0     premium  133570315  Москва     2210\n",
       "1     premium  125526618  Москва     1105\n",
       "2     premium  128205675  Москва     2210\n",
       "3     premium  123640858  Москва     1100\n",
       "4     premium  135304607  Москва     1105\n",
       "...       ...        ...     ...      ...\n",
       "1048  premium  133595511  Москва      985\n",
       "1049  premium  134870217  Москва     1305\n",
       "1050  premium  139986262  Москва     1305\n",
       "1051  premium  133461081  Москва     1105\n",
       "1052  premium  131627513  Москва     2210\n",
       "\n",
       "[1053 rows x 4 columns]"
      ]
     },
     "execution_count": 7,
     "metadata": {},
     "output_type": "execute_result"
    }
   ],
   "source": [
    "df = pd.DataFrame(result, columns=['service', 'user_id', 'region', 'revenue'])\n",
    "\n",
    "df"
   ]
  },
  {
   "cell_type": "code",
   "execution_count": 8,
   "id": "9224414b-d2c5-406f-ba9b-c8e0d3c83679",
   "metadata": {},
   "outputs": [
    {
     "data": {
      "text/plain": [
       "1754.8769230769233"
      ]
     },
     "execution_count": 8,
     "metadata": {},
     "output_type": "execute_result"
    }
   ],
   "source": [
    "df.revenue.mean()*1.08"
   ]
  },
  {
   "cell_type": "markdown",
   "id": "31fae889-4938-45d4-9b13-01d632b6316b",
   "metadata": {},
   "source": [
    "### Task 3."
   ]
  },
  {
   "cell_type": "markdown",
   "id": "5dd570b5-0f5c-4a14-a892-5fbf203ec02d",
   "metadata": {},
   "source": [
    "**Find the value of Cohens d (standardized effect size) for our experiment.**"
   ]
  },
  {
   "cell_type": "code",
   "execution_count": 9,
   "id": "312e286a-6068-4e2e-8b14-bb5225eac57d",
   "metadata": {},
   "outputs": [
    {
     "name": "stdout",
     "output_type": "stream",
     "text": [
      "0.08142227460914778\n"
     ]
    }
   ],
   "source": [
    "coh_d = (df.revenue.mean()*1.08 - df.revenue.mean()) / df.revenue.std()\n",
    "\n",
    "print(coh_d)"
   ]
  },
  {
   "cell_type": "markdown",
   "id": "9998555e-c10e-42e9-9d02-143752f81ae8",
   "metadata": {},
   "source": [
    "### Task 4. "
   ]
  },
  {
   "cell_type": "markdown",
   "id": "4444fbd2-58f7-44ac-b794-8d530bc435c6",
   "metadata": {},
   "source": [
    "**Using the calculated values, find the minimum sample size required to statistically significantly detect the effect (alpha=0.05, power=0.8).**"
   ]
  },
  {
   "cell_type": "code",
   "execution_count": 10,
   "id": "f0d805b0-a44b-483e-a0e0-1f12b64a63b5",
   "metadata": {},
   "outputs": [
    {
     "name": "stdout",
     "output_type": "stream",
     "text": [
      "Required sample size = 2369\n"
     ]
    }
   ],
   "source": [
    "sample_size = tt_ind_solve_power(effect_size = coh_d,\n",
    "                       alpha = 0.05,\n",
    "                       power = 0.8,\n",
    "                       ratio = 1,\n",
    "                       alternative = \"two-sided\",\n",
    "                       nobs1 = None)\n",
    "\n",
    "\n",
    "print('Required sample size =', round(sample_size))"
   ]
  },
  {
   "cell_type": "markdown",
   "id": "dcb16c52-fe9b-48d4-9d38-2afb74cb5248",
   "metadata": {},
   "source": [
    "### Task 5. "
   ]
  },
  {
   "cell_type": "markdown",
   "id": "0f89b582-2814-4515-a460-4f8bb200a7e5",
   "metadata": {},
   "source": [
    "**Find the minimum sample size required to statistically significantly detect the effect of 6% having alpha=0.05 and power=0.9.**"
   ]
  },
  {
   "cell_type": "code",
   "execution_count": 11,
   "id": "189ffec0-97c5-4c4d-84c3-fc7727c99139",
   "metadata": {},
   "outputs": [
    {
     "name": "stdout",
     "output_type": "stream",
     "text": [
      "Required sample size = 5636\n"
     ]
    }
   ],
   "source": [
    "coh_d_new = (df.revenue.mean()*1.06 - df.revenue.mean()) / df.revenue.std()\n",
    "\n",
    "sample_size = tt_ind_solve_power(effect_size = coh_d_new,\n",
    "                       alpha = 0.05,\n",
    "                       power = 0.9,\n",
    "                       ratio = 1,\n",
    "                       alternative = \"two-sided\",\n",
    "                       nobs1 = None)\n",
    "\n",
    "\n",
    "print('Required sample size =', round(sample_size))"
   ]
  },
  {
   "cell_type": "markdown",
   "id": "02cf0cad-ae94-4463-8ea7-82395468ee3a",
   "metadata": {},
   "source": [
    "### Task 6. "
   ]
  },
  {
   "cell_type": "markdown",
   "id": "54ae1c9e-ea55-483d-b045-edef4d7fd3f1",
   "metadata": {},
   "source": [
    "**There is an unbalanced sample of 100,000 users, where the ratio between the groups is 80:20 (the innovation is applied to 20% of users and not to 80%: ratio = n2/n1 = 0.25). The test design assumes a 5% probability of making a Type I error and a 20% allowance for making a Type II error. Determine the effect size that we can detect with the given experiment design..**"
   ]
  },
  {
   "cell_type": "code",
   "execution_count": 12,
   "id": "52a0bdde-714c-4a78-b900-31ae15fc7f23",
   "metadata": {},
   "outputs": [
    {
     "name": "stdout",
     "output_type": "stream",
     "text": [
      "Effect size we can determine with a statistical significance: 0.022\n"
     ]
    }
   ],
   "source": [
    "effect_size = tt_ind_solve_power(\n",
    "    effect_size=None,\n",
    "    nobs1=80000,\n",
    "    ratio=0.25,\n",
    "    alpha=0.05,\n",
    "    power=0.8,\n",
    "    alternative = \"two-sided\"\n",
    ")\n",
    "\n",
    "print(f'Effect size we can determine with a statistical significance: {effect_size:.3f}')"
   ]
  },
  {
   "cell_type": "markdown",
   "id": "2010697b-c967-41f9-97eb-71611a09fad2",
   "metadata": {},
   "source": [
    "### Task 7. "
   ]
  },
  {
   "cell_type": "markdown",
   "id": "8955c9eb-b461-4edf-a8b0-d35a7abefad4",
   "metadata": {},
   "source": [
    "**The maximum size in two samples available to you is 100,000 users. Determine at what ratio between the control and test groups (n2/n1) we can detect the minimum value of the effect size (Cohen's D) at a significance level of alpha = 0.05 and test power = 80% and statistical criterion t-test.**"
   ]
  },
  {
   "cell_type": "code",
   "execution_count": 13,
   "id": "ecbc425b-5736-4332-870b-cc51872ae37d",
   "metadata": {},
   "outputs": [
    {
     "name": "stdout",
     "output_type": "stream",
     "text": [
      "1.0 0.018\n"
     ]
    }
   ],
   "source": [
    "ratios = [0.8, 1.0, 1.2, 2.5, 3.0]\n",
    "population = 100000\n",
    "min_effect = float('inf')\n",
    "best_ratio = False\n",
    "\n",
    "for ratio in ratios:\n",
    "    sample_1 = population / (ratio + 1)\n",
    "    effect_size = tt_ind_solve_power(\n",
    "        effect_size=None,\n",
    "        nobs1=sample_1,\n",
    "        ratio=ratio,\n",
    "        alpha=0.05,\n",
    "        power=0.8,\n",
    "        alternative = \"two-sided\")\n",
    "    if effect_size < min_effect:\n",
    "        min_effect = effect_size\n",
    "        best_ratio = ratio\n",
    "        \n",
    "print(best_ratio, round(min_effect, 3))"
   ]
  }
 ],
 "metadata": {
  "kernelspec": {
   "display_name": "Python 3 (ipykernel)",
   "language": "python",
   "name": "python3"
  },
  "language_info": {
   "codemirror_mode": {
    "name": "ipython",
    "version": 3
   },
   "file_extension": ".py",
   "mimetype": "text/x-python",
   "name": "python",
   "nbconvert_exporter": "python",
   "pygments_lexer": "ipython3",
   "version": "3.8.10"
  }
 },
 "nbformat": 4,
 "nbformat_minor": 5
}
