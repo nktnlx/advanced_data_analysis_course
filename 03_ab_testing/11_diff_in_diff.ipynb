{
 "cells": [
  {
   "cell_type": "markdown",
   "id": "e23e1516-6e75-4e85-bf5b-0011204c6bf9",
   "metadata": {},
   "source": [
    "# Difference-in-Difference (Diff-in-Diff)"
   ]
  },
  {
   "cell_type": "markdown",
   "id": "8ad67dba-80ad-46c5-ade5-7ce6464e9f6c",
   "metadata": {},
   "source": [
    "## Import libraries"
   ]
  },
  {
   "cell_type": "code",
   "execution_count": 1,
   "id": "21bfd5e3-d9e8-4a44-981f-8a6da9866909",
   "metadata": {},
   "outputs": [],
   "source": [
    "#!pip install matplotlib seaborn statsmodels"
   ]
  },
  {
   "cell_type": "code",
   "execution_count": 2,
   "id": "4d138bda-888f-421e-9184-ea5185bc2b5d",
   "metadata": {},
   "outputs": [],
   "source": [
    "import pandas as pd\n",
    "import numpy as np\n",
    "import matplotlib.pyplot as plt\n",
    "import seaborn as sns\n",
    "\n",
    "import statsmodels.api as smp\n",
    "import statsmodels.formula.api as sm\n",
    "\n",
    "import joblib"
   ]
  },
  {
   "cell_type": "code",
   "execution_count": 3,
   "id": "c4490738-d320-4fd6-b131-75b67212e4b6",
   "metadata": {},
   "outputs": [
    {
     "name": "stdout",
     "output_type": "stream",
     "text": [
      "(datetime.date(2022, 2, 1), datetime.date(2022, 1, 31), 'android', 'f7411212fd0e2523e126cbfdd3f226c211212', '4beb10e1-aeeb-4c52-acd2-ce1ddbc1fc24b10e1', 22, 11, 3, 0, 0, 0, 2, 2, 0, 0, 0, 0, 0, 0)\n"
     ]
    }
   ],
   "source": [
    "from clickhouse_driver import Client\n",
    "\n",
    "\n",
    "user_name = 'user_name'\n",
    "pwd = 'password'\n",
    "\n",
    "# creating connection ClickHouse\n",
    "client = Client(host='clickhouse.lab.karpov.courses', port=9000,\n",
    "                user=user_name, password=pwd, database='hardda')\n",
    "\n",
    "# checking connection\n",
    "result = client.execute(\"SELECT * FROM hardda.user_dm_events LIMIT 1\")\n",
    "\n",
    "# showing the result\n",
    "for row in result[0:1]:\n",
    "    print(row)"
   ]
  },
  {
   "cell_type": "markdown",
   "id": "b6e6fc11-f7c5-4ada-a6de-eda65591c0aa",
   "metadata": {},
   "source": [
    "## Tasks"
   ]
  },
  {
   "cell_type": "markdown",
   "id": "7c334d62-e699-49c4-bb27-367395721dfd",
   "metadata": {},
   "source": [
    "### Task 1."
   ]
  },
  {
   "cell_type": "markdown",
   "id": "dcb63d57-d2f7-4948-9b43-92b2ac608650",
   "metadata": {},
   "source": [
    " **Write an SQL query to get `event_date`, `platform`, `cnt_view_advertisement`, `contact`, `cr` from `user_dm_events` between 2022-01-01 and 2022-06-07.**"
   ]
  },
  {
   "cell_type": "code",
   "execution_count": 4,
   "id": "ecfd8e77-0567-4eac-a56f-554f30e520b6",
   "metadata": {},
   "outputs": [],
   "source": [
    "query = '''\n",
    "SELECT\n",
    "  event_date,\n",
    "  platform,\n",
    "  SUM(cnt_view_advertisement) AS cnt_view_advertisement,\n",
    "  SUM(cnt_display_phone + cnt_send_message) AS contact\n",
    "FROM\n",
    "  user_dm_events\n",
    "WHERE\n",
    "  event_date BETWEEN '2022-01-01' and '2022-06-07'\n",
    "GROUP BY\n",
    "  event_date,\n",
    "  platform\n",
    "'''"
   ]
  },
  {
   "cell_type": "code",
   "execution_count": 5,
   "id": "79f55eb9-3a10-4e28-8ad7-fc757a3dfc4c",
   "metadata": {},
   "outputs": [],
   "source": [
    "result = client.execute(query)"
   ]
  },
  {
   "cell_type": "code",
   "execution_count": 6,
   "id": "696ddd1c-e229-4578-9a7c-707005ed4af8",
   "metadata": {},
   "outputs": [
    {
     "data": {
      "text/plain": [
       "254"
      ]
     },
     "execution_count": 6,
     "metadata": {},
     "output_type": "execute_result"
    }
   ],
   "source": [
    "len(result)"
   ]
  },
  {
   "cell_type": "code",
   "execution_count": 7,
   "id": "bd243faf-3421-4046-9ab1-c788dc95035e",
   "metadata": {},
   "outputs": [
    {
     "data": {
      "text/html": [
       "<div>\n",
       "<style scoped>\n",
       "    .dataframe tbody tr th:only-of-type {\n",
       "        vertical-align: middle;\n",
       "    }\n",
       "\n",
       "    .dataframe tbody tr th {\n",
       "        vertical-align: top;\n",
       "    }\n",
       "\n",
       "    .dataframe thead th {\n",
       "        text-align: right;\n",
       "    }\n",
       "</style>\n",
       "<table border=\"1\" class=\"dataframe\">\n",
       "  <thead>\n",
       "    <tr style=\"text-align: right;\">\n",
       "      <th></th>\n",
       "      <th>event_date</th>\n",
       "      <th>platform</th>\n",
       "      <th>cnt_view_advertisement</th>\n",
       "      <th>contact</th>\n",
       "    </tr>\n",
       "  </thead>\n",
       "  <tbody>\n",
       "    <tr>\n",
       "      <th>0</th>\n",
       "      <td>2022-06-02</td>\n",
       "      <td>android</td>\n",
       "      <td>1475717</td>\n",
       "      <td>80184</td>\n",
       "    </tr>\n",
       "    <tr>\n",
       "      <th>1</th>\n",
       "      <td>2022-04-18</td>\n",
       "      <td>ios</td>\n",
       "      <td>633205</td>\n",
       "      <td>47158</td>\n",
       "    </tr>\n",
       "    <tr>\n",
       "      <th>2</th>\n",
       "      <td>2022-02-19</td>\n",
       "      <td>ios</td>\n",
       "      <td>507738</td>\n",
       "      <td>35602</td>\n",
       "    </tr>\n",
       "    <tr>\n",
       "      <th>3</th>\n",
       "      <td>2022-03-30</td>\n",
       "      <td>android</td>\n",
       "      <td>1775406</td>\n",
       "      <td>97654</td>\n",
       "    </tr>\n",
       "    <tr>\n",
       "      <th>4</th>\n",
       "      <td>2022-05-28</td>\n",
       "      <td>android</td>\n",
       "      <td>1415007</td>\n",
       "      <td>73005</td>\n",
       "    </tr>\n",
       "    <tr>\n",
       "      <th>...</th>\n",
       "      <td>...</td>\n",
       "      <td>...</td>\n",
       "      <td>...</td>\n",
       "      <td>...</td>\n",
       "    </tr>\n",
       "    <tr>\n",
       "      <th>249</th>\n",
       "      <td>2022-06-04</td>\n",
       "      <td>android</td>\n",
       "      <td>1370559</td>\n",
       "      <td>74468</td>\n",
       "    </tr>\n",
       "    <tr>\n",
       "      <th>250</th>\n",
       "      <td>2022-03-27</td>\n",
       "      <td>android</td>\n",
       "      <td>1992935</td>\n",
       "      <td>102864</td>\n",
       "    </tr>\n",
       "    <tr>\n",
       "      <th>251</th>\n",
       "      <td>2022-04-23</td>\n",
       "      <td>ios</td>\n",
       "      <td>582899</td>\n",
       "      <td>41781</td>\n",
       "    </tr>\n",
       "    <tr>\n",
       "      <th>252</th>\n",
       "      <td>2022-02-16</td>\n",
       "      <td>ios</td>\n",
       "      <td>538275</td>\n",
       "      <td>40988</td>\n",
       "    </tr>\n",
       "    <tr>\n",
       "      <th>253</th>\n",
       "      <td>2022-05-30</td>\n",
       "      <td>android</td>\n",
       "      <td>1496826</td>\n",
       "      <td>81901</td>\n",
       "    </tr>\n",
       "  </tbody>\n",
       "</table>\n",
       "<p>254 rows × 4 columns</p>\n",
       "</div>"
      ],
      "text/plain": [
       "     event_date platform  cnt_view_advertisement  contact\n",
       "0    2022-06-02  android                 1475717    80184\n",
       "1    2022-04-18      ios                  633205    47158\n",
       "2    2022-02-19      ios                  507738    35602\n",
       "3    2022-03-30  android                 1775406    97654\n",
       "4    2022-05-28  android                 1415007    73005\n",
       "..          ...      ...                     ...      ...\n",
       "249  2022-06-04  android                 1370559    74468\n",
       "250  2022-03-27  android                 1992935   102864\n",
       "251  2022-04-23      ios                  582899    41781\n",
       "252  2022-02-16      ios                  538275    40988\n",
       "253  2022-05-30  android                 1496826    81901\n",
       "\n",
       "[254 rows x 4 columns]"
      ]
     },
     "execution_count": 7,
     "metadata": {},
     "output_type": "execute_result"
    }
   ],
   "source": [
    "df = pd.DataFrame(result, columns=['event_date', 'platform',\n",
    "                                   'cnt_view_advertisement', 'contact'])\n",
    "\n",
    "df"
   ]
  },
  {
   "cell_type": "code",
   "execution_count": 8,
   "id": "e95035ac-c272-43ad-80c9-104287bc87a0",
   "metadata": {},
   "outputs": [
    {
     "name": "stdout",
     "output_type": "stream",
     "text": [
      "<class 'pandas.core.frame.DataFrame'>\n",
      "RangeIndex: 254 entries, 0 to 253\n",
      "Data columns (total 4 columns):\n",
      " #   Column                  Non-Null Count  Dtype \n",
      "---  ------                  --------------  ----- \n",
      " 0   event_date              254 non-null    object\n",
      " 1   platform                254 non-null    object\n",
      " 2   cnt_view_advertisement  254 non-null    int64 \n",
      " 3   contact                 254 non-null    int64 \n",
      "dtypes: int64(2), object(2)\n",
      "memory usage: 8.1+ KB\n"
     ]
    }
   ],
   "source": [
    "df.info()"
   ]
  },
  {
   "cell_type": "code",
   "execution_count": 9,
   "id": "9090da25-50b3-4740-8381-0d2ad9d12c2e",
   "metadata": {},
   "outputs": [],
   "source": [
    "df['event_date'] = pd.to_datetime(df['event_date'], format='%Y-%m-%d')"
   ]
  },
  {
   "cell_type": "code",
   "execution_count": 10,
   "id": "59ef5b9c-b87d-418a-8648-e2dbfed1089c",
   "metadata": {},
   "outputs": [],
   "source": [
    "df['cr'] = df['contact'] / df['cnt_view_advertisement']\n",
    "df = df.sort_values(['event_date', 'platform'])\n",
    "df.reset_index(drop=True, inplace=True)"
   ]
  },
  {
   "cell_type": "code",
   "execution_count": 11,
   "id": "415e0b66-254f-418f-b4ab-85917964ea78",
   "metadata": {},
   "outputs": [
    {
     "data": {
      "text/html": [
       "<div>\n",
       "<style scoped>\n",
       "    .dataframe tbody tr th:only-of-type {\n",
       "        vertical-align: middle;\n",
       "    }\n",
       "\n",
       "    .dataframe tbody tr th {\n",
       "        vertical-align: top;\n",
       "    }\n",
       "\n",
       "    .dataframe thead th {\n",
       "        text-align: right;\n",
       "    }\n",
       "</style>\n",
       "<table border=\"1\" class=\"dataframe\">\n",
       "  <thead>\n",
       "    <tr style=\"text-align: right;\">\n",
       "      <th></th>\n",
       "      <th>event_date</th>\n",
       "      <th>platform</th>\n",
       "      <th>cnt_view_advertisement</th>\n",
       "      <th>contact</th>\n",
       "      <th>cr</th>\n",
       "    </tr>\n",
       "  </thead>\n",
       "  <tbody>\n",
       "    <tr>\n",
       "      <th>0</th>\n",
       "      <td>2022-02-01</td>\n",
       "      <td>android</td>\n",
       "      <td>1946760</td>\n",
       "      <td>99032</td>\n",
       "      <td>0.050870</td>\n",
       "    </tr>\n",
       "    <tr>\n",
       "      <th>1</th>\n",
       "      <td>2022-02-01</td>\n",
       "      <td>ios</td>\n",
       "      <td>560769</td>\n",
       "      <td>39480</td>\n",
       "      <td>0.070403</td>\n",
       "    </tr>\n",
       "    <tr>\n",
       "      <th>2</th>\n",
       "      <td>2022-02-02</td>\n",
       "      <td>android</td>\n",
       "      <td>1936104</td>\n",
       "      <td>98353</td>\n",
       "      <td>0.050799</td>\n",
       "    </tr>\n",
       "    <tr>\n",
       "      <th>3</th>\n",
       "      <td>2022-02-02</td>\n",
       "      <td>ios</td>\n",
       "      <td>558109</td>\n",
       "      <td>40839</td>\n",
       "      <td>0.073174</td>\n",
       "    </tr>\n",
       "    <tr>\n",
       "      <th>4</th>\n",
       "      <td>2022-02-03</td>\n",
       "      <td>android</td>\n",
       "      <td>1890293</td>\n",
       "      <td>98558</td>\n",
       "      <td>0.052139</td>\n",
       "    </tr>\n",
       "    <tr>\n",
       "      <th>...</th>\n",
       "      <td>...</td>\n",
       "      <td>...</td>\n",
       "      <td>...</td>\n",
       "      <td>...</td>\n",
       "      <td>...</td>\n",
       "    </tr>\n",
       "    <tr>\n",
       "      <th>249</th>\n",
       "      <td>2022-06-05</td>\n",
       "      <td>ios</td>\n",
       "      <td>483311</td>\n",
       "      <td>32807</td>\n",
       "      <td>0.067880</td>\n",
       "    </tr>\n",
       "    <tr>\n",
       "      <th>250</th>\n",
       "      <td>2022-06-06</td>\n",
       "      <td>android</td>\n",
       "      <td>1513920</td>\n",
       "      <td>82766</td>\n",
       "      <td>0.054670</td>\n",
       "    </tr>\n",
       "    <tr>\n",
       "      <th>251</th>\n",
       "      <td>2022-06-06</td>\n",
       "      <td>ios</td>\n",
       "      <td>496689</td>\n",
       "      <td>35916</td>\n",
       "      <td>0.072311</td>\n",
       "    </tr>\n",
       "    <tr>\n",
       "      <th>252</th>\n",
       "      <td>2022-06-07</td>\n",
       "      <td>android</td>\n",
       "      <td>1439363</td>\n",
       "      <td>83625</td>\n",
       "      <td>0.058099</td>\n",
       "    </tr>\n",
       "    <tr>\n",
       "      <th>253</th>\n",
       "      <td>2022-06-07</td>\n",
       "      <td>ios</td>\n",
       "      <td>491211</td>\n",
       "      <td>38669</td>\n",
       "      <td>0.078722</td>\n",
       "    </tr>\n",
       "  </tbody>\n",
       "</table>\n",
       "<p>254 rows × 5 columns</p>\n",
       "</div>"
      ],
      "text/plain": [
       "    event_date platform  cnt_view_advertisement  contact        cr\n",
       "0   2022-02-01  android                 1946760    99032  0.050870\n",
       "1   2022-02-01      ios                  560769    39480  0.070403\n",
       "2   2022-02-02  android                 1936104    98353  0.050799\n",
       "3   2022-02-02      ios                  558109    40839  0.073174\n",
       "4   2022-02-03  android                 1890293    98558  0.052139\n",
       "..         ...      ...                     ...      ...       ...\n",
       "249 2022-06-05      ios                  483311    32807  0.067880\n",
       "250 2022-06-06  android                 1513920    82766  0.054670\n",
       "251 2022-06-06      ios                  496689    35916  0.072311\n",
       "252 2022-06-07  android                 1439363    83625  0.058099\n",
       "253 2022-06-07      ios                  491211    38669  0.078722\n",
       "\n",
       "[254 rows x 5 columns]"
      ]
     },
     "execution_count": 11,
     "metadata": {},
     "output_type": "execute_result"
    }
   ],
   "source": [
    "df"
   ]
  },
  {
   "cell_type": "markdown",
   "id": "92137d74-b31f-4aba-a1b5-d9164be17f5b",
   "metadata": {
    "tags": []
   },
   "source": [
    "### Task 2.  "
   ]
  },
  {
   "cell_type": "markdown",
   "id": "830049b9-f37d-4c47-82b3-0e95d7db9ed3",
   "metadata": {},
   "source": [
    "**What an avarage daily contact number for Android?** "
   ]
  },
  {
   "cell_type": "code",
   "execution_count": 12,
   "id": "a789709d-2398-47bf-b1cd-847279d4c051",
   "metadata": {},
   "outputs": [
    {
     "data": {
      "text/plain": [
       "94377.94488188977"
      ]
     },
     "execution_count": 12,
     "metadata": {},
     "output_type": "execute_result"
    }
   ],
   "source": [
    "df[df['platform'] == 'android'].contact.mean()"
   ]
  },
  {
   "cell_type": "markdown",
   "id": "7b1831e5-9629-45ba-8320-429c58a760d9",
   "metadata": {},
   "source": [
    "### Task 3. "
   ]
  },
  {
   "cell_type": "markdown",
   "id": "41913718-3c9d-42cb-b61d-72ebdc7edad3",
   "metadata": {},
   "source": [
    "**Find fixed horizon sample size to detect 0.05 relative effect on our data.** "
   ]
  },
  {
   "cell_type": "code",
   "execution_count": 13,
   "id": "2cf5dd64-6f52-47d3-88e1-5dc0fa7c8250",
   "metadata": {},
   "outputs": [
    {
     "data": {
      "text/plain": [
       "536590.1181102362"
      ]
     },
     "execution_count": 13,
     "metadata": {},
     "output_type": "execute_result"
    }
   ],
   "source": [
    "df[df['platform'] == 'ios'].cnt_view_advertisement.mean()"
   ]
  },
  {
   "cell_type": "markdown",
   "id": "6cf94e10-2a9b-4ab9-929d-858de8ce875b",
   "metadata": {},
   "source": [
    "### Task 4. "
   ]
  },
  {
   "cell_type": "markdown",
   "id": "a92b908a-9905-4287-b083-4b1954baf890",
   "metadata": {},
   "source": [
    "**Build a chart of the metric dynamics by platform and visually look at the dynamics before and after the change introduced on 2022-06-01.**"
   ]
  },
  {
   "cell_type": "code",
   "execution_count": 14,
   "id": "cb449119-9d7c-4c13-a05a-24fb2f6b9b41",
   "metadata": {},
   "outputs": [
    {
     "data": {
      "image/png": "[encoded data removed]",
      "text/plain": [
       "<Figure size 1152x648 with 1 Axes>"
      ]
     },
     "metadata": {
      "needs_background": "light"
     },
     "output_type": "display_data"
    }
   ],
   "source": [
    "plt.figure(figsize=(16, 9))\n",
    "\n",
    "sns.lineplot(df, x='event_date', y='cr', hue='platform')\n",
    "plt.axvline(pd.to_datetime('2022-06-01'), color = 'black', linestyle = '--', label = 'Intervention')\n",
    "plt.legend();"
   ]
  },
  {
   "cell_type": "markdown",
   "id": "0e654218-672d-41a9-807a-29295d77ad9b",
   "metadata": {},
   "source": [
    "### Task 5. "
   ]
  },
  {
   "cell_type": "markdown",
   "id": "8f8d1e13-fe50-4e91-b084-6a9f6df0806b",
   "metadata": {},
   "source": [
    "**Evaluate whether the trends are parallel using the Dickey-Fuller test. Indicate the average difference between the series in the pre period.**"
   ]
  },
  {
   "cell_type": "code",
   "execution_count": 15,
   "id": "fec9a402-5489-45a3-b160-07a32d2dce93",
   "metadata": {},
   "outputs": [],
   "source": [
    "df['intervention'] = np.where(df.event_date >= '2022-06-01', 1, 0)\n",
    "df['treatment'] = np.where(df.platform == 'android', 1, 0)"
   ]
  },
  {
   "cell_type": "code",
   "execution_count": 16,
   "id": "382076e3-4b64-4f17-9f66-bf1306437fa3",
   "metadata": {},
   "outputs": [
    {
     "name": "stdout",
     "output_type": "stream",
     "text": [
      "p-value test D-Fuller = 0.000000\n",
      "Are trends parallel? -> True\n"
     ]
    },
    {
     "data": {
      "image/png": "[encoded data removed]",
      "text/plain": [
       "<Figure size 1152x432 with 2 Axes>"
      ]
     },
     "metadata": {
      "needs_background": "light"
     },
     "output_type": "display_data"
    }
   ],
   "source": [
    "y_pre = np.array(df[(df['intervention'] == 0) & (df['platform'] == 'android')].cr)\n",
    "x0_pre = np.array(df[(df['intervention'] == 0) & (df['platform'] == 'ios')].cr)\n",
    "diff = y_pre - x0_pre\n",
    "DF_pval = smp.tsa.stattools.adfuller(diff)[1]\n",
    "print('p-value test D-Fuller = %f' % DF_pval)\n",
    "print('Are trends parallel? ->', DF_pval < 0.05)\n",
    "fig,axes = plt.subplots(1, 2, figsize=(16,6))\n",
    "sns.kdeplot(ax=axes[0], data = diff)\n",
    "axes[1].plot(diff)\n",
    "axes[1].axhline(y = np.mean(diff),ls = '--');"
   ]
  },
  {
   "cell_type": "code",
   "execution_count": 17,
   "id": "934a478e-1a49-4a61-aff2-8cad3de0753a",
   "metadata": {},
   "outputs": [
    {
     "data": {
      "text/plain": [
       "-0.01861212257583366"
      ]
     },
     "execution_count": 17,
     "metadata": {},
     "output_type": "execute_result"
    }
   ],
   "source": [
    "diff.mean()"
   ]
  },
  {
   "cell_type": "markdown",
   "id": "affc0c80-0c47-4710-bafd-7419662b7109",
   "metadata": {},
   "source": [
    "### Task 6. "
   ]
  },
  {
   "cell_type": "markdown",
   "id": "06487704-edb2-443a-a946-6d91ba6894e2",
   "metadata": {},
   "source": [
    "**Can we reject H0 using Diff-in-Diff approach?**"
   ]
  },
  {
   "cell_type": "code",
   "execution_count": 18,
   "id": "6dbebcc5-6a22-4316-851e-a6a27899c299",
   "metadata": {},
   "outputs": [
    {
     "name": "stdout",
     "output_type": "stream",
     "text": [
      "                            OLS Regression Results                            \n",
      "==============================================================================\n",
      "Dep. Variable:                     cr   R-squared:                       0.916\n",
      "Model:                            OLS   Adj. R-squared:                  0.915\n",
      "Method:                 Least Squares   F-statistic:                     905.7\n",
      "Date:                Sat, 25 Nov 2023   Prob (F-statistic):          6.06e-134\n",
      "Time:                        14:14:05   Log-Likelihood:                 1130.4\n",
      "No. Observations:                 254   AIC:                            -2253.\n",
      "Df Residuals:                     250   BIC:                            -2239.\n",
      "Df Model:                           3                                         \n",
      "Covariance Type:            nonrobust                                         \n",
      "==========================================================================================\n",
      "                             coef    std err          t      P>|t|      [0.025      0.975]\n",
      "------------------------------------------------------------------------------------------\n",
      "Intercept                  0.0730      0.000    280.796      0.000       0.072       0.073\n",
      "treatment                 -0.0186      0.000    -50.640      0.000      -0.019      -0.018\n",
      "intervention               0.0009      0.001      0.776      0.438      -0.001       0.003\n",
      "treatment:intervention    -0.0001      0.002     -0.085      0.932      -0.003       0.003\n",
      "==============================================================================\n",
      "Omnibus:                        3.665   Durbin-Watson:                   0.980\n",
      "Prob(Omnibus):                  0.160   Jarque-Bera (JB):                3.632\n",
      "Skew:                          -0.171   Prob(JB):                        0.163\n",
      "Kurtosis:                       3.475   Cond. No.                         11.5\n",
      "==============================================================================\n",
      "\n",
      "Notes:\n",
      "[1] Standard Errors assume that the covariance matrix of the errors is correctly specified.\n"
     ]
    }
   ],
   "source": [
    "formula = 'cr ~ treatment + intervention + treatment * intervention'\n",
    "model = sm.ols(formula = formula, data = df)\n",
    "res = model.fit()\n",
    "print(res.summary())"
   ]
  },
  {
   "cell_type": "markdown",
   "id": "50c5eb0a-efc5-44b7-9642-ef5648c8c218",
   "metadata": {},
   "source": [
    "`treatment:intervention` p-value = 0.932, we are not able to reject H0. "
   ]
  },
  {
   "cell_type": "markdown",
   "id": "d8f3920e-e5f8-4dc5-b104-226a8f61e022",
   "metadata": {},
   "source": [
    "### Task 7. "
   ]
  },
  {
   "cell_type": "markdown",
   "id": "3be9d1ce-2a03-4d94-8940-f9852cb97b29",
   "metadata": {},
   "source": [
    "**What is absolute Diff-in-Diff value?**"
   ]
  },
  {
   "cell_type": "code",
   "execution_count": 19,
   "id": "34f10150-c394-4341-95b4-9c13d5e167c5",
   "metadata": {},
   "outputs": [
    {
     "name": "stdout",
     "output_type": "stream",
     "text": [
      "Absolute Diff-in-Diff = 0.00013297244115732104\n"
     ]
    },
    {
     "data": {
      "text/html": [
       "<div>\n",
       "<style scoped>\n",
       "    .dataframe tbody tr th:only-of-type {\n",
       "        vertical-align: middle;\n",
       "    }\n",
       "\n",
       "    .dataframe tbody tr th {\n",
       "        vertical-align: top;\n",
       "    }\n",
       "\n",
       "    .dataframe thead th {\n",
       "        text-align: right;\n",
       "    }\n",
       "</style>\n",
       "<table border=\"1\" class=\"dataframe\">\n",
       "  <thead>\n",
       "    <tr style=\"text-align: right;\">\n",
       "      <th>treatment</th>\n",
       "      <th>0</th>\n",
       "      <th>1</th>\n",
       "      <th>diff</th>\n",
       "    </tr>\n",
       "    <tr>\n",
       "      <th>intervention</th>\n",
       "      <th></th>\n",
       "      <th></th>\n",
       "      <th></th>\n",
       "    </tr>\n",
       "  </thead>\n",
       "  <tbody>\n",
       "    <tr>\n",
       "      <th>0</th>\n",
       "      <td>0.072975</td>\n",
       "      <td>0.054363</td>\n",
       "      <td>-0.018612</td>\n",
       "    </tr>\n",
       "    <tr>\n",
       "      <th>1</th>\n",
       "      <td>0.073835</td>\n",
       "      <td>0.055089</td>\n",
       "      <td>-0.018745</td>\n",
       "    </tr>\n",
       "  </tbody>\n",
       "</table>\n",
       "</div>"
      ],
      "text/plain": [
       "treatment            0         1      diff\n",
       "intervention                              \n",
       "0             0.072975  0.054363 -0.018612\n",
       "1             0.073835  0.055089 -0.018745"
      ]
     },
     "execution_count": 19,
     "metadata": {},
     "output_type": "execute_result"
    }
   ],
   "source": [
    "df_s_r = df.pivot_table(values = 'cr', index = 'intervention', columns = 'treatment', aggfunc = 'mean')\n",
    "df_s_r['diff'] = df_s_r.iloc[:, 1] - df_s_r.iloc[:, 0]\n",
    "\n",
    "diff_in_diff_r = df_s_r.iloc[1, -1] - df_s_r.iloc[0, -1]\n",
    "\n",
    "print('Absolute Diff-in-Diff =', np.abs(diff_in_diff_r))\n",
    "df_s_r"
   ]
  },
  {
   "cell_type": "markdown",
   "id": "651932dc-7fc1-42e8-8c18-c2dc9eb48d99",
   "metadata": {},
   "source": [
    "### Task 8. "
   ]
  },
  {
   "cell_type": "markdown",
   "id": "0f5db929-1dae-424d-8f63-8449af22fe69",
   "metadata": {},
   "source": [
    "**Run simulation to find I and II type errors for effect size = [0.9, 0.95, 0.975, 1., 1.025, 1.05, 1.1], where 1 means no effect.**\n",
    "\n",
    "Use the following simulation parameters:\n",
    "\n",
    "* covariate — 'android'\n",
    "* n_days = 7\n",
    "* control_percent = 0.7\n",
    "* n_sim = 100"
   ]
  },
  {
   "cell_type": "code",
   "execution_count": 20,
   "id": "2bb783e8-b9c8-426f-bc84-215baf3cb67b",
   "metadata": {},
   "outputs": [],
   "source": [
    "def causal_analysis(data, control_group, n_days = 14, control_percent = 0.7, sample_n = 50):\n",
    "    '''\n",
    "    data - historical data, on which we will run the test check\n",
    "    control_group - the name of the variable forming the control group\n",
    "    n_days - the number of days in the test period. i.e. how long we expect the post-period to go in days\n",
    "        It should be set so that the size of n_days does not exceed the 1-control_percent share of test data. \n",
    "        Therefore, the percentage of 1-control_percent should be set with some margin\n",
    "    control_percent - the share of historical data that we reserve for the control period. \n",
    "        For example, not less than 70%\n",
    "    sample_n -  the number of simulations. How many times do we run the simulation for each effect being checked \n",
    "        (by default 7 effects in the code: [0.9, 0.95, 0.975, 1., 1.025, 1.05, 1.1])\n",
    "\n",
    "    '''\n",
    "    n_days -= 1\n",
    "\n",
    "    df_copy = data.copy()\n",
    "    effects = [0.9, 0.95, 0.975, 1., 1.025, 1.05, 1.1] # list off effects. 1 = means no effect (A/A test)\n",
    "    rel_effects = []\n",
    "\n",
    "    dates = pd.DataFrame({'post_period_0': data.index}) # Даты\n",
    "\n",
    "    # the first event_date for a control group\n",
    "    initial = dates.values[0][0]\n",
    "    # Test group, we select sample_n random dates from it in the test period,\n",
    "    # i.e. sample_n dates after control_percent days.\n",
    "    # We are kind of randomly choosing days of the start of the innovation in the test zone dates range\n",
    "    test = dates.iloc[int(len(dates)*(control_percent)):-n_days]\\\n",
    "                .sample(sample_n, random_state = 123, replace = True)\\\n",
    "\n",
    "    # Defining PRE and POST data periods based on the test period random date we get\n",
    "    test['post_period_1'] = test.post_period_0 + pd.DateOffset(days = n_days)\n",
    "    test['pre_period_0'] = initial\n",
    "    test['pre_period_1'] = test.post_period_0 - pd.DateOffset(days = 1)\n",
    "\n",
    "    test = test.astype(str)\n",
    "    a = np.empty((sample_n, len(effects) + 2))\n",
    "\n",
    "    def calculate_sse_mape_pval(d):\n",
    "        sse = []\n",
    "        mape = []\n",
    "        p_vals = []\n",
    "        for i in range(len(effects)):\n",
    "            pre_period = [test.pre_period_0.values[d], test.pre_period_1.values[d]]\n",
    "            post_period = [test.post_period_0.values[d], test.post_period_1.values[d]]\n",
    "\n",
    "            # dataset to evaluate effects\n",
    "            df_copy = data.copy() \n",
    "            \n",
    "            # choosing intervention\n",
    "            df_copy['intervention'] = 0\n",
    "            df_copy.loc[post_period[0]:post_period[1], 'intervention'] = 1\n",
    "\n",
    "            df_copy.loc[np.logical_and(\n",
    "                        df_copy.index >= post_period[0], df_copy.index <= post_period[1]), 'y'] *= effects[i] # задаём эффект\n",
    "\n",
    "            df_copy = pd.melt(df_copy.reset_index(), id_vars = ['index', 'intervention'], value_vars = ['y', control_group],\n",
    "                 var_name = 'variable', value_name = 'value')\n",
    "            df_copy['treatment'] = np.where(df_copy.variable == 'y', 1, 0)\n",
    "\n",
    "            formula = 'value ~ treatment + intervention + treatment * intervention'\n",
    "            model = sm.ols(formula = formula, data = df_copy)\n",
    "            res = model.fit()\n",
    "\n",
    "            b0 = res.params['Intercept']\n",
    "            b1 = res.params['treatment']\n",
    "            b2 = res.params['intervention']\n",
    "            b3 = res.params['treatment:intervention']\n",
    "\n",
    "            # calculating Diff-in-Diff\n",
    "            rel_diff_in_diff = ((b0 + b1 + b2 + b3) / (b0 + b1)) / ((b0 + b2) / b0) - 1\n",
    "\n",
    "            real_eff = effects[i] - 1\n",
    "            to_sse = pow(rel_diff_in_diff - real_eff, 2) # diff-in-diff Sum of Squared Erros\n",
    "            to_mape = abs(rel_diff_in_diff - real_eff) * 100 # diff-in-diff Mean Absolute Percentage Error\n",
    "\n",
    "            sse.append(to_sse)\n",
    "            mape.append(to_mape)\n",
    "            rel_effects.append(rel_diff_in_diff)\n",
    "            p_vals.append(res.pvalues['treatment:intervention'])\n",
    "\n",
    "        return (d, sum(sse), np.mean(mape), p_vals[effects.index(1)], p_vals[effects.index(1.025)],\n",
    "               p_vals[effects.index(0.975)], p_vals[effects.index(1.05)], p_vals[effects.index(0.95)],\n",
    "               p_vals[effects.index(1.1)], p_vals[effects.index(0.9)])\n",
    "\n",
    "    results = joblib.Parallel(n_jobs=-1, verbose = len(test))(joblib.delayed(calculate_sse_mape_pval)(d) for d in range(len(test)))\n",
    "\n",
    "    for result in results:\n",
    "        d = result[0]\n",
    "        a[d][0] = result[1]\n",
    "        a[d][1] = result[2]\n",
    "        a[d][2] = result[3]\n",
    "        a[d][3] = result[4]\n",
    "        a[d][4] = result[5]\n",
    "        a[d][5] = result[6]\n",
    "        a[d][6] = result[7]\n",
    "        a[d][7] = result[8]\n",
    "        a[d][8] = result[9]\n",
    "\n",
    "    aa = pd.DataFrame(a, columns = ['sse', 'mape', 'p_val_1', 'p_val_1_025', 'p_val_0_975',\n",
    "                                    'p_val_1_05', 'p_val_0_95', 'p_val_1_1', 'p_val_0_9'])\n",
    "    final = test.reset_index().merge(aa.reset_index(), left_index = True, right_index = True)\n",
    "    final.drop(columns = ['index_x', 'index_y'], inplace = True)\n",
    "    final['control_group'] = control_group\n",
    "    \n",
    "    return final"
   ]
  },
  {
   "cell_type": "code",
   "execution_count": 21,
   "id": "94ae06de-f907-45c5-99bf-6a39443c47a1",
   "metadata": {},
   "outputs": [
    {
     "data": {
      "text/html": [
       "<div>\n",
       "<style scoped>\n",
       "    .dataframe tbody tr th:only-of-type {\n",
       "        vertical-align: middle;\n",
       "    }\n",
       "\n",
       "    .dataframe tbody tr th {\n",
       "        vertical-align: top;\n",
       "    }\n",
       "\n",
       "    .dataframe thead th {\n",
       "        text-align: right;\n",
       "    }\n",
       "</style>\n",
       "<table border=\"1\" class=\"dataframe\">\n",
       "  <thead>\n",
       "    <tr style=\"text-align: right;\">\n",
       "      <th>platform</th>\n",
       "      <th>android</th>\n",
       "      <th>y</th>\n",
       "    </tr>\n",
       "  </thead>\n",
       "  <tbody>\n",
       "    <tr>\n",
       "      <th>2022-02-01</th>\n",
       "      <td>0.050870</td>\n",
       "      <td>0.070403</td>\n",
       "    </tr>\n",
       "    <tr>\n",
       "      <th>2022-02-02</th>\n",
       "      <td>0.050799</td>\n",
       "      <td>0.073174</td>\n",
       "    </tr>\n",
       "    <tr>\n",
       "      <th>2022-02-03</th>\n",
       "      <td>0.052139</td>\n",
       "      <td>0.069300</td>\n",
       "    </tr>\n",
       "    <tr>\n",
       "      <th>2022-02-04</th>\n",
       "      <td>0.052607</td>\n",
       "      <td>0.071356</td>\n",
       "    </tr>\n",
       "    <tr>\n",
       "      <th>2022-02-05</th>\n",
       "      <td>0.051540</td>\n",
       "      <td>0.068276</td>\n",
       "    </tr>\n",
       "    <tr>\n",
       "      <th>...</th>\n",
       "      <td>...</td>\n",
       "      <td>...</td>\n",
       "    </tr>\n",
       "    <tr>\n",
       "      <th>2022-05-27</th>\n",
       "      <td>0.055862</td>\n",
       "      <td>0.073830</td>\n",
       "    </tr>\n",
       "    <tr>\n",
       "      <th>2022-05-28</th>\n",
       "      <td>0.051593</td>\n",
       "      <td>0.068635</td>\n",
       "    </tr>\n",
       "    <tr>\n",
       "      <th>2022-05-29</th>\n",
       "      <td>0.051281</td>\n",
       "      <td>0.068223</td>\n",
       "    </tr>\n",
       "    <tr>\n",
       "      <th>2022-05-30</th>\n",
       "      <td>0.054716</td>\n",
       "      <td>0.071668</td>\n",
       "    </tr>\n",
       "    <tr>\n",
       "      <th>2022-05-31</th>\n",
       "      <td>0.057657</td>\n",
       "      <td>0.076024</td>\n",
       "    </tr>\n",
       "  </tbody>\n",
       "</table>\n",
       "<p>120 rows × 2 columns</p>\n",
       "</div>"
      ],
      "text/plain": [
       "platform     android         y\n",
       "2022-02-01  0.050870  0.070403\n",
       "2022-02-02  0.050799  0.073174\n",
       "2022-02-03  0.052139  0.069300\n",
       "2022-02-04  0.052607  0.071356\n",
       "2022-02-05  0.051540  0.068276\n",
       "...              ...       ...\n",
       "2022-05-27  0.055862  0.073830\n",
       "2022-05-28  0.051593  0.068635\n",
       "2022-05-29  0.051281  0.068223\n",
       "2022-05-30  0.054716  0.071668\n",
       "2022-05-31  0.057657  0.076024\n",
       "\n",
       "[120 rows x 2 columns]"
      ]
     },
     "execution_count": 21,
     "metadata": {},
     "output_type": "execute_result"
    }
   ],
   "source": [
    "ts_data = df.query(\"event_date < '2022-06-01'\")\\\n",
    "              .pivot_table(values = 'cr', index = 'event_date', columns = 'platform')\n",
    "ts_data.rename(columns = {'ios': 'y'}, inplace = True)\n",
    "ts_data.index.name = None\n",
    "ts_data"
   ]
  },
  {
   "cell_type": "code",
   "execution_count": 22,
   "id": "47d9505a-cf15-4045-ae10-8bd7b2eb3560",
   "metadata": {},
   "outputs": [
    {
     "name": "stdout",
     "output_type": "stream",
     "text": [
      "[Parallel(n_jobs=-1)]: Using backend LokyBackend with 2 concurrent workers.\n",
      "[Parallel(n_jobs=-1)]: Done   1 tasks      | elapsed:    1.9s\n",
      "[Parallel(n_jobs=-1)]: Done   2 tasks      | elapsed:    2.0s\n",
      "[Parallel(n_jobs=-1)]: Done   3 tasks      | elapsed:    2.1s\n",
      "[Parallel(n_jobs=-1)]: Done   4 tasks      | elapsed:    2.2s\n",
      "[Parallel(n_jobs=-1)]: Done   5 tasks      | elapsed:    2.3s\n",
      "[Parallel(n_jobs=-1)]: Done   6 tasks      | elapsed:    2.4s\n",
      "[Parallel(n_jobs=-1)]: Done   7 tasks      | elapsed:    2.5s\n",
      "[Parallel(n_jobs=-1)]: Done   8 tasks      | elapsed:    2.6s\n",
      "[Parallel(n_jobs=-1)]: Done   9 tasks      | elapsed:    2.7s\n",
      "[Parallel(n_jobs=-1)]: Done  10 tasks      | elapsed:    2.7s\n",
      "[Parallel(n_jobs=-1)]: Done  11 tasks      | elapsed:    2.8s\n",
      "[Parallel(n_jobs=-1)]: Done  12 tasks      | elapsed:    2.9s\n",
      "[Parallel(n_jobs=-1)]: Done  13 tasks      | elapsed:    3.0s\n",
      "[Parallel(n_jobs=-1)]: Done  14 tasks      | elapsed:    3.1s\n",
      "[Parallel(n_jobs=-1)]: Done  15 tasks      | elapsed:    3.2s\n",
      "[Parallel(n_jobs=-1)]: Done  16 tasks      | elapsed:    3.2s\n",
      "[Parallel(n_jobs=-1)]: Done  17 tasks      | elapsed:    3.4s\n",
      "[Parallel(n_jobs=-1)]: Done  18 tasks      | elapsed:    3.4s\n",
      "[Parallel(n_jobs=-1)]: Done  19 tasks      | elapsed:    3.5s\n",
      "[Parallel(n_jobs=-1)]: Done  20 tasks      | elapsed:    3.6s\n",
      "[Parallel(n_jobs=-1)]: Done  21 tasks      | elapsed:    3.7s\n",
      "[Parallel(n_jobs=-1)]: Done  22 tasks      | elapsed:    3.7s\n",
      "[Parallel(n_jobs=-1)]: Done  23 tasks      | elapsed:    3.9s\n",
      "[Parallel(n_jobs=-1)]: Done  24 tasks      | elapsed:    3.9s\n",
      "[Parallel(n_jobs=-1)]: Done  25 tasks      | elapsed:    4.0s\n",
      "[Parallel(n_jobs=-1)]: Done  26 tasks      | elapsed:    4.1s\n",
      "[Parallel(n_jobs=-1)]: Done  27 tasks      | elapsed:    4.2s\n",
      "[Parallel(n_jobs=-1)]: Done  28 tasks      | elapsed:    4.3s\n",
      "[Parallel(n_jobs=-1)]: Done  29 tasks      | elapsed:    4.4s\n",
      "[Parallel(n_jobs=-1)]: Done  30 tasks      | elapsed:    4.5s\n",
      "[Parallel(n_jobs=-1)]: Done  31 tasks      | elapsed:    4.6s\n",
      "[Parallel(n_jobs=-1)]: Done  32 tasks      | elapsed:    4.6s\n",
      "[Parallel(n_jobs=-1)]: Done  33 tasks      | elapsed:    4.7s\n",
      "[Parallel(n_jobs=-1)]: Done  34 tasks      | elapsed:    4.8s\n",
      "[Parallel(n_jobs=-1)]: Done  35 tasks      | elapsed:    4.9s\n",
      "[Parallel(n_jobs=-1)]: Done  36 tasks      | elapsed:    5.0s\n",
      "[Parallel(n_jobs=-1)]: Done  37 tasks      | elapsed:    5.1s\n",
      "[Parallel(n_jobs=-1)]: Done  38 tasks      | elapsed:    5.2s\n",
      "[Parallel(n_jobs=-1)]: Done  39 tasks      | elapsed:    5.3s\n",
      "[Parallel(n_jobs=-1)]: Done  40 tasks      | elapsed:    5.4s\n",
      "[Parallel(n_jobs=-1)]: Done  41 tasks      | elapsed:    5.5s\n",
      "[Parallel(n_jobs=-1)]: Done  42 tasks      | elapsed:    5.6s\n",
      "[Parallel(n_jobs=-1)]: Done  43 tasks      | elapsed:    5.6s\n",
      "[Parallel(n_jobs=-1)]: Done  44 tasks      | elapsed:    5.8s\n",
      "[Parallel(n_jobs=-1)]: Done  45 tasks      | elapsed:    5.9s\n",
      "[Parallel(n_jobs=-1)]: Done  46 tasks      | elapsed:    6.0s\n",
      "[Parallel(n_jobs=-1)]: Done  47 tasks      | elapsed:    6.1s\n",
      "[Parallel(n_jobs=-1)]: Done  48 tasks      | elapsed:    6.2s\n",
      "[Parallel(n_jobs=-1)]: Done  49 tasks      | elapsed:    6.3s\n",
      "[Parallel(n_jobs=-1)]: Done  50 tasks      | elapsed:    6.4s\n",
      "[Parallel(n_jobs=-1)]: Done  51 tasks      | elapsed:    6.5s\n",
      "[Parallel(n_jobs=-1)]: Done  52 tasks      | elapsed:    6.6s\n",
      "[Parallel(n_jobs=-1)]: Done  53 tasks      | elapsed:    6.7s\n",
      "[Parallel(n_jobs=-1)]: Done  54 tasks      | elapsed:    6.7s\n",
      "[Parallel(n_jobs=-1)]: Done  55 tasks      | elapsed:    6.9s\n",
      "[Parallel(n_jobs=-1)]: Done  56 tasks      | elapsed:    6.9s\n",
      "[Parallel(n_jobs=-1)]: Done  57 tasks      | elapsed:    7.0s\n",
      "[Parallel(n_jobs=-1)]: Done  58 tasks      | elapsed:    7.1s\n",
      "[Parallel(n_jobs=-1)]: Done  59 tasks      | elapsed:    7.2s\n",
      "[Parallel(n_jobs=-1)]: Done  60 tasks      | elapsed:    7.3s\n",
      "[Parallel(n_jobs=-1)]: Done  61 tasks      | elapsed:    7.4s\n",
      "[Parallel(n_jobs=-1)]: Done  62 tasks      | elapsed:    7.5s\n",
      "[Parallel(n_jobs=-1)]: Done  63 tasks      | elapsed:    7.6s\n",
      "[Parallel(n_jobs=-1)]: Done  64 tasks      | elapsed:    7.7s\n",
      "[Parallel(n_jobs=-1)]: Done  65 tasks      | elapsed:    7.8s\n",
      "[Parallel(n_jobs=-1)]: Done  66 tasks      | elapsed:    7.8s\n",
      "[Parallel(n_jobs=-1)]: Done  67 tasks      | elapsed:    7.9s\n",
      "[Parallel(n_jobs=-1)]: Done  68 tasks      | elapsed:    8.0s\n",
      "[Parallel(n_jobs=-1)]: Done  69 tasks      | elapsed:    8.1s\n",
      "[Parallel(n_jobs=-1)]: Done  70 tasks      | elapsed:    8.2s\n",
      "[Parallel(n_jobs=-1)]: Done  71 tasks      | elapsed:    8.3s\n",
      "[Parallel(n_jobs=-1)]: Done  72 tasks      | elapsed:    8.4s\n",
      "[Parallel(n_jobs=-1)]: Done  73 tasks      | elapsed:    8.5s\n",
      "[Parallel(n_jobs=-1)]: Done  74 tasks      | elapsed:    8.5s\n",
      "[Parallel(n_jobs=-1)]: Done  75 tasks      | elapsed:    8.7s\n",
      "[Parallel(n_jobs=-1)]: Done  76 tasks      | elapsed:    8.7s\n",
      "[Parallel(n_jobs=-1)]: Done  77 tasks      | elapsed:    8.8s\n",
      "[Parallel(n_jobs=-1)]: Done  78 tasks      | elapsed:    8.8s\n",
      "[Parallel(n_jobs=-1)]: Done  79 tasks      | elapsed:    9.0s\n",
      "[Parallel(n_jobs=-1)]: Done  80 tasks      | elapsed:    9.0s\n",
      "[Parallel(n_jobs=-1)]: Done  81 tasks      | elapsed:    9.2s\n",
      "[Parallel(n_jobs=-1)]: Done  82 tasks      | elapsed:    9.2s\n",
      "[Parallel(n_jobs=-1)]: Done  83 tasks      | elapsed:    9.4s\n",
      "[Parallel(n_jobs=-1)]: Done  84 tasks      | elapsed:    9.4s\n",
      "[Parallel(n_jobs=-1)]: Done  85 tasks      | elapsed:    9.5s\n",
      "[Parallel(n_jobs=-1)]: Done  86 tasks      | elapsed:    9.6s\n",
      "[Parallel(n_jobs=-1)]: Done  87 tasks      | elapsed:    9.7s\n",
      "[Parallel(n_jobs=-1)]: Done  88 tasks      | elapsed:    9.7s\n",
      "[Parallel(n_jobs=-1)]: Done  89 tasks      | elapsed:    9.9s\n",
      "[Parallel(n_jobs=-1)]: Done  90 tasks      | elapsed:    9.9s\n",
      "[Parallel(n_jobs=-1)]: Done  91 tasks      | elapsed:   10.0s\n",
      "[Parallel(n_jobs=-1)]: Done  92 tasks      | elapsed:   10.1s\n",
      "[Parallel(n_jobs=-1)]: Done  93 tasks      | elapsed:   10.2s\n",
      "[Parallel(n_jobs=-1)]: Done  94 tasks      | elapsed:   10.2s\n",
      "[Parallel(n_jobs=-1)]: Done  95 tasks      | elapsed:   10.4s\n",
      "[Parallel(n_jobs=-1)]: Done  96 tasks      | elapsed:   10.4s\n",
      "[Parallel(n_jobs=-1)]: Done  97 tasks      | elapsed:   10.6s\n",
      "[Parallel(n_jobs=-1)]: Done 100 out of 100 | elapsed:   10.8s finished\n",
      "CPU times: user 830 ms, sys: 123 ms, total: 952 ms\n",
      "Wall time: 10.8 s\n"
     ]
    },
    {
     "data": {
      "text/html": [
       "<div>\n",
       "<style scoped>\n",
       "    .dataframe tbody tr th:only-of-type {\n",
       "        vertical-align: middle;\n",
       "    }\n",
       "\n",
       "    .dataframe tbody tr th {\n",
       "        vertical-align: top;\n",
       "    }\n",
       "\n",
       "    .dataframe thead th {\n",
       "        text-align: right;\n",
       "    }\n",
       "</style>\n",
       "<table border=\"1\" class=\"dataframe\">\n",
       "  <thead>\n",
       "    <tr style=\"text-align: right;\">\n",
       "      <th></th>\n",
       "      <th>post_period_0</th>\n",
       "      <th>post_period_1</th>\n",
       "      <th>pre_period_0</th>\n",
       "      <th>pre_period_1</th>\n",
       "      <th>sse</th>\n",
       "      <th>mape</th>\n",
       "      <th>p_val_1</th>\n",
       "      <th>p_val_1_025</th>\n",
       "      <th>p_val_0_975</th>\n",
       "      <th>p_val_1_05</th>\n",
       "      <th>p_val_0_95</th>\n",
       "      <th>p_val_1_1</th>\n",
       "      <th>p_val_0_9</th>\n",
       "      <th>control_group</th>\n",
       "    </tr>\n",
       "  </thead>\n",
       "  <tbody>\n",
       "    <tr>\n",
       "      <th>11</th>\n",
       "      <td>2022-04-27</td>\n",
       "      <td>2022-05-03</td>\n",
       "      <td>2022-02-01</td>\n",
       "      <td>2022-04-26</td>\n",
       "      <td>3.394787e-07</td>\n",
       "      <td>0.021981</td>\n",
       "      <td>0.992051</td>\n",
       "      <td>0.246302</td>\n",
       "      <td>0.253377</td>\n",
       "      <td>0.021650</td>\n",
       "      <td>0.022177</td>\n",
       "      <td>6.825756e-06</td>\n",
       "      <td>0.000006</td>\n",
       "      <td>android</td>\n",
       "    </tr>\n",
       "    <tr>\n",
       "      <th>64</th>\n",
       "      <td>2022-05-09</td>\n",
       "      <td>2022-05-15</td>\n",
       "      <td>2022-02-01</td>\n",
       "      <td>2022-05-08</td>\n",
       "      <td>8.346883e-04</td>\n",
       "      <td>1.089934</td>\n",
       "      <td>0.662468</td>\n",
       "      <td>0.112052</td>\n",
       "      <td>0.470014</td>\n",
       "      <td>0.006419</td>\n",
       "      <td>0.060393</td>\n",
       "      <td>8.779439e-07</td>\n",
       "      <td>0.000035</td>\n",
       "      <td>android</td>\n",
       "    </tr>\n",
       "    <tr>\n",
       "      <th>81</th>\n",
       "      <td>2022-05-03</td>\n",
       "      <td>2022-05-09</td>\n",
       "      <td>2022-02-01</td>\n",
       "      <td>2022-05-02</td>\n",
       "      <td>1.861969e-03</td>\n",
       "      <td>1.627888</td>\n",
       "      <td>0.370301</td>\n",
       "      <td>0.037903</td>\n",
       "      <td>0.767994</td>\n",
       "      <td>0.001217</td>\n",
       "      <td>0.137257</td>\n",
       "      <td>4.865600e-08</td>\n",
       "      <td>0.000130</td>\n",
       "      <td>android</td>\n",
       "    </tr>\n",
       "    <tr>\n",
       "      <th>16</th>\n",
       "      <td>2022-04-26</td>\n",
       "      <td>2022-05-02</td>\n",
       "      <td>2022-02-01</td>\n",
       "      <td>2022-04-25</td>\n",
       "      <td>1.681583e-04</td>\n",
       "      <td>0.489212</td>\n",
       "      <td>0.863796</td>\n",
       "      <td>0.327875</td>\n",
       "      <td>0.185955</td>\n",
       "      <td>0.034214</td>\n",
       "      <td>0.013694</td>\n",
       "      <td>1.502602e-05</td>\n",
       "      <td>0.000003</td>\n",
       "      <td>android</td>\n",
       "    </tr>\n",
       "    <tr>\n",
       "      <th>51</th>\n",
       "      <td>2022-04-28</td>\n",
       "      <td>2022-05-04</td>\n",
       "      <td>2022-02-01</td>\n",
       "      <td>2022-04-27</td>\n",
       "      <td>1.512149e-05</td>\n",
       "      <td>0.146702</td>\n",
       "      <td>0.979150</td>\n",
       "      <td>0.260363</td>\n",
       "      <td>0.237847</td>\n",
       "      <td>0.023516</td>\n",
       "      <td>0.019943</td>\n",
       "      <td>7.741925e-06</td>\n",
       "      <td>0.000005</td>\n",
       "      <td>android</td>\n",
       "    </tr>\n",
       "  </tbody>\n",
       "</table>\n",
       "</div>"
      ],
      "text/plain": [
       "   post_period_0 post_period_1 pre_period_0 pre_period_1           sse  \\\n",
       "11    2022-04-27    2022-05-03   2022-02-01   2022-04-26  3.394787e-07   \n",
       "64    2022-05-09    2022-05-15   2022-02-01   2022-05-08  8.346883e-04   \n",
       "81    2022-05-03    2022-05-09   2022-02-01   2022-05-02  1.861969e-03   \n",
       "16    2022-04-26    2022-05-02   2022-02-01   2022-04-25  1.681583e-04   \n",
       "51    2022-04-28    2022-05-04   2022-02-01   2022-04-27  1.512149e-05   \n",
       "\n",
       "        mape   p_val_1  p_val_1_025  p_val_0_975  p_val_1_05  p_val_0_95  \\\n",
       "11  0.021981  0.992051     0.246302     0.253377    0.021650    0.022177   \n",
       "64  1.089934  0.662468     0.112052     0.470014    0.006419    0.060393   \n",
       "81  1.627888  0.370301     0.037903     0.767994    0.001217    0.137257   \n",
       "16  0.489212  0.863796     0.327875     0.185955    0.034214    0.013694   \n",
       "51  0.146702  0.979150     0.260363     0.237847    0.023516    0.019943   \n",
       "\n",
       "       p_val_1_1  p_val_0_9 control_group  \n",
       "11  6.825756e-06   0.000006       android  \n",
       "64  8.779439e-07   0.000035       android  \n",
       "81  4.865600e-08   0.000130       android  \n",
       "16  1.502602e-05   0.000003       android  \n",
       "51  7.741925e-06   0.000005       android  "
      ]
     },
     "execution_count": 22,
     "metadata": {},
     "output_type": "execute_result"
    }
   ],
   "source": [
    "%%time\n",
    "covariate_name = 'android'\n",
    "days = 7\n",
    "control_percent = 0.7\n",
    "n_sim = 100\n",
    "\n",
    "\n",
    "res = pd.DataFrame()\n",
    "caus = causal_analysis(ts_data, covariate_name, days, control_percent, n_sim)\n",
    "res = pd.concat([res, caus], axis = 0)\n",
    "res.sample(5)"
   ]
  },
  {
   "cell_type": "code",
   "execution_count": 23,
   "id": "9f84d7d1-d87f-466a-8e4d-282d257cdf79",
   "metadata": {},
   "outputs": [],
   "source": [
    "# function to aggregate simulations result\n",
    "def to_res(data, to_group, n, alpha = 0.05): \n",
    "    def p_val_count_alpha(p_val):\n",
    "        return np.count_nonzero(p_val < alpha) # I-type error count\n",
    "\n",
    "    def p_val_count_beta(p_val):\n",
    "        return np.count_nonzero(p_val >= alpha) # II-type error count\n",
    "\n",
    "    p_val_cols = data.filter(like = 'p_val').columns\n",
    "\n",
    "    data['pre_period_diff'] = (pd.to_datetime(data.pre_period_1) - pd.to_datetime(data.pre_period_0))\n",
    "    res = data.groupby([to_group]).agg({'sse': 'sum', # Sum of Squared Errors\n",
    "                                     'mape': 'mean', # Mean Absolute Percentage Error\n",
    "                                     p_val_cols[0]: p_val_count_alpha, # I-type error\n",
    "                                     p_val_cols[1]: p_val_count_beta, # from here and below: II-type errro for each effect size\n",
    "                                     p_val_cols[2]: p_val_count_beta,\n",
    "                                     p_val_cols[3]: p_val_count_beta,\n",
    "                                     p_val_cols[4]: p_val_count_beta,\n",
    "                                     p_val_cols[5]: p_val_count_beta,\n",
    "                                     p_val_cols[6]: p_val_count_beta,\n",
    "                                     'pre_period_diff': 'mean'})\n",
    "\n",
    "    res[p_val_cols[0]] = res[p_val_cols[0]] / n # dividing by the number of simulations n\n",
    "    res[p_val_cols[1]] = res[p_val_cols[1]] / n\n",
    "    res[p_val_cols[2]] = res[p_val_cols[2]] / n\n",
    "    res[p_val_cols[3]] = res[p_val_cols[3]] / n\n",
    "    res[p_val_cols[4]] = res[p_val_cols[4]] / n\n",
    "    res[p_val_cols[5]] = res[p_val_cols[5]] / n\n",
    "    res[p_val_cols[6]] = res[p_val_cols[6]] / n\n",
    "\n",
    "    return res"
   ]
  },
  {
   "cell_type": "code",
   "execution_count": 24,
   "id": "fe896cf0-7b21-4945-b96b-8c6f75cdd22f",
   "metadata": {},
   "outputs": [
    {
     "data": {
      "text/html": [
       "<div>\n",
       "<style scoped>\n",
       "    .dataframe tbody tr th:only-of-type {\n",
       "        vertical-align: middle;\n",
       "    }\n",
       "\n",
       "    .dataframe tbody tr th {\n",
       "        vertical-align: top;\n",
       "    }\n",
       "\n",
       "    .dataframe thead th {\n",
       "        text-align: right;\n",
       "    }\n",
       "</style>\n",
       "<table border=\"1\" class=\"dataframe\">\n",
       "  <thead>\n",
       "    <tr style=\"text-align: right;\">\n",
       "      <th></th>\n",
       "      <th>sse</th>\n",
       "      <th>mape</th>\n",
       "      <th>p_val_1</th>\n",
       "      <th>p_val_1_025</th>\n",
       "      <th>p_val_0_975</th>\n",
       "      <th>p_val_1_05</th>\n",
       "      <th>p_val_0_95</th>\n",
       "      <th>p_val_1_1</th>\n",
       "      <th>p_val_0_9</th>\n",
       "      <th>pre_period_diff</th>\n",
       "    </tr>\n",
       "    <tr>\n",
       "      <th>control_group</th>\n",
       "      <th></th>\n",
       "      <th></th>\n",
       "      <th></th>\n",
       "      <th></th>\n",
       "      <th></th>\n",
       "      <th></th>\n",
       "      <th></th>\n",
       "      <th></th>\n",
       "      <th></th>\n",
       "      <th></th>\n",
       "    </tr>\n",
       "  </thead>\n",
       "  <tbody>\n",
       "    <tr>\n",
       "      <th>android</th>\n",
       "      <td>0.194715</td>\n",
       "      <td>1.443382</td>\n",
       "      <td>0.0</td>\n",
       "      <td>0.55</td>\n",
       "      <td>1.0</td>\n",
       "      <td>0.03</td>\n",
       "      <td>0.72</td>\n",
       "      <td>0.0</td>\n",
       "      <td>0.0</td>\n",
       "      <td>96 days 16:19:12</td>\n",
       "    </tr>\n",
       "  </tbody>\n",
       "</table>\n",
       "</div>"
      ],
      "text/plain": [
       "                    sse      mape  p_val_1  p_val_1_025  p_val_0_975  \\\n",
       "control_group                                                          \n",
       "android        0.194715  1.443382      0.0         0.55          1.0   \n",
       "\n",
       "               p_val_1_05  p_val_0_95  p_val_1_1  p_val_0_9  pre_period_diff  \n",
       "control_group                                                                 \n",
       "android              0.03        0.72        0.0        0.0 96 days 16:19:12  "
      ]
     },
     "execution_count": 24,
     "metadata": {},
     "output_type": "execute_result"
    }
   ],
   "source": [
    "res_conc = to_res(res, 'control_group', n_sim)\n",
    "res_conc"
   ]
  },
  {
   "cell_type": "code",
   "execution_count": 25,
   "id": "bb161b32-28b5-4840-8798-ff2e870bb2ef",
   "metadata": {},
   "outputs": [
    {
     "data": {
      "text/plain": [
       "control_group\n",
       "android    0.72\n",
       "Name: p_val_0_95, dtype: float64"
      ]
     },
     "execution_count": 25,
     "metadata": {},
     "output_type": "execute_result"
    }
   ],
   "source": [
    "res_conc.p_val_0_95"
   ]
  }
 ],
 "metadata": {
  "kernelspec": {
   "display_name": "Python 3 (ipykernel)",
   "language": "python",
   "name": "python3"
  },
  "language_info": {
   "codemirror_mode": {
    "name": "ipython",
    "version": 3
   },
   "file_extension": ".py",
   "mimetype": "text/x-python",
   "name": "python",
   "nbconvert_exporter": "python",
   "pygments_lexer": "ipython3",
   "version": "3.8.10"
  }
 },
 "nbformat": 4,
 "nbformat_minor": 5
}
