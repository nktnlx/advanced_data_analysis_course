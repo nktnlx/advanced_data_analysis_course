{
 "cells": [
  {
   "cell_type": "markdown",
   "id": "e23e1516-6e75-4e85-bf5b-0011204c6bf9",
   "metadata": {},
   "source": [
    "# Statistical Tests"
   ]
  },
  {
   "cell_type": "markdown",
   "id": "8ad67dba-80ad-46c5-ade5-7ce6464e9f6c",
   "metadata": {},
   "source": [
    "## Import libraries"
   ]
  },
  {
   "cell_type": "code",
   "execution_count": 1,
   "id": "b5e9bc0a-29b8-4103-9d58-de77a9313d09",
   "metadata": {},
   "outputs": [],
   "source": [
    "#!pip install statsmodels"
   ]
  },
  {
   "cell_type": "code",
   "execution_count": 2,
   "id": "02ca5c3e-1244-449d-a780-f62918e1699d",
   "metadata": {},
   "outputs": [],
   "source": [
    "#!pip install matplotlib"
   ]
  },
  {
   "cell_type": "code",
   "execution_count": 3,
   "id": "4d138bda-888f-421e-9184-ea5185bc2b5d",
   "metadata": {},
   "outputs": [],
   "source": [
    "import pandas as pd\n",
    "import numpy as np\n",
    "import matplotlib.pyplot as plt\n",
    "from statsmodels.stats.power import tt_ind_solve_power\n",
    "from scipy.stats import mannwhitneyu\n",
    "from scipy.stats import ttest_ind\n",
    "from scipy.stats import median_test\n",
    "\n",
    "import tqdm"
   ]
  },
  {
   "cell_type": "markdown",
   "id": "19cd9f2c-bd3c-4ea7-ab76-af423aa74794",
   "metadata": {},
   "source": [
    "## Importing data"
   ]
  },
  {
   "cell_type": "code",
   "execution_count": 4,
   "id": "a3517ee9-cf67-41d5-b26e-830fcbf6d398",
   "metadata": {},
   "outputs": [],
   "source": [
    "df = pd.read_csv('bootstrap_homework.csv')"
   ]
  },
  {
   "cell_type": "code",
   "execution_count": 5,
   "id": "923a4f68-bc4a-45ab-9607-eb6c9184fd02",
   "metadata": {},
   "outputs": [
    {
     "data": {
      "text/html": [
       "<div>\n",
       "<style scoped>\n",
       "    .dataframe tbody tr th:only-of-type {\n",
       "        vertical-align: middle;\n",
       "    }\n",
       "\n",
       "    .dataframe tbody tr th {\n",
       "        vertical-align: top;\n",
       "    }\n",
       "\n",
       "    .dataframe thead th {\n",
       "        text-align: right;\n",
       "    }\n",
       "</style>\n",
       "<table border=\"1\" class=\"dataframe\">\n",
       "  <thead>\n",
       "    <tr style=\"text-align: right;\">\n",
       "      <th></th>\n",
       "      <th>passport_id</th>\n",
       "      <th>region</th>\n",
       "      <th>revenue</th>\n",
       "      <th>group</th>\n",
       "    </tr>\n",
       "  </thead>\n",
       "  <tbody>\n",
       "    <tr>\n",
       "      <th>7085</th>\n",
       "      <td>132154477</td>\n",
       "      <td>Новосибирск</td>\n",
       "      <td>157</td>\n",
       "      <td>1</td>\n",
       "    </tr>\n",
       "    <tr>\n",
       "      <th>17728</th>\n",
       "      <td>123724400</td>\n",
       "      <td>Новосибирск</td>\n",
       "      <td>315</td>\n",
       "      <td>1</td>\n",
       "    </tr>\n",
       "    <tr>\n",
       "      <th>7722</th>\n",
       "      <td>141884827</td>\n",
       "      <td>Новосибирск</td>\n",
       "      <td>700</td>\n",
       "      <td>0</td>\n",
       "    </tr>\n",
       "    <tr>\n",
       "      <th>11288</th>\n",
       "      <td>142759334</td>\n",
       "      <td>Новосибирск</td>\n",
       "      <td>205</td>\n",
       "      <td>0</td>\n",
       "    </tr>\n",
       "    <tr>\n",
       "      <th>15147</th>\n",
       "      <td>132867339</td>\n",
       "      <td>Новосибирск</td>\n",
       "      <td>300</td>\n",
       "      <td>0</td>\n",
       "    </tr>\n",
       "  </tbody>\n",
       "</table>\n",
       "</div>"
      ],
      "text/plain": [
       "       passport_id       region  revenue  group\n",
       "7085     132154477  Новосибирск      157      1\n",
       "17728    123724400  Новосибирск      315      1\n",
       "7722     141884827  Новосибирск      700      0\n",
       "11288    142759334  Новосибирск      205      0\n",
       "15147    132867339  Новосибирск      300      0"
      ]
     },
     "execution_count": 5,
     "metadata": {},
     "output_type": "execute_result"
    }
   ],
   "source": [
    "df.sample(5)"
   ]
  },
  {
   "cell_type": "code",
   "execution_count": 6,
   "id": "0b2aa626-c341-4cd0-ae36-b729fd61e4ba",
   "metadata": {},
   "outputs": [
    {
     "name": "stdout",
     "output_type": "stream",
     "text": [
      "<class 'pandas.core.frame.DataFrame'>\n",
      "RangeIndex: 32115 entries, 0 to 32114\n",
      "Data columns (total 4 columns):\n",
      " #   Column       Non-Null Count  Dtype \n",
      "---  ------       --------------  ----- \n",
      " 0   passport_id  32115 non-null  int64 \n",
      " 1   region       32115 non-null  object\n",
      " 2   revenue      32115 non-null  int64 \n",
      " 3   group        32115 non-null  int64 \n",
      "dtypes: int64(3), object(1)\n",
      "memory usage: 1003.7+ KB\n"
     ]
    }
   ],
   "source": [
    "df.info()"
   ]
  },
  {
   "cell_type": "code",
   "execution_count": 7,
   "id": "427cdfdd-1cb4-4547-862f-1e198469a4d8",
   "metadata": {},
   "outputs": [
    {
     "data": {
      "text/plain": [
       "passport_id    0\n",
       "region         0\n",
       "revenue        0\n",
       "group          0\n",
       "dtype: int64"
      ]
     },
     "execution_count": 7,
     "metadata": {},
     "output_type": "execute_result"
    }
   ],
   "source": [
    "df.isna().sum()"
   ]
  },
  {
   "cell_type": "code",
   "execution_count": 8,
   "id": "4edddc76-4282-4b73-9c1b-99e4965fd997",
   "metadata": {},
   "outputs": [
    {
     "data": {
      "text/plain": [
       "32115"
      ]
     },
     "execution_count": 8,
     "metadata": {},
     "output_type": "execute_result"
    }
   ],
   "source": [
    "df.passport_id.nunique()"
   ]
  },
  {
   "cell_type": "code",
   "execution_count": 9,
   "id": "e0c405fe-df89-43a9-8f30-3ffddbb41dff",
   "metadata": {},
   "outputs": [
    {
     "data": {
      "text/plain": [
       "1    16121\n",
       "0    15994\n",
       "Name: group, dtype: int64"
      ]
     },
     "execution_count": 9,
     "metadata": {},
     "output_type": "execute_result"
    }
   ],
   "source": [
    "df.group.value_counts()"
   ]
  },
  {
   "cell_type": "code",
   "execution_count": 10,
   "id": "ac005148-8d5e-4092-853b-e65ff917017a",
   "metadata": {},
   "outputs": [
    {
     "data": {
      "text/plain": [
       "1    0.501977\n",
       "0    0.498023\n",
       "Name: group, dtype: float64"
      ]
     },
     "execution_count": 10,
     "metadata": {},
     "output_type": "execute_result"
    }
   ],
   "source": [
    "df.group.value_counts(normalize=True)"
   ]
  },
  {
   "cell_type": "code",
   "execution_count": 11,
   "id": "a96c96fb-7cc9-41e4-971f-75c09bca05da",
   "metadata": {},
   "outputs": [
    {
     "data": {
      "text/plain": [
       "count     32115.000000\n",
       "mean       1561.262463\n",
       "std        7687.990519\n",
       "min         135.000000\n",
       "25%         297.000000\n",
       "50%         480.000000\n",
       "75%        1332.000000\n",
       "max      751925.000000\n",
       "Name: revenue, dtype: float64"
      ]
     },
     "execution_count": 11,
     "metadata": {},
     "output_type": "execute_result"
    }
   ],
   "source": [
    "df.revenue.describe()"
   ]
  },
  {
   "cell_type": "markdown",
   "id": "b6e6fc11-f7c5-4ada-a6de-eda65591c0aa",
   "metadata": {},
   "source": [
    "## Tasks"
   ]
  },
  {
   "cell_type": "markdown",
   "id": "7c334d62-e699-49c4-bb27-367395721dfd",
   "metadata": {},
   "source": [
    "### Task 1."
   ]
  },
  {
   "cell_type": "markdown",
   "id": "dcb63d57-d2f7-4948-9b43-92b2ac608650",
   "metadata": {},
   "source": [
    " **Find the mean value of revenue for group 0.**"
   ]
  },
  {
   "cell_type": "code",
   "execution_count": 12,
   "id": "e24a9e22-fc6b-45fc-8fa2-ff4a81528155",
   "metadata": {},
   "outputs": [
    {
     "data": {
      "text/plain": [
       "1534.5570839064649"
      ]
     },
     "execution_count": 12,
     "metadata": {},
     "output_type": "execute_result"
    }
   ],
   "source": [
    "df[df['group'] == 0].revenue.mean()"
   ]
  },
  {
   "cell_type": "markdown",
   "id": "92137d74-b31f-4aba-a1b5-d9164be17f5b",
   "metadata": {},
   "source": [
    "### Task 2.  "
   ]
  },
  {
   "cell_type": "markdown",
   "id": "830049b9-f37d-4c47-82b3-0e95d7db9ed3",
   "metadata": {},
   "source": [
    "**Find the mean value of revenue for group 1.**"
   ]
  },
  {
   "cell_type": "code",
   "execution_count": 13,
   "id": "aba5cf70-ee8a-484e-8e52-92a04168b698",
   "metadata": {},
   "outputs": [
    {
     "data": {
      "text/plain": [
       "1587.7574592146889"
      ]
     },
     "execution_count": 13,
     "metadata": {},
     "output_type": "execute_result"
    }
   ],
   "source": [
    "df[df['group'] == 1].revenue.mean()"
   ]
  },
  {
   "cell_type": "markdown",
   "id": "31fae889-4938-45d4-9b13-01d632b6316b",
   "metadata": {},
   "source": [
    "### Task 3."
   ]
  },
  {
   "cell_type": "markdown",
   "id": "5dd570b5-0f5c-4a14-a892-5fbf203ec02d",
   "metadata": {},
   "source": [
    "**Calculate an absolute effect size.**"
   ]
  },
  {
   "cell_type": "code",
   "execution_count": 14,
   "id": "8107b0a6-d360-4762-8247-6f62172d2e2a",
   "metadata": {},
   "outputs": [
    {
     "data": {
      "text/plain": [
       "53.20037530822401"
      ]
     },
     "execution_count": 14,
     "metadata": {},
     "output_type": "execute_result"
    }
   ],
   "source": [
    "df[df['group'] == 1].revenue.mean() - df[df['group'] == 0].revenue.mean()"
   ]
  },
  {
   "cell_type": "markdown",
   "id": "9998555e-c10e-42e9-9d02-143752f81ae8",
   "metadata": {},
   "source": [
    "### Task 4. "
   ]
  },
  {
   "cell_type": "markdown",
   "id": "4444fbd2-58f7-44ac-b794-8d530bc435c6",
   "metadata": {},
   "source": [
    "**What is the standardized effect size (Cohen D).**"
   ]
  },
  {
   "cell_type": "code",
   "execution_count": 15,
   "id": "84eec764-4d31-497b-bc08-e57ef78fde32",
   "metadata": {},
   "outputs": [
    {
     "data": {
      "text/plain": [
       "0.0069199324810495"
      ]
     },
     "execution_count": 15,
     "metadata": {},
     "output_type": "execute_result"
    }
   ],
   "source": [
    "uplift = df[df['group'] == 1].revenue.mean() - df[df['group'] == 0].revenue.mean()\n",
    "sigma = df.revenue.std()\n",
    "\n",
    "d = uplift / sigma\n",
    "\n",
    "d"
   ]
  },
  {
   "cell_type": "markdown",
   "id": "dcb16c52-fe9b-48d4-9d38-2afb74cb5248",
   "metadata": {},
   "source": [
    "### Task 5. "
   ]
  },
  {
   "cell_type": "markdown",
   "id": "0f89b582-2814-4515-a460-4f8bb200a7e5",
   "metadata": {},
   "source": [
    "**Calculate the sample size required to detect a 5% relative change in a two-tailed t-test with alpha = 0.05, power = 0.8. Use the data for group = 0 as the basis for calculating the necessary parameters (mean, lift, std).**"
   ]
  },
  {
   "cell_type": "code",
   "execution_count": 16,
   "id": "c8604c18-2c90-4655-acbb-c72bb500cc62",
   "metadata": {},
   "outputs": [
    {
     "name": "stdout",
     "output_type": "stream",
     "text": [
      "Required sample size to detect desired relative uplift: 162948\n"
     ]
    }
   ],
   "source": [
    "relative_uplift = 1.05\n",
    "uplift = df[df['group'] == 0].revenue.mean() * relative_uplift - df[df['group'] == 0].revenue.mean()\n",
    "sigma = df[df['group'] == 0].revenue.std()\n",
    "d = uplift / sigma\n",
    "\n",
    "sample_size = tt_ind_solve_power(effect_size = d,\n",
    "                       alpha = 0.05,\n",
    "                       power = 0.8,\n",
    "                       ratio = 1,\n",
    "                       alternative = \"two-sided\",\n",
    "                       nobs1 = None)\n",
    "\n",
    "\n",
    "print('Required sample size to detect desired relative uplift:', int(sample_size))"
   ]
  },
  {
   "cell_type": "markdown",
   "id": "02cf0cad-ae94-4463-8ea7-82395468ee3a",
   "metadata": {},
   "source": [
    "### Task 6. "
   ]
  },
  {
   "cell_type": "markdown",
   "id": "54ae1c9e-ea55-483d-b045-edef4d7fd3f1",
   "metadata": {},
   "source": [
    "**Let's try to calculate the sample size using simulation to detect the same 5%, but using the Mann-Whitney U test.**"
   ]
  },
  {
   "cell_type": "code",
   "execution_count": 17,
   "id": "07fcaecf-ae16-4fc6-b7c0-d349e60fb67a",
   "metadata": {},
   "outputs": [],
   "source": [
    "relative_uplift = 1.05\n",
    "alpha = 0.05\n",
    "beta = 0.2\n",
    "\n",
    "sample_size_list = np.arange(800, 1600, 50)\n",
    "iters = 1000\n",
    "dct = dict()\n",
    "\n",
    "data = df[df['group'] == 0].revenue\n",
    "\n",
    "for ss in sample_size_list[:]:\n",
    "    pvals = []\n",
    "    for i in range(iters):\n",
    "        a = np.random.choice(data, size=ss, replace=False)\n",
    "        b = a * relative_uplift\n",
    "        p_val = mannwhitneyu(a, b).pvalue\n",
    "        pvals.append(p_val)\n",
    "    effects = [x for x in pvals if x < alpha]\n",
    "    power = len(effects) / len(pvals)\n",
    "    dct[ss] = power"
   ]
  },
  {
   "cell_type": "code",
   "execution_count": 18,
   "id": "8a42598c-b4ee-471c-8162-74fb8467d00a",
   "metadata": {},
   "outputs": [
    {
     "data": {
      "image/png": "[encoded data removed]",
      "text/plain": [
       "<Figure size 1152x720 with 1 Axes>"
      ]
     },
     "metadata": {
      "needs_background": "light"
     },
     "output_type": "display_data"
    }
   ],
   "source": [
    "plt.figure(figsize=(16, 10))\n",
    "plt.plot(dct.keys(), dct.values())\n",
    "\n",
    "plt.xlabel('sample size', fontsize=16)\n",
    "plt.ylabel('power', fontsize=16)\n",
    "plt.title('Power curve', fontsize=22);"
   ]
  },
  {
   "cell_type": "code",
   "execution_count": 19,
   "id": "6fe7e91c-9c7a-40a4-bd4b-324eb5872a10",
   "metadata": {},
   "outputs": [
    {
     "name": "stdout",
     "output_type": "stream",
     "text": [
      "Required sample size to detect desired relative uplift: 1300\n"
     ]
    }
   ],
   "source": [
    "for k, v in dct.items():\n",
    "    if v >= 1 - beta:\n",
    "        print(f'Required sample size to detect desired relative uplift: {k}')\n",
    "        break"
   ]
  },
  {
   "cell_type": "markdown",
   "id": "52e3284c-c5d6-43c0-9d76-afcf523ffc0b",
   "metadata": {},
   "source": [
    "### Task 7. "
   ]
  },
  {
   "cell_type": "markdown",
   "id": "eeb0b58d-760e-4331-87f3-fb5e21ecd7a4",
   "metadata": {},
   "source": [
    "**Calculate the sample size required to detect the observed effect found in Task 3 using a two-tailed t-test. With alpha = 0.05 and power = 0.8. Sample size is 50/50.**"
   ]
  },
  {
   "cell_type": "code",
   "execution_count": 20,
   "id": "f08a0fcb-7373-40dd-9656-f1f8ce3f3d7b",
   "metadata": {},
   "outputs": [
    {
     "name": "stdout",
     "output_type": "stream",
     "text": [
      "Required sample size to detect desired relative uplift: 327819\n"
     ]
    }
   ],
   "source": [
    "uplift = df[df['group'] == 1].revenue.mean() - df[df['group'] == 0].revenue.mean()\n",
    "sigma = df.revenue.std()\n",
    "\n",
    "d = uplift / sigma\n",
    "\n",
    "sample_size = tt_ind_solve_power(effect_size = d,\n",
    "                       alpha = 0.05,\n",
    "                       power = 0.8,\n",
    "                       ratio = 1,\n",
    "                       alternative = \"two-sided\",\n",
    "                       nobs1 = None)\n",
    "\n",
    "\n",
    "print('Required sample size to detect desired relative uplift:', round(sample_size))"
   ]
  },
  {
   "cell_type": "markdown",
   "id": "283434af-1e03-4a78-becd-3d59409d3687",
   "metadata": {},
   "source": [
    "### Task 8. "
   ]
  },
  {
   "cell_type": "markdown",
   "id": "2b2aefac-58e7-4b2a-80a5-f05f1b186f09",
   "metadata": {},
   "source": [
    "**We have realized that the observed effect is less than the desired MDE, and the sample size is also less than the required size. Let's see what MDE we can afford with the available sample size when checking the difference in means using a two-tailed t-test. The test design parameters are the same.**"
   ]
  },
  {
   "cell_type": "code",
   "execution_count": 21,
   "id": "165aa748-9e9e-45c4-8c60-72162d18df86",
   "metadata": {},
   "outputs": [
    {
     "data": {
      "text/plain": [
       "240.39149191318984"
      ]
     },
     "execution_count": 21,
     "metadata": {},
     "output_type": "execute_result"
    }
   ],
   "source": [
    "effect_size_d = tt_ind_solve_power(effect_size = None,\n",
    "                       alpha = 0.05,\n",
    "                       power = 0.8,\n",
    "                       ratio = 1,\n",
    "                       alternative = \"two-sided\",\n",
    "                       nobs1 = df.shape[0]/2)\n",
    "\n",
    "effect_size = effect_size_d * df.revenue.std()\n",
    "\n",
    "effect_size"
   ]
  },
  {
   "cell_type": "markdown",
   "id": "41a96321-035a-4b17-9ce9-aabd1a4f3fc5",
   "metadata": {},
   "source": [
    "### Task 9. "
   ]
  },
  {
   "cell_type": "markdown",
   "id": "4d6e729a-8bb3-46d1-b6db-a0f25fc5dcff",
   "metadata": {},
   "source": [
    "**Use simulations to define the test power using U Mann-Whitney test.**"
   ]
  },
  {
   "cell_type": "code",
   "execution_count": 22,
   "id": "c31f2682-d74f-44cf-a80e-881e84f73515",
   "metadata": {},
   "outputs": [
    {
     "name": "stdout",
     "output_type": "stream",
     "text": [
      "Effect size = 0.0069199324810495\n",
      "Number of simulations =  1000\n",
      "Sample size =  162948\n"
     ]
    },
    {
     "name": "stderr",
     "output_type": "stream",
     "text": [
      "100%|██████████| 1000/1000 [24:59<00:00,  1.50s/it]"
     ]
    },
    {
     "name": "stdout",
     "output_type": "stream",
     "text": [
      "Test power after simulations: 1.0\n"
     ]
    },
    {
     "name": "stderr",
     "output_type": "stream",
     "text": [
      "\n"
     ]
    }
   ],
   "source": [
    "alpha = 0.05\n",
    "beta = 0.2\n",
    "power = 1 - beta\n",
    "\n",
    "relative_uplift = df[df['group'] == 1].revenue.mean() / df[df['group'] == 0].revenue.mean()\n",
    "uplift = df[df['group'] == 1].revenue.mean() - df[df['group'] == 0].revenue.mean()\n",
    "sigma = df.revenue.std()\n",
    "\n",
    "d = uplift / sigma\n",
    " \n",
    "hist_data = df[df['group'] == 0].revenue\n",
    "    \n",
    "print('Effect size =', d)\n",
    " \n",
    "n_iter = 1000\n",
    "print('Number of simulations = ', n_iter)\n",
    " \n",
    "sample_size = 162948\n",
    "print('Sample size = ', sample_size)\n",
    " \n",
    "aa_control_group_means = []\n",
    "aa_test_group_means = []\n",
    "ab_control_group_means = []\n",
    "ab_test_group_means = []\n",
    " \n",
    "aa_p_val_list = []\n",
    "aa_u_stat_list = []\n",
    "aa_means_diffs_list = []\n",
    " \n",
    "ab_p_val_list = []\n",
    "ab_u_stat_list = []\n",
    "ab_means_diffs_list = []\n",
    " \n",
    "np.random.seed(1)\n",
    "for i in tqdm.tqdm(range(n_iter)):\n",
    "    sample_1 = np.random.choice(hist_data, size = sample_size)\n",
    "    sample_2_zero_effect = np.random.choice(hist_data, size = sample_size)\n",
    "    sample_2_with_effect = np.random.choice(hist_data, size = sample_size) * relative_uplift\n",
    " \n",
    "    aa_control_group_means.append(sample_1.mean())\n",
    "    aa_test_group_means.append(sample_2_zero_effect.mean())\n",
    " \n",
    "    ab_control_group_means.append(sample_1.mean())\n",
    "    ab_test_group_means.append(sample_2_with_effect.mean())\n",
    " \n",
    "    aa_means_diff = sample_2_zero_effect.mean() - sample_1.mean()\n",
    "    ab_means_diff = sample_2_with_effect.mean() - sample_1.mean()\n",
    " \n",
    "    aa_u_stat, aa_p_val = mannwhitneyu(sample_2_zero_effect, sample_1)\n",
    "    ab_u_stat, ab_p_val = mannwhitneyu(sample_2_with_effect, sample_1)\n",
    " \n",
    "    aa_p_val_list.append(aa_p_val)\n",
    "    ab_p_val_list.append(ab_p_val)\n",
    " \n",
    "    aa_u_stat_list.append(aa_u_stat)\n",
    "    ab_u_stat_list.append(ab_u_stat)\n",
    " \n",
    "    aa_means_diffs_list.append(aa_means_diff)\n",
    "    ab_means_diffs_list.append(ab_means_diff)\n",
    "\n",
    "print('Test power after simulations:', (np.array(ab_p_val_list) < alpha).sum() / n_iter)"
   ]
  },
  {
   "cell_type": "markdown",
   "id": "47f2d80a-d330-461f-b515-eb62e6fa7fdf",
   "metadata": {},
   "source": [
    "### Task 10. "
   ]
  },
  {
   "cell_type": "markdown",
   "id": "021d5411-8659-43be-89ee-aa049e76a3b2",
   "metadata": {},
   "source": [
    "**Use simulations to define the test power using t-test.**"
   ]
  },
  {
   "cell_type": "code",
   "execution_count": 23,
   "id": "0242415a-1ef3-46b7-a6fa-f5c023350921",
   "metadata": {},
   "outputs": [
    {
     "name": "stdout",
     "output_type": "stream",
     "text": [
      "Effect size = 0.0069199324810495\n",
      "Number of simulations =  1000\n",
      "Sample size =  162948\n"
     ]
    },
    {
     "name": "stderr",
     "output_type": "stream",
     "text": [
      "100%|██████████| 1000/1000 [00:19<00:00, 51.45it/s]"
     ]
    },
    {
     "name": "stdout",
     "output_type": "stream",
     "text": [
      "Test power after simulations: 0.464\n"
     ]
    },
    {
     "name": "stderr",
     "output_type": "stream",
     "text": [
      "\n"
     ]
    }
   ],
   "source": [
    "alpha = 0.05\n",
    "beta = 0.2\n",
    "power = 1 - beta\n",
    "\n",
    "relative_uplift = df[df['group'] == 1].revenue.mean() / df[df['group'] == 0].revenue.mean()\n",
    "uplift = df[df['group'] == 1].revenue.mean() - df[df['group'] == 0].revenue.mean()\n",
    "sigma = df.revenue.std()\n",
    "\n",
    "d = uplift / sigma\n",
    " \n",
    "hist_data = df[df['group'] == 0].revenue\n",
    "    \n",
    "print('Effect size =', d)\n",
    " \n",
    "n_iter = 1000\n",
    "print('Number of simulations = ', n_iter)\n",
    " \n",
    "sample_size = 162948\n",
    "print('Sample size = ', sample_size)\n",
    " \n",
    "aa_control_group_means = []\n",
    "aa_test_group_means = []\n",
    "ab_control_group_means = []\n",
    "ab_test_group_means = []\n",
    " \n",
    "aa_p_val_list = []\n",
    "aa_u_stat_list = []\n",
    "aa_means_diffs_list = []\n",
    " \n",
    "ab_p_val_list = []\n",
    "ab_u_stat_list = []\n",
    "ab_means_diffs_list = []\n",
    " \n",
    "np.random.seed(1)\n",
    "for i in tqdm.tqdm(range(n_iter)):\n",
    "    sample_1 = np.random.choice(hist_data, size = sample_size)\n",
    "    sample_2_zero_effect = np.random.choice(hist_data, size = sample_size)\n",
    "    sample_2_with_effect = np.random.choice(hist_data, size = sample_size) * relative_uplift\n",
    "\n",
    "    aa_control_group_means.append(sample_1.mean())\n",
    "    aa_test_group_means.append(sample_2_zero_effect.mean())\n",
    " \n",
    "    ab_control_group_means.append(sample_1.mean())\n",
    "    ab_test_group_means.append(sample_2_with_effect.mean())\n",
    " \n",
    "    aa_means_diff = sample_2_zero_effect.mean() - sample_1.mean()\n",
    "    ab_means_diff = sample_2_with_effect.mean() - sample_1.mean()\n",
    " \n",
    "    aa_u_stat, aa_p_val = ttest_ind(sample_2_zero_effect, sample_1)\n",
    "    ab_u_stat, ab_p_val = ttest_ind(sample_2_with_effect, sample_1)\n",
    " \n",
    "    aa_p_val_list.append(aa_p_val)\n",
    "    ab_p_val_list.append(ab_p_val)\n",
    " \n",
    "    aa_u_stat_list.append(aa_u_stat)\n",
    "    ab_u_stat_list.append(ab_u_stat)\n",
    " \n",
    "    aa_means_diffs_list.append(aa_means_diff)\n",
    "    ab_means_diffs_list.append(ab_means_diff)\n",
    "\n",
    "print('Test power after simulations:', (np.array(ab_p_val_list) < alpha).sum() / n_iter)"
   ]
  },
  {
   "cell_type": "markdown",
   "id": "df0e94e9-95c6-4cc9-8203-3cc0243fc343",
   "metadata": {},
   "source": [
    "### Task 11. "
   ]
  },
  {
   "cell_type": "markdown",
   "id": "438a5ae3-d650-4ccf-a7ab-cdcb4f790ff7",
   "metadata": {},
   "source": [
    "**Test the hypothesis of equality of means using a two-tailed t-test. Specify the resulting p-value.**"
   ]
  },
  {
   "cell_type": "code",
   "execution_count": 24,
   "id": "5f13653d-f21f-495f-a4e5-42bfd6f7c6d9",
   "metadata": {},
   "outputs": [
    {
     "data": {
      "text/plain": [
       "Ttest_indResult(statistic=-0.620037942397532, pvalue=0.5352372067403763)"
      ]
     },
     "execution_count": 24,
     "metadata": {},
     "output_type": "execute_result"
    }
   ],
   "source": [
    "ttest_ind(df[df['group'] == 0].revenue, df[df['group'] == 1].revenue)"
   ]
  },
  {
   "cell_type": "markdown",
   "id": "2d3df93e-86ba-40b0-9b64-cb578b380a0e",
   "metadata": {},
   "source": [
    "### Task 12. "
   ]
  },
  {
   "cell_type": "markdown",
   "id": "60df8f87-1e2c-4d98-bbc1-825a137b5a1d",
   "metadata": {},
   "source": [
    "**Use U Mann-Whitney test on your data. Specify the resulting p-value.**"
   ]
  },
  {
   "cell_type": "code",
   "execution_count": 25,
   "id": "0b723a7d-bf9a-4870-94a7-4de8b9e7814c",
   "metadata": {},
   "outputs": [
    {
     "data": {
      "text/plain": [
       "MannwhitneyuResult(statistic=137332553.5, pvalue=4.0824604776415004e-24)"
      ]
     },
     "execution_count": 25,
     "metadata": {},
     "output_type": "execute_result"
    }
   ],
   "source": [
    "mannwhitneyu(df[df['group'] == 0].revenue, df[df['group'] == 1].revenue)"
   ]
  },
  {
   "cell_type": "markdown",
   "id": "96a37e65-453a-4973-bfaa-dfe405070348",
   "metadata": {},
   "source": [
    "### Task 13. "
   ]
  },
  {
   "cell_type": "markdown",
   "id": "34c786d7-638d-4c66-8a56-5c972dd73fce",
   "metadata": {},
   "source": [
    "**Apply Moods median test to your data.**"
   ]
  },
  {
   "cell_type": "code",
   "execution_count": 26,
   "id": "27b9bc76-abe9-40e4-a9be-e4431b3092d7",
   "metadata": {},
   "outputs": [
    {
     "data": {
      "text/plain": [
       "MedianTestResult(statistic=108.81948173613007, pvalue=1.7775971068587562e-25, median=480.0, table=array([[8353, 7480],\n",
       "       [7641, 8641]]))"
      ]
     },
     "execution_count": 26,
     "metadata": {},
     "output_type": "execute_result"
    }
   ],
   "source": [
    "median_test(df[df['group'] == 0].revenue, df[df['group'] == 1].revenue)"
   ]
  }
 ],
 "metadata": {
  "kernelspec": {
   "display_name": "Python 3 (ipykernel)",
   "language": "python",
   "name": "python3"
  },
  "language_info": {
   "codemirror_mode": {
    "name": "ipython",
    "version": 3
   },
   "file_extension": ".py",
   "mimetype": "text/x-python",
   "name": "python",
   "nbconvert_exporter": "python",
   "pygments_lexer": "ipython3",
   "version": "3.8.10"
  }
 },
 "nbformat": 4,
 "nbformat_minor": 5
}
