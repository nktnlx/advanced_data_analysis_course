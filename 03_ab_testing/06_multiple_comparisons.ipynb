{
 "cells": [
  {
   "cell_type": "markdown",
   "id": "e23e1516-6e75-4e85-bf5b-0011204c6bf9",
   "metadata": {},
   "source": [
    "# Multiple Comparisons"
   ]
  },
  {
   "cell_type": "markdown",
   "id": "8ad67dba-80ad-46c5-ade5-7ce6464e9f6c",
   "metadata": {},
   "source": [
    "## Import libraries"
   ]
  },
  {
   "cell_type": "code",
   "execution_count": 1,
   "id": "c95c5f62-01f8-479f-a5b4-e7971cdd84c0",
   "metadata": {},
   "outputs": [],
   "source": [
    "#!pip install scipy"
   ]
  },
  {
   "cell_type": "code",
   "execution_count": 2,
   "id": "eedf8d00-2a94-4b30-b631-e690ebec36f4",
   "metadata": {},
   "outputs": [],
   "source": [
    "#!pip install statsmodels"
   ]
  },
  {
   "cell_type": "code",
   "execution_count": 3,
   "id": "919e58fc-163a-4d36-89f5-db1a8569eacb",
   "metadata": {},
   "outputs": [],
   "source": [
    "#!pip install scipy statsmodels matplotlib seaborn"
   ]
  },
  {
   "cell_type": "code",
   "execution_count": 4,
   "id": "4d138bda-888f-421e-9184-ea5185bc2b5d",
   "metadata": {},
   "outputs": [],
   "source": [
    "import pandas as pd\n",
    "import numpy as np\n",
    "import matplotlib.pyplot as plt\n",
    "import seaborn as sns\n",
    "\n",
    "from scipy.stats import ttest_ind\n",
    "from statsmodels.stats.multitest import multipletests\n",
    "from statsmodels.stats.power import tt_ind_solve_power"
   ]
  },
  {
   "cell_type": "code",
   "execution_count": 5,
   "id": "2334cf3f-1411-46f9-9d6c-4b776c786b87",
   "metadata": {},
   "outputs": [
    {
     "name": "stdout",
     "output_type": "stream",
     "text": [
      "(datetime.date(2022, 2, 1), datetime.date(2022, 1, 31), 'android', 'f7411212fd0e2523e126cbfdd3f226c211212', '4beb10e1-aeeb-4c52-acd2-ce1ddbc1fc24b10e1', 22, 11, 3, 0, 0, 0, 2, 2, 0, 0, 0, 0, 0, 0)\n"
     ]
    }
   ],
   "source": [
    "from clickhouse_driver import Client\n",
    "\n",
    "\n",
    "user_name = 'user_name'\n",
    "pwd = 'password'\n",
    "\n",
    "# creating connection ClickHouse\n",
    "client = Client(host='clickhouse.lab.karpov.courses', port=9000,\n",
    "                user=user_name, password=pwd, database='hardda')\n",
    "\n",
    "# checking connection\n",
    "result = client.execute(\"SELECT * FROM hardda.user_dm_events LIMIT 1\")\n",
    "\n",
    "# showing the result\n",
    "for row in result[0:1]:\n",
    "    print(row)"
   ]
  },
  {
   "cell_type": "markdown",
   "id": "b6e6fc11-f7c5-4ada-a6de-eda65591c0aa",
   "metadata": {},
   "source": [
    "## Tasks"
   ]
  },
  {
   "cell_type": "markdown",
   "id": "7c334d62-e699-49c4-bb27-367395721dfd",
   "metadata": {},
   "source": [
    "### Task 1."
   ]
  },
  {
   "cell_type": "markdown",
   "id": "dcb63d57-d2f7-4948-9b43-92b2ac608650",
   "metadata": {},
   "source": [
    " **Enter the average ARPU per user for the entire dataset in the field below with one decimal place. Use a period to separate the integer and fractional parts.**"
   ]
  },
  {
   "cell_type": "markdown",
   "id": "83a30469-ba39-43de-9845-3cc23b13f87a",
   "metadata": {},
   "source": [
    "At first let's check columns names of the data we have in our database. "
   ]
  },
  {
   "cell_type": "code",
   "execution_count": 6,
   "id": "4425b954-fa31-4fce-8d0c-c874629489b1",
   "metadata": {},
   "outputs": [],
   "source": [
    "query = '''\n",
    "DESCRIBE TABLE live_adverts\n",
    "'''"
   ]
  },
  {
   "cell_type": "code",
   "execution_count": 7,
   "id": "d2051a90-7f46-4731-a54a-1e09e8ae41b4",
   "metadata": {},
   "outputs": [
    {
     "data": {
      "text/plain": [
       "[('execution_date', 'Date32', '', '', '', 'DoubleDelta', ''),\n",
       " ('advert_id', 'UInt64', '', '', '', 'T64', ''),\n",
       " ('created_at', 'DateTime', '', '', '', 'DoubleDelta', ''),\n",
       " ('price', 'UInt64', '', '', '', 'Gorilla', ''),\n",
       " ('region', 'LowCardinality(String)', '', '', '', '', ''),\n",
       " ('user_id', 'UInt32', '', '', '', 'T64', ''),\n",
       " ('platform', 'LowCardinality(String)', '', '', '', '', ''),\n",
       " ('auto_brand', 'LowCardinality(String)', '', '', '', '', ''),\n",
       " ('auto_model', 'LowCardinality(String)', '', '', '', '', ''),\n",
       " ('passport_id', 'UInt32', '', '', '', 'T64', ''),\n",
       " ('year', 'LowCardinality(String)', '', '', '', '', ''),\n",
       " ('userType', 'UInt8', '', '', '', 'T64', '')]"
      ]
     },
     "execution_count": 7,
     "metadata": {},
     "output_type": "execute_result"
    }
   ],
   "source": [
    "result = client.execute(query)\n",
    "result"
   ]
  },
  {
   "cell_type": "code",
   "execution_count": 8,
   "id": "1a18a0f8-1ce3-4a3f-82cd-7f47b50ebfb2",
   "metadata": {},
   "outputs": [],
   "source": [
    "query = '''\n",
    "DESCRIBE TABLE user_transactions\n",
    "'''"
   ]
  },
  {
   "cell_type": "code",
   "execution_count": 9,
   "id": "d804e41a-03f9-479f-9d51-c717cae71f45",
   "metadata": {},
   "outputs": [
    {
     "data": {
      "text/plain": [
       "[('payment_date', 'Date', '', '', '', '', ''),\n",
       " ('id', 'Int32', '', '', '', '', ''),\n",
       " ('type', 'String', '', '', '', '', ''),\n",
       " ('sign', 'Int32', '', '', '', '', ''),\n",
       " ('amount', 'Int32', '', '', '', '', ''),\n",
       " ('tstamp', 'DateTime', '', '', '', '', ''),\n",
       " ('advert_id', 'Int32', '', '', '', '', ''),\n",
       " ('passport_id', 'Int32', '', '', '', '', ''),\n",
       " ('balance_consumption', 'Int32', '', '', '', '', '')]"
      ]
     },
     "execution_count": 9,
     "metadata": {},
     "output_type": "execute_result"
    }
   ],
   "source": [
    "result = client.execute(query)\n",
    "result"
   ]
  },
  {
   "cell_type": "markdown",
   "id": "43c22099-9842-4bf7-a559-df57091c66bf",
   "metadata": {},
   "source": [
    "Now when we know the structure of the tables we can join the data to get a dataframe we need to solve the task. "
   ]
  },
  {
   "cell_type": "code",
   "execution_count": 10,
   "id": "00bb6ec2-1b71-4c7e-8eb5-7a644f9187e5",
   "metadata": {},
   "outputs": [],
   "source": [
    "query = '''\n",
    "SELECT\n",
    "  CAST(la.passport_id AS String) AS passport_id,\n",
    "  SUM(CASE WHEN ut.sign = -1 AND ut.amount < 0 THEN ut.balance_consumption END) AS money\n",
    "FROM\n",
    "  live_adverts la\n",
    "LEFT JOIN\n",
    "  user_transactions ut\n",
    "    ON CAST(ut.advert_id AS String) = CAST(la.advert_id AS String)\n",
    "      AND la.execution_date = ut.payment_date\n",
    "        AND la.passport_id = ut.passport_id\n",
    "WHERE\n",
    "  la.execution_date BETWEEN '2022-01-01' AND '2022-02-28'\n",
    "GROUP BY\n",
    "  CAST(la.passport_id AS String)\n",
    "'''"
   ]
  },
  {
   "cell_type": "code",
   "execution_count": 11,
   "id": "3772dc8d-6f7f-4d00-8050-d7b20a9d49fc",
   "metadata": {},
   "outputs": [],
   "source": [
    "result = client.execute(query)"
   ]
  },
  {
   "cell_type": "code",
   "execution_count": 12,
   "id": "af0949db-fea1-4e3a-b83f-544e4d78055f",
   "metadata": {},
   "outputs": [],
   "source": [
    "df = pd.DataFrame(result, columns=['passport_id', 'money'])"
   ]
  },
  {
   "cell_type": "code",
   "execution_count": 13,
   "id": "073cbc8f-263a-49cc-929b-6eac9b374198",
   "metadata": {},
   "outputs": [
    {
     "data": {
      "text/html": [
       "<div>\n",
       "<style scoped>\n",
       "    .dataframe tbody tr th:only-of-type {\n",
       "        vertical-align: middle;\n",
       "    }\n",
       "\n",
       "    .dataframe tbody tr th {\n",
       "        vertical-align: top;\n",
       "    }\n",
       "\n",
       "    .dataframe thead th {\n",
       "        text-align: right;\n",
       "    }\n",
       "</style>\n",
       "<table border=\"1\" class=\"dataframe\">\n",
       "  <thead>\n",
       "    <tr style=\"text-align: right;\">\n",
       "      <th></th>\n",
       "      <th>passport_id</th>\n",
       "      <th>money</th>\n",
       "    </tr>\n",
       "  </thead>\n",
       "  <tbody>\n",
       "    <tr>\n",
       "      <th>347479</th>\n",
       "      <td>136440479</td>\n",
       "      <td>NaN</td>\n",
       "    </tr>\n",
       "    <tr>\n",
       "      <th>33705</th>\n",
       "      <td>131946239</td>\n",
       "      <td>785.0</td>\n",
       "    </tr>\n",
       "    <tr>\n",
       "      <th>48320</th>\n",
       "      <td>133631125</td>\n",
       "      <td>1010.0</td>\n",
       "    </tr>\n",
       "    <tr>\n",
       "      <th>332777</th>\n",
       "      <td>138780630</td>\n",
       "      <td>NaN</td>\n",
       "    </tr>\n",
       "    <tr>\n",
       "      <th>379561</th>\n",
       "      <td>124626295</td>\n",
       "      <td>790.0</td>\n",
       "    </tr>\n",
       "  </tbody>\n",
       "</table>\n",
       "</div>"
      ],
      "text/plain": [
       "       passport_id   money\n",
       "347479   136440479     NaN\n",
       "33705    131946239   785.0\n",
       "48320    133631125  1010.0\n",
       "332777   138780630     NaN\n",
       "379561   124626295   790.0"
      ]
     },
     "execution_count": 13,
     "metadata": {},
     "output_type": "execute_result"
    }
   ],
   "source": [
    "df.sample(5)"
   ]
  },
  {
   "cell_type": "markdown",
   "id": "45e7ea62-bd9c-4279-8608-a85d417fd94e",
   "metadata": {},
   "source": [
    "Let's fill the zero-spending clients with 0 instead of NaNs. "
   ]
  },
  {
   "cell_type": "code",
   "execution_count": 14,
   "id": "bb2dfddd-32de-485b-95cd-dfd1899f392c",
   "metadata": {},
   "outputs": [],
   "source": [
    "df.fillna(0, inplace=True)"
   ]
  },
  {
   "cell_type": "code",
   "execution_count": 15,
   "id": "e23ae086-1abf-4ca0-a18c-8edd8beeb6f1",
   "metadata": {},
   "outputs": [
    {
     "data": {
      "text/plain": [
       "398500"
      ]
     },
     "execution_count": 15,
     "metadata": {},
     "output_type": "execute_result"
    }
   ],
   "source": [
    "df.shape[0]"
   ]
  },
  {
   "cell_type": "code",
   "execution_count": 16,
   "id": "ee71c9f5-b5a3-4f2e-9300-8efe00543133",
   "metadata": {},
   "outputs": [
    {
     "data": {
      "text/plain": [
       "398500"
      ]
     },
     "execution_count": 16,
     "metadata": {},
     "output_type": "execute_result"
    }
   ],
   "source": [
    "df.passport_id.nunique()"
   ]
  },
  {
   "cell_type": "code",
   "execution_count": 17,
   "id": "83ca5e95-45f9-42fa-8da4-47d01df3db01",
   "metadata": {},
   "outputs": [
    {
     "data": {
      "text/html": [
       "<div>\n",
       "<style scoped>\n",
       "    .dataframe tbody tr th:only-of-type {\n",
       "        vertical-align: middle;\n",
       "    }\n",
       "\n",
       "    .dataframe tbody tr th {\n",
       "        vertical-align: top;\n",
       "    }\n",
       "\n",
       "    .dataframe thead th {\n",
       "        text-align: right;\n",
       "    }\n",
       "</style>\n",
       "<table border=\"1\" class=\"dataframe\">\n",
       "  <thead>\n",
       "    <tr style=\"text-align: right;\">\n",
       "      <th></th>\n",
       "      <th>passport_id</th>\n",
       "      <th>money</th>\n",
       "    </tr>\n",
       "  </thead>\n",
       "  <tbody>\n",
       "    <tr>\n",
       "      <th>192508</th>\n",
       "      <td>138381354</td>\n",
       "      <td>0.0</td>\n",
       "    </tr>\n",
       "    <tr>\n",
       "      <th>199891</th>\n",
       "      <td>136525029</td>\n",
       "      <td>0.0</td>\n",
       "    </tr>\n",
       "    <tr>\n",
       "      <th>270091</th>\n",
       "      <td>136976231</td>\n",
       "      <td>175.0</td>\n",
       "    </tr>\n",
       "    <tr>\n",
       "      <th>222567</th>\n",
       "      <td>133066051</td>\n",
       "      <td>0.0</td>\n",
       "    </tr>\n",
       "    <tr>\n",
       "      <th>258114</th>\n",
       "      <td>141085777</td>\n",
       "      <td>1565.0</td>\n",
       "    </tr>\n",
       "  </tbody>\n",
       "</table>\n",
       "</div>"
      ],
      "text/plain": [
       "       passport_id   money\n",
       "192508   138381354     0.0\n",
       "199891   136525029     0.0\n",
       "270091   136976231   175.0\n",
       "222567   133066051     0.0\n",
       "258114   141085777  1565.0"
      ]
     },
     "execution_count": 17,
     "metadata": {},
     "output_type": "execute_result"
    }
   ],
   "source": [
    "df.sample(5)"
   ]
  },
  {
   "cell_type": "code",
   "execution_count": 18,
   "id": "51cceb97-6b2c-4db2-95d6-04a6894351d9",
   "metadata": {},
   "outputs": [
    {
     "name": "stdout",
     "output_type": "stream",
     "text": [
      "<class 'pandas.core.frame.DataFrame'>\n",
      "RangeIndex: 398500 entries, 0 to 398499\n",
      "Data columns (total 2 columns):\n",
      " #   Column       Non-Null Count   Dtype  \n",
      "---  ------       --------------   -----  \n",
      " 0   passport_id  398500 non-null  object \n",
      " 1   money        398500 non-null  float64\n",
      "dtypes: float64(1), object(1)\n",
      "memory usage: 6.1+ MB\n"
     ]
    }
   ],
   "source": [
    "df.info()"
   ]
  },
  {
   "cell_type": "markdown",
   "id": "df9fe36d-e838-4892-b62c-0dcdf48110e1",
   "metadata": {},
   "source": [
    "Loading experiment groups assignment data. "
   ]
  },
  {
   "cell_type": "code",
   "execution_count": 19,
   "id": "aa1a2664-f040-4372-9a7d-a0912368d54d",
   "metadata": {},
   "outputs": [],
   "source": [
    "groups_df = pd.read_csv('user_groups.csv', dtype={'passport_id': 'string'})"
   ]
  },
  {
   "cell_type": "code",
   "execution_count": 20,
   "id": "b1272775-f0a8-43e3-902a-a910353cabd1",
   "metadata": {},
   "outputs": [
    {
     "data": {
      "text/plain": [
       "398500"
      ]
     },
     "execution_count": 20,
     "metadata": {},
     "output_type": "execute_result"
    }
   ],
   "source": [
    "groups_df.passport_id.nunique()"
   ]
  },
  {
   "cell_type": "code",
   "execution_count": 21,
   "id": "b34ba352-848e-401e-8c39-e3289cfc8133",
   "metadata": {},
   "outputs": [
    {
     "data": {
      "text/html": [
       "<div>\n",
       "<style scoped>\n",
       "    .dataframe tbody tr th:only-of-type {\n",
       "        vertical-align: middle;\n",
       "    }\n",
       "\n",
       "    .dataframe tbody tr th {\n",
       "        vertical-align: top;\n",
       "    }\n",
       "\n",
       "    .dataframe thead th {\n",
       "        text-align: right;\n",
       "    }\n",
       "</style>\n",
       "<table border=\"1\" class=\"dataframe\">\n",
       "  <thead>\n",
       "    <tr style=\"text-align: right;\">\n",
       "      <th></th>\n",
       "      <th>Unnamed: 0</th>\n",
       "      <th>passport_id</th>\n",
       "      <th>group</th>\n",
       "    </tr>\n",
       "  </thead>\n",
       "  <tbody>\n",
       "    <tr>\n",
       "      <th>259315</th>\n",
       "      <td>259315</td>\n",
       "      <td>138062737</td>\n",
       "      <td>C</td>\n",
       "    </tr>\n",
       "    <tr>\n",
       "      <th>294746</th>\n",
       "      <td>294746</td>\n",
       "      <td>140506615</td>\n",
       "      <td>B</td>\n",
       "    </tr>\n",
       "    <tr>\n",
       "      <th>322078</th>\n",
       "      <td>322078</td>\n",
       "      <td>141572321</td>\n",
       "      <td>B</td>\n",
       "    </tr>\n",
       "    <tr>\n",
       "      <th>228895</th>\n",
       "      <td>228895</td>\n",
       "      <td>136761607</td>\n",
       "      <td>A</td>\n",
       "    </tr>\n",
       "    <tr>\n",
       "      <th>343736</th>\n",
       "      <td>343736</td>\n",
       "      <td>142343986</td>\n",
       "      <td>D</td>\n",
       "    </tr>\n",
       "  </tbody>\n",
       "</table>\n",
       "</div>"
      ],
      "text/plain": [
       "        Unnamed: 0 passport_id group\n",
       "259315      259315   138062737     C\n",
       "294746      294746   140506615     B\n",
       "322078      322078   141572321     B\n",
       "228895      228895   136761607     A\n",
       "343736      343736   142343986     D"
      ]
     },
     "execution_count": 21,
     "metadata": {},
     "output_type": "execute_result"
    }
   ],
   "source": [
    "groups_df.sample(5)"
   ]
  },
  {
   "cell_type": "code",
   "execution_count": 22,
   "id": "d63b4c7a-1671-4c95-897c-62eaffe8a62f",
   "metadata": {},
   "outputs": [
    {
     "name": "stdout",
     "output_type": "stream",
     "text": [
      "<class 'pandas.core.frame.DataFrame'>\n",
      "RangeIndex: 398500 entries, 0 to 398499\n",
      "Data columns (total 3 columns):\n",
      " #   Column       Non-Null Count   Dtype \n",
      "---  ------       --------------   ----- \n",
      " 0   Unnamed: 0   398500 non-null  int64 \n",
      " 1   passport_id  398500 non-null  string\n",
      " 2   group        398500 non-null  object\n",
      "dtypes: int64(1), object(1), string(1)\n",
      "memory usage: 9.1+ MB\n"
     ]
    }
   ],
   "source": [
    "groups_df.info()"
   ]
  },
  {
   "cell_type": "markdown",
   "id": "52c38124-9853-4169-a7e3-163cde827764",
   "metadata": {},
   "source": [
    "Merging clients spending data with experiment groups assignment data. "
   ]
  },
  {
   "cell_type": "code",
   "execution_count": 23,
   "id": "4be1a126-302f-4a98-a827-7876af7adc24",
   "metadata": {},
   "outputs": [],
   "source": [
    "data_df = pd.merge(df, groups_df[['passport_id', 'group']], how='inner', on='passport_id')"
   ]
  },
  {
   "cell_type": "code",
   "execution_count": 24,
   "id": "6295b3ad-bb75-4c8f-a77b-ee37993a3067",
   "metadata": {},
   "outputs": [
    {
     "data": {
      "text/html": [
       "<div>\n",
       "<style scoped>\n",
       "    .dataframe tbody tr th:only-of-type {\n",
       "        vertical-align: middle;\n",
       "    }\n",
       "\n",
       "    .dataframe tbody tr th {\n",
       "        vertical-align: top;\n",
       "    }\n",
       "\n",
       "    .dataframe thead th {\n",
       "        text-align: right;\n",
       "    }\n",
       "</style>\n",
       "<table border=\"1\" class=\"dataframe\">\n",
       "  <thead>\n",
       "    <tr style=\"text-align: right;\">\n",
       "      <th></th>\n",
       "      <th>passport_id</th>\n",
       "      <th>money</th>\n",
       "      <th>group</th>\n",
       "    </tr>\n",
       "  </thead>\n",
       "  <tbody>\n",
       "    <tr>\n",
       "      <th>0</th>\n",
       "      <td>135655985</td>\n",
       "      <td>510.0</td>\n",
       "      <td>C</td>\n",
       "    </tr>\n",
       "    <tr>\n",
       "      <th>1</th>\n",
       "      <td>141737421</td>\n",
       "      <td>0.0</td>\n",
       "      <td>C</td>\n",
       "    </tr>\n",
       "    <tr>\n",
       "      <th>2</th>\n",
       "      <td>131999151</td>\n",
       "      <td>1650.0</td>\n",
       "      <td>A</td>\n",
       "    </tr>\n",
       "    <tr>\n",
       "      <th>3</th>\n",
       "      <td>134776715</td>\n",
       "      <td>175.0</td>\n",
       "      <td>A</td>\n",
       "    </tr>\n",
       "    <tr>\n",
       "      <th>4</th>\n",
       "      <td>129001315</td>\n",
       "      <td>0.0</td>\n",
       "      <td>D</td>\n",
       "    </tr>\n",
       "    <tr>\n",
       "      <th>...</th>\n",
       "      <td>...</td>\n",
       "      <td>...</td>\n",
       "      <td>...</td>\n",
       "    </tr>\n",
       "    <tr>\n",
       "      <th>398495</th>\n",
       "      <td>143024622</td>\n",
       "      <td>3971.0</td>\n",
       "      <td>D</td>\n",
       "    </tr>\n",
       "    <tr>\n",
       "      <th>398496</th>\n",
       "      <td>126984117</td>\n",
       "      <td>0.0</td>\n",
       "      <td>B</td>\n",
       "    </tr>\n",
       "    <tr>\n",
       "      <th>398497</th>\n",
       "      <td>138809936</td>\n",
       "      <td>330.0</td>\n",
       "      <td>D</td>\n",
       "    </tr>\n",
       "    <tr>\n",
       "      <th>398498</th>\n",
       "      <td>137173421</td>\n",
       "      <td>430.0</td>\n",
       "      <td>D</td>\n",
       "    </tr>\n",
       "    <tr>\n",
       "      <th>398499</th>\n",
       "      <td>135582083</td>\n",
       "      <td>780.0</td>\n",
       "      <td>D</td>\n",
       "    </tr>\n",
       "  </tbody>\n",
       "</table>\n",
       "<p>398500 rows × 3 columns</p>\n",
       "</div>"
      ],
      "text/plain": [
       "       passport_id   money group\n",
       "0        135655985   510.0     C\n",
       "1        141737421     0.0     C\n",
       "2        131999151  1650.0     A\n",
       "3        134776715   175.0     A\n",
       "4        129001315     0.0     D\n",
       "...            ...     ...   ...\n",
       "398495   143024622  3971.0     D\n",
       "398496   126984117     0.0     B\n",
       "398497   138809936   330.0     D\n",
       "398498   137173421   430.0     D\n",
       "398499   135582083   780.0     D\n",
       "\n",
       "[398500 rows x 3 columns]"
      ]
     },
     "execution_count": 24,
     "metadata": {},
     "output_type": "execute_result"
    }
   ],
   "source": [
    "data_df"
   ]
  },
  {
   "cell_type": "code",
   "execution_count": 25,
   "id": "6a1d2892-21f8-48f2-8082-368e3201d0ca",
   "metadata": {},
   "outputs": [
    {
     "name": "stdout",
     "output_type": "stream",
     "text": [
      "<class 'pandas.core.frame.DataFrame'>\n",
      "Int64Index: 398500 entries, 0 to 398499\n",
      "Data columns (total 3 columns):\n",
      " #   Column       Non-Null Count   Dtype  \n",
      "---  ------       --------------   -----  \n",
      " 0   passport_id  398500 non-null  object \n",
      " 1   money        398500 non-null  float64\n",
      " 2   group        398500 non-null  object \n",
      "dtypes: float64(1), object(2)\n",
      "memory usage: 12.2+ MB\n"
     ]
    }
   ],
   "source": [
    "data_df.info()"
   ]
  },
  {
   "cell_type": "markdown",
   "id": "f0592350-b846-4916-a4b9-80c611dd27b1",
   "metadata": {},
   "source": [
    "Getting an answer to our question."
   ]
  },
  {
   "cell_type": "code",
   "execution_count": 26,
   "id": "6811c4b4-8011-4f97-ba66-6e3daf69f83f",
   "metadata": {},
   "outputs": [
    {
     "name": "stdout",
     "output_type": "stream",
     "text": [
      "ARPU: 564.4\n"
     ]
    }
   ],
   "source": [
    "print(f'ARPU: {round(data_df.money.mean(), 1)}')"
   ]
  },
  {
   "cell_type": "markdown",
   "id": "92137d74-b31f-4aba-a1b5-d9164be17f5b",
   "metadata": {},
   "source": [
    "### Task 2.  "
   ]
  },
  {
   "cell_type": "markdown",
   "id": "830049b9-f37d-4c47-82b3-0e95d7db9ed3",
   "metadata": {},
   "source": [
    "**Find ARPU in different groups.** "
   ]
  },
  {
   "cell_type": "code",
   "execution_count": 27,
   "id": "2bd6dd10-91da-4056-a552-3a531022c1b5",
   "metadata": {},
   "outputs": [
    {
     "data": {
      "text/html": [
       "<div>\n",
       "<style scoped>\n",
       "    .dataframe tbody tr th:only-of-type {\n",
       "        vertical-align: middle;\n",
       "    }\n",
       "\n",
       "    .dataframe tbody tr th {\n",
       "        vertical-align: top;\n",
       "    }\n",
       "\n",
       "    .dataframe thead th {\n",
       "        text-align: right;\n",
       "    }\n",
       "</style>\n",
       "<table border=\"1\" class=\"dataframe\">\n",
       "  <thead>\n",
       "    <tr style=\"text-align: right;\">\n",
       "      <th></th>\n",
       "      <th>group</th>\n",
       "      <th>money</th>\n",
       "    </tr>\n",
       "  </thead>\n",
       "  <tbody>\n",
       "    <tr>\n",
       "      <th>1</th>\n",
       "      <td>B</td>\n",
       "      <td>527.843047</td>\n",
       "    </tr>\n",
       "    <tr>\n",
       "      <th>2</th>\n",
       "      <td>C</td>\n",
       "      <td>554.053060</td>\n",
       "    </tr>\n",
       "    <tr>\n",
       "      <th>3</th>\n",
       "      <td>D</td>\n",
       "      <td>587.104361</td>\n",
       "    </tr>\n",
       "    <tr>\n",
       "      <th>0</th>\n",
       "      <td>A</td>\n",
       "      <td>588.716362</td>\n",
       "    </tr>\n",
       "  </tbody>\n",
       "</table>\n",
       "</div>"
      ],
      "text/plain": [
       "  group       money\n",
       "1     B  527.843047\n",
       "2     C  554.053060\n",
       "3     D  587.104361\n",
       "0     A  588.716362"
      ]
     },
     "execution_count": 27,
     "metadata": {},
     "output_type": "execute_result"
    }
   ],
   "source": [
    "data_df.groupby('group', as_index=False) \\\n",
    "    .agg({'money': 'mean'}).sort_values('money')"
   ]
  },
  {
   "cell_type": "markdown",
   "id": "6cf94e10-2a9b-4ab9-929d-858de8ce875b",
   "metadata": {},
   "source": [
    "### Task 3. "
   ]
  },
  {
   "cell_type": "markdown",
   "id": "a92b908a-9905-4287-b083-4b1954baf890",
   "metadata": {},
   "source": [
    "**Check p-value using t-test for A-B, A-C, A-D, B-C, B-D, C-D.**"
   ]
  },
  {
   "cell_type": "code",
   "execution_count": 28,
   "id": "1bb52b7d-af2a-4b38-8a14-7782e702da49",
   "metadata": {},
   "outputs": [],
   "source": [
    "grp_a = data_df[data_df['group'] == 'A'].money\n",
    "grp_b = data_df[data_df['group'] == 'B'].money\n",
    "grp_c = data_df[data_df['group'] == 'C'].money\n",
    "grp_d = data_df[data_df['group'] == 'D'].money"
   ]
  },
  {
   "cell_type": "code",
   "execution_count": 29,
   "id": "5e7bfd96-dbce-4898-90f3-2ff8f70f69fd",
   "metadata": {},
   "outputs": [
    {
     "data": {
      "text/plain": [
       "Ttest_indResult(statistic=2.6233110388178775, pvalue=0.00870863765196825)"
      ]
     },
     "execution_count": 29,
     "metadata": {},
     "output_type": "execute_result"
    }
   ],
   "source": [
    "ttest_ind(grp_a, grp_b) "
   ]
  },
  {
   "cell_type": "code",
   "execution_count": 30,
   "id": "3848f6f3-296f-4afa-bce0-cde9cb4729aa",
   "metadata": {},
   "outputs": [
    {
     "data": {
      "text/plain": [
       "Ttest_indResult(statistic=1.451475334743403, pvalue=0.14664911871458192)"
      ]
     },
     "execution_count": 30,
     "metadata": {},
     "output_type": "execute_result"
    }
   ],
   "source": [
    "ttest_ind(grp_a, grp_c) "
   ]
  },
  {
   "cell_type": "code",
   "execution_count": 31,
   "id": "862edfea-fbaa-42e5-aaa3-672bb827ca06",
   "metadata": {},
   "outputs": [
    {
     "data": {
      "text/plain": [
       "Ttest_indResult(statistic=0.05705982788476699, pvalue=0.954497594329015)"
      ]
     },
     "execution_count": 31,
     "metadata": {},
     "output_type": "execute_result"
    }
   ],
   "source": [
    "ttest_ind(grp_a, grp_d) "
   ]
  },
  {
   "cell_type": "code",
   "execution_count": 32,
   "id": "c803d2c6-205f-4640-8d0c-e57ff1853635",
   "metadata": {},
   "outputs": [
    {
     "data": {
      "text/plain": [
       "Ttest_indResult(statistic=-1.6159436372726919, pvalue=0.10610807884643546)"
      ]
     },
     "execution_count": 32,
     "metadata": {},
     "output_type": "execute_result"
    }
   ],
   "source": [
    "ttest_ind(grp_b, grp_c) "
   ]
  },
  {
   "cell_type": "code",
   "execution_count": 33,
   "id": "198b3169-a8e3-4a10-8f7a-481c130fae57",
   "metadata": {},
   "outputs": [
    {
     "data": {
      "text/plain": [
       "Ttest_indResult(statistic=-2.68276849006051, pvalue=0.007302154505735005)"
      ]
     },
     "execution_count": 33,
     "metadata": {},
     "output_type": "execute_result"
    }
   ],
   "source": [
    "ttest_ind(grp_b, grp_d) "
   ]
  },
  {
   "cell_type": "code",
   "execution_count": 34,
   "id": "23b51470-178c-4020-8819-d1ab691b59fd",
   "metadata": {},
   "outputs": [
    {
     "data": {
      "text/plain": [
       "Ttest_indResult(statistic=-1.4493888066170024, pvalue=0.14723060414169875)"
      ]
     },
     "execution_count": 34,
     "metadata": {},
     "output_type": "execute_result"
    }
   ],
   "source": [
    "ttest_ind(grp_c, grp_d) "
   ]
  },
  {
   "cell_type": "markdown",
   "id": "affc0c80-0c47-4710-bafd-7419662b7109",
   "metadata": {},
   "source": [
    "### Task 4. "
   ]
  },
  {
   "cell_type": "markdown",
   "id": "06487704-edb2-443a-a946-6d91ba6894e2",
   "metadata": {},
   "source": [
    "**Apply Sidak multiple comparison correction.**"
   ]
  },
  {
   "cell_type": "code",
   "execution_count": 35,
   "id": "23212964-0b45-44c6-b4c2-71ba38b638d2",
   "metadata": {},
   "outputs": [],
   "source": [
    "pvals_lst = [\n",
    "    ttest_ind(grp_a, grp_b).pvalue,\n",
    "    ttest_ind(grp_a, grp_c).pvalue,\n",
    "    ttest_ind(grp_a, grp_d).pvalue,\n",
    "    ttest_ind(grp_b, grp_c).pvalue,\n",
    "    ttest_ind(grp_b, grp_d).pvalue,\n",
    "    ttest_ind(grp_c, grp_d).pvalue\n",
    "    ]"
   ]
  },
  {
   "cell_type": "code",
   "execution_count": 36,
   "id": "87947650-a8c9-49f7-873c-529d1f1f5931",
   "metadata": {},
   "outputs": [
    {
     "name": "stdout",
     "output_type": "stream",
     "text": [
      "Sidak corrected alpha: 0.008512444610847103\n"
     ]
    }
   ],
   "source": [
    "ans = multipletests(pvals=pvals_lst,\n",
    "              alpha=0.05,\n",
    "              method='sidak')\n",
    "\n",
    "print(f'Sidak corrected alpha: {ans[2]}')"
   ]
  },
  {
   "cell_type": "markdown",
   "id": "e6a2de7e-9ad4-40bd-9608-d25aa692a1a5",
   "metadata": {},
   "source": [
    "### Task 5. "
   ]
  },
  {
   "cell_type": "markdown",
   "id": "fb307829-3b63-416e-aca7-1e2c0b5326b2",
   "metadata": {},
   "source": [
    "**What will be the new Holm-Bonferroni corrected alphas?**"
   ]
  },
  {
   "cell_type": "code",
   "execution_count": 37,
   "id": "d7473801-8b6f-42bf-810d-7f03445ed33e",
   "metadata": {},
   "outputs": [
    {
     "data": {
      "text/plain": [
       "[0.008333333333333333, 0.01, 0.0125, 0.016666666666666666, 0.025, 0.05]"
      ]
     },
     "execution_count": 37,
     "metadata": {},
     "output_type": "execute_result"
    }
   ],
   "source": [
    "alpha = 0.05\n",
    "sorted_p_vals = sorted(pvals_lst)\n",
    "\n",
    "n = len(sorted_p_vals)\n",
    "rank = range(1, n + 1)\n",
    "alphas_hb = [(alpha / (n - r + 1)) for r in rank]\n",
    "\n",
    "alphas_hb"
   ]
  },
  {
   "cell_type": "markdown",
   "id": "64030431-01ef-460d-ae15-d66afe627f34",
   "metadata": {},
   "source": [
    "### Task 6. "
   ]
  },
  {
   "cell_type": "markdown",
   "id": "708dd3e8-5ddc-4402-a84c-cb83d2491b74",
   "metadata": {},
   "source": [
    "**Calculate the sample size through simulation with Holm-Bonferroni correction (to FWER 0.05) such that the power of finding all effects of 20% relative percentages in pairs A-B, A-C, A-D is guaranteed at the level of 0.8. Use group A as the base for the simulation.\n",
    "The number of simulations per sample size is 200.\n",
    "The increment step of the sample is 1000.\n",
    "Use np.random.seed(1) before the first initialization.**"
   ]
  },
  {
   "cell_type": "code",
   "execution_count": 38,
   "id": "98ebac66-4b9b-4a96-9fd6-62be6ba02b9a",
   "metadata": {},
   "outputs": [],
   "source": [
    "alpha = 0.05\n",
    "def find_multi_tt_sample_size(hist_data, n_sim, sample_size_start, rel_effect, sample_size_step, power_set, plot = True, method = 'bonferroni'):\n",
    "    '''\n",
    "    hist_data - the metric from historical data that we use in the test.\n",
    "    n_sim - the number of simulation iterations for each sample size.\n",
    "    sample_size_start - the starting value of the sample size.\n",
    "    rel_effect - the relative effect, MDE, that we want to check.\n",
    "    sample_size_step - the increment step of the sample size.\n",
    "    power_set - the power that we want to achieve.\n",
    "    plot - is a boolean value that indicates whether we want to plot the graph.\n",
    "    method - the multiple comparison correction method.\n",
    "        - `bonferroni` : one-step correction\n",
    "        - `sidak` : one-step correction\n",
    "        - `holm-sidak` : step down method using Sidak adjustments\n",
    "        - `holm` : step-down method using Bonferroni adjustments\n",
    "        - `simes-hochberg` : step-up method  (independent)\n",
    "        - `hommel` : closed method based on Simes tests (non-negative)\n",
    "        - `fdr_bh` : Benjamini/Hochberg  (non-negative)\n",
    "        - `fdr_by` : Benjamini/Yekutieli (negative)\n",
    "        - `fdr_tsbh` : two stage fdr correction (non-negative)\n",
    "        - `fdr_tsbky` : two stage fdr correction (non-negative)\n",
    "    '''\n",
    " \n",
    "    sample_size_list = []\n",
    "    power_value_list = []\n",
    "    power_value_corrected_list = []\n",
    " \n",
    "    while True:\n",
    "        p_value_list = []\n",
    "        for i in range(n_sim):\n",
    "            group_a = np.random.choice(hist_data, size = sample_size_start)\n",
    "            group_b = np.random.choice(hist_data*(1+rel_effect), size = sample_size_start)\n",
    "            group_c = np.random.choice(hist_data*(1+rel_effect), size = sample_size_start)\n",
    "            group_d = np.random.choice(hist_data*(1+rel_effect), size = sample_size_start)\n",
    "            ab_t_stat, ab_p_value = ttest_ind(group_a, group_b)\n",
    "            ac_t_stat, ac_p_value = ttest_ind(group_a, group_c)\n",
    "            ad_t_stat, ad_p_value = ttest_ind(group_a, group_d)\n",
    "            p_value_list.append((ab_p_value, ac_p_value, ad_p_value))\n",
    " \n",
    "        tp = np.logical_and.reduce([np.array(p_value_list)[:, 0] < alpha, np.array(p_value_list)[:, 1] < alpha, np.array(p_value_list)[:, 2] < alpha])\n",
    " \n",
    "        # coorecting p-value\n",
    "        hypothesys = []\n",
    "        for i in range(len(p_value_list)):\n",
    "            hypothesys.append(multipletests(p_value_list[i], alpha = 0.05, method = method)[0])\n",
    "        tp_corrected =  np.logical_and.reduce([np.array(hypothesys)[:,0], np.array(hypothesys)[:,1], np.array(hypothesys)[:,2]])\n",
    " \n",
    "        power_value = tp.mean()\n",
    "        power_value_corrected = tp_corrected.mean()\n",
    "        power_value_list.append(power_value)\n",
    "        power_value_corrected_list.append(power_value_corrected)\n",
    "        sample_size_list.append(sample_size_start)\n",
    "        #print(i, sample_size_start, power_value)\n",
    "        if power_value_corrected > power_set + 0.05:\n",
    "            break\n",
    "        else:\n",
    "            sample_size_start += sample_size_step\n",
    " \n",
    "    # calculating sample size\n",
    "    non_corrected_power = power_value_list[np.argmax(np.array(power_value_list) >= 0.8)]\n",
    "    corrected_power = power_value_corrected_list[np.argmax(np.array(power_value_corrected_list) >= 0.8)]\n",
    "    non_corrected_sample_size = sample_size_list[np.argmax(np.array(power_value_list) >= 0.8)]\n",
    "    corrected_sample_size = sample_size_list[np.argmax(np.array(power_value_corrected_list) >= 0.8)]\n",
    " \n",
    "    # plotting results\n",
    "    if plot: \n",
    "        plt.figure(figsize = (16, 8))\n",
    "        sns.lineplot(x= sample_size_list, y = power_value_list, label = 'Non corrected power')\n",
    "        sns.lineplot(x= sample_size_list, y = power_value_corrected_list, label = 'Corrected power')\n",
    "        plt.axhline(y = 0.8, linestyle  = '--', color = 'red')\n",
    "        plt.axvline(x = non_corrected_sample_size, linestyle  = '--', color = 'red')\n",
    "        plt.axvline(x = corrected_sample_size, linestyle  = '--', color = 'blue')\n",
    " \n",
    "        plt.text(x = round(non_corrected_sample_size*0.98),\n",
    "                 y = np.quantile(power_value_list, 0.3),\n",
    "                 s = 'Sample size without correction ~ {}'.format(non_corrected_sample_size),\n",
    "                rotation = 'vertical',\n",
    "                color = 'red')\n",
    "        plt.text(x = round(corrected_sample_size*0.98),\n",
    "                 y = np.quantile(power_value_list, 0.3),\n",
    "                 s = 'Sample size with multiple testing correction ~ {}'.format(corrected_sample_size),\n",
    "                rotation = 'vertical',\n",
    "                color = 'blue')\n",
    " \n",
    "    return_object = {'non_corrected sample_size': non_corrected_sample_size,\n",
    "                     'corrected sample size': corrected_sample_size,\n",
    "                    'non corrected power':non_corrected_power,\n",
    "                    'corrected power':corrected_power }\n",
    " \n",
    "    return(return_object)"
   ]
  },
  {
   "cell_type": "code",
   "execution_count": 39,
   "id": "450fc3dd-c571-4d5f-a27e-d8056cfe42d7",
   "metadata": {},
   "outputs": [
    {
     "name": "stdout",
     "output_type": "stream",
     "text": [
      "Len of primary data = 99285\n",
      "Mean =  588.7163619882158 Std =  6493.196516441093\n",
      "Effect size =  0.018133329570345115\n",
      "T-test without correction sample size = 47741\n",
      "Sample size after multiple tests correction = 69000\n"
     ]
    },
    {
     "data": {
      "image/png": "[encoded data removed]",
      "text/plain": [
       "<Figure size 1152x576 with 1 Axes>"
      ]
     },
     "metadata": {
      "needs_background": "light"
     },
     "output_type": "display_data"
    }
   ],
   "source": [
    "# our data\n",
    "values_A = data_df[data_df['group'] == 'A'].sort_values('passport_id').money\n",
    "\n",
    "# let's find the starting point (sample size for a simple A/B test)\n",
    "print('Len of primary data =', len(values_A))\n",
    "mean = values_A.mean()\n",
    "std = values_A.std()\n",
    "print('Mean = ', mean, 'Std = ', std)\n",
    "rel_effect = 0.2\n",
    "effect_size = mean*rel_effect / std\n",
    "print('Effect size = ', effect_size)\n",
    "sample_size = round(tt_ind_solve_power(effect_size=effect_size, alpha=0.05, power=0.8, nobs1=None, alternative = 'two-sided'))#\n",
    "print('T-test without correction sample size =', sample_size)\n",
    " \n",
    "# running our function to determine sample size after correction\n",
    "np.random.seed(1)\n",
    "object = find_multi_tt_sample_size(hist_data=values_A,\n",
    "                                   n_sim=200,\n",
    "                                   sample_size_start=int(round(sample_size, -4)),\n",
    "                                   rel_effect=0.2,\n",
    "                                   sample_size_step=1000, \n",
    "                                   power_set=0.8,\n",
    "                                   plot = True,\n",
    "                                   method = 'holm')\n",
    " \n",
    "print('Sample size after multiple tests correction =', object['corrected sample size'])"
   ]
  },
  {
   "cell_type": "code",
   "execution_count": null,
   "id": "8403fb0b-b8c4-4943-86d5-c7cf57c55dbd",
   "metadata": {},
   "outputs": [],
   "source": []
  }
 ],
 "metadata": {
  "kernelspec": {
   "display_name": "Python 3 (ipykernel)",
   "language": "python",
   "name": "python3"
  },
  "language_info": {
   "codemirror_mode": {
    "name": "ipython",
    "version": 3
   },
   "file_extension": ".py",
   "mimetype": "text/x-python",
   "name": "python",
   "nbconvert_exporter": "python",
   "pygments_lexer": "ipython3",
   "version": "3.8.10"
  }
 },
 "nbformat": 4,
 "nbformat_minor": 5
}
