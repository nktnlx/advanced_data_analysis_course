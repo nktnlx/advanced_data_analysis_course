{
 "cells": [
  {
   "cell_type": "markdown",
   "id": "e23e1516-6e75-4e85-bf5b-0011204c6bf9",
   "metadata": {},
   "source": [
    "# Multiple Comparisons"
   ]
  },
  {
   "cell_type": "markdown",
   "id": "8ad67dba-80ad-46c5-ade5-7ce6464e9f6c",
   "metadata": {},
   "source": [
    "## Import libraries"
   ]
  },
  {
   "cell_type": "code",
   "execution_count": 1,
   "id": "4d138bda-888f-421e-9184-ea5185bc2b5d",
   "metadata": {},
   "outputs": [],
   "source": [
    "import pandas as pd"
   ]
  },
  {
   "cell_type": "code",
   "execution_count": 2,
   "id": "2334cf3f-1411-46f9-9d6c-4b776c786b87",
   "metadata": {},
   "outputs": [
    {
     "name": "stdout",
     "output_type": "stream",
     "text": [
      "(datetime.date(2022, 2, 1), datetime.date(2022, 1, 31), 'android', 'f7411212fd0e2523e126cbfdd3f226c211212', '4beb10e1-aeeb-4c52-acd2-ce1ddbc1fc24b10e1', 22, 11, 3, 0, 0, 0, 2, 2, 0, 0, 0, 0, 0, 0)\n"
     ]
    }
   ],
   "source": [
    "from clickhouse_driver import Client\n",
    "\n",
    "\n",
    "user_name = 'hardda_student_a.nikitin-8'\n",
    "pwd = '0ddbfab04207297e7de7f96e697814e152de44e69f9fd4d8d5bdbb6b6107518a'\n",
    "\n",
    "# creating connection ClickHouse\n",
    "client = Client(host='clickhouse.lab.karpov.courses', port=9000,\n",
    "                user=user_name, password=pwd, database='hardda')\n",
    "\n",
    "# checking connection\n",
    "result = client.execute(\"SELECT * FROM hardda.user_dm_events LIMIT 1\")\n",
    "\n",
    "# showing the result\n",
    "for row in result[0:1]:\n",
    "    print(row)"
   ]
  },
  {
   "cell_type": "markdown",
   "id": "b6e6fc11-f7c5-4ada-a6de-eda65591c0aa",
   "metadata": {},
   "source": [
    "## Tasks"
   ]
  },
  {
   "cell_type": "markdown",
   "id": "7c334d62-e699-49c4-bb27-367395721dfd",
   "metadata": {},
   "source": [
    "### Task 1."
   ]
  },
  {
   "cell_type": "markdown",
   "id": "dcb63d57-d2f7-4948-9b43-92b2ac608650",
   "metadata": {},
   "source": [
    " **Enter the average ARPU per user for the entire dataset in the field below with one decimal place. Use a period to separate the integer and fractional parts.**"
   ]
  },
  {
   "cell_type": "markdown",
   "id": "83a30469-ba39-43de-9845-3cc23b13f87a",
   "metadata": {},
   "source": [
    "At first let's check columns names of the data we have in our database. "
   ]
  },
  {
   "cell_type": "code",
   "execution_count": 3,
   "id": "4425b954-fa31-4fce-8d0c-c874629489b1",
   "metadata": {},
   "outputs": [],
   "source": [
    "query = '''\n",
    "DESCRIBE TABLE live_adverts\n",
    "'''"
   ]
  },
  {
   "cell_type": "code",
   "execution_count": 4,
   "id": "d2051a90-7f46-4731-a54a-1e09e8ae41b4",
   "metadata": {},
   "outputs": [
    {
     "data": {
      "text/plain": [
       "[('execution_date', 'Date32', '', '', '', 'DoubleDelta', ''),\n",
       " ('advert_id', 'UInt64', '', '', '', 'T64', ''),\n",
       " ('created_at', 'DateTime', '', '', '', 'DoubleDelta', ''),\n",
       " ('price', 'UInt64', '', '', '', 'Gorilla', ''),\n",
       " ('region', 'LowCardinality(String)', '', '', '', '', ''),\n",
       " ('user_id', 'UInt32', '', '', '', 'T64', ''),\n",
       " ('platform', 'LowCardinality(String)', '', '', '', '', ''),\n",
       " ('auto_brand', 'LowCardinality(String)', '', '', '', '', ''),\n",
       " ('auto_model', 'LowCardinality(String)', '', '', '', '', ''),\n",
       " ('passport_id', 'UInt32', '', '', '', 'T64', ''),\n",
       " ('year', 'LowCardinality(String)', '', '', '', '', ''),\n",
       " ('userType', 'UInt8', '', '', '', 'T64', '')]"
      ]
     },
     "execution_count": 4,
     "metadata": {},
     "output_type": "execute_result"
    }
   ],
   "source": [
    "result = client.execute(query)\n",
    "result"
   ]
  },
  {
   "cell_type": "code",
   "execution_count": 5,
   "id": "1a18a0f8-1ce3-4a3f-82cd-7f47b50ebfb2",
   "metadata": {},
   "outputs": [],
   "source": [
    "query = '''\n",
    "DESCRIBE TABLE user_transactions\n",
    "'''"
   ]
  },
  {
   "cell_type": "code",
   "execution_count": 6,
   "id": "d804e41a-03f9-479f-9d51-c717cae71f45",
   "metadata": {},
   "outputs": [
    {
     "data": {
      "text/plain": [
       "[('payment_date', 'Date', '', '', '', '', ''),\n",
       " ('id', 'Int32', '', '', '', '', ''),\n",
       " ('type', 'String', '', '', '', '', ''),\n",
       " ('sign', 'Int32', '', '', '', '', ''),\n",
       " ('amount', 'Int32', '', '', '', '', ''),\n",
       " ('tstamp', 'DateTime', '', '', '', '', ''),\n",
       " ('advert_id', 'Int32', '', '', '', '', ''),\n",
       " ('passport_id', 'Int32', '', '', '', '', ''),\n",
       " ('balance_consumption', 'Int32', '', '', '', '', '')]"
      ]
     },
     "execution_count": 6,
     "metadata": {},
     "output_type": "execute_result"
    }
   ],
   "source": [
    "result = client.execute(query)\n",
    "result"
   ]
  },
  {
   "cell_type": "markdown",
   "id": "43c22099-9842-4bf7-a559-df57091c66bf",
   "metadata": {},
   "source": [
    "Now when we know the structure of the tables we can join the data to get a dataframe we need to solve the task. "
   ]
  },
  {
   "cell_type": "code",
   "execution_count": 7,
   "id": "00bb6ec2-1b71-4c7e-8eb5-7a644f9187e5",
   "metadata": {},
   "outputs": [],
   "source": [
    "query = '''\n",
    "SELECT\n",
    "  CAST(la.passport_id AS String) AS passport_id,\n",
    "  SUM(CASE WHEN ut.sign = -1 AND ut.amount < 0 THEN ut.balance_consumption END) AS money\n",
    "FROM\n",
    "  live_adverts la\n",
    "LEFT JOIN\n",
    "  user_transactions ut\n",
    "    ON CAST(ut.advert_id AS String) = CAST(la.advert_id AS String)\n",
    "      AND la.execution_date = ut.payment_date\n",
    "WHERE\n",
    "  la.execution_date BETWEEN '2022-01-01' AND '2022-02-28'\n",
    "GROUP BY\n",
    "  CAST(la.passport_id AS String)\n",
    "'''"
   ]
  },
  {
   "cell_type": "code",
   "execution_count": 8,
   "id": "3772dc8d-6f7f-4d00-8050-d7b20a9d49fc",
   "metadata": {},
   "outputs": [],
   "source": [
    "result = client.execute(query)"
   ]
  },
  {
   "cell_type": "code",
   "execution_count": 9,
   "id": "af0949db-fea1-4e3a-b83f-544e4d78055f",
   "metadata": {},
   "outputs": [],
   "source": [
    "df = pd.DataFrame(result, columns=['passport_id', 'money'])"
   ]
  },
  {
   "cell_type": "code",
   "execution_count": 10,
   "id": "073cbc8f-263a-49cc-929b-6eac9b374198",
   "metadata": {},
   "outputs": [
    {
     "data": {
      "text/html": [
       "<div>\n",
       "<style scoped>\n",
       "    .dataframe tbody tr th:only-of-type {\n",
       "        vertical-align: middle;\n",
       "    }\n",
       "\n",
       "    .dataframe tbody tr th {\n",
       "        vertical-align: top;\n",
       "    }\n",
       "\n",
       "    .dataframe thead th {\n",
       "        text-align: right;\n",
       "    }\n",
       "</style>\n",
       "<table border=\"1\" class=\"dataframe\">\n",
       "  <thead>\n",
       "    <tr style=\"text-align: right;\">\n",
       "      <th></th>\n",
       "      <th>passport_id</th>\n",
       "      <th>money</th>\n",
       "    </tr>\n",
       "  </thead>\n",
       "  <tbody>\n",
       "    <tr>\n",
       "      <th>359467</th>\n",
       "      <td>133533745</td>\n",
       "      <td>300.0</td>\n",
       "    </tr>\n",
       "    <tr>\n",
       "      <th>271567</th>\n",
       "      <td>138652538</td>\n",
       "      <td>NaN</td>\n",
       "    </tr>\n",
       "    <tr>\n",
       "      <th>248774</th>\n",
       "      <td>125427304</td>\n",
       "      <td>175.0</td>\n",
       "    </tr>\n",
       "    <tr>\n",
       "      <th>342832</th>\n",
       "      <td>136610359</td>\n",
       "      <td>NaN</td>\n",
       "    </tr>\n",
       "    <tr>\n",
       "      <th>2786</th>\n",
       "      <td>140540955</td>\n",
       "      <td>NaN</td>\n",
       "    </tr>\n",
       "  </tbody>\n",
       "</table>\n",
       "</div>"
      ],
      "text/plain": [
       "       passport_id  money\n",
       "359467   133533745  300.0\n",
       "271567   138652538    NaN\n",
       "248774   125427304  175.0\n",
       "342832   136610359    NaN\n",
       "2786     140540955    NaN"
      ]
     },
     "execution_count": 10,
     "metadata": {},
     "output_type": "execute_result"
    }
   ],
   "source": [
    "df.sample(5)"
   ]
  },
  {
   "cell_type": "markdown",
   "id": "45e7ea62-bd9c-4279-8608-a85d417fd94e",
   "metadata": {},
   "source": [
    "Let's fill the zero-spending clients with 0 instead of NaNs. "
   ]
  },
  {
   "cell_type": "code",
   "execution_count": 11,
   "id": "bb2dfddd-32de-485b-95cd-dfd1899f392c",
   "metadata": {},
   "outputs": [],
   "source": [
    "df.fillna(0, inplace=True)"
   ]
  },
  {
   "cell_type": "code",
   "execution_count": 12,
   "id": "e23ae086-1abf-4ca0-a18c-8edd8beeb6f1",
   "metadata": {},
   "outputs": [
    {
     "data": {
      "text/plain": [
       "398500"
      ]
     },
     "execution_count": 12,
     "metadata": {},
     "output_type": "execute_result"
    }
   ],
   "source": [
    "df.shape[0]"
   ]
  },
  {
   "cell_type": "code",
   "execution_count": 13,
   "id": "ee71c9f5-b5a3-4f2e-9300-8efe00543133",
   "metadata": {},
   "outputs": [
    {
     "data": {
      "text/plain": [
       "398500"
      ]
     },
     "execution_count": 13,
     "metadata": {},
     "output_type": "execute_result"
    }
   ],
   "source": [
    "df.passport_id.nunique()"
   ]
  },
  {
   "cell_type": "code",
   "execution_count": 14,
   "id": "83ca5e95-45f9-42fa-8da4-47d01df3db01",
   "metadata": {},
   "outputs": [
    {
     "data": {
      "text/html": [
       "<div>\n",
       "<style scoped>\n",
       "    .dataframe tbody tr th:only-of-type {\n",
       "        vertical-align: middle;\n",
       "    }\n",
       "\n",
       "    .dataframe tbody tr th {\n",
       "        vertical-align: top;\n",
       "    }\n",
       "\n",
       "    .dataframe thead th {\n",
       "        text-align: right;\n",
       "    }\n",
       "</style>\n",
       "<table border=\"1\" class=\"dataframe\">\n",
       "  <thead>\n",
       "    <tr style=\"text-align: right;\">\n",
       "      <th></th>\n",
       "      <th>passport_id</th>\n",
       "      <th>money</th>\n",
       "    </tr>\n",
       "  </thead>\n",
       "  <tbody>\n",
       "    <tr>\n",
       "      <th>371629</th>\n",
       "      <td>143082644</td>\n",
       "      <td>0.0</td>\n",
       "    </tr>\n",
       "    <tr>\n",
       "      <th>46689</th>\n",
       "      <td>133807891</td>\n",
       "      <td>0.0</td>\n",
       "    </tr>\n",
       "    <tr>\n",
       "      <th>338929</th>\n",
       "      <td>138348788</td>\n",
       "      <td>175.0</td>\n",
       "    </tr>\n",
       "    <tr>\n",
       "      <th>290563</th>\n",
       "      <td>142416614</td>\n",
       "      <td>0.0</td>\n",
       "    </tr>\n",
       "    <tr>\n",
       "      <th>170722</th>\n",
       "      <td>140369663</td>\n",
       "      <td>0.0</td>\n",
       "    </tr>\n",
       "  </tbody>\n",
       "</table>\n",
       "</div>"
      ],
      "text/plain": [
       "       passport_id  money\n",
       "371629   143082644    0.0\n",
       "46689    133807891    0.0\n",
       "338929   138348788  175.0\n",
       "290563   142416614    0.0\n",
       "170722   140369663    0.0"
      ]
     },
     "execution_count": 14,
     "metadata": {},
     "output_type": "execute_result"
    }
   ],
   "source": [
    "df.sample(5)"
   ]
  },
  {
   "cell_type": "code",
   "execution_count": 15,
   "id": "51cceb97-6b2c-4db2-95d6-04a6894351d9",
   "metadata": {},
   "outputs": [
    {
     "name": "stdout",
     "output_type": "stream",
     "text": [
      "<class 'pandas.core.frame.DataFrame'>\n",
      "RangeIndex: 398500 entries, 0 to 398499\n",
      "Data columns (total 2 columns):\n",
      " #   Column       Non-Null Count   Dtype  \n",
      "---  ------       --------------   -----  \n",
      " 0   passport_id  398500 non-null  object \n",
      " 1   money        398500 non-null  float64\n",
      "dtypes: float64(1), object(1)\n",
      "memory usage: 6.1+ MB\n"
     ]
    }
   ],
   "source": [
    "df.info()"
   ]
  },
  {
   "cell_type": "markdown",
   "id": "df9fe36d-e838-4892-b62c-0dcdf48110e1",
   "metadata": {},
   "source": [
    "Loading experiment groups assignment data. "
   ]
  },
  {
   "cell_type": "code",
   "execution_count": 16,
   "id": "aa1a2664-f040-4372-9a7d-a0912368d54d",
   "metadata": {},
   "outputs": [],
   "source": [
    "groups_df = pd.read_csv('user_groups.csv', dtype={'passport_id': 'string'})"
   ]
  },
  {
   "cell_type": "code",
   "execution_count": 17,
   "id": "b1272775-f0a8-43e3-902a-a910353cabd1",
   "metadata": {},
   "outputs": [
    {
     "data": {
      "text/plain": [
       "398500"
      ]
     },
     "execution_count": 17,
     "metadata": {},
     "output_type": "execute_result"
    }
   ],
   "source": [
    "groups_df.passport_id.nunique()"
   ]
  },
  {
   "cell_type": "code",
   "execution_count": 18,
   "id": "b34ba352-848e-401e-8c39-e3289cfc8133",
   "metadata": {},
   "outputs": [
    {
     "data": {
      "text/html": [
       "<div>\n",
       "<style scoped>\n",
       "    .dataframe tbody tr th:only-of-type {\n",
       "        vertical-align: middle;\n",
       "    }\n",
       "\n",
       "    .dataframe tbody tr th {\n",
       "        vertical-align: top;\n",
       "    }\n",
       "\n",
       "    .dataframe thead th {\n",
       "        text-align: right;\n",
       "    }\n",
       "</style>\n",
       "<table border=\"1\" class=\"dataframe\">\n",
       "  <thead>\n",
       "    <tr style=\"text-align: right;\">\n",
       "      <th></th>\n",
       "      <th>Unnamed: 0</th>\n",
       "      <th>passport_id</th>\n",
       "      <th>group</th>\n",
       "    </tr>\n",
       "  </thead>\n",
       "  <tbody>\n",
       "    <tr>\n",
       "      <th>36291</th>\n",
       "      <td>36291</td>\n",
       "      <td>124526673</td>\n",
       "      <td>C</td>\n",
       "    </tr>\n",
       "    <tr>\n",
       "      <th>91713</th>\n",
       "      <td>91713</td>\n",
       "      <td>132173885</td>\n",
       "      <td>B</td>\n",
       "    </tr>\n",
       "    <tr>\n",
       "      <th>102957</th>\n",
       "      <td>102957</td>\n",
       "      <td>132672722</td>\n",
       "      <td>C</td>\n",
       "    </tr>\n",
       "    <tr>\n",
       "      <th>123092</th>\n",
       "      <td>123092</td>\n",
       "      <td>133194927</td>\n",
       "      <td>B</td>\n",
       "    </tr>\n",
       "    <tr>\n",
       "      <th>169896</th>\n",
       "      <td>169896</td>\n",
       "      <td>134473823</td>\n",
       "      <td>D</td>\n",
       "    </tr>\n",
       "  </tbody>\n",
       "</table>\n",
       "</div>"
      ],
      "text/plain": [
       "        Unnamed: 0 passport_id group\n",
       "36291        36291   124526673     C\n",
       "91713        91713   132173885     B\n",
       "102957      102957   132672722     C\n",
       "123092      123092   133194927     B\n",
       "169896      169896   134473823     D"
      ]
     },
     "execution_count": 18,
     "metadata": {},
     "output_type": "execute_result"
    }
   ],
   "source": [
    "groups_df.sample(5)"
   ]
  },
  {
   "cell_type": "code",
   "execution_count": 19,
   "id": "d63b4c7a-1671-4c95-897c-62eaffe8a62f",
   "metadata": {},
   "outputs": [
    {
     "name": "stdout",
     "output_type": "stream",
     "text": [
      "<class 'pandas.core.frame.DataFrame'>\n",
      "RangeIndex: 398500 entries, 0 to 398499\n",
      "Data columns (total 3 columns):\n",
      " #   Column       Non-Null Count   Dtype \n",
      "---  ------       --------------   ----- \n",
      " 0   Unnamed: 0   398500 non-null  int64 \n",
      " 1   passport_id  398500 non-null  string\n",
      " 2   group        398500 non-null  object\n",
      "dtypes: int64(1), object(1), string(1)\n",
      "memory usage: 9.1+ MB\n"
     ]
    }
   ],
   "source": [
    "groups_df.info()"
   ]
  },
  {
   "cell_type": "markdown",
   "id": "52c38124-9853-4169-a7e3-163cde827764",
   "metadata": {},
   "source": [
    "Merging clients spending data with experiment groups assignment data. "
   ]
  },
  {
   "cell_type": "code",
   "execution_count": 20,
   "id": "4be1a126-302f-4a98-a827-7876af7adc24",
   "metadata": {},
   "outputs": [],
   "source": [
    "data_df = pd.merge(df, groups_df[['passport_id', 'group']], how='inner', on='passport_id')"
   ]
  },
  {
   "cell_type": "code",
   "execution_count": 21,
   "id": "6295b3ad-bb75-4c8f-a77b-ee37993a3067",
   "metadata": {},
   "outputs": [
    {
     "data": {
      "text/html": [
       "<div>\n",
       "<style scoped>\n",
       "    .dataframe tbody tr th:only-of-type {\n",
       "        vertical-align: middle;\n",
       "    }\n",
       "\n",
       "    .dataframe tbody tr th {\n",
       "        vertical-align: top;\n",
       "    }\n",
       "\n",
       "    .dataframe thead th {\n",
       "        text-align: right;\n",
       "    }\n",
       "</style>\n",
       "<table border=\"1\" class=\"dataframe\">\n",
       "  <thead>\n",
       "    <tr style=\"text-align: right;\">\n",
       "      <th></th>\n",
       "      <th>passport_id</th>\n",
       "      <th>money</th>\n",
       "      <th>group</th>\n",
       "    </tr>\n",
       "  </thead>\n",
       "  <tbody>\n",
       "    <tr>\n",
       "      <th>0</th>\n",
       "      <td>135655985</td>\n",
       "      <td>510.0</td>\n",
       "      <td>C</td>\n",
       "    </tr>\n",
       "    <tr>\n",
       "      <th>1</th>\n",
       "      <td>141737421</td>\n",
       "      <td>0.0</td>\n",
       "      <td>C</td>\n",
       "    </tr>\n",
       "    <tr>\n",
       "      <th>2</th>\n",
       "      <td>131999151</td>\n",
       "      <td>1650.0</td>\n",
       "      <td>A</td>\n",
       "    </tr>\n",
       "    <tr>\n",
       "      <th>3</th>\n",
       "      <td>134776715</td>\n",
       "      <td>175.0</td>\n",
       "      <td>A</td>\n",
       "    </tr>\n",
       "    <tr>\n",
       "      <th>4</th>\n",
       "      <td>129001315</td>\n",
       "      <td>0.0</td>\n",
       "      <td>D</td>\n",
       "    </tr>\n",
       "    <tr>\n",
       "      <th>...</th>\n",
       "      <td>...</td>\n",
       "      <td>...</td>\n",
       "      <td>...</td>\n",
       "    </tr>\n",
       "    <tr>\n",
       "      <th>398495</th>\n",
       "      <td>143024622</td>\n",
       "      <td>3971.0</td>\n",
       "      <td>D</td>\n",
       "    </tr>\n",
       "    <tr>\n",
       "      <th>398496</th>\n",
       "      <td>126984117</td>\n",
       "      <td>0.0</td>\n",
       "      <td>B</td>\n",
       "    </tr>\n",
       "    <tr>\n",
       "      <th>398497</th>\n",
       "      <td>138809936</td>\n",
       "      <td>330.0</td>\n",
       "      <td>D</td>\n",
       "    </tr>\n",
       "    <tr>\n",
       "      <th>398498</th>\n",
       "      <td>137173421</td>\n",
       "      <td>430.0</td>\n",
       "      <td>D</td>\n",
       "    </tr>\n",
       "    <tr>\n",
       "      <th>398499</th>\n",
       "      <td>135582083</td>\n",
       "      <td>780.0</td>\n",
       "      <td>D</td>\n",
       "    </tr>\n",
       "  </tbody>\n",
       "</table>\n",
       "<p>398500 rows × 3 columns</p>\n",
       "</div>"
      ],
      "text/plain": [
       "       passport_id   money group\n",
       "0        135655985   510.0     C\n",
       "1        141737421     0.0     C\n",
       "2        131999151  1650.0     A\n",
       "3        134776715   175.0     A\n",
       "4        129001315     0.0     D\n",
       "...            ...     ...   ...\n",
       "398495   143024622  3971.0     D\n",
       "398496   126984117     0.0     B\n",
       "398497   138809936   330.0     D\n",
       "398498   137173421   430.0     D\n",
       "398499   135582083   780.0     D\n",
       "\n",
       "[398500 rows x 3 columns]"
      ]
     },
     "execution_count": 21,
     "metadata": {},
     "output_type": "execute_result"
    }
   ],
   "source": [
    "data_df"
   ]
  },
  {
   "cell_type": "code",
   "execution_count": 22,
   "id": "6a1d2892-21f8-48f2-8082-368e3201d0ca",
   "metadata": {},
   "outputs": [
    {
     "name": "stdout",
     "output_type": "stream",
     "text": [
      "<class 'pandas.core.frame.DataFrame'>\n",
      "Int64Index: 398500 entries, 0 to 398499\n",
      "Data columns (total 3 columns):\n",
      " #   Column       Non-Null Count   Dtype  \n",
      "---  ------       --------------   -----  \n",
      " 0   passport_id  398500 non-null  object \n",
      " 1   money        398500 non-null  float64\n",
      " 2   group        398500 non-null  object \n",
      "dtypes: float64(1), object(2)\n",
      "memory usage: 12.2+ MB\n"
     ]
    }
   ],
   "source": [
    "data_df.info()"
   ]
  },
  {
   "cell_type": "markdown",
   "id": "f0592350-b846-4916-a4b9-80c611dd27b1",
   "metadata": {},
   "source": [
    "Getting an answer to our question."
   ]
  },
  {
   "cell_type": "code",
   "execution_count": 23,
   "id": "6811c4b4-8011-4f97-ba66-6e3daf69f83f",
   "metadata": {},
   "outputs": [
    {
     "name": "stdout",
     "output_type": "stream",
     "text": [
      "ARPU: 568.3\n"
     ]
    }
   ],
   "source": [
    "print(f'ARPU: {round(data_df.money.mean(), 1)}')"
   ]
  },
  {
   "cell_type": "markdown",
   "id": "92137d74-b31f-4aba-a1b5-d9164be17f5b",
   "metadata": {},
   "source": [
    "### Task 2.  "
   ]
  },
  {
   "cell_type": "markdown",
   "id": "830049b9-f37d-4c47-82b3-0e95d7db9ed3",
   "metadata": {},
   "source": [
    "tbc.."
   ]
  },
  {
   "cell_type": "code",
   "execution_count": null,
   "id": "2bd6dd10-91da-4056-a552-3a531022c1b5",
   "metadata": {},
   "outputs": [],
   "source": []
  },
  {
   "cell_type": "code",
   "execution_count": null,
   "id": "5d07b50c-f9f6-472c-983f-46bb8c3c1dd6",
   "metadata": {},
   "outputs": [],
   "source": []
  },
  {
   "cell_type": "code",
   "execution_count": null,
   "id": "7ea20ecb-f841-49d2-86f4-a630f5f031af",
   "metadata": {},
   "outputs": [],
   "source": []
  },
  {
   "cell_type": "code",
   "execution_count": null,
   "id": "1bb52b7d-af2a-4b38-8a14-7782e702da49",
   "metadata": {},
   "outputs": [],
   "source": []
  },
  {
   "cell_type": "code",
   "execution_count": null,
   "id": "5e7bfd96-dbce-4898-90f3-2ff8f70f69fd",
   "metadata": {},
   "outputs": [],
   "source": []
  },
  {
   "cell_type": "code",
   "execution_count": null,
   "id": "3848f6f3-296f-4afa-bce0-cde9cb4729aa",
   "metadata": {},
   "outputs": [],
   "source": []
  },
  {
   "cell_type": "code",
   "execution_count": null,
   "id": "862edfea-fbaa-42e5-aaa3-672bb827ca06",
   "metadata": {},
   "outputs": [],
   "source": []
  },
  {
   "cell_type": "code",
   "execution_count": null,
   "id": "c803d2c6-205f-4640-8d0c-e57ff1853635",
   "metadata": {},
   "outputs": [],
   "source": []
  },
  {
   "cell_type": "code",
   "execution_count": null,
   "id": "198b3169-a8e3-4a10-8f7a-481c130fae57",
   "metadata": {},
   "outputs": [],
   "source": []
  },
  {
   "cell_type": "code",
   "execution_count": null,
   "id": "23b51470-178c-4020-8819-d1ab691b59fd",
   "metadata": {},
   "outputs": [],
   "source": []
  },
  {
   "cell_type": "code",
   "execution_count": null,
   "id": "79b057ca-5509-4deb-b724-6adb3cc33501",
   "metadata": {},
   "outputs": [],
   "source": []
  },
  {
   "cell_type": "code",
   "execution_count": null,
   "id": "05e31fd0-b696-4eb1-83e4-ca4f82b3f009",
   "metadata": {},
   "outputs": [],
   "source": []
  },
  {
   "cell_type": "code",
   "execution_count": null,
   "id": "5d45d438-9cc9-4b07-876f-34638f974895",
   "metadata": {},
   "outputs": [],
   "source": []
  },
  {
   "cell_type": "code",
   "execution_count": null,
   "id": "fd5eedba-865a-4b1b-9c5f-b769a0d09fa3",
   "metadata": {},
   "outputs": [],
   "source": []
  },
  {
   "cell_type": "code",
   "execution_count": null,
   "id": "f616a1cf-30ae-4e46-bbc5-e2ed89733f22",
   "metadata": {},
   "outputs": [],
   "source": []
  },
  {
   "cell_type": "code",
   "execution_count": null,
   "id": "803fd12e-27b5-4095-a28d-bbc82cf31250",
   "metadata": {},
   "outputs": [],
   "source": []
  }
 ],
 "metadata": {
  "kernelspec": {
   "display_name": "Python 3 (ipykernel)",
   "language": "python",
   "name": "python3"
  },
  "language_info": {
   "codemirror_mode": {
    "name": "ipython",
    "version": 3
   },
   "file_extension": ".py",
   "mimetype": "text/x-python",
   "name": "python",
   "nbconvert_exporter": "python",
   "pygments_lexer": "ipython3",
   "version": "3.8.10"
  }
 },
 "nbformat": 4,
 "nbformat_minor": 5
}
