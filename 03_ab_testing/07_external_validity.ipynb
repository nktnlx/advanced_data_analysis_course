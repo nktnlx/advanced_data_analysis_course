{
 "cells": [
  {
   "cell_type": "markdown",
   "id": "e23e1516-6e75-4e85-bf5b-0011204c6bf9",
   "metadata": {},
   "source": [
    "# External Validity"
   ]
  },
  {
   "cell_type": "markdown",
   "id": "8ad67dba-80ad-46c5-ade5-7ce6464e9f6c",
   "metadata": {},
   "source": [
    "## Import libraries"
   ]
  },
  {
   "cell_type": "code",
   "execution_count": 1,
   "id": "eedf8d00-2a94-4b30-b631-e690ebec36f4",
   "metadata": {},
   "outputs": [],
   "source": [
    "#!pip install statsmodels"
   ]
  },
  {
   "cell_type": "code",
   "execution_count": 2,
   "id": "919e58fc-163a-4d36-89f5-db1a8569eacb",
   "metadata": {},
   "outputs": [],
   "source": [
    "#!pip install matplotlib seaborn"
   ]
  },
  {
   "cell_type": "code",
   "execution_count": 3,
   "id": "4d138bda-888f-421e-9184-ea5185bc2b5d",
   "metadata": {},
   "outputs": [],
   "source": [
    "import pandas as pd\n",
    "import matplotlib.pyplot as plt\n",
    "import seaborn as sns\n",
    "\n",
    "from statsmodels.stats.proportion import proportions_ztest"
   ]
  },
  {
   "cell_type": "markdown",
   "id": "b6e6fc11-f7c5-4ada-a6de-eda65591c0aa",
   "metadata": {},
   "source": [
    "## Tasks"
   ]
  },
  {
   "cell_type": "markdown",
   "id": "4f9b6561-85ff-4ac5-b506-7d6802b1367d",
   "metadata": {},
   "source": [
    "### Primacy Effect"
   ]
  },
  {
   "cell_type": "markdown",
   "id": "7c334d62-e699-49c4-bb27-367395721dfd",
   "metadata": {},
   "source": [
    "#### Task 1."
   ]
  },
  {
   "cell_type": "markdown",
   "id": "dcb63d57-d2f7-4948-9b43-92b2ac608650",
   "metadata": {},
   "source": [
    " **What is the conversion difference in group A and group B?**"
   ]
  },
  {
   "cell_type": "code",
   "execution_count": 4,
   "id": "f263ecde-a293-4721-8076-8fba20a47c8d",
   "metadata": {},
   "outputs": [],
   "source": [
    "df = pd.read_csv('external_validity_homework_2.csv',\n",
    "                 parse_dates=['date_in_app', 'first_date_in_app'])"
   ]
  },
  {
   "cell_type": "code",
   "execution_count": 5,
   "id": "c92da706-3d9b-4fa3-94a1-3541ebb60545",
   "metadata": {},
   "outputs": [
    {
     "data": {
      "text/html": [
       "<div>\n",
       "<style scoped>\n",
       "    .dataframe tbody tr th:only-of-type {\n",
       "        vertical-align: middle;\n",
       "    }\n",
       "\n",
       "    .dataframe tbody tr th {\n",
       "        vertical-align: top;\n",
       "    }\n",
       "\n",
       "    .dataframe thead th {\n",
       "        text-align: right;\n",
       "    }\n",
       "</style>\n",
       "<table border=\"1\" class=\"dataframe\">\n",
       "  <thead>\n",
       "    <tr style=\"text-align: right;\">\n",
       "      <th></th>\n",
       "      <th>user_id</th>\n",
       "      <th>sample_type</th>\n",
       "      <th>date_in_app</th>\n",
       "      <th>first_date_in_app</th>\n",
       "      <th>day_of_test</th>\n",
       "      <th>conv_to_contact_daily</th>\n",
       "    </tr>\n",
       "  </thead>\n",
       "  <tbody>\n",
       "    <tr>\n",
       "      <th>0</th>\n",
       "      <td>00018D9EB5E146AA8B578E427AEC323A</td>\n",
       "      <td>A</td>\n",
       "      <td>2023-07-02</td>\n",
       "      <td>2023-07-02</td>\n",
       "      <td>22</td>\n",
       "      <td>0</td>\n",
       "    </tr>\n",
       "    <tr>\n",
       "      <th>1</th>\n",
       "      <td>00018D9EB5E146AA8B578E427AEC323A</td>\n",
       "      <td>A</td>\n",
       "      <td>2023-07-06</td>\n",
       "      <td>2023-07-02</td>\n",
       "      <td>26</td>\n",
       "      <td>0</td>\n",
       "    </tr>\n",
       "    <tr>\n",
       "      <th>2</th>\n",
       "      <td>00018D9EB5E146AA8B578E427AEC323A</td>\n",
       "      <td>A</td>\n",
       "      <td>2023-07-08</td>\n",
       "      <td>2023-07-02</td>\n",
       "      <td>28</td>\n",
       "      <td>0</td>\n",
       "    </tr>\n",
       "    <tr>\n",
       "      <th>3</th>\n",
       "      <td>00018D9EB5E146AA8B578E427AEC323A</td>\n",
       "      <td>A</td>\n",
       "      <td>2023-07-09</td>\n",
       "      <td>2023-07-02</td>\n",
       "      <td>29</td>\n",
       "      <td>0</td>\n",
       "    </tr>\n",
       "    <tr>\n",
       "      <th>4</th>\n",
       "      <td>00027C4F85D64F4A81E95ECCCA1634FE</td>\n",
       "      <td>B</td>\n",
       "      <td>2023-06-14</td>\n",
       "      <td>2023-06-14</td>\n",
       "      <td>4</td>\n",
       "      <td>0</td>\n",
       "    </tr>\n",
       "    <tr>\n",
       "      <th>...</th>\n",
       "      <td>...</td>\n",
       "      <td>...</td>\n",
       "      <td>...</td>\n",
       "      <td>...</td>\n",
       "      <td>...</td>\n",
       "      <td>...</td>\n",
       "    </tr>\n",
       "    <tr>\n",
       "      <th>713951</th>\n",
       "      <td>FFFE37BB811E410F9617079E4F74CB8A</td>\n",
       "      <td>A</td>\n",
       "      <td>2023-07-04</td>\n",
       "      <td>2023-06-28</td>\n",
       "      <td>24</td>\n",
       "      <td>1</td>\n",
       "    </tr>\n",
       "    <tr>\n",
       "      <th>713952</th>\n",
       "      <td>FFFE37BB811E410F9617079E4F74CB8A</td>\n",
       "      <td>A</td>\n",
       "      <td>2023-07-03</td>\n",
       "      <td>2023-06-28</td>\n",
       "      <td>23</td>\n",
       "      <td>1</td>\n",
       "    </tr>\n",
       "    <tr>\n",
       "      <th>713953</th>\n",
       "      <td>FFFE37BB811E410F9617079E4F74CB8A</td>\n",
       "      <td>A</td>\n",
       "      <td>2023-07-05</td>\n",
       "      <td>2023-06-28</td>\n",
       "      <td>25</td>\n",
       "      <td>1</td>\n",
       "    </tr>\n",
       "    <tr>\n",
       "      <th>713954</th>\n",
       "      <td>FFFE37BB811E410F9617079E4F74CB8A</td>\n",
       "      <td>A</td>\n",
       "      <td>2023-07-08</td>\n",
       "      <td>2023-06-28</td>\n",
       "      <td>28</td>\n",
       "      <td>1</td>\n",
       "    </tr>\n",
       "    <tr>\n",
       "      <th>713955</th>\n",
       "      <td>FFFEECC3E3D14EE79BC876F79F7E0A5F</td>\n",
       "      <td>A</td>\n",
       "      <td>2023-07-07</td>\n",
       "      <td>2023-07-07</td>\n",
       "      <td>27</td>\n",
       "      <td>0</td>\n",
       "    </tr>\n",
       "  </tbody>\n",
       "</table>\n",
       "<p>713956 rows × 6 columns</p>\n",
       "</div>"
      ],
      "text/plain": [
       "                                 user_id sample_type date_in_app  \\\n",
       "0       00018D9EB5E146AA8B578E427AEC323A           A  2023-07-02   \n",
       "1       00018D9EB5E146AA8B578E427AEC323A           A  2023-07-06   \n",
       "2       00018D9EB5E146AA8B578E427AEC323A           A  2023-07-08   \n",
       "3       00018D9EB5E146AA8B578E427AEC323A           A  2023-07-09   \n",
       "4       00027C4F85D64F4A81E95ECCCA1634FE           B  2023-06-14   \n",
       "...                                  ...         ...         ...   \n",
       "713951  FFFE37BB811E410F9617079E4F74CB8A           A  2023-07-04   \n",
       "713952  FFFE37BB811E410F9617079E4F74CB8A           A  2023-07-03   \n",
       "713953  FFFE37BB811E410F9617079E4F74CB8A           A  2023-07-05   \n",
       "713954  FFFE37BB811E410F9617079E4F74CB8A           A  2023-07-08   \n",
       "713955  FFFEECC3E3D14EE79BC876F79F7E0A5F           A  2023-07-07   \n",
       "\n",
       "       first_date_in_app  day_of_test  conv_to_contact_daily  \n",
       "0             2023-07-02           22                      0  \n",
       "1             2023-07-02           26                      0  \n",
       "2             2023-07-02           28                      0  \n",
       "3             2023-07-02           29                      0  \n",
       "4             2023-06-14            4                      0  \n",
       "...                  ...          ...                    ...  \n",
       "713951        2023-06-28           24                      1  \n",
       "713952        2023-06-28           23                      1  \n",
       "713953        2023-06-28           25                      1  \n",
       "713954        2023-06-28           28                      1  \n",
       "713955        2023-07-07           27                      0  \n",
       "\n",
       "[713956 rows x 6 columns]"
      ]
     },
     "execution_count": 5,
     "metadata": {},
     "output_type": "execute_result"
    }
   ],
   "source": [
    "df"
   ]
  },
  {
   "cell_type": "code",
   "execution_count": 6,
   "id": "4f7ba7f7-0da8-4e1e-afcb-0ffa0d59304b",
   "metadata": {},
   "outputs": [
    {
     "name": "stdout",
     "output_type": "stream",
     "text": [
      "<class 'pandas.core.frame.DataFrame'>\n",
      "RangeIndex: 713956 entries, 0 to 713955\n",
      "Data columns (total 6 columns):\n",
      " #   Column                 Non-Null Count   Dtype         \n",
      "---  ------                 --------------   -----         \n",
      " 0   user_id                713956 non-null  object        \n",
      " 1   sample_type            713956 non-null  object        \n",
      " 2   date_in_app            713956 non-null  datetime64[ns]\n",
      " 3   first_date_in_app      713956 non-null  datetime64[ns]\n",
      " 4   day_of_test            713956 non-null  int64         \n",
      " 5   conv_to_contact_daily  713956 non-null  int64         \n",
      "dtypes: datetime64[ns](2), int64(2), object(2)\n",
      "memory usage: 32.7+ MB\n"
     ]
    }
   ],
   "source": [
    "df.info()"
   ]
  },
  {
   "cell_type": "code",
   "execution_count": 7,
   "id": "6ca770f3-741f-45ff-84a8-1dc110e0fba1",
   "metadata": {},
   "outputs": [
    {
     "data": {
      "text/plain": [
       "97041"
      ]
     },
     "execution_count": 7,
     "metadata": {},
     "output_type": "execute_result"
    }
   ],
   "source": [
    "df.user_id.nunique()"
   ]
  },
  {
   "cell_type": "code",
   "execution_count": 8,
   "id": "7dfbca7e-0c3e-4702-b095-b8d182c1a7cd",
   "metadata": {},
   "outputs": [],
   "source": [
    "df_exp = df.groupby(['user_id', 'sample_type'], as_index=False) \\\n",
    "    .agg({'conv_to_contact_daily': 'max'})"
   ]
  },
  {
   "cell_type": "code",
   "execution_count": 9,
   "id": "5e045de4-6400-4da6-b86d-de8a5ad475f2",
   "metadata": {},
   "outputs": [
    {
     "data": {
      "text/html": [
       "<div>\n",
       "<style scoped>\n",
       "    .dataframe tbody tr th:only-of-type {\n",
       "        vertical-align: middle;\n",
       "    }\n",
       "\n",
       "    .dataframe tbody tr th {\n",
       "        vertical-align: top;\n",
       "    }\n",
       "\n",
       "    .dataframe thead th {\n",
       "        text-align: right;\n",
       "    }\n",
       "</style>\n",
       "<table border=\"1\" class=\"dataframe\">\n",
       "  <thead>\n",
       "    <tr style=\"text-align: right;\">\n",
       "      <th></th>\n",
       "      <th>user_id</th>\n",
       "      <th>sample_type</th>\n",
       "      <th>conv_to_contact_daily</th>\n",
       "    </tr>\n",
       "  </thead>\n",
       "  <tbody>\n",
       "    <tr>\n",
       "      <th>0</th>\n",
       "      <td>00018D9EB5E146AA8B578E427AEC323A</td>\n",
       "      <td>A</td>\n",
       "      <td>0</td>\n",
       "    </tr>\n",
       "    <tr>\n",
       "      <th>1</th>\n",
       "      <td>00027C4F85D64F4A81E95ECCCA1634FE</td>\n",
       "      <td>B</td>\n",
       "      <td>0</td>\n",
       "    </tr>\n",
       "    <tr>\n",
       "      <th>2</th>\n",
       "      <td>000372E63801450086F7C385F3EFA844</td>\n",
       "      <td>B</td>\n",
       "      <td>1</td>\n",
       "    </tr>\n",
       "    <tr>\n",
       "      <th>3</th>\n",
       "      <td>0003A45019354C9C88F0D42D1C7DFB7C</td>\n",
       "      <td>B</td>\n",
       "      <td>1</td>\n",
       "    </tr>\n",
       "    <tr>\n",
       "      <th>4</th>\n",
       "      <td>0005769859DE4BFD9BB266A007231F2B</td>\n",
       "      <td>B</td>\n",
       "      <td>1</td>\n",
       "    </tr>\n",
       "    <tr>\n",
       "      <th>...</th>\n",
       "      <td>...</td>\n",
       "      <td>...</td>\n",
       "      <td>...</td>\n",
       "    </tr>\n",
       "    <tr>\n",
       "      <th>97036</th>\n",
       "      <td>FFFBDEC2FD98444CBDCA4E1F0028EB7B</td>\n",
       "      <td>A</td>\n",
       "      <td>0</td>\n",
       "    </tr>\n",
       "    <tr>\n",
       "      <th>97037</th>\n",
       "      <td>FFFCB6AE38FB4A9586735543F89C2704</td>\n",
       "      <td>A</td>\n",
       "      <td>1</td>\n",
       "    </tr>\n",
       "    <tr>\n",
       "      <th>97038</th>\n",
       "      <td>FFFCD3187A434DAE9F81984043CEE349</td>\n",
       "      <td>A</td>\n",
       "      <td>0</td>\n",
       "    </tr>\n",
       "    <tr>\n",
       "      <th>97039</th>\n",
       "      <td>FFFE37BB811E410F9617079E4F74CB8A</td>\n",
       "      <td>A</td>\n",
       "      <td>1</td>\n",
       "    </tr>\n",
       "    <tr>\n",
       "      <th>97040</th>\n",
       "      <td>FFFEECC3E3D14EE79BC876F79F7E0A5F</td>\n",
       "      <td>A</td>\n",
       "      <td>0</td>\n",
       "    </tr>\n",
       "  </tbody>\n",
       "</table>\n",
       "<p>97041 rows × 3 columns</p>\n",
       "</div>"
      ],
      "text/plain": [
       "                                user_id sample_type  conv_to_contact_daily\n",
       "0      00018D9EB5E146AA8B578E427AEC323A           A                      0\n",
       "1      00027C4F85D64F4A81E95ECCCA1634FE           B                      0\n",
       "2      000372E63801450086F7C385F3EFA844           B                      1\n",
       "3      0003A45019354C9C88F0D42D1C7DFB7C           B                      1\n",
       "4      0005769859DE4BFD9BB266A007231F2B           B                      1\n",
       "...                                 ...         ...                    ...\n",
       "97036  FFFBDEC2FD98444CBDCA4E1F0028EB7B           A                      0\n",
       "97037  FFFCB6AE38FB4A9586735543F89C2704           A                      1\n",
       "97038  FFFCD3187A434DAE9F81984043CEE349           A                      0\n",
       "97039  FFFE37BB811E410F9617079E4F74CB8A           A                      1\n",
       "97040  FFFEECC3E3D14EE79BC876F79F7E0A5F           A                      0\n",
       "\n",
       "[97041 rows x 3 columns]"
      ]
     },
     "execution_count": 9,
     "metadata": {},
     "output_type": "execute_result"
    }
   ],
   "source": [
    "df_exp"
   ]
  },
  {
   "cell_type": "code",
   "execution_count": 10,
   "id": "243a6b60-a529-4267-b27a-b092768a0fe7",
   "metadata": {},
   "outputs": [
    {
     "data": {
      "text/plain": [
       "A    48750\n",
       "B    48291\n",
       "Name: sample_type, dtype: int64"
      ]
     },
     "execution_count": 10,
     "metadata": {},
     "output_type": "execute_result"
    }
   ],
   "source": [
    "df_exp.sample_type.value_counts()"
   ]
  },
  {
   "cell_type": "code",
   "execution_count": 11,
   "id": "ae640263-518c-40d0-96a1-7fc05d0dd737",
   "metadata": {},
   "outputs": [
    {
     "data": {
      "text/html": [
       "<div>\n",
       "<style scoped>\n",
       "    .dataframe tbody tr th:only-of-type {\n",
       "        vertical-align: middle;\n",
       "    }\n",
       "\n",
       "    .dataframe tbody tr th {\n",
       "        vertical-align: top;\n",
       "    }\n",
       "\n",
       "    .dataframe thead th {\n",
       "        text-align: right;\n",
       "    }\n",
       "</style>\n",
       "<table border=\"1\" class=\"dataframe\">\n",
       "  <thead>\n",
       "    <tr style=\"text-align: right;\">\n",
       "      <th></th>\n",
       "      <th>sample_type</th>\n",
       "      <th>conv_to_contact_daily</th>\n",
       "    </tr>\n",
       "  </thead>\n",
       "  <tbody>\n",
       "    <tr>\n",
       "      <th>0</th>\n",
       "      <td>A</td>\n",
       "      <td>0.878626</td>\n",
       "    </tr>\n",
       "    <tr>\n",
       "      <th>1</th>\n",
       "      <td>B</td>\n",
       "      <td>0.864799</td>\n",
       "    </tr>\n",
       "  </tbody>\n",
       "</table>\n",
       "</div>"
      ],
      "text/plain": [
       "  sample_type  conv_to_contact_daily\n",
       "0           A               0.878626\n",
       "1           B               0.864799"
      ]
     },
     "execution_count": 11,
     "metadata": {},
     "output_type": "execute_result"
    }
   ],
   "source": [
    "conv_res = df_exp.groupby('sample_type', as_index=False).agg({'conv_to_contact_daily': 'mean'})\n",
    "\n",
    "conv_res"
   ]
  },
  {
   "cell_type": "code",
   "execution_count": 12,
   "id": "6811c4b4-8011-4f97-ba66-6e3daf69f83f",
   "metadata": {},
   "outputs": [
    {
     "data": {
      "text/plain": [
       "-0.01382681722824608"
      ]
     },
     "execution_count": 12,
     "metadata": {},
     "output_type": "execute_result"
    }
   ],
   "source": [
    "conv_res.conv_to_contact_daily[1] - conv_res.conv_to_contact_daily[0]"
   ]
  },
  {
   "cell_type": "markdown",
   "id": "92137d74-b31f-4aba-a1b5-d9164be17f5b",
   "metadata": {},
   "source": [
    "#### Task 2.  "
   ]
  },
  {
   "cell_type": "markdown",
   "id": "830049b9-f37d-4c47-82b3-0e95d7db9ed3",
   "metadata": {},
   "source": [
    "**Check the proportion in each group using a two-tailed z-test for proportion. And specify the z-statistic obtained in the test.** "
   ]
  },
  {
   "cell_type": "code",
   "execution_count": 13,
   "id": "76782534-4fef-486d-9ac6-03f55166536f",
   "metadata": {},
   "outputs": [],
   "source": [
    "grp_a = df_exp[df_exp['sample_type'] == 'A'].conv_to_contact_daily\n",
    "grp_b = df_exp[df_exp['sample_type'] == 'B'].conv_to_contact_daily"
   ]
  },
  {
   "cell_type": "code",
   "execution_count": 14,
   "id": "67204861-7384-4a8d-9d7d-1716109a46ef",
   "metadata": {},
   "outputs": [
    {
     "data": {
      "text/plain": [
       "6.440699209685541"
      ]
     },
     "execution_count": 14,
     "metadata": {},
     "output_type": "execute_result"
    }
   ],
   "source": [
    "count = [sum([x for x in grp_a if x > 0]), sum([x for x in grp_b if x > 0])]\n",
    "nobs = [len(grp_a), len(grp_b)]\n",
    "\n",
    "proportions_ztest(count, nobs)[0]"
   ]
  },
  {
   "cell_type": "markdown",
   "id": "6cf94e10-2a9b-4ab9-929d-858de8ce875b",
   "metadata": {},
   "source": [
    "#### Task 3. "
   ]
  },
  {
   "cell_type": "markdown",
   "id": "a92b908a-9905-4287-b083-4b1954baf890",
   "metadata": {},
   "source": [
    "**Can we reject H0 if alpha = 0.05?**"
   ]
  },
  {
   "cell_type": "code",
   "execution_count": 15,
   "id": "2a645e4f-6b24-447c-8056-b59ab7df20ee",
   "metadata": {},
   "outputs": [
    {
     "name": "stdout",
     "output_type": "stream",
     "text": [
      "Yes, we can reject H0!\n"
     ]
    }
   ],
   "source": [
    "if proportions_ztest(count, nobs)[1] < 0.05:\n",
    "    print('Yes, we can reject H0!')\n",
    "else:\n",
    "    print('We are not able to reject H0.')"
   ]
  },
  {
   "cell_type": "markdown",
   "id": "affc0c80-0c47-4710-bafd-7419662b7109",
   "metadata": {},
   "source": [
    "#### Task 4. "
   ]
  },
  {
   "cell_type": "markdown",
   "id": "06487704-edb2-443a-a946-6d91ba6894e2",
   "metadata": {},
   "source": [
    "**We have to check if there is a primacy effect on our data.**"
   ]
  },
  {
   "cell_type": "code",
   "execution_count": 16,
   "id": "cef65b70-f480-41fd-b6c4-d063117aea85",
   "metadata": {},
   "outputs": [],
   "source": [
    "df['ret_day'] = df['date_in_app'] - df['first_date_in_app']"
   ]
  },
  {
   "cell_type": "code",
   "execution_count": 17,
   "id": "4d06135e-c4a3-4300-ae6f-bf2588b14352",
   "metadata": {},
   "outputs": [],
   "source": [
    "df['ret_day'] = df['ret_day'].dt.days"
   ]
  },
  {
   "cell_type": "code",
   "execution_count": 18,
   "id": "cccc835a-9c33-4e2c-9a79-24743670bb11",
   "metadata": {},
   "outputs": [],
   "source": [
    "df['user_type'] = pd.cut(df['ret_day'], bins=[-1, 3, 1000], labels=['new', 'old'])"
   ]
  },
  {
   "cell_type": "code",
   "execution_count": 19,
   "id": "0e863dec-f712-4b01-9c22-47eb070f2e8b",
   "metadata": {},
   "outputs": [],
   "source": [
    "to_plot = df.groupby(['day_of_test', 'sample_type', 'user_type'], as_index=False) \\\n",
    "    .agg({'conv_to_contact_daily': 'mean'})"
   ]
  },
  {
   "cell_type": "code",
   "execution_count": 20,
   "id": "1ba13e45-e1de-4177-807a-f21524d37fa0",
   "metadata": {},
   "outputs": [
    {
     "data": {
      "text/html": [
       "<div>\n",
       "<style scoped>\n",
       "    .dataframe tbody tr th:only-of-type {\n",
       "        vertical-align: middle;\n",
       "    }\n",
       "\n",
       "    .dataframe tbody tr th {\n",
       "        vertical-align: top;\n",
       "    }\n",
       "\n",
       "    .dataframe thead th {\n",
       "        text-align: right;\n",
       "    }\n",
       "</style>\n",
       "<table border=\"1\" class=\"dataframe\">\n",
       "  <thead>\n",
       "    <tr style=\"text-align: right;\">\n",
       "      <th></th>\n",
       "      <th>day_of_test</th>\n",
       "      <th>sample_type</th>\n",
       "      <th>user_type</th>\n",
       "      <th>conv_to_contact_daily</th>\n",
       "      <th>user_cat</th>\n",
       "    </tr>\n",
       "  </thead>\n",
       "  <tbody>\n",
       "    <tr>\n",
       "      <th>0</th>\n",
       "      <td>0</td>\n",
       "      <td>A</td>\n",
       "      <td>new</td>\n",
       "      <td>0.756906</td>\n",
       "      <td>A - new</td>\n",
       "    </tr>\n",
       "    <tr>\n",
       "      <th>1</th>\n",
       "      <td>0</td>\n",
       "      <td>A</td>\n",
       "      <td>old</td>\n",
       "      <td>0.800440</td>\n",
       "      <td>A - old</td>\n",
       "    </tr>\n",
       "    <tr>\n",
       "      <th>2</th>\n",
       "      <td>0</td>\n",
       "      <td>B</td>\n",
       "      <td>new</td>\n",
       "      <td>0.732095</td>\n",
       "      <td>B - new</td>\n",
       "    </tr>\n",
       "    <tr>\n",
       "      <th>3</th>\n",
       "      <td>0</td>\n",
       "      <td>B</td>\n",
       "      <td>old</td>\n",
       "      <td>0.355282</td>\n",
       "      <td>B - old</td>\n",
       "    </tr>\n",
       "    <tr>\n",
       "      <th>4</th>\n",
       "      <td>1</td>\n",
       "      <td>A</td>\n",
       "      <td>new</td>\n",
       "      <td>0.729223</td>\n",
       "      <td>A - new</td>\n",
       "    </tr>\n",
       "    <tr>\n",
       "      <th>...</th>\n",
       "      <td>...</td>\n",
       "      <td>...</td>\n",
       "      <td>...</td>\n",
       "      <td>...</td>\n",
       "      <td>...</td>\n",
       "    </tr>\n",
       "    <tr>\n",
       "      <th>115</th>\n",
       "      <td>28</td>\n",
       "      <td>B</td>\n",
       "      <td>old</td>\n",
       "      <td>0.797143</td>\n",
       "      <td>B - old</td>\n",
       "    </tr>\n",
       "    <tr>\n",
       "      <th>116</th>\n",
       "      <td>29</td>\n",
       "      <td>A</td>\n",
       "      <td>new</td>\n",
       "      <td>0.743386</td>\n",
       "      <td>A - new</td>\n",
       "    </tr>\n",
       "    <tr>\n",
       "      <th>117</th>\n",
       "      <td>29</td>\n",
       "      <td>A</td>\n",
       "      <td>old</td>\n",
       "      <td>0.828243</td>\n",
       "      <td>A - old</td>\n",
       "    </tr>\n",
       "    <tr>\n",
       "      <th>118</th>\n",
       "      <td>29</td>\n",
       "      <td>B</td>\n",
       "      <td>new</td>\n",
       "      <td>0.787709</td>\n",
       "      <td>B - new</td>\n",
       "    </tr>\n",
       "    <tr>\n",
       "      <th>119</th>\n",
       "      <td>29</td>\n",
       "      <td>B</td>\n",
       "      <td>old</td>\n",
       "      <td>0.815030</td>\n",
       "      <td>B - old</td>\n",
       "    </tr>\n",
       "  </tbody>\n",
       "</table>\n",
       "<p>120 rows × 5 columns</p>\n",
       "</div>"
      ],
      "text/plain": [
       "     day_of_test sample_type user_type  conv_to_contact_daily user_cat\n",
       "0              0           A       new               0.756906  A - new\n",
       "1              0           A       old               0.800440  A - old\n",
       "2              0           B       new               0.732095  B - new\n",
       "3              0           B       old               0.355282  B - old\n",
       "4              1           A       new               0.729223  A - new\n",
       "..           ...         ...       ...                    ...      ...\n",
       "115           28           B       old               0.797143  B - old\n",
       "116           29           A       new               0.743386  A - new\n",
       "117           29           A       old               0.828243  A - old\n",
       "118           29           B       new               0.787709  B - new\n",
       "119           29           B       old               0.815030  B - old\n",
       "\n",
       "[120 rows x 5 columns]"
      ]
     },
     "execution_count": 20,
     "metadata": {},
     "output_type": "execute_result"
    }
   ],
   "source": [
    "to_plot['user_cat'] = to_plot['sample_type'].str.cat(to_plot['user_type'], sep=' - ')\n",
    "\n",
    "to_plot"
   ]
  },
  {
   "cell_type": "code",
   "execution_count": 21,
   "id": "66171aeb-2e63-45be-b522-50b09c3a9535",
   "metadata": {},
   "outputs": [
    {
     "data": {
      "image/png": "[encoded data removed]",
      "text/plain": [
       "<Figure size 1152x720 with 1 Axes>"
      ]
     },
     "metadata": {
      "needs_background": "light"
     },
     "output_type": "display_data"
    }
   ],
   "source": [
    "plt.figure(figsize=(16,10))\n",
    "\n",
    "sns.lineplot(data=to_plot, x='day_of_test', y='conv_to_contact_daily', hue='user_cat')\n",
    "plt.title('Checking for primacy effect.');\n"
   ]
  },
  {
   "cell_type": "markdown",
   "id": "eeb29c7c-2c11-4b92-b854-485de9afee40",
   "metadata": {},
   "source": [
    "There is a primacy effect based on what we can see on the graph above. "
   ]
  },
  {
   "cell_type": "markdown",
   "id": "e6a2de7e-9ad4-40bd-9608-d25aa692a1a5",
   "metadata": {},
   "source": [
    "#### Task 5. "
   ]
  },
  {
   "cell_type": "markdown",
   "id": "fb307829-3b63-416e-aca7-1e2c0b5326b2",
   "metadata": {},
   "source": [
    "**Calculate the average daily share of new users by test days (what share of new users are in the daily traffic on average for the test period)**"
   ]
  },
  {
   "cell_type": "code",
   "execution_count": 22,
   "id": "f04d0936-80d7-4968-94e4-18ff6b207654",
   "metadata": {},
   "outputs": [
    {
     "data": {
      "text/html": [
       "<div>\n",
       "<style scoped>\n",
       "    .dataframe tbody tr th:only-of-type {\n",
       "        vertical-align: middle;\n",
       "    }\n",
       "\n",
       "    .dataframe tbody tr th {\n",
       "        vertical-align: top;\n",
       "    }\n",
       "\n",
       "    .dataframe thead th {\n",
       "        text-align: right;\n",
       "    }\n",
       "</style>\n",
       "<table border=\"1\" class=\"dataframe\">\n",
       "  <thead>\n",
       "    <tr style=\"text-align: right;\">\n",
       "      <th></th>\n",
       "      <th>day_of_test</th>\n",
       "      <th>user_type</th>\n",
       "      <th>user_id</th>\n",
       "    </tr>\n",
       "  </thead>\n",
       "  <tbody>\n",
       "    <tr>\n",
       "      <th>0</th>\n",
       "      <td>0</td>\n",
       "      <td>new</td>\n",
       "      <td>739</td>\n",
       "    </tr>\n",
       "    <tr>\n",
       "      <th>1</th>\n",
       "      <td>0</td>\n",
       "      <td>old</td>\n",
       "      <td>20714</td>\n",
       "    </tr>\n",
       "    <tr>\n",
       "      <th>2</th>\n",
       "      <td>1</td>\n",
       "      <td>new</td>\n",
       "      <td>715</td>\n",
       "    </tr>\n",
       "    <tr>\n",
       "      <th>3</th>\n",
       "      <td>1</td>\n",
       "      <td>old</td>\n",
       "      <td>22552</td>\n",
       "    </tr>\n",
       "    <tr>\n",
       "      <th>4</th>\n",
       "      <td>2</td>\n",
       "      <td>new</td>\n",
       "      <td>789</td>\n",
       "    </tr>\n",
       "    <tr>\n",
       "      <th>5</th>\n",
       "      <td>2</td>\n",
       "      <td>old</td>\n",
       "      <td>22743</td>\n",
       "    </tr>\n",
       "  </tbody>\n",
       "</table>\n",
       "</div>"
      ],
      "text/plain": [
       "   day_of_test user_type  user_id\n",
       "0            0       new      739\n",
       "1            0       old    20714\n",
       "2            1       new      715\n",
       "3            1       old    22552\n",
       "4            2       new      789\n",
       "5            2       old    22743"
      ]
     },
     "execution_count": 22,
     "metadata": {},
     "output_type": "execute_result"
    }
   ],
   "source": [
    "new_day_rate_df = df.groupby(['day_of_test', 'user_type'], as_index=False).agg({'user_id': 'count'})\n",
    "\n",
    "new_day_rate_df.head(6)"
   ]
  },
  {
   "cell_type": "code",
   "execution_count": 23,
   "id": "d789e5d4-70d9-4e29-bd7e-d7660c30b307",
   "metadata": {},
   "outputs": [
    {
     "data": {
      "text/plain": [
       "0.032877969036562114"
      ]
     },
     "execution_count": 23,
     "metadata": {},
     "output_type": "execute_result"
    }
   ],
   "source": [
    "days = new_day_rate_df.day_of_test.unique().tolist()\n",
    "new_cnt_lst = []\n",
    "\n",
    "for day in days:\n",
    "    temp_df = new_day_rate_df[new_day_rate_df['day_of_test'] == day]\n",
    "    new_cnt = temp_df.user_id.values[0]\n",
    "    all_cnt = temp_df.user_id.values[0] + temp_df.user_id.values[1]\n",
    "    new_cnt_lst.append(new_cnt / all_cnt)\n",
    "    \n",
    "    \n",
    "pd.DataFrame({'day_of_test': days,\n",
    "              'new_rate': new_cnt_lst}).new_rate.mean()"
   ]
  },
  {
   "cell_type": "markdown",
   "id": "979d072d-56df-481f-ad56-86c357d2838a",
   "metadata": {},
   "source": [
    "#### Task 6. "
   ]
  },
  {
   "cell_type": "markdown",
   "id": "6eb1fb62-1c69-4dcb-9d4a-f550216f2a0d",
   "metadata": {},
   "source": [
    "**What is the absolute value of the difference in effects between the \"old\" group and the new group on the 3rd day of the test (day_of_test == 2)?**"
   ]
  },
  {
   "cell_type": "code",
   "execution_count": 24,
   "id": "ad89a83c-0a69-4ccb-b71d-1a30adaede97",
   "metadata": {},
   "outputs": [
    {
     "data": {
      "text/html": [
       "<div>\n",
       "<style scoped>\n",
       "    .dataframe tbody tr th:only-of-type {\n",
       "        vertical-align: middle;\n",
       "    }\n",
       "\n",
       "    .dataframe tbody tr th {\n",
       "        vertical-align: top;\n",
       "    }\n",
       "\n",
       "    .dataframe thead th {\n",
       "        text-align: right;\n",
       "    }\n",
       "</style>\n",
       "<table border=\"1\" class=\"dataframe\">\n",
       "  <thead>\n",
       "    <tr style=\"text-align: right;\">\n",
       "      <th></th>\n",
       "      <th>user_type</th>\n",
       "      <th>conv_to_contact_daily</th>\n",
       "    </tr>\n",
       "  </thead>\n",
       "  <tbody>\n",
       "    <tr>\n",
       "      <th>0</th>\n",
       "      <td>new</td>\n",
       "      <td>0.779841</td>\n",
       "    </tr>\n",
       "    <tr>\n",
       "      <th>1</th>\n",
       "      <td>old</td>\n",
       "      <td>0.652813</td>\n",
       "    </tr>\n",
       "  </tbody>\n",
       "</table>\n",
       "</div>"
      ],
      "text/plain": [
       "  user_type  conv_to_contact_daily\n",
       "0       new               0.779841\n",
       "1       old               0.652813"
      ]
     },
     "execution_count": 24,
     "metadata": {},
     "output_type": "execute_result"
    }
   ],
   "source": [
    "day_3_dif = df[(df['day_of_test'] == 2) & (df['sample_type'] == 'B')] \\\n",
    "    .groupby('user_type', as_index=False) \\\n",
    "    .agg({'conv_to_contact_daily': 'mean'})\n",
    "\n",
    "day_3_dif"
   ]
  },
  {
   "cell_type": "code",
   "execution_count": 25,
   "id": "52b658d1-e951-489b-925c-c64b64dcc42c",
   "metadata": {},
   "outputs": [
    {
     "data": {
      "text/plain": [
       "0.1270273795994542"
      ]
     },
     "execution_count": 25,
     "metadata": {},
     "output_type": "execute_result"
    }
   ],
   "source": [
    "day_3_dif.conv_to_contact_daily[0] - day_3_dif.conv_to_contact_daily[1]\n"
   ]
  },
  {
   "cell_type": "markdown",
   "id": "64030431-01ef-460d-ae15-d66afe627f34",
   "metadata": {},
   "source": [
    "#### Task 7. "
   ]
  },
  {
   "cell_type": "markdown",
   "id": "708dd3e8-5ddc-4402-a84c-cb83d2491b74",
   "metadata": {},
   "source": [
    "**Calculate on what day of the test the difference in effects between the \"new\" group and the \"old\" group of users first becomes negative.**"
   ]
  },
  {
   "cell_type": "code",
   "execution_count": 26,
   "id": "be5cd205-6afd-4deb-bec0-4adebd1c3a1a",
   "metadata": {},
   "outputs": [
    {
     "data": {
      "text/html": [
       "<div>\n",
       "<style scoped>\n",
       "    .dataframe tbody tr th:only-of-type {\n",
       "        vertical-align: middle;\n",
       "    }\n",
       "\n",
       "    .dataframe tbody tr th {\n",
       "        vertical-align: top;\n",
       "    }\n",
       "\n",
       "    .dataframe thead th {\n",
       "        text-align: right;\n",
       "    }\n",
       "</style>\n",
       "<table border=\"1\" class=\"dataframe\">\n",
       "  <thead>\n",
       "    <tr style=\"text-align: right;\">\n",
       "      <th></th>\n",
       "      <th>day_of_test</th>\n",
       "      <th>user_type</th>\n",
       "      <th>conv_to_contact_daily</th>\n",
       "    </tr>\n",
       "  </thead>\n",
       "  <tbody>\n",
       "    <tr>\n",
       "      <th>0</th>\n",
       "      <td>0</td>\n",
       "      <td>new</td>\n",
       "      <td>0.732095</td>\n",
       "    </tr>\n",
       "    <tr>\n",
       "      <th>1</th>\n",
       "      <td>0</td>\n",
       "      <td>old</td>\n",
       "      <td>0.355282</td>\n",
       "    </tr>\n",
       "    <tr>\n",
       "      <th>2</th>\n",
       "      <td>1</td>\n",
       "      <td>new</td>\n",
       "      <td>0.736842</td>\n",
       "    </tr>\n",
       "    <tr>\n",
       "      <th>3</th>\n",
       "      <td>1</td>\n",
       "      <td>old</td>\n",
       "      <td>0.547685</td>\n",
       "    </tr>\n",
       "    <tr>\n",
       "      <th>4</th>\n",
       "      <td>2</td>\n",
       "      <td>new</td>\n",
       "      <td>0.779841</td>\n",
       "    </tr>\n",
       "    <tr>\n",
       "      <th>5</th>\n",
       "      <td>2</td>\n",
       "      <td>old</td>\n",
       "      <td>0.652813</td>\n",
       "    </tr>\n",
       "  </tbody>\n",
       "</table>\n",
       "</div>"
      ],
      "text/plain": [
       "   day_of_test user_type  conv_to_contact_daily\n",
       "0            0       new               0.732095\n",
       "1            0       old               0.355282\n",
       "2            1       new               0.736842\n",
       "3            1       old               0.547685\n",
       "4            2       new               0.779841\n",
       "5            2       old               0.652813"
      ]
     },
     "execution_count": 26,
     "metadata": {},
     "output_type": "execute_result"
    }
   ],
   "source": [
    "day_dif = df[df['sample_type'] == 'B'] \\\n",
    "    .groupby(['day_of_test', 'user_type'], as_index=False) \\\n",
    "    .agg({'conv_to_contact_daily': 'mean'})\n",
    "\n",
    "day_dif.head(6)"
   ]
  },
  {
   "cell_type": "code",
   "execution_count": 27,
   "id": "b3557da8-b7e0-493c-b5e0-6c0601c6e417",
   "metadata": {},
   "outputs": [
    {
     "name": "stdout",
     "output_type": "stream",
     "text": [
      "10\n"
     ]
    }
   ],
   "source": [
    "days = day_dif.day_of_test.unique().tolist()\n",
    "rate_dif_lst = []\n",
    "\n",
    "for day in days:\n",
    "    temp_df = day_dif[day_dif['day_of_test'] == day]\n",
    "    new_rate = temp_df.conv_to_contact_daily.values[0]\n",
    "    old_rate = temp_df.conv_to_contact_daily.values[1]\n",
    "    rate_dif_lst.append(new_rate - old_rate)\n",
    "    \n",
    "for i in range(len(rate_dif_lst)):\n",
    "    if rate_dif_lst[i] < 0:\n",
    "        print(i+1)\n",
    "        break"
   ]
  },
  {
   "cell_type": "markdown",
   "id": "149fe249-7892-44d4-acc5-36189951d258",
   "metadata": {},
   "source": [
    "### Novelty Effect "
   ]
  },
  {
   "cell_type": "markdown",
   "id": "52f173c6-1b1d-4167-9443-3c4031efbd99",
   "metadata": {},
   "source": [
    "#### Task 8. "
   ]
  },
  {
   "cell_type": "markdown",
   "id": "76c6d419-0090-466e-9cd0-b3e44e670297",
   "metadata": {},
   "source": [
    "tbc.."
   ]
  },
  {
   "cell_type": "code",
   "execution_count": null,
   "id": "1d3648fb-8829-4491-a9f9-fe0582958cfa",
   "metadata": {},
   "outputs": [],
   "source": []
  },
  {
   "cell_type": "code",
   "execution_count": null,
   "id": "64de41bf-34d4-4e15-823e-2a8a4d16c18b",
   "metadata": {},
   "outputs": [],
   "source": []
  },
  {
   "cell_type": "code",
   "execution_count": null,
   "id": "b59014d8-1df8-41a1-ad79-99c9e4c2442f",
   "metadata": {},
   "outputs": [],
   "source": []
  },
  {
   "cell_type": "code",
   "execution_count": null,
   "id": "8403fb0b-b8c4-4943-86d5-c7cf57c55dbd",
   "metadata": {},
   "outputs": [],
   "source": []
  }
 ],
 "metadata": {
  "kernelspec": {
   "display_name": "Python 3 (ipykernel)",
   "language": "python",
   "name": "python3"
  },
  "language_info": {
   "codemirror_mode": {
    "name": "ipython",
    "version": 3
   },
   "file_extension": ".py",
   "mimetype": "text/x-python",
   "name": "python",
   "nbconvert_exporter": "python",
   "pygments_lexer": "ipython3",
   "version": "3.8.10"
  }
 },
 "nbformat": 4,
 "nbformat_minor": 5
}
