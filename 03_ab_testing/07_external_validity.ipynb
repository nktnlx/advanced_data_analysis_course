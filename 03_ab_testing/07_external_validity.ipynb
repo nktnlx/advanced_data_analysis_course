{
 "cells": [
  {
   "cell_type": "markdown",
   "id": "e23e1516-6e75-4e85-bf5b-0011204c6bf9",
   "metadata": {},
   "source": [
    "# External Validity"
   ]
  },
  {
   "cell_type": "markdown",
   "id": "8ad67dba-80ad-46c5-ade5-7ce6464e9f6c",
   "metadata": {},
   "source": [
    "## Import libraries"
   ]
  },
  {
   "cell_type": "code",
   "execution_count": 1,
   "id": "eedf8d00-2a94-4b30-b631-e690ebec36f4",
   "metadata": {},
   "outputs": [],
   "source": [
    "#!pip install statsmodels"
   ]
  },
  {
   "cell_type": "code",
   "execution_count": 2,
   "id": "919e58fc-163a-4d36-89f5-db1a8569eacb",
   "metadata": {},
   "outputs": [],
   "source": [
    "#!pip install matplotlib seaborn"
   ]
  },
  {
   "cell_type": "code",
   "execution_count": 3,
   "id": "039b169a-2434-4bf3-98bf-c56924e95da0",
   "metadata": {},
   "outputs": [],
   "source": [
    "#!pip install scikit-learn"
   ]
  },
  {
   "cell_type": "code",
   "execution_count": 4,
   "id": "4d138bda-888f-421e-9184-ea5185bc2b5d",
   "metadata": {},
   "outputs": [],
   "source": [
    "import pandas as pd\n",
    "import matplotlib.pyplot as plt\n",
    "import seaborn as sns\n",
    "\n",
    "from statsmodels.stats.proportion import proportions_ztest\n",
    "\n",
    "from sklearn.linear_model import LinearRegression\n",
    "from sklearn.metrics import r2_score"
   ]
  },
  {
   "cell_type": "markdown",
   "id": "b6e6fc11-f7c5-4ada-a6de-eda65591c0aa",
   "metadata": {},
   "source": [
    "## Tasks"
   ]
  },
  {
   "cell_type": "markdown",
   "id": "4f9b6561-85ff-4ac5-b506-7d6802b1367d",
   "metadata": {},
   "source": [
    "### Primacy Effect"
   ]
  },
  {
   "cell_type": "markdown",
   "id": "7c334d62-e699-49c4-bb27-367395721dfd",
   "metadata": {},
   "source": [
    "#### Task 1."
   ]
  },
  {
   "cell_type": "markdown",
   "id": "dcb63d57-d2f7-4948-9b43-92b2ac608650",
   "metadata": {},
   "source": [
    " **What is the conversion difference in group A and group B?**"
   ]
  },
  {
   "cell_type": "code",
   "execution_count": 5,
   "id": "f263ecde-a293-4721-8076-8fba20a47c8d",
   "metadata": {},
   "outputs": [],
   "source": [
    "df = pd.read_csv('external_validity_homework_2.csv',\n",
    "                 parse_dates=['date_in_app', 'first_date_in_app'])"
   ]
  },
  {
   "cell_type": "code",
   "execution_count": 6,
   "id": "c92da706-3d9b-4fa3-94a1-3541ebb60545",
   "metadata": {},
   "outputs": [
    {
     "data": {
      "text/html": [
       "<div>\n",
       "<style scoped>\n",
       "    .dataframe tbody tr th:only-of-type {\n",
       "        vertical-align: middle;\n",
       "    }\n",
       "\n",
       "    .dataframe tbody tr th {\n",
       "        vertical-align: top;\n",
       "    }\n",
       "\n",
       "    .dataframe thead th {\n",
       "        text-align: right;\n",
       "    }\n",
       "</style>\n",
       "<table border=\"1\" class=\"dataframe\">\n",
       "  <thead>\n",
       "    <tr style=\"text-align: right;\">\n",
       "      <th></th>\n",
       "      <th>user_id</th>\n",
       "      <th>sample_type</th>\n",
       "      <th>date_in_app</th>\n",
       "      <th>first_date_in_app</th>\n",
       "      <th>day_of_test</th>\n",
       "      <th>conv_to_contact_daily</th>\n",
       "    </tr>\n",
       "  </thead>\n",
       "  <tbody>\n",
       "    <tr>\n",
       "      <th>0</th>\n",
       "      <td>00018D9EB5E146AA8B578E427AEC323A</td>\n",
       "      <td>A</td>\n",
       "      <td>2023-07-02</td>\n",
       "      <td>2023-07-02</td>\n",
       "      <td>22</td>\n",
       "      <td>0</td>\n",
       "    </tr>\n",
       "    <tr>\n",
       "      <th>1</th>\n",
       "      <td>00018D9EB5E146AA8B578E427AEC323A</td>\n",
       "      <td>A</td>\n",
       "      <td>2023-07-06</td>\n",
       "      <td>2023-07-02</td>\n",
       "      <td>26</td>\n",
       "      <td>0</td>\n",
       "    </tr>\n",
       "    <tr>\n",
       "      <th>2</th>\n",
       "      <td>00018D9EB5E146AA8B578E427AEC323A</td>\n",
       "      <td>A</td>\n",
       "      <td>2023-07-08</td>\n",
       "      <td>2023-07-02</td>\n",
       "      <td>28</td>\n",
       "      <td>0</td>\n",
       "    </tr>\n",
       "    <tr>\n",
       "      <th>3</th>\n",
       "      <td>00018D9EB5E146AA8B578E427AEC323A</td>\n",
       "      <td>A</td>\n",
       "      <td>2023-07-09</td>\n",
       "      <td>2023-07-02</td>\n",
       "      <td>29</td>\n",
       "      <td>0</td>\n",
       "    </tr>\n",
       "    <tr>\n",
       "      <th>4</th>\n",
       "      <td>00027C4F85D64F4A81E95ECCCA1634FE</td>\n",
       "      <td>B</td>\n",
       "      <td>2023-06-14</td>\n",
       "      <td>2023-06-14</td>\n",
       "      <td>4</td>\n",
       "      <td>0</td>\n",
       "    </tr>\n",
       "    <tr>\n",
       "      <th>...</th>\n",
       "      <td>...</td>\n",
       "      <td>...</td>\n",
       "      <td>...</td>\n",
       "      <td>...</td>\n",
       "      <td>...</td>\n",
       "      <td>...</td>\n",
       "    </tr>\n",
       "    <tr>\n",
       "      <th>713951</th>\n",
       "      <td>FFFE37BB811E410F9617079E4F74CB8A</td>\n",
       "      <td>A</td>\n",
       "      <td>2023-07-04</td>\n",
       "      <td>2023-06-28</td>\n",
       "      <td>24</td>\n",
       "      <td>1</td>\n",
       "    </tr>\n",
       "    <tr>\n",
       "      <th>713952</th>\n",
       "      <td>FFFE37BB811E410F9617079E4F74CB8A</td>\n",
       "      <td>A</td>\n",
       "      <td>2023-07-03</td>\n",
       "      <td>2023-06-28</td>\n",
       "      <td>23</td>\n",
       "      <td>1</td>\n",
       "    </tr>\n",
       "    <tr>\n",
       "      <th>713953</th>\n",
       "      <td>FFFE37BB811E410F9617079E4F74CB8A</td>\n",
       "      <td>A</td>\n",
       "      <td>2023-07-05</td>\n",
       "      <td>2023-06-28</td>\n",
       "      <td>25</td>\n",
       "      <td>1</td>\n",
       "    </tr>\n",
       "    <tr>\n",
       "      <th>713954</th>\n",
       "      <td>FFFE37BB811E410F9617079E4F74CB8A</td>\n",
       "      <td>A</td>\n",
       "      <td>2023-07-08</td>\n",
       "      <td>2023-06-28</td>\n",
       "      <td>28</td>\n",
       "      <td>1</td>\n",
       "    </tr>\n",
       "    <tr>\n",
       "      <th>713955</th>\n",
       "      <td>FFFEECC3E3D14EE79BC876F79F7E0A5F</td>\n",
       "      <td>A</td>\n",
       "      <td>2023-07-07</td>\n",
       "      <td>2023-07-07</td>\n",
       "      <td>27</td>\n",
       "      <td>0</td>\n",
       "    </tr>\n",
       "  </tbody>\n",
       "</table>\n",
       "<p>713956 rows × 6 columns</p>\n",
       "</div>"
      ],
      "text/plain": [
       "                                 user_id sample_type date_in_app  \\\n",
       "0       00018D9EB5E146AA8B578E427AEC323A           A  2023-07-02   \n",
       "1       00018D9EB5E146AA8B578E427AEC323A           A  2023-07-06   \n",
       "2       00018D9EB5E146AA8B578E427AEC323A           A  2023-07-08   \n",
       "3       00018D9EB5E146AA8B578E427AEC323A           A  2023-07-09   \n",
       "4       00027C4F85D64F4A81E95ECCCA1634FE           B  2023-06-14   \n",
       "...                                  ...         ...         ...   \n",
       "713951  FFFE37BB811E410F9617079E4F74CB8A           A  2023-07-04   \n",
       "713952  FFFE37BB811E410F9617079E4F74CB8A           A  2023-07-03   \n",
       "713953  FFFE37BB811E410F9617079E4F74CB8A           A  2023-07-05   \n",
       "713954  FFFE37BB811E410F9617079E4F74CB8A           A  2023-07-08   \n",
       "713955  FFFEECC3E3D14EE79BC876F79F7E0A5F           A  2023-07-07   \n",
       "\n",
       "       first_date_in_app  day_of_test  conv_to_contact_daily  \n",
       "0             2023-07-02           22                      0  \n",
       "1             2023-07-02           26                      0  \n",
       "2             2023-07-02           28                      0  \n",
       "3             2023-07-02           29                      0  \n",
       "4             2023-06-14            4                      0  \n",
       "...                  ...          ...                    ...  \n",
       "713951        2023-06-28           24                      1  \n",
       "713952        2023-06-28           23                      1  \n",
       "713953        2023-06-28           25                      1  \n",
       "713954        2023-06-28           28                      1  \n",
       "713955        2023-07-07           27                      0  \n",
       "\n",
       "[713956 rows x 6 columns]"
      ]
     },
     "execution_count": 6,
     "metadata": {},
     "output_type": "execute_result"
    }
   ],
   "source": [
    "df"
   ]
  },
  {
   "cell_type": "code",
   "execution_count": 7,
   "id": "4f7ba7f7-0da8-4e1e-afcb-0ffa0d59304b",
   "metadata": {},
   "outputs": [
    {
     "name": "stdout",
     "output_type": "stream",
     "text": [
      "<class 'pandas.core.frame.DataFrame'>\n",
      "RangeIndex: 713956 entries, 0 to 713955\n",
      "Data columns (total 6 columns):\n",
      " #   Column                 Non-Null Count   Dtype         \n",
      "---  ------                 --------------   -----         \n",
      " 0   user_id                713956 non-null  object        \n",
      " 1   sample_type            713956 non-null  object        \n",
      " 2   date_in_app            713956 non-null  datetime64[ns]\n",
      " 3   first_date_in_app      713956 non-null  datetime64[ns]\n",
      " 4   day_of_test            713956 non-null  int64         \n",
      " 5   conv_to_contact_daily  713956 non-null  int64         \n",
      "dtypes: datetime64[ns](2), int64(2), object(2)\n",
      "memory usage: 32.7+ MB\n"
     ]
    }
   ],
   "source": [
    "df.info()"
   ]
  },
  {
   "cell_type": "code",
   "execution_count": 8,
   "id": "6ca770f3-741f-45ff-84a8-1dc110e0fba1",
   "metadata": {},
   "outputs": [
    {
     "data": {
      "text/plain": [
       "97041"
      ]
     },
     "execution_count": 8,
     "metadata": {},
     "output_type": "execute_result"
    }
   ],
   "source": [
    "df.user_id.nunique()"
   ]
  },
  {
   "cell_type": "code",
   "execution_count": 9,
   "id": "7dfbca7e-0c3e-4702-b095-b8d182c1a7cd",
   "metadata": {},
   "outputs": [
    {
     "data": {
      "text/html": [
       "<div>\n",
       "<style scoped>\n",
       "    .dataframe tbody tr th:only-of-type {\n",
       "        vertical-align: middle;\n",
       "    }\n",
       "\n",
       "    .dataframe tbody tr th {\n",
       "        vertical-align: top;\n",
       "    }\n",
       "\n",
       "    .dataframe thead th {\n",
       "        text-align: right;\n",
       "    }\n",
       "</style>\n",
       "<table border=\"1\" class=\"dataframe\">\n",
       "  <thead>\n",
       "    <tr style=\"text-align: right;\">\n",
       "      <th></th>\n",
       "      <th>user_id</th>\n",
       "      <th>sample_type</th>\n",
       "      <th>conv_to_contact_daily</th>\n",
       "    </tr>\n",
       "  </thead>\n",
       "  <tbody>\n",
       "    <tr>\n",
       "      <th>0</th>\n",
       "      <td>00018D9EB5E146AA8B578E427AEC323A</td>\n",
       "      <td>A</td>\n",
       "      <td>0</td>\n",
       "    </tr>\n",
       "    <tr>\n",
       "      <th>1</th>\n",
       "      <td>00027C4F85D64F4A81E95ECCCA1634FE</td>\n",
       "      <td>B</td>\n",
       "      <td>0</td>\n",
       "    </tr>\n",
       "    <tr>\n",
       "      <th>2</th>\n",
       "      <td>000372E63801450086F7C385F3EFA844</td>\n",
       "      <td>B</td>\n",
       "      <td>1</td>\n",
       "    </tr>\n",
       "    <tr>\n",
       "      <th>3</th>\n",
       "      <td>0003A45019354C9C88F0D42D1C7DFB7C</td>\n",
       "      <td>B</td>\n",
       "      <td>1</td>\n",
       "    </tr>\n",
       "    <tr>\n",
       "      <th>4</th>\n",
       "      <td>0005769859DE4BFD9BB266A007231F2B</td>\n",
       "      <td>B</td>\n",
       "      <td>1</td>\n",
       "    </tr>\n",
       "    <tr>\n",
       "      <th>...</th>\n",
       "      <td>...</td>\n",
       "      <td>...</td>\n",
       "      <td>...</td>\n",
       "    </tr>\n",
       "    <tr>\n",
       "      <th>97036</th>\n",
       "      <td>FFFBDEC2FD98444CBDCA4E1F0028EB7B</td>\n",
       "      <td>A</td>\n",
       "      <td>0</td>\n",
       "    </tr>\n",
       "    <tr>\n",
       "      <th>97037</th>\n",
       "      <td>FFFCB6AE38FB4A9586735543F89C2704</td>\n",
       "      <td>A</td>\n",
       "      <td>1</td>\n",
       "    </tr>\n",
       "    <tr>\n",
       "      <th>97038</th>\n",
       "      <td>FFFCD3187A434DAE9F81984043CEE349</td>\n",
       "      <td>A</td>\n",
       "      <td>0</td>\n",
       "    </tr>\n",
       "    <tr>\n",
       "      <th>97039</th>\n",
       "      <td>FFFE37BB811E410F9617079E4F74CB8A</td>\n",
       "      <td>A</td>\n",
       "      <td>1</td>\n",
       "    </tr>\n",
       "    <tr>\n",
       "      <th>97040</th>\n",
       "      <td>FFFEECC3E3D14EE79BC876F79F7E0A5F</td>\n",
       "      <td>A</td>\n",
       "      <td>0</td>\n",
       "    </tr>\n",
       "  </tbody>\n",
       "</table>\n",
       "<p>97041 rows × 3 columns</p>\n",
       "</div>"
      ],
      "text/plain": [
       "                                user_id sample_type  conv_to_contact_daily\n",
       "0      00018D9EB5E146AA8B578E427AEC323A           A                      0\n",
       "1      00027C4F85D64F4A81E95ECCCA1634FE           B                      0\n",
       "2      000372E63801450086F7C385F3EFA844           B                      1\n",
       "3      0003A45019354C9C88F0D42D1C7DFB7C           B                      1\n",
       "4      0005769859DE4BFD9BB266A007231F2B           B                      1\n",
       "...                                 ...         ...                    ...\n",
       "97036  FFFBDEC2FD98444CBDCA4E1F0028EB7B           A                      0\n",
       "97037  FFFCB6AE38FB4A9586735543F89C2704           A                      1\n",
       "97038  FFFCD3187A434DAE9F81984043CEE349           A                      0\n",
       "97039  FFFE37BB811E410F9617079E4F74CB8A           A                      1\n",
       "97040  FFFEECC3E3D14EE79BC876F79F7E0A5F           A                      0\n",
       "\n",
       "[97041 rows x 3 columns]"
      ]
     },
     "execution_count": 9,
     "metadata": {},
     "output_type": "execute_result"
    }
   ],
   "source": [
    "df_exp = df.groupby(['user_id', 'sample_type'], as_index=False) \\\n",
    "    .agg({'conv_to_contact_daily': 'max'})\n",
    "\n",
    "df_exp"
   ]
  },
  {
   "cell_type": "code",
   "execution_count": 10,
   "id": "243a6b60-a529-4267-b27a-b092768a0fe7",
   "metadata": {},
   "outputs": [
    {
     "data": {
      "text/plain": [
       "A    48750\n",
       "B    48291\n",
       "Name: sample_type, dtype: int64"
      ]
     },
     "execution_count": 10,
     "metadata": {},
     "output_type": "execute_result"
    }
   ],
   "source": [
    "df_exp.sample_type.value_counts()"
   ]
  },
  {
   "cell_type": "code",
   "execution_count": 11,
   "id": "ae640263-518c-40d0-96a1-7fc05d0dd737",
   "metadata": {},
   "outputs": [
    {
     "data": {
      "text/html": [
       "<div>\n",
       "<style scoped>\n",
       "    .dataframe tbody tr th:only-of-type {\n",
       "        vertical-align: middle;\n",
       "    }\n",
       "\n",
       "    .dataframe tbody tr th {\n",
       "        vertical-align: top;\n",
       "    }\n",
       "\n",
       "    .dataframe thead th {\n",
       "        text-align: right;\n",
       "    }\n",
       "</style>\n",
       "<table border=\"1\" class=\"dataframe\">\n",
       "  <thead>\n",
       "    <tr style=\"text-align: right;\">\n",
       "      <th></th>\n",
       "      <th>sample_type</th>\n",
       "      <th>conv_to_contact_daily</th>\n",
       "    </tr>\n",
       "  </thead>\n",
       "  <tbody>\n",
       "    <tr>\n",
       "      <th>0</th>\n",
       "      <td>A</td>\n",
       "      <td>0.878626</td>\n",
       "    </tr>\n",
       "    <tr>\n",
       "      <th>1</th>\n",
       "      <td>B</td>\n",
       "      <td>0.864799</td>\n",
       "    </tr>\n",
       "  </tbody>\n",
       "</table>\n",
       "</div>"
      ],
      "text/plain": [
       "  sample_type  conv_to_contact_daily\n",
       "0           A               0.878626\n",
       "1           B               0.864799"
      ]
     },
     "execution_count": 11,
     "metadata": {},
     "output_type": "execute_result"
    }
   ],
   "source": [
    "conv_res = df_exp.groupby('sample_type', as_index=False).agg({'conv_to_contact_daily': 'mean'})\n",
    "\n",
    "conv_res"
   ]
  },
  {
   "cell_type": "code",
   "execution_count": 12,
   "id": "6811c4b4-8011-4f97-ba66-6e3daf69f83f",
   "metadata": {},
   "outputs": [
    {
     "data": {
      "text/plain": [
       "-0.01382681722824608"
      ]
     },
     "execution_count": 12,
     "metadata": {},
     "output_type": "execute_result"
    }
   ],
   "source": [
    "conv_res.conv_to_contact_daily[1] - conv_res.conv_to_contact_daily[0]"
   ]
  },
  {
   "cell_type": "markdown",
   "id": "92137d74-b31f-4aba-a1b5-d9164be17f5b",
   "metadata": {
    "tags": []
   },
   "source": [
    "#### Task 2.  "
   ]
  },
  {
   "cell_type": "markdown",
   "id": "830049b9-f37d-4c47-82b3-0e95d7db9ed3",
   "metadata": {},
   "source": [
    "**Check the proportion in each group using a two-tailed z-test for proportion. And specify the z-statistic obtained in the test.** "
   ]
  },
  {
   "cell_type": "code",
   "execution_count": 13,
   "id": "76782534-4fef-486d-9ac6-03f55166536f",
   "metadata": {},
   "outputs": [],
   "source": [
    "grp_a = df_exp[df_exp['sample_type'] == 'A'].conv_to_contact_daily\n",
    "grp_b = df_exp[df_exp['sample_type'] == 'B'].conv_to_contact_daily"
   ]
  },
  {
   "cell_type": "code",
   "execution_count": 14,
   "id": "67204861-7384-4a8d-9d7d-1716109a46ef",
   "metadata": {},
   "outputs": [
    {
     "data": {
      "text/plain": [
       "6.440699209685541"
      ]
     },
     "execution_count": 14,
     "metadata": {},
     "output_type": "execute_result"
    }
   ],
   "source": [
    "count = [sum([x for x in grp_a if x > 0]), sum([x for x in grp_b if x > 0])]\n",
    "nobs = [len(grp_a), len(grp_b)]\n",
    "\n",
    "proportions_ztest(count, nobs)[0]"
   ]
  },
  {
   "cell_type": "markdown",
   "id": "6cf94e10-2a9b-4ab9-929d-858de8ce875b",
   "metadata": {},
   "source": [
    "#### Task 3. "
   ]
  },
  {
   "cell_type": "markdown",
   "id": "a92b908a-9905-4287-b083-4b1954baf890",
   "metadata": {},
   "source": [
    "**Can we reject H0 if alpha = 0.05?**"
   ]
  },
  {
   "cell_type": "code",
   "execution_count": 15,
   "id": "2a645e4f-6b24-447c-8056-b59ab7df20ee",
   "metadata": {},
   "outputs": [
    {
     "name": "stdout",
     "output_type": "stream",
     "text": [
      "Yes, we can reject H0!\n"
     ]
    }
   ],
   "source": [
    "if proportions_ztest(count, nobs)[1] < 0.05:\n",
    "    print('Yes, we can reject H0!')\n",
    "else:\n",
    "    print('We are not able to reject H0.')"
   ]
  },
  {
   "cell_type": "markdown",
   "id": "affc0c80-0c47-4710-bafd-7419662b7109",
   "metadata": {},
   "source": [
    "#### Task 4. "
   ]
  },
  {
   "cell_type": "markdown",
   "id": "06487704-edb2-443a-a946-6d91ba6894e2",
   "metadata": {},
   "source": [
    "**We have to check if there is a primacy effect on our data.**"
   ]
  },
  {
   "cell_type": "code",
   "execution_count": 16,
   "id": "cef65b70-f480-41fd-b6c4-d063117aea85",
   "metadata": {},
   "outputs": [],
   "source": [
    "df['ret_day'] = df['date_in_app'] - df['first_date_in_app']"
   ]
  },
  {
   "cell_type": "code",
   "execution_count": 17,
   "id": "4d06135e-c4a3-4300-ae6f-bf2588b14352",
   "metadata": {},
   "outputs": [],
   "source": [
    "df['ret_day'] = df['ret_day'].dt.days"
   ]
  },
  {
   "cell_type": "code",
   "execution_count": 18,
   "id": "cccc835a-9c33-4e2c-9a79-24743670bb11",
   "metadata": {},
   "outputs": [],
   "source": [
    "df['user_type'] = pd.cut(df['ret_day'], bins=[-1, 3, 1000], labels=['new', 'old'])"
   ]
  },
  {
   "cell_type": "code",
   "execution_count": 19,
   "id": "0e863dec-f712-4b01-9c22-47eb070f2e8b",
   "metadata": {},
   "outputs": [],
   "source": [
    "to_plot = df.groupby(['day_of_test', 'sample_type', 'user_type'], as_index=False) \\\n",
    "    .agg({'conv_to_contact_daily': 'mean'})"
   ]
  },
  {
   "cell_type": "code",
   "execution_count": 20,
   "id": "1ba13e45-e1de-4177-807a-f21524d37fa0",
   "metadata": {},
   "outputs": [
    {
     "data": {
      "text/html": [
       "<div>\n",
       "<style scoped>\n",
       "    .dataframe tbody tr th:only-of-type {\n",
       "        vertical-align: middle;\n",
       "    }\n",
       "\n",
       "    .dataframe tbody tr th {\n",
       "        vertical-align: top;\n",
       "    }\n",
       "\n",
       "    .dataframe thead th {\n",
       "        text-align: right;\n",
       "    }\n",
       "</style>\n",
       "<table border=\"1\" class=\"dataframe\">\n",
       "  <thead>\n",
       "    <tr style=\"text-align: right;\">\n",
       "      <th></th>\n",
       "      <th>day_of_test</th>\n",
       "      <th>sample_type</th>\n",
       "      <th>user_type</th>\n",
       "      <th>conv_to_contact_daily</th>\n",
       "      <th>user_cat</th>\n",
       "    </tr>\n",
       "  </thead>\n",
       "  <tbody>\n",
       "    <tr>\n",
       "      <th>0</th>\n",
       "      <td>0</td>\n",
       "      <td>A</td>\n",
       "      <td>new</td>\n",
       "      <td>0.756906</td>\n",
       "      <td>A - new</td>\n",
       "    </tr>\n",
       "    <tr>\n",
       "      <th>1</th>\n",
       "      <td>0</td>\n",
       "      <td>A</td>\n",
       "      <td>old</td>\n",
       "      <td>0.800440</td>\n",
       "      <td>A - old</td>\n",
       "    </tr>\n",
       "    <tr>\n",
       "      <th>2</th>\n",
       "      <td>0</td>\n",
       "      <td>B</td>\n",
       "      <td>new</td>\n",
       "      <td>0.732095</td>\n",
       "      <td>B - new</td>\n",
       "    </tr>\n",
       "    <tr>\n",
       "      <th>3</th>\n",
       "      <td>0</td>\n",
       "      <td>B</td>\n",
       "      <td>old</td>\n",
       "      <td>0.355282</td>\n",
       "      <td>B - old</td>\n",
       "    </tr>\n",
       "    <tr>\n",
       "      <th>4</th>\n",
       "      <td>1</td>\n",
       "      <td>A</td>\n",
       "      <td>new</td>\n",
       "      <td>0.729223</td>\n",
       "      <td>A - new</td>\n",
       "    </tr>\n",
       "    <tr>\n",
       "      <th>...</th>\n",
       "      <td>...</td>\n",
       "      <td>...</td>\n",
       "      <td>...</td>\n",
       "      <td>...</td>\n",
       "      <td>...</td>\n",
       "    </tr>\n",
       "    <tr>\n",
       "      <th>115</th>\n",
       "      <td>28</td>\n",
       "      <td>B</td>\n",
       "      <td>old</td>\n",
       "      <td>0.797143</td>\n",
       "      <td>B - old</td>\n",
       "    </tr>\n",
       "    <tr>\n",
       "      <th>116</th>\n",
       "      <td>29</td>\n",
       "      <td>A</td>\n",
       "      <td>new</td>\n",
       "      <td>0.743386</td>\n",
       "      <td>A - new</td>\n",
       "    </tr>\n",
       "    <tr>\n",
       "      <th>117</th>\n",
       "      <td>29</td>\n",
       "      <td>A</td>\n",
       "      <td>old</td>\n",
       "      <td>0.828243</td>\n",
       "      <td>A - old</td>\n",
       "    </tr>\n",
       "    <tr>\n",
       "      <th>118</th>\n",
       "      <td>29</td>\n",
       "      <td>B</td>\n",
       "      <td>new</td>\n",
       "      <td>0.787709</td>\n",
       "      <td>B - new</td>\n",
       "    </tr>\n",
       "    <tr>\n",
       "      <th>119</th>\n",
       "      <td>29</td>\n",
       "      <td>B</td>\n",
       "      <td>old</td>\n",
       "      <td>0.815030</td>\n",
       "      <td>B - old</td>\n",
       "    </tr>\n",
       "  </tbody>\n",
       "</table>\n",
       "<p>120 rows × 5 columns</p>\n",
       "</div>"
      ],
      "text/plain": [
       "     day_of_test sample_type user_type  conv_to_contact_daily user_cat\n",
       "0              0           A       new               0.756906  A - new\n",
       "1              0           A       old               0.800440  A - old\n",
       "2              0           B       new               0.732095  B - new\n",
       "3              0           B       old               0.355282  B - old\n",
       "4              1           A       new               0.729223  A - new\n",
       "..           ...         ...       ...                    ...      ...\n",
       "115           28           B       old               0.797143  B - old\n",
       "116           29           A       new               0.743386  A - new\n",
       "117           29           A       old               0.828243  A - old\n",
       "118           29           B       new               0.787709  B - new\n",
       "119           29           B       old               0.815030  B - old\n",
       "\n",
       "[120 rows x 5 columns]"
      ]
     },
     "execution_count": 20,
     "metadata": {},
     "output_type": "execute_result"
    }
   ],
   "source": [
    "to_plot['user_cat'] = to_plot['sample_type'].str.cat(to_plot['user_type'], sep=' - ')\n",
    "\n",
    "to_plot"
   ]
  },
  {
   "cell_type": "code",
   "execution_count": 21,
   "id": "66171aeb-2e63-45be-b522-50b09c3a9535",
   "metadata": {},
   "outputs": [
    {
     "data": {
      "image/png": "[encoded data removed]",
      "text/plain": [
       "<Figure size 1152x720 with 1 Axes>"
      ]
     },
     "metadata": {
      "needs_background": "light"
     },
     "output_type": "display_data"
    }
   ],
   "source": [
    "plt.figure(figsize=(16,10))\n",
    "\n",
    "sns.lineplot(data=to_plot, x='day_of_test', y='conv_to_contact_daily', hue='user_cat')\n",
    "plt.title('Checking for primacy effect.');"
   ]
  },
  {
   "cell_type": "markdown",
   "id": "eeb29c7c-2c11-4b92-b854-485de9afee40",
   "metadata": {},
   "source": [
    "There is a primacy effect based on what we can see on the graph above. "
   ]
  },
  {
   "cell_type": "markdown",
   "id": "e6a2de7e-9ad4-40bd-9608-d25aa692a1a5",
   "metadata": {},
   "source": [
    "#### Task 5. "
   ]
  },
  {
   "cell_type": "markdown",
   "id": "fb307829-3b63-416e-aca7-1e2c0b5326b2",
   "metadata": {},
   "source": [
    "**Calculate the average daily share of new users by test days (what share of new users are in the daily traffic on average for the test period)**"
   ]
  },
  {
   "cell_type": "code",
   "execution_count": 22,
   "id": "f04d0936-80d7-4968-94e4-18ff6b207654",
   "metadata": {},
   "outputs": [
    {
     "data": {
      "text/html": [
       "<div>\n",
       "<style scoped>\n",
       "    .dataframe tbody tr th:only-of-type {\n",
       "        vertical-align: middle;\n",
       "    }\n",
       "\n",
       "    .dataframe tbody tr th {\n",
       "        vertical-align: top;\n",
       "    }\n",
       "\n",
       "    .dataframe thead th {\n",
       "        text-align: right;\n",
       "    }\n",
       "</style>\n",
       "<table border=\"1\" class=\"dataframe\">\n",
       "  <thead>\n",
       "    <tr style=\"text-align: right;\">\n",
       "      <th></th>\n",
       "      <th>day_of_test</th>\n",
       "      <th>user_type</th>\n",
       "      <th>user_id</th>\n",
       "    </tr>\n",
       "  </thead>\n",
       "  <tbody>\n",
       "    <tr>\n",
       "      <th>0</th>\n",
       "      <td>0</td>\n",
       "      <td>new</td>\n",
       "      <td>739</td>\n",
       "    </tr>\n",
       "    <tr>\n",
       "      <th>1</th>\n",
       "      <td>0</td>\n",
       "      <td>old</td>\n",
       "      <td>20714</td>\n",
       "    </tr>\n",
       "    <tr>\n",
       "      <th>2</th>\n",
       "      <td>1</td>\n",
       "      <td>new</td>\n",
       "      <td>715</td>\n",
       "    </tr>\n",
       "    <tr>\n",
       "      <th>3</th>\n",
       "      <td>1</td>\n",
       "      <td>old</td>\n",
       "      <td>22552</td>\n",
       "    </tr>\n",
       "    <tr>\n",
       "      <th>4</th>\n",
       "      <td>2</td>\n",
       "      <td>new</td>\n",
       "      <td>789</td>\n",
       "    </tr>\n",
       "    <tr>\n",
       "      <th>5</th>\n",
       "      <td>2</td>\n",
       "      <td>old</td>\n",
       "      <td>22743</td>\n",
       "    </tr>\n",
       "  </tbody>\n",
       "</table>\n",
       "</div>"
      ],
      "text/plain": [
       "   day_of_test user_type  user_id\n",
       "0            0       new      739\n",
       "1            0       old    20714\n",
       "2            1       new      715\n",
       "3            1       old    22552\n",
       "4            2       new      789\n",
       "5            2       old    22743"
      ]
     },
     "execution_count": 22,
     "metadata": {},
     "output_type": "execute_result"
    }
   ],
   "source": [
    "new_day_rate_df = df.groupby(['day_of_test', 'user_type'], as_index=False).agg({'user_id': 'count'})\n",
    "\n",
    "new_day_rate_df.head(6)"
   ]
  },
  {
   "cell_type": "code",
   "execution_count": 23,
   "id": "d789e5d4-70d9-4e29-bd7e-d7660c30b307",
   "metadata": {},
   "outputs": [
    {
     "data": {
      "text/plain": [
       "0.032877969036562114"
      ]
     },
     "execution_count": 23,
     "metadata": {},
     "output_type": "execute_result"
    }
   ],
   "source": [
    "days = new_day_rate_df.day_of_test.unique().tolist()\n",
    "new_cnt_lst = []\n",
    "\n",
    "for day in days:\n",
    "    temp_df = new_day_rate_df[new_day_rate_df['day_of_test'] == day]\n",
    "    new_cnt = temp_df.user_id.values[0]\n",
    "    all_cnt = temp_df.user_id.values[0] + temp_df.user_id.values[1]\n",
    "    new_cnt_lst.append(new_cnt / all_cnt)\n",
    "    \n",
    "    \n",
    "pd.DataFrame({'day_of_test': days,\n",
    "              'new_rate': new_cnt_lst}).new_rate.mean()"
   ]
  },
  {
   "cell_type": "markdown",
   "id": "979d072d-56df-481f-ad56-86c357d2838a",
   "metadata": {},
   "source": [
    "#### Task 6. "
   ]
  },
  {
   "cell_type": "markdown",
   "id": "6eb1fb62-1c69-4dcb-9d4a-f550216f2a0d",
   "metadata": {},
   "source": [
    "**What is the absolute value of the difference in effects between the \"old\" group and the new group on the 3rd day of the test (day_of_test == 2)?**"
   ]
  },
  {
   "cell_type": "code",
   "execution_count": 24,
   "id": "ad89a83c-0a69-4ccb-b71d-1a30adaede97",
   "metadata": {},
   "outputs": [
    {
     "data": {
      "text/html": [
       "<div>\n",
       "<style scoped>\n",
       "    .dataframe tbody tr th:only-of-type {\n",
       "        vertical-align: middle;\n",
       "    }\n",
       "\n",
       "    .dataframe tbody tr th {\n",
       "        vertical-align: top;\n",
       "    }\n",
       "\n",
       "    .dataframe thead th {\n",
       "        text-align: right;\n",
       "    }\n",
       "</style>\n",
       "<table border=\"1\" class=\"dataframe\">\n",
       "  <thead>\n",
       "    <tr style=\"text-align: right;\">\n",
       "      <th></th>\n",
       "      <th>user_type</th>\n",
       "      <th>conv_to_contact_daily</th>\n",
       "    </tr>\n",
       "  </thead>\n",
       "  <tbody>\n",
       "    <tr>\n",
       "      <th>0</th>\n",
       "      <td>new</td>\n",
       "      <td>0.779841</td>\n",
       "    </tr>\n",
       "    <tr>\n",
       "      <th>1</th>\n",
       "      <td>old</td>\n",
       "      <td>0.652813</td>\n",
       "    </tr>\n",
       "  </tbody>\n",
       "</table>\n",
       "</div>"
      ],
      "text/plain": [
       "  user_type  conv_to_contact_daily\n",
       "0       new               0.779841\n",
       "1       old               0.652813"
      ]
     },
     "execution_count": 24,
     "metadata": {},
     "output_type": "execute_result"
    }
   ],
   "source": [
    "day_3_dif = df[(df['day_of_test'] == 2) & (df['sample_type'] == 'B')] \\\n",
    "    .groupby('user_type', as_index=False) \\\n",
    "    .agg({'conv_to_contact_daily': 'mean'})\n",
    "\n",
    "day_3_dif"
   ]
  },
  {
   "cell_type": "code",
   "execution_count": 25,
   "id": "52b658d1-e951-489b-925c-c64b64dcc42c",
   "metadata": {},
   "outputs": [
    {
     "data": {
      "text/plain": [
       "0.1270273795994542"
      ]
     },
     "execution_count": 25,
     "metadata": {},
     "output_type": "execute_result"
    }
   ],
   "source": [
    "day_3_dif.conv_to_contact_daily[0] - day_3_dif.conv_to_contact_daily[1]"
   ]
  },
  {
   "cell_type": "markdown",
   "id": "64030431-01ef-460d-ae15-d66afe627f34",
   "metadata": {},
   "source": [
    "#### Task 7. "
   ]
  },
  {
   "cell_type": "markdown",
   "id": "708dd3e8-5ddc-4402-a84c-cb83d2491b74",
   "metadata": {},
   "source": [
    "**Calculate on what day of the test the difference in effects between the \"new\" group and the \"old\" group of users first becomes negative.**"
   ]
  },
  {
   "cell_type": "code",
   "execution_count": 26,
   "id": "be5cd205-6afd-4deb-bec0-4adebd1c3a1a",
   "metadata": {},
   "outputs": [
    {
     "data": {
      "text/html": [
       "<div>\n",
       "<style scoped>\n",
       "    .dataframe tbody tr th:only-of-type {\n",
       "        vertical-align: middle;\n",
       "    }\n",
       "\n",
       "    .dataframe tbody tr th {\n",
       "        vertical-align: top;\n",
       "    }\n",
       "\n",
       "    .dataframe thead th {\n",
       "        text-align: right;\n",
       "    }\n",
       "</style>\n",
       "<table border=\"1\" class=\"dataframe\">\n",
       "  <thead>\n",
       "    <tr style=\"text-align: right;\">\n",
       "      <th></th>\n",
       "      <th>day_of_test</th>\n",
       "      <th>user_type</th>\n",
       "      <th>conv_to_contact_daily</th>\n",
       "    </tr>\n",
       "  </thead>\n",
       "  <tbody>\n",
       "    <tr>\n",
       "      <th>0</th>\n",
       "      <td>0</td>\n",
       "      <td>new</td>\n",
       "      <td>0.732095</td>\n",
       "    </tr>\n",
       "    <tr>\n",
       "      <th>1</th>\n",
       "      <td>0</td>\n",
       "      <td>old</td>\n",
       "      <td>0.355282</td>\n",
       "    </tr>\n",
       "    <tr>\n",
       "      <th>2</th>\n",
       "      <td>1</td>\n",
       "      <td>new</td>\n",
       "      <td>0.736842</td>\n",
       "    </tr>\n",
       "    <tr>\n",
       "      <th>3</th>\n",
       "      <td>1</td>\n",
       "      <td>old</td>\n",
       "      <td>0.547685</td>\n",
       "    </tr>\n",
       "    <tr>\n",
       "      <th>4</th>\n",
       "      <td>2</td>\n",
       "      <td>new</td>\n",
       "      <td>0.779841</td>\n",
       "    </tr>\n",
       "    <tr>\n",
       "      <th>5</th>\n",
       "      <td>2</td>\n",
       "      <td>old</td>\n",
       "      <td>0.652813</td>\n",
       "    </tr>\n",
       "  </tbody>\n",
       "</table>\n",
       "</div>"
      ],
      "text/plain": [
       "   day_of_test user_type  conv_to_contact_daily\n",
       "0            0       new               0.732095\n",
       "1            0       old               0.355282\n",
       "2            1       new               0.736842\n",
       "3            1       old               0.547685\n",
       "4            2       new               0.779841\n",
       "5            2       old               0.652813"
      ]
     },
     "execution_count": 26,
     "metadata": {},
     "output_type": "execute_result"
    }
   ],
   "source": [
    "day_dif = df[df['sample_type'] == 'B'] \\\n",
    "    .groupby(['day_of_test', 'user_type'], as_index=False) \\\n",
    "    .agg({'conv_to_contact_daily': 'mean'})\n",
    "\n",
    "day_dif.head(6)"
   ]
  },
  {
   "cell_type": "code",
   "execution_count": 27,
   "id": "b3557da8-b7e0-493c-b5e0-6c0601c6e417",
   "metadata": {},
   "outputs": [
    {
     "name": "stdout",
     "output_type": "stream",
     "text": [
      "10\n"
     ]
    }
   ],
   "source": [
    "days = day_dif.day_of_test.unique().tolist()\n",
    "rate_dif_lst = []\n",
    "\n",
    "for day in days:\n",
    "    temp_df = day_dif[day_dif['day_of_test'] == day]\n",
    "    new_rate = temp_df.conv_to_contact_daily.values[0]\n",
    "    old_rate = temp_df.conv_to_contact_daily.values[1]\n",
    "    rate_dif_lst.append(new_rate - old_rate)\n",
    "    \n",
    "for i in range(len(rate_dif_lst)):\n",
    "    if rate_dif_lst[i] < 0:\n",
    "        print(i+1)\n",
    "        break"
   ]
  },
  {
   "cell_type": "markdown",
   "id": "149fe249-7892-44d4-acc5-36189951d258",
   "metadata": {},
   "source": [
    "### Novelty Effect "
   ]
  },
  {
   "cell_type": "markdown",
   "id": "52f173c6-1b1d-4167-9443-3c4031efbd99",
   "metadata": {},
   "source": [
    "#### Task 8. "
   ]
  },
  {
   "cell_type": "markdown",
   "id": "76c6d419-0090-466e-9cd0-b3e44e670297",
   "metadata": {},
   "source": [
    " **What is the conversion difference in group A and group B?**"
   ]
  },
  {
   "cell_type": "code",
   "execution_count": 28,
   "id": "64de41bf-34d4-4e15-823e-2a8a4d16c18b",
   "metadata": {},
   "outputs": [],
   "source": [
    "df = pd.read_csv('novelty_effect_homework_2.csv',\n",
    "                 parse_dates=['date_in_app', 'first_date_in_app'])"
   ]
  },
  {
   "cell_type": "code",
   "execution_count": 29,
   "id": "48f9989a-f411-46ce-adb5-5a76d704e4d9",
   "metadata": {},
   "outputs": [
    {
     "data": {
      "text/html": [
       "<div>\n",
       "<style scoped>\n",
       "    .dataframe tbody tr th:only-of-type {\n",
       "        vertical-align: middle;\n",
       "    }\n",
       "\n",
       "    .dataframe tbody tr th {\n",
       "        vertical-align: top;\n",
       "    }\n",
       "\n",
       "    .dataframe thead th {\n",
       "        text-align: right;\n",
       "    }\n",
       "</style>\n",
       "<table border=\"1\" class=\"dataframe\">\n",
       "  <thead>\n",
       "    <tr style=\"text-align: right;\">\n",
       "      <th></th>\n",
       "      <th>user_id</th>\n",
       "      <th>sample_type</th>\n",
       "      <th>date_in_app</th>\n",
       "      <th>total_contacts</th>\n",
       "      <th>first_date_in_app</th>\n",
       "      <th>day_of_test</th>\n",
       "      <th>conv_to_contact_daily</th>\n",
       "    </tr>\n",
       "  </thead>\n",
       "  <tbody>\n",
       "    <tr>\n",
       "      <th>0</th>\n",
       "      <td>000015E6362C47CFBA851EA91D417F8B</td>\n",
       "      <td>A</td>\n",
       "      <td>2023-06-10</td>\n",
       "      <td>1.0</td>\n",
       "      <td>2023-01-12</td>\n",
       "      <td>0</td>\n",
       "      <td>1</td>\n",
       "    </tr>\n",
       "    <tr>\n",
       "      <th>1</th>\n",
       "      <td>000015E6362C47CFBA851EA91D417F8B</td>\n",
       "      <td>A</td>\n",
       "      <td>2023-06-29</td>\n",
       "      <td>5.0</td>\n",
       "      <td>2023-01-12</td>\n",
       "      <td>19</td>\n",
       "      <td>1</td>\n",
       "    </tr>\n",
       "    <tr>\n",
       "      <th>2</th>\n",
       "      <td>0000FF6D0FAE419384034F249C4DC10B</td>\n",
       "      <td>B</td>\n",
       "      <td>2023-06-22</td>\n",
       "      <td>1.0</td>\n",
       "      <td>2023-01-02</td>\n",
       "      <td>12</td>\n",
       "      <td>1</td>\n",
       "    </tr>\n",
       "    <tr>\n",
       "      <th>3</th>\n",
       "      <td>0000FF6D0FAE419384034F249C4DC10B</td>\n",
       "      <td>B</td>\n",
       "      <td>2023-06-18</td>\n",
       "      <td>10.0</td>\n",
       "      <td>2023-01-02</td>\n",
       "      <td>8</td>\n",
       "      <td>1</td>\n",
       "    </tr>\n",
       "    <tr>\n",
       "      <th>4</th>\n",
       "      <td>00028A57EC044DA2ADD1F07F93296838</td>\n",
       "      <td>A</td>\n",
       "      <td>2023-07-04</td>\n",
       "      <td>1.0</td>\n",
       "      <td>2023-01-16</td>\n",
       "      <td>24</td>\n",
       "      <td>1</td>\n",
       "    </tr>\n",
       "    <tr>\n",
       "      <th>...</th>\n",
       "      <td>...</td>\n",
       "      <td>...</td>\n",
       "      <td>...</td>\n",
       "      <td>...</td>\n",
       "      <td>...</td>\n",
       "      <td>...</td>\n",
       "      <td>...</td>\n",
       "    </tr>\n",
       "    <tr>\n",
       "      <th>855677</th>\n",
       "      <td>FFFEF3D68226457AB8AEDA3145394370</td>\n",
       "      <td>B</td>\n",
       "      <td>2023-06-23</td>\n",
       "      <td>6.0</td>\n",
       "      <td>2023-01-02</td>\n",
       "      <td>13</td>\n",
       "      <td>1</td>\n",
       "    </tr>\n",
       "    <tr>\n",
       "      <th>855678</th>\n",
       "      <td>FFFEF3D68226457AB8AEDA3145394370</td>\n",
       "      <td>B</td>\n",
       "      <td>2023-06-24</td>\n",
       "      <td>NaN</td>\n",
       "      <td>2023-01-02</td>\n",
       "      <td>14</td>\n",
       "      <td>0</td>\n",
       "    </tr>\n",
       "    <tr>\n",
       "      <th>855679</th>\n",
       "      <td>FFFF53FED90942A8B9848507AFC86DA3</td>\n",
       "      <td>B</td>\n",
       "      <td>2023-06-12</td>\n",
       "      <td>19.0</td>\n",
       "      <td>2023-02-15</td>\n",
       "      <td>2</td>\n",
       "      <td>1</td>\n",
       "    </tr>\n",
       "    <tr>\n",
       "      <th>855680</th>\n",
       "      <td>FFFFC2B7BC7B47D99824B292CAB6E4E2</td>\n",
       "      <td>A</td>\n",
       "      <td>2023-07-02</td>\n",
       "      <td>NaN</td>\n",
       "      <td>2023-01-01</td>\n",
       "      <td>22</td>\n",
       "      <td>0</td>\n",
       "    </tr>\n",
       "    <tr>\n",
       "      <th>855681</th>\n",
       "      <td>FFFFC2B7BC7B47D99824B292CAB6E4E2</td>\n",
       "      <td>A</td>\n",
       "      <td>2023-07-01</td>\n",
       "      <td>8.0</td>\n",
       "      <td>2023-01-01</td>\n",
       "      <td>21</td>\n",
       "      <td>1</td>\n",
       "    </tr>\n",
       "  </tbody>\n",
       "</table>\n",
       "<p>855682 rows × 7 columns</p>\n",
       "</div>"
      ],
      "text/plain": [
       "                                 user_id sample_type date_in_app  \\\n",
       "0       000015E6362C47CFBA851EA91D417F8B           A  2023-06-10   \n",
       "1       000015E6362C47CFBA851EA91D417F8B           A  2023-06-29   \n",
       "2       0000FF6D0FAE419384034F249C4DC10B           B  2023-06-22   \n",
       "3       0000FF6D0FAE419384034F249C4DC10B           B  2023-06-18   \n",
       "4       00028A57EC044DA2ADD1F07F93296838           A  2023-07-04   \n",
       "...                                  ...         ...         ...   \n",
       "855677  FFFEF3D68226457AB8AEDA3145394370           B  2023-06-23   \n",
       "855678  FFFEF3D68226457AB8AEDA3145394370           B  2023-06-24   \n",
       "855679  FFFF53FED90942A8B9848507AFC86DA3           B  2023-06-12   \n",
       "855680  FFFFC2B7BC7B47D99824B292CAB6E4E2           A  2023-07-02   \n",
       "855681  FFFFC2B7BC7B47D99824B292CAB6E4E2           A  2023-07-01   \n",
       "\n",
       "        total_contacts first_date_in_app  day_of_test  conv_to_contact_daily  \n",
       "0                  1.0        2023-01-12            0                      1  \n",
       "1                  5.0        2023-01-12           19                      1  \n",
       "2                  1.0        2023-01-02           12                      1  \n",
       "3                 10.0        2023-01-02            8                      1  \n",
       "4                  1.0        2023-01-16           24                      1  \n",
       "...                ...               ...          ...                    ...  \n",
       "855677             6.0        2023-01-02           13                      1  \n",
       "855678             NaN        2023-01-02           14                      0  \n",
       "855679            19.0        2023-02-15            2                      1  \n",
       "855680             NaN        2023-01-01           22                      0  \n",
       "855681             8.0        2023-01-01           21                      1  \n",
       "\n",
       "[855682 rows x 7 columns]"
      ]
     },
     "execution_count": 29,
     "metadata": {},
     "output_type": "execute_result"
    }
   ],
   "source": [
    "df"
   ]
  },
  {
   "cell_type": "code",
   "execution_count": 30,
   "id": "2f6af677-c538-4c09-b36f-8a5ed5d1b5cb",
   "metadata": {},
   "outputs": [
    {
     "name": "stdout",
     "output_type": "stream",
     "text": [
      "<class 'pandas.core.frame.DataFrame'>\n",
      "RangeIndex: 855682 entries, 0 to 855681\n",
      "Data columns (total 7 columns):\n",
      " #   Column                 Non-Null Count   Dtype         \n",
      "---  ------                 --------------   -----         \n",
      " 0   user_id                855682 non-null  object        \n",
      " 1   sample_type            855682 non-null  object        \n",
      " 2   date_in_app            855682 non-null  datetime64[ns]\n",
      " 3   total_contacts         681855 non-null  float64       \n",
      " 4   first_date_in_app      855682 non-null  datetime64[ns]\n",
      " 5   day_of_test            855682 non-null  int64         \n",
      " 6   conv_to_contact_daily  855682 non-null  int64         \n",
      "dtypes: datetime64[ns](2), float64(1), int64(2), object(2)\n",
      "memory usage: 45.7+ MB\n"
     ]
    }
   ],
   "source": [
    "df.info()"
   ]
  },
  {
   "cell_type": "code",
   "execution_count": 31,
   "id": "eb3a4475-5ff8-4bd0-8d6b-44a1f11224fe",
   "metadata": {},
   "outputs": [
    {
     "data": {
      "text/plain": [
       "116782"
      ]
     },
     "execution_count": 31,
     "metadata": {},
     "output_type": "execute_result"
    }
   ],
   "source": [
    "df.user_id.nunique()"
   ]
  },
  {
   "cell_type": "code",
   "execution_count": 32,
   "id": "1f449f06-848c-4075-9180-9f080680403e",
   "metadata": {},
   "outputs": [],
   "source": [
    "df_exp = df.groupby(['user_id', 'sample_type'], as_index=False) \\\n",
    "    .agg({'conv_to_contact_daily': 'max'})"
   ]
  },
  {
   "cell_type": "code",
   "execution_count": 33,
   "id": "591641fd-614f-4277-8198-3c02d59d1375",
   "metadata": {},
   "outputs": [
    {
     "data": {
      "text/html": [
       "<div>\n",
       "<style scoped>\n",
       "    .dataframe tbody tr th:only-of-type {\n",
       "        vertical-align: middle;\n",
       "    }\n",
       "\n",
       "    .dataframe tbody tr th {\n",
       "        vertical-align: top;\n",
       "    }\n",
       "\n",
       "    .dataframe thead th {\n",
       "        text-align: right;\n",
       "    }\n",
       "</style>\n",
       "<table border=\"1\" class=\"dataframe\">\n",
       "  <thead>\n",
       "    <tr style=\"text-align: right;\">\n",
       "      <th></th>\n",
       "      <th>user_id</th>\n",
       "      <th>sample_type</th>\n",
       "      <th>conv_to_contact_daily</th>\n",
       "    </tr>\n",
       "  </thead>\n",
       "  <tbody>\n",
       "    <tr>\n",
       "      <th>0</th>\n",
       "      <td>000015E6362C47CFBA851EA91D417F8B</td>\n",
       "      <td>A</td>\n",
       "      <td>1</td>\n",
       "    </tr>\n",
       "    <tr>\n",
       "      <th>1</th>\n",
       "      <td>0000FF6D0FAE419384034F249C4DC10B</td>\n",
       "      <td>B</td>\n",
       "      <td>1</td>\n",
       "    </tr>\n",
       "    <tr>\n",
       "      <th>2</th>\n",
       "      <td>00028A57EC044DA2ADD1F07F93296838</td>\n",
       "      <td>A</td>\n",
       "      <td>1</td>\n",
       "    </tr>\n",
       "    <tr>\n",
       "      <th>3</th>\n",
       "      <td>00028EA31D6D43E79DE5F9117DB7EE67</td>\n",
       "      <td>A</td>\n",
       "      <td>1</td>\n",
       "    </tr>\n",
       "    <tr>\n",
       "      <th>4</th>\n",
       "      <td>00039480581B409C96E9B8D979C06000</td>\n",
       "      <td>B</td>\n",
       "      <td>1</td>\n",
       "    </tr>\n",
       "    <tr>\n",
       "      <th>...</th>\n",
       "      <td>...</td>\n",
       "      <td>...</td>\n",
       "      <td>...</td>\n",
       "    </tr>\n",
       "    <tr>\n",
       "      <th>116777</th>\n",
       "      <td>FFFD90AAF8304B71ADE6EFCD20F5484D</td>\n",
       "      <td>B</td>\n",
       "      <td>0</td>\n",
       "    </tr>\n",
       "    <tr>\n",
       "      <th>116778</th>\n",
       "      <td>FFFE9C57842D49528B500331871ED989</td>\n",
       "      <td>B</td>\n",
       "      <td>1</td>\n",
       "    </tr>\n",
       "    <tr>\n",
       "      <th>116779</th>\n",
       "      <td>FFFEF3D68226457AB8AEDA3145394370</td>\n",
       "      <td>B</td>\n",
       "      <td>1</td>\n",
       "    </tr>\n",
       "    <tr>\n",
       "      <th>116780</th>\n",
       "      <td>FFFF53FED90942A8B9848507AFC86DA3</td>\n",
       "      <td>B</td>\n",
       "      <td>1</td>\n",
       "    </tr>\n",
       "    <tr>\n",
       "      <th>116781</th>\n",
       "      <td>FFFFC2B7BC7B47D99824B292CAB6E4E2</td>\n",
       "      <td>A</td>\n",
       "      <td>1</td>\n",
       "    </tr>\n",
       "  </tbody>\n",
       "</table>\n",
       "<p>116782 rows × 3 columns</p>\n",
       "</div>"
      ],
      "text/plain": [
       "                                 user_id sample_type  conv_to_contact_daily\n",
       "0       000015E6362C47CFBA851EA91D417F8B           A                      1\n",
       "1       0000FF6D0FAE419384034F249C4DC10B           B                      1\n",
       "2       00028A57EC044DA2ADD1F07F93296838           A                      1\n",
       "3       00028EA31D6D43E79DE5F9117DB7EE67           A                      1\n",
       "4       00039480581B409C96E9B8D979C06000           B                      1\n",
       "...                                  ...         ...                    ...\n",
       "116777  FFFD90AAF8304B71ADE6EFCD20F5484D           B                      0\n",
       "116778  FFFE9C57842D49528B500331871ED989           B                      1\n",
       "116779  FFFEF3D68226457AB8AEDA3145394370           B                      1\n",
       "116780  FFFF53FED90942A8B9848507AFC86DA3           B                      1\n",
       "116781  FFFFC2B7BC7B47D99824B292CAB6E4E2           A                      1\n",
       "\n",
       "[116782 rows x 3 columns]"
      ]
     },
     "execution_count": 33,
     "metadata": {},
     "output_type": "execute_result"
    }
   ],
   "source": [
    "df_exp"
   ]
  },
  {
   "cell_type": "code",
   "execution_count": 34,
   "id": "4ab58ce1-f955-43f4-aec5-285b923cedc6",
   "metadata": {},
   "outputs": [
    {
     "data": {
      "text/plain": [
       "B    58459\n",
       "A    58323\n",
       "Name: sample_type, dtype: int64"
      ]
     },
     "execution_count": 34,
     "metadata": {},
     "output_type": "execute_result"
    }
   ],
   "source": [
    "df_exp.sample_type.value_counts()"
   ]
  },
  {
   "cell_type": "code",
   "execution_count": 35,
   "id": "727abd68-89e3-4fa0-b635-7978d797fca1",
   "metadata": {},
   "outputs": [
    {
     "data": {
      "text/html": [
       "<div>\n",
       "<style scoped>\n",
       "    .dataframe tbody tr th:only-of-type {\n",
       "        vertical-align: middle;\n",
       "    }\n",
       "\n",
       "    .dataframe tbody tr th {\n",
       "        vertical-align: top;\n",
       "    }\n",
       "\n",
       "    .dataframe thead th {\n",
       "        text-align: right;\n",
       "    }\n",
       "</style>\n",
       "<table border=\"1\" class=\"dataframe\">\n",
       "  <thead>\n",
       "    <tr style=\"text-align: right;\">\n",
       "      <th></th>\n",
       "      <th>sample_type</th>\n",
       "      <th>conv_to_contact_daily</th>\n",
       "    </tr>\n",
       "  </thead>\n",
       "  <tbody>\n",
       "    <tr>\n",
       "      <th>0</th>\n",
       "      <td>A</td>\n",
       "      <td>0.881350</td>\n",
       "    </tr>\n",
       "    <tr>\n",
       "      <th>1</th>\n",
       "      <td>B</td>\n",
       "      <td>0.892437</td>\n",
       "    </tr>\n",
       "  </tbody>\n",
       "</table>\n",
       "</div>"
      ],
      "text/plain": [
       "  sample_type  conv_to_contact_daily\n",
       "0           A               0.881350\n",
       "1           B               0.892437"
      ]
     },
     "execution_count": 35,
     "metadata": {},
     "output_type": "execute_result"
    }
   ],
   "source": [
    "conv_res = df_exp.groupby('sample_type', as_index=False).agg({'conv_to_contact_daily': 'mean'})\n",
    "\n",
    "conv_res"
   ]
  },
  {
   "cell_type": "code",
   "execution_count": 36,
   "id": "b73abf59-35d0-4265-8dee-ca69bc19737e",
   "metadata": {},
   "outputs": [
    {
     "data": {
      "text/plain": [
       "0.011087024139181167"
      ]
     },
     "execution_count": 36,
     "metadata": {},
     "output_type": "execute_result"
    }
   ],
   "source": [
    "conv_res.conv_to_contact_daily[1] - conv_res.conv_to_contact_daily[0]"
   ]
  },
  {
   "cell_type": "markdown",
   "id": "dd7b0332-1c7c-457a-b7c4-71d87921b22d",
   "metadata": {
    "tags": []
   },
   "source": [
    "#### Task 9.  "
   ]
  },
  {
   "cell_type": "markdown",
   "id": "6b043d89-86bd-42cd-8c54-e2877a24927e",
   "metadata": {},
   "source": [
    "**Check the proportion in each group using a two-tailed z-test for proportion. And specify the z-statistic obtained in the test.** "
   ]
  },
  {
   "cell_type": "code",
   "execution_count": 37,
   "id": "70a51f60-c5a7-46d6-8d44-a86467371598",
   "metadata": {},
   "outputs": [],
   "source": [
    "grp_a = df_exp[df_exp['sample_type'] == 'A'].conv_to_contact_daily\n",
    "grp_b = df_exp[df_exp['sample_type'] == 'B'].conv_to_contact_daily"
   ]
  },
  {
   "cell_type": "code",
   "execution_count": 38,
   "id": "15c51926-bcb9-44e1-b9e3-e54f91b2cab5",
   "metadata": {},
   "outputs": [
    {
     "data": {
      "text/plain": [
       "-5.9814249972504445"
      ]
     },
     "execution_count": 38,
     "metadata": {},
     "output_type": "execute_result"
    }
   ],
   "source": [
    "count = [sum([x for x in grp_a if x > 0]), sum([x for x in grp_b if x > 0])]\n",
    "nobs = [len(grp_a), len(grp_b)]\n",
    "\n",
    "proportions_ztest(count, nobs)[0]"
   ]
  },
  {
   "cell_type": "markdown",
   "id": "bd5f9ee6-fcc0-485d-8aba-347b9815890e",
   "metadata": {},
   "source": [
    "#### Task 10. "
   ]
  },
  {
   "cell_type": "markdown",
   "id": "ba116db8-88ab-4871-8baf-53cbd00e9961",
   "metadata": {},
   "source": [
    "**Can we reject H0 if alpha = 0.05?**"
   ]
  },
  {
   "cell_type": "code",
   "execution_count": 39,
   "id": "fb434155-52f0-450b-bd4e-d36319d19310",
   "metadata": {},
   "outputs": [
    {
     "name": "stdout",
     "output_type": "stream",
     "text": [
      "Yes, we can reject H0!\n"
     ]
    }
   ],
   "source": [
    "if proportions_ztest(count, nobs)[1] < 0.05:\n",
    "    print('Yes, we can reject H0!')\n",
    "else:\n",
    "    print('We are not able to reject H0.')"
   ]
  },
  {
   "cell_type": "markdown",
   "id": "f06ffd51-4f15-42b9-ba66-78e140d0c20e",
   "metadata": {},
   "source": [
    "#### Task 11. "
   ]
  },
  {
   "cell_type": "markdown",
   "id": "31c62159-a8bf-4da8-89c6-4c8b53ee0215",
   "metadata": {},
   "source": [
    "**We have to check if there is a primacy effect on our data.**"
   ]
  },
  {
   "cell_type": "code",
   "execution_count": 40,
   "id": "4b3830ca-627e-405c-b9ce-a02c7ce1dd73",
   "metadata": {},
   "outputs": [],
   "source": [
    "to_plot = df.groupby(['day_of_test', 'sample_type'], as_index=False) \\\n",
    "    .agg({'conv_to_contact_daily': 'mean'})"
   ]
  },
  {
   "cell_type": "code",
   "execution_count": 41,
   "id": "0720c562-52bc-4eb0-8f22-d1910de64212",
   "metadata": {},
   "outputs": [
    {
     "data": {
      "image/png": "[encoded data removed]",
      "text/plain": [
       "<Figure size 1152x720 with 1 Axes>"
      ]
     },
     "metadata": {
      "needs_background": "light"
     },
     "output_type": "display_data"
    }
   ],
   "source": [
    "plt.figure(figsize=(16,10))\n",
    "\n",
    "sns.lineplot(data=to_plot, x='day_of_test', y='conv_to_contact_daily', hue='sample_type')\n",
    "plt.title('Checking for novelty effect.');"
   ]
  },
  {
   "cell_type": "markdown",
   "id": "de78c59b-b500-4c98-8d0b-0885ffec83a1",
   "metadata": {},
   "source": [
    "It looks like that we have a novelty effect in our data based on what we can see on the graph above. But we have to check it using a regression model. "
   ]
  },
  {
   "cell_type": "code",
   "execution_count": 42,
   "id": "d53e9789-b1fa-4dce-a92d-c76cbbc692ae",
   "metadata": {},
   "outputs": [],
   "source": [
    "days = to_plot.day_of_test.unique().tolist()\n",
    "conv_a_lst = []\n",
    "conv_b_lst = []\n",
    "\n",
    "for day in days:\n",
    "    temp_df = to_plot[to_plot['day_of_test'] == day]\n",
    "    conv_a_lst.append(temp_df.conv_to_contact_daily.values[0])\n",
    "    conv_b_lst.append(temp_df.conv_to_contact_daily.values[1])\n",
    "\n",
    "res_df = pd.DataFrame({\n",
    "    'day_of_test': [x + 1 for x in days],\n",
    "    'conv_a': conv_a_lst,\n",
    "    'conv_b': conv_b_lst\n",
    "})"
   ]
  },
  {
   "cell_type": "code",
   "execution_count": 43,
   "id": "5a0a3d69-923f-498a-a1fb-6e03775827c7",
   "metadata": {},
   "outputs": [],
   "source": [
    "res_df['delta'] = res_df['conv_b'] - res_df['conv_a']"
   ]
  },
  {
   "cell_type": "code",
   "execution_count": 44,
   "id": "6e74fbc7-3ca5-4c2c-b689-40509fd5960b",
   "metadata": {},
   "outputs": [
    {
     "data": {
      "text/html": [
       "<div>\n",
       "<style scoped>\n",
       "    .dataframe tbody tr th:only-of-type {\n",
       "        vertical-align: middle;\n",
       "    }\n",
       "\n",
       "    .dataframe tbody tr th {\n",
       "        vertical-align: top;\n",
       "    }\n",
       "\n",
       "    .dataframe thead th {\n",
       "        text-align: right;\n",
       "    }\n",
       "</style>\n",
       "<table border=\"1\" class=\"dataframe\">\n",
       "  <thead>\n",
       "    <tr style=\"text-align: right;\">\n",
       "      <th></th>\n",
       "      <th>day_of_test</th>\n",
       "      <th>conv_a</th>\n",
       "      <th>conv_b</th>\n",
       "      <th>delta</th>\n",
       "      <th>d_1</th>\n",
       "      <th>d_2</th>\n",
       "      <th>delta_pred</th>\n",
       "    </tr>\n",
       "  </thead>\n",
       "  <tbody>\n",
       "    <tr>\n",
       "      <th>0</th>\n",
       "      <td>1</td>\n",
       "      <td>0.801359</td>\n",
       "      <td>0.913524</td>\n",
       "      <td>0.112166</td>\n",
       "      <td>1.000000</td>\n",
       "      <td>1.000000</td>\n",
       "      <td>0.115254</td>\n",
       "    </tr>\n",
       "    <tr>\n",
       "      <th>1</th>\n",
       "      <td>2</td>\n",
       "      <td>0.774500</td>\n",
       "      <td>0.849515</td>\n",
       "      <td>0.075015</td>\n",
       "      <td>0.784584</td>\n",
       "      <td>0.250000</td>\n",
       "      <td>0.058938</td>\n",
       "    </tr>\n",
       "    <tr>\n",
       "      <th>2</th>\n",
       "      <td>3</td>\n",
       "      <td>0.812389</td>\n",
       "      <td>0.850587</td>\n",
       "      <td>0.038198</td>\n",
       "      <td>0.680781</td>\n",
       "      <td>0.111111</td>\n",
       "      <td>0.042166</td>\n",
       "    </tr>\n",
       "    <tr>\n",
       "      <th>3</th>\n",
       "      <td>4</td>\n",
       "      <td>0.789817</td>\n",
       "      <td>0.821426</td>\n",
       "      <td>0.031609</td>\n",
       "      <td>0.615572</td>\n",
       "      <td>0.062500</td>\n",
       "      <td>0.033429</td>\n",
       "    </tr>\n",
       "    <tr>\n",
       "      <th>4</th>\n",
       "      <td>5</td>\n",
       "      <td>0.811692</td>\n",
       "      <td>0.832643</td>\n",
       "      <td>0.020951</td>\n",
       "      <td>0.569325</td>\n",
       "      <td>0.040000</td>\n",
       "      <td>0.027791</td>\n",
       "    </tr>\n",
       "  </tbody>\n",
       "</table>\n",
       "</div>"
      ],
      "text/plain": [
       "   day_of_test    conv_a    conv_b     delta       d_1       d_2  delta_pred\n",
       "0            1  0.801359  0.913524  0.112166  1.000000  1.000000    0.115254\n",
       "1            2  0.774500  0.849515  0.075015  0.784584  0.250000    0.058938\n",
       "2            3  0.812389  0.850587  0.038198  0.680781  0.111111    0.042166\n",
       "3            4  0.789817  0.821426  0.031609  0.615572  0.062500    0.033429\n",
       "4            5  0.811692  0.832643  0.020951  0.569325  0.040000    0.027791"
      ]
     },
     "execution_count": 44,
     "metadata": {},
     "output_type": "execute_result"
    }
   ],
   "source": [
    "# polynomial coefficients of the regression calibration equation\n",
    "alpha = 0.35\n",
    "gamma = 2\n",
    "\n",
    "# regression parameters (using LinkedIn approach)\n",
    "res_df['d_1'] = 1 / (res_df['day_of_test']**alpha)\n",
    "res_df['d_2'] = 1 / (res_df['day_of_test']**gamma)\n",
    "\n",
    "# train and test data\n",
    "x = res_df[['d_1','d_2']].values\n",
    "Y = res_df['delta'].values\n",
    "\n",
    "# initializing and training our model\n",
    "lin_reg = LinearRegression(fit_intercept = True)\n",
    "lin_reg.fit(x, Y)\n",
    "\n",
    "# predicting the delta values using the fitted linear regression model\n",
    "res_df['delta_pred'] = lin_reg.predict(x)\n",
    "\n",
    "res_df.head()"
   ]
  },
  {
   "cell_type": "code",
   "execution_count": 45,
   "id": "7b9244b4-2476-426e-8005-f9742913c474",
   "metadata": {},
   "outputs": [
    {
     "data": {
      "image/png": "[encoded data removed]",
      "text/plain": [
       "<Figure size 1080x576 with 2 Axes>"
      ]
     },
     "metadata": {
      "needs_background": "light"
     },
     "output_type": "display_data"
    }
   ],
   "source": [
    "fig, ax1 = plt.subplots(figsize=(15, 8))\n",
    "\n",
    "# second axis for deltas\n",
    "ax2 = ax1.twinx()\n",
    "\n",
    "ax1.plot('day_of_test', 'conv_a', data=res_df, marker='o', markerfacecolor='blue', markersize=3, color='skyblue', linewidth=2)\n",
    "ax1.plot('day_of_test', 'conv_b', data=res_df, marker='o', markerfacecolor='olive', markersize=3, color='olive', linewidth=2)\n",
    "ax2.plot('day_of_test', 'delta', data=res_df, marker='o', color='red', linewidth=0)\n",
    "ax2.plot('day_of_test', 'delta_pred', data=res_df, marker='', color='red', linewidth=1)\n",
    "\n",
    "plt.legend()\n",
    "plt.show()"
   ]
  },
  {
   "cell_type": "code",
   "execution_count": 46,
   "id": "844ceccc-51a6-4d45-8b71-d72aca32d597",
   "metadata": {},
   "outputs": [
    {
     "data": {
      "text/plain": [
       "0.9528913361460096"
      ]
     },
     "execution_count": 46,
     "metadata": {},
     "output_type": "execute_result"
    }
   ],
   "source": [
    "r2 = r2_score(Y, res_df.delta_pred)\n",
    "\n",
    "r2"
   ]
  },
  {
   "cell_type": "code",
   "execution_count": 47,
   "id": "b70df528-cfeb-4879-ab16-66caf1557c47",
   "metadata": {},
   "outputs": [
    {
     "name": "stdout",
     "output_type": "stream",
     "text": [
      "There is a novelty effect in data!\n"
     ]
    }
   ],
   "source": [
    "if r2 >= 0.8:\n",
    "    print('There is a novelty effect in data!')\n",
    "else:\n",
    "    print('There is no novelty effect in our data.')"
   ]
  }
 ],
 "metadata": {
  "kernelspec": {
   "display_name": "Python 3 (ipykernel)",
   "language": "python",
   "name": "python3"
  },
  "language_info": {
   "codemirror_mode": {
    "name": "ipython",
    "version": 3
   },
   "file_extension": ".py",
   "mimetype": "text/x-python",
   "name": "python",
   "nbconvert_exporter": "python",
   "pygments_lexer": "ipython3",
   "version": "3.8.10"
  }
 },
 "nbformat": 4,
 "nbformat_minor": 5
}
